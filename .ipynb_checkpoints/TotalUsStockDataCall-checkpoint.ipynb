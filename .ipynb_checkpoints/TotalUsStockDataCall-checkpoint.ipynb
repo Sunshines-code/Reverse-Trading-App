{
 "cells": [
  {
   "cell_type": "code",
   "execution_count": 5,
   "id": "2bade165",
   "metadata": {},
   "outputs": [],
   "source": [
    "#This file pulls the data needed to sort the stocks tradeable by Alpacca. It pulls info on all NYSE and NASDAQ stocks.\n",
    "import pandas as pd\n",
    "import json\n",
    "import requests\n",
    "from pprint import pprint\n",
    "import alpaca_trade_api as tradeapi\n",
    "from alpaca_trade_api.rest import REST, TimeFrame\n",
    "from time import sleep\n",
    "base_url = 'https://data.alpaca.markets/v2/stocks'\n",
    "api_key = 'key'\n",
    "secret_key = 'skey'\n",
    "api = tradeapi.REST(api_key, secret_key,base_url)\n",
    "df = pd.read_csv('./Alpacca_NYSE_NASDAQ_List.csv')\n",
    "bdf = pd.DataFrame(df)\n",
    "tckr = bdf['Tckr'].tolist()\n"
   ]
  },
  {
   "cell_type": "code",
   "execution_count": 13,
   "id": "22f22d11",
   "metadata": {},
   "outputs": [
    {
     "name": "stdout",
     "output_type": "stream",
     "text": [
      "400\n"
     ]
    }
   ],
   "source": [
    "price_info= []\n",
    "count = 0\n",
    "d = 0\n",
    "for i in tckr:\n",
    "    try:\n",
    "        \n",
    "        barset = api.get_bars(i, TimeFrame.Day, \"2020-08-14\",\"2022-03-16\", adjustment='raw')\n",
    "        d=0\n",
    "        for f in range(len(barset[i])):         \n",
    "            try:\n",
    "                tckr_infoopening = barset[i][d].o\n",
    "                tckr_infoClosing = barset[i][d].c\n",
    "                tckr_infoHigh = barset[i][d].h\n",
    "                tckr_infoLow = barset[i][d].l \n",
    "                tckr_infoVol = barset[i][d].v \n",
    "                d+=1\n",
    "                tckr_infoNHigh = barset[i][d].h\n",
    "\n",
    "\n",
    "                info = {'Ticker':f'{i}',\n",
    "                                'opening':tckr_infoopening,\n",
    "                                'closing':tckr_infoClosing,\n",
    "                                'NextHigh':tckr_infoNHigh,\n",
    "                                'high':tckr_infoHigh,\n",
    "                                'low':tckr_infoLow,\n",
    "                                'vol':tckr_infoVol}\n",
    "                price_info.append(info)\n",
    "            except:\n",
    "                pass\n",
    "\n",
    "        pprint(i)\n",
    "\n",
    "        count+=1\n",
    "    except:\n",
    "        count+=1\n",
    "        \n",
    "        print(f'result error{i}')\n",
    "        pass"
   ]
  },
  {
   "cell_type": "code",
   "execution_count": null,
   "id": "4af2833a",
   "metadata": {},
   "outputs": [],
   "source": [
    "df = pd.DataFrame(price_info)\n",
    "df"
   ]
  },
  {
   "cell_type": "code",
   "execution_count": null,
   "id": "36fe9f55",
   "metadata": {},
   "outputs": [],
   "source": [
    "df.to_csv(r'../Machine_learning/total_us_stock_data400_daysccV.csv', index = False)"
   ]
  },
  {
   "cell_type": "code",
   "execution_count": null,
   "id": "a0f38385",
   "metadata": {},
   "outputs": [],
   "source": []
  }
 ],
 "metadata": {
  "kernelspec": {
   "display_name": "Python 3",
   "language": "python",
   "name": "python3"
  },
  "language_info": {
   "codemirror_mode": {
    "name": "ipython",
    "version": 3
   },
   "file_extension": ".py",
   "mimetype": "text/x-python",
   "name": "python",
   "nbconvert_exporter": "python",
   "pygments_lexer": "ipython3",
   "version": "3.8.11"
  }
 },
 "nbformat": 4,
 "nbformat_minor": 5
}
