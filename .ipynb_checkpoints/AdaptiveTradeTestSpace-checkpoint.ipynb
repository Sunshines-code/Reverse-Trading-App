{
 "cells": [
  {
   "cell_type": "code",
   "execution_count": null,
   "id": "d5a2204e",
   "metadata": {},
   "outputs": [],
   "source": [
    "#this file is for creating the adaptive trading section and running it through 90 days of simulated trading. \n",
    "from sklearn.linear_model import LinearRegression, BayesianRidge, Lasso, Ridge\n",
    "from sklearn.model_selection import train_test_split\n",
    "from sklearn.preprocessing import StandardScaler\n",
    "from sklearn.metrics import mean_squared_error\n",
    "import json\n",
    "import pprint as pprint\n",
    "import pandas as pd\n",
    "from joblib import dump, load"
   ]
  },
  {
   "cell_type": "code",
   "execution_count": null,
   "id": "c741ae49",
   "metadata": {},
   "outputs": [],
   "source": [
    "model_list=['m1','m2','m3','m4']\n"
   ]
  },
  {
   "cell_type": "code",
   "execution_count": null,
   "id": "ab48d1dd",
   "metadata": {},
   "outputs": [],
   "source": [
    "data2 = []\n",
    "    q=0\n",
    "    c =0\n",
    "    change = 0\n",
    "    NDays = 0\n",
    "    tchange = 0\n",
    "\n",
    "    for i in range(1,90):\n",
    "        for t in label_list:\n",
    "        model = load(f'./V4-2000/{t}Model.joblib')\n",
    "        X_scaler = load(f'./V4-2000/{t}X_scaler.joblib') \n",
    "        y_scaler = load(f'./V4-2000/{t}y_scaler.joblib')\n",
    "        df = pd.read_csv(f'./V4-2000/{t}MAData.csv')\n",
    "        df = pd.DataFrame(df)\n",
    "        df = df.sort_values(by='day', ascending=True)\n",
    "        df =df.reset_index(drop=True)\n",
    "            try:\n",
    "                b = (i*50 - 50)+c\n",
    "                e = (i*49)+c\n",
    "                cdf = df.loc[b:e]\n",
    "#                 ldf = cdf[['opening', 'closing', 'high', 'low']]\n",
    "#                 sc_new_in = X_scaler.transform(ldf)\n",
    "#                 new_out = model.predict(sc_new_in)\n",
    "#                 new_out = y_scaler.inverse_transform(new_out)\n",
    "#                 cdf[\"next_high\"]= new_out\n",
    "#                 cdf[\"change\"]= cdf['next_high']/cdf[\"closing\"]*100-100\n",
    "#                 rdf = cdf.sort_values(by=['change'], axis=0, ignore_index=True, inplace=False, ascending = False)\n",
    "#                 actHigh = rdf.loc[0,].NextHigh\n",
    "#                 closing = rdf.loc[0,].closing\n",
    "#                 if actHigh >= closing:\n",
    "#                     dif = actHigh/closing*100-100\n",
    "#                     change = change +dif\n",
    "#                     tchange = tchange + dif\n",
    "#                 else:\n",
    "#                     dif = actHigh/closing*100-100\n",
    "#                     change-=1\n",
    "#                     NDays +=1\n",
    "#                     tchange = tchange + dif\n",
    "#     #             print(dif)\n",
    "\n",
    "                c+=1\n",
    "            except:\n",
    "#                 print(i)\n",
    "#                 pass\n",
    "#         info = {\"model\": f\"{t}model\",\n",
    "#                'increase':change,\n",
    "#                \"Ndays\":NDays,\n",
    "#                \"ActChange\":tchange}\n",
    "#         print(label_list[q])\n",
    "#         data2.append(info)\n",
    "\n",
    "        q+=1"
   ]
  }
 ],
 "metadata": {
  "kernelspec": {
   "display_name": "Python 3",
   "language": "python",
   "name": "python3"
  },
  "language_info": {
   "codemirror_mode": {
    "name": "ipython",
    "version": 3
   },
   "file_extension": ".py",
   "mimetype": "text/x-python",
   "name": "python",
   "nbconvert_exporter": "python",
   "pygments_lexer": "ipython3",
   "version": "3.8.11"
  }
 },
 "nbformat": 4,
 "nbformat_minor": 5
}
