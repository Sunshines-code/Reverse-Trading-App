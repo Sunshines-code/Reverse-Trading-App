{
 "cells": [
  {
   "cell_type": "code",
   "execution_count": 1,
   "id": "2bade165",
   "metadata": {},
   "outputs": [],
   "source": [
    "# I have another API call for 90 days workth of data. This is used to let the models go through 90 days of trading in\n",
    "#model Assessor file.\n",
    "import pandas as pd\n",
    "import json\n",
    "import requests\n",
    "from pprint import pprint\n",
    "import alpaca_trade_api as tradeapi\n",
    "from time import sleep\n",
    "\n",
    "base_url = 'https://paper-api.alpaca.markets'\n",
    "api_key = 'API key'\n",
    "secret_key = 'Secret Key'\n",
    "api = tradeapi.REST(api_key, secret_key,base_url)\n"
   ]
  },
  {
   "cell_type": "code",
   "execution_count": 2,
   "id": "6fd989a2",
   "metadata": {},
   "outputs": [],
   "source": [
    "label_list= ['V4_1', 'V4_2', 'V4_3', 'V4_4', 'V4_5', 'V4_6', 'V4_7', 'V4_8', 'V4_9', 'V4_10', 'V4_11', 'V4_12', 'V4_13', 'V4_14', 'V4_15', 'V4_16', 'V4_17', 'V4_18', 'V4_19', 'V4_20', 'V4_21', 'V4_22', 'V4_23', 'V4_24', 'V4_25', 'V4_26', 'V4_27', 'V4_28', 'V4_29', 'V4_30', 'V4_31', 'V4_32', 'V4_33', 'V4_34', 'V4_35', 'V4_36', 'V4_37', 'V4_38', 'V4_39', 'V4_40', 'V4_41', 'V4_42', 'V4_43', 'V4_44', 'V4_45', 'V4_46', 'V4_47', 'V4_48', 'V4_49', 'V4_50', 'V4_51', 'V4_52', 'V4_53', 'V4_54', 'V4_55', 'V4_56', 'V4_57', 'V4_58', 'V4_59', 'V4_60', 'V4_61', 'V4_62', 'V4_63', 'V4_64', 'V4_65', 'V4_66', 'V4_67', 'V4_68', 'V4_69', 'V4_70', 'V4_71', 'V4_72', 'V4_73', 'V4_74', 'V4_75', 'V4_76', 'V4_77', 'V4_78', 'V4_79', 'V4_80', 'V4_81', 'V4_82', 'V4_83', 'V4_84', 'V4_85', 'V4_86', 'V4_87', 'V4_88', 'V4_89', 'V4_90', 'V4_91', 'V4_92', 'V4_93', 'V4_94', 'V4_95', 'V4_96', 'V4_97', 'V4_98', 'V4_99', 'V4_100', 'V4_101', 'V4_102', 'V4_103', 'V4_104', 'V4_105', 'V4_106', 'V4_107', 'V4_108', 'V4_109', 'V4_110', 'V4_111', 'V4_112', 'V4_113', 'V4_114', 'V4_115', 'V4_116', 'V4_117', 'V4_118', 'V4_119', 'V4_120', 'V4_121', 'V4_122', 'V4_123', 'V4_124', 'V4_125', 'V4_126', 'V4_127', 'V4_128', 'V4_129', 'V4_130', 'V4_131', 'V4_132', 'V4_133', 'V4_134', 'V4_135', 'V4_136', 'V4_137', 'V4_138', 'V4_139', 'V4_140', 'V4_141', 'V4_142', 'V4_143', 'V4_144', 'V4_145', 'V4_146', 'V4_147', 'V4_148', 'V4_149', 'V4_150', 'V4_151', 'V4_152', 'V4_153', 'V4_154', 'V4_155', 'V4_156', 'V4_157', 'V4_158', 'V4_159', 'V4_160', 'V4_161', 'V4_162', 'V4_163', 'V4_164', 'V4_165', 'V4_166', 'V4_167', 'V4_168', 'V4_169', 'V4_170', 'V4_171', 'V4_172', 'V4_173', 'V4_174', 'V4_175', 'V4_176', 'V4_177', 'V4_178', 'V4_179', 'V4_180', 'V4_181', 'V4_182', 'V4_183', 'V4_184', 'V4_185', 'V4_186', 'V4_187', 'V4_188', 'V4_189', 'V4_190', 'V4_191', 'V4_192', 'V4_193', 'V4_194', 'V4_195', 'V4_196', 'V4_197', 'V4_198', 'V4_199', 'V4_200', 'V4_201', 'V4_202', 'V4_203', 'V4_204', 'V4_205', 'V4_206', 'V4_207', 'V4_208', 'V4_209', 'V4_210', 'V4_211', 'V4_212', 'V4_213', 'V4_214', 'V4_215', 'V4_216', 'V4_217', 'V4_218', 'V4_219', 'V4_220', 'V4_221', 'V4_222', 'V4_223', 'V4_224', 'V4_225', 'V4_226', 'V4_227', 'V4_228', 'V4_229', 'V4_230', 'V4_231', 'V4_232', 'V4_233', 'V4_234', 'V4_235', 'V4_236', 'V4_237', 'V4_238', 'V4_239', 'V4_240', 'V4_241', 'V4_242', 'V4_243', 'V4_244', 'V4_245', 'V4_246', 'V4_247', 'V4_248', 'V4_249', 'V4_250', 'V4_251', 'V4_252', 'V4_253', 'V4_254', 'V4_255', 'V4_256', 'V4_257', 'V4_258', 'V4_259', 'V4_260', 'V4_261', 'V4_262', 'V4_263', 'V4_264', 'V4_265', 'V4_266', 'V4_267', 'V4_268', 'V4_269', 'V4_270', 'V4_271', 'V4_272', 'V4_273', 'V4_274', 'V4_275', 'V4_276', 'V4_277', 'V4_278', 'V4_279', 'V4_280', 'V4_281', 'V4_282', 'V4_283', 'V4_284', 'V4_285', 'V4_286', 'V4_287', 'V4_288', 'V4_289', 'V4_290', 'V4_291', 'V4_292', 'V4_293', 'V4_294', 'V4_295', 'V4_296', 'V4_297', 'V4_298', 'V4_299', 'V4_300', 'V4_301', 'V4_302', 'V4_303', 'V4_304', 'V4_305', 'V4_306', 'V4_307', 'V4_308', 'V4_309', 'V4_310', 'V4_311', 'V4_312', 'V4_313', 'V4_314', 'V4_315', 'V4_316', 'V4_317', 'V4_318', 'V4_319', 'V4_320', 'V4_321', 'V4_322', 'V4_323', 'V4_324', 'V4_325', 'V4_326', 'V4_327', 'V4_328', 'V4_329', 'V4_330', 'V4_331', 'V4_332', 'V4_333', 'V4_334', 'V4_335', 'V4_336', 'V4_337', 'V4_338', 'V4_339', 'V4_340', 'V4_341', 'V4_342', 'V4_343', 'V4_344', 'V4_345', 'V4_346', 'V4_347', 'V4_348', 'V4_349', 'V4_350', 'V4_351', 'V4_352', 'V4_353', 'V4_354', 'V4_355', 'V4_356', 'V4_357', 'V4_358', 'V4_359', 'V4_360', 'V4_361', 'V4_362', 'V4_363', 'V4_364', 'V4_365', 'V4_366', 'V4_367', 'V4_368', 'V4_369', 'V4_370', 'V4_371', 'V4_372', 'V4_373', 'V4_374', 'V4_375', 'V4_376', 'V4_377', 'V4_378', 'V4_379', 'V4_380', 'V4_381', 'V4_382', 'V4_383', 'V4_384', 'V4_385', 'V4_386', 'V4_387', 'V4_388', 'V4_389', 'V4_390', 'V4_391', 'V4_392', 'V4_393', 'V4_394', 'V4_395', 'V4_396', 'V4_397', 'V4_398', 'V4_399', 'V4_400']\n"
   ]
  },
  {
   "cell_type": "code",
   "execution_count": null,
   "id": "b5d70745",
   "metadata": {},
   "outputs": [],
   "source": []
  },
  {
   "cell_type": "code",
   "execution_count": 5,
   "id": "22f22d11",
   "metadata": {},
   "outputs": [
    {
     "name": "stdout",
     "output_type": "stream",
     "text": [
      "./V4-2000/V4_1MAData.csv\n",
      "./V4-2000/V4_2MAData.csv\n",
      "./V4-2000/V4_3MAData.csv\n",
      "./V4-2000/V4_4MAData.csv\n",
      "./V4-2000/V4_5MAData.csv\n",
      "./V4-2000/V4_6MAData.csv\n",
      "./V4-2000/V4_7MAData.csv\n",
      "./V4-2000/V4_8MAData.csv\n",
      "./V4-2000/V4_9MAData.csv\n",
      "./V4-2000/V4_10MAData.csv\n",
      "./V4-2000/V4_11MAData.csv\n",
      "./V4-2000/V4_12MAData.csv\n",
      "./V4-2000/V4_13MAData.csv\n",
      "./V4-2000/V4_14MAData.csv\n"
     ]
    },
    {
     "name": "stderr",
     "output_type": "stream",
     "text": [
      "sleep 3 seconds and retrying https://data.alpaca.markets/v1/bars/day 3 more time(s)...\n"
     ]
    },
    {
     "name": "stdout",
     "output_type": "stream",
     "text": [
      "./V4-2000/V4_15MAData.csv\n"
     ]
    },
    {
     "name": "stderr",
     "output_type": "stream",
     "text": [
      "sleep 3 seconds and retrying https://data.alpaca.markets/v1/bars/day 3 more time(s)...\n",
      "sleep 3 seconds and retrying https://data.alpaca.markets/v1/bars/day 3 more time(s)...\n",
      "sleep 3 seconds and retrying https://data.alpaca.markets/v1/bars/day 3 more time(s)...\n",
      "sleep 3 seconds and retrying https://data.alpaca.markets/v1/bars/day 3 more time(s)...\n"
     ]
    },
    {
     "name": "stdout",
     "output_type": "stream",
     "text": [
      "./V4-2000/V4_16MAData.csv\n",
      "./V4-2000/V4_17MAData.csv\n",
      "./V4-2000/V4_18MAData.csv\n"
     ]
    },
    {
     "name": "stderr",
     "output_type": "stream",
     "text": [
      "sleep 3 seconds and retrying https://data.alpaca.markets/v1/bars/day 3 more time(s)...\n",
      "sleep 3 seconds and retrying https://data.alpaca.markets/v1/bars/day 3 more time(s)...\n"
     ]
    },
    {
     "name": "stdout",
     "output_type": "stream",
     "text": [
      "./V4-2000/V4_19MAData.csv\n"
     ]
    },
    {
     "name": "stderr",
     "output_type": "stream",
     "text": [
      "sleep 3 seconds and retrying https://data.alpaca.markets/v1/bars/day 3 more time(s)...\n",
      "sleep 3 seconds and retrying https://data.alpaca.markets/v1/bars/day 3 more time(s)...\n",
      "sleep 3 seconds and retrying https://data.alpaca.markets/v1/bars/day 3 more time(s)...\n"
     ]
    },
    {
     "name": "stdout",
     "output_type": "stream",
     "text": [
      "./V4-2000/V4_20MAData.csv\n",
      "./V4-2000/V4_21MAData.csv\n",
      "./V4-2000/V4_22MAData.csv\n",
      "./V4-2000/V4_23MAData.csv\n",
      "./V4-2000/V4_24MAData.csv\n",
      "./V4-2000/V4_25MAData.csv\n",
      "./V4-2000/V4_26MAData.csv\n",
      "./V4-2000/V4_27MAData.csv\n",
      "./V4-2000/V4_28MAData.csv\n",
      "./V4-2000/V4_29MAData.csv\n",
      "./V4-2000/V4_30MAData.csv\n",
      "./V4-2000/V4_31MAData.csv\n"
     ]
    },
    {
     "name": "stderr",
     "output_type": "stream",
     "text": [
      "sleep 3 seconds and retrying https://data.alpaca.markets/v1/bars/day 3 more time(s)...\n",
      "sleep 3 seconds and retrying https://data.alpaca.markets/v1/bars/day 3 more time(s)...\n",
      "sleep 3 seconds and retrying https://data.alpaca.markets/v1/bars/day 3 more time(s)...\n"
     ]
    },
    {
     "name": "stdout",
     "output_type": "stream",
     "text": [
      "./V4-2000/V4_32MAData.csv\n"
     ]
    },
    {
     "name": "stderr",
     "output_type": "stream",
     "text": [
      "sleep 3 seconds and retrying https://data.alpaca.markets/v1/bars/day 3 more time(s)...\n",
      "sleep 3 seconds and retrying https://data.alpaca.markets/v1/bars/day 3 more time(s)...\n",
      "sleep 3 seconds and retrying https://data.alpaca.markets/v1/bars/day 3 more time(s)...\n"
     ]
    },
    {
     "name": "stdout",
     "output_type": "stream",
     "text": [
      "./V4-2000/V4_33MAData.csv\n"
     ]
    },
    {
     "name": "stderr",
     "output_type": "stream",
     "text": [
      "sleep 3 seconds and retrying https://data.alpaca.markets/v1/bars/day 3 more time(s)...\n",
      "sleep 3 seconds and retrying https://data.alpaca.markets/v1/bars/day 3 more time(s)...\n",
      "sleep 3 seconds and retrying https://data.alpaca.markets/v1/bars/day 3 more time(s)...\n"
     ]
    },
    {
     "name": "stdout",
     "output_type": "stream",
     "text": [
      "./V4-2000/V4_34MAData.csv\n",
      "./V4-2000/V4_35MAData.csv\n",
      "./V4-2000/V4_36MAData.csv\n"
     ]
    },
    {
     "name": "stderr",
     "output_type": "stream",
     "text": [
      "sleep 3 seconds and retrying https://data.alpaca.markets/v1/bars/day 3 more time(s)...\n",
      "sleep 3 seconds and retrying https://data.alpaca.markets/v1/bars/day 3 more time(s)...\n",
      "sleep 3 seconds and retrying https://data.alpaca.markets/v1/bars/day 3 more time(s)...\n"
     ]
    },
    {
     "name": "stdout",
     "output_type": "stream",
     "text": [
      "./V4-2000/V4_37MAData.csv\n"
     ]
    },
    {
     "name": "stderr",
     "output_type": "stream",
     "text": [
      "sleep 3 seconds and retrying https://data.alpaca.markets/v1/bars/day 3 more time(s)...\n",
      "sleep 3 seconds and retrying https://data.alpaca.markets/v1/bars/day 3 more time(s)...\n"
     ]
    },
    {
     "name": "stdout",
     "output_type": "stream",
     "text": [
      "./V4-2000/V4_38MAData.csv\n",
      "./V4-2000/V4_39MAData.csv\n",
      "./V4-2000/V4_40MAData.csv\n"
     ]
    },
    {
     "name": "stderr",
     "output_type": "stream",
     "text": [
      "sleep 3 seconds and retrying https://data.alpaca.markets/v1/bars/day 3 more time(s)...\n",
      "sleep 3 seconds and retrying https://data.alpaca.markets/v1/bars/day 3 more time(s)...\n",
      "sleep 3 seconds and retrying https://data.alpaca.markets/v1/bars/day 3 more time(s)...\n",
      "sleep 3 seconds and retrying https://data.alpaca.markets/v1/bars/day 3 more time(s)...\n"
     ]
    },
    {
     "name": "stdout",
     "output_type": "stream",
     "text": [
      "./V4-2000/V4_41MAData.csv\n"
     ]
    },
    {
     "name": "stderr",
     "output_type": "stream",
     "text": [
      "sleep 3 seconds and retrying https://data.alpaca.markets/v1/bars/day 3 more time(s)...\n"
     ]
    },
    {
     "name": "stdout",
     "output_type": "stream",
     "text": [
      "./V4-2000/V4_42MAData.csv\n",
      "./V4-2000/V4_43MAData.csv\n",
      "./V4-2000/V4_44MAData.csv\n",
      "./V4-2000/V4_45MAData.csv\n",
      "./V4-2000/V4_46MAData.csv\n",
      "./V4-2000/V4_47MAData.csv\n",
      "./V4-2000/V4_48MAData.csv\n",
      "./V4-2000/V4_49MAData.csv\n",
      "./V4-2000/V4_50MAData.csv\n",
      "./V4-2000/V4_51MAData.csv\n",
      "./V4-2000/V4_52MAData.csv\n",
      "./V4-2000/V4_53MAData.csv\n"
     ]
    },
    {
     "name": "stderr",
     "output_type": "stream",
     "text": [
      "sleep 3 seconds and retrying https://data.alpaca.markets/v1/bars/day 3 more time(s)...\n",
      "sleep 3 seconds and retrying https://data.alpaca.markets/v1/bars/day 3 more time(s)...\n",
      "sleep 3 seconds and retrying https://data.alpaca.markets/v1/bars/day 3 more time(s)...\n",
      "sleep 3 seconds and retrying https://data.alpaca.markets/v1/bars/day 3 more time(s)...\n"
     ]
    },
    {
     "name": "stdout",
     "output_type": "stream",
     "text": [
      "./V4-2000/V4_54MAData.csv\n"
     ]
    },
    {
     "name": "stderr",
     "output_type": "stream",
     "text": [
      "sleep 3 seconds and retrying https://data.alpaca.markets/v1/bars/day 3 more time(s)...\n",
      "sleep 3 seconds and retrying https://data.alpaca.markets/v1/bars/day 3 more time(s)...\n",
      "sleep 3 seconds and retrying https://data.alpaca.markets/v1/bars/day 3 more time(s)...\n"
     ]
    },
    {
     "name": "stdout",
     "output_type": "stream",
     "text": [
      "./V4-2000/V4_55MAData.csv\n"
     ]
    },
    {
     "name": "stderr",
     "output_type": "stream",
     "text": [
      "sleep 3 seconds and retrying https://data.alpaca.markets/v1/bars/day 3 more time(s)...\n",
      "sleep 3 seconds and retrying https://data.alpaca.markets/v1/bars/day 3 more time(s)...\n",
      "sleep 3 seconds and retrying https://data.alpaca.markets/v1/bars/day 3 more time(s)...\n",
      "sleep 3 seconds and retrying https://data.alpaca.markets/v1/bars/day 3 more time(s)...\n"
     ]
    },
    {
     "name": "stdout",
     "output_type": "stream",
     "text": [
      "./V4-2000/V4_56MAData.csv\n"
     ]
    },
    {
     "name": "stderr",
     "output_type": "stream",
     "text": [
      "sleep 3 seconds and retrying https://data.alpaca.markets/v1/bars/day 3 more time(s)...\n",
      "sleep 3 seconds and retrying https://data.alpaca.markets/v1/bars/day 3 more time(s)...\n",
      "sleep 3 seconds and retrying https://data.alpaca.markets/v1/bars/day 3 more time(s)...\n",
      "sleep 3 seconds and retrying https://data.alpaca.markets/v1/bars/day 3 more time(s)...\n"
     ]
    },
    {
     "name": "stdout",
     "output_type": "stream",
     "text": [
      "./V4-2000/V4_57MAData.csv\n"
     ]
    },
    {
     "name": "stderr",
     "output_type": "stream",
     "text": [
      "sleep 3 seconds and retrying https://data.alpaca.markets/v1/bars/day 3 more time(s)...\n",
      "sleep 3 seconds and retrying https://data.alpaca.markets/v1/bars/day 3 more time(s)...\n",
      "sleep 3 seconds and retrying https://data.alpaca.markets/v1/bars/day 3 more time(s)...\n",
      "sleep 3 seconds and retrying https://data.alpaca.markets/v1/bars/day 3 more time(s)...\n"
     ]
    },
    {
     "name": "stdout",
     "output_type": "stream",
     "text": [
      "./V4-2000/V4_58MAData.csv\n"
     ]
    },
    {
     "name": "stderr",
     "output_type": "stream",
     "text": [
      "sleep 3 seconds and retrying https://data.alpaca.markets/v1/bars/day 3 more time(s)...\n",
      "sleep 3 seconds and retrying https://data.alpaca.markets/v1/bars/day 3 more time(s)...\n",
      "sleep 3 seconds and retrying https://data.alpaca.markets/v1/bars/day 3 more time(s)...\n"
     ]
    },
    {
     "name": "stdout",
     "output_type": "stream",
     "text": [
      "./V4-2000/V4_59MAData.csv\n",
      "./V4-2000/V4_60MAData.csv\n",
      "./V4-2000/V4_61MAData.csv\n",
      "./V4-2000/V4_62MAData.csv\n",
      "./V4-2000/V4_63MAData.csv\n",
      "./V4-2000/V4_64MAData.csv\n",
      "./V4-2000/V4_65MAData.csv\n",
      "./V4-2000/V4_66MAData.csv\n",
      "./V4-2000/V4_67MAData.csv\n",
      "./V4-2000/V4_68MAData.csv\n",
      "./V4-2000/V4_69MAData.csv\n",
      "./V4-2000/V4_70MAData.csv\n",
      "./V4-2000/V4_71MAData.csv\n",
      "./V4-2000/V4_72MAData.csv\n",
      "./V4-2000/V4_73MAData.csv\n",
      "./V4-2000/V4_74MAData.csv\n"
     ]
    },
    {
     "name": "stderr",
     "output_type": "stream",
     "text": [
      "sleep 3 seconds and retrying https://data.alpaca.markets/v1/bars/day 3 more time(s)...\n",
      "sleep 3 seconds and retrying https://data.alpaca.markets/v1/bars/day 3 more time(s)...\n",
      "sleep 3 seconds and retrying https://data.alpaca.markets/v1/bars/day 3 more time(s)...\n"
     ]
    },
    {
     "name": "stdout",
     "output_type": "stream",
     "text": [
      "./V4-2000/V4_75MAData.csv\n"
     ]
    },
    {
     "name": "stderr",
     "output_type": "stream",
     "text": [
      "sleep 3 seconds and retrying https://data.alpaca.markets/v1/bars/day 3 more time(s)...\n",
      "sleep 3 seconds and retrying https://data.alpaca.markets/v1/bars/day 3 more time(s)...\n",
      "sleep 3 seconds and retrying https://data.alpaca.markets/v1/bars/day 3 more time(s)...\n",
      "sleep 3 seconds and retrying https://data.alpaca.markets/v1/bars/day 3 more time(s)...\n"
     ]
    },
    {
     "name": "stdout",
     "output_type": "stream",
     "text": [
      "./V4-2000/V4_76MAData.csv\n"
     ]
    },
    {
     "name": "stderr",
     "output_type": "stream",
     "text": [
      "sleep 3 seconds and retrying https://data.alpaca.markets/v1/bars/day 3 more time(s)...\n",
      "sleep 3 seconds and retrying https://data.alpaca.markets/v1/bars/day 3 more time(s)...\n",
      "sleep 3 seconds and retrying https://data.alpaca.markets/v1/bars/day 3 more time(s)...\n",
      "sleep 3 seconds and retrying https://data.alpaca.markets/v1/bars/day 3 more time(s)...\n"
     ]
    },
    {
     "name": "stdout",
     "output_type": "stream",
     "text": [
      "./V4-2000/V4_77MAData.csv\n"
     ]
    },
    {
     "name": "stderr",
     "output_type": "stream",
     "text": [
      "sleep 3 seconds and retrying https://data.alpaca.markets/v1/bars/day 3 more time(s)...\n",
      "sleep 3 seconds and retrying https://data.alpaca.markets/v1/bars/day 3 more time(s)...\n",
      "sleep 3 seconds and retrying https://data.alpaca.markets/v1/bars/day 3 more time(s)...\n",
      "sleep 3 seconds and retrying https://data.alpaca.markets/v1/bars/day 3 more time(s)...\n"
     ]
    },
    {
     "name": "stdout",
     "output_type": "stream",
     "text": [
      "./V4-2000/V4_78MAData.csv\n"
     ]
    },
    {
     "name": "stderr",
     "output_type": "stream",
     "text": [
      "sleep 3 seconds and retrying https://data.alpaca.markets/v1/bars/day 3 more time(s)...\n",
      "sleep 3 seconds and retrying https://data.alpaca.markets/v1/bars/day 3 more time(s)...\n",
      "sleep 3 seconds and retrying https://data.alpaca.markets/v1/bars/day 3 more time(s)...\n"
     ]
    },
    {
     "name": "stdout",
     "output_type": "stream",
     "text": [
      "./V4-2000/V4_79MAData.csv\n"
     ]
    },
    {
     "name": "stderr",
     "output_type": "stream",
     "text": [
      "sleep 3 seconds and retrying https://data.alpaca.markets/v1/bars/day 3 more time(s)...\n",
      "sleep 3 seconds and retrying https://data.alpaca.markets/v1/bars/day 3 more time(s)...\n",
      "sleep 3 seconds and retrying https://data.alpaca.markets/v1/bars/day 3 more time(s)...\n",
      "sleep 3 seconds and retrying https://data.alpaca.markets/v1/bars/day 3 more time(s)...\n"
     ]
    },
    {
     "name": "stdout",
     "output_type": "stream",
     "text": [
      "./V4-2000/V4_80MAData.csv\n"
     ]
    },
    {
     "name": "stderr",
     "output_type": "stream",
     "text": [
      "sleep 3 seconds and retrying https://data.alpaca.markets/v1/bars/day 3 more time(s)...\n",
      "sleep 3 seconds and retrying https://data.alpaca.markets/v1/bars/day 3 more time(s)...\n"
     ]
    },
    {
     "name": "stdout",
     "output_type": "stream",
     "text": [
      "./V4-2000/V4_81MAData.csv\n",
      "./V4-2000/V4_82MAData.csv\n",
      "./V4-2000/V4_83MAData.csv\n",
      "./V4-2000/V4_84MAData.csv\n",
      "./V4-2000/V4_85MAData.csv\n"
     ]
    },
    {
     "name": "stderr",
     "output_type": "stream",
     "text": [
      "sleep 3 seconds and retrying https://data.alpaca.markets/v1/bars/day 3 more time(s)...\n",
      "sleep 3 seconds and retrying https://data.alpaca.markets/v1/bars/day 3 more time(s)...\n"
     ]
    },
    {
     "name": "stdout",
     "output_type": "stream",
     "text": [
      "./V4-2000/V4_86MAData.csv\n"
     ]
    },
    {
     "name": "stderr",
     "output_type": "stream",
     "text": [
      "sleep 3 seconds and retrying https://data.alpaca.markets/v1/bars/day 3 more time(s)...\n"
     ]
    },
    {
     "name": "stdout",
     "output_type": "stream",
     "text": [
      "./V4-2000/V4_87MAData.csv\n",
      "./V4-2000/V4_88MAData.csv\n",
      "./V4-2000/V4_89MAData.csv\n",
      "./V4-2000/V4_90MAData.csv\n",
      "./V4-2000/V4_91MAData.csv\n",
      "./V4-2000/V4_92MAData.csv\n",
      "./V4-2000/V4_93MAData.csv\n",
      "./V4-2000/V4_94MAData.csv\n",
      "./V4-2000/V4_95MAData.csv\n",
      "./V4-2000/V4_96MAData.csv\n",
      "./V4-2000/V4_97MAData.csv\n",
      "./V4-2000/V4_98MAData.csv\n",
      "./V4-2000/V4_99MAData.csv\n",
      "./V4-2000/V4_100MAData.csv\n",
      "./V4-2000/V4_101MAData.csv\n",
      "./V4-2000/V4_102MAData.csv\n"
     ]
    },
    {
     "name": "stderr",
     "output_type": "stream",
     "text": [
      "sleep 3 seconds and retrying https://data.alpaca.markets/v1/bars/day 3 more time(s)...\n"
     ]
    },
    {
     "name": "stdout",
     "output_type": "stream",
     "text": [
      "./V4-2000/V4_103MAData.csv\n"
     ]
    },
    {
     "name": "stderr",
     "output_type": "stream",
     "text": [
      "sleep 3 seconds and retrying https://data.alpaca.markets/v1/bars/day 3 more time(s)...\n",
      "sleep 3 seconds and retrying https://data.alpaca.markets/v1/bars/day 3 more time(s)...\n",
      "sleep 3 seconds and retrying https://data.alpaca.markets/v1/bars/day 3 more time(s)...\n",
      "sleep 3 seconds and retrying https://data.alpaca.markets/v1/bars/day 3 more time(s)...\n"
     ]
    },
    {
     "name": "stdout",
     "output_type": "stream",
     "text": [
      "./V4-2000/V4_104MAData.csv\n"
     ]
    },
    {
     "name": "stderr",
     "output_type": "stream",
     "text": [
      "sleep 3 seconds and retrying https://data.alpaca.markets/v1/bars/day 3 more time(s)...\n"
     ]
    },
    {
     "name": "stdout",
     "output_type": "stream",
     "text": [
      "./V4-2000/V4_105MAData.csv\n",
      "./V4-2000/V4_106MAData.csv\n",
      "./V4-2000/V4_107MAData.csv\n",
      "./V4-2000/V4_108MAData.csv\n",
      "./V4-2000/V4_109MAData.csv\n"
     ]
    },
    {
     "name": "stderr",
     "output_type": "stream",
     "text": [
      "sleep 3 seconds and retrying https://data.alpaca.markets/v1/bars/day 3 more time(s)...\n",
      "sleep 3 seconds and retrying https://data.alpaca.markets/v1/bars/day 3 more time(s)...\n"
     ]
    },
    {
     "name": "stdout",
     "output_type": "stream",
     "text": [
      "./V4-2000/V4_110MAData.csv\n"
     ]
    },
    {
     "name": "stderr",
     "output_type": "stream",
     "text": [
      "sleep 3 seconds and retrying https://data.alpaca.markets/v1/bars/day 3 more time(s)...\n"
     ]
    },
    {
     "name": "stdout",
     "output_type": "stream",
     "text": [
      "./V4-2000/V4_111MAData.csv\n",
      "./V4-2000/V4_112MAData.csv\n",
      "./V4-2000/V4_113MAData.csv\n",
      "./V4-2000/V4_114MAData.csv\n",
      "./V4-2000/V4_115MAData.csv\n",
      "./V4-2000/V4_116MAData.csv\n",
      "./V4-2000/V4_117MAData.csv\n",
      "./V4-2000/V4_118MAData.csv\n"
     ]
    },
    {
     "name": "stderr",
     "output_type": "stream",
     "text": [
      "sleep 3 seconds and retrying https://data.alpaca.markets/v1/bars/day 3 more time(s)...\n",
      "sleep 3 seconds and retrying https://data.alpaca.markets/v1/bars/day 3 more time(s)...\n",
      "sleep 3 seconds and retrying https://data.alpaca.markets/v1/bars/day 3 more time(s)...\n",
      "sleep 3 seconds and retrying https://data.alpaca.markets/v1/bars/day 3 more time(s)...\n"
     ]
    },
    {
     "name": "stdout",
     "output_type": "stream",
     "text": [
      "./V4-2000/V4_119MAData.csv\n"
     ]
    },
    {
     "name": "stderr",
     "output_type": "stream",
     "text": [
      "sleep 3 seconds and retrying https://data.alpaca.markets/v1/bars/day 3 more time(s)...\n",
      "sleep 3 seconds and retrying https://data.alpaca.markets/v1/bars/day 3 more time(s)...\n",
      "sleep 3 seconds and retrying https://data.alpaca.markets/v1/bars/day 3 more time(s)...\n"
     ]
    },
    {
     "name": "stdout",
     "output_type": "stream",
     "text": [
      "./V4-2000/V4_120MAData.csv\n"
     ]
    },
    {
     "name": "stderr",
     "output_type": "stream",
     "text": [
      "sleep 3 seconds and retrying https://data.alpaca.markets/v1/bars/day 3 more time(s)...\n"
     ]
    },
    {
     "name": "stdout",
     "output_type": "stream",
     "text": [
      "./V4-2000/V4_121MAData.csv\n",
      "./V4-2000/V4_122MAData.csv\n",
      "./V4-2000/V4_123MAData.csv\n",
      "./V4-2000/V4_124MAData.csv\n",
      "./V4-2000/V4_125MAData.csv\n"
     ]
    },
    {
     "name": "stderr",
     "output_type": "stream",
     "text": [
      "sleep 3 seconds and retrying https://data.alpaca.markets/v1/bars/day 3 more time(s)...\n",
      "sleep 3 seconds and retrying https://data.alpaca.markets/v1/bars/day 3 more time(s)...\n",
      "sleep 3 seconds and retrying https://data.alpaca.markets/v1/bars/day 3 more time(s)...\n"
     ]
    },
    {
     "name": "stdout",
     "output_type": "stream",
     "text": [
      "./V4-2000/V4_126MAData.csv\n",
      "./V4-2000/V4_127MAData.csv\n",
      "./V4-2000/V4_128MAData.csv\n",
      "./V4-2000/V4_129MAData.csv\n",
      "./V4-2000/V4_130MAData.csv\n",
      "./V4-2000/V4_131MAData.csv\n",
      "./V4-2000/V4_132MAData.csv\n",
      "./V4-2000/V4_133MAData.csv\n"
     ]
    },
    {
     "name": "stderr",
     "output_type": "stream",
     "text": [
      "sleep 3 seconds and retrying https://data.alpaca.markets/v1/bars/day 3 more time(s)...\n"
     ]
    },
    {
     "name": "stdout",
     "output_type": "stream",
     "text": [
      "./V4-2000/V4_134MAData.csv\n",
      "./V4-2000/V4_135MAData.csv\n",
      "./V4-2000/V4_136MAData.csv\n",
      "./V4-2000/V4_137MAData.csv\n",
      "./V4-2000/V4_138MAData.csv\n",
      "./V4-2000/V4_139MAData.csv\n",
      "./V4-2000/V4_140MAData.csv\n",
      "./V4-2000/V4_141MAData.csv\n"
     ]
    },
    {
     "name": "stderr",
     "output_type": "stream",
     "text": [
      "sleep 3 seconds and retrying https://data.alpaca.markets/v1/bars/day 3 more time(s)...\n",
      "sleep 3 seconds and retrying https://data.alpaca.markets/v1/bars/day 3 more time(s)...\n"
     ]
    },
    {
     "name": "stdout",
     "output_type": "stream",
     "text": [
      "./V4-2000/V4_142MAData.csv\n",
      "./V4-2000/V4_143MAData.csv\n",
      "./V4-2000/V4_144MAData.csv\n",
      "./V4-2000/V4_145MAData.csv\n",
      "./V4-2000/V4_146MAData.csv\n",
      "./V4-2000/V4_147MAData.csv\n"
     ]
    },
    {
     "name": "stderr",
     "output_type": "stream",
     "text": [
      "sleep 3 seconds and retrying https://data.alpaca.markets/v1/bars/day 3 more time(s)...\n",
      "sleep 3 seconds and retrying https://data.alpaca.markets/v1/bars/day 3 more time(s)...\n"
     ]
    },
    {
     "name": "stdout",
     "output_type": "stream",
     "text": [
      "./V4-2000/V4_148MAData.csv\n",
      "./V4-2000/V4_149MAData.csv\n",
      "./V4-2000/V4_150MAData.csv\n"
     ]
    },
    {
     "name": "stderr",
     "output_type": "stream",
     "text": [
      "sleep 3 seconds and retrying https://data.alpaca.markets/v1/bars/day 3 more time(s)...\n",
      "sleep 3 seconds and retrying https://data.alpaca.markets/v1/bars/day 3 more time(s)...\n"
     ]
    },
    {
     "name": "stdout",
     "output_type": "stream",
     "text": [
      "./V4-2000/V4_151MAData.csv\n"
     ]
    },
    {
     "name": "stderr",
     "output_type": "stream",
     "text": [
      "sleep 3 seconds and retrying https://data.alpaca.markets/v1/bars/day 3 more time(s)...\n",
      "sleep 3 seconds and retrying https://data.alpaca.markets/v1/bars/day 3 more time(s)...\n",
      "sleep 3 seconds and retrying https://data.alpaca.markets/v1/bars/day 3 more time(s)...\n"
     ]
    },
    {
     "name": "stdout",
     "output_type": "stream",
     "text": [
      "./V4-2000/V4_152MAData.csv\n",
      "./V4-2000/V4_153MAData.csv\n",
      "./V4-2000/V4_154MAData.csv\n",
      "./V4-2000/V4_155MAData.csv\n",
      "./V4-2000/V4_156MAData.csv\n",
      "./V4-2000/V4_157MAData.csv\n"
     ]
    },
    {
     "name": "stderr",
     "output_type": "stream",
     "text": [
      "sleep 3 seconds and retrying https://data.alpaca.markets/v1/bars/day 3 more time(s)...\n",
      "sleep 3 seconds and retrying https://data.alpaca.markets/v1/bars/day 3 more time(s)...\n",
      "sleep 3 seconds and retrying https://data.alpaca.markets/v1/bars/day 3 more time(s)...\n"
     ]
    },
    {
     "name": "stdout",
     "output_type": "stream",
     "text": [
      "./V4-2000/V4_158MAData.csv\n",
      "./V4-2000/V4_159MAData.csv\n",
      "./V4-2000/V4_160MAData.csv\n",
      "./V4-2000/V4_161MAData.csv\n",
      "./V4-2000/V4_162MAData.csv\n",
      "./V4-2000/V4_163MAData.csv\n"
     ]
    },
    {
     "name": "stderr",
     "output_type": "stream",
     "text": [
      "sleep 3 seconds and retrying https://data.alpaca.markets/v1/bars/day 3 more time(s)...\n",
      "sleep 3 seconds and retrying https://data.alpaca.markets/v1/bars/day 3 more time(s)...\n"
     ]
    },
    {
     "name": "stdout",
     "output_type": "stream",
     "text": [
      "./V4-2000/V4_164MAData.csv\n",
      "./V4-2000/V4_165MAData.csv\n",
      "./V4-2000/V4_166MAData.csv\n",
      "./V4-2000/V4_167MAData.csv\n",
      "./V4-2000/V4_168MAData.csv\n",
      "./V4-2000/V4_169MAData.csv\n",
      "./V4-2000/V4_170MAData.csv\n",
      "./V4-2000/V4_171MAData.csv\n"
     ]
    },
    {
     "name": "stderr",
     "output_type": "stream",
     "text": [
      "sleep 3 seconds and retrying https://data.alpaca.markets/v1/bars/day 3 more time(s)...\n",
      "sleep 3 seconds and retrying https://data.alpaca.markets/v1/bars/day 3 more time(s)...\n"
     ]
    },
    {
     "name": "stdout",
     "output_type": "stream",
     "text": [
      "./V4-2000/V4_172MAData.csv\n",
      "./V4-2000/V4_173MAData.csv\n",
      "./V4-2000/V4_174MAData.csv\n"
     ]
    },
    {
     "name": "stderr",
     "output_type": "stream",
     "text": [
      "sleep 3 seconds and retrying https://data.alpaca.markets/v1/bars/day 3 more time(s)...\n",
      "sleep 3 seconds and retrying https://data.alpaca.markets/v1/bars/day 3 more time(s)...\n",
      "sleep 3 seconds and retrying https://data.alpaca.markets/v1/bars/day 3 more time(s)...\n",
      "sleep 3 seconds and retrying https://data.alpaca.markets/v1/bars/day 3 more time(s)...\n"
     ]
    },
    {
     "name": "stdout",
     "output_type": "stream",
     "text": [
      "./V4-2000/V4_175MAData.csv\n"
     ]
    },
    {
     "name": "stderr",
     "output_type": "stream",
     "text": [
      "sleep 3 seconds and retrying https://data.alpaca.markets/v1/bars/day 3 more time(s)...\n",
      "sleep 3 seconds and retrying https://data.alpaca.markets/v1/bars/day 3 more time(s)...\n",
      "sleep 3 seconds and retrying https://data.alpaca.markets/v1/bars/day 3 more time(s)...\n",
      "sleep 3 seconds and retrying https://data.alpaca.markets/v1/bars/day 3 more time(s)...\n"
     ]
    },
    {
     "name": "stdout",
     "output_type": "stream",
     "text": [
      "./V4-2000/V4_176MAData.csv\n"
     ]
    },
    {
     "name": "stderr",
     "output_type": "stream",
     "text": [
      "sleep 3 seconds and retrying https://data.alpaca.markets/v1/bars/day 3 more time(s)...\n",
      "sleep 3 seconds and retrying https://data.alpaca.markets/v1/bars/day 3 more time(s)...\n",
      "sleep 3 seconds and retrying https://data.alpaca.markets/v1/bars/day 3 more time(s)...\n",
      "sleep 3 seconds and retrying https://data.alpaca.markets/v1/bars/day 3 more time(s)...\n"
     ]
    },
    {
     "name": "stdout",
     "output_type": "stream",
     "text": [
      "./V4-2000/V4_177MAData.csv\n"
     ]
    },
    {
     "name": "stderr",
     "output_type": "stream",
     "text": [
      "sleep 3 seconds and retrying https://data.alpaca.markets/v1/bars/day 3 more time(s)...\n"
     ]
    },
    {
     "name": "stdout",
     "output_type": "stream",
     "text": [
      "./V4-2000/V4_178MAData.csv\n",
      "./V4-2000/V4_179MAData.csv\n",
      "./V4-2000/V4_180MAData.csv\n"
     ]
    },
    {
     "name": "stderr",
     "output_type": "stream",
     "text": [
      "sleep 3 seconds and retrying https://data.alpaca.markets/v1/bars/day 3 more time(s)...\n",
      "sleep 3 seconds and retrying https://data.alpaca.markets/v1/bars/day 3 more time(s)...\n",
      "sleep 3 seconds and retrying https://data.alpaca.markets/v1/bars/day 3 more time(s)...\n",
      "sleep 3 seconds and retrying https://data.alpaca.markets/v1/bars/day 3 more time(s)...\n"
     ]
    },
    {
     "name": "stdout",
     "output_type": "stream",
     "text": [
      "./V4-2000/V4_181MAData.csv\n"
     ]
    },
    {
     "name": "stderr",
     "output_type": "stream",
     "text": [
      "sleep 3 seconds and retrying https://data.alpaca.markets/v1/bars/day 3 more time(s)...\n"
     ]
    },
    {
     "name": "stdout",
     "output_type": "stream",
     "text": [
      "./V4-2000/V4_182MAData.csv\n",
      "./V4-2000/V4_183MAData.csv\n"
     ]
    },
    {
     "name": "stderr",
     "output_type": "stream",
     "text": [
      "sleep 3 seconds and retrying https://data.alpaca.markets/v1/bars/day 3 more time(s)...\n"
     ]
    },
    {
     "name": "stdout",
     "output_type": "stream",
     "text": [
      "./V4-2000/V4_184MAData.csv\n"
     ]
    },
    {
     "name": "stderr",
     "output_type": "stream",
     "text": [
      "sleep 3 seconds and retrying https://data.alpaca.markets/v1/bars/day 3 more time(s)...\n",
      "sleep 3 seconds and retrying https://data.alpaca.markets/v1/bars/day 3 more time(s)...\n",
      "sleep 3 seconds and retrying https://data.alpaca.markets/v1/bars/day 3 more time(s)...\n"
     ]
    },
    {
     "name": "stdout",
     "output_type": "stream",
     "text": [
      "./V4-2000/V4_185MAData.csv\n"
     ]
    },
    {
     "name": "stderr",
     "output_type": "stream",
     "text": [
      "sleep 3 seconds and retrying https://data.alpaca.markets/v1/bars/day 3 more time(s)...\n"
     ]
    },
    {
     "name": "stdout",
     "output_type": "stream",
     "text": [
      "./V4-2000/V4_186MAData.csv\n",
      "./V4-2000/V4_187MAData.csv\n",
      "./V4-2000/V4_188MAData.csv\n",
      "./V4-2000/V4_189MAData.csv\n",
      "./V4-2000/V4_190MAData.csv\n"
     ]
    },
    {
     "name": "stderr",
     "output_type": "stream",
     "text": [
      "sleep 3 seconds and retrying https://data.alpaca.markets/v1/bars/day 3 more time(s)...\n",
      "sleep 3 seconds and retrying https://data.alpaca.markets/v1/bars/day 3 more time(s)...\n",
      "sleep 3 seconds and retrying https://data.alpaca.markets/v1/bars/day 3 more time(s)...\n"
     ]
    },
    {
     "name": "stdout",
     "output_type": "stream",
     "text": [
      "./V4-2000/V4_191MAData.csv\n"
     ]
    },
    {
     "name": "stderr",
     "output_type": "stream",
     "text": [
      "sleep 3 seconds and retrying https://data.alpaca.markets/v1/bars/day 3 more time(s)...\n",
      "sleep 3 seconds and retrying https://data.alpaca.markets/v1/bars/day 3 more time(s)...\n",
      "sleep 3 seconds and retrying https://data.alpaca.markets/v1/bars/day 3 more time(s)...\n"
     ]
    },
    {
     "name": "stdout",
     "output_type": "stream",
     "text": [
      "./V4-2000/V4_192MAData.csv\n"
     ]
    },
    {
     "name": "stderr",
     "output_type": "stream",
     "text": [
      "sleep 3 seconds and retrying https://data.alpaca.markets/v1/bars/day 3 more time(s)...\n",
      "sleep 3 seconds and retrying https://data.alpaca.markets/v1/bars/day 3 more time(s)...\n",
      "sleep 3 seconds and retrying https://data.alpaca.markets/v1/bars/day 3 more time(s)...\n",
      "sleep 3 seconds and retrying https://data.alpaca.markets/v1/bars/day 3 more time(s)...\n"
     ]
    },
    {
     "name": "stdout",
     "output_type": "stream",
     "text": [
      "./V4-2000/V4_193MAData.csv\n"
     ]
    },
    {
     "name": "stderr",
     "output_type": "stream",
     "text": [
      "sleep 3 seconds and retrying https://data.alpaca.markets/v1/bars/day 3 more time(s)...\n",
      "sleep 3 seconds and retrying https://data.alpaca.markets/v1/bars/day 3 more time(s)...\n",
      "sleep 3 seconds and retrying https://data.alpaca.markets/v1/bars/day 3 more time(s)...\n",
      "sleep 3 seconds and retrying https://data.alpaca.markets/v1/bars/day 3 more time(s)...\n"
     ]
    },
    {
     "name": "stdout",
     "output_type": "stream",
     "text": [
      "./V4-2000/V4_194MAData.csv\n"
     ]
    },
    {
     "name": "stderr",
     "output_type": "stream",
     "text": [
      "sleep 3 seconds and retrying https://data.alpaca.markets/v1/bars/day 3 more time(s)...\n",
      "sleep 3 seconds and retrying https://data.alpaca.markets/v1/bars/day 3 more time(s)...\n",
      "sleep 3 seconds and retrying https://data.alpaca.markets/v1/bars/day 3 more time(s)...\n"
     ]
    },
    {
     "name": "stdout",
     "output_type": "stream",
     "text": [
      "./V4-2000/V4_195MAData.csv\n",
      "./V4-2000/V4_196MAData.csv\n",
      "./V4-2000/V4_197MAData.csv\n",
      "./V4-2000/V4_198MAData.csv\n",
      "./V4-2000/V4_199MAData.csv\n",
      "./V4-2000/V4_200MAData.csv\n"
     ]
    },
    {
     "name": "stderr",
     "output_type": "stream",
     "text": [
      "sleep 3 seconds and retrying https://data.alpaca.markets/v1/bars/day 3 more time(s)...\n",
      "sleep 3 seconds and retrying https://data.alpaca.markets/v1/bars/day 3 more time(s)...\n",
      "sleep 3 seconds and retrying https://data.alpaca.markets/v1/bars/day 3 more time(s)...\n"
     ]
    },
    {
     "name": "stdout",
     "output_type": "stream",
     "text": [
      "./V4-2000/V4_201MAData.csv\n",
      "./V4-2000/V4_202MAData.csv\n",
      "./V4-2000/V4_203MAData.csv\n",
      "./V4-2000/V4_204MAData.csv\n",
      "./V4-2000/V4_205MAData.csv\n",
      "./V4-2000/V4_206MAData.csv\n",
      "./V4-2000/V4_207MAData.csv\n",
      "./V4-2000/V4_208MAData.csv\n",
      "./V4-2000/V4_209MAData.csv\n",
      "./V4-2000/V4_210MAData.csv\n",
      "./V4-2000/V4_211MAData.csv\n",
      "./V4-2000/V4_212MAData.csv\n",
      "./V4-2000/V4_213MAData.csv\n",
      "./V4-2000/V4_214MAData.csv\n",
      "./V4-2000/V4_215MAData.csv\n"
     ]
    },
    {
     "name": "stderr",
     "output_type": "stream",
     "text": [
      "sleep 3 seconds and retrying https://data.alpaca.markets/v1/bars/day 3 more time(s)...\n",
      "sleep 3 seconds and retrying https://data.alpaca.markets/v1/bars/day 3 more time(s)...\n"
     ]
    },
    {
     "name": "stdout",
     "output_type": "stream",
     "text": [
      "./V4-2000/V4_216MAData.csv\n"
     ]
    },
    {
     "name": "stderr",
     "output_type": "stream",
     "text": [
      "sleep 3 seconds and retrying https://data.alpaca.markets/v1/bars/day 3 more time(s)...\n",
      "sleep 3 seconds and retrying https://data.alpaca.markets/v1/bars/day 3 more time(s)...\n"
     ]
    },
    {
     "name": "stdout",
     "output_type": "stream",
     "text": [
      "./V4-2000/V4_217MAData.csv\n",
      "./V4-2000/V4_218MAData.csv\n",
      "./V4-2000/V4_219MAData.csv\n"
     ]
    },
    {
     "name": "stderr",
     "output_type": "stream",
     "text": [
      "sleep 3 seconds and retrying https://data.alpaca.markets/v1/bars/day 3 more time(s)...\n"
     ]
    },
    {
     "name": "stdout",
     "output_type": "stream",
     "text": [
      "./V4-2000/V4_220MAData.csv\n"
     ]
    },
    {
     "name": "stderr",
     "output_type": "stream",
     "text": [
      "sleep 3 seconds and retrying https://data.alpaca.markets/v1/bars/day 3 more time(s)...\n",
      "sleep 3 seconds and retrying https://data.alpaca.markets/v1/bars/day 3 more time(s)...\n"
     ]
    },
    {
     "name": "stdout",
     "output_type": "stream",
     "text": [
      "./V4-2000/V4_221MAData.csv\n",
      "./V4-2000/V4_222MAData.csv\n",
      "./V4-2000/V4_223MAData.csv\n",
      "./V4-2000/V4_224MAData.csv\n",
      "./V4-2000/V4_225MAData.csv\n",
      "./V4-2000/V4_226MAData.csv\n",
      "./V4-2000/V4_227MAData.csv\n",
      "./V4-2000/V4_228MAData.csv\n"
     ]
    },
    {
     "name": "stderr",
     "output_type": "stream",
     "text": [
      "sleep 3 seconds and retrying https://data.alpaca.markets/v1/bars/day 3 more time(s)...\n",
      "sleep 3 seconds and retrying https://data.alpaca.markets/v1/bars/day 3 more time(s)...\n"
     ]
    },
    {
     "name": "stdout",
     "output_type": "stream",
     "text": [
      "./V4-2000/V4_229MAData.csv\n",
      "./V4-2000/V4_230MAData.csv\n",
      "./V4-2000/V4_231MAData.csv\n"
     ]
    },
    {
     "name": "stderr",
     "output_type": "stream",
     "text": [
      "sleep 3 seconds and retrying https://data.alpaca.markets/v1/bars/day 3 more time(s)...\n",
      "sleep 3 seconds and retrying https://data.alpaca.markets/v1/bars/day 3 more time(s)...\n",
      "sleep 3 seconds and retrying https://data.alpaca.markets/v1/bars/day 3 more time(s)...\n"
     ]
    },
    {
     "name": "stdout",
     "output_type": "stream",
     "text": [
      "./V4-2000/V4_232MAData.csv\n"
     ]
    },
    {
     "name": "stderr",
     "output_type": "stream",
     "text": [
      "sleep 3 seconds and retrying https://data.alpaca.markets/v1/bars/day 3 more time(s)...\n",
      "sleep 3 seconds and retrying https://data.alpaca.markets/v1/bars/day 3 more time(s)...\n"
     ]
    },
    {
     "name": "stdout",
     "output_type": "stream",
     "text": [
      "./V4-2000/V4_233MAData.csv\n",
      "./V4-2000/V4_234MAData.csv\n",
      "./V4-2000/V4_235MAData.csv\n",
      "./V4-2000/V4_236MAData.csv\n",
      "./V4-2000/V4_237MAData.csv\n"
     ]
    },
    {
     "name": "stderr",
     "output_type": "stream",
     "text": [
      "sleep 3 seconds and retrying https://data.alpaca.markets/v1/bars/day 3 more time(s)...\n"
     ]
    },
    {
     "name": "stdout",
     "output_type": "stream",
     "text": [
      "./V4-2000/V4_238MAData.csv\n"
     ]
    },
    {
     "name": "stderr",
     "output_type": "stream",
     "text": [
      "sleep 3 seconds and retrying https://data.alpaca.markets/v1/bars/day 3 more time(s)...\n",
      "sleep 3 seconds and retrying https://data.alpaca.markets/v1/bars/day 3 more time(s)...\n"
     ]
    },
    {
     "name": "stdout",
     "output_type": "stream",
     "text": [
      "./V4-2000/V4_239MAData.csv\n",
      "./V4-2000/V4_240MAData.csv\n",
      "./V4-2000/V4_241MAData.csv\n",
      "./V4-2000/V4_242MAData.csv\n",
      "./V4-2000/V4_243MAData.csv\n",
      "./V4-2000/V4_244MAData.csv\n",
      "./V4-2000/V4_245MAData.csv\n"
     ]
    },
    {
     "name": "stderr",
     "output_type": "stream",
     "text": [
      "sleep 3 seconds and retrying https://data.alpaca.markets/v1/bars/day 3 more time(s)...\n",
      "sleep 3 seconds and retrying https://data.alpaca.markets/v1/bars/day 3 more time(s)...\n",
      "sleep 3 seconds and retrying https://data.alpaca.markets/v1/bars/day 3 more time(s)...\n"
     ]
    },
    {
     "name": "stdout",
     "output_type": "stream",
     "text": [
      "./V4-2000/V4_246MAData.csv\n"
     ]
    },
    {
     "name": "stderr",
     "output_type": "stream",
     "text": [
      "sleep 3 seconds and retrying https://data.alpaca.markets/v1/bars/day 3 more time(s)...\n",
      "sleep 3 seconds and retrying https://data.alpaca.markets/v1/bars/day 3 more time(s)...\n",
      "sleep 3 seconds and retrying https://data.alpaca.markets/v1/bars/day 3 more time(s)...\n"
     ]
    },
    {
     "name": "stdout",
     "output_type": "stream",
     "text": [
      "./V4-2000/V4_247MAData.csv\n"
     ]
    },
    {
     "name": "stderr",
     "output_type": "stream",
     "text": [
      "sleep 3 seconds and retrying https://data.alpaca.markets/v1/bars/day 3 more time(s)...\n",
      "sleep 3 seconds and retrying https://data.alpaca.markets/v1/bars/day 3 more time(s)...\n",
      "sleep 3 seconds and retrying https://data.alpaca.markets/v1/bars/day 3 more time(s)...\n",
      "sleep 3 seconds and retrying https://data.alpaca.markets/v1/bars/day 3 more time(s)...\n"
     ]
    },
    {
     "name": "stdout",
     "output_type": "stream",
     "text": [
      "./V4-2000/V4_248MAData.csv\n"
     ]
    },
    {
     "name": "stderr",
     "output_type": "stream",
     "text": [
      "sleep 3 seconds and retrying https://data.alpaca.markets/v1/bars/day 3 more time(s)...\n"
     ]
    },
    {
     "name": "stdout",
     "output_type": "stream",
     "text": [
      "./V4-2000/V4_249MAData.csv\n",
      "./V4-2000/V4_250MAData.csv\n",
      "./V4-2000/V4_251MAData.csv\n",
      "./V4-2000/V4_252MAData.csv\n",
      "./V4-2000/V4_253MAData.csv\n",
      "./V4-2000/V4_254MAData.csv\n",
      "./V4-2000/V4_255MAData.csv\n",
      "./V4-2000/V4_256MAData.csv\n",
      "./V4-2000/V4_257MAData.csv\n",
      "./V4-2000/V4_258MAData.csv\n",
      "./V4-2000/V4_259MAData.csv\n",
      "./V4-2000/V4_260MAData.csv\n"
     ]
    },
    {
     "name": "stderr",
     "output_type": "stream",
     "text": [
      "sleep 3 seconds and retrying https://data.alpaca.markets/v1/bars/day 3 more time(s)...\n"
     ]
    },
    {
     "name": "stdout",
     "output_type": "stream",
     "text": [
      "./V4-2000/V4_261MAData.csv\n"
     ]
    },
    {
     "name": "stderr",
     "output_type": "stream",
     "text": [
      "sleep 3 seconds and retrying https://data.alpaca.markets/v1/bars/day 3 more time(s)...\n",
      "sleep 3 seconds and retrying https://data.alpaca.markets/v1/bars/day 3 more time(s)...\n",
      "sleep 3 seconds and retrying https://data.alpaca.markets/v1/bars/day 3 more time(s)...\n"
     ]
    },
    {
     "name": "stdout",
     "output_type": "stream",
     "text": [
      "./V4-2000/V4_262MAData.csv\n"
     ]
    },
    {
     "name": "stderr",
     "output_type": "stream",
     "text": [
      "sleep 3 seconds and retrying https://data.alpaca.markets/v1/bars/day 3 more time(s)...\n"
     ]
    },
    {
     "name": "stdout",
     "output_type": "stream",
     "text": [
      "./V4-2000/V4_263MAData.csv\n",
      "./V4-2000/V4_264MAData.csv\n",
      "./V4-2000/V4_265MAData.csv\n"
     ]
    },
    {
     "name": "stderr",
     "output_type": "stream",
     "text": [
      "sleep 3 seconds and retrying https://data.alpaca.markets/v1/bars/day 3 more time(s)...\n",
      "sleep 3 seconds and retrying https://data.alpaca.markets/v1/bars/day 3 more time(s)...\n"
     ]
    },
    {
     "name": "stdout",
     "output_type": "stream",
     "text": [
      "./V4-2000/V4_266MAData.csv\n",
      "./V4-2000/V4_267MAData.csv\n",
      "./V4-2000/V4_268MAData.csv\n",
      "./V4-2000/V4_269MAData.csv\n",
      "./V4-2000/V4_270MAData.csv\n",
      "./V4-2000/V4_271MAData.csv\n",
      "./V4-2000/V4_272MAData.csv\n",
      "./V4-2000/V4_273MAData.csv\n",
      "./V4-2000/V4_274MAData.csv\n",
      "./V4-2000/V4_275MAData.csv\n"
     ]
    },
    {
     "name": "stderr",
     "output_type": "stream",
     "text": [
      "sleep 3 seconds and retrying https://data.alpaca.markets/v1/bars/day 3 more time(s)...\n",
      "sleep 3 seconds and retrying https://data.alpaca.markets/v1/bars/day 3 more time(s)...\n"
     ]
    },
    {
     "name": "stdout",
     "output_type": "stream",
     "text": [
      "./V4-2000/V4_276MAData.csv\n",
      "./V4-2000/V4_277MAData.csv\n",
      "./V4-2000/V4_278MAData.csv\n",
      "./V4-2000/V4_279MAData.csv\n"
     ]
    },
    {
     "name": "stderr",
     "output_type": "stream",
     "text": [
      "sleep 3 seconds and retrying https://data.alpaca.markets/v1/bars/day 3 more time(s)...\n",
      "sleep 3 seconds and retrying https://data.alpaca.markets/v1/bars/day 3 more time(s)...\n"
     ]
    },
    {
     "name": "stdout",
     "output_type": "stream",
     "text": [
      "./V4-2000/V4_280MAData.csv\n",
      "./V4-2000/V4_281MAData.csv\n",
      "./V4-2000/V4_282MAData.csv\n",
      "./V4-2000/V4_283MAData.csv\n",
      "./V4-2000/V4_284MAData.csv\n",
      "./V4-2000/V4_285MAData.csv\n",
      "./V4-2000/V4_286MAData.csv\n",
      "./V4-2000/V4_287MAData.csv\n"
     ]
    },
    {
     "name": "stderr",
     "output_type": "stream",
     "text": [
      "sleep 3 seconds and retrying https://data.alpaca.markets/v1/bars/day 3 more time(s)...\n",
      "sleep 3 seconds and retrying https://data.alpaca.markets/v1/bars/day 3 more time(s)...\n"
     ]
    },
    {
     "name": "stdout",
     "output_type": "stream",
     "text": [
      "./V4-2000/V4_288MAData.csv\n"
     ]
    },
    {
     "name": "stderr",
     "output_type": "stream",
     "text": [
      "sleep 3 seconds and retrying https://data.alpaca.markets/v1/bars/day 3 more time(s)...\n",
      "sleep 3 seconds and retrying https://data.alpaca.markets/v1/bars/day 3 more time(s)...\n",
      "sleep 3 seconds and retrying https://data.alpaca.markets/v1/bars/day 3 more time(s)...\n",
      "sleep 3 seconds and retrying https://data.alpaca.markets/v1/bars/day 3 more time(s)...\n"
     ]
    },
    {
     "name": "stdout",
     "output_type": "stream",
     "text": [
      "./V4-2000/V4_289MAData.csv\n"
     ]
    },
    {
     "name": "stderr",
     "output_type": "stream",
     "text": [
      "sleep 3 seconds and retrying https://data.alpaca.markets/v1/bars/day 3 more time(s)...\n",
      "sleep 3 seconds and retrying https://data.alpaca.markets/v1/bars/day 3 more time(s)...\n",
      "sleep 3 seconds and retrying https://data.alpaca.markets/v1/bars/day 3 more time(s)...\n"
     ]
    },
    {
     "name": "stdout",
     "output_type": "stream",
     "text": [
      "./V4-2000/V4_290MAData.csv\n",
      "./V4-2000/V4_291MAData.csv\n",
      "./V4-2000/V4_292MAData.csv\n",
      "./V4-2000/V4_293MAData.csv\n",
      "./V4-2000/V4_294MAData.csv\n",
      "./V4-2000/V4_295MAData.csv\n",
      "./V4-2000/V4_296MAData.csv\n",
      "./V4-2000/V4_297MAData.csv\n",
      "./V4-2000/V4_298MAData.csv\n",
      "./V4-2000/V4_299MAData.csv\n",
      "./V4-2000/V4_300MAData.csv\n",
      "./V4-2000/V4_301MAData.csv\n",
      "./V4-2000/V4_302MAData.csv\n",
      "./V4-2000/V4_303MAData.csv\n",
      "./V4-2000/V4_304MAData.csv\n",
      "./V4-2000/V4_305MAData.csv\n",
      "./V4-2000/V4_306MAData.csv\n",
      "./V4-2000/V4_307MAData.csv\n",
      "./V4-2000/V4_308MAData.csv\n"
     ]
    },
    {
     "name": "stderr",
     "output_type": "stream",
     "text": [
      "sleep 3 seconds and retrying https://data.alpaca.markets/v1/bars/day 3 more time(s)...\n"
     ]
    },
    {
     "name": "stdout",
     "output_type": "stream",
     "text": [
      "./V4-2000/V4_309MAData.csv\n"
     ]
    },
    {
     "name": "stderr",
     "output_type": "stream",
     "text": [
      "sleep 3 seconds and retrying https://data.alpaca.markets/v1/bars/day 3 more time(s)...\n",
      "sleep 3 seconds and retrying https://data.alpaca.markets/v1/bars/day 3 more time(s)...\n",
      "sleep 3 seconds and retrying https://data.alpaca.markets/v1/bars/day 3 more time(s)...\n"
     ]
    },
    {
     "name": "stdout",
     "output_type": "stream",
     "text": [
      "./V4-2000/V4_310MAData.csv\n",
      "./V4-2000/V4_311MAData.csv\n",
      "./V4-2000/V4_312MAData.csv\n",
      "./V4-2000/V4_313MAData.csv\n",
      "./V4-2000/V4_314MAData.csv\n",
      "./V4-2000/V4_315MAData.csv\n"
     ]
    },
    {
     "name": "stderr",
     "output_type": "stream",
     "text": [
      "sleep 3 seconds and retrying https://data.alpaca.markets/v1/bars/day 3 more time(s)...\n",
      "sleep 3 seconds and retrying https://data.alpaca.markets/v1/bars/day 3 more time(s)...\n",
      "sleep 3 seconds and retrying https://data.alpaca.markets/v1/bars/day 3 more time(s)...\n",
      "sleep 3 seconds and retrying https://data.alpaca.markets/v1/bars/day 3 more time(s)...\n"
     ]
    },
    {
     "name": "stdout",
     "output_type": "stream",
     "text": [
      "./V4-2000/V4_316MAData.csv\n"
     ]
    },
    {
     "name": "stderr",
     "output_type": "stream",
     "text": [
      "sleep 3 seconds and retrying https://data.alpaca.markets/v1/bars/day 3 more time(s)...\n",
      "sleep 3 seconds and retrying https://data.alpaca.markets/v1/bars/day 3 more time(s)...\n",
      "sleep 3 seconds and retrying https://data.alpaca.markets/v1/bars/day 3 more time(s)...\n",
      "sleep 3 seconds and retrying https://data.alpaca.markets/v1/bars/day 3 more time(s)...\n"
     ]
    },
    {
     "name": "stdout",
     "output_type": "stream",
     "text": [
      "./V4-2000/V4_317MAData.csv\n"
     ]
    },
    {
     "name": "stderr",
     "output_type": "stream",
     "text": [
      "sleep 3 seconds and retrying https://data.alpaca.markets/v1/bars/day 3 more time(s)...\n",
      "sleep 3 seconds and retrying https://data.alpaca.markets/v1/bars/day 3 more time(s)...\n"
     ]
    },
    {
     "name": "stdout",
     "output_type": "stream",
     "text": [
      "./V4-2000/V4_318MAData.csv\n",
      "./V4-2000/V4_319MAData.csv\n",
      "./V4-2000/V4_320MAData.csv\n",
      "./V4-2000/V4_321MAData.csv\n",
      "./V4-2000/V4_322MAData.csv\n",
      "./V4-2000/V4_323MAData.csv\n",
      "./V4-2000/V4_324MAData.csv\n",
      "./V4-2000/V4_325MAData.csv\n"
     ]
    },
    {
     "name": "stderr",
     "output_type": "stream",
     "text": [
      "sleep 3 seconds and retrying https://data.alpaca.markets/v1/bars/day 3 more time(s)...\n",
      "sleep 3 seconds and retrying https://data.alpaca.markets/v1/bars/day 3 more time(s)...\n",
      "sleep 3 seconds and retrying https://data.alpaca.markets/v1/bars/day 3 more time(s)...\n",
      "sleep 3 seconds and retrying https://data.alpaca.markets/v1/bars/day 3 more time(s)...\n"
     ]
    },
    {
     "name": "stdout",
     "output_type": "stream",
     "text": [
      "./V4-2000/V4_326MAData.csv\n"
     ]
    },
    {
     "name": "stderr",
     "output_type": "stream",
     "text": [
      "sleep 3 seconds and retrying https://data.alpaca.markets/v1/bars/day 3 more time(s)...\n",
      "sleep 3 seconds and retrying https://data.alpaca.markets/v1/bars/day 3 more time(s)...\n",
      "sleep 3 seconds and retrying https://data.alpaca.markets/v1/bars/day 3 more time(s)...\n"
     ]
    },
    {
     "name": "stdout",
     "output_type": "stream",
     "text": [
      "./V4-2000/V4_327MAData.csv\n"
     ]
    },
    {
     "name": "stderr",
     "output_type": "stream",
     "text": [
      "sleep 3 seconds and retrying https://data.alpaca.markets/v1/bars/day 3 more time(s)...\n"
     ]
    },
    {
     "name": "stdout",
     "output_type": "stream",
     "text": [
      "./V4-2000/V4_328MAData.csv\n",
      "./V4-2000/V4_329MAData.csv\n",
      "./V4-2000/V4_330MAData.csv\n",
      "./V4-2000/V4_331MAData.csv\n",
      "./V4-2000/V4_332MAData.csv\n"
     ]
    },
    {
     "name": "stderr",
     "output_type": "stream",
     "text": [
      "sleep 3 seconds and retrying https://data.alpaca.markets/v1/bars/day 3 more time(s)...\n",
      "sleep 3 seconds and retrying https://data.alpaca.markets/v1/bars/day 3 more time(s)...\n"
     ]
    },
    {
     "name": "stdout",
     "output_type": "stream",
     "text": [
      "./V4-2000/V4_333MAData.csv\n"
     ]
    },
    {
     "name": "stderr",
     "output_type": "stream",
     "text": [
      "sleep 3 seconds and retrying https://data.alpaca.markets/v1/bars/day 3 more time(s)...\n",
      "sleep 3 seconds and retrying https://data.alpaca.markets/v1/bars/day 3 more time(s)...\n",
      "sleep 3 seconds and retrying https://data.alpaca.markets/v1/bars/day 3 more time(s)...\n",
      "sleep 3 seconds and retrying https://data.alpaca.markets/v1/bars/day 3 more time(s)...\n"
     ]
    },
    {
     "name": "stdout",
     "output_type": "stream",
     "text": [
      "./V4-2000/V4_334MAData.csv\n"
     ]
    },
    {
     "name": "stderr",
     "output_type": "stream",
     "text": [
      "sleep 3 seconds and retrying https://data.alpaca.markets/v1/bars/day 3 more time(s)...\n",
      "sleep 3 seconds and retrying https://data.alpaca.markets/v1/bars/day 3 more time(s)...\n",
      "sleep 3 seconds and retrying https://data.alpaca.markets/v1/bars/day 3 more time(s)...\n",
      "sleep 3 seconds and retrying https://data.alpaca.markets/v1/bars/day 3 more time(s)...\n"
     ]
    },
    {
     "name": "stdout",
     "output_type": "stream",
     "text": [
      "./V4-2000/V4_335MAData.csv\n",
      "./V4-2000/V4_336MAData.csv\n",
      "./V4-2000/V4_337MAData.csv\n"
     ]
    },
    {
     "name": "stderr",
     "output_type": "stream",
     "text": [
      "sleep 3 seconds and retrying https://data.alpaca.markets/v1/bars/day 3 more time(s)...\n"
     ]
    },
    {
     "name": "stdout",
     "output_type": "stream",
     "text": [
      "./V4-2000/V4_338MAData.csv\n"
     ]
    },
    {
     "name": "stderr",
     "output_type": "stream",
     "text": [
      "sleep 3 seconds and retrying https://data.alpaca.markets/v1/bars/day 3 more time(s)...\n",
      "sleep 3 seconds and retrying https://data.alpaca.markets/v1/bars/day 3 more time(s)...\n",
      "sleep 3 seconds and retrying https://data.alpaca.markets/v1/bars/day 3 more time(s)...\n",
      "sleep 3 seconds and retrying https://data.alpaca.markets/v1/bars/day 3 more time(s)...\n"
     ]
    },
    {
     "name": "stdout",
     "output_type": "stream",
     "text": [
      "./V4-2000/V4_339MAData.csv\n",
      "./V4-2000/V4_340MAData.csv\n",
      "./V4-2000/V4_341MAData.csv\n",
      "./V4-2000/V4_342MAData.csv\n",
      "./V4-2000/V4_343MAData.csv\n",
      "./V4-2000/V4_344MAData.csv\n",
      "./V4-2000/V4_345MAData.csv\n",
      "./V4-2000/V4_346MAData.csv\n",
      "./V4-2000/V4_347MAData.csv\n",
      "./V4-2000/V4_348MAData.csv\n",
      "./V4-2000/V4_349MAData.csv\n"
     ]
    },
    {
     "name": "stderr",
     "output_type": "stream",
     "text": [
      "sleep 3 seconds and retrying https://data.alpaca.markets/v1/bars/day 3 more time(s)...\n",
      "sleep 3 seconds and retrying https://data.alpaca.markets/v1/bars/day 3 more time(s)...\n",
      "sleep 3 seconds and retrying https://data.alpaca.markets/v1/bars/day 3 more time(s)...\n"
     ]
    },
    {
     "name": "stdout",
     "output_type": "stream",
     "text": [
      "./V4-2000/V4_350MAData.csv\n"
     ]
    },
    {
     "name": "stderr",
     "output_type": "stream",
     "text": [
      "sleep 3 seconds and retrying https://data.alpaca.markets/v1/bars/day 3 more time(s)...\n",
      "sleep 3 seconds and retrying https://data.alpaca.markets/v1/bars/day 3 more time(s)...\n",
      "sleep 3 seconds and retrying https://data.alpaca.markets/v1/bars/day 3 more time(s)...\n",
      "sleep 3 seconds and retrying https://data.alpaca.markets/v1/bars/day 3 more time(s)...\n"
     ]
    },
    {
     "name": "stdout",
     "output_type": "stream",
     "text": [
      "./V4-2000/V4_351MAData.csv\n",
      "./V4-2000/V4_352MAData.csv\n",
      "./V4-2000/V4_353MAData.csv\n"
     ]
    },
    {
     "name": "stderr",
     "output_type": "stream",
     "text": [
      "sleep 3 seconds and retrying https://data.alpaca.markets/v1/bars/day 3 more time(s)...\n",
      "sleep 3 seconds and retrying https://data.alpaca.markets/v1/bars/day 3 more time(s)...\n"
     ]
    },
    {
     "name": "stdout",
     "output_type": "stream",
     "text": [
      "./V4-2000/V4_354MAData.csv\n"
     ]
    },
    {
     "name": "stderr",
     "output_type": "stream",
     "text": [
      "sleep 3 seconds and retrying https://data.alpaca.markets/v1/bars/day 3 more time(s)...\n",
      "sleep 3 seconds and retrying https://data.alpaca.markets/v1/bars/day 3 more time(s)...\n",
      "sleep 3 seconds and retrying https://data.alpaca.markets/v1/bars/day 3 more time(s)...\n"
     ]
    },
    {
     "name": "stdout",
     "output_type": "stream",
     "text": [
      "./V4-2000/V4_355MAData.csv\n",
      "./V4-2000/V4_356MAData.csv\n",
      "./V4-2000/V4_357MAData.csv\n",
      "./V4-2000/V4_358MAData.csv\n",
      "./V4-2000/V4_359MAData.csv\n",
      "./V4-2000/V4_360MAData.csv\n",
      "./V4-2000/V4_361MAData.csv\n",
      "./V4-2000/V4_362MAData.csv\n",
      "./V4-2000/V4_363MAData.csv\n",
      "./V4-2000/V4_364MAData.csv\n",
      "./V4-2000/V4_365MAData.csv\n",
      "./V4-2000/V4_366MAData.csv\n",
      "./V4-2000/V4_367MAData.csv\n",
      "./V4-2000/V4_368MAData.csv\n",
      "./V4-2000/V4_369MAData.csv\n",
      "./V4-2000/V4_370MAData.csv\n",
      "./V4-2000/V4_371MAData.csv\n",
      "./V4-2000/V4_372MAData.csv\n",
      "./V4-2000/V4_373MAData.csv\n",
      "./V4-2000/V4_374MAData.csv\n",
      "./V4-2000/V4_375MAData.csv\n",
      "./V4-2000/V4_376MAData.csv\n",
      "./V4-2000/V4_377MAData.csv\n",
      "./V4-2000/V4_378MAData.csv\n",
      "./V4-2000/V4_379MAData.csv\n",
      "./V4-2000/V4_380MAData.csv\n"
     ]
    },
    {
     "name": "stderr",
     "output_type": "stream",
     "text": [
      "sleep 3 seconds and retrying https://data.alpaca.markets/v1/bars/day 3 more time(s)...\n",
      "sleep 3 seconds and retrying https://data.alpaca.markets/v1/bars/day 3 more time(s)...\n"
     ]
    },
    {
     "name": "stdout",
     "output_type": "stream",
     "text": [
      "./V4-2000/V4_381MAData.csv\n",
      "./V4-2000/V4_382MAData.csv\n",
      "./V4-2000/V4_383MAData.csv\n",
      "./V4-2000/V4_384MAData.csv\n",
      "./V4-2000/V4_385MAData.csv\n",
      "./V4-2000/V4_386MAData.csv\n"
     ]
    },
    {
     "name": "stderr",
     "output_type": "stream",
     "text": [
      "sleep 3 seconds and retrying https://data.alpaca.markets/v1/bars/day 3 more time(s)...\n",
      "sleep 3 seconds and retrying https://data.alpaca.markets/v1/bars/day 3 more time(s)...\n"
     ]
    },
    {
     "name": "stdout",
     "output_type": "stream",
     "text": [
      "./V4-2000/V4_387MAData.csv\n",
      "./V4-2000/V4_388MAData.csv\n",
      "./V4-2000/V4_389MAData.csv\n"
     ]
    },
    {
     "name": "stderr",
     "output_type": "stream",
     "text": [
      "sleep 3 seconds and retrying https://data.alpaca.markets/v1/bars/day 3 more time(s)...\n",
      "sleep 3 seconds and retrying https://data.alpaca.markets/v1/bars/day 3 more time(s)...\n",
      "sleep 3 seconds and retrying https://data.alpaca.markets/v1/bars/day 3 more time(s)...\n"
     ]
    },
    {
     "name": "stdout",
     "output_type": "stream",
     "text": [
      "./V4-2000/V4_390MAData.csv\n"
     ]
    },
    {
     "name": "stderr",
     "output_type": "stream",
     "text": [
      "sleep 3 seconds and retrying https://data.alpaca.markets/v1/bars/day 3 more time(s)...\n",
      "sleep 3 seconds and retrying https://data.alpaca.markets/v1/bars/day 3 more time(s)...\n"
     ]
    },
    {
     "name": "stdout",
     "output_type": "stream",
     "text": [
      "./V4-2000/V4_391MAData.csv\n",
      "./V4-2000/V4_392MAData.csv\n",
      "./V4-2000/V4_393MAData.csv\n"
     ]
    },
    {
     "name": "stderr",
     "output_type": "stream",
     "text": [
      "sleep 3 seconds and retrying https://data.alpaca.markets/v1/bars/day 3 more time(s)...\n"
     ]
    },
    {
     "name": "stdout",
     "output_type": "stream",
     "text": [
      "./V4-2000/V4_394MAData.csv\n"
     ]
    },
    {
     "name": "stderr",
     "output_type": "stream",
     "text": [
      "sleep 3 seconds and retrying https://data.alpaca.markets/v1/bars/day 3 more time(s)...\n",
      "sleep 3 seconds and retrying https://data.alpaca.markets/v1/bars/day 3 more time(s)...\n"
     ]
    },
    {
     "name": "stdout",
     "output_type": "stream",
     "text": [
      "./V4-2000/V4_395MAData.csv\n"
     ]
    },
    {
     "name": "stderr",
     "output_type": "stream",
     "text": [
      "sleep 3 seconds and retrying https://data.alpaca.markets/v1/bars/day 3 more time(s)...\n",
      "sleep 3 seconds and retrying https://data.alpaca.markets/v1/bars/day 3 more time(s)...\n"
     ]
    },
    {
     "name": "stdout",
     "output_type": "stream",
     "text": [
      "./V4-2000/V4_396MAData.csv\n",
      "./V4-2000/V4_397MAData.csv\n",
      "./V4-2000/V4_398MAData.csv\n",
      "./V4-2000/V4_399MAData.csv\n",
      "./V4-2000/V4_400MAData.csv\n"
     ]
    }
   ],
   "source": [
    "for t in label_list:\n",
    "    df = pd.read_csv(f\"./V4-2000/{t}.csv\")\n",
    "    bdf = pd.DataFrame(df)\n",
    "    tckr = bdf['Tckr'].tolist()\n",
    "    price_info= []\n",
    "    count = 0\n",
    "    d = 0\n",
    "    for i in tckr:\n",
    "\n",
    "    #     try:\n",
    "        barset = api.get_barset(f'{i}', 'day', limit=90)\n",
    "        d=0\n",
    "#         pprint(barset[i])\n",
    "#         break\n",
    "\n",
    "        for f in range(len(barset[i])):\n",
    "                try:\n",
    "\n",
    "                    tckr_infoopening = barset[i][d].o\n",
    "                    tckr_infoClosing = barset[i][d].c\n",
    "                    tckr_infoHigh = barset[i][d].h\n",
    "                    tckr_infoLow = barset[i][d].l \n",
    "                    d+=1\n",
    "                    day = d\n",
    "                    tckr_infoNHigh = barset[i][d].h\n",
    "\n",
    "\n",
    "                    info = {'Ticker':f'{i}',\n",
    "                            'opening':tckr_infoopening,\n",
    "                            'closing':tckr_infoClosing,\n",
    "                            'NextHigh':tckr_infoNHigh,\n",
    "                            'high':tckr_infoHigh,\n",
    "                            'low':tckr_infoLow,\n",
    "                           'day':day}\n",
    "                    price_info.append(info)\n",
    "                except:\n",
    "                    pass\n",
    "#         pprint(i)\n",
    "\n",
    "        count+=1\n",
    "\n",
    "#     print(\"pickle\")\n",
    "#     break\n",
    "    fdf = pd.DataFrame(price_info)\n",
    "    fdf.to_csv(f\"./V4-2000/{t}MAData.csv\", index = False)\n",
    "    print(f'./V4-2000/{t}MAData.csv')"
   ]
  },
  {
   "cell_type": "code",
   "execution_count": 6,
   "id": "4af2833a",
   "metadata": {},
   "outputs": [
    {
     "data": {
      "text/html": [
       "<div>\n",
       "<style scoped>\n",
       "    .dataframe tbody tr th:only-of-type {\n",
       "        vertical-align: middle;\n",
       "    }\n",
       "\n",
       "    .dataframe tbody tr th {\n",
       "        vertical-align: top;\n",
       "    }\n",
       "\n",
       "    .dataframe thead th {\n",
       "        text-align: right;\n",
       "    }\n",
       "</style>\n",
       "<table border=\"1\" class=\"dataframe\">\n",
       "  <thead>\n",
       "    <tr style=\"text-align: right;\">\n",
       "      <th></th>\n",
       "      <th>Ticker</th>\n",
       "      <th>opening</th>\n",
       "      <th>closing</th>\n",
       "      <th>NextHigh</th>\n",
       "      <th>high</th>\n",
       "      <th>low</th>\n",
       "      <th>day</th>\n",
       "    </tr>\n",
       "  </thead>\n",
       "  <tbody>\n",
       "    <tr>\n",
       "      <th>0</th>\n",
       "      <td>TAK</td>\n",
       "      <td>16.28</td>\n",
       "      <td>16.35</td>\n",
       "      <td>16.5850</td>\n",
       "      <td>16.4400</td>\n",
       "      <td>16.2500</td>\n",
       "      <td>1</td>\n",
       "    </tr>\n",
       "    <tr>\n",
       "      <th>1</th>\n",
       "      <td>TAK</td>\n",
       "      <td>16.54</td>\n",
       "      <td>16.51</td>\n",
       "      <td>16.5850</td>\n",
       "      <td>16.5850</td>\n",
       "      <td>16.3400</td>\n",
       "      <td>2</td>\n",
       "    </tr>\n",
       "    <tr>\n",
       "      <th>2</th>\n",
       "      <td>TAK</td>\n",
       "      <td>16.47</td>\n",
       "      <td>16.56</td>\n",
       "      <td>16.8399</td>\n",
       "      <td>16.5850</td>\n",
       "      <td>16.4400</td>\n",
       "      <td>3</td>\n",
       "    </tr>\n",
       "    <tr>\n",
       "      <th>3</th>\n",
       "      <td>TAK</td>\n",
       "      <td>16.57</td>\n",
       "      <td>16.75</td>\n",
       "      <td>16.7000</td>\n",
       "      <td>16.8399</td>\n",
       "      <td>16.5400</td>\n",
       "      <td>4</td>\n",
       "    </tr>\n",
       "    <tr>\n",
       "      <th>4</th>\n",
       "      <td>TAK</td>\n",
       "      <td>16.60</td>\n",
       "      <td>16.63</td>\n",
       "      <td>16.7200</td>\n",
       "      <td>16.7000</td>\n",
       "      <td>16.5500</td>\n",
       "      <td>5</td>\n",
       "    </tr>\n",
       "    <tr>\n",
       "      <th>...</th>\n",
       "      <td>...</td>\n",
       "      <td>...</td>\n",
       "      <td>...</td>\n",
       "      <td>...</td>\n",
       "      <td>...</td>\n",
       "      <td>...</td>\n",
       "      <td>...</td>\n",
       "    </tr>\n",
       "    <tr>\n",
       "      <th>4404</th>\n",
       "      <td>HGEN</td>\n",
       "      <td>5.77</td>\n",
       "      <td>5.63</td>\n",
       "      <td>5.6100</td>\n",
       "      <td>5.8100</td>\n",
       "      <td>5.4528</td>\n",
       "      <td>85</td>\n",
       "    </tr>\n",
       "    <tr>\n",
       "      <th>4405</th>\n",
       "      <td>HGEN</td>\n",
       "      <td>5.60</td>\n",
       "      <td>4.93</td>\n",
       "      <td>4.9800</td>\n",
       "      <td>5.6100</td>\n",
       "      <td>4.9000</td>\n",
       "      <td>86</td>\n",
       "    </tr>\n",
       "    <tr>\n",
       "      <th>4406</th>\n",
       "      <td>HGEN</td>\n",
       "      <td>4.93</td>\n",
       "      <td>4.71</td>\n",
       "      <td>4.6800</td>\n",
       "      <td>4.9800</td>\n",
       "      <td>4.6118</td>\n",
       "      <td>87</td>\n",
       "    </tr>\n",
       "    <tr>\n",
       "      <th>4407</th>\n",
       "      <td>HGEN</td>\n",
       "      <td>4.68</td>\n",
       "      <td>4.64</td>\n",
       "      <td>4.6000</td>\n",
       "      <td>4.6800</td>\n",
       "      <td>4.3300</td>\n",
       "      <td>88</td>\n",
       "    </tr>\n",
       "    <tr>\n",
       "      <th>4408</th>\n",
       "      <td>HGEN</td>\n",
       "      <td>4.54</td>\n",
       "      <td>4.24</td>\n",
       "      <td>4.2400</td>\n",
       "      <td>4.6000</td>\n",
       "      <td>4.2000</td>\n",
       "      <td>89</td>\n",
       "    </tr>\n",
       "  </tbody>\n",
       "</table>\n",
       "<p>4409 rows × 7 columns</p>\n",
       "</div>"
      ],
      "text/plain": [
       "     Ticker  opening  closing  NextHigh     high      low  day\n",
       "0       TAK    16.28    16.35   16.5850  16.4400  16.2500    1\n",
       "1       TAK    16.54    16.51   16.5850  16.5850  16.3400    2\n",
       "2       TAK    16.47    16.56   16.8399  16.5850  16.4400    3\n",
       "3       TAK    16.57    16.75   16.7000  16.8399  16.5400    4\n",
       "4       TAK    16.60    16.63   16.7200  16.7000  16.5500    5\n",
       "...     ...      ...      ...       ...      ...      ...  ...\n",
       "4404   HGEN     5.77     5.63    5.6100   5.8100   5.4528   85\n",
       "4405   HGEN     5.60     4.93    4.9800   5.6100   4.9000   86\n",
       "4406   HGEN     4.93     4.71    4.6800   4.9800   4.6118   87\n",
       "4407   HGEN     4.68     4.64    4.6000   4.6800   4.3300   88\n",
       "4408   HGEN     4.54     4.24    4.2400   4.6000   4.2000   89\n",
       "\n",
       "[4409 rows x 7 columns]"
      ]
     },
     "execution_count": 6,
     "metadata": {},
     "output_type": "execute_result"
    }
   ],
   "source": [
    "df = pd.DataFrame(price_info)\n",
    "df"
   ]
  },
  {
   "cell_type": "code",
   "execution_count": 7,
   "id": "36fe9f55",
   "metadata": {},
   "outputs": [],
   "source": [
    "df.to_csv(r'../Machine_learning/MA500Data.csv', index = False)"
   ]
  },
  {
   "cell_type": "code",
   "execution_count": 13,
   "id": "a0f38385",
   "metadata": {},
   "outputs": [
    {
     "name": "stdout",
     "output_type": "stream",
     "text": [
      "../Machine_learning/GoldieV2MAData.csv\n"
     ]
    }
   ],
   "source": [
    "df = pd.read_csv(f\"../Machine_learning/GoldieV2.csv\")\n",
    "bdf = pd.DataFrame(df)\n",
    "tckr = bdf['Tckr'].tolist()\n",
    "price_info= []\n",
    "count = 0\n",
    "d = 0\n",
    "for i in tckr:\n",
    "\n",
    "#     try:\n",
    "    barset = api.get_barset(f'{i}', 'day', limit=90)\n",
    "    d=0\n",
    "#         pprint(barset[i])\n",
    "#         break\n",
    "\n",
    "    for f in range(len(barset[i])):\n",
    "            try:\n",
    "\n",
    "                tckr_infoopening = barset[i][d].o\n",
    "                tckr_infoClosing = barset[i][d].c\n",
    "                tckr_infoHigh = barset[i][d].h\n",
    "                tckr_infoLow = barset[i][d].l \n",
    "                d+=1\n",
    "                day = d\n",
    "                tckr_infoNHigh = barset[i][d].h\n",
    "\n",
    "\n",
    "                info = {'Ticker':f'{i}',\n",
    "                        'opening':tckr_infoopening,\n",
    "                        'closing':tckr_infoClosing,\n",
    "                        'NextHigh':tckr_infoNHigh,\n",
    "                        'high':tckr_infoHigh,\n",
    "                        'low':tckr_infoLow,\n",
    "                       'day':day}\n",
    "                price_info.append(info)\n",
    "            except:\n",
    "                pass\n",
    "#         pprint(i)\n",
    "\n",
    "    count+=1\n",
    "\n",
    "#     print(\"pickle\")\n",
    "#     break\n",
    "fdf = pd.DataFrame(price_info)\n",
    "fdf.to_csv(f\"../Machine_learning/GoldieV2MAData.csv\", index = False)\n",
    "print(f'../Machine_learning/GoldieV2MAData.csv')"
   ]
  },
  {
   "cell_type": "code",
   "execution_count": null,
   "id": "9e57886c",
   "metadata": {},
   "outputs": [],
   "source": []
  }
 ],
 "metadata": {
  "kernelspec": {
   "display_name": "Python 3",
   "language": "python",
   "name": "python3"
  },
  "language_info": {
   "codemirror_mode": {
    "name": "ipython",
    "version": 3
   },
   "file_extension": ".py",
   "mimetype": "text/x-python",
   "name": "python",
   "nbconvert_exporter": "python",
   "pygments_lexer": "ipython3",
   "version": "3.8.11"
  }
 },
 "nbformat": 4,
 "nbformat_minor": 5
}
