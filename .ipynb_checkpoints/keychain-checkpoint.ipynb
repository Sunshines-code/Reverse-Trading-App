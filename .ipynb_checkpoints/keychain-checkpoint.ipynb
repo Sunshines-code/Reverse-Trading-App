{
 "cells": [
  {
   "cell_type": "code",
   "execution_count": null,
   "id": "b4fecd1a",
   "metadata": {},
   "outputs": [],
   "source": [
    "key= 'PK8ICZ5T685R3M9A8ETS'\n",
    "secretKey='oZZ9VdqoZy6qrWO2ZbQUvuaCQ3rEltKb7PDB1Zxr'\n"
   ]
  }
 ],
 "metadata": {
  "kernelspec": {
   "display_name": "Python 3",
   "language": "python",
   "name": "python3"
  },
  "language_info": {
   "codemirror_mode": {
    "name": "ipython",
    "version": 3
   },
   "file_extension": ".py",
   "mimetype": "text/x-python",
   "name": "python",
   "nbconvert_exporter": "python",
   "pygments_lexer": "ipython3",
   "version": "3.8.11"
  }
 },
 "nbformat": 4,
 "nbformat_minor": 5
}
