{
 "cells": [
  {
   "cell_type": "code",
   "execution_count": 12,
   "id": "2bade165",
   "metadata": {},
   "outputs": [],
   "source": [
    "import pandas as pd\n",
    "import json\n",
    "import requests\n",
    "from pprint import pprint\n",
    "import alpaca_trade_api as tradeapi\n",
    "from time import sleep\n",
    "file_list=['V3_1StockList', 'V3_2StockList', 'V3_3StockList', 'V3_4StockList', 'V3_5StockList', 'V3_6StockList', 'V3_7StockList', 'V3_8StockList', 'V3_9StockList', 'V3_10StockList', 'V3_11StockList', 'V3_12StockList', 'V3_13StockList', 'V3_14StockList', 'V3_15StockList', 'V3_16StockList', 'V3_17StockList', 'V3_18StockList', 'V3_19StockList', 'V3_20StockList', 'V3_21StockList', 'V3_22StockList', 'V3_23StockList', 'V3_24StockList', 'V3_25StockList', 'V3_26StockList', 'V3_27StockList', 'V3_28StockList', 'V3_29StockList', 'V3_30StockList', 'V3_31StockList', 'V3_32StockList', 'V3_33StockList', 'V3_34StockList', 'V3_35StockList', 'V3_36StockList', 'V3_37StockList', 'V3_38StockList', 'V3_39StockList', 'V3_40StockList']\n",
    "base_url = 'https://paper-api.alpaca.markets'\n",
    "api_key = 'PK8ICZ5T685R3M9A8ETS'\n",
    "secret_key = 'oZZ9VdqoZy6qrWO2ZbQUvuaCQ3rEltKb7PDB1Zxr'\n",
    "api = tradeapi.REST(api_key, secret_key,base_url)\n"
   ]
  },
  {
   "cell_type": "code",
   "execution_count": null,
   "id": "b5d70745",
   "metadata": {},
   "outputs": [],
   "source": [
    "df = pd.read_csv(f\"../Machine_learning/GoldieV2.csv\")\n",
    "bdf = pd.DataFrame(df)\n",
    "tckr = bdf['Tckr'].tolist()"
   ]
  },
  {
   "cell_type": "code",
   "execution_count": null,
   "id": "22f22d11",
   "metadata": {},
   "outputs": [],
   "source": [
    "price_info= []\n",
    "count = 0\n",
    "d = 0\n",
    "for i in tckr:\n",
    "#     try:\n",
    "    barset = api.get_barset(f'{i}', 'day', limit=1000)\n",
    "    d=0\n",
    "#     pprint(barset)\n",
    "#     break\n",
    "    for f in range(len(barset[i])):\n",
    "            try:\n",
    "\n",
    "                tckr_infoopening = barset[i][d].o\n",
    "                tckr_infoClosing = barset[i][d].c\n",
    "                tckr_infoHigh = barset[i][d].h\n",
    "                tckr_infoLow = barset[i][d].l \n",
    "                d+=1\n",
    "                tckr_infoNHigh = barset[i][d].h\n",
    "\n",
    "\n",
    "                info = {'Ticker':f'{i}',\n",
    "                        'opening':tckr_infoopening,\n",
    "                        'closing':tckr_infoClosing,\n",
    "                        'NextHigh':tckr_infoNHigh,\n",
    "                        'high':tckr_infoHigh,\n",
    "                        'low':tckr_infoLow}\n",
    "                price_info.append(info)\n",
    "            except:\n",
    "                pass\n",
    "\n",
    "    pprint(i)\n",
    "#         break\n",
    "    count+=1\n",
    "    \n",
    "#     except:\n",
    "#         count+=1\n",
    "        \n",
    "#         print(f'result error{i}')\n",
    "#         pass"
   ]
  },
  {
   "cell_type": "code",
   "execution_count": null,
   "id": "4af2833a",
   "metadata": {},
   "outputs": [],
   "source": [
    "df = pd.DataFrame(price_info)\n",
    "df"
   ]
  },
  {
   "cell_type": "code",
   "execution_count": null,
   "id": "36fe9f55",
   "metadata": {},
   "outputs": [],
   "source": [
    "df.to_csv(r'../Machine_learning/GoldieV2EdData.csv', index = False)"
   ]
  },
  {
   "cell_type": "code",
   "execution_count": null,
   "id": "a0f38385",
   "metadata": {},
   "outputs": [],
   "source": []
  }
 ],
 "metadata": {
  "kernelspec": {
   "display_name": "Python 3",
   "language": "python",
   "name": "python3"
  },
  "language_info": {
   "codemirror_mode": {
    "name": "ipython",
    "version": 3
   },
   "file_extension": ".py",
   "mimetype": "text/x-python",
   "name": "python",
   "nbconvert_exporter": "python",
   "pygments_lexer": "ipython3",
   "version": "3.8.11"
  }
 },
 "nbformat": 4,
 "nbformat_minor": 5
}
