{
 "cells": [
  {
   "cell_type": "code",
   "execution_count": 1,
   "id": "2bade165",
   "metadata": {},
   "outputs": [
    {
     "data": {
      "text/html": [
       "<div>\n",
       "<style scoped>\n",
       "    .dataframe tbody tr th:only-of-type {\n",
       "        vertical-align: middle;\n",
       "    }\n",
       "\n",
       "    .dataframe tbody tr th {\n",
       "        vertical-align: top;\n",
       "    }\n",
       "\n",
       "    .dataframe thead th {\n",
       "        text-align: right;\n",
       "    }\n",
       "</style>\n",
       "<table border=\"1\" class=\"dataframe\">\n",
       "  <thead>\n",
       "    <tr style=\"text-align: right;\">\n",
       "      <th></th>\n",
       "      <th>Tckr</th>\n",
       "    </tr>\n",
       "  </thead>\n",
       "  <tbody>\n",
       "    <tr>\n",
       "      <th>0</th>\n",
       "      <td>AMRC</td>\n",
       "    </tr>\n",
       "    <tr>\n",
       "      <th>1</th>\n",
       "      <td>AAT</td>\n",
       "    </tr>\n",
       "    <tr>\n",
       "      <th>2</th>\n",
       "      <td>AAON</td>\n",
       "    </tr>\n",
       "    <tr>\n",
       "      <th>3</th>\n",
       "      <td>AAP</td>\n",
       "    </tr>\n",
       "    <tr>\n",
       "      <th>4</th>\n",
       "      <td>BNNRU</td>\n",
       "    </tr>\n",
       "    <tr>\n",
       "      <th>...</th>\n",
       "      <td>...</td>\n",
       "    </tr>\n",
       "    <tr>\n",
       "      <th>7411</th>\n",
       "      <td>PEBK</td>\n",
       "    </tr>\n",
       "    <tr>\n",
       "      <th>7412</th>\n",
       "      <td>RLI</td>\n",
       "    </tr>\n",
       "    <tr>\n",
       "      <th>7413</th>\n",
       "      <td>SPGI</td>\n",
       "    </tr>\n",
       "    <tr>\n",
       "      <th>7414</th>\n",
       "      <td>SPXC</td>\n",
       "    </tr>\n",
       "    <tr>\n",
       "      <th>7415</th>\n",
       "      <td>WMT</td>\n",
       "    </tr>\n",
       "  </tbody>\n",
       "</table>\n",
       "<p>7416 rows × 1 columns</p>\n",
       "</div>"
      ],
      "text/plain": [
       "       Tckr\n",
       "0      AMRC\n",
       "1       AAT\n",
       "2      AAON\n",
       "3       AAP\n",
       "4     BNNRU\n",
       "...     ...\n",
       "7411   PEBK\n",
       "7412    RLI\n",
       "7413   SPGI\n",
       "7414   SPXC\n",
       "7415    WMT\n",
       "\n",
       "[7416 rows x 1 columns]"
      ]
     },
     "execution_count": 1,
     "metadata": {},
     "output_type": "execute_result"
    }
   ],
   "source": [
    "import pandas as pd\n",
    "import json\n",
    "import requests\n",
    "from pprint import pprint\n",
    "import alpaca_trade_api as tradeapi\n",
    "from time import sleep\n",
    "base_url = 'https://paper-api.alpaca.markets'\n",
    "api_key = 'PK31BC6XPUTS7CVHNJQ3'\n",
    "secret_key = 'reFlvUBcJJ0U9i6iVJJDLtI3P55YGavixpjGvPny'\n",
    "api = tradeapi.REST(api_key, secret_key,base_url)\n",
    "df = pd.read_csv('../Machine_learning/Alpacca_NYSE_NASDAQ_List.csv')\n",
    "bdf = pd.DataFrame(df)\n",
    "bdf\n"
   ]
  },
  {
   "cell_type": "code",
   "execution_count": 2,
   "id": "b5d70745",
   "metadata": {},
   "outputs": [],
   "source": [
    "tckr = bdf['Tckr'].tolist()"
   ]
  },
  {
   "cell_type": "code",
   "execution_count": 28,
   "id": "22f22d11",
   "metadata": {},
   "outputs": [
    {
     "name": "stdout",
     "output_type": "stream",
     "text": [
      "'AMRC'\n",
      "'AAT'\n",
      "'AAON'\n",
      "'AAP'\n",
      "'BNNRU'\n",
      "'AAPL'\n",
      "'AB'\n",
      "'AAQC'\n",
      "'AAQC.U'\n",
      "'ABC'\n",
      "'ABEV'\n",
      "'AAXJ'\n",
      "'ABGI'\n",
      "'ABBV'\n",
      "'ABSI'\n",
      "'ABEO'\n",
      "'ERJ'\n",
      "'GS'\n",
      "'ABOS'\n",
      "'ICUI'\n",
      "'ABST'\n",
      "'ABT'\n",
      "'ACCD'\n",
      "'ABTX'\n",
      "'ABVC'\n",
      "'ACA'\n",
      "'ACB'\n",
      "'ACBA'\n",
      "'ACEL'\n",
      "'ACGL'\n",
      "'ACH'\n",
      "'ACHL'\n",
      "'PDEX'\n",
      "'PGNY'\n",
      "'PLMIU'\n",
      "'NE'\n",
      "'PVG'\n",
      "'QAT'\n",
      "'RACE'\n",
      "'RGS'\n",
      "'ACII.U'\n",
      "'ACLS'\n",
      "'SR'\n",
      "'ACMR'\n",
      "'ACOR'\n",
      "'ACQR'\n",
      "'UNVR'\n",
      "'ACR'\n",
      "'ACRE'\n",
      "'SUN'\n",
      "'ACT'\n",
      "'ADEX'\n",
      "'ADIL'\n",
      "'ADOC'\n",
      "'ADS'\n",
      "'ADXN'\n",
      "'AEMD'\n",
      "'AES'\n",
      "'AFAQU'\n",
      "'AFGE'\n",
      "'AFINP'\n",
      "'AGAC'\n",
      "'AGCB'\n",
      "'AGFS'\n",
      "'AGM'\n",
      "'AGNCP'\n",
      "'AGR'\n",
      "'AGTC'\n",
      "'AHCO'\n",
      "'AIA'\n",
      "'AIHS'\n",
      "'AIRG'\n",
      "'AIV'\n",
      "'AJXA'\n",
      "'AKO.B'\n",
      "'AKUS'\n",
      "'ALB'\n",
      "'ALE'\n",
      "'ACTD'\n",
      "'ACWX'\n",
      "'ADEX.U'\n",
      "'ADM'\n",
      "'ADOCR'\n",
      "'ADSK'\n",
      "'ADXS'\n",
      "'AEFC'\n",
      "'AENZ'\n",
      "'AESC'\n",
      "'AFB'\n",
      "'AFI'\n",
      "'AFL'\n",
      "'AFT'\n",
      "'AGAC.U'\n",
      "'AGCO'\n",
      "'AGI'\n",
      "'AGM.A'\n",
      "'AGNG'\n",
      "'AGRI'\n",
      "'AGTI'\n",
      "'AHH'\n",
      "'AIC'\n",
      "'AINV'\n",
      "'AIZ'\n",
      "'AKAM'\n",
      "'AKR'\n",
      "'AKYA'\n",
      "'ALBO'\n",
      "'ALEC'\n",
      "'ALGN'\n",
      "'ALJJ'\n",
      "'ALLO'\n",
      "'ALPAU'\n",
      "'ALV'\n",
      "'AMBC'\n",
      "'AMD'\n",
      "'AMGN'\n",
      "'AMKR'\n",
      "'ACTG'\n",
      "'ADAG'\n",
      "'ADF'\n",
      "'ADTN'\n",
      "'AEG'\n",
      "'AEO'\n",
      "'AESE'\n",
      "'AFG'\n",
      "'AFIB'\n",
      "'AFTR.U'\n",
      "'AGBA'\n",
      "'AGCUU'\n",
      "'AGFY'\n",
      "'AGIL'\n",
      "'AGMH'\n",
      "'AGO'\n",
      "'AGRO'\n",
      "'AGX'\n",
      "'AHPAU'\n",
      "'AIKI'\n",
      "'AIO'\n",
      "'AIRR'\n",
      "'AIZN'\n",
      "'AKBA'\n",
      "'AKRO'\n",
      "'AL'\n",
      "'ALC'\n",
      "'ALEX'\n",
      "'ALGS'\n",
      "'ALK'\n",
      "'ALLT'\n",
      "'ALRM'\n",
      "'ALTO'\n",
      "'ALVR'\n",
      "'AME'\n",
      "'AMH'\n",
      "'AMOT'\n",
      "'ADAP'\n",
      "'ADMS'\n",
      "'ADP'\n",
      "'ADTX'\n",
      "'AEHAU'\n",
      "'AEP'\n",
      "'AEYE'\n",
      "'AFGB'\n",
      "'AGBAR'\n",
      "'AGD'\n",
      "'AGIO'\n",
      "'AGNCM'\n",
      "'AGRX'\n",
      "'AGYS'\n",
      "'AHPI'\n",
      "'AIF'\n",
      "'AIQ'\n",
      "'AIRT'\n",
      "'AJG'\n",
      "'AKIC'\n",
      "'AKTS'\n",
      "'ALAC'\n",
      "'ALCC'\n",
      "'ALF'\n",
      "'ALGT'\n",
      "'ALKS'\n",
      "'ALLY'\n",
      "'ALRN'\n",
      "'ALTR'\n",
      "'ALYA'\n",
      "'AMBP'\n",
      "'AMED'\n",
      "'AMHC'\n",
      "'AMN'\n",
      "'ACV'\n",
      "'ADBE'\n",
      "'ADGI'\n",
      "'ADN'\n",
      "'ADPT'\n",
      "'ADUS'\n",
      "'AEACU'\n",
      "'AEHR'\n",
      "'AER'\n",
      "'AEZS'\n",
      "'AFGC'\n",
      "'AFIN'\n",
      "'AFMD'\n",
      "'AFYA'\n",
      "'AGBAU'\n",
      "'AGGR'\n",
      "'AGL'\n",
      "'AGNCN'\n",
      "'AGS'\n",
      "'AHT'\n",
      "'AIG'\n",
      "'AIMC'\n",
      "'AIR'\n",
      "'AIRTP'\n",
      "'AJRD'\n",
      "'AKICU'\n",
      "'AKTX'\n",
      "'ALACR'\n",
      "'ALCO'\n",
      "'ALHC'\n",
      "'ALKT'\n",
      "'ALNA'\n",
      "'ALRS'\n",
      "'ALTU'\n",
      "'AM'\n",
      "'AMCIU'\n",
      "'AMEH'\n",
      "'AMHCU'\n",
      "'AMP'\n",
      "'ACWI'\n",
      "'ADER'\n",
      "'ADI'\n",
      "'ADNT'\n",
      "'ADX'\n",
      "'AEE'\n",
      "'AEI'\n",
      "'AERI'\n",
      "'AFAQ'\n",
      "'AFGD'\n",
      "'AFINO'\n",
      "'AFRM'\n",
      "'AG'\n",
      "'AGC'\n",
      "'AGEN'\n",
      "'AGGRU'\n",
      "'AGLE'\n",
      "'AGNCO'\n",
      "'AGZD'\n",
      "'AI'\n",
      "'AIH'\n",
      "'AIN'\n",
      "'AIRC'\n",
      "'AIT'\n",
      "'AJX'\n",
      "'AKO.A'\n",
      "'AKU'\n",
      "'ALACU'\n",
      "'ALDX'\n",
      "'ALG'\n",
      "'ALIM'\n",
      "'ALLE'\n",
      "'ALNY'\n",
      "'ALSN'\n",
      "'ALTUU'\n",
      "'AMAL'\n",
      "'AMCR'\n",
      "'AMNB'\n",
      "'ALGM'\n",
      "'ALIT'\n",
      "'ALLK'\n",
      "'ALOT'\n",
      "'ALT'\n",
      "'ALTY'\n",
      "'AMAM'\n",
      "'AMCX'\n",
      "'AMG'\n",
      "'AMK'\n",
      "'AMPG'\n",
      "'AMRK'\n",
      "'AMSF'\n",
      "'AMTI'\n",
      "'AMX'\n",
      "'ANAC.U'\n",
      "'ANF'\n"
     ]
    },
    {
     "name": "stderr",
     "output_type": "stream",
     "text": [
      "sleep 3 seconds and retrying https://data.alpaca.markets/v1/bars/day 3 more time(s)...\n"
     ]
    },
    {
     "name": "stdout",
     "output_type": "stream",
     "text": [
      "'ANIK'\n",
      "'ANTE'\n",
      "'ANZUU'\n",
      "'APACU'\n",
      "'APG'\n",
      "'APLS'\n",
      "'APP'\n",
      "'APRN'\n",
      "'APTS'\n",
      "'AQB'\n",
      "'AQST'\n",
      "'ARCE'\n",
      "'ARD'\n",
      "'AREC'\n"
     ]
    },
    {
     "name": "stderr",
     "output_type": "stream",
     "text": [
      "sleep 3 seconds and retrying https://data.alpaca.markets/v1/bars/day 3 more time(s)...\n"
     ]
    },
    {
     "name": "stdout",
     "output_type": "stream",
     "text": [
      "'ARI'\n",
      "'ARR'\n",
      "'ARTW'\n",
      "'ASA'\n",
      "'ASAXU'\n",
      "'ASGI'\n",
      "'ASLE'\n",
      "'AMOV'\n",
      "'AMPI.U'\n",
      "'AMRX'\n",
      "'AMT'\n",
      "'AMZN'\n",
      "'ANEB'\n",
      "'ANGL'\n"
     ]
    },
    {
     "name": "stderr",
     "output_type": "stream",
     "text": [
      "sleep 3 seconds and retrying https://data.alpaca.markets/v1/bars/day 3 more time(s)...\n"
     ]
    },
    {
     "name": "stdout",
     "output_type": "stream",
     "text": [
      "'ANNX'\n",
      "'AOUT'\n",
      "'APDN'\n",
      "'APH'\n",
      "'APMIU'\n",
      "'APPN'\n",
      "'APSG.U'\n",
      "'APVO'\n",
      "'AQNA'\n",
      "'AR'\n",
      "'ARC'\n",
      "'ARCO'\n",
      "'ARDX'\n",
      "'ARGO'\n"
     ]
    },
    {
     "name": "stderr",
     "output_type": "stream",
     "text": [
      "sleep 3 seconds and retrying https://data.alpaca.markets/v1/bars/day 3 more time(s)...\n"
     ]
    },
    {
     "name": "stdout",
     "output_type": "stream",
     "text": [
      "'ARKO'\n",
      "'ARLP'\n",
      "'AROW'\n",
      "'ARTA'\n",
      "'ARWR'\n",
      "'ASAQ'\n",
      "'ASMB'\n",
      "'ASPC'\n",
      "'ASR'\n",
      "'ASTR'\n",
      "'ASZ'\n",
      "'ATAQ.U'\n",
      "'ATEC'\n",
      "'ATHE'\n",
      "'ATLCP'\n",
      "'AMSC'\n",
      "'AMTBB'\n",
      "'AMWL'\n",
      "'ANAC'\n",
      "'ANGO'\n"
     ]
    },
    {
     "name": "stderr",
     "output_type": "stream",
     "text": [
      "sleep 3 seconds and retrying https://data.alpaca.markets/v1/bars/day 3 more time(s)...\n"
     ]
    },
    {
     "name": "stdout",
     "output_type": "stream",
     "text": [
      "'ANSS'\n",
      "'ANZU'\n",
      "'AOMR'\n",
      "'APA'\n",
      "'APEN'\n",
      "'APLE'\n",
      "'APOP'\n",
      "'APRE'\n",
      "'APTO'\n",
      "'APYX'\n",
      "'AQNU'\n",
      "'ARAY'\n",
      "'ARCC'\n"
     ]
    },
    {
     "name": "stderr",
     "output_type": "stream",
     "text": [
      "sleep 3 seconds and retrying https://data.alpaca.markets/v1/bars/day 3 more time(s)...\n"
     ]
    },
    {
     "name": "stdout",
     "output_type": "stream",
     "text": [
      "'ARGX'\n",
      "'ARKR'\n",
      "'ARQT'\n",
      "'ARTNA'\n",
      "'ARYE'\n",
      "'ASAX'\n",
      "'ASG'\n",
      "'ASND'\n",
      "'ASPN'\n",
      "'ASRV'\n",
      "'ASUR'\n",
      "'ATA'\n"
     ]
    },
    {
     "name": "stderr",
     "output_type": "stream",
     "text": [
      "sleep 3 seconds and retrying https://data.alpaca.markets/v1/bars/day 3 more time(s)...\n"
     ]
    },
    {
     "name": "stdout",
     "output_type": "stream",
     "text": [
      "'ATC'\n",
      "'ATEX'\n",
      "'ATHN'\n",
      "'ATMR.U'\n",
      "'ATRA'\n",
      "'ATXS'\n",
      "'AUVI'\n",
      "'AMPH'\n",
      "'AMRN'\n",
      "'AMST'\n",
      "'AMYT'\n",
      "'ANAT'\n",
      "'ANIP'\n",
      "'AOS'\n"
     ]
    },
    {
     "name": "stderr",
     "output_type": "stream",
     "text": [
      "sleep 3 seconds and retrying https://data.alpaca.markets/v1/bars/day 3 more time(s)...\n"
     ]
    },
    {
     "name": "stdout",
     "output_type": "stream",
     "text": [
      "'APAM'\n",
      "'APGB'\n",
      "'APLT'\n",
      "'APPF'\n",
      "'APTV'\n",
      "'AQMS'\n",
      "'AQUA'\n",
      "'ARBG'\n",
      "'ARCH'\n",
      "'ARDC'\n",
      "'ARES'\n",
      "'ARL'\n",
      "'ARNA'\n",
      "'ARRW'\n",
      "'ARVL'\n",
      "'ASAI'\n",
      "'ASB'\n",
      "'ASGN'\n",
      "'ASLN'\n",
      "'ASPA'\n",
      "'ASPU'\n",
      "'ASTC'\n",
      "'ATAI'\n",
      "'ATCOL'\n",
      "'ATGE'\n"
     ]
    },
    {
     "name": "stderr",
     "output_type": "stream",
     "text": [
      "sleep 3 seconds and retrying https://data.alpaca.markets/v1/bars/day 3 more time(s)...\n"
     ]
    },
    {
     "name": "stdout",
     "output_type": "stream",
     "text": [
      "'ATIP'\n",
      "'ATRS'\n",
      "'AUBAP'\n",
      "'AMPI'\n",
      "'AMRS'\n",
      "'AMSWA'\n",
      "'AMTX'\n",
      "'ANDE'\n",
      "'ANGI'\n",
      "'ANIX'\n",
      "'ANTM'\n",
      "'AOD'\n",
      "'AOSL'\n",
      "'APD'\n"
     ]
    },
    {
     "name": "stderr",
     "output_type": "stream",
     "text": [
      "sleep 3 seconds and retrying https://data.alpaca.markets/v1/bars/day 3 more time(s)...\n"
     ]
    },
    {
     "name": "stdout",
     "output_type": "stream",
     "text": [
      "'APGB.U'\n",
      "'APM'\n",
      "'APPH'\n",
      "'APSG'\n",
      "'APTX'\n",
      "'AQN'\n",
      "'AQWA'\n",
      "'ARBGU'\n",
      "'ARDS'\n",
      "'ARGD'\n",
      "'ARLO'\n",
      "'AROC'\n",
      "'ARRY'\n",
      "'ARW'\n"
     ]
    },
    {
     "name": "stderr",
     "output_type": "stream",
     "text": [
      "sleep 3 seconds and retrying https://data.alpaca.markets/v1/bars/day 3 more time(s)...\n"
     ]
    },
    {
     "name": "stdout",
     "output_type": "stream",
     "text": [
      "'ASAN'\n",
      "'ASC'\n",
      "'ASH'\n",
      "'ASPAU'\n",
      "'ASTE'\n",
      "'ASYS'\n",
      "'ATAQ'\n",
      "'ATCX'\n",
      "'ATHA'\n",
      "'ATLC'\n",
      "'ATOM'\n",
      "'ATSPU'\n"
     ]
    },
    {
     "name": "stderr",
     "output_type": "stream",
     "text": [
      "sleep 3 seconds and retrying https://data.alpaca.markets/v1/bars/day 3 more time(s)...\n"
     ]
    },
    {
     "name": "stdout",
     "output_type": "stream",
     "text": [
      "'AUDC'\n",
      "'AVAH'\n",
      "'AMR'\n",
      "'AMTB'\n",
      "'AMWD'\n",
      "'ANAB'\n",
      "'ANET'\n",
      "'ANGN'\n",
      "'ANPC'\n",
      "'ANY'\n",
      "'AP'\n",
      "'APEI'\n",
      "'API'\n",
      "'APO'\n",
      "'APPS'\n"
     ]
    },
    {
     "name": "stderr",
     "output_type": "stream",
     "text": [
      "sleep 3 seconds and retrying https://data.alpaca.markets/v1/bars/day 3 more time(s)...\n"
     ]
    },
    {
     "name": "stdout",
     "output_type": "stream",
     "text": [
      "'APWC'\n",
      "'AQNB'\n",
      "'ARAV'\n",
      "'ARCB'\n",
      "'ARCT'\n",
      "'ARE'\n",
      "'ARMK'\n",
      "'ARQQ'\n",
      "'ARTL'\n",
      "'ARYD'\n",
      "'ASAQ.U'\n",
      "'ASET'\n",
      "'ASML'\n",
      "'ASPCU'\n",
      "'ASRT'\n",
      "'ASTS'\n",
      "'ASZ.U'\n"
     ]
    },
    {
     "name": "stderr",
     "output_type": "stream",
     "text": [
      "sleep 3 seconds and retrying https://data.alpaca.markets/v1/bars/day 3 more time(s)...\n"
     ]
    },
    {
     "name": "stdout",
     "output_type": "stream",
     "text": [
      "'ATAX'\n",
      "'ATER'\n",
      "'ATHM'\n",
      "'ATMR'\n",
      "'ATR'\n",
      "'ATVCU'\n",
      "'ASO'\n",
      "'ASPS'\n",
      "'ASRVP'\n",
      "'ASX'\n",
      "'ATA.U'\n",
      "'ATCO'\n",
      "'ATIF'\n",
      "'ATNI'\n",
      "'ATRO'\n"
     ]
    },
    {
     "name": "stderr",
     "output_type": "stream",
     "text": [
      "sleep 3 seconds and retrying https://data.alpaca.markets/v1/bars/day 3 more time(s)...\n"
     ]
    },
    {
     "name": "stdout",
     "output_type": "stream",
     "text": [
      "'AUB'\n",
      "'AURCU'\n",
      "'AUY'\n",
      "'AVB'\n",
      "'AVDL'\n",
      "'AVGOP'\n",
      "'AVK'\n",
      "'AVPT'\n",
      "'AVTX'\n",
      "'AWRE'\n",
      "'AXDX'\n",
      "'AXP'\n",
      "'AY'\n"
     ]
    },
    {
     "name": "stderr",
     "output_type": "stream",
     "text": [
      "sleep 3 seconds and retrying https://data.alpaca.markets/v1/bars/day 3 more time(s)...\n"
     ]
    },
    {
     "name": "stdout",
     "output_type": "stream",
     "text": [
      "'AZEK'\n",
      "'AZUL'\n",
      "'BAC'\n",
      "'BAMH'\n",
      "'BANR'\n",
      "'BBDO'\n",
      "'BBIO'\n",
      "'BBVA'\n",
      "'BCAC'\n",
      "'BCE'\n",
      "'BCOW'\n",
      "'BCTX'\n",
      "'BDC'\n"
     ]
    },
    {
     "name": "stderr",
     "output_type": "stream",
     "text": [
      "sleep 3 seconds and retrying https://data.alpaca.markets/v1/bars/day 3 more time(s)...\n"
     ]
    },
    {
     "name": "stdout",
     "output_type": "stream",
     "text": [
      "'ATOS'\n",
      "'ATVC'\n",
      "'AUID'\n",
      "'AUTL'\n",
      "'AVAL'\n",
      "'AVD'\n",
      "'AVID'\n",
      "'AVNT'\n",
      "'AVT'\n",
      "'AVXL'\n",
      "'AWK'\n",
      "'AXLA'\n",
      "'AXTA'\n",
      "'AYTU'\n",
      "'AZRE'\n",
      "'BA'\n",
      "'BAND'\n",
      "'BBCP'\n",
      "'BBI'\n",
      "'BBN'\n",
      "'BBSI'\n",
      "'BBY'\n"
     ]
    },
    {
     "name": "stderr",
     "output_type": "stream",
     "text": [
      "sleep 3 seconds and retrying https://data.alpaca.markets/v1/bars/day 3 more time(s)...\n"
     ]
    },
    {
     "name": "stdout",
     "output_type": "stream",
     "text": [
      "'BCBP'\n",
      "'BCH'\n",
      "'BCRX'\n",
      "'BCYC'\n",
      "'BEAM'\n",
      "'BEN'\n",
      "'BGB'\n",
      "'BGSF'\n",
      "'BH'\n",
      "'BHFAL'\n",
      "'AUTO'\n",
      "'AVAN'\n",
      "'AVEO'\n"
     ]
    },
    {
     "name": "stderr",
     "output_type": "stream",
     "text": [
      "sleep 3 seconds and retrying https://data.alpaca.markets/v1/bars/day 3 more time(s)...\n"
     ]
    },
    {
     "name": "stdout",
     "output_type": "stream",
     "text": [
      "'AVNW'\n",
      "'AVTE'\n",
      "'AVY'\n",
      "'AWP'\n",
      "'AX'\n",
      "'AXNX'\n",
      "'AXTI'\n",
      "'AYX'\n",
      "'BALY'\n",
      "'BANF'\n",
      "'BARK'\n",
      "'BAX'\n",
      "'BBD'\n"
     ]
    },
    {
     "name": "stderr",
     "output_type": "stream",
     "text": [
      "sleep 3 seconds and retrying https://data.alpaca.markets/v1/bars/day 3 more time(s)...\n"
     ]
    },
    {
     "name": "stdout",
     "output_type": "stream",
     "text": [
      "'BBIG'\n",
      "'BBU'\n",
      "'BC'\n",
      "'BCC'\n",
      "'BCOR'\n",
      "'BCSF'\n",
      "'BCYP'\n",
      "'BDSI'\n",
      "'BECN'\n",
      "'BENE'\n",
      "'BEST'\n",
      "'BFI'\n",
      "'BGCP'\n",
      "'BGNE'\n"
     ]
    },
    {
     "name": "stderr",
     "output_type": "stream",
     "text": [
      "sleep 3 seconds and retrying https://data.alpaca.markets/v1/bars/day 3 more time(s)...\n"
     ]
    },
    {
     "name": "stdout",
     "output_type": "stream",
     "text": [
      "'BGSX'\n",
      "'BH.A'\n",
      "'BHFAN'\n",
      "'BHP'\n",
      "'AUS.U'\n",
      "'AVA'\n",
      "'AVCO'\n",
      "'AVGR'\n",
      "'AVRO'\n",
      "'AWF'\n",
      "'AXGN'\n",
      "'AXR'\n",
      "'AYI'\n",
      "'AZN'\n",
      "'AZYO'\n",
      "'BAH'\n",
      "'BAMI'\n",
      "'BANX'\n",
      "'BBBY'\n",
      "'BBW'\n",
      "'BCACU'\n",
      "'BCEI'\n"
     ]
    },
    {
     "name": "stderr",
     "output_type": "stream",
     "text": [
      "sleep 3 seconds and retrying https://data.alpaca.markets/v1/bars/day 3 more time(s)...\n"
     ]
    },
    {
     "name": "stdout",
     "output_type": "stream",
     "text": [
      "'BCML'\n",
      "'BCPC'\n",
      "'BDN'\n",
      "'BDX'\n",
      "'BEKE'\n",
      "'BEPH'\n",
      "'BFAM'\n",
      "'BFZ'\n",
      "'BGRY'\n",
      "'BGX'\n",
      "'BHE'\n",
      "'BHG'\n",
      "'BHSEU'\n",
      "'AVAN.U'\n"
     ]
    },
    {
     "name": "stderr",
     "output_type": "stream",
     "text": [
      "sleep 3 seconds and retrying https://data.alpaca.markets/v1/bars/day 3 more time(s)...\n"
     ]
    },
    {
     "name": "stdout",
     "output_type": "stream",
     "text": [
      "'AVGO'\n",
      "'AVIR'\n",
      "'AVO'\n",
      "'AVTR'\n",
      "'AVYA'\n",
      "'AWR'\n",
      "'AXON'\n",
      "'AZRX'\n",
      "'BABA'\n",
      "'BAM'\n",
      "'BANFP'\n",
      "'BASE'\n",
      "'BBAR'\n"
     ]
    },
    {
     "name": "stderr",
     "output_type": "stream",
     "text": [
      "sleep 3 seconds and retrying https://data.alpaca.markets/v1/bars/day 3 more time(s)...\n"
     ]
    },
    {
     "name": "stdout",
     "output_type": "stream",
     "text": [
      "'BBDC'\n",
      "'BBQ'\n",
      "'BCAB'\n",
      "'BCLI'\n",
      "'BCOV'\n",
      "'BCYPU'\n",
      "'BDJ'\n",
      "'BDSX'\n",
      "'BENER'\n",
      "'BF.A'\n",
      "'BFST'\n",
      "'BGFV'\n",
      "'BGR'\n"
     ]
    },
    {
     "name": "stderr",
     "output_type": "stream",
     "text": [
      "sleep 3 seconds and retrying https://data.alpaca.markets/v1/bars/day 3 more time(s)...\n"
     ]
    },
    {
     "name": "stdout",
     "output_type": "stream",
     "text": [
      "'BGSX.U'\n",
      "'BHAT'\n",
      "'BHFAO'\n",
      "'BHR'\n",
      "'BHVN'\n",
      "'AVCT'\n",
      "'AVNS'\n",
      "'AWH'\n",
      "'AXL'\n",
      "'AXS'\n",
      "'AYLA'\n",
      "'AZO'\n",
      "'AZZ'\n",
      "'BAK'\n"
     ]
    },
    {
     "name": "stderr",
     "output_type": "stream",
     "text": [
      "sleep 3 seconds and retrying https://data.alpaca.markets/v1/bars/day 3 more time(s)...\n"
     ]
    },
    {
     "name": "stdout",
     "output_type": "stream",
     "text": [
      "'BAMR'\n",
      "'BAOS'\n",
      "'BATRA'\n",
      "'BBGI'\n",
      "'BBL'\n",
      "'BBWI'\n",
      "'BCAT'\n",
      "'BCEL'\n",
      "'BCO'\n",
      "'BCX'\n",
      "'BE'\n",
      "'BELFB'\n",
      "'BERY'\n",
      "'BFC'\n",
      "'BG'\n",
      "'BGIO'\n",
      "'BGS'\n",
      "'BGY'\n",
      "'BHF'\n",
      "'BHK'\n"
     ]
    },
    {
     "name": "stderr",
     "output_type": "stream",
     "text": [
      "sleep 3 seconds and retrying https://data.alpaca.markets/v1/bars/day 3 more time(s)...\n"
     ]
    },
    {
     "name": "stdout",
     "output_type": "stream",
     "text": [
      "'BHTG'\n",
      "'BICK'\n",
      "'BIGZ'\n",
      "'BDTX'\n",
      "'BEDU'\n",
      "'BEP'\n",
      "'BF.B'\n",
      "'BGH'\n",
      "'BGRN'\n",
      "'BGT'\n",
      "'BHFAP'\n",
      "'BHSE'\n",
      "'BIB'\n",
      "'BIGC'\n"
     ]
    },
    {
     "name": "stderr",
     "output_type": "stream",
     "text": [
      "sleep 3 seconds and retrying https://data.alpaca.markets/v1/bars/day 3 more time(s)...\n"
     ]
    },
    {
     "name": "stdout",
     "output_type": "stream",
     "text": [
      "'BIOT'\n",
      "'BJK'\n",
      "'BKEPP'\n",
      "'BLCT'\n",
      "'BLE'\n",
      "'BLIN'\n",
      "'BLNGU'\n",
      "'BLTSU'\n",
      "'BLW'\n",
      "'BMTC'\n",
      "'BNDX'\n",
      "'BNS'\n"
     ]
    },
    {
     "name": "stderr",
     "output_type": "stream",
     "text": [
      "sleep 3 seconds and retrying https://data.alpaca.markets/v1/bars/day 3 more time(s)...\n"
     ]
    },
    {
     "name": "stdout",
     "output_type": "stream",
     "text": [
      "'BOAC.U'\n",
      "'BOLT'\n",
      "'BOOT'\n",
      "'BOTJ'\n",
      "'BOXL'\n",
      "'BPOPN'\n",
      "'BHLB'\n",
      "'BB'\n",
      "'BIDU'\n",
      "'BIIB'\n",
      "'BIO.B'\n",
      "'BIP'\n",
      "'BITE'\n",
      "'BKE'\n"
     ]
    },
    {
     "name": "stderr",
     "output_type": "stream",
     "text": [
      "sleep 3 seconds and retrying https://data.alpaca.markets/v1/bars/day 3 more time(s)...\n"
     ]
    },
    {
     "name": "stdout",
     "output_type": "stream",
     "text": [
      "'BKN'\n",
      "'BKSY'\n",
      "'BLBD'\n",
      "'BLFY'\n",
      "'BLL'\n",
      "'BLPH'\n",
      "'BLUE'\n",
      "'BMRA'\n",
      "'BND'\n",
      "'BNFT'\n",
      "'BNTX'\n",
      "'BOH'\n",
      "'BON'\n",
      "'BOSC'\n",
      "'BOWX'\n",
      "'BPMP'\n",
      "'BPTH'\n",
      "'BQ'\n",
      "'BREZ'\n",
      "'BRIV'\n",
      "'BRKS'\n",
      "'BRO'\n",
      "'BRSP'\n"
     ]
    },
    {
     "name": "stderr",
     "output_type": "stream",
     "text": [
      "sleep 3 seconds and retrying https://data.alpaca.markets/v1/bars/day 3 more time(s)...\n"
     ]
    },
    {
     "name": "stdout",
     "output_type": "stream",
     "text": [
      "'BSAC'\n",
      "'BSCE'\n",
      "'BSCR'\n",
      "'BSET'\n",
      "'BSJL'\n",
      "'BSJS'\n",
      "'BHV'\n",
      "'BIF'\n",
      "'BIOC'\n",
      "'BIPC'\n",
      "'BITE.U'\n",
      "'BJ'\n"
     ]
    },
    {
     "name": "stderr",
     "output_type": "stream",
     "text": [
      "sleep 3 seconds and retrying https://data.alpaca.markets/v1/bars/day 3 more time(s)...\n"
     ]
    },
    {
     "name": "stdout",
     "output_type": "stream",
     "text": [
      "'BKI'\n",
      "'BKNG'\n",
      "'BKT'\n",
      "'BLCM'\n",
      "'BLDP'\n",
      "'BLMN'\n",
      "'BLSA'\n",
      "'BMBL'\n",
      "'BMRC'\n",
      "'BNGO'\n",
      "'BNY'\n",
      "'BOWXU'\n",
      "'BPOP'\n",
      "'BPTS'\n"
     ]
    },
    {
     "name": "stderr",
     "output_type": "stream",
     "text": [
      "sleep 3 seconds and retrying https://data.alpaca.markets/v1/bars/day 3 more time(s)...\n"
     ]
    },
    {
     "name": "stdout",
     "output_type": "stream",
     "text": [
      "'BR'\n",
      "'BREZR'\n",
      "'BRIVU'\n",
      "'BRLI'\n",
      "'BROG'\n",
      "'BRW'\n",
      "'BSAE'\n",
      "'BSCL'\n",
      "'BSCS'\n",
      "'BSGA'\n",
      "'BSJN'\n",
      "'BSL'\n",
      "'BIG'\n",
      "'BILI'\n"
     ]
    },
    {
     "name": "stderr",
     "output_type": "stream",
     "text": [
      "sleep 3 seconds and retrying https://data.alpaca.markets/v1/bars/day 3 more time(s)...\n"
     ]
    },
    {
     "name": "stdout",
     "output_type": "stream",
     "text": [
      "'BIOL'\n",
      "'BIPH'\n",
      "'BITF'\n",
      "'BK'\n",
      "'BKEP'\n",
      "'BKR'\n",
      "'BLCN'\n",
      "'BLDR'\n",
      "'BLI'\n",
      "'BLND'\n",
      "'BLTS'\n",
      "'BME'\n",
      "'BMRN'\n",
      "'BNDW'\n",
      "'BNR'\n",
      "'BOAC'\n",
      "'BOCH'\n",
      "'BOKF'\n"
     ]
    },
    {
     "name": "stderr",
     "output_type": "stream",
     "text": [
      "sleep 3 seconds and retrying https://data.alpaca.markets/v1/bars/day 3 more time(s)...\n"
     ]
    },
    {
     "name": "stdout",
     "output_type": "stream",
     "text": [
      "'BOOM'\n",
      "'BOX'\n",
      "'BPOPM'\n",
      "'BPYPM'\n",
      "'BRAG'\n",
      "'BRK.A'\n",
      "'BRLIR'\n",
      "'BROS'\n",
      "'BRX'\n",
      "'BSAQ'\n",
      "'BSCM'\n",
      "'BSCT'\n",
      "'BSGAR'\n",
      "'BSJO'\n",
      "'BSM'\n"
     ]
    },
    {
     "name": "stderr",
     "output_type": "stream",
     "text": [
      "sleep 3 seconds and retrying https://data.alpaca.markets/v1/bars/day 3 more time(s)...\n"
     ]
    },
    {
     "name": "stdout",
     "output_type": "stream",
     "text": [
      "'BSMR'\n",
      "'BIMI'\n",
      "'BIOTU'\n",
      "'BIS'\n",
      "'BJRI'\n",
      "'BKCC'\n",
      "'BKSC'\n",
      "'BKYI'\n",
      "'BLD'\n",
      "'BLK'\n",
      "'BLNK'\n",
      "'BLU'\n"
     ]
    },
    {
     "name": "stderr",
     "output_type": "stream",
     "text": [
      "sleep 3 seconds and retrying https://data.alpaca.markets/v1/bars/day 3 more time(s)...\n"
     ]
    },
    {
     "name": "stdout",
     "output_type": "stream",
     "text": [
      "'BLX'\n",
      "'BMEZ'\n",
      "'BNL'\n",
      "'BNSO'\n",
      "'BOAS'\n",
      "'BODY'\n",
      "'BOTZ'\n",
      "'BP'\n",
      "'BPRN'\n",
      "'BPYPO'\n",
      "'BRCN'\n",
      "'BRKL'\n",
      "'BRMK'\n",
      "'BRPMU'\n"
     ]
    },
    {
     "name": "stderr",
     "output_type": "stream",
     "text": [
      "sleep 3 seconds and retrying https://data.alpaca.markets/v1/bars/day 3 more time(s)...\n"
     ]
    },
    {
     "name": "stdout",
     "output_type": "stream",
     "text": [
      "'BSBK'\n",
      "'BSCO'\n",
      "'BSDE'\n",
      "'BSGM'\n",
      "'BSJQ'\n",
      "'BSMM'\n",
      "'BIO'\n",
      "'BIOX'\n",
      "'BIT'\n",
      "'BIVI'\n",
      "'BKD'\n",
      "'BKH'\n",
      "'BL'\n"
     ]
    },
    {
     "name": "stderr",
     "output_type": "stream",
     "text": [
      "sleep 3 seconds and retrying https://data.alpaca.markets/v1/bars/day 3 more time(s)...\n"
     ]
    },
    {
     "name": "stdout",
     "output_type": "stream",
     "text": [
      "'BLDE'\n",
      "'BLFS'\n",
      "'BLKB'\n",
      "'BLUA.U'\n",
      "'BMI'\n",
      "'BMY'\n",
      "'BNED'\n",
      "'BNTC'\n",
      "'BOAS.U'\n",
      "'BOE'\n",
      "'BOMN'\n",
      "'BORR'\n",
      "'BPMC'\n",
      "'BPT'\n",
      "'BPYPP'\n",
      "'BRDG'\n",
      "'BRID'\n",
      "'BRKR'\n",
      "'BRQS'\n",
      "'BSA'\n",
      "'BSBR'\n",
      "'BSCQ'\n"
     ]
    },
    {
     "name": "stderr",
     "output_type": "stream",
     "text": [
      "sleep 3 seconds and retrying https://data.alpaca.markets/v1/bars/day 3 more time(s)...\n"
     ]
    },
    {
     "name": "stdout",
     "output_type": "stream",
     "text": [
      "'BSIG'\n",
      "'BSJR'\n",
      "'BSMN'\n",
      "'BSMU'\n",
      "'BST'\n",
      "'BPYPN'\n",
      "'BRBR'\n",
      "'BRFS'\n",
      "'BRK.B'\n",
      "'BRLIU'\n",
      "'BRP'\n",
      "'BRY'\n",
      "'BSAQ.U'\n",
      "'BSCN'\n"
     ]
    },
    {
     "name": "stderr",
     "output_type": "stream",
     "text": [
      "sleep 3 seconds and retrying https://data.alpaca.markets/v1/bars/day 3 more time(s)...\n"
     ]
    },
    {
     "name": "stdout",
     "output_type": "stream",
     "text": [
      "'BSCU'\n",
      "'BSGAU'\n",
      "'BSJP'\n",
      "'BSML'\n",
      "'BSMS'\n",
      "'BSQR'\n",
      "'BTA'\n",
      "'BTCM'\n",
      "'BTNB'\n",
      "'BTWNU'\n",
      "'BUR'\n",
      "'BVH'\n",
      "'BWAC'\n",
      "'BWEN'\n"
     ]
    },
    {
     "name": "stderr",
     "output_type": "stream",
     "text": [
      "sleep 3 seconds and retrying https://data.alpaca.markets/v1/bars/day 3 more time(s)...\n"
     ]
    },
    {
     "name": "stdout",
     "output_type": "stream",
     "text": [
      "'BWXT'\n",
      "'BXRX'\n",
      "'BYND'\n",
      "'CACG'\n",
      "'CAG'\n",
      "'CAKE'\n",
      "'CALM'\n",
      "'CAPR'\n",
      "'CARS'\n",
      "'CASH'\n",
      "'CATC'\n",
      "'CBAH.U'\n",
      "'CBNK'\n"
     ]
    },
    {
     "name": "stderr",
     "output_type": "stream",
     "text": [
      "sleep 3 seconds and retrying https://data.alpaca.markets/v1/bars/day 3 more time(s)...\n"
     ]
    },
    {
     "name": "stdout",
     "output_type": "stream",
     "text": [
      "'CCAC.U'\n",
      "'BSMO'\n",
      "'BSMX'\n",
      "'BSVN'\n",
      "'BTAQU'\n",
      "'BTT'\n",
      "'BUI'\n",
      "'BVXV'\n",
      "'BWB'\n",
      "'BWMN'\n",
      "'BXC'\n",
      "'BYD'\n",
      "'BYTS'\n",
      "'CABA'\n",
      "'CADL'\n",
      "'CAHCU'\n",
      "'CALB'\n",
      "'CAMP'\n",
      "'CANO'\n",
      "'CARE'\n",
      "'CAS'\n",
      "'CASY'\n",
      "'CBD'\n",
      "'CBRE'\n"
     ]
    },
    {
     "name": "stderr",
     "output_type": "stream",
     "text": [
      "sleep 3 seconds and retrying https://data.alpaca.markets/v1/bars/day 3 more time(s)...\n"
     ]
    },
    {
     "name": "stdout",
     "output_type": "stream",
     "text": [
      "'CBU'\n",
      "'CCB'\n",
      "'CCM'\n",
      "'CCV.U'\n",
      "'CDC'\n",
      "'CDLX'\n",
      "'CE'\n",
      "'CELU'\n",
      "'CENX'\n",
      "'CGAU'\n",
      "'BSMQ'\n",
      "'BSN.U'\n",
      "'BSX'\n"
     ]
    },
    {
     "name": "stderr",
     "output_type": "stream",
     "text": [
      "sleep 3 seconds and retrying https://data.alpaca.markets/v1/bars/day 3 more time(s)...\n"
     ]
    },
    {
     "name": "stdout",
     "output_type": "stream",
     "text": [
      "'BTB'\n",
      "'BTI'\n",
      "'BTU'\n",
      "'BUD'\n",
      "'BW'\n",
      "'BWBBP'\n",
      "'BWMX'\n",
      "'BXMT'\n",
      "'BYFC'\n",
      "'BYTSU'\n",
      "'CABO'\n",
      "'CAE'\n",
      "'CAI'\n",
      "'CAMT'\n"
     ]
    },
    {
     "name": "stderr",
     "output_type": "stream",
     "text": [
      "sleep 3 seconds and retrying https://data.alpaca.markets/v1/bars/day 3 more time(s)...\n"
     ]
    },
    {
     "name": "stdout",
     "output_type": "stream",
     "text": [
      "'CARG'\n",
      "'CAS.U'\n",
      "'CAT'\n",
      "'CB'\n",
      "'CBFV'\n",
      "'CC'\n",
      "'CCCC'\n",
      "'CCI'\n",
      "'CCMP'\n",
      "'CCRN'\n",
      "'CCVI'\n",
      "'CDE'\n",
      "'CDMO'\n"
     ]
    },
    {
     "name": "stderr",
     "output_type": "stream",
     "text": [
      "sleep 3 seconds and retrying https://data.alpaca.markets/v1/bars/day 3 more time(s)...\n"
     ]
    },
    {
     "name": "stdout",
     "output_type": "stream",
     "text": [
      "'CDW'\n",
      "'CECE'\n",
      "'CEIX'\n",
      "'CERN'\n",
      "'CFG'\n",
      "'CGNT'\n",
      "'BSMT'\n",
      "'BSRR'\n",
      "'BTAI'\n",
      "'BTCY'\n",
      "'BTO'\n",
      "'BURL'\n",
      "'BVN'\n",
      "'BWACU'\n",
      "'BWFG'\n"
     ]
    },
    {
     "name": "stderr",
     "output_type": "stream",
     "text": [
      "sleep 3 seconds and retrying https://data.alpaca.markets/v1/bars/day 3 more time(s)...\n"
     ]
    },
    {
     "name": "stdout",
     "output_type": "stream",
     "text": [
      "'BXS'\n",
      "'BYRN'\n",
      "'BZUN'\n",
      "'CACI'\n",
      "'CAH'\n",
      "'CAL'\n",
      "'CALT'\n",
      "'CAR'\n",
      "'CARV'\n",
      "'CASI'\n",
      "'CATH'\n",
      "'CBAN'\n",
      "'CCAIU'\n",
      "'CCEL'\n",
      "'CCL'\n"
     ]
    },
    {
     "name": "stderr",
     "output_type": "stream",
     "text": [
      "sleep 3 seconds and retrying https://data.alpaca.markets/v1/bars/day 3 more time(s)...\n"
     ]
    },
    {
     "name": "stdout",
     "output_type": "stream",
     "text": [
      "'CCO'\n",
      "'CCU'\n",
      "'CCZ'\n",
      "'C'\n",
      "'CDZI'\n",
      "'CEFA'\n",
      "'CELH'\n",
      "'CENQU'\n",
      "'CEVA'\n",
      "'CFV'\n",
      "'BSY'\n"
     ]
    },
    {
     "name": "stderr",
     "output_type": "stream",
     "text": [
      "sleep 3 seconds and retrying https://data.alpaca.markets/v1/bars/day 3 more time(s)...\n"
     ]
    },
    {
     "name": "stdout",
     "output_type": "stream",
     "text": [
      "'BTBT'\n",
      "'BTWN'\n",
      "'BV'\n",
      "'BWA'\n",
      "'BWCAU'\n",
      "'BWSN'\n",
      "'BXMX'\n",
      "'BZ'\n",
      "'CAC'\n",
      "'CAF'\n",
      "'CAJ'\n",
      "'CAN'\n",
      "'CAPL'\n",
      "'CARR'\n",
      "'CASA'\n",
      "'CBAH'\n"
     ]
    },
    {
     "name": "stderr",
     "output_type": "stream",
     "text": [
      "sleep 3 seconds and retrying https://data.alpaca.markets/v1/bars/day 3 more time(s)...\n"
     ]
    },
    {
     "name": "stdout",
     "output_type": "stream",
     "text": [
      "'CBH'\n",
      "'CBMB'\n",
      "'CBT'\n",
      "'CCAC'\n",
      "'CCCS'\n",
      "'CCJ'\n",
      "'CCNE'\n",
      "'CCVI.U'\n",
      "'CDEV'\n",
      "'CDNA'\n",
      "'CDXC'\n",
      "'CEE'\n",
      "'CELC'\n",
      "'CEMI'\n"
     ]
    },
    {
     "name": "stderr",
     "output_type": "stream",
     "text": [
      "sleep 3 seconds and retrying https://data.alpaca.markets/v1/bars/day 3 more time(s)...\n"
     ]
    },
    {
     "name": "stdout",
     "output_type": "stream",
     "text": [
      "'CERS'\n",
      "'CFIV'\n",
      "'CGNX'\n",
      "'CHI'\n",
      "'BTEC'\n",
      "'BTRS'\n",
      "'BTZ'\n",
      "'BUG'\n",
      "'BUSE'\n",
      "'BVS'\n",
      "'BWAY'\n",
      "'BWG'\n",
      "'BX'\n",
      "'BY'\n",
      "'BYSI'\n",
      "'CAAP'\n",
      "'CADE'\n",
      "'CAHC'\n",
      "'CALA'\n",
      "'CALX'\n",
      "'CANG'\n",
      "'CARA'\n",
      "'CARZ'\n",
      "'CASS'\n"
     ]
    },
    {
     "name": "stderr",
     "output_type": "stream",
     "text": [
      "sleep 3 seconds and retrying https://data.alpaca.markets/v1/bars/day 3 more time(s)...\n"
     ]
    },
    {
     "name": "stdout",
     "output_type": "stream",
     "text": [
      "'CATO'\n",
      "'CBAT'\n",
      "'CBTX'\n",
      "'CCAP'\n",
      "'CCEP'\n",
      "'CCLP'\n",
      "'CCOI'\n",
      "'CCV'\n",
      "'CD'\n",
      "'CDL'\n",
      "'CDR'\n",
      "'CDZIP'\n"
     ]
    },
    {
     "name": "stderr",
     "output_type": "stream",
     "text": [
      "sleep 3 seconds and retrying https://data.alpaca.markets/v1/bars/day 3 more time(s)...\n"
     ]
    },
    {
     "name": "stdout",
     "output_type": "stream",
     "text": [
      "'CELP'\n",
      "'CENT'\n",
      "'CFBK'\n",
      "'CGABL'\n",
      "'CCD'\n",
      "'CCK'\n",
      "'CCNEP'\n",
      "'CCS'\n",
      "'CCXI'\n",
      "'CDK'\n",
      "'CDNS'\n",
      "'CDXS'\n",
      "'CELG.RT'\n",
      "'CEN'\n"
     ]
    },
    {
     "name": "stderr",
     "output_type": "stream",
     "text": [
      "sleep 3 seconds and retrying https://data.alpaca.markets/v1/bars/day 3 more time(s)...\n"
     ]
    },
    {
     "name": "stdout",
     "output_type": "stream",
     "text": [
      "'CFRX'\n",
      "'CHAA.U'\n",
      "'CHNGU'\n",
      "'CHX'\n",
      "'CIH'\n",
      "'CLAA.U'\n",
      "'CLBR'\n",
      "'CLDX'\n",
      "'CME'\n",
      "'COFS'\n",
      "'COLM'\n",
      "'COO'\n",
      "'CORS'\n"
     ]
    },
    {
     "name": "stderr",
     "output_type": "stream",
     "text": [
      "sleep 3 seconds and retrying https://data.alpaca.markets/v1/bars/day 3 more time(s)...\n"
     ]
    },
    {
     "name": "stdout",
     "output_type": "stream",
     "text": [
      "'CPRI'\n",
      "'CRH'\n",
      "'CSGS'\n",
      "'CTAC.U'\n",
      "'CTK'\n",
      "'CTRE'\n",
      "'DBGI'\n",
      "'DBRG'\n",
      "'DCOMP'\n",
      "'DE'\n",
      "'CHDN'\n",
      "'CHRW'\n",
      "'CIDM'\n",
      "'CIO'\n",
      "'CKPT'\n",
      "'CLAS'\n",
      "'CLBT'\n"
     ]
    },
    {
     "name": "stderr",
     "output_type": "stream",
     "text": [
      "sleep 3 seconds and retrying https://data.alpaca.markets/v1/bars/day 3 more time(s)...\n"
     ]
    },
    {
     "name": "stdout",
     "output_type": "stream",
     "text": [
      "'CLIM'\n",
      "'CO'\n",
      "'COKE'\n",
      "'COMT'\n",
      "'COOP'\n",
      "'COVA'\n",
      "'CR'\n",
      "'CRTD'\n",
      "'CSTA.U'\n",
      "'CTDD'\n",
      "'CTO'\n",
      "'CTT'\n",
      "'CVEO'\n",
      "'DBL'\n"
     ]
    },
    {
     "name": "stderr",
     "output_type": "stream",
     "text": [
      "sleep 3 seconds and retrying https://data.alpaca.markets/v1/bars/day 3 more time(s)...\n"
     ]
    },
    {
     "name": "stdout",
     "output_type": "stream",
     "text": [
      "'DBX'\n",
      "'DCRNU'\n",
      "'DDL'\n",
      "'DILA'\n",
      "'DISA'\n",
      "'DKDCA'\n",
      "'DLB'\n",
      "'DLO'\n",
      "'DLX'\n",
      "'DMB'\n",
      "'DMRC'\n",
      "'DMS'\n"
     ]
    },
    {
     "name": "stderr",
     "output_type": "stream",
     "text": [
      "sleep 3 seconds and retrying https://data.alpaca.markets/v1/bars/day 3 more time(s)...\n"
     ]
    },
    {
     "name": "stdout",
     "output_type": "stream",
     "text": [
      "'DMYQ.U'\n",
      "'CHE'\n",
      "'CHSCP'\n",
      "'CIEN'\n",
      "'CIR'\n",
      "'CL'\n",
      "'CLAS.U'\n",
      "'CODI'\n",
      "'COLB'\n",
      "'CONN'\n",
      "'COP'\n",
      "'CRY'\n",
      "'CSU'\n",
      "'CTHR'\n",
      "'CTOS'\n",
      "'CTVA'\n"
     ]
    },
    {
     "name": "stderr",
     "output_type": "stream",
     "text": [
      "sleep 3 seconds and retrying https://data.alpaca.markets/v1/bars/day 3 more time(s)...\n"
     ]
    },
    {
     "name": "stdout",
     "output_type": "stream",
     "text": [
      "'CWST'\n",
      "'D'\n",
      "'DCBO'\n",
      "'DCT'\n",
      "'DDMX'\n",
      "'DGX'\n",
      "'DILAU'\n",
      "'DISAU'\n",
      "'DJCO'\n",
      "'DKDCU'\n",
      "'DLCA'\n",
      "'DLPN'\n"
     ]
    },
    {
     "name": "stderr",
     "output_type": "stream",
     "text": [
      "sleep 3 seconds and retrying https://data.alpaca.markets/v1/bars/day 3 more time(s)...\n"
     ]
    },
    {
     "name": "stdout",
     "output_type": "stream",
     "text": [
      "'DLY'\n",
      "'DMTK'\n",
      "'DNAA'\n",
      "'DNB'\n",
      "'CHNR'\n",
      "'CHY'\n",
      "'CII'\n",
      "'CIXX'\n",
      "'CLAQR'\n",
      "'CLBR.U'\n",
      "'CLEU'\n",
      "'CMMB'\n",
      "'COOL'\n",
      "'CORT'\n",
      "'CPSR.U'\n",
      "'CRL'\n",
      "'CSOD'\n",
      "'CTAQU'\n",
      "'CTKB'\n",
      "'CTS'\n",
      "'CULP'\n",
      "'CYBE'\n",
      "'DCRCU'\n",
      "'DDF'\n",
      "'DEA'\n"
     ]
    },
    {
     "name": "stderr",
     "output_type": "stream",
     "text": [
      "sleep 3 seconds and retrying https://data.alpaca.markets/v1/bars/day 3 more time(s)...\n"
     ]
    },
    {
     "name": "stdout",
     "output_type": "stream",
     "text": [
      "'DGNU'\n",
      "'DHIL'\n",
      "'DIBS'\n",
      "'DISCK'\n",
      "'DKS'\n",
      "'DLTH'\n",
      "'DMLP'\n",
      "'DMYI.U'\n",
      "'CHT'\n",
      "'CIG.C'\n",
      "'CIVB'\n",
      "'CLAA'\n"
     ]
    },
    {
     "name": "stderr",
     "output_type": "stream",
     "text": [
      "sleep 3 seconds and retrying https://data.alpaca.markets/v1/bars/day 3 more time(s)...\n"
     ]
    },
    {
     "name": "stdout",
     "output_type": "stream",
     "text": [
      "'CLAY'\n",
      "'CLDT'\n",
      "'CLOE'\n",
      "'CODX'\n",
      "'COLI'\n",
      "'CONX'\n",
      "'COR'\n",
      "'CPNG'\n",
      "'CRDF'\n",
      "'CSAN'\n",
      "'CSWC'\n",
      "'CTIC'\n",
      "'CTR'\n",
      "'CUBE'\n"
     ]
    },
    {
     "name": "stderr",
     "output_type": "stream",
     "text": [
      "sleep 3 seconds and retrying https://data.alpaca.markets/v1/bars/day 3 more time(s)...\n"
     ]
    },
    {
     "name": "stdout",
     "output_type": "stream",
     "text": [
      "'CXM'\n",
      "'DALI'\n",
      "'DCOM'\n",
      "'DD'\n",
      "'DDMXU'\n",
      "'DGICA'\n",
      "'DHCAU'\n",
      "'DISCA'\n",
      "'DKL'\n",
      "'DLCAU'\n",
      "'DLR'\n",
      "'DM'\n",
      "'DMXF'\n",
      "'DNAB'\n",
      "'DNOW'\n"
     ]
    },
    {
     "name": "stderr",
     "output_type": "stream",
     "text": [
      "sleep 3 seconds and retrying https://data.alpaca.markets/v1/bars/day 3 more time(s)...\n"
     ]
    },
    {
     "name": "stdout",
     "output_type": "stream",
     "text": [
      "'DOCN'\n",
      "'CHRS'\n",
      "'CIBR'\n",
      "'CINF'\n",
      "'CJJD'\n",
      "'CLAR'\n",
      "'CLBS'\n",
      "'CLI'\n",
      "'CNXN'\n",
      "'COHR'\n",
      "'COOLU'\n",
      "'COTY'\n",
      "'CPUH'\n",
      "'CSSEP'\n",
      "'CTBI'\n",
      "'CTMX'\n",
      "'CTSO'\n",
      "'CUZ'\n",
      "'CYH'\n",
      "'DBDRU'\n",
      "'DBVT'\n",
      "'DCRN'\n"
     ]
    },
    {
     "name": "stderr",
     "output_type": "stream",
     "text": [
      "sleep 3 seconds and retrying https://data.alpaca.markets/v1/bars/day 3 more time(s)...\n"
     ]
    },
    {
     "name": "stdout",
     "output_type": "stream",
     "text": [
      "'DHR'\n",
      "'DIS'\n",
      "'DK'\n",
      "'DLNG'\n",
      "'DLTR'\n",
      "'DMO'\n",
      "'DMYQ'\n",
      "'DNAD'\n",
      "'DNMR'\n",
      "'DNZ'\n",
      "'DOCU'\n",
      "'DGICB'\n",
      "'DHCNI'\n"
     ]
    },
    {
     "name": "stderr",
     "output_type": "stream",
     "text": [
      "sleep 3 seconds and retrying https://data.alpaca.markets/v1/bars/day 3 more time(s)...\n"
     ]
    },
    {
     "name": "stdout",
     "output_type": "stream",
     "text": [
      "'DIAX'\n",
      "'DIN'\n",
      "'DISCB'\n",
      "'DKNG'\n",
      "'DLHC'\n",
      "'DMAC'\n",
      "'DMYI'\n",
      "'DNAC'\n",
      "'DNP'\n",
      "'DOCS'\n",
      "'DOOO'\n",
      "'DOYU'\n"
     ]
    },
    {
     "name": "stderr",
     "output_type": "stream",
     "text": [
      "sleep 3 seconds and retrying https://data.alpaca.markets/v1/bars/day 3 more time(s)...\n"
     ]
    },
    {
     "name": "stdout",
     "output_type": "stream",
     "text": [
      "'DQ'\n",
      "'DRIV'\n",
      "'DRTT'\n",
      "'DSACU'\n",
      "'DSKE'\n",
      "'DSWL'\n",
      "'DTEA'\n",
      "'DTSS'\n",
      "'DUK'\n",
      "'DUOL'\n",
      "'DV'\n",
      "'DVN'\n",
      "'DWAS'\n",
      "'DWIN'\n"
     ]
    },
    {
     "name": "stderr",
     "output_type": "stream",
     "text": [
      "sleep 3 seconds and retrying https://data.alpaca.markets/v1/bars/day 3 more time(s)...\n"
     ]
    },
    {
     "name": "stdout",
     "output_type": "stream",
     "text": [
      "'DWPP'\n",
      "'DXC'\n",
      "'DXJS'\n",
      "'DYFN'\n",
      "'DYNT'\n",
      "'EA'\n",
      "'DNAY'\n",
      "'DNZ.U'\n",
      "'DOMO'\n",
      "'DOV'\n",
      "'DRH'\n",
      "'DRNA'\n",
      "'DSGX'\n",
      "'DSM'\n"
     ]
    },
    {
     "name": "stderr",
     "output_type": "stream",
     "text": [
      "sleep 3 seconds and retrying https://data.alpaca.markets/v1/bars/day 3 more time(s)...\n"
     ]
    },
    {
     "name": "stdout",
     "output_type": "stream",
     "text": [
      "'DTB'\n",
      "'DTY'\n",
      "'DUNE'\n",
      "'CMI'\n",
      "'DWUS'\n",
      "'DYN'\n",
      "'DZSI'\n",
      "'EAST'\n",
      "'EBAY'\n",
      "'EBMT'\n",
      "'EBSB'\n",
      "'ECCW'\n",
      "'ECL'\n",
      "'ECOR'\n",
      "'ED'\n"
     ]
    },
    {
     "name": "stderr",
     "output_type": "stream",
     "text": [
      "sleep 3 seconds and retrying https://data.alpaca.markets/v1/bars/day 3 more time(s)...\n"
     ]
    },
    {
     "name": "stdout",
     "output_type": "stream",
     "text": [
      "'EDIT'\n",
      "'EDTXU'\n",
      "'EEA'\n",
      "'EEMA'\n",
      "'DNLI'\n",
      "'DNUT'\n",
      "'DOLE'\n",
      "'DOOR'\n",
      "'DPG'\n",
      "'DRAY'\n",
      "'DRMA'\n",
      "'DSL'\n",
      "'DSPG'\n",
      "'DSX'\n",
      "'DTOC'\n",
      "'DTST'\n"
     ]
    },
    {
     "name": "stderr",
     "output_type": "stream",
     "text": [
      "sleep 3 seconds and retrying https://data.alpaca.markets/v1/bars/day 3 more time(s)...\n"
     ]
    },
    {
     "name": "stdout",
     "output_type": "stream",
     "text": [
      "'DUKB'\n",
      "'DUOT'\n",
      "'DVA'\n",
      "'DVOL'\n",
      "'DWAT'\n",
      "'DWIN.U'\n",
      "'DWSH'\n",
      "'DXCM'\n",
      "'DXLG'\n",
      "'EAC'\n",
      "'EARN'\n",
      "'EBAC'\n",
      "'EBIZ'\n"
     ]
    },
    {
     "name": "stderr",
     "output_type": "stream",
     "text": [
      "sleep 3 seconds and retrying https://data.alpaca.markets/v1/bars/day 3 more time(s)...\n"
     ]
    },
    {
     "name": "stdout",
     "output_type": "stream",
     "text": [
      "'EBR.B'\n",
      "'ECCB'\n",
      "'ECOM'\n",
      "'EDOC'\n",
      "'EDTK'\n",
      "'DOC'\n",
      "'DOW'\n",
      "'DRI'\n",
      "'DRQ'\n",
      "'DS'\n",
      "'DTIL'\n",
      "'DTP'\n",
      "'DUNEU'\n",
      "'DVD'\n",
      "'DWCR'\n"
     ]
    },
    {
     "name": "stderr",
     "output_type": "stream",
     "text": [
      "sleep 3 seconds and retrying https://data.alpaca.markets/v1/bars/day 3 more time(s)...\n"
     ]
    },
    {
     "name": "stdout",
     "output_type": "stream",
     "text": [
      "'DWMC'\n",
      "'DXGE'\n",
      "'DY'\n",
      "'EAF'\n",
      "'EAT'\n",
      "'EBC'\n",
      "'EBTC'\n",
      "'ECCX'\n",
      "'ECOW'\n",
      "'EDAP'\n",
      "'EDR'\n",
      "'EDU'\n",
      "'EEFT'\n",
      "'DOGZ'\n",
      "'DOX'\n",
      "'DPZ'\n",
      "'DSAC'\n",
      "'DSP'\n",
      "'DSU'\n",
      "'DTE'\n",
      "'DTM'\n",
      "'DTRTU'\n"
     ]
    },
    {
     "name": "stderr",
     "output_type": "stream",
     "text": [
      "sleep 3 seconds and retrying https://data.alpaca.markets/v1/bars/day 3 more time(s)...\n"
     ]
    },
    {
     "name": "stdout",
     "output_type": "stream",
     "text": [
      "'DUO'\n",
      "'DVLU'\n",
      "'DWACU'\n",
      "'DWEQ'\n",
      "'DX'\n",
      "'DYAI'\n",
      "'DYNS'\n",
      "'E'\n",
      "'EBET'\n",
      "'EBON'\n",
      "'EC'\n"
     ]
    },
    {
     "name": "stderr",
     "output_type": "stream",
     "text": [
      "sleep 3 seconds and retrying https://data.alpaca.markets/v1/bars/day 3 more time(s)...\n"
     ]
    },
    {
     "name": "stdout",
     "output_type": "stream",
     "text": [
      "'ECCY'\n",
      "'EDN'\n",
      "'EDRY'\n",
      "'EDUC'\n",
      "'DOMA'\n",
      "'DORM'\n",
      "'DPRO'\n",
      "'DRAYU'\n",
      "'DRVN'\n",
      "'DSGN'\n",
      "'DT'\n",
      "'DTF'\n",
      "'DTOCU'\n",
      "'DTW'\n",
      "'DUKH'\n",
      "'DVAX'\n"
     ]
    },
    {
     "name": "stderr",
     "output_type": "stream",
     "text": [
      "sleep 3 seconds and retrying https://data.alpaca.markets/v1/bars/day 3 more time(s)...\n"
     ]
    },
    {
     "name": "stdout",
     "output_type": "stream",
     "text": [
      "'DVY'\n",
      "'DWAW'\n",
      "'DWSN'\n",
      "'DXPE'\n",
      "'EACPU'\n",
      "'EBACU'\n",
      "'EBS'\n",
      "'ECCC'\n",
      "'ECHO'\n",
      "'ECVT'\n",
      "'EDF'\n",
      "'EDTX'\n",
      "'EFOI'\n"
     ]
    },
    {
     "name": "stderr",
     "output_type": "stream",
     "text": [
      "sleep 3 seconds and retrying https://data.alpaca.markets/v1/bars/day 3 more time(s)...\n"
     ]
    },
    {
     "name": "stdout",
     "output_type": "stream",
     "text": [
      "'EAI'\n",
      "'EAR'\n",
      "'EB'\n",
      "'EBIX'\n",
      "'EBR'\n",
      "'ECC'\n",
      "'ECOL'\n",
      "'ECPG'\n",
      "'EDD'\n",
      "'EDNCU'\n",
      "'EDSA'\n",
      "'EDUT'\n",
      "'EEIQ'\n",
      "'EEX'\n",
      "'EFTR'\n",
      "'EGBN'\n"
     ]
    },
    {
     "name": "stderr",
     "output_type": "stream",
     "text": [
      "sleep 3 seconds and retrying https://data.alpaca.markets/v1/bars/day 3 more time(s)...\n"
     ]
    },
    {
     "name": "stdout",
     "output_type": "stream",
     "text": [
      "'EGLE'\n",
      "'EGY'\n",
      "'ELAT'\n",
      "'ELSE'\n",
      "'EMD'\n",
      "'EMO'\n",
      "'ENBA'\n",
      "'ENG'\n",
      "'ENNV'\n",
      "'ENPC.U'\n",
      "'ENTA'\n",
      "'ENVB'\n",
      "'ENZL'\n",
      "'EOLS'\n",
      "'EFC'\n"
     ]
    },
    {
     "name": "stderr",
     "output_type": "stream",
     "text": [
      "sleep 3 seconds and retrying https://data.alpaca.markets/v1/bars/day 3 more time(s)...\n"
     ]
    },
    {
     "name": "stdout",
     "output_type": "stream",
     "text": [
      "'EGF'\n",
      "'EGLX'\n",
      "'EH'\n",
      "'EIG'\n",
      "'EIX'\n",
      "'ELC'\n",
      "'ELTK'\n",
      "'EMIF'\n",
      "'EMP'\n",
      "'ENBL'\n",
      "'ENIA'\n",
      "'ENNVU'\n",
      "'ENPH'\n",
      "'ENTG'\n"
     ]
    },
    {
     "name": "stderr",
     "output_type": "stream",
     "text": [
      "sleep 3 seconds and retrying https://data.alpaca.markets/v1/bars/day 3 more time(s)...\n"
     ]
    },
    {
     "name": "stdout",
     "output_type": "stream",
     "text": [
      "'ENVI'\n",
      "'EOCW'\n",
      "'EPAY'\n",
      "'EPWR'\n",
      "'EQC'\n",
      "'EQHA.U'\n",
      "'EQR'\n",
      "'ERIE'\n",
      "'ESGE'\n",
      "'ESLT'\n",
      "'EFAS'\n",
      "'EFR'\n",
      "'EFX'\n",
      "'EGGF.U'\n"
     ]
    },
    {
     "name": "stderr",
     "output_type": "stream",
     "text": [
      "sleep 3 seconds and retrying https://data.alpaca.markets/v1/bars/day 3 more time(s)...\n"
     ]
    },
    {
     "name": "stdout",
     "output_type": "stream",
     "text": [
      "'EGP'\n",
      "'EHI'\n",
      "'EJFA'\n",
      "'EL'\n",
      "'ELDN'\n",
      "'ELOX'\n",
      "'ELYM'\n",
      "'EMCB'\n",
      "'EMKR'\n",
      "'EMR'\n",
      "'EMXC'\n",
      "'ENFA'\n"
     ]
    },
    {
     "name": "stderr",
     "output_type": "stream",
     "text": [
      "sleep 3 seconds and retrying https://data.alpaca.markets/v1/bars/day 3 more time(s)...\n"
     ]
    },
    {
     "name": "stdout",
     "output_type": "stream",
     "text": [
      "'ENJ'\n",
      "'ENOB'\n",
      "'ENSC'\n",
      "'ENTX'\n",
      "'ENVX'\n",
      "'EOD'\n",
      "'EOSE'\n",
      "'EPD'\n",
      "'EPRT'\n",
      "'EPZM'\n",
      "'EQD.U'\n",
      "'EQT'\n",
      "'ERESU'\n",
      "'ESCA'\n",
      "'EFSC'\n",
      "'EGHT'\n",
      "'EHTH'\n",
      "'EJFAU'\n",
      "'ELEV'\n",
      "'ELP'\n",
      "'ELYS'\n",
      "'EMCF'\n"
     ]
    },
    {
     "name": "stderr",
     "output_type": "stream",
     "text": [
      "sleep 3 seconds and retrying https://data.alpaca.markets/v1/bars/day 3 more time(s)...\n"
     ]
    },
    {
     "name": "stdout",
     "output_type": "stream",
     "text": [
      "'EML'\n",
      "'EMN'\n",
      "'EMXF'\n",
      "'ENFAU'\n",
      "'ENLC'\n",
      "'ENSG'\n",
      "'ENV'\n",
      "'EOG'\n",
      "'EOT'\n",
      "'EQ'\n",
      "'EQNR'\n",
      "'ERF'\n",
      "'ESGR'\n",
      "'ESQ'\n"
     ]
    },
    {
     "name": "stderr",
     "output_type": "stream",
     "text": [
      "sleep 3 seconds and retrying https://data.alpaca.markets/v1/bars/day 3 more time(s)...\n"
     ]
    },
    {
     "name": "stdout",
     "output_type": "stream",
     "text": [
      "'ESSCU'\n",
      "'ETAC'\n",
      "'EFL'\n",
      "'EFT'\n",
      "'EGAN'\n",
      "'EGRX'\n",
      "'EIC'\n",
      "'EJH'\n",
      "'ELAN'\n",
      "'ELF'\n",
      "'ELS'\n",
      "'EM'\n",
      "'ENB'\n"
     ]
    },
    {
     "name": "stderr",
     "output_type": "stream",
     "text": [
      "sleep 3 seconds and retrying https://data.alpaca.markets/v1/bars/day 3 more time(s)...\n"
     ]
    },
    {
     "name": "stdout",
     "output_type": "stream",
     "text": [
      "'ENLV'\n",
      "'ENPC'\n",
      "'ENVA'\n",
      "'ENZ'\n",
      "'EOI'\n",
      "'EPAC'\n",
      "'EPHY'\n",
      "'EPSN'\n",
      "'EQH'\n",
      "'ERO'\n",
      "'ERYP'\n",
      "'ESE'\n"
     ]
    },
    {
     "name": "stderr",
     "output_type": "stream",
     "text": [
      "sleep 3 seconds and retrying https://data.alpaca.markets/v1/bars/day 3 more time(s)...\n"
     ]
    },
    {
     "name": "stdout",
     "output_type": "stream",
     "text": [
      "'ESGC'\n",
      "'ESGRO'\n",
      "'ESRT'\n",
      "'ESTA'\n",
      "'ETACU'\n",
      "'ETNB'\n",
      "'EGGF'\n",
      "'EGO'\n",
      "'EHC'\n",
      "'EIGR'\n",
      "'EKSO'\n",
      "'ELMS'\n",
      "'ELY'\n",
      "'EMF'\n",
      "'ENDP'\n",
      "'ENIC'\n",
      "'ENO'\n",
      "'ENR'\n",
      "'ENVIU'\n",
      "'EOCW.U'\n"
     ]
    },
    {
     "name": "stderr",
     "output_type": "stream",
     "text": [
      "sleep 3 seconds and retrying https://data.alpaca.markets/v1/bars/day 3 more time(s)...\n"
     ]
    },
    {
     "name": "stdout",
     "output_type": "stream",
     "text": [
      "'EOS'\n",
      "'EPC'\n",
      "'EPIX'\n",
      "'EPWR.U'\n",
      "'EQD'\n",
      "'EQIX'\n",
      "'EQRR'\n",
      "'ERES'\n",
      "'ERII'\n",
      "'ESBK'\n",
      "'ESGU'\n",
      "'ESM'\n",
      "'ESPO'\n",
      "'ESSC'\n",
      "'ESXB'\n"
     ]
    },
    {
     "name": "stderr",
     "output_type": "stream",
     "text": [
      "sleep 3 seconds and retrying https://data.alpaca.markets/v1/bars/day 3 more time(s)...\n"
     ]
    },
    {
     "name": "stdout",
     "output_type": "stream",
     "text": [
      "'EPAM'\n",
      "'EPHYU'\n",
      "'EPR'\n",
      "'EQBK'\n",
      "'EQHA'\n",
      "'EQOS'\n",
      "'ERAS'\n",
      "'ERIC'\n",
      "'ES'\n",
      "'ESEA'\n"
     ]
    },
    {
     "name": "stderr",
     "output_type": "stream",
     "text": [
      "sleep 3 seconds and retrying https://data.alpaca.markets/v1/bars/day 3 more time(s)...\n"
     ]
    },
    {
     "name": "stdout",
     "output_type": "stream",
     "text": [
      "'ESGD'\n",
      "'ESGRP'\n",
      "'ESI'\n",
      "'ESS'\n",
      "'ESTC'\n",
      "'ETB'\n",
      "'ETO'\n",
      "'ETV'\n",
      "'EUCR'\n",
      "'EVG'\n",
      "'EVLO'\n",
      "'EVOK'\n",
      "'EXD'\n",
      "'EXPD'\n",
      "'EYE'\n",
      "'FACA.U'\n"
     ]
    },
    {
     "name": "stderr",
     "output_type": "stream",
     "text": [
      "sleep 3 seconds and retrying https://data.alpaca.markets/v1/bars/day 3 more time(s)...\n"
     ]
    },
    {
     "name": "stdout",
     "output_type": "stream",
     "text": [
      "'FAM'\n",
      "'FAST'\n",
      "'FB'\n",
      "'FBIZ'\n",
      "'FC'\n",
      "'ESM.U'\n",
      "'ESPR'\n",
      "'ESSCR'\n",
      "'ET'\n",
      "'ETJ'\n",
      "'ETRN'\n"
     ]
    },
    {
     "name": "stderr",
     "output_type": "stream",
     "text": [
      "sleep 3 seconds and retrying https://data.alpaca.markets/v1/bars/day 3 more time(s)...\n"
     ]
    },
    {
     "name": "stdout",
     "output_type": "stream",
     "text": [
      "'ETX'\n",
      "'EURN'\n",
      "'EUSGU'\n",
      "'EVER'\n",
      "'EVH'\n",
      "'EVN'\n",
      "'EVRG'\n",
      "'EWBC'\n",
      "'EXPR'\n",
      "'EYPT'\n",
      "'FA'\n",
      "'FAF'\n",
      "'FATE'\n",
      "'FCAX.U'\n",
      "'FCPT'\n",
      "'FCVT'\n",
      "'FDEU'\n",
      "'FDP'\n",
      "'FDUSZ'\n",
      "'FEMY'\n",
      "'FERG'\n",
      "'FFWM'\n",
      "'ESSA'\n",
      "'ESTE'\n"
     ]
    },
    {
     "name": "stderr",
     "output_type": "stream",
     "text": [
      "sleep 3 seconds and retrying https://data.alpaca.markets/v1/bars/day 3 more time(s)...\n"
     ]
    },
    {
     "name": "stdout",
     "output_type": "stream",
     "text": [
      "'ETD'\n",
      "'ETON'\n",
      "'ETW'\n",
      "'EUCRU'\n",
      "'EVC'\n",
      "'EVGN'\n",
      "'EVLV'\n",
      "'EVOL'\n",
      "'EW'\n",
      "'EWEB'\n",
      "'EWJE'\n",
      "'EXEL'\n",
      "'EXPE'\n"
     ]
    },
    {
     "name": "stderr",
     "output_type": "stream",
     "text": [
      "sleep 3 seconds and retrying https://data.alpaca.markets/v1/bars/day 3 more time(s)...\n"
     ]
    },
    {
     "name": "stdout",
     "output_type": "stream",
     "text": [
      "'EYEG'\n",
      "'EZPW'\n",
      "'FACT.U'\n",
      "'FATBB'\n",
      "'FBC'\n",
      "'FBMS'\n",
      "'FCAL'\n",
      "'FCF'\n",
      "'FDMT'\n",
      "'FDTS'\n",
      "'FE'\n",
      "'FEM'\n",
      "'FEO'\n",
      "'FEX'\n"
     ]
    },
    {
     "name": "stderr",
     "output_type": "stream",
     "text": [
      "sleep 3 seconds and retrying https://data.alpaca.markets/v1/bars/day 3 more time(s)...\n"
     ]
    },
    {
     "name": "stdout",
     "output_type": "stream",
     "text": [
      "'FFC'\n",
      "'ETR'\n",
      "'ETWO'\n",
      "'EUSG'\n",
      "'EVCM'\n",
      "'EVGO'\n",
      "'EVOP'\n",
      "'EWJV'\n",
      "'EXG'\n",
      "'EXPI'\n",
      "'EYES'\n",
      "'F'\n"
     ]
    },
    {
     "name": "stderr",
     "output_type": "stream",
     "text": [
      "sleep 3 seconds and retrying https://data.alpaca.markets/v1/bars/day 3 more time(s)...\n"
     ]
    },
    {
     "name": "stdout",
     "output_type": "stream",
     "text": [
      "'FAD'\n",
      "'FANH'\n",
      "'FATBP'\n",
      "'FBNC'\n",
      "'FCAP'\n",
      "'FCFS'\n",
      "'FCUV'\n",
      "'FDIV'\n",
      "'FDNI'\n",
      "'FDUSG'\n",
      "'FEDU'\n",
      "'FEMS'\n",
      "'FEP'\n",
      "'FEYE'\n",
      "'FFIV'\n",
      "'FGFPP'\n",
      "'FHLTU'\n",
      "'FICS'\n",
      "'ETN'\n",
      "'ETSY'\n",
      "'ETY'\n",
      "'EUFN'\n",
      "'EVA'\n",
      "'EVF'\n",
      "'EVOJ'\n",
      "'EVRI'\n"
     ]
    },
    {
     "name": "stderr",
     "output_type": "stream",
     "text": [
      "sleep 3 seconds and retrying https://data.alpaca.markets/v1/bars/day 3 more time(s)...\n"
     ]
    },
    {
     "name": "stdout",
     "output_type": "stream",
     "text": [
      "'EXAS'\n",
      "'EXLS'\n",
      "'EXTN'\n",
      "'FAAR'\n",
      "'FARM'\n",
      "'FBHS'\n",
      "'FBP'\n",
      "'FCCO'\n",
      "'FCNCA'\n",
      "'FCRD'\n",
      "'FCX'\n",
      "'FEI'\n"
     ]
    },
    {
     "name": "stderr",
     "output_type": "stream",
     "text": [
      "sleep 3 seconds and retrying https://data.alpaca.markets/v1/bars/day 3 more time(s)...\n"
     ]
    },
    {
     "name": "stdout",
     "output_type": "stream",
     "text": [
      "'FET'\n",
      "'FF'\n",
      "'FFHL'\n",
      "'FFNW'\n",
      "'FGB'\n",
      "'FHTX'\n",
      "'FICVU'\n",
      "'FIF'\n",
      "'ETTX'\n",
      "'EVBG'\n",
      "'EVFM'\n",
      "'EVK'\n"
     ]
    },
    {
     "name": "stderr",
     "output_type": "stream",
     "text": [
      "sleep 3 seconds and retrying https://data.alpaca.markets/v1/bars/day 3 more time(s)...\n"
     ]
    },
    {
     "name": "stdout",
     "output_type": "stream",
     "text": [
      "'EVOJU'\n",
      "'EVTC'\n",
      "'EXC'\n",
      "'EXP'\n",
      "'EXTR'\n",
      "'EZGO'\n",
      "'FAB'\n",
      "'FALN'\n",
      "'FARO'\n",
      "'FBIO'\n",
      "'FCEF'\n",
      "'FCNCP'\n",
      "'FCRW'\n",
      "'FDBC'\n"
     ]
    },
    {
     "name": "stderr",
     "output_type": "stream",
     "text": [
      "sleep 3 seconds and retrying https://data.alpaca.markets/v1/bars/day 3 more time(s)...\n"
     ]
    },
    {
     "name": "stdout",
     "output_type": "stream",
     "text": [
      "'FDS'\n",
      "'FEIM'\n",
      "'FENC'\n",
      "'FFA'\n",
      "'FFIC'\n",
      "'FGBIP'\n",
      "'FHB'\n",
      "'FI'\n",
      "'FID'\n",
      "'FCEL'\n",
      "'FCT'\n",
      "'FDT'\n",
      "'FDX'\n",
      "'FELE'\n",
      "'FENG'\n"
     ]
    },
    {
     "name": "stderr",
     "output_type": "stream",
     "text": [
      "sleep 3 seconds and retrying https://data.alpaca.markets/v1/bars/day 3 more time(s)...\n"
     ]
    },
    {
     "name": "stdout",
     "output_type": "stream",
     "text": [
      "'FEUZ'\n",
      "'FFBC'\n",
      "'FFIE'\n",
      "'FHI'\n",
      "'FIBK'\n",
      "'FIGS'\n",
      "'FINV'\n",
      "'FITB'\n",
      "'FIVE'\n",
      "'FLAC'\n",
      "'FLIC'\n",
      "'FNB'\n",
      "'FNV'\n",
      "'FOLD'\n",
      "'FOREU'\n",
      "'FGF'\n",
      "'FIS'\n",
      "'FITBO'\n"
     ]
    },
    {
     "name": "stderr",
     "output_type": "stream",
     "text": [
      "sleep 3 seconds and retrying https://data.alpaca.markets/v1/bars/day 3 more time(s)...\n"
     ]
    },
    {
     "name": "stdout",
     "output_type": "stream",
     "text": [
      "'FJP'\n",
      "'FLACU'\n",
      "'FLGC'\n",
      "'FLOW'\n",
      "'FLR'\n",
      "'FLT'\n",
      "'FLWS'\n",
      "'FMAC'\n",
      "'FMB'\n",
      "'FMS'\n",
      "'FNCB'\n",
      "'FNY'\n",
      "'FOX'\n"
     ]
    },
    {
     "name": "stderr",
     "output_type": "stream",
     "text": [
      "sleep 3 seconds and retrying https://data.alpaca.markets/v1/bars/day 3 more time(s)...\n"
     ]
    },
    {
     "name": "stdout",
     "output_type": "stream",
     "text": [
      "'FPAC.U'\n",
      "'FPI'\n",
      "'FR'\n",
      "'FRG'\n",
      "'FRME'\n",
      "'FRSG'\n",
      "'FSD'\n",
      "'FSK'\n",
      "'FSNB.U'\n",
      "'FT'\n",
      "'FTDR'\n",
      "'FGM'\n",
      "'FHS'\n",
      "'FICV'\n",
      "'FINM'"
     ]
    },
    {
     "name": "stderr",
     "output_type": "stream",
     "text": [
      "sleep 3 seconds and retrying https://data.alpaca.markets/v1/bars/day 3 more time(s)...\n"
     ]
    },
    {
     "name": "stdout",
     "output_type": "stream",
     "text": [
      "\n",
      "'FIXD'\n",
      "'FKU'\n",
      "'FLGT'\n",
      "'FLL'\n",
      "'FMAO'\n",
      "'FMBIO'\n",
      "'FMIVU'\n",
      "'FMX'\n",
      "'FND'\n",
      "'FNF'\n",
      "'FNKO'\n",
      "'FOCS'\n",
      "'FOR'\n"
     ]
    },
    {
     "name": "stderr",
     "output_type": "stream",
     "text": [
      "sleep 3 seconds and retrying https://data.alpaca.markets/v1/bars/day 3 more time(s)...\n"
     ]
    },
    {
     "name": "stdout",
     "output_type": "stream",
     "text": [
      "'FORR'\n",
      "'FOXF'\n",
      "'FRAF'\n",
      "'FREE'\n",
      "'FRHC'\n",
      "'FRON'\n",
      "'FRSX'\n",
      "'FRXB'\n",
      "'FSLY'\n",
      "'FSR'\n",
      "'FST.U'\n",
      "'FTC'\n",
      "'FISI'\n",
      "'FITBP'\n",
      "'FIX'\n",
      "'FLAG.U'\n",
      "'FLDM'\n",
      "'FLMN'\n",
      "'FLXN'\n",
      "'FMAC.U'\n"
     ]
    },
    {
     "name": "stderr",
     "output_type": "stream",
     "text": [
      "sleep 3 seconds and retrying https://data.alpaca.markets/v1/bars/day 3 more time(s)...\n"
     ]
    },
    {
     "name": "stdout",
     "output_type": "stream",
     "text": [
      "'FMBH'\n",
      "'FMIV'\n",
      "'FMTX'\n",
      "'FNCH'\n",
      "'FNK'\n",
      "'FOA'\n",
      "'FONR'\n",
      "'FORM'\n",
      "'FOXA'\n",
      "'FPAY'\n",
      "'FPL'\n",
      "'FRA'\n",
      "'FRGI'\n",
      "'FROG'\n",
      "'FRST'\n",
      "'FRW'\n"
     ]
    },
    {
     "name": "stderr",
     "output_type": "stream",
     "text": [
      "sleep 3 seconds and retrying https://data.alpaca.markets/v1/bars/day 3 more time(s)...\n"
     ]
    },
    {
     "name": "stdout",
     "output_type": "stream",
     "text": [
      "'FSEA'\n",
      "'FSLR'\n",
      "'FST'\n",
      "'FTAG'\n",
      "'FTRP'\n",
      "'FUTU'\n",
      "'FINMU'\n",
      "'FIV'\n",
      "'FIXX'\n",
      "'FKWL'\n",
      "'FLN'\n",
      "'FLS'\n"
     ]
    },
    {
     "name": "stderr",
     "output_type": "stream",
     "text": [
      "sleep 3 seconds and retrying https://data.alpaca.markets/v1/bars/day 3 more time(s)...\n"
     ]
    },
    {
     "name": "stdout",
     "output_type": "stream",
     "text": [
      "'FLYW'\n",
      "'FMBIP'\n",
      "'FMN'\n",
      "'FMY'\n",
      "'FNLC'\n",
      "'FORA'\n",
      "'FORTY'\n",
      "'FOXW'\n",
      "'FRONU'\n",
      "'FRT'\n",
      "'FRXB.U'\n",
      "'FSFG'\n",
      "'FSS'\n",
      "'FSTR'\n"
     ]
    },
    {
     "name": "stderr",
     "output_type": "stream",
     "text": [
      "sleep 3 seconds and retrying https://data.alpaca.markets/v1/bars/day 3 more time(s)...\n"
     ]
    },
    {
     "name": "stdout",
     "output_type": "stream",
     "text": [
      "'FTCH'\n",
      "'FTVIU'\n",
      "'FVCB'\n",
      "'FINS'\n",
      "'FISV'\n",
      "'FIZZ'\n",
      "'FL'\n",
      "'FLC'\n",
      "'FLEX'\n",
      "'FLNT'\n",
      "'FLUX'\n",
      "'FMC'\n",
      "'FMNB'\n",
      "'FN'\n",
      "'FOE'\n",
      "'FORD'\n",
      "'FOSL'\n",
      "'FOXWU'\n"
     ]
    },
    {
     "name": "stderr",
     "output_type": "stream",
     "text": [
      "sleep 3 seconds and retrying https://data.alpaca.markets/v1/bars/day 3 more time(s)...\n"
     ]
    },
    {
     "name": "stdout",
     "output_type": "stream",
     "text": [
      "'FPF'\n",
      "'FPXI'\n",
      "'FRBA'\n",
      "'FREQ'\n",
      "'FRPH'\n",
      "'FRTA'\n",
      "'FSBC'\n",
      "'FSSI'\n",
      "'FSV'\n",
      "'FTCI'\n",
      "'FTXR'\n",
      "'FVE'\n",
      "'GACQ'\n"
     ]
    },
    {
     "name": "stderr",
     "output_type": "stream",
     "text": [
      "sleep 3 seconds and retrying https://data.alpaca.markets/v1/bars/day 3 more time(s)...\n"
     ]
    },
    {
     "name": "stdout",
     "output_type": "stream",
     "text": [
      "'GAN'\n",
      "'FPAC'\n",
      "'FPH'\n",
      "'FRBK'\n",
      "'FREY'\n",
      "'FRLN'\n",
      "'FRPT'\n",
      "'FSBW'\n",
      "'FSII'\n",
      "'FSNB'\n",
      "'FSSIU'\n",
      "'FSZ'\n",
      "'FTCVU'\n",
      "'FTK'\n",
      "'FULTP'\n"
     ]
    },
    {
     "name": "stderr",
     "output_type": "stream",
     "text": [
      "sleep 3 seconds and retrying https://data.alpaca.markets/v1/bars/day 3 more time(s)...\n"
     ]
    },
    {
     "name": "stdout",
     "output_type": "stream",
     "text": [
      "'FVT.U'\n",
      "'GAIN'\n",
      "'GAPA.U'\n",
      "'GBOX'\n",
      "'GDYN'\n",
      "'GFED'\n",
      "'GHACU'\n",
      "'GIGM'\n",
      "'GJR'\n",
      "'GLBS'\n",
      "'GLHAU'\n"
     ]
    },
    {
     "name": "stderr",
     "output_type": "stream",
     "text": [
      "sleep 3 seconds and retrying https://data.alpaca.markets/v1/bars/day 3 more time(s)...\n"
     ]
    },
    {
     "name": "stdout",
     "output_type": "stream",
     "text": [
      "'GLSPT'\n",
      "'GMBTU'\n",
      "'GMRE'\n",
      "'GNE'\n",
      "'GNT'\n",
      "'GOF'\n",
      "'GOOD'\n",
      "'GOSS'\n",
      "'GPAC'\n",
      "'FTEV.U'\n",
      "'FTVI'\n",
      "'FUV'\n",
      "'FYT'\n",
      "'GAMC'\n",
      "'GBCI'\n"
     ]
    },
    {
     "name": "stderr",
     "output_type": "stream",
     "text": [
      "sleep 3 seconds and retrying https://data.alpaca.markets/v1/bars/day 3 more time(s)...\n"
     ]
    },
    {
     "name": "stdout",
     "output_type": "stream",
     "text": [
      "'GBLIL'\n",
      "'GDL'\n",
      "'GENI'\n",
      "'GIL'\n",
      "'GLAD'\n",
      "'GLDI'\n",
      "'GLMD'\n",
      "'GLYC'\n",
      "'GMVD'\n",
      "'GNOG'\n",
      "'GNRC'\n",
      "'GNUS'\n",
      "'GOCO'\n",
      "'GOL'\n",
      "'GOOGL'\n",
      "'GOVX'\n",
      "'GPCOR'\n",
      "'GPM'\n",
      "'GPRO'\n",
      "'GRBK'\n"
     ]
    },
    {
     "name": "stderr",
     "output_type": "stream",
     "text": [
      "sleep 3 seconds and retrying https://data.alpaca.markets/v1/bars/day 3 more time(s)...\n"
     ]
    },
    {
     "name": "stdout",
     "output_type": "stream",
     "text": [
      "'GRIN'\n",
      "'GSBC'\n",
      "'GSEVU'\n",
      "'GSKY'\n",
      "'FTRI'\n",
      "'FUSB'\n",
      "'GBRGU'\n",
      "'GE'\n",
      "'GGAL'\n",
      "'GHC'\n",
      "'GIII'\n",
      "'GJS'\n"
     ]
    },
    {
     "name": "stderr",
     "output_type": "stream",
     "text": [
      "sleep 3 seconds and retrying https://data.alpaca.markets/v1/bars/day 3 more time(s)...\n"
     ]
    },
    {
     "name": "stdout",
     "output_type": "stream",
     "text": [
      "'GLBZ'\n",
      "'GLSPU'\n",
      "'GLUE'\n",
      "'GMDA'\n",
      "'GMS'\n",
      "'GNFT'\n",
      "'GNPX'\n",
      "'GNTX'\n",
      "'GOGL'\n",
      "'GOODN'\n",
      "'GOTU'\n",
      "'GPACU'\n"
     ]
    },
    {
     "name": "stderr",
     "output_type": "stream",
     "text": [
      "sleep 3 seconds and retrying https://data.alpaca.markets/v1/bars/day 3 more time(s)...\n"
     ]
    },
    {
     "name": "stdout",
     "output_type": "stream",
     "text": [
      "'GPK'\n",
      "'GPP'\n",
      "'GRA'\n",
      "'GRCYU'\n",
      "'GRID'\n",
      "'GROM'\n",
      "'GRTS'\n",
      "'GRWG'\n",
      "'GSAQU'\n",
      "'GSHD'\n",
      "'GSM'\n",
      "'GSQD'\n",
      "'GALT'\n",
      "'GBIO'\n",
      "'GBS'\n"
     ]
    },
    {
     "name": "stderr",
     "output_type": "stream",
     "text": [
      "sleep 3 seconds and retrying https://data.alpaca.markets/v1/bars/day 3 more time(s)...\n"
     ]
    },
    {
     "name": "stdout",
     "output_type": "stream",
     "text": [
      "'GD'\n",
      "'GEG'\n",
      "'GGB'\n",
      "'GHL'\n",
      "'GIIXU'\n",
      "'GJT'\n",
      "'GLT'\n",
      "'GMED'\n",
      "'GMTX'\n",
      "'GNK'\n",
      "'GNTY'\n",
      "'GOBI'\n",
      "'GOGO'\n",
      "'GOODO'\n",
      "'GPCO'\n",
      "'GPRE'\n",
      "'GRAY'\n",
      "'GREE'\n"
     ]
    },
    {
     "name": "stderr",
     "output_type": "stream",
     "text": [
      "sleep 3 seconds and retrying https://data.alpaca.markets/v1/bars/day 3 more time(s)...\n"
     ]
    },
    {
     "name": "stdout",
     "output_type": "stream",
     "text": [
      "'GRIL'\n",
      "'GROW'\n",
      "'GRTX'\n",
      "'GRX'\n",
      "'GSEV'\n",
      "'GSK'\n",
      "'GSMG'\n",
      "'GSQD.U'\n",
      "'GTH'\n",
      "'GTN.A'\n",
      "'GABC'\n",
      "'GBDC'\n",
      "'GCAC'\n",
      "'GGPIU'\n"
     ]
    },
    {
     "name": "stderr",
     "output_type": "stream",
     "text": [
      "sleep 3 seconds and retrying https://data.alpaca.markets/v1/bars/day 3 more time(s)...\n"
     ]
    },
    {
     "name": "stdout",
     "output_type": "stream",
     "text": [
      "'GIC'\n",
      "'GLAQ'\n",
      "'GLEEU'\n",
      "'GLPG'\n",
      "'GMBL'\n",
      "'GMIIU'\n",
      "'GNOM'\n",
      "'GO'\n",
      "'GOEV'\n",
      "'GOLD'\n",
      "'GOOS'\n",
      "'GPCOU'\n",
      "'GPMT'\n",
      "'GPS'\n",
      "'GRC'\n"
     ]
    },
    {
     "name": "stderr",
     "output_type": "stream",
     "text": [
      "sleep 3 seconds and retrying https://data.alpaca.markets/v1/bars/day 3 more time(s)...\n"
     ]
    },
    {
     "name": "stdout",
     "output_type": "stream",
     "text": [
      "'GRMN'\n",
      "'GRP.U'\n",
      "'GRUB'\n",
      "'GSAH'\n",
      "'GSBD'\n",
      "'GSL'\n",
      "'GTBP'\n",
      "'GTIM'\n",
      "'GTPA'\n",
      "'GTX'\n",
      "'GBNY'\n",
      "'GDV'\n",
      "'GF'\n",
      "'GIG'\n"
     ]
    },
    {
     "name": "stderr",
     "output_type": "stream",
     "text": [
      "sleep 3 seconds and retrying https://data.alpaca.markets/v1/bars/day 3 more time(s)...\n"
     ]
    },
    {
     "name": "stdout",
     "output_type": "stream",
     "text": [
      "'GIW'\n",
      "'ENS'\n",
      "'GLG'\n",
      "'GMBT'\n",
      "'GNCA'\n",
      "'GNSS'\n",
      "'GOAC'\n",
      "'GOLF'\n",
      "'GP'\n",
      "'GPI'\n",
      "'GPN'\n",
      "'GPX'\n",
      "'GRCL'\n"
     ]
    },
    {
     "name": "stderr",
     "output_type": "stream",
     "text": [
      "sleep 3 seconds and retrying https://data.alpaca.markets/v1/bars/day 3 more time(s)...\n"
     ]
    },
    {
     "name": "stdout",
     "output_type": "stream",
     "text": [
      "'GRPH'\n",
      "'GRVI'\n",
      "'GSAH.U'\n",
      "'GSQB'\n",
      "'GTPAU'\n",
      "'GTY'\n",
      "'GUT'\n",
      "'GWGH'\n",
      "'GXTG'\n",
      "'GPJA'\n",
      "'GPOR'\n",
      "'GRCY'\n",
      "'GRFS'\n",
      "'GRPN'\n",
      "'GRVY'\n",
      "'GSAQ'\n",
      "'GSIT'\n",
      "'GSLD'\n",
      "'GSQB.U'\n",
      "'GTEC'\n",
      "'GTLS'\n"
     ]
    },
    {
     "name": "stderr",
     "output_type": "stream",
     "text": [
      "sleep 3 seconds and retrying https://data.alpaca.markets/v1/bars/day 3 more time(s)...\n"
     ]
    },
    {
     "name": "stdout",
     "output_type": "stream",
     "text": [
      "'GTPB'\n",
      "'GTYH'\n",
      "'GVA'\n",
      "'GWII'\n",
      "'HAACU'\n",
      "'HAL'\n",
      "'HAYW'\n",
      "'HBIO'\n",
      "'HCA'\n",
      "'HCCC'\n",
      "'HCI'\n"
     ]
    },
    {
     "name": "stderr",
     "output_type": "stream",
     "text": [
      "sleep 3 seconds and retrying https://data.alpaca.markets/v1/bars/day 3 more time(s)...\n"
     ]
    },
    {
     "name": "stdout",
     "output_type": "stream",
     "text": [
      "'HCM'\n",
      "'HCXY'\n",
      "'HEP'\n",
      "'HERD'\n",
      "'HFFG'\n",
      "'HGLB'\n",
      "'HHR'\n",
      "'HIFS'\n",
      "'GT'\n",
      "'GTHX'\n",
      "'GWW'\n",
      "'GXIIU'\n",
      "'H'\n",
      "'HAFC'\n",
      "'HBANN'\n"
     ]
    },
    {
     "name": "stderr",
     "output_type": "stream",
     "text": [
      "sleep 3 seconds and retrying https://data.alpaca.markets/v1/bars/day 3 more time(s)...\n"
     ]
    },
    {
     "name": "stdout",
     "output_type": "stream",
     "text": [
      "'HBNC'\n",
      "'HCARU'\n",
      "'HCDI'\n",
      "'HCII'\n",
      "'HDB'\n",
      "'HEI.A'\n",
      "'HEQ'\n",
      "'HESM'\n",
      "'HGBL'\n",
      "'HGV'\n",
      "'HIGA.U'\n",
      "'HIMS'\n",
      "'HITI'\n"
     ]
    },
    {
     "name": "stderr",
     "output_type": "stream",
     "text": [
      "sleep 3 seconds and retrying https://data.alpaca.markets/v1/bars/day 3 more time(s)...\n"
     ]
    },
    {
     "name": "stdout",
     "output_type": "stream",
     "text": [
      "'HKIB'\n",
      "'HOG'\n",
      "'HOMB'\n",
      "'HOOD'\n",
      "'HOV'\n",
      "'HP'\n",
      "'HPI'\n",
      "'HPQ'\n",
      "'HR'\n",
      "'HROW'\n",
      "'HSAQ'\n",
      "'HSII'\n",
      "'GTES'\n",
      "'GTN'\n",
      "'GTPBU'\n",
      "'GWRE'\n",
      "'GYRO'\n",
      "'HALL'\n",
      "'HAS'\n",
      "'HBAN'\n",
      "'HBM'\n",
      "'HCAQ'\n"
     ]
    },
    {
     "name": "stderr",
     "output_type": "stream",
     "text": [
      "sleep 3 seconds and retrying https://data.alpaca.markets/v1/bars/day 3 more time(s)...\n"
     ]
    },
    {
     "name": "stdout",
     "output_type": "stream",
     "text": [
      "'HCCCU'\n",
      "'HCIC'\n",
      "'HCNE'\n",
      "'HD'\n",
      "'HE'\n",
      "'HEPA'\n",
      "'HERO'\n",
      "'HFWA'\n",
      "'HGSH'\n",
      "'HI'\n",
      "'HIG'\n",
      "'HIIIU'\n"
     ]
    },
    {
     "name": "stderr",
     "output_type": "stream",
     "text": [
      "sleep 3 seconds and retrying https://data.alpaca.markets/v1/bars/day 3 more time(s)...\n"
     ]
    },
    {
     "name": "stdout",
     "output_type": "stream",
     "text": [
      "'HJLI'\n",
      "'HMTV'\n",
      "'HNGR'\n",
      "'HOLI'\n",
      "'HOTH'\n",
      "'HQI'\n",
      "'HRB'\n",
      "'HROWL'\n",
      "'HSBC'\n",
      "'HSKA'\n",
      "'HSTO'\n",
      "'HTBK'\n",
      "'GTS'\n",
      "'GURE'\n"
     ]
    },
    {
     "name": "stderr",
     "output_type": "stream",
     "text": [
      "sleep 3 seconds and retrying https://data.alpaca.markets/v1/bars/day 3 more time(s)...\n"
     ]
    },
    {
     "name": "stdout",
     "output_type": "stream",
     "text": [
      "'GWRS'\n",
      "'GXII'\n",
      "'HAE'\n",
      "'HALO'\n",
      "'HASI'\n",
      "'HBANM'\n",
      "'HBMD'\n",
      "'HCAR'\n",
      "'HCCI'\n",
      "'HCICU'\n",
      "'HCNEU'\n",
      "'HEAR'\n",
      "'HEI'\n",
      "'HEPS'\n"
     ]
    },
    {
     "name": "stderr",
     "output_type": "stream",
     "text": [
      "sleep 3 seconds and retrying https://data.alpaca.markets/v1/bars/day 3 more time(s)...\n"
     ]
    },
    {
     "name": "stdout",
     "output_type": "stream",
     "text": [
      "'HES'\n",
      "'HEXO'\n",
      "'HIBB'\n",
      "'HIGA'\n",
      "'HIL'\n",
      "'HLT'\n",
      "'HMHC'\n",
      "'HMN'\n",
      "'HNNA'\n",
      "'HNST'\n",
      "'HOOK'\n",
      "'HPP'\n",
      "'HQL'\n"
     ]
    },
    {
     "name": "stderr",
     "output_type": "stream",
     "text": [
      "sleep 3 seconds and retrying https://data.alpaca.markets/v1/bars/day 3 more time(s)...\n"
     ]
    },
    {
     "name": "stdout",
     "output_type": "stream",
     "text": [
      "'HRI'\n",
      "'HSON'\n",
      "'GVP'\n",
      "'GXO'\n",
      "'HA'\n",
      "'HAPP'\n",
      "'HBANP'\n",
      "'HBP'\n",
      "'HCAT'\n",
      "'HCDIP'\n",
      "'HCIIU'\n",
      "'HCSG'\n",
      "'HELE'\n",
      "'HERA'\n",
      "'HFBL'\n",
      "'HGEN'\n",
      "'HHC'\n",
      "'HIHO'\n",
      "'HIMX'\n",
      "'HIW'\n",
      "'HLAHU'\n",
      "'HLF'\n"
     ]
    },
    {
     "name": "stderr",
     "output_type": "stream",
     "text": [
      "sleep 3 seconds and retrying https://data.alpaca.markets/v1/bars/day 3 more time(s)...\n"
     ]
    },
    {
     "name": "stdout",
     "output_type": "stream",
     "text": [
      "'HLIO'\n",
      "'HLLY'\n",
      "'HMY'\n",
      "'HNP'\n",
      "'HOFV'\n",
      "'HOLX'\n",
      "'HONE'\n",
      "'HPK'\n",
      "'HPS'\n",
      "'HQH'\n"
     ]
    },
    {
     "name": "stderr",
     "output_type": "stream",
     "text": [
      "sleep 3 seconds and retrying https://data.alpaca.markets/v1/bars/day 3 more time(s)...\n"
     ]
    },
    {
     "name": "stdout",
     "output_type": "stream",
     "text": [
      "'HQY'\n",
      "'HAAC'\n",
      "'HAIN'\n",
      "'HARP'\n",
      "'HAYN'\n",
      "'HBB'\n",
      "'HBT'\n",
      "'HCC'\n",
      "'HCKT'\n",
      "'HCWB'\n",
      "'HDSN'\n",
      "'HEES'\n",
      "'HERAU'\n"
     ]
    },
    {
     "name": "stderr",
     "output_type": "stream",
     "text": [
      "sleep 3 seconds and retrying https://data.alpaca.markets/v1/bars/day 3 more time(s)...\n"
     ]
    },
    {
     "name": "stdout",
     "output_type": "stream",
     "text": [
      "'HEWG'\n",
      "'HFC'\n",
      "'HGH'\n",
      "'HHLA.U'\n",
      "'HIE'\n",
      "'HII'\n",
      "'HIO'\n",
      "'HIX'\n",
      "'HL'\n",
      "'HLAL'\n",
      "'HLI'\n",
      "'HLIT'\n",
      "'HLMN'\n",
      "'HLXA'\n",
      "'HMCO'\n",
      "'HMLP'\n"
     ]
    },
    {
     "name": "stderr",
     "output_type": "stream",
     "text": [
      "sleep 3 seconds and retrying https://data.alpaca.markets/v1/bars/day 3 more time(s)...\n"
     ]
    },
    {
     "name": "stdout",
     "output_type": "stream",
     "text": [
      "'HMNF'\n",
      "'HMST'\n",
      "'HNDL'\n",
      "'HOFT'\n",
      "'HON'\n",
      "'HOWL'\n",
      "'HPF'\n",
      "'HPX.U'\n",
      "'HRMY'\n",
      "'HRZN'\n",
      "'HIII'\n",
      "'HIPO'\n",
      "'HLAH'\n",
      "'HLBZ'\n",
      "'HLG'\n",
      "'HLNE'\n",
      "'HLX'\n",
      "'HMC'\n",
      "'HMCOU'\n",
      "'HMPT'\n"
     ]
    },
    {
     "name": "stderr",
     "output_type": "stream",
     "text": [
      "sleep 3 seconds and retrying https://data.alpaca.markets/v1/bars/day 3 more time(s)...\n"
     ]
    },
    {
     "name": "stdout",
     "output_type": "stream",
     "text": [
      "'HNI'\n",
      "'HNRG'\n",
      "'HOVNP'\n",
      "'HPE'\n",
      "'HPX'\n",
      "'HRC'\n",
      "'HRTG'\n",
      "'HSC'\n",
      "'HSY'\n",
      "'HTBX'\n",
      "'HTH'\n",
      "'HUBB'\n",
      "'HUGS.U'\n",
      "'HURC'\n"
     ]
    },
    {
     "name": "stderr",
     "output_type": "stream",
     "text": [
      "sleep 3 seconds and retrying https://data.alpaca.markets/v1/bars/day 3 more time(s)...\n"
     ]
    },
    {
     "name": "stdout",
     "output_type": "stream",
     "text": [
      "'HUYA'\n",
      "'HWC'\n",
      "'HXL'\n",
      "'HYMC'\n",
      "'HZAC'\n",
      "'HZON.U'\n",
      "'IAE'\n",
      "'IBCP'\n",
      "'HRL'\n",
      "'HRTX'\n",
      "'HSDT'\n",
      "'HTA'\n"
     ]
    },
    {
     "name": "stderr",
     "output_type": "stream",
     "text": [
      "sleep 3 seconds and retrying https://data.alpaca.markets/v1/bars/day 3 more time(s)...\n"
     ]
    },
    {
     "name": "stdout",
     "output_type": "stream",
     "text": [
      "'HTIA'\n",
      "'HTPA'\n",
      "'HUBS'\n",
      "'HUM'\n",
      "'HVBC'\n",
      "'HWELU'\n",
      "'HYAC'\n",
      "'HYDR'\n",
      "'HYLN'\n",
      "'HYRE'\n",
      "'HYXF'\n",
      "'HZN'\n",
      "'IAC'\n"
     ]
    },
    {
     "name": "stderr",
     "output_type": "stream",
     "text": [
      "sleep 3 seconds and retrying https://data.alpaca.markets/v1/bars/day 3 more time(s)...\n"
     ]
    },
    {
     "name": "stdout",
     "output_type": "stream",
     "text": [
      "'IAG'\n",
      "'IAS'\n",
      "'IBB'\n",
      "'IBER.U'\n",
      "'IBRX'\n",
      "'IBTH'\n",
      "'ICD'\n",
      "'ICLK'\n",
      "'IDT'\n",
      "'IDXX'\n",
      "'IEF'\n",
      "'HSIC'\n",
      "'HST'\n",
      "'HTFB'\n",
      "'HTLD'\n",
      "'HTPA.U'\n"
     ]
    },
    {
     "name": "stderr",
     "output_type": "stream",
     "text": [
      "sleep 3 seconds and retrying https://data.alpaca.markets/v1/bars/day 3 more time(s)...\n"
     ]
    },
    {
     "name": "stdout",
     "output_type": "stream",
     "text": [
      "'HUDI'\n",
      "'HUMA'\n",
      "'HUSN'\n",
      "'HVT'\n",
      "'HWKN'\n",
      "'HYACU'\n",
      "'HYLS'\n",
      "'HZNP'\n",
      "'IACB'\n",
      "'IBBJ'\n",
      "'IBEX'\n",
      "'IBTB'\n",
      "'IBTI'\n",
      "'ICAD'\n",
      "'ICE'\n",
      "'ICLN'\n",
      "'IDBA'\n",
      "'IDN'\n"
     ]
    },
    {
     "name": "stderr",
     "output_type": "stream",
     "text": [
      "sleep 3 seconds and retrying https://data.alpaca.markets/v1/bars/day 3 more time(s)...\n"
     ]
    },
    {
     "name": "stdout",
     "output_type": "stream",
     "text": [
      "'IDYA'\n",
      "'IFMK'\n",
      "'HSTM'\n",
      "'HTBI'\n",
      "'HTGC'\n",
      "'HTLF'\n",
      "'HUGE'\n",
      "'HUN'\n",
      "'HVT.A'\n",
      "'HWM'\n",
      "'HYB'\n",
      "'HYI'\n",
      "'HYT'\n"
     ]
    },
    {
     "name": "stderr",
     "output_type": "stream",
     "text": [
      "sleep 3 seconds and retrying https://data.alpaca.markets/v1/bars/day 3 more time(s)...\n"
     ]
    },
    {
     "name": "stdout",
     "output_type": "stream",
     "text": [
      "'HYZD'\n",
      "'HZO'\n",
      "'IACB.U'\n",
      "'IBBQ'\n",
      "'IBN'\n",
      "'IBTD'\n",
      "'IBTJ'\n",
      "'ICBK'\n",
      "'ICMB'\n",
      "'IDCC'\n",
      "'IEA'\n",
      "'IEX'\n",
      "'IFN'\n",
      "'IGA'\n"
     ]
    },
    {
     "name": "stderr",
     "output_type": "stream",
     "text": [
      "sleep 3 seconds and retrying https://data.alpaca.markets/v1/bars/day 3 more time(s)...\n"
     ]
    },
    {
     "name": "stdout",
     "output_type": "stream",
     "text": [
      "'HT'\n",
      "'HTD'\n",
      "'HTHT'\n",
      "'HTOO'\n",
      "'HUBG'\n",
      "'HUIZ'\n",
      "'HURN'\n",
      "'HWCPZ'\n",
      "'HY'\n",
      "'HYW'\n",
      "'HZAC.U'\n",
      "'IAA'\n",
      "'IART'\n",
      "'IBA'\n"
     ]
    },
    {
     "name": "stderr",
     "output_type": "stream",
     "text": [
      "sleep 3 seconds and retrying https://data.alpaca.markets/v1/bars/day 3 more time(s)...\n"
     ]
    },
    {
     "name": "stdout",
     "output_type": "stream",
     "text": [
      "'IBM'\n",
      "'IBP'\n",
      "'IBTG'\n",
      "'IBTX'\n",
      "'ICCM'\n",
      "'ICL'\n",
      "'ICPT'\n",
      "'IDA'\n",
      "'IDEX'\n",
      "'IFF'\n",
      "'IFS'\n",
      "'HTGM'\n",
      "'HTLFP'\n",
      "'HTY'\n",
      "'HUGS'\n",
      "'HUT'\n",
      "'HWBK'\n",
      "'HX'\n",
      "'HYFM'\n",
      "'HYZN'\n",
      "'HZON'\n",
      "'IACC'\n",
      "'IBTE'\n"
     ]
    },
    {
     "name": "stderr",
     "output_type": "stream",
     "text": [
      "sleep 3 seconds and retrying https://data.alpaca.markets/v1/bars/day 3 more time(s)...\n"
     ]
    },
    {
     "name": "stdout",
     "output_type": "stream",
     "text": [
      "'IBTK'\n",
      "'ICCC'\n",
      "'ICFI'\n",
      "'ICVX'\n",
      "'IDE'\n",
      "'IDLB'\n",
      "'IEC'\n",
      "'IEP'\n",
      "'IGAC'\n",
      "'IBKR'\n",
      "'IBOC'\n",
      "'IBTF'\n",
      "'IBTL'\n",
      "'ICCH'\n"
     ]
    },
    {
     "name": "stderr",
     "output_type": "stream",
     "text": [
      "sleep 3 seconds and retrying https://data.alpaca.markets/v1/bars/day 3 more time(s)...\n"
     ]
    },
    {
     "name": "stdout",
     "output_type": "stream",
     "text": [
      "'ICHR'\n",
      "'IDRA'\n",
      "'IEI'\n",
      "'IESC'\n",
      "'IFBD'\n",
      "'IFRX'\n",
      "'IGACU'\n",
      "'IGF'\n",
      "'IGOV'\n",
      "'IH'\n",
      "'IHTA'\n",
      "'IIIV'\n",
      "'IIVI'\n",
      "'ILPT'\n"
     ]
    },
    {
     "name": "stderr",
     "output_type": "stream",
     "text": [
      "sleep 3 seconds and retrying https://data.alpaca.markets/v1/bars/day 3 more time(s)...\n"
     ]
    },
    {
     "name": "stdout",
     "output_type": "stream",
     "text": [
      "'IMAQU'\n",
      "'IMCR'\n",
      "'IMKTA'\n",
      "'IMRX'\n",
      "'IMV'\n",
      "'INBKL'\n",
      "'INDB'\n",
      "'IEUS'\n",
      "'IFGL'\n",
      "'IFV'\n",
      "'IGI'\n",
      "'IGMS'\n",
      "'IHC'\n",
      "'IHYF'\n"
     ]
    },
    {
     "name": "stderr",
     "output_type": "stream",
     "text": [
      "sleep 3 seconds and retrying https://data.alpaca.markets/v1/bars/day 3 more time(s)...\n"
     ]
    },
    {
     "name": "stdout",
     "output_type": "stream",
     "text": [
      "'III'\n",
      "'IIM'\n",
      "'IMAB'\n",
      "'IMBI'\n",
      "'IMMR'\n",
      "'IMPL'\n",
      "'IMTE'\n",
      "'IMXI'\n",
      "'INBX'\n",
      "'INDI'\n",
      "'INDY'\n",
      "'INKAU'\n",
      "'INN'\n",
      "'INS'\n",
      "'INST'\n"
     ]
    },
    {
     "name": "stderr",
     "output_type": "stream",
     "text": [
      "sleep 3 seconds and retrying https://data.alpaca.markets/v1/bars/day 3 more time(s)...\n"
     ]
    },
    {
     "name": "stdout",
     "output_type": "stream",
     "text": [
      "'INVA'\n",
      "'IO'\n",
      "'IP'\n",
      "'IPOF'\n",
      "'IPVF'\n",
      "'IQ'\n",
      "'IRM'\n",
      "'IRTC'\n",
      "'IGD'\n",
      "'IGIB'\n",
      "'IGSB'\n",
      "'IHD'\n"
     ]
    },
    {
     "name": "stderr",
     "output_type": "stream",
     "text": [
      "sleep 3 seconds and retrying https://data.alpaca.markets/v1/bars/day 3 more time(s)...\n"
     ]
    },
    {
     "name": "stdout",
     "output_type": "stream",
     "text": [
      "'IHIT'\n",
      "'IIAC'\n",
      "'IIII'\n",
      "'IIN'\n",
      "'IKNA'\n",
      "'IMAC'\n",
      "'IMGN'\n",
      "'IMNM'\n",
      "'IMPX'\n",
      "'INAB'\n",
      "'INCR'\n",
      "'INFI'\n",
      "'INFY'\n",
      "'INNV'\n",
      "'INSE'\n",
      "'INSW'\n",
      "'INTG'\n",
      "'INVE'\n",
      "'IONS'\n",
      "'IPA'\n",
      "'IPDN'\n",
      "'IPKW'\n",
      "'IPOF.U'\n",
      "'IPVF.U'\n",
      "'IRBT'\n",
      "'IRMD'\n",
      "'IRWD'\n",
      "'IGIC'\n",
      "'IGNY'\n",
      "'IGT'\n",
      "'IHRT'\n",
      "'IIAC.U'\n",
      "'IIIIU'\n",
      "'IINN'\n",
      "'IKNX'\n",
      "'IMAQ'\n",
      "'IMCC'\n",
      "'IMGO'\n"
     ]
    },
    {
     "name": "stderr",
     "output_type": "stream",
     "text": [
      "sleep 3 seconds and retrying https://data.alpaca.markets/v1/bars/day 3 more time(s)...\n"
     ]
    },
    {
     "name": "stdout",
     "output_type": "stream",
     "text": [
      "'IMPX.U'\n",
      "'IMTX'\n",
      "'INAQ.U'\n",
      "'INCY'\n",
      "'ING'\n",
      "'INM'\n",
      "'INO'\n",
      "'INSG'\n",
      "'INT'\n",
      "'INVH'\n",
      "'IPG'\n",
      "'IPLDP'\n",
      "'IPVI'\n",
      "'IRCP'\n"
     ]
    },
    {
     "name": "stderr",
     "output_type": "stream",
     "text": [
      "sleep 3 seconds and retrying https://data.alpaca.markets/v1/bars/day 3 more time(s)...\n"
     ]
    },
    {
     "name": "stdout",
     "output_type": "stream",
     "text": [
      "'IRNT'\n",
      "'IS'\n",
      "'ISHG'\n",
      "'IGR'\n",
      "'IHG'\n",
      "'IIVIP'\n",
      "'IJT'\n",
      "'IMAX'\n",
      "'IMCV'\n",
      "'IMMP'\n",
      "'IMOS'\n",
      "'IMVT'\n",
      "'INBKZ'\n"
     ]
    },
    {
     "name": "stderr",
     "output_type": "stream",
     "text": [
      "sleep 3 seconds and retrying https://data.alpaca.markets/v1/bars/day 3 more time(s)...\n"
     ]
    },
    {
     "name": "stdout",
     "output_type": "stream",
     "text": [
      "'INDT'\n",
      "'INFR'\n",
      "'INKA'\n",
      "'INPX'\n",
      "'INSP'\n",
      "'INZY'\n",
      "'IOVA'\n",
      "'IPI'\n",
      "'IPOD.U'\n",
      "'IPVA.U'\n",
      "'IPWR'\n",
      "'IQI'\n",
      "'IR'\n"
     ]
    },
    {
     "name": "stderr",
     "output_type": "stream",
     "text": [
      "sleep 3 seconds and retrying https://data.alpaca.markets/v1/bars/day 3 more time(s)...\n"
     ]
    },
    {
     "name": "stdout",
     "output_type": "stream",
     "text": [
      "'IRL'\n",
      "'IRT'\n",
      "'ISDX'\n",
      "'IGNYU'\n",
      "'IIF'\n",
      "'IIIN'\n",
      "'IIPR'\n",
      "'IKT'\n",
      "'ILMN'\n",
      "'IMAQR'\n",
      "'IMRA'\n",
      "'IMUX'\n",
      "'INBK'\n",
      "'INDP'\n",
      "'INFN'\n",
      "'INGN'\n"
     ]
    },
    {
     "name": "stderr",
     "output_type": "stream",
     "text": [
      "sleep 3 seconds and retrying https://data.alpaca.markets/v1/bars/day 3 more time(s)...\n"
     ]
    },
    {
     "name": "stdout",
     "output_type": "stream",
     "text": [
      "'INMB'\n",
      "'INOD'\n",
      "'INSI'\n",
      "'INTA'\n",
      "'INTU'\n",
      "'INVO'\n",
      "'IPAR'\n",
      "'IPGP'\n",
      "'IPSC'\n",
      "'IPVIU'\n",
      "'IRDM'\n",
      "'IROQ'\n",
      "'ISAA'\n",
      "'ISD'\n",
      "'ISIG'\n"
     ]
    },
    {
     "name": "stderr",
     "output_type": "stream",
     "text": [
      "sleep 3 seconds and retrying https://data.alpaca.markets/v1/bars/day 3 more time(s)...\n"
     ]
    },
    {
     "name": "stdout",
     "output_type": "stream",
     "text": [
      "'ISUN'\n",
      "'ITAC'\n",
      "'INFO'\n",
      "'INGR'\n",
      "'INMD'\n",
      "'INOV'\n",
      "'INSM'\n",
      "'INTC'\n",
      "'INTZ'\n",
      "'INVZ'\n",
      "'IOSP'\n",
      "'IPHA'\n",
      "'IPOD'\n",
      "'IPVA'\n",
      "'IPW'\n",
      "'IQV'\n",
      "'IRIX'\n",
      "'IRS'\n",
      "'ISBC'\n",
      "'ISLE'\n",
      "'ITACU'\n",
      "'ITGR'\n"
     ]
    },
    {
     "name": "stderr",
     "output_type": "stream",
     "text": [
      "sleep 3 seconds and retrying https://data.alpaca.markets/v1/bars/day 3 more time(s)...\n"
     ]
    },
    {
     "name": "stdout",
     "output_type": "stream",
     "text": [
      "'ITQRU'\n",
      "'ITW'\n",
      "'IVA'\n",
      "'IZEA'\n",
      "'JAGX'\n",
      "'JBHT'\n",
      "'JBT'\n",
      "'JCOM'\n",
      "'ISEE'\n",
      "'ISOS'\n",
      "'ISSC'\n",
      "'ITHXU'\n",
      "'ITOS'\n"
     ]
    },
    {
     "name": "stderr",
     "output_type": "stream",
     "text": [
      "sleep 3 seconds and retrying https://data.alpaca.markets/v1/bars/day 3 more time(s)...\n"
     ]
    },
    {
     "name": "stdout",
     "output_type": "stream",
     "text": [
      "'ITRI'\n",
      "'IUSB'\n",
      "'IX'\n",
      "'J'\n",
      "'JAKK'\n",
      "'JATT.U'\n",
      "'JBK'\n",
      "'JCI'\n",
      "'JCS'\n",
      "'JHB'\n",
      "'HBCP'\n"
     ]
    },
    {
     "name": "stderr",
     "output_type": "stream",
     "text": [
      "sleep 3 seconds and retrying https://data.alpaca.markets/v1/bars/day 3 more time(s)...\n"
     ]
    },
    {
     "name": "stdout",
     "output_type": "stream",
     "text": [
      "'JLS'\n",
      "'JMP'\n",
      "'JNPR'\n",
      "'JOBY'\n",
      "'ISEM'\n",
      "'ISOS.U'\n",
      "'ISTB'\n",
      "'IT'\n",
      "'ITCB'\n",
      "'ITI'\n",
      "'ITRM'\n",
      "'IUSG'\n",
      "'IVAN'\n"
     ]
    },
    {
     "name": "stderr",
     "output_type": "stream",
     "text": [
      "sleep 3 seconds and retrying https://data.alpaca.markets/v1/bars/day 3 more time(s)...\n"
     ]
    },
    {
     "name": "stdout",
     "output_type": "stream",
     "text": [
      "'IVH'\n",
      "'IVR'\n",
      "'IXUS'\n",
      "'JAMF'\n",
      "'JAX'\n",
      "'JBL'\n",
      "'JCIC'\n",
      "'JCTCF'\n",
      "'JEF'\n",
      "'JEQ'\n",
      "'AAC'\n",
      "'JHS'\n",
      "'JMPNZ'\n",
      "'JOE'\n",
      "'JOUT'\n"
     ]
    },
    {
     "name": "stderr",
     "output_type": "stream",
     "text": [
      "sleep 3 seconds and retrying https://data.alpaca.markets/v1/bars/day 3 more time(s)...\n"
     ]
    },
    {
     "name": "stdout",
     "output_type": "stream",
     "text": [
      "'JPI'\n",
      "'JPS'\n",
      "'JQC'\n",
      "'ISPC'\n",
      "'ISTR'\n",
      "'ITCI'\n",
      "'GOOG'\n",
      "'ITRN'\n",
      "'IUSS'\n",
      "'IVAN.U'\n",
      "'JACK'\n",
      "'JAN'\n",
      "'JAZZ'\n",
      "'JBLU'\n",
      "'JCICU'\n",
      "'JELD'\n"
     ]
    },
    {
     "name": "stderr",
     "output_type": "stream",
     "text": [
      "sleep 3 seconds and retrying https://data.alpaca.markets/v1/bars/day 3 more time(s)...\n"
     ]
    },
    {
     "name": "stdout",
     "output_type": "stream",
     "text": [
      "'JG'\n",
      "'JILL'\n",
      "'JMIA'\n",
      "'JOET'\n",
      "'ISRG'\n",
      "'ITHX'\n",
      "'ITMR'\n",
      "'IUS'\n",
      "'IVAC'\n",
      "'JAQCU'\n",
      "'JBI'\n",
      "'JCE'\n",
      "'JFU'\n",
      "'JHAA'\n",
      "'JHI'\n",
      "'JJSF'\n"
     ]
    },
    {
     "name": "stderr",
     "output_type": "stream",
     "text": [
      "sleep 3 seconds and retrying https://data.alpaca.markets/v1/bars/day 3 more time(s)...\n"
     ]
    },
    {
     "name": "stdout",
     "output_type": "stream",
     "text": [
      "'JLL'\n",
      "'JOBS'\n",
      "'JOFFU'\n",
      "'JRJC'\n",
      "'ITIC'\n",
      "'ITQ'\n",
      "'ITUB'\n",
      "'IUSV'\n",
      "'IVC'\n",
      "'JANX'\n",
      "'JBGS'\n"
     ]
    },
    {
     "name": "stderr",
     "output_type": "stream",
     "text": [
      "sleep 3 seconds and retrying https://data.alpaca.markets/v1/bars/day 3 more time(s)...\n"
     ]
    },
    {
     "name": "stdout",
     "output_type": "stream",
     "text": [
      "'JBSS'\n",
      "'JCO'\n",
      "'JD'\n",
      "'JFIN'\n",
      "'JGH'\n",
      "'JHX'\n",
      "'JKHY'\n",
      "'JOAN'\n",
      "'JOF'\n",
      "'JP'\n",
      "'JRSH'\n",
      "'JSML'\n",
      "'JW.A'\n",
      "'JDD'\n",
      "'JEMD'\n"
     ]
    },
    {
     "name": "stderr",
     "output_type": "stream",
     "text": [
      "sleep 3 seconds and retrying https://data.alpaca.markets/v1/bars/day 3 more time(s)...\n"
     ]
    },
    {
     "name": "stdout",
     "output_type": "stream",
     "text": [
      "'JFR'\n",
      "'JHG'\n",
      "'JKS'\n",
      "'JMM'\n",
      "'JNCE'\n",
      "'JOFF'\n",
      "'JPC'\n",
      "'JPT'\n",
      "'JRI'\n",
      "'JRVR'\n",
      "'JT'\n",
      "'JW.B'\n",
      "'K'\n",
      "'KAIR'\n",
      "'KAMN'\n",
      "'KBSF'\n",
      "'KBWY'\n",
      "'KEJI'\n",
      "'KEP'\n",
      "'KHC'\n",
      "'KIM'\n",
      "'KIRK'\n",
      "'KLAQ'\n",
      "'KLIC'\n"
     ]
    },
    {
     "name": "stderr",
     "output_type": "stream",
     "text": [
      "sleep 3 seconds and retrying https://data.alpaca.markets/v1/bars/day 3 more time(s)...\n"
     ]
    },
    {
     "name": "stdout",
     "output_type": "stream",
     "text": [
      "'KMDA'\n",
      "'KMPR'\n",
      "'JSD'\n",
      "'JTD'\n",
      "'JWN'\n",
      "'JYNT'\n",
      "'KAHC.U'\n",
      "'KALA'\n",
      "'KAR'\n",
      "'KBWB'\n",
      "'KCAC'\n",
      "'KDNY'\n"
     ]
    },
    {
     "name": "stderr",
     "output_type": "stream",
     "text": [
      "sleep 3 seconds and retrying https://data.alpaca.markets/v1/bars/day 3 more time(s)...\n"
     ]
    },
    {
     "name": "stdout",
     "output_type": "stream",
     "text": [
      "'KELYB'\n",
      "'KERN'\n",
      "'KF'\n",
      "'KIDS'\n",
      "'KINZ'\n",
      "'KKR'\n",
      "'KLR'\n",
      "'KMF'\n",
      "'KMX'\n",
      "'KNOP'\n",
      "'KOPN'\n",
      "'KPLT'\n",
      "'KRNL'\n",
      "'KROP'\n"
     ]
    },
    {
     "name": "stderr",
     "output_type": "stream",
     "text": [
      "sleep 3 seconds and retrying https://data.alpaca.markets/v1/bars/day 3 more time(s)...\n"
     ]
    },
    {
     "name": "stdout",
     "output_type": "stream",
     "text": [
      "'KRYS'\n",
      "'KSPN'\n",
      "'KUKE'\n",
      "'KVHI'\n",
      "'KWAC'\n",
      "'KXIN'\n",
      "'LAAA'\n",
      "'LAD'\n",
      "'LAND'\n",
      "'LATNU'\n",
      "'JRO'\n",
      "'JSM'\n",
      "'JUGG'\n",
      "'JVA'\n",
      "'JWSM'\n"
     ]
    },
    {
     "name": "stderr",
     "output_type": "stream",
     "text": [
      "sleep 3 seconds and retrying https://data.alpaca.markets/v1/bars/day 3 more time(s)...\n"
     ]
    },
    {
     "name": "stdout",
     "output_type": "stream",
     "text": [
      "'HHLA'\n",
      "'KAI'\n",
      "'KARO'\n",
      "'KBH'\n",
      "'KBWD'\n",
      "'KCAC.U'\n",
      "'KDP'\n",
      "'KFFB'\n",
      "'KGC'\n",
      "'KINZU'\n",
      "'KKRS'\n",
      "'KLTR'\n",
      "'KMI'\n"
     ]
    },
    {
     "name": "stderr",
     "output_type": "stream",
     "text": [
      "sleep 3 seconds and retrying https://data.alpaca.markets/v1/bars/day 3 more time(s)...\n"
     ]
    },
    {
     "name": "stdout",
     "output_type": "stream",
     "text": [
      "'KN'\n",
      "'KNSA'\n",
      "'KOR'\n",
      "'KPTI'\n",
      "'KREF'\n",
      "'KRNLU'\n",
      "'KROS'\n",
      "'KSS'\n",
      "'KTF'\n",
      "'KWAC.U'\n",
      "'KYMR'\n",
      "'LAAAU'\n",
      "'LADR'\n",
      "'LANDM'\n",
      "'LAUR'\n",
      "'JRS'\n",
      "'JSMD'\n",
      "'JUGGU'\n",
      "'JWSM.U'\n"
     ]
    },
    {
     "name": "stderr",
     "output_type": "stream",
     "text": [
      "sleep 3 seconds and retrying https://data.alpaca.markets/v1/bars/day 3 more time(s)...\n"
     ]
    },
    {
     "name": "stdout",
     "output_type": "stream",
     "text": [
      "'KAII'\n",
      "'KALU'\n",
      "'KBWP'\n",
      "'KE'\n",
      "'KEX'\n",
      "'KFRC'\n",
      "'KIII'\n",
      "'KIO'\n",
      "'KL'\n",
      "'KLDO'\n",
      "'KLXE'\n",
      "'KNBE'\n",
      "'KNSL'\n"
     ]
    },
    {
     "name": "stderr",
     "output_type": "stream",
     "text": [
      "sleep 3 seconds and retrying https://data.alpaca.markets/v1/bars/day 3 more time(s)...\n"
     ]
    },
    {
     "name": "stdout",
     "output_type": "stream",
     "text": [
      "'KOD'\n",
      "'KRA'\n",
      "'KRG'\n",
      "'KRNT'\n",
      "'KRP'\n",
      "'KTH'\n",
      "'KURA'\n",
      "'KVSA'\n",
      "'KYN'\n",
      "'LAIX'\n",
      "'LANDO'\n",
      "'LAW'\n",
      "'JTA'\n",
      "'JWEL'\n"
     ]
    },
    {
     "name": "stderr",
     "output_type": "stream",
     "text": [
      "sleep 3 seconds and retrying https://data.alpaca.markets/v1/bars/day 3 more time(s)...\n"
     ]
    },
    {
     "name": "stdout",
     "output_type": "stream",
     "text": [
      "'JYAC'\n",
      "'KAHC'\n",
      "'KAIRU'\n",
      "'KBAL'\n",
      "'KC'\n",
      "'KDMN'\n",
      "'KELYA'\n",
      "'KEQU'\n",
      "'KEYS'\n",
      "'KFY'\n"
     ]
    },
    {
     "name": "stderr",
     "output_type": "stream",
     "text": [
      "sleep 3 seconds and retrying https://data.alpaca.markets/v1/bars/day 3 more time(s)...\n"
     ]
    },
    {
     "name": "stdout",
     "output_type": "stream",
     "text": [
      "'KINS'\n",
      "'KLAQU'\n",
      "'KMT'\n",
      "'KO'\n",
      "'KOP'\n",
      "'KOSS'\n",
      "'KRC'\n",
      "'KRMD'\n",
      "'KRON'\n",
      "'KRUS'\n",
      "'KSM'\n",
      "'KTCC'\n",
      "'KTRA'\n",
      "'KURIU'\n",
      "'KW'\n",
      "'L'\n",
      "'LAC'\n",
      "'LANC'\n",
      "'LATN'\n",
      "'LAZR'\n",
      "'LBPH'\n",
      "'LBTYA'\n",
      "'JZXN'\n",
      "'KAIIU'\n",
      "'KALV'\n"
     ]
    },
    {
     "name": "stderr",
     "output_type": "stream",
     "text": [
      "sleep 3 seconds and retrying https://data.alpaca.markets/v1/bars/day 3 more time(s)...\n"
     ]
    },
    {
     "name": "stdout",
     "output_type": "stream",
     "text": [
      "'KAVL'\n",
      "'KBNT'\n",
      "'KBWR'\n",
      "'KCGI.U'\n",
      "'KEN'\n",
      "'KEY'\n",
      "'KFS'\n",
      "'KIIIU'\n",
      "'KLAC'\n",
      "'KMB'\n"
     ]
    },
    {
     "name": "stderr",
     "output_type": "stream",
     "text": [
      "sleep 3 seconds and retrying https://data.alpaca.markets/v1/bars/day 3 more time(s)...\n"
     ]
    },
    {
     "name": "stdout",
     "output_type": "stream",
     "text": [
      "'KMPH'\n",
      "'KNDI'\n",
      "'KNTE'\n",
      "'KODK'\n",
      "'KRKR'\n",
      "'KRNY'\n",
      "'KRT'\n",
      "'KSI'\n",
      "'KSU'\n",
      "'KTN'\n",
      "'KVSB'\n",
      "'KWR'\n",
      "'LABP'\n",
      "'LAKE'\n",
      "'LARK'\n",
      "'LAWS'\n"
     ]
    },
    {
     "name": "stderr",
     "output_type": "stream",
     "text": [
      "sleep 3 seconds and retrying https://data.alpaca.markets/v1/bars/day 3 more time(s)...\n"
     ]
    },
    {
     "name": "stdout",
     "output_type": "stream",
     "text": [
      "'LBC'\n",
      "'LBRDP'\n",
      "'LCAA'\n",
      "'LCI'\n",
      "'KNX'\n",
      "'KOF'\n",
      "'KOS'\n",
      "'KRBP'\n",
      "'KRMA'\n",
      "'KRO'\n",
      "'KRTX'\n",
      "'KSICU'\n"
     ]
    },
    {
     "name": "stderr",
     "output_type": "stream",
     "text": [
      "sleep 3 seconds and retrying https://data.alpaca.markets/v1/bars/day 3 more time(s)...\n"
     ]
    },
    {
     "name": "stdout",
     "output_type": "stream",
     "text": [
      "'KTB'\n",
      "'KTOS'\n",
      "'KURI'\n",
      "'KVSC'\n",
      "'KZIA'\n",
      "'LAMR'\n",
      "'LASR'\n",
      "'LAZ'\n",
      "'LBRT'\n",
      "'LCAAU'\n",
      "'LCID'\n",
      "'LDHAU'\n",
      "'LECO'\n",
      "'LEGH'\n",
      "'LEN.B'\n",
      "'LEVI'\n",
      "'LFUS'\n",
      "'LGF.B'\n",
      "'LGVN'\n",
      "'LHDX'\n"
     ]
    },
    {
     "name": "stderr",
     "output_type": "stream",
     "text": [
      "sleep 3 seconds and retrying https://data.alpaca.markets/v1/bars/day 3 more time(s)...\n"
     ]
    },
    {
     "name": "stdout",
     "output_type": "stream",
     "text": [
      "'LII'\n",
      "'LIN'\n",
      "'LITB'\n",
      "'LIVN'\n",
      "'LJPC'\n",
      "'LL'\n",
      "'LMAOU'\n",
      "'LAZY'\n",
      "'LBPS'\n",
      "'LBTYK'\n",
      "'LCAP'\n"
     ]
    },
    {
     "name": "stderr",
     "output_type": "stream",
     "text": [
      "sleep 3 seconds and retrying https://data.alpaca.markets/v1/bars/day 3 more time(s)...\n"
     ]
    },
    {
     "name": "stdout",
     "output_type": "stream",
     "text": [
      "'LCNB'\n",
      "'LDL'\n",
      "'LEA'\n",
      "'LEE'\n",
      "'LEGO'\n",
      "'LEO'\n",
      "'LEVLP'\n",
      "'LFST'\n",
      "'LGAC'\n",
      "'LGHL'\n",
      "'LGO'\n",
      "'LHAA'\n",
      "'LI'\n",
      "'LIII.U'\n",
      "'LIND'\n",
      "'LITT'\n"
     ]
    },
    {
     "name": "stderr",
     "output_type": "stream",
     "text": [
      "sleep 3 seconds and retrying https://data.alpaca.markets/v1/bars/day 3 more time(s)...\n"
     ]
    },
    {
     "name": "stdout",
     "output_type": "stream",
     "text": [
      "'LIXT'\n",
      "'LKFN'\n",
      "'LLY'\n",
      "'LMB'\n",
      "'LMPX'\n",
      "'LNC'\n",
      "'LNN'\n",
      "'LOCO'\n",
      "'LOKM'\n",
      "'LOW'\n",
      "'LPRO'\n",
      "'LQDA'\n",
      "'LRCX'\n",
      "'LSEA'\n"
     ]
    },
    {
     "name": "stderr",
     "output_type": "stream",
     "text": [
      "sleep 3 seconds and retrying https://data.alpaca.markets/v1/bars/day 3 more time(s)...\n"
     ]
    },
    {
     "name": "stdout",
     "output_type": "stream",
     "text": [
      "'LSTR'\n",
      "'LTCH'\n",
      "'LTRPA'\n",
      "'LUMO'\n",
      "'LBAI'\n",
      "'LBRDA'\n",
      "'LC'\n",
      "'LCAPU'\n",
      "'IBER'\n",
      "'LDOS'\n",
      "'LEG'\n",
      "'LEGOU'\n",
      "'LESL'\n",
      "'LFT'\n"
     ]
    },
    {
     "name": "stderr",
     "output_type": "stream",
     "text": [
      "sleep 3 seconds and retrying https://data.alpaca.markets/v1/bars/day 3 more time(s)...\n"
     ]
    },
    {
     "name": "stdout",
     "output_type": "stream",
     "text": [
      "'LGACU'\n",
      "'LGI'\n",
      "'LHC'\n",
      "'LICY'\n",
      "'LILA'\n",
      "'LINK'\n",
      "'LITTU'\n",
      "'LIZI'\n",
      "'LMACA'\n",
      "'LMBS'\n",
      "'LMRK'\n",
      "'LND'\n",
      "'LNSR'\n",
      "'LOKM.U'\n",
      "'LORL'\n",
      "'LPSN'\n",
      "'LRFC'\n",
      "'LSXMA'\n",
      "'LTHM'\n",
      "'LTRPB'\n"
     ]
    },
    {
     "name": "stderr",
     "output_type": "stream",
     "text": [
      "sleep 3 seconds and retrying https://data.alpaca.markets/v1/bars/day 3 more time(s)...\n"
     ]
    },
    {
     "name": "stdout",
     "output_type": "stream",
     "text": [
      "'LUNA'\n",
      "'LVHD'\n",
      "'LBRDK'\n",
      "'LCA'\n",
      "'LDEM'\n",
      "'LDP'\n",
      "'LEAP'\n",
      "'LEGA'\n",
      "'LEGR'\n",
      "'LEXX'\n",
      "'LGBT'\n"
     ]
    },
    {
     "name": "stderr",
     "output_type": "stream",
     "text": [
      "sleep 3 seconds and retrying https://data.alpaca.markets/v1/bars/day 3 more time(s)...\n"
     ]
    },
    {
     "name": "stdout",
     "output_type": "stream",
     "text": [
      "'LGIH'\n",
      "'LGV'\n",
      "'LHC.U'\n",
      "'LIDR'\n",
      "'LILAK'\n",
      "'LIQT'\n",
      "'LJAQ'\n",
      "'LMACU'\n",
      "'LMFA'\n",
      "'LMRKN'\n",
      "'LNDC'\n",
      "'LNT'\n",
      "'LOGC'\n",
      "'LOMA'\n",
      "'LOTZ'\n"
     ]
    },
    {
     "name": "stderr",
     "output_type": "stream",
     "text": [
      "sleep 3 seconds and retrying https://data.alpaca.markets/v1/bars/day 3 more time(s)...\n"
     ]
    },
    {
     "name": "stdout",
     "output_type": "stream",
     "text": [
      "'LPCN'\n",
      "'LPTH'\n",
      "'LRGE'\n",
      "'LSAQ'\n",
      "'LSI'\n",
      "'LSXMB'\n",
      "'LTRX'\n",
      "'LUNG'\n",
      "'LCAHU'\n",
      "'LCII'\n",
      "'LCUT'\n",
      "'LDI'\n",
      "'LE'\n",
      "'LEDS'\n",
      "'LEGN'\n",
      "'LEVL'\n"
     ]
    },
    {
     "name": "stderr",
     "output_type": "stream",
     "text": [
      "sleep 3 seconds and retrying https://data.alpaca.markets/v1/bars/day 3 more time(s)...\n"
     ]
    },
    {
     "name": "stdout",
     "output_type": "stream",
     "text": [
      "'LFMD'\n",
      "'LFVN'\n",
      "'LGND'\n",
      "'LH'\n",
      "'LHX'\n",
      "'LIII'\n",
      "'LINC'\n",
      "'LITE'\n",
      "'LIVX'\n",
      "'LKCO'\n",
      "'LLNW'\n",
      "'LMAT'\n",
      "'LMNR'\n",
      "'LMST'\n",
      "'LOB'\n",
      "'LOKB.U'\n",
      "'LOVE'\n",
      "'LPLA'\n",
      "'LQDT'\n",
      "'LRN'\n",
      "'LSCC'\n",
      "'LTC'\n"
     ]
    },
    {
     "name": "stderr",
     "output_type": "stream",
     "text": [
      "sleep 3 seconds and retrying https://data.alpaca.markets/v1/bars/day 3 more time(s)...\n"
     ]
    },
    {
     "name": "stdout",
     "output_type": "stream",
     "text": [
      "'LTRN'\n",
      "'LUMN'\n",
      "'LUXAU'\n",
      "'LVOXU'\n",
      "'LWAY'\n",
      "'LXRX'\n",
      "'LYG'\n",
      "'LDHA'\n",
      "'LDSF'\n",
      "'LEAP.U'\n",
      "'LEGAU'\n",
      "'LEN'\n",
      "'LEV'\n",
      "'LFC'\n",
      "'LFTR'\n"
     ]
    },
    {
     "name": "stderr",
     "output_type": "stream",
     "text": [
      "sleep 3 seconds and retrying https://data.alpaca.markets/v1/bars/day 3 more time(s)...\n"
     ]
    },
    {
     "name": "stdout",
     "output_type": "stream",
     "text": [
      "'LGF.A'\n",
      "'LGV.U'\n",
      "'LHCG'\n",
      "'LIFE'\n",
      "'LILM'\n",
      "'LIVE'\n",
      "'LJAQU'\n",
      "'LKQ'\n",
      "'LMAO'\n",
      "'LMND'\n",
      "'LMRKO'\n"
     ]
    },
    {
     "name": "stderr",
     "output_type": "stream",
     "text": [
      "sleep 3 seconds and retrying https://data.alpaca.markets/v1/bars/day 3 more time(s)...\n"
     ]
    },
    {
     "name": "stdout",
     "output_type": "stream",
     "text": [
      "'LNFA'\n",
      "'LNTH'\n",
      "'LOGI'\n",
      "'LOOP'\n",
      "'LPI'\n",
      "'LPTX'\n",
      "'LSXMK'\n",
      "'LU'\n",
      "'LUV'\n",
      "'LVTX'\n",
      "'LXFR'\n",
      "'LYV'\n",
      "'MAAC'\n"
     ]
    },
    {
     "name": "stderr",
     "output_type": "stream",
     "text": [
      "sleep 3 seconds and retrying https://data.alpaca.markets/v1/bars/day 3 more time(s)...\n"
     ]
    },
    {
     "name": "stdout",
     "output_type": "stream",
     "text": [
      "'LMNL'\n",
      "'LMRKP'\n",
      "'LNFA.U'\n",
      "'LOAN'\n",
      "'LOKB'\n",
      "'LOPE'\n",
      "'LPL'\n",
      "'LPX'\n",
      "'LRMR'\n",
      "'LSBK'\n",
      "'LSPD'\n",
      "'LTBR'\n",
      "'LULU'\n",
      "'LUXA'\n",
      "'LVOX'\n"
     ]
    },
    {
     "name": "stderr",
     "output_type": "stream",
     "text": [
      "sleep 3 seconds and retrying https://data.alpaca.markets/v1/bars/day 3 more time(s)...\n"
     ]
    },
    {
     "name": "stdout",
     "output_type": "stream",
     "text": [
      "'LW'\n",
      "'LXP'\n",
      "'LYFT'\n",
      "'LZ'\n",
      "'MAACU'\n",
      "'MACC.U'\n",
      "'MANH'\n",
      "'MAR'\n",
      "'MAS'\n",
      "'MAV'\n",
      "'MBAC'\n",
      "'MBI'\n",
      "'MBT'\n",
      "'MCA'\n"
     ]
    },
    {
     "name": "stderr",
     "output_type": "stream",
     "text": [
      "sleep 3 seconds and retrying https://data.alpaca.markets/v1/bars/day 3 more time(s)...\n"
     ]
    },
    {
     "name": "stdout",
     "output_type": "stream",
     "text": [
      "'MCAF'\n",
      "'MCEF'\n",
      "'MCI'\n",
      "'MDJH'\n",
      "'MDU'\n",
      "'MEDS'\n",
      "'METX'\n",
      "'LVS'\n",
      "'LXEH'\n",
      "'LYEL'\n",
      "'LYTS'\n",
      "'MAA'\n",
      "'MACAU'\n",
      "'MACU'\n"
     ]
    },
    {
     "name": "stderr",
     "output_type": "stream",
     "text": [
      "sleep 3 seconds and retrying https://data.alpaca.markets/v1/bars/day 3 more time(s)...\n"
     ]
    },
    {
     "name": "stdout",
     "output_type": "stream",
     "text": [
      "'MAQC'\n",
      "'MARPS'\n",
      "'MATW'\n",
      "'MAYS'\n",
      "'MBINP'\n",
      "'MBRX'\n",
      "'MBUU'\n",
      "'MCAER'\n",
      "'MCBC'\n",
      "'MCG'\n",
      "'MCR'\n",
      "'MD'\n",
      "'MDH.U'\n"
     ]
    },
    {
     "name": "stderr",
     "output_type": "stream",
     "text": [
      "sleep 3 seconds and retrying https://data.alpaca.markets/v1/bars/day 3 more time(s)...\n"
     ]
    },
    {
     "name": "stdout",
     "output_type": "stream",
     "text": [
      "'MDP'\n",
      "'ME'\n",
      "'MESA'\n",
      "'MFGP'\n",
      "'MGIC'\n",
      "'MIT'\n",
      "'MKTY'\n",
      "'MLM'\n",
      "'MMI'\n",
      "'MMS'\n",
      "'MNR'\n",
      "'MNTV'\n",
      "'MOG.B'\n"
     ]
    },
    {
     "name": "stderr",
     "output_type": "stream",
     "text": [
      "sleep 3 seconds and retrying https://data.alpaca.markets/v1/bars/day 3 more time(s)...\n"
     ]
    },
    {
     "name": "stdout",
     "output_type": "stream",
     "text": [
      "'MON'\n",
      "'LVRA'\n",
      "'LWLG'\n",
      "'LXU'\n",
      "'LYL'\n",
      "'M'\n",
      "'MAC'\n",
      "'MACQ'\n",
      "'MAGS'\n",
      "'MANU'\n",
      "'MASS'\n",
      "'MAXN'\n",
      "'MBB'\n",
      "'MBINN'\n",
      "'MBOT'\n",
      "'MBTCR'\n",
      "'MCADU'\n",
      "'MCAFU'\n",
      "'MCFE'\n",
      "'MCN'\n",
      "'MCW'\n",
      "'MDGS'\n",
      "'MDWT'\n",
      "'MEIP'\n",
      "'MFC'\n"
     ]
    },
    {
     "name": "stderr",
     "output_type": "stream",
     "text": [
      "sleep 3 seconds and retrying https://data.alpaca.markets/v1/bars/day 3 more time(s)...\n"
     ]
    },
    {
     "name": "stdout",
     "output_type": "stream",
     "text": [
      "'MGA'\n",
      "'MGR'\n",
      "'MIC'\n",
      "'MIO'\n",
      "'MIY'\n",
      "'MKSI'\n",
      "'MLCO'\n",
      "'MMD'\n",
      "'MMM'\n",
      "'MMYT'\n",
      "'MNOV'\n",
      "'MNST'\n",
      "'MODV'\n",
      "'MOHO'\n"
     ]
    },
    {
     "name": "stderr",
     "output_type": "stream",
     "text": [
      "sleep 3 seconds and retrying https://data.alpaca.markets/v1/bars/day 3 more time(s)...\n"
     ]
    },
    {
     "name": "stdout",
     "output_type": "stream",
     "text": [
      "'MOTNU'\n",
      "'MOXC'\n",
      "'LVRAU'\n",
      "'LX'\n",
      "'LYB'\n",
      "'LYRA'\n",
      "'MA'\n",
      "'MACA'\n",
      "'MACQU'\n",
      "'MAIN'\n",
      "'MAPS'\n",
      "'MARK'\n"
     ]
    },
    {
     "name": "stderr",
     "output_type": "stream",
     "text": [
      "sleep 3 seconds and retrying https://data.alpaca.markets/v1/bars/day 3 more time(s)...\n"
     ]
    },
    {
     "name": "stdout",
     "output_type": "stream",
     "text": [
      "'MAT'\n",
      "'MAXR'\n",
      "'MBINO'\n",
      "'MBTCU'\n",
      "'MCAE'\n",
      "'MCB'\n",
      "'MCFT'\n",
      "'MCO'\n",
      "'MCY'\n",
      "'MDH'\n",
      "'MDNA'\n",
      "'MERC'\n",
      "'MFG'\n"
     ]
    },
    {
     "name": "stderr",
     "output_type": "stream",
     "text": [
      "sleep 3 seconds and retrying https://data.alpaca.markets/v1/bars/day 3 more time(s)...\n"
     ]
    },
    {
     "name": "stdout",
     "output_type": "stream",
     "text": [
      "'MGI'\n",
      "'MGTX'\n",
      "'MIRO'\n",
      "'MKTW'\n",
      "'MLI'\n",
      "'MMP'\n",
      "'MN'\n",
      "'MNP'\n",
      "'MNTS'\n",
      "'MOFG'\n",
      "'MOMO'\n",
      "'MOS'\n",
      "'MOTS'\n",
      "'LZB'\n",
      "'MACK'\n",
      "'MANT'\n",
      "'MARA'\n",
      "'MASI'\n",
      "'MAX'\n"
     ]
    },
    {
     "name": "stderr",
     "output_type": "stream",
     "text": [
      "sleep 3 seconds and retrying https://data.alpaca.markets/v1/bars/day 3 more time(s)...\n"
     ]
    },
    {
     "name": "stdout",
     "output_type": "stream",
     "text": [
      "'MBAC.U'\n",
      "'MBII'\n",
      "'MBNKP'\n",
      "'MBTC'\n",
      "'MCAD'\n",
      "'MCAFR'\n",
      "'MCMJ'\n",
      "'MCS'\n",
      "'MDGL'\n",
      "'MDVL'\n",
      "'MEG'\n",
      "'MFV'\n"
     ]
    },
    {
     "name": "stderr",
     "output_type": "stream",
     "text": [
      "sleep 3 seconds and retrying https://data.alpaca.markets/v1/bars/day 3 more time(s)...\n"
     ]
    },
    {
     "name": "stdout",
     "output_type": "stream",
     "text": [
      "'MGP'\n",
      "'MHNC'\n",
      "'MINM'\n",
      "'MKFG'\n",
      "'MLACU'\n",
      "'MMAT'\n",
      "'MMLP'\n",
      "'MMU'\n",
      "'MNMD'\n",
      "'MNSO'\n",
      "'MOD'\n",
      "'MOH'\n",
      "'MORF'\n",
      "'MOTN'\n"
     ]
    },
    {
     "name": "stderr",
     "output_type": "stream",
     "text": [
      "sleep 3 seconds and retrying https://data.alpaca.markets/v1/bars/day 3 more time(s)...\n"
     ]
    },
    {
     "name": "stdout",
     "output_type": "stream",
     "text": [
      "'MOVE'\n",
      "'MPACU'\n",
      "'MACC'\n",
      "'MACUU'\n",
      "'MAN'\n",
      "'MAQCU'\n",
      "'MATX'\n",
      "'MBCN'\n",
      "'MBIO'\n",
      "'MC'\n",
      "'MCAEU'\n"
     ]
    },
    {
     "name": "stderr",
     "output_type": "stream",
     "text": [
      "sleep 3 seconds and retrying https://data.alpaca.markets/v1/bars/day 3 more time(s)...\n"
     ]
    },
    {
     "name": "stdout",
     "output_type": "stream",
     "text": [
      "'MCD'\n",
      "'MCHX'\n",
      "'MCRI'\n",
      "'MDB'\n",
      "'MDIV'\n",
      "'MDRR'\n",
      "'MET'\n",
      "'MFIN'\n",
      "'MGLN'\n",
      "'MHF'\n",
      "'MIN'\n",
      "'MITAU'\n",
      "'MKC.V'\n",
      "'MKTYP'\n",
      "'MLR'\n",
      "'MMSI'\n"
     ]
    },
    {
     "name": "stderr",
     "output_type": "stream",
     "text": [
      "sleep 3 seconds and retrying https://data.alpaca.markets/v1/bars/day 3 more time(s)...\n"
     ]
    },
    {
     "name": "stdout",
     "output_type": "stream",
     "text": [
      "'MNDY'\n",
      "'MNRL'\n",
      "'MO'\n",
      "'MOGO'\n",
      "'JATT'\n",
      "'MOTV.U'\n",
      "'MPAC'\n",
      "'MQT'\n",
      "'MRCC'\n",
      "'MRKR'\n",
      "'MGNX'\n",
      "'MHI'\n",
      "'MIND'\n",
      "'MITK'\n",
      "'MKD'\n",
      "'MLAB'\n",
      "'MLP'\n",
      "'MLVF'\n",
      "'MNKD'\n",
      "'MNSBP'\n",
      "'MOGU'\n",
      "'MOV'\n",
      "'MPACR'\n",
      "'MPV'\n"
     ]
    },
    {
     "name": "stderr",
     "output_type": "stream",
     "text": [
      "sleep 3 seconds and retrying https://data.alpaca.markets/v1/bars/day 3 more time(s)...\n"
     ]
    },
    {
     "name": "stdout",
     "output_type": "stream",
     "text": [
      "'MQY'\n",
      "'MRCY'\n",
      "'MRLN'\n",
      "'MRSN'\n",
      "'MS'\n",
      "'MSD'\n",
      "'MSGM'\n",
      "'MT'\n",
      "'MTBC'\n",
      "'MTD'\n",
      "'MTH'\n",
      "'MTP'\n"
     ]
    },
    {
     "name": "stderr",
     "output_type": "stream",
     "text": [
      "sleep 3 seconds and retrying https://data.alpaca.markets/v1/bars/day 3 more time(s)...\n"
     ]
    },
    {
     "name": "stdout",
     "output_type": "stream",
     "text": [
      "'MUI'\n",
      "'MWA'\n",
      "'MXF'\n",
      "'MYFW'\n",
      "'MOSY'\n",
      "'MOTV'\n",
      "'MPAA'\n",
      "'MPLX'\n",
      "'MQ'\n",
      "'MRBK'\n",
      "'MRK'\n",
      "'MRO'\n",
      "'MRVI'\n",
      "'MSC'\n",
      "'MSFT'\n"
     ]
    },
    {
     "name": "stderr",
     "output_type": "stream",
     "text": [
      "sleep 3 seconds and retrying https://data.alpaca.markets/v1/bars/day 3 more time(s)...\n"
     ]
    },
    {
     "name": "stdout",
     "output_type": "stream",
     "text": [
      "'MSVB'\n",
      "'MTAL.U'\n",
      "'MTCN'\n",
      "'MTG'\n",
      "'MTTR'\n",
      "'MU'\n",
      "'MUE'\n",
      "'MUSA'\n",
      "'MVIS'\n",
      "'MVT'\n",
      "'MYD'\n"
     ]
    },
    {
     "name": "stderr",
     "output_type": "stream",
     "text": [
      "sleep 3 seconds and retrying https://data.alpaca.markets/v1/bars/day 3 more time(s)...\n"
     ]
    },
    {
     "name": "stdout",
     "output_type": "stream",
     "text": [
      "'MYMD'\n",
      "'MYSZ'\n",
      "'NABL'\n",
      "'NAKD'\n",
      "'NARI'\n",
      "'NAUT'\n",
      "'NBRV'\n",
      "'NCLH'\n",
      "'NCV'\n",
      "'NDMO'\n",
      "'NECB'\n",
      "'NEO'\n",
      "'NETI'\n",
      "'NEWR'\n",
      "'NEXI'\n",
      "'MPA'\n",
      "'MPC'\n",
      "'MPWR'\n"
     ]
    },
    {
     "name": "stderr",
     "output_type": "stream",
     "text": [
      "sleep 3 seconds and retrying https://data.alpaca.markets/v1/bars/day 3 more time(s)...\n"
     ]
    },
    {
     "name": "stdout",
     "output_type": "stream",
     "text": [
      "'MRIN'\n",
      "'MRNS'\n",
      "'MRUS'\n",
      "'MSBI'\n",
      "'MSEX'\n",
      "'MSM'\n",
      "'MSTR'\n",
      "'MTACU'\n",
      "'MTCH'\n",
      "'MTEX'\n",
      "'MTN'\n",
      "'MTRX'\n",
      "'MTZ'\n",
      "'MUDSU'\n"
     ]
    },
    {
     "name": "stderr",
     "output_type": "stream",
     "text": [
      "sleep 3 seconds and retrying https://data.alpaca.markets/v1/bars/day 3 more time(s)...\n"
     ]
    },
    {
     "name": "stdout",
     "output_type": "stream",
     "text": [
      "'MUR'\n",
      "'MVF'\n",
      "'MVST'\n",
      "'MXCT'\n",
      "'MYC'\n",
      "'MYJ'\n",
      "'MYRG'\n",
      "'NAACU'\n",
      "'NBEV'\n",
      "'NBR'\n",
      "'NBTX'\n",
      "'NCBS'\n",
      "'NCTY'\n",
      "'NDLS'\n"
     ]
    },
    {
     "name": "stderr",
     "output_type": "stream",
     "text": [
      "sleep 3 seconds and retrying https://data.alpaca.markets/v1/bars/day 3 more time(s)...\n"
     ]
    },
    {
     "name": "stdout",
     "output_type": "stream",
     "text": [
      "'NEPT'\n",
      "'NETE'\n",
      "'NEXA'\n",
      "'NFH'\n",
      "'MPB'\n",
      "'MPW'\n",
      "'MRACU'\n",
      "'MRNA'\n",
      "'MRTX'\n",
      "'MSB'\n",
      "'MSDAU'\n",
      "'MSI'\n",
      "'MTAC'\n",
      "'MTC'\n",
      "'MTEM'\n"
     ]
    },
    {
     "name": "stderr",
     "output_type": "stream",
     "text": [
      "sleep 3 seconds and retrying https://data.alpaca.markets/v1/bars/day 3 more time(s)...\n"
     ]
    },
    {
     "name": "stdout",
     "output_type": "stream",
     "text": [
      "'MTLS'\n",
      "'MTRN'\n",
      "'MTX'\n",
      "'MUDS'\n",
      "'MVBF'\n",
      "'MXL'\n",
      "'MYI'\n",
      "'MYPS'\n",
      "'NAAC'\n",
      "'NAII'\n",
      "'NAPA'\n"
     ]
    },
    {
     "name": "stderr",
     "output_type": "stream",
     "text": [
      "sleep 3 seconds and retrying https://data.alpaca.markets/v1/bars/day 3 more time(s)...\n"
     ]
    },
    {
     "name": "stdout",
     "output_type": "stream",
     "text": [
      "'NATR'\n",
      "'NBB'\n",
      "'NBTB'\n",
      "'NCA'\n",
      "'NCSM'\n",
      "'NDAQ'\n",
      "'NEA'\n",
      "'NEM'\n",
      "'NEPH'\n",
      "'NET'\n",
      "'NEW'\n",
      "'NEX'\n",
      "'NFG'\n",
      "'NFTY'\n",
      "'NGCA'\n",
      "'NGMS'\n",
      "'MRAC'\n",
      "'MREO'\n",
      "'MRM'\n",
      "'MRTN'\n",
      "'MSAC'\n",
      "'MSDA'\n",
      "'MSGS'\n"
     ]
    },
    {
     "name": "stderr",
     "output_type": "stream",
     "text": [
      "sleep 3 seconds and retrying https://data.alpaca.markets/v1/bars/day 3 more time(s)...\n"
     ]
    },
    {
     "name": "stdout",
     "output_type": "stream",
     "text": [
      "'MSP'\n",
      "'MTBCP'\n",
      "'MTDR'\n",
      "'MTL'\n",
      "'MTR'\n",
      "'MTW'\n",
      "'MUC'\n",
      "'MUJ'\n",
      "'MUX'\n",
      "'MX'\n",
      "'MYGN'\n",
      "'MYOV'\n",
      "'NAD'\n",
      "'NAOV'\n"
     ]
    },
    {
     "name": "stderr",
     "output_type": "stream",
     "text": [
      "sleep 3 seconds and retrying https://data.alpaca.markets/v1/bars/day 3 more time(s)...\n"
     ]
    },
    {
     "name": "stdout",
     "output_type": "stream",
     "text": [
      "'NATI'\n",
      "'NAZ'\n",
      "'NBN'\n",
      "'NBSTU'\n",
      "'NC'\n",
      "'NCNO'\n",
      "'NDACU'\n",
      "'NEGG'\n",
      "'NEP'\n",
      "'NESR'\n",
      "'NEV'\n"
     ]
    },
    {
     "name": "stderr",
     "output_type": "stream",
     "text": [
      "sleep 3 seconds and retrying https://data.alpaca.markets/v1/bars/day 3 more time(s)...\n"
     ]
    },
    {
     "name": "stdout",
     "output_type": "stream",
     "text": [
      "'NEWTZ'\n",
      "'NFE'\n",
      "'NGC.U'\n",
      "'NGM'\n",
      "'MRVL'\n",
      "'MSCI'\n",
      "'MSGE'\n",
      "'MSON'\n",
      "'MTB'\n",
      "'MTCR'\n",
      "'MTOR'\n",
      "'MUA'\n",
      "'MUFG'\n",
      "'MVO'\n",
      "'MXE'\n"
     ]
    },
    {
     "name": "stderr",
     "output_type": "stream",
     "text": [
      "sleep 3 seconds and retrying https://data.alpaca.markets/v1/bars/day 3 more time(s)...\n"
     ]
    },
    {
     "name": "stdout",
     "output_type": "stream",
     "text": [
      "'MYE'\n",
      "'MYN'\n",
      "'MYTE'\n",
      "'NAC'\n",
      "'NAN'\n",
      "'NAT'\n",
      "'NBHC'\n",
      "'NBSE'\n",
      "'NBXG'\n",
      "'NCMI'\n",
      "'NCZ'\n",
      "'NDRA'\n",
      "'NEE'\n",
      "'NEOG'\n",
      "'NERV'\n",
      "'NEWT'\n",
      "'NEXT'\n",
      "'NGAB.U'\n",
      "'NGVT'\n",
      "'NHTC'\n",
      "'NIM'\n",
      "'NIU'\n"
     ]
    },
    {
     "name": "stderr",
     "output_type": "stream",
     "text": [
      "sleep 3 seconds and retrying https://data.alpaca.markets/v1/bars/day 3 more time(s)...\n"
     ]
    },
    {
     "name": "stdout",
     "output_type": "stream",
     "text": [
      "'NKSH'\n",
      "'NLIT'\n",
      "'NATH'\n",
      "'NAVI'\n",
      "'NBIX'\n",
      "'NBST'\n",
      "'NCNA'\n",
      "'NDAC'\n",
      "'NDSN'\n",
      "'NEON'\n",
      "'NEU'\n"
     ]
    },
    {
     "name": "stderr",
     "output_type": "stream",
     "text": [
      "sleep 3 seconds and retrying https://data.alpaca.markets/v1/bars/day 3 more time(s)...\n"
     ]
    },
    {
     "name": "stdout",
     "output_type": "stream",
     "text": [
      "'NEWTL'\n",
      "'NFBK'\n",
      "'NFLX'\n",
      "'NGC'\n",
      "'NGG'\n",
      "'NH'\n",
      "'NIMC'\n",
      "'NKTR'\n",
      "'NLITU'\n",
      "'NMG'\n",
      "'NMMCU'\n",
      "'NMTC'\n",
      "'NNI'\n",
      "'NOAC'\n"
     ]
    },
    {
     "name": "stderr",
     "output_type": "stream",
     "text": [
      "sleep 3 seconds and retrying https://data.alpaca.markets/v1/bars/day 3 more time(s)...\n"
     ]
    },
    {
     "name": "stdout",
     "output_type": "stream",
     "text": [
      "'NODK'\n",
      "'NOTV'\n",
      "'NPO'\n",
      "'NRACU'\n",
      "'NRIM'\n",
      "'NSA'\n",
      "'NSP'\n",
      "'NSTB.U'\n",
      "'NSYS'\n",
      "'NTG'\n",
      "'NTP'\n",
      "'NFJ'\n",
      "'NGAB'\n",
      "'NGVC'\n"
     ]
    },
    {
     "name": "stderr",
     "output_type": "stream",
     "text": [
      "sleep 3 seconds and retrying https://data.alpaca.markets/v1/bars/day 3 more time(s)...\n"
     ]
    },
    {
     "name": "stdout",
     "output_type": "stream",
     "text": [
      "'NISN'\n",
      "'NKLA'\n",
      "'NL'\n",
      "'NLSN'\n",
      "'NMCO'\n",
      "'NMM'\n",
      "'NMS'\n",
      "'NNBR'\n",
      "'NNY'\n",
      "'NOC'\n",
      "'NOMD'\n",
      "'NOVT'\n",
      "'NPCT'\n",
      "'NR'\n",
      "'NRP'\n"
     ]
    },
    {
     "name": "stderr",
     "output_type": "stream",
     "text": [
      "sleep 3 seconds and retrying https://data.alpaca.markets/v1/bars/day 3 more time(s)...\n"
     ]
    },
    {
     "name": "stdout",
     "output_type": "stream",
     "text": [
      "'NSIT'\n",
      "'NSSC'\n",
      "'NSTD.U'\n",
      "'NTLA'\n",
      "'NTRSO'\n",
      "'NTZ'\n",
      "'NUW'\n",
      "'NVEC'\n",
      "'NVMI'\n",
      "'NVS'\n",
      "'NVVE'\n",
      "'NX'\n",
      "'NXP'\n",
      "'NXTC'\n",
      "'NYC'\n",
      "'NGCAU'\n",
      "'NGS'\n",
      "'NHI'\n"
     ]
    },
    {
     "name": "stderr",
     "output_type": "stream",
     "text": [
      "sleep 3 seconds and retrying https://data.alpaca.markets/v1/bars/day 3 more time(s)...\n"
     ]
    },
    {
     "name": "stdout",
     "output_type": "stream",
     "text": [
      "'NIE'\n",
      "'NIQ'\n",
      "'NKG'\n",
      "'NKX'\n",
      "'NLS'\n",
      "'NM'\n",
      "'NMRK'\n",
      "'NNA'\n",
      "'NOM'\n",
      "'NOVN'\n",
      "'NPCE'\n",
      "'NQP'\n",
      "'NRZ'\n",
      "'NSEC'\n",
      "'NSS'\n"
     ]
    },
    {
     "name": "stderr",
     "output_type": "stream",
     "text": [
      "sleep 3 seconds and retrying https://data.alpaca.markets/v1/bars/day 3 more time(s)...\n"
     ]
    },
    {
     "name": "stdout",
     "output_type": "stream",
     "text": [
      "'NSTD'\n",
      "'NTCT'\n",
      "'NTRS'\n",
      "'NTWK'\n",
      "'NUE'\n",
      "'NUVL'\n",
      "'NVDA'\n",
      "'NVIV'\n",
      "'NVRO'\n",
      "'NVTA'\n",
      "'NWL'\n",
      "'NWSA'\n",
      "'NXN'\n"
     ]
    },
    {
     "name": "stderr",
     "output_type": "stream",
     "text": [
      "sleep 3 seconds and retrying https://data.alpaca.markets/v1/bars/day 3 more time(s)...\n"
     ]
    },
    {
     "name": "stdout",
     "output_type": "stream",
     "text": [
      "'NXST'\n",
      "'NXU.U'\n",
      "'NYMTL'\n",
      "'NZF'\n",
      "'NHF'\n",
      "'NID'\n",
      "'NIO'\n",
      "'NKE'\n",
      "'KR'\n",
      "'NLY'\n",
      "'NMIH'\n",
      "'NMRD'\n",
      "'NMZ'\n"
     ]
    },
    {
     "name": "stderr",
     "output_type": "stream",
     "text": [
      "sleep 3 seconds and retrying https://data.alpaca.markets/v1/bars/day 3 more time(s)...\n"
     ]
    },
    {
     "name": "stdout",
     "output_type": "stream",
     "text": [
      "'NNOX'\n",
      "'NOAH'\n",
      "'NOK'\n",
      "'NOVA'\n",
      "'NP'\n",
      "'NPV'\n",
      "'NREF'\n",
      "'NRK'\n",
      "'NRXP'\n",
      "'NSR'\n",
      "'NSTC.U'\n",
      "'NTCO'\n",
      "'NTIC'\n",
      "'NTRA'\n",
      "'NTUS'\n",
      "'NURO'\n",
      "'NUVB'\n",
      "'NVCR'\n",
      "'NVGS'\n",
      "'NVR'\n",
      "'NVT'\n",
      "'NWG'\n",
      "'NWS'\n",
      "'NXJ'\n"
     ]
    },
    {
     "name": "stderr",
     "output_type": "stream",
     "text": [
      "sleep 3 seconds and retrying https://data.alpaca.markets/v1/bars/day 3 more time(s)...\n"
     ]
    },
    {
     "name": "stdout",
     "output_type": "stream",
     "text": [
      "'NXRT'\n",
      "'NXU'\n",
      "'NYMT'\n",
      "'NYXH'\n",
      "'OBNK'\n",
      "'NICK'\n",
      "'NINE'\n",
      "'NKTX'\n",
      "'NLOK'\n",
      "'NLTX'\n",
      "'NMI'\n",
      "'NMR'\n",
      "'NMTR'\n",
      "'NNN'\n"
     ]
    },
    {
     "name": "stderr",
     "output_type": "stream",
     "text": [
      "sleep 3 seconds and retrying https://data.alpaca.markets/v1/bars/day 3 more time(s)...\n"
     ]
    },
    {
     "name": "stdout",
     "output_type": "stream",
     "text": [
      "'NOACU'\n",
      "'NOV'\n",
      "'NOW'\n",
      "'NPTN'\n",
      "'NRC'\n",
      "'NRIX'\n",
      "'NRUC'\n",
      "'NSC'\n",
      "'NSPR'\n",
      "'NSTC'\n",
      "'NTAP'\n",
      "'NTGR'\n"
     ]
    },
    {
     "name": "stderr",
     "output_type": "stream",
     "text": [
      "sleep 3 seconds and retrying https://data.alpaca.markets/v1/bars/day 3 more time(s)...\n"
     ]
    },
    {
     "name": "stdout",
     "output_type": "stream",
     "text": [
      "'NTR'\n",
      "'NUVA'\n",
      "'NVCN'\n",
      "'NVG'\n",
      "'NVST'\n",
      "'NWFL'\n",
      "'NWPX'\n",
      "'NXGN'\n",
      "'NXR'\n",
      "'NXTP'\n",
      "'NYT'\n",
      "'OAS'\n",
      "'OBLG'\n"
     ]
    },
    {
     "name": "stderr",
     "output_type": "stream",
     "text": [
      "sleep 3 seconds and retrying https://data.alpaca.markets/v1/bars/day 3 more time(s)...\n"
     ]
    },
    {
     "name": "stdout",
     "output_type": "stream",
     "text": [
      "'OCA.U'\n",
      "'OCCIP'\n",
      "'NLSP'\n",
      "'NMFC'\n",
      "'NMMC'\n",
      "'NMT'\n",
      "'NNDM'\n",
      "'NOA'\n",
      "'NOVVU'\n",
      "'NPK'\n",
      "'NRAC'\n",
      "'NRGX'\n",
      "'NRT'\n",
      "'NS'\n",
      "'NSL'\n",
      "'NSTB'\n",
      "'NSTG'\n"
     ]
    },
    {
     "name": "stderr",
     "output_type": "stream",
     "text": [
      "sleep 3 seconds and retrying https://data.alpaca.markets/v1/bars/day 3 more time(s)...\n"
     ]
    },
    {
     "name": "stdout",
     "output_type": "stream",
     "text": [
      "'NTES'\n",
      "'NTNX'\n",
      "'NUZE'\n",
      "'NVEE'\n",
      "'NVO'\n",
      "'NVSA'\n",
      "'NWBI'\n",
      "'NWLI'\n",
      "'NXC'\n",
      "'NXPI'\n",
      "'NXTD'\n",
      "'NYCB'\n",
      "'NYMTN'\n",
      "'OACB'\n"
     ]
    },
    {
     "name": "stderr",
     "output_type": "stream",
     "text": [
      "sleep 3 seconds and retrying https://data.alpaca.markets/v1/bars/day 3 more time(s)...\n"
     ]
    },
    {
     "name": "stdout",
     "output_type": "stream",
     "text": [
      "'OBCI'\n",
      "'OBT'\n",
      "'OCCI'\n",
      "'OCFT'\n",
      "'ODP'\n",
      "'OEPWU'\n",
      "'NUAN'\n",
      "'NUO'\n",
      "'NUV'\n",
      "'NVAX'\n",
      "'NVFY'\n",
      "'NVOS'\n",
      "'NVSAU'\n",
      "'NWE'\n"
     ]
    },
    {
     "name": "stderr",
     "output_type": "stream",
     "text": [
      "sleep 3 seconds and retrying https://data.alpaca.markets/v1/bars/day 3 more time(s)...\n"
     ]
    },
    {
     "name": "stdout",
     "output_type": "stream",
     "text": [
      "'NWN'\n",
      "'NXQ'\n",
      "'NXTG'\n",
      "'NYMTP'\n",
      "'OACB.U'\n",
      "'OCA'\n",
      "'OCCIO'\n",
      "'OCG'\n",
      "'OCUL'\n",
      "'ODT'\n",
      "'OESX'\n"
     ]
    },
    {
     "name": "stderr",
     "output_type": "stream",
     "text": [
      "sleep 3 seconds and retrying https://data.alpaca.markets/v1/bars/day 3 more time(s)...\n"
     ]
    },
    {
     "name": "stdout",
     "output_type": "stream",
     "text": [
      "'OFS'\n",
      "'OGI'\n",
      "'OHPAU'\n",
      "'OIIM'\n",
      "'OLB'\n",
      "'OLO'\n",
      "'OMC'\n",
      "'OMQS'\n",
      "'ONCY'\n",
      "'ONTO'\n",
      "'OPA.U'\n",
      "'OPFI'\n",
      "'OPNT'\n"
     ]
    },
    {
     "name": "stderr",
     "output_type": "stream",
     "text": [
      "sleep 3 seconds and retrying https://data.alpaca.markets/v1/bars/day 3 more time(s)...\n"
     ]
    },
    {
     "name": "stdout",
     "output_type": "stream",
     "text": [
      "'OPRT'\n",
      "'OR'\n",
      "'ORGN'\n",
      "'ORIC'\n",
      "'ORRF'\n",
      "'NYMTM'\n",
      "'O'\n",
      "'OBAS'\n",
      "'OBSV'\n",
      "'OCC'\n",
      "'OCFCP'\n",
      "'OCSL'\n",
      "'ODFL'\n",
      "'OEPW'\n",
      "'OFIX'\n",
      "'OHI'\n",
      "'OKE'\n",
      "'OLMA'\n",
      "'LPG'\n",
      "'OMEX'\n",
      "'OMIC'\n",
      "'ONCS'\n",
      "'OPEN'\n",
      "'OPINL'\n",
      "'ORCC'\n",
      "'ORIA'\n",
      "'ORN'\n",
      "'OSCR'\n",
      "'OSIS'\n",
      "'OSTRU'\n"
     ]
    },
    {
     "name": "stderr",
     "output_type": "stream",
     "text": [
      "sleep 3 seconds and retrying https://data.alpaca.markets/v1/bars/day 3 more time(s)...\n"
     ]
    },
    {
     "name": "stdout",
     "output_type": "stream",
     "text": [
      "'OTIS'\n",
      "'OTRK'\n",
      "'OWL'\n",
      "'OXLCL'\n",
      "'OXSQG'\n",
      "'OZON'\n",
      "'PACE'\n",
      "'PAE'\n",
      "'PAI'\n",
      "'OB'\n",
      "'OCAXU'\n"
     ]
    },
    {
     "name": "stderr",
     "output_type": "stream",
     "text": [
      "sleep 3 seconds and retrying https://data.alpaca.markets/v1/bars/day 3 more time(s)...\n"
     ]
    },
    {
     "name": "stdout",
     "output_type": "stream",
     "text": [
      "'OCFC'\n",
      "'OCN'\n",
      "'ODC'\n",
      "'OEG'\n",
      "'OFED'\n",
      "'OG'\n",
      "'OGS'\n",
      "'OIBR.C'\n",
      "'OIS'\n",
      "'OLLI'\n",
      "'OM'\n",
      "'OMER'\n",
      "'OMI'\n",
      "'ONCR'\n",
      "'ONEM'\n"
     ]
    },
    {
     "name": "stderr",
     "output_type": "stream",
     "text": [
      "sleep 3 seconds and retrying https://data.alpaca.markets/v1/bars/day 3 more time(s)...\n"
     ]
    },
    {
     "name": "stdout",
     "output_type": "stream",
     "text": [
      "'OOMA'\n",
      "'OPCH'\n",
      "'OPI'\n",
      "'OPP.RT'\n",
      "'OPTN'\n",
      "'ORC'\n",
      "'ORI'\n",
      "'ORMP'\n",
      "'OSBC'\n",
      "'OSI.U'\n",
      "'OSTR'\n",
      "'OTIC'\n"
     ]
    },
    {
     "name": "stderr",
     "output_type": "stream",
     "text": [
      "sleep 3 seconds and retrying https://data.alpaca.markets/v1/bars/day 3 more time(s)...\n"
     ]
    },
    {
     "name": "stdout",
     "output_type": "stream",
     "text": [
      "'OTRAU'\n",
      "'OVID'\n",
      "'OXLC'\n",
      "'OXSQ'\n",
      "'OZK'\n",
      "'PACB'\n",
      "'PACXU'\n",
      "'PAHC'\n",
      "'PALI'\n",
      "'PANW'\n",
      "'OCAX'\n",
      "'OCDX'\n",
      "'OCX'\n",
      "'OFC'\n",
      "'OFSSI'\n",
      "'OGN'\n",
      "'OIA'\n",
      "'OLED'\n",
      "'OLP'\n",
      "'OMEG'\n",
      "'OMGA'\n",
      "'ONB'\n",
      "'ONE'\n"
     ]
    },
    {
     "name": "stderr",
     "output_type": "stream",
     "text": [
      "sleep 3 seconds and retrying https://data.alpaca.markets/v1/bars/day 3 more time(s)...\n"
     ]
    },
    {
     "name": "stdout",
     "output_type": "stream",
     "text": [
      "'ONVO'\n",
      "'OPBK'\n",
      "'OPHC'\n",
      "'OPP'\n",
      "'OPT'\n",
      "'ORAN'\n",
      "'ORGS'\n",
      "'ORLY'\n",
      "'OSAT'\n",
      "'OSI'\n",
      "'OSTK'\n",
      "'OTEX'\n",
      "'OTRA'\n"
     ]
    },
    {
     "name": "stderr",
     "output_type": "stream",
     "text": [
      "sleep 3 seconds and retrying https://data.alpaca.markets/v1/bars/day 3 more time(s)...\n"
     ]
    },
    {
     "name": "stdout",
     "output_type": "stream",
     "text": [
      "'OXBR'\n",
      "'OXM'\n",
      "'OYST'\n",
      "'PAC'\n",
      "'PACX'\n",
      "'PAGS'\n",
      "'PANL'\n",
      "'PARR'\n",
      "'PAYC'\n",
      "'OCGN'\n",
      "'OCUP'\n",
      "'OEC'\n",
      "'OFSSG'\n",
      "'OI'\n",
      "'OLD'\n",
      "'OMCL'\n"
     ]
    },
    {
     "name": "stderr",
     "output_type": "stream",
     "text": [
      "sleep 3 seconds and retrying https://data.alpaca.markets/v1/bars/day 3 more time(s)...\n"
     ]
    },
    {
     "name": "stdout",
     "output_type": "stream",
     "text": [
      "'ON'\n",
      "'ONDS'\n",
      "'ONEW'\n",
      "'ONTX'\n",
      "'OPAD'\n",
      "'OPGN'\n",
      "'OPOF'\n",
      "'OPRX'\n",
      "'ORA'\n",
      "'ORGO'\n",
      "'ORTX'\n",
      "'OSH'\n",
      "'OSS'\n"
     ]
    },
    {
     "name": "stderr",
     "output_type": "stream",
     "text": [
      "sleep 3 seconds and retrying https://data.alpaca.markets/v1/bars/day 3 more time(s)...\n"
     ]
    },
    {
     "name": "stdout",
     "output_type": "stream",
     "text": [
      "'OTEC'\n",
      "'OTMO'\n",
      "'OVBC'\n",
      "'OXACU'\n",
      "'OXLCP'\n",
      "'OXY'\n",
      "'PACW'\n",
      "'PAGP'\n",
      "'PAR'\n",
      "'PAYA'\n",
      "'PBA'\n",
      "'OFLX'\n",
      "'OHPA'\n",
      "'OII'\n",
      "'OKTA'\n",
      "'OLN'\n",
      "'OMAB'\n",
      "'OMF'\n"
     ]
    },
    {
     "name": "stderr",
     "output_type": "stream",
     "text": [
      "sleep 3 seconds and retrying https://data.alpaca.markets/v1/bars/day 3 more time(s)...\n"
     ]
    },
    {
     "name": "stdout",
     "output_type": "stream",
     "text": [
      "'OMP'\n",
      "'ONCT'\n",
      "'ONEQ'\n",
      "'ONTF'\n",
      "'OPA'\n",
      "'OPK'\n",
      "'OPRA'\n",
      "'OPY'\n",
      "'ORCL'\n",
      "'ORIAU'\n",
      "'ORPH'\n",
      "'OSK'\n"
     ]
    },
    {
     "name": "stderr",
     "output_type": "stream",
     "text": [
      "sleep 3 seconds and retrying https://data.alpaca.markets/v1/bars/day 3 more time(s)...\n"
     ]
    },
    {
     "name": "stdout",
     "output_type": "stream",
     "text": [
      "'OSUR'\n",
      "'OTRKP'\n",
      "'OUST'\n",
      "'OWLT'\n",
      "'OXLCM'\n",
      "'OXSQZ'\n",
      "'PAA'\n",
      "'PACE.U'\n",
      "'PAFOU'\n",
      "'PAIC'\n",
      "'PALT'\n",
      "'PAQC'\n",
      "'PATI'\n"
     ]
    },
    {
     "name": "stderr",
     "output_type": "stream",
     "text": [
      "sleep 3 seconds and retrying https://data.alpaca.markets/v1/bars/day 3 more time(s)...\n"
     ]
    },
    {
     "name": "stdout",
     "output_type": "stream",
     "text": [
      "'PAX'\n",
      "'PAYX'\n",
      "'PBCTP'\n",
      "'PBFX'\n",
      "'PBLA'\n",
      "'PBR.A'\n",
      "'OSG'\n",
      "'OSMT'\n",
      "'OSW'\n",
      "'OTLK'\n",
      "'OTTR'\n",
      "'OVLY'\n",
      "'OXLCO'\n",
      "'OXUSU'\n"
     ]
    },
    {
     "name": "stderr",
     "output_type": "stream",
     "text": [
      "sleep 3 seconds and retrying https://data.alpaca.markets/v1/bars/day 3 more time(s)...\n"
     ]
    },
    {
     "name": "stdout",
     "output_type": "stream",
     "text": [
      "'PAAS'\n",
      "'PACK'\n",
      "'PAG'\n",
      "'PAICU'\n",
      "'PAM'\n",
      "'PAQCU'\n",
      "'PATK'\n",
      "'PAY'\n",
      "'PB'\n",
      "'PBH'\n",
      "'PCG'\n",
      "'PCOM'\n",
      "'PCSA'\n",
      "'PCVX'\n"
     ]
    },
    {
     "name": "stderr",
     "output_type": "stream",
     "text": [
      "sleep 3 seconds and retrying https://data.alpaca.markets/v1/bars/day 3 more time(s)...\n"
     ]
    },
    {
     "name": "stdout",
     "output_type": "stream",
     "text": [
      "'PDCO'\n",
      "'PDI'\n",
      "'PDOT.U'\n",
      "'PEB'\n",
      "'PEGA'\n",
      "'PEO'\n",
      "'PETS'\n",
      "'PEZ'\n",
      "'PFDRU'\n",
      "'PFHD'\n",
      "'PFN'\n",
      "'PGC'\n",
      "'PGTI'\n",
      "'PATH'\n",
      "'PAYS'\n",
      "'PBCT'\n",
      "'PBFS'\n",
      "'MCHI'\n",
      "'PCM'\n",
      "'PCQ'\n",
      "'PCTTU'\n",
      "'PDBC'\n",
      "'PDO'\n"
     ]
    },
    {
     "name": "stderr",
     "output_type": "stream",
     "text": [
      "sleep 3 seconds and retrying https://data.alpaca.markets/v1/bars/day 3 more time(s)...\n"
     ]
    },
    {
     "name": "stdout",
     "output_type": "stream",
     "text": [
      "'PDT'\n",
      "'PEN'\n",
      "'PESI'\n",
      "'PFD'\n",
      "'PFGC'\n",
      "'PFIN'\n",
      "'PFM'\n",
      "'PFSW'\n",
      "'PG'\n",
      "'PGJ'\n",
      "'PHAR'\n",
      "'PHIO'\n",
      "'PHUN'\n"
     ]
    },
    {
     "name": "stderr",
     "output_type": "stream",
     "text": [
      "sleep 3 seconds and retrying https://data.alpaca.markets/v1/bars/day 3 more time(s)...\n"
     ]
    },
    {
     "name": "stdout",
     "output_type": "stream",
     "text": [
      "'PIAI'\n",
      "'PID'\n",
      "'PIPP'\n",
      "'PKOH'\n",
      "'PLAY'\n",
      "'PLIN'\n",
      "'PLNT'\n",
      "'PASG'\n",
      "'PAVM'\n",
      "'PAYO'\n",
      "'PBC'\n",
      "'PBIP'\n",
      "'PBR'\n",
      "'PBTS'\n"
     ]
    },
    {
     "name": "stderr",
     "output_type": "stream",
     "text": [
      "sleep 3 seconds and retrying https://data.alpaca.markets/v1/bars/day 3 more time(s)...\n"
     ]
    },
    {
     "name": "stdout",
     "output_type": "stream",
     "text": [
      "'PCB'\n",
      "'PCK'\n",
      "'PCPC.U'\n",
      "'PCTI'\n",
      "'PCYO'\n",
      "'PDEV'\n",
      "'PDSB'\n",
      "'PECO'\n",
      "'PFC'\n",
      "'PFF'\n",
      "'PFG'\n",
      "'PFLT'\n",
      "'PFSI'\n",
      "'PFXNL'\n"
     ]
    },
    {
     "name": "stderr",
     "output_type": "stream",
     "text": [
      "sleep 3 seconds and retrying https://data.alpaca.markets/v1/bars/day 3 more time(s)...\n"
     ]
    },
    {
     "name": "stdout",
     "output_type": "stream",
     "text": [
      "'PGRE'\n",
      "'PH'\n",
      "'PHD'\n",
      "'PHICU'\n",
      "'PHT'\n",
      "'PI'\n",
      "'PIM'\n",
      "'PIO'\n",
      "'PIZ'\n",
      "'PK'\n",
      "'PKO'\n",
      "'PBBK'\n",
      "'PBI'\n",
      "'PBPB'\n",
      "'PCAR'\n",
      "'PCI'\n",
      "'PCPC'\n",
      "'PCT'\n",
      "'PCYG'\n",
      "'PDM'\n",
      "'PDS'\n",
      "'PEBO'\n",
      "'PERI'\n"
     ]
    },
    {
     "name": "stderr",
     "output_type": "stream",
     "text": [
      "sleep 3 seconds and retrying https://data.alpaca.markets/v1/bars/day 3 more time(s)...\n"
     ]
    },
    {
     "name": "stdout",
     "output_type": "stream",
     "text": [
      "'PETZ'\n",
      "'PFIE'\n",
      "'PFS'\n",
      "'PGR'\n",
      "'PGZ'\n",
      "'PHCF'\n",
      "'PHIC'\n",
      "'PHR'\n",
      "'PICC.U'\n",
      "'PINS'\n",
      "'PIXY'\n",
      "'PKI'\n",
      "'PLAN'\n"
     ]
    },
    {
     "name": "stderr",
     "output_type": "stream",
     "text": [
      "sleep 3 seconds and retrying https://data.alpaca.markets/v1/bars/day 3 more time(s)...\n"
     ]
    },
    {
     "name": "stdout",
     "output_type": "stream",
     "text": [
      "'PLRX'\n",
      "'PLUG'\n",
      "'PLYA'\n",
      "'PMCB'\n",
      "'PBHC'\n",
      "'PBT'\n",
      "'PBYI'\n",
      "'PCH'\n",
      "'PCOR'\n",
      "'PCSB'\n",
      "'PDD'\n",
      "'PDLB'\n"
     ]
    },
    {
     "name": "stderr",
     "output_type": "stream",
     "text": [
      "sleep 3 seconds and retrying https://data.alpaca.markets/v1/bars/day 3 more time(s)...\n"
     ]
    },
    {
     "name": "stdout",
     "output_type": "stream",
     "text": [
      "'PDP'\n",
      "'PEI'\n",
      "'PEP'\n",
      "'PETV'\n",
      "'PFBC'\n",
      "'PFE'\n",
      "'PFI'\n",
      "'PFL'\n",
      "'PFO'\n",
      "'PFX'\n",
      "'PGEN'\n",
      "'PGP'\n",
      "'PHO'\n",
      "'PICC'\n",
      "'PII'\n"
     ]
    },
    {
     "name": "stderr",
     "output_type": "stream",
     "text": [
      "sleep 3 seconds and retrying https://data.alpaca.markets/v1/bars/day 3 more time(s)...\n"
     ]
    },
    {
     "name": "stdout",
     "output_type": "stream",
     "text": [
      "'PING'\n",
      "'PIRS'\n",
      "'PKG'\n",
      "'PLD'\n",
      "'PLMI'\n",
      "'PLTR'\n",
      "'PLXS'\n",
      "'PMBC'\n",
      "'PMGMU'\n",
      "'PCF'\n",
      "'PCN'\n",
      "'PCRX'\n",
      "'PCTY'\n",
      "'PDCE'\n",
      "'PDFS'\n"
     ]
    },
    {
     "name": "stderr",
     "output_type": "stream",
     "text": [
      "sleep 3 seconds and retrying https://data.alpaca.markets/v1/bars/day 3 more time(s)...\n"
     ]
    },
    {
     "name": "stdout",
     "output_type": "stream",
     "text": [
      "'PDOT'\n",
      "'PEAK'\n",
      "'PEG'\n",
      "'PENN'\n",
      "'PETQ'\n",
      "'PEY'\n",
      "'PFDR'\n",
      "'PFH'\n",
      "'PFIS'\n",
      "'PFMT'\n",
      "'PFTAU'\n",
      "'PGRWU'\n",
      "'PHAS'\n"
     ]
    },
    {
     "name": "stderr",
     "output_type": "stream",
     "text": [
      "sleep 3 seconds and retrying https://data.alpaca.markets/v1/bars/day 3 more time(s)...\n"
     ]
    },
    {
     "name": "stdout",
     "output_type": "stream",
     "text": [
      "'PHG'\n",
      "'PHK'\n",
      "'PHVS'\n",
      "'PIAI.U'\n",
      "'PIE'\n",
      "'PINC'\n",
      "'PIPP.U'\n",
      "'PKBK'\n",
      "'PKW'\n",
      "'PLBC'\n",
      "'PLL'\n",
      "'PLOW'\n",
      "'PMF'\n",
      "'PMT'\n"
     ]
    },
    {
     "name": "stderr",
     "output_type": "stream",
     "text": [
      "sleep 3 seconds and retrying https://data.alpaca.markets/v1/bars/day 3 more time(s)...\n"
     ]
    },
    {
     "name": "stdout",
     "output_type": "stream",
     "text": [
      "'PNBK'\n",
      "'PHAT'\n",
      "'PHM'\n",
      "'PHX'\n",
      "'PINE'\n",
      "'PIPR'\n",
      "'PJT'\n",
      "'PKE'\n",
      "'PLAB'\n",
      "'PLCE'\n",
      "'PLPC'\n",
      "'PLXP'\n",
      "'PMGM'\n",
      "'PMTS'\n",
      "'PNC'\n",
      "'PNNT'\n",
      "'POAI'\n",
      "'POND.U'\n",
      "'POTX'\n",
      "'POWWP'\n",
      "'PPG'\n",
      "'PPIH'\n",
      "'PRA'\n",
      "'PRGS'\n",
      "'PRLB'\n",
      "'PROF'\n",
      "'PRPC.U'\n",
      "'PRSR'\n",
      "'PRTH'\n",
      "'PRVA'\n",
      "'PSCC'\n",
      "'PSEC'\n",
      "'PLMR'\n",
      "'PLSE'\n",
      "'PLUS'\n",
      "'PLYM'\n"
     ]
    },
    {
     "name": "stderr",
     "output_type": "stream",
     "text": [
      "sleep 3 seconds and retrying https://data.alpaca.markets/v1/bars/day 3 more time(s)...\n"
     ]
    },
    {
     "name": "stdout",
     "output_type": "stream",
     "text": [
      "'PMD'\n",
      "'PMM'\n",
      "'PMVP'\n",
      "'PNFPP'\n",
      "'PNQI'\n",
      "'PNTM'\n",
      "'POLA'\n",
      "'POR'\n",
      "'POWL'\n",
      "'PPBT'\n",
      "'PPH'\n",
      "'PPSI'\n",
      "'PRCH'\n",
      "'PRFZ'\n",
      "'PRIM'\n",
      "'PRN'\n",
      "'PRPB'\n",
      "'PRPO'\n",
      "'PRTA'\n"
     ]
    },
    {
     "name": "stderr",
     "output_type": "stream",
     "text": [
      "sleep 3 seconds and retrying https://data.alpaca.markets/v1/bars/day 3 more time(s)...\n"
     ]
    },
    {
     "name": "stdout",
     "output_type": "stream",
     "text": [
      "'PRTS'\n",
      "'PSAGU'\n",
      "'PSCF'\n",
      "'PSCU'\n",
      "'PSF'\n",
      "'PSHG'\n",
      "'PSPC'\n",
      "'PSTH'\n",
      "'PSXP'\n",
      "'PTCT'\n",
      "'PTH'\n",
      "'PTNR'\n"
     ]
    },
    {
     "name": "stderr",
     "output_type": "stream",
     "text": [
      "sleep 3 seconds and retrying https://data.alpaca.markets/v1/bars/day 3 more time(s)...\n"
     ]
    },
    {
     "name": "stdout",
     "output_type": "stream",
     "text": [
      "'PTRA'\n",
      "'PUCK'\n",
      "'PLTK'\n",
      "'PLW'\n",
      "'PM'\n",
      "'PME'\n",
      "'PMO'\n",
      "'PMX'\n",
      "'PNI'\n",
      "'PNR'\n",
      "'PNTM.U'\n",
      "'POLY'\n",
      "'POSH'\n",
      "'POWRU'\n",
      "'PPC'\n",
      "'PPT'\n",
      "'PRCT'\n"
     ]
    },
    {
     "name": "stderr",
     "output_type": "stream",
     "text": [
      "sleep 3 seconds and retrying https://data.alpaca.markets/v1/bars/day 3 more time(s)...\n"
     ]
    },
    {
     "name": "stdout",
     "output_type": "stream",
     "text": [
      "'PRG'\n",
      "'PRPB.U'\n",
      "'PRQR'\n",
      "'PRTC'\n",
      "'PRTY'\n",
      "'PSB'\n",
      "'PSCH'\n",
      "'PSMT'\n",
      "'PSPC.U'\n",
      "'PSTI'\n",
      "'PTE'\n",
      "'PTIC'\n",
      "'PTOC'\n",
      "'PTRS'\n"
     ]
    },
    {
     "name": "stderr",
     "output_type": "stream",
     "text": [
      "sleep 3 seconds and retrying https://data.alpaca.markets/v1/bars/day 3 more time(s)...\n"
     ]
    },
    {
     "name": "stdout",
     "output_type": "stream",
     "text": [
      "'PUCKU'\n",
      "'PUMP'\n",
      "'PML'\n",
      "'PMVC.U'\n",
      "'PNFP'\n",
      "'PNTG'\n",
      "'PODD'\n",
      "'POOL'\n",
      "'POWI'\n",
      "'PPBI'\n",
      "'PPGHU'\n",
      "'PRAX'\n",
      "'PRFX'\n",
      "'PRMW'\n",
      "'PROV'\n",
      "'PRPL'\n",
      "'PRT'\n",
      "'PRTK'\n",
      "'PSAG'\n",
      "'PSCE'\n",
      "'PSCT'\n",
      "'PSET'\n"
     ]
    },
    {
     "name": "stderr",
     "output_type": "stream",
     "text": [
      "sleep 3 seconds and retrying https://data.alpaca.markets/v1/bars/day 3 more time(s)...\n"
     ]
    },
    {
     "name": "stdout",
     "output_type": "stream",
     "text": [
      "'PSTG'\n",
      "'PSX'\n",
      "'PTC'\n",
      "'PTGX'\n",
      "'PTR'\n",
      "'PUBM'\n",
      "'PULM'\n",
      "'PV.U'\n",
      "'PWOD'\n",
      "'PXD'\n",
      "'PXLW'\n"
     ]
    },
    {
     "name": "stderr",
     "output_type": "stream",
     "text": [
      "sleep 3 seconds and retrying https://data.alpaca.markets/v1/bars/day 3 more time(s)...\n"
     ]
    },
    {
     "name": "stdout",
     "output_type": "stream",
     "text": [
      "'PYCR'\n",
      "'PMVC'\n",
      "'PNF'\n",
      "'PNNTG'\n",
      "'PNT'\n",
      "'PONOU'\n",
      "'POW'\n",
      "'PPGH'\n",
      "'PPL'\n",
      "'PRAA'\n",
      "'PRI'\n",
      "'PRLD'\n",
      "'PROG'\n"
     ]
    },
    {
     "name": "stderr",
     "output_type": "stream",
     "text": [
      "sleep 3 seconds and retrying https://data.alpaca.markets/v1/bars/day 3 more time(s)...\n"
     ]
    },
    {
     "name": "stdout",
     "output_type": "stream",
     "text": [
      "'PRPH'\n",
      "'PRSRU'\n",
      "'PSA'\n",
      "'PSCD'\n",
      "'PSCM'\n",
      "'PSL'\n",
      "'PSO'\n",
      "'PSTX'\n",
      "'PTF'\n",
      "'PTIX'\n",
      "'PTPI'\n",
      "'PTY'\n",
      "'PV'\n",
      "'PVH'\n",
      "'PWFL'\n",
      "'PY'\n",
      "'PYS'\n"
     ]
    },
    {
     "name": "stderr",
     "output_type": "stream",
     "text": [
      "sleep 3 seconds and retrying https://data.alpaca.markets/v1/bars/day 3 more time(s)...\n"
     ]
    },
    {
     "name": "stdout",
     "output_type": "stream",
     "text": [
      "'PNM'\n",
      "'PNRG'\n",
      "'PNW'\n",
      "'POND'\n",
      "'POST'\n",
      "'POWW'\n",
      "'PPD'\n",
      "'PPHPU'\n",
      "'PPTA'\n",
      "'PRDO'\n",
      "'PRGO'\n",
      "'PRO'\n",
      "'PRPC'\n",
      "'PRS'\n",
      "'PRTG'\n",
      "'PRU'\n",
      "'PSC'\n"
     ]
    },
    {
     "name": "stderr",
     "output_type": "stream",
     "text": [
      "sleep 3 seconds and retrying https://data.alpaca.markets/v1/bars/day 3 more time(s)...\n"
     ]
    },
    {
     "name": "stdout",
     "output_type": "stream",
     "text": [
      "'PSCI'\n",
      "'PSFE'\n",
      "'PSN'\n",
      "'PSTL'\n",
      "'PT'\n",
      "'PTEN'\n",
      "'PTICU'\n",
      "'PTOCU'\n",
      "'PTSI'\n",
      "'PUI'\n",
      "'PVBC'\n",
      "'PWSC'\n",
      "'PXSAP'\n"
     ]
    },
    {
     "name": "stderr",
     "output_type": "stream",
     "text": [
      "sleep 3 seconds and retrying https://data.alpaca.markets/v1/bars/day 3 more time(s)...\n"
     ]
    },
    {
     "name": "stdout",
     "output_type": "stream",
     "text": [
      "'PYPL'\n",
      "'QADB'\n",
      "'PSNL'\n",
      "'PSTV'\n",
      "'PTA'\n",
      "'PTMN'\n",
      "'PTON'\n",
      "'PTVE'\n",
      "'PUK'\n",
      "'PUYI'\n",
      "'PXI'\n",
      "'PYR'\n",
      "'PZN'\n"
     ]
    },
    {
     "name": "stderr",
     "output_type": "stream",
     "text": [
      "sleep 3 seconds and retrying https://data.alpaca.markets/v1/bars/day 3 more time(s)...\n"
     ]
    },
    {
     "name": "stdout",
     "output_type": "stream",
     "text": [
      "'QCRH'\n",
      "'QFTA.U'\n",
      "'QIWI'\n",
      "'QMCO'\n",
      "'QQQJ'\n",
      "'QRTEA'\n",
      "'QTRX'\n",
      "'QUMU'\n",
      "'QVCD'\n",
      "'R'\n",
      "'RADA'\n",
      "'RAM'\n"
     ]
    },
    {
     "name": "stderr",
     "output_type": "stream",
     "text": [
      "sleep 3 seconds and retrying https://data.alpaca.markets/v1/bars/day 3 more time(s)...\n"
     ]
    },
    {
     "name": "stdout",
     "output_type": "stream",
     "text": [
      "'RARE'\n",
      "'RBA'\n",
      "'RBCAA'\n",
      "'RCB'\n",
      "'RCI'\n",
      "'RCLFU'\n",
      "'PVAC'\n",
      "'PVL'\n",
      "'PWP'\n",
      "'PYN'\n",
      "'PYZ'\n",
      "'QABA'\n",
      "'QCLR'\n",
      "'QDEL'\n",
      "'QNST'\n"
     ]
    },
    {
     "name": "stderr",
     "output_type": "stream",
     "text": [
      "sleep 3 seconds and retrying https://data.alpaca.markets/v1/bars/day 3 more time(s)...\n"
     ]
    },
    {
     "name": "stdout",
     "output_type": "stream",
     "text": [
      "'QQXT'\n",
      "'QRVO'\n",
      "'RAND'\n",
      "'RAVN'\n",
      "'RBB'\n",
      "'RBKB'\n",
      "'RC'\n",
      "'RCEL'\n",
      "'RCKY'\n",
      "'RCON'\n",
      "'RDN'\n",
      "'RDVY'\n",
      "'REG'\n",
      "'REKR'\n",
      "'REVEU'\n",
      "'REXR'\n",
      "'PXS'\n",
      "'PYPD'\n",
      "'QADA'\n",
      "'QCOM'\n",
      "'QFIN'\n",
      "'QLGN'\n",
      "'QLYS'\n"
     ]
    },
    {
     "name": "stderr",
     "output_type": "stream",
     "text": [
      "sleep 3 seconds and retrying https://data.alpaca.markets/v1/bars/day 3 more time(s)...\n"
     ]
    },
    {
     "name": "stdout",
     "output_type": "stream",
     "text": [
      "'QQQ'\n",
      "'QS'\n",
      "'QTNT'\n",
      "'QUBT'\n",
      "'RACB'\n",
      "'RAIL'\n",
      "'RANI'\n",
      "'RBBN'\n",
      "'RBLX'\n",
      "'RCA'\n",
      "'RCHG'\n",
      "'RCL'\n",
      "'RDFN'\n"
     ]
    },
    {
     "name": "stderr",
     "output_type": "stream",
     "text": [
      "sleep 3 seconds and retrying https://data.alpaca.markets/v1/bars/day 3 more time(s)...\n"
     ]
    },
    {
     "name": "stdout",
     "output_type": "stream",
     "text": [
      "'RDNT'\n",
      "'RDW'\n",
      "'REGI'\n",
      "'RELI'\n",
      "'REPH'\n",
      "'RESN'\n",
      "'REVH'\n",
      "'REYN'\n",
      "'RFL'\n",
      "'RGC'\n",
      "'RGP'\n"
     ]
    },
    {
     "name": "stderr",
     "output_type": "stream",
     "text": [
      "sleep 3 seconds and retrying https://data.alpaca.markets/v1/bars/day 3 more time(s)...\n"
     ]
    },
    {
     "name": "stdout",
     "output_type": "stream",
     "text": [
      "'PYT'\n",
      "'PZZA'\n",
      "'QH'\n",
      "'QQEW'\n",
      "'QQQX'\n",
      "'QRTEP'\n",
      "'QTEC'\n",
      "'QURE'\n",
      "'RAAS'\n",
      "'RAMP'\n",
      "'RBAC.U'\n",
      "'RCKT'\n",
      "'RCMT'\n",
      "'RDCM'\n",
      "'RDVT'\n",
      "'REAX'\n"
     ]
    },
    {
     "name": "stderr",
     "output_type": "stream",
     "text": [
      "sleep 3 seconds and retrying https://data.alpaca.markets/v1/bars/day 3 more time(s)...\n"
     ]
    },
    {
     "name": "stdout",
     "output_type": "stream",
     "text": [
      "'REFR'\n",
      "'REIT'\n",
      "'RES'\n",
      "'REV'\n",
      "'REX'\n",
      "'RFI'\n",
      "'RGLS'\n",
      "'RGT'\n",
      "'RIBT'\n",
      "'QK'\n",
      "'QQC'\n",
      "'QQQM'\n",
      "'QRTEB'\n",
      "'QTT'\n",
      "'QUOT'\n",
      "'RA'\n",
      "'RADI'\n",
      "'RAMMU'\n",
      "'RAVE'\n",
      "'RBAC'\n"
     ]
    },
    {
     "name": "stderr",
     "output_type": "stream",
     "text": [
      "sleep 3 seconds and retrying https://data.alpaca.markets/v1/bars/day 3 more time(s)...\n"
     ]
    },
    {
     "name": "stdout",
     "output_type": "stream",
     "text": [
      "'RBCN'\n",
      "'RCC'\n",
      "'RCII'\n",
      "'RCM'\n",
      "'RCUS'\n",
      "'RDIB'\n",
      "'RDS.B'\n",
      "'RE'\n",
      "'REED'\n",
      "'RERE'\n",
      "'RETO'\n",
      "'RF'\n",
      "'RFEU'\n",
      "'RGLD'\n"
     ]
    },
    {
     "name": "stderr",
     "output_type": "stream",
     "text": [
      "sleep 3 seconds and retrying https://data.alpaca.markets/v1/bars/day 3 more time(s)...\n"
     ]
    },
    {
     "name": "stdout",
     "output_type": "stream",
     "text": [
      "'RIG'\n",
      "'RILYK'\n",
      "'RILYT'\n",
      "'QFTA'\n",
      "'QIPT'\n",
      "'QLI'\n",
      "'QQQA'\n",
      "'QRMI'\n",
      "'QSR'\n",
      "'QVCC'\n",
      "'QYLD'\n",
      "'RAIN'\n"
     ]
    },
    {
     "name": "stderr",
     "output_type": "stream",
     "text": [
      "sleep 3 seconds and retrying https://data.alpaca.markets/v1/bars/day 3 more time(s)...\n"
     ]
    },
    {
     "name": "stdout",
     "output_type": "stream",
     "text": [
      "'RAPT'\n",
      "'RAYS'\n",
      "'RBC'\n",
      "'RBNC'\n",
      "'RCAT'\n",
      "'RCHGU'\n",
      "'RCLF'\n",
      "'RCRT'\n",
      "'RDHL'\n",
      "'RDWR'\n",
      "'REDU'\n",
      "'RELL'\n",
      "'REPL'\n",
      "'RETA'\n",
      "'REVHU'\n",
      "'RFDI'\n"
     ]
    },
    {
     "name": "stderr",
     "output_type": "stream",
     "text": [
      "sleep 3 seconds and retrying https://data.alpaca.markets/v1/bars/day 3 more time(s)...\n"
     ]
    },
    {
     "name": "stdout",
     "output_type": "stream",
     "text": [
      "'RFM'\n",
      "'RGEN'\n",
      "'RGR'\n",
      "'RHI'\n",
      "'RICOU'\n",
      "'RILY'\n",
      "'RILYO'\n",
      "'RIO'\n",
      "'RJF'\n",
      "'RKTA'\n",
      "'RCS'\n",
      "'RDI'\n",
      "'RDS.A'\n"
     ]
    },
    {
     "name": "stderr",
     "output_type": "stream",
     "text": [
      "sleep 3 seconds and retrying https://data.alpaca.markets/v1/bars/day 3 more time(s)...\n"
     ]
    },
    {
     "name": "stdout",
     "output_type": "stream",
     "text": [
      "'RDY'\n",
      "'REE'\n",
      "'REGN'\n",
      "'RELX'\n",
      "'REZI'\n",
      "'RFEM'\n",
      "'RFMZ'\n",
      "'RHP'\n",
      "'RIDE'\n",
      "'RILYI'\n",
      "'RILYP'\n",
      "'RIOT'\n",
      "'RKTA.U'\n",
      "'RLYB'\n",
      "'RMCF'\n",
      "'RMM'\n"
     ]
    },
    {
     "name": "stderr",
     "output_type": "stream",
     "text": [
      "sleep 3 seconds and retrying https://data.alpaca.markets/v1/bars/day 3 more time(s)...\n"
     ]
    },
    {
     "name": "stdout",
     "output_type": "stream",
     "text": [
      "'RMTI'\n",
      "'RNEM'\n",
      "'RNP'\n",
      "'RNWK'\n",
      "'ROCG'\n",
      "'ROKU'\n",
      "'RONI.U'\n",
      "'ROSS'\n",
      "'RPHM'\n",
      "'RRR'\n",
      "'RSKD'\n",
      "'RTPY'\n",
      "'RUSHB'\n",
      "'RFIL'\n",
      "'RGA'\n",
      "'RGNX'\n"
     ]
    },
    {
     "name": "stderr",
     "output_type": "stream",
     "text": [
      "sleep 3 seconds and retrying https://data.alpaca.markets/v1/bars/day 3 more time(s)...\n"
     ]
    },
    {
     "name": "stdout",
     "output_type": "stream",
     "text": [
      "'RH'\n",
      "'RICK'\n",
      "'RILYM'\n",
      "'RIVE'\n",
      "'RKLB'\n",
      "'RLMD'\n",
      "'RMBI'\n",
      "'RMGC'\n",
      "'RMR'\n",
      "'RNDB'\n",
      "'RNLC'\n"
     ]
    },
    {
     "name": "stderr",
     "output_type": "stream",
     "text": [
      "sleep 3 seconds and retrying https://data.alpaca.markets/v1/bars/day 3 more time(s)...\n"
     ]
    },
    {
     "name": "stdout",
     "output_type": "stream",
     "text": [
      "'RNSC'\n",
      "'ROCR'\n",
      "'ROIC'\n",
      "'ROP'\n",
      "'ROT.U'\n",
      "'RPAY'\n",
      "'RPRX'\n",
      "'RRC'\n",
      "'RSF'\n",
      "'RTH'\n",
      "'RUBY'\n",
      "'RVACU'\n",
      "'RXN'\n",
      "'RY'\n"
     ]
    },
    {
     "name": "stderr",
     "output_type": "stream",
     "text": [
      "sleep 3 seconds and retrying https://data.alpaca.markets/v1/bars/day 3 more time(s)...\n"
     ]
    },
    {
     "name": "stdout",
     "output_type": "stream",
     "text": [
      "'SAIA'\n",
      "'SAM'\n",
      "'SANW'\n",
      "'RICO'\n",
      "'RILYN'\n",
      "'RING'\n",
      "'RKLY'\n",
      "'RLX'\n",
      "'RMBL'\n",
      "'RMGCU'\n",
      "'RMRM'\n",
      "'RNDM'\n",
      "'RNLX'\n",
      "'RNST'\n",
      "'ROCRU'\n",
      "'ROK'\n",
      "'RPD'\n",
      "'RPT'\n",
      "'RRD'\n",
      "'RSG'\n",
      "'RSSS'\n",
      "'RTLR'\n",
      "'RUN'\n"
     ]
    },
    {
     "name": "stderr",
     "output_type": "stream",
     "text": [
      "sleep 3 seconds and retrying https://data.alpaca.markets/v1/bars/day 3 more time(s)...\n"
     ]
    },
    {
     "name": "stdout",
     "output_type": "stream",
     "text": [
      "'RVI'\n",
      "'RVPH'\n",
      "'RXRA'\n",
      "'RYAAY'\n",
      "'RYTM'\n",
      "'S'\n",
      "'SAIC'\n",
      "'SAMG'\n",
      "'SAP'\n",
      "'SBAC'\n",
      "'SBEAU'\n",
      "'SBII'\n",
      "'RIGL'\n"
     ]
    },
    {
     "name": "stderr",
     "output_type": "stream",
     "text": [
      "sleep 3 seconds and retrying https://data.alpaca.markets/v1/bars/day 3 more time(s)...\n"
     ]
    },
    {
     "name": "stdout",
     "output_type": "stream",
     "text": [
      "'RILYL'\n",
      "'RILYZ'\n",
      "'RIV'\n",
      "'RKDA'\n",
      "'RMAX'\n",
      "'RMO'\n",
      "'RNAZ'\n",
      "'RNGR'\n",
      "'RNRG'\n",
      "'ROAD'\n",
      "'ROCK'\n"
     ]
    },
    {
     "name": "stderr",
     "output_type": "stream",
     "text": [
      "sleep 3 seconds and retrying https://data.alpaca.markets/v1/bars/day 3 more time(s)...\n"
     ]
    },
    {
     "name": "stdout",
     "output_type": "stream",
     "text": [
      "'ROG'\n",
      "'ROLL'\n",
      "'ROOT'\n",
      "'ROT'\n",
      "'RPM'\n",
      "'RRBI'\n",
      "'RS'\n",
      "'RTX'\n",
      "'RUTH'\n",
      "'RWT'\n",
      "'RXT'\n",
      "'RYN'\n",
      "'RZLT'\n",
      "'SABRP'\n",
      "'SAH'\n",
      "'SALM'\n"
     ]
    },
    {
     "name": "stderr",
     "output_type": "stream",
     "text": [
      "sleep 3 seconds and retrying https://data.alpaca.markets/v1/bars/day 3 more time(s)...\n"
     ]
    },
    {
     "name": "stdout",
     "output_type": "stream",
     "text": [
      "'SANM'\n",
      "'SAVE'\n",
      "'SBCF'\n",
      "'SBH'\n",
      "'SBSI'\n",
      "'SC'\n",
      "'RLAY'\n",
      "'RM'\n",
      "'RMD'\n",
      "'RMNI'\n",
      "'RNA'\n",
      "'RNG'\n",
      "'RNR'\n",
      "'RNXT'\n"
     ]
    },
    {
     "name": "stderr",
     "output_type": "stream",
     "text": [
      "sleep 3 seconds and retrying https://data.alpaca.markets/v1/bars/day 3 more time(s)...\n"
     ]
    },
    {
     "name": "stdout",
     "output_type": "stream",
     "text": [
      "'ROCGU'\n",
      "'ROL'\n",
      "'ROSS.U'\n",
      "'RPAI'\n",
      "'RPID'\n",
      "'RQI'\n",
      "'RSLS'\n",
      "'RTPYU'\n",
      "'RVNC'\n",
      "'RXST'\n",
      "'RYB'\n",
      "'RZB'\n",
      "'SABR'\n",
      "'SAGE'\n",
      "'SAL'\n"
     ]
    },
    {
     "name": "stderr",
     "output_type": "stream",
     "text": [
      "sleep 3 seconds and retrying https://data.alpaca.markets/v1/bars/day 3 more time(s)...\n"
     ]
    },
    {
     "name": "stdout",
     "output_type": "stream",
     "text": [
      "'SAND'\n",
      "'SAVA'\n",
      "'SBBP'\n",
      "'SBGI'\n",
      "'SBLK'\n",
      "'SBS'\n",
      "'SBUX'\n",
      "'RMBS'\n",
      "'RMI'\n",
      "'RMT'\n",
      "'RNDV'\n",
      "'RNMC'\n",
      "'RNW'\n",
      "'ROBT'\n",
      "'RONI'\n"
     ]
    },
    {
     "name": "stderr",
     "output_type": "stream",
     "text": [
      "sleep 3 seconds and retrying https://data.alpaca.markets/v1/bars/day 3 more time(s)...\n"
     ]
    },
    {
     "name": "stdout",
     "output_type": "stream",
     "text": [
      "'ROVR'\n",
      "'RPTX'\n",
      "'RRGB'\n",
      "'RSI'\n",
      "'RSVR'\n",
      "'RUSHA'\n",
      "'RVLV'\n",
      "'RVSB'\n",
      "'RWLK'\n",
      "'RXRAU'\n",
      "'RYAM'\n",
      "'RYI'\n"
     ]
    },
    {
     "name": "stderr",
     "output_type": "stream",
     "text": [
      "sleep 3 seconds and retrying https://data.alpaca.markets/v1/bars/day 3 more time(s)...\n"
     ]
    },
    {
     "name": "stdout",
     "output_type": "stream",
     "text": [
      "'SA'\n",
      "'SAFE'\n",
      "'SAIL'\n",
      "'SAN'\n",
      "'SAR'\n",
      "'SBET'\n",
      "'SBII.U'\n",
      "'SBOW'\n",
      "'SBTX'\n",
      "'RVMD'\n",
      "'RVT'\n",
      "'RXDX'\n",
      "'RXRX'\n",
      "'RYAN'\n"
     ]
    },
    {
     "name": "stderr",
     "output_type": "stream",
     "text": [
      "sleep 3 seconds and retrying https://data.alpaca.markets/v1/bars/day 3 more time(s)...\n"
     ]
    },
    {
     "name": "stdout",
     "output_type": "stream",
     "text": [
      "'RZA'\n",
      "'SAFM'\n",
      "'SAK'\n",
      "'SANA'\n",
      "'SASR'\n",
      "'SBBA'\n",
      "'SBFG'\n",
      "'SBRA'\n",
      "'SCHN'\n",
      "'SCHW'\n",
      "'SCL'\n",
      "'SCOAU'\n",
      "'SCPL'\n",
      "'SCU'\n",
      "'SCYX'\n",
      "'SDVY'\n",
      "'SEAS'\n",
      "'SEED'\n",
      "'PHI'\n",
      "'SENEB'\n",
      "'SF'\n",
      "'SFT'\n"
     ]
    },
    {
     "name": "stderr",
     "output_type": "stream",
     "text": [
      "sleep 3 seconds and retrying https://data.alpaca.markets/v1/bars/day 3 more time(s)...\n"
     ]
    },
    {
     "name": "stdout",
     "output_type": "stream",
     "text": [
      "'SGA'\n",
      "'SGLB'\n",
      "'SBEA'\n",
      "'SBI'\n",
      "'SBNY'\n",
      "'SBSW'\n",
      "'SCAQ'\n",
      "'SCD'\n",
      "'SCI'\n",
      "'SCM'\n",
      "'SCVX.U'\n",
      "'SDAC'\n",
      "'SDHY'\n"
     ]
    },
    {
     "name": "stderr",
     "output_type": "stream",
     "text": [
      "sleep 3 seconds and retrying https://data.alpaca.markets/v1/bars/day 3 more time(s)...\n"
     ]
    },
    {
     "name": "stdout",
     "output_type": "stream",
     "text": [
      "'SEAC'\n",
      "'SEM'\n",
      "'SFE'\n",
      "'SFM'\n",
      "'SGBX'\n",
      "'SGMO'\n",
      "'SGRY'\n",
      "'SHLX'\n",
      "'SHOP'\n",
      "'SHY'\n",
      "'SIC'\n",
      "'SIG'\n",
      "'SIOX'\n",
      "'SIVBP'\n",
      "'SBNYP'\n"
     ]
    },
    {
     "name": "stderr",
     "output_type": "stream",
     "text": [
      "sleep 3 seconds and retrying https://data.alpaca.markets/v1/bars/day 3 more time(s)...\n"
     ]
    },
    {
     "name": "stdout",
     "output_type": "stream",
     "text": [
      "'SBT'\n",
      "'SCAQU'\n",
      "'SCHL'\n",
      "'SCOR'\n",
      "'SCS'\n",
      "'SCWX'\n",
      "'SDACU'\n",
      "'SEAH'\n",
      "'SEDG'\n",
      "'SEIC'\n",
      "'SEMR'\n",
      "'SERA'\n",
      "'SFET'\n",
      "'SFNC'\n"
     ]
    },
    {
     "name": "stderr",
     "output_type": "stream",
     "text": [
      "sleep 3 seconds and retrying https://data.alpaca.markets/v1/bars/day 3 more time(s)...\n"
     ]
    },
    {
     "name": "stdout",
     "output_type": "stream",
     "text": [
      "'SGC'\n",
      "'SGH'\n",
      "'SGMS'\n",
      "'SGTX'\n",
      "'SHBI'\n",
      "'SHI'\n",
      "'SHQA'\n",
      "'SHYF'\n",
      "'SID'\n",
      "'SIGA'\n",
      "'SILC'\n",
      "'SIMO'\n"
     ]
    },
    {
     "name": "stderr",
     "output_type": "stream",
     "text": [
      "sleep 3 seconds and retrying https://data.alpaca.markets/v1/bars/day 3 more time(s)...\n"
     ]
    },
    {
     "name": "stdout",
     "output_type": "stream",
     "text": [
      "'SITC'\n",
      "'SJM'\n",
      "'SKIL'\n",
      "'SKX'\n",
      "'SCCO'\n",
      "'SCLEU'\n",
      "'SCOBU'\n",
      "'SCR'\n",
      "'SCVX'\n",
      "'SD'\n",
      "'SDH'\n",
      "'SE'\n",
      "'SECO'\n",
      "'SEER'\n",
      "'SELF'\n",
      "'SFBS'\n",
      "'SFL'\n",
      "'SFUN'\n",
      "'SGAMU'\n",
      "'SGFY'\n",
      "'SGML'\n"
     ]
    },
    {
     "name": "stderr",
     "output_type": "stream",
     "text": [
      "sleep 3 seconds and retrying https://data.alpaca.markets/v1/bars/day 3 more time(s)...\n"
     ]
    },
    {
     "name": "stdout",
     "output_type": "stream",
     "text": [
      "'SGRP'\n",
      "'SHACU'\n",
      "'SHEN'\n",
      "'SHLS'\n",
      "'SHOO'\n",
      "'SHW'\n",
      "'SIBN'\n",
      "'SIFY'\n",
      "'SIVB'\n",
      "'SJIJ'\n"
     ]
    },
    {
     "name": "stderr",
     "output_type": "stream",
     "text": [
      "sleep 3 seconds and retrying https://data.alpaca.markets/v1/bars/day 3 more time(s)...\n"
     ]
    },
    {
     "name": "stdout",
     "output_type": "stream",
     "text": [
      "'SJW'\n",
      "'SKOR'\n",
      "'SKYT'\n",
      "'SLAC.U'\n",
      "'SLCRU'\n",
      "'SCLE'\n",
      "'SCOB'\n",
      "'SCPS'\n",
      "'SCVL'\n",
      "'SCZ'\n",
      "'SDGR'\n",
      "'SEEL'\n",
      "'SELB'\n",
      "'SFBC'\n",
      "'SFIX'\n",
      "'SGAM'\n"
     ]
    },
    {
     "name": "stderr",
     "output_type": "stream",
     "text": [
      "sleep 3 seconds and retrying https://data.alpaca.markets/v1/bars/day 3 more time(s)...\n"
     ]
    },
    {
     "name": "stdout",
     "output_type": "stream",
     "text": [
      "'SGEN'\n",
      "'SGMA'\n",
      "'SHAC'\n",
      "'SHV'\n",
      "'SII'\n",
      "'SINT'\n",
      "'SJI'\n",
      "'SJT'\n",
      "'SKM'\n",
      "'SKYAU'\n",
      "'SLAC'\n",
      "'SLCR'\n",
      "'SLGC'\n",
      "'SLM'\n"
     ]
    },
    {
     "name": "stderr",
     "output_type": "stream",
     "text": [
      "sleep 3 seconds and retrying https://data.alpaca.markets/v1/bars/day 3 more time(s)...\n"
     ]
    },
    {
     "name": "stdout",
     "output_type": "stream",
     "text": [
      "'SCKT'\n",
      "'SCOA'\n",
      "'SCPH'\n",
      "'SCSC'\n",
      "'SCX'\n",
      "'SDC'\n",
      "'SDG'\n",
      "'SEAH.U'\n",
      "'SEE'\n",
      "'SENEA'\n",
      "'SESN'\n",
      "'SFST'\n",
      "'SGHT'\n",
      "'SGOC'\n",
      "'SGU'\n",
      "'SHC'\n",
      "'SHIP'\n",
      "'SHO'\n",
      "'SHQAU'\n",
      "'SIEB'\n",
      "'SIGI'\n",
      "'SITE'\n",
      "'SIX'\n"
     ]
    },
    {
     "name": "stderr",
     "output_type": "stream",
     "text": [
      "sleep 3 seconds and retrying https://data.alpaca.markets/v1/bars/day 3 more time(s)...\n"
     ]
    },
    {
     "name": "stdout",
     "output_type": "stream",
     "text": [
      "'SJ'\n",
      "'SKIN'\n",
      "'SKY'\n",
      "'SKYY'\n",
      "'SLB'\n",
      "'SLF'\n",
      "'SLHG'\n",
      "'SLNO'\n",
      "'SHCR'\n",
      "'SHLD'\n",
      "'SI'\n"
     ]
    },
    {
     "name": "stderr",
     "output_type": "stream",
     "text": [
      "sleep 3 seconds and retrying https://data.alpaca.markets/v1/bars/day 3 more time(s)...\n"
     ]
    },
    {
     "name": "stdout",
     "output_type": "stream",
     "text": [
      "'SIEN'\n",
      "'SIGIP'\n",
      "'SILK'\n",
      "'SINO'\n",
      "'SITM'\n",
      "'SJR'\n",
      "'SKLZ'\n",
      "'SKYA'\n",
      "'SLAB'\n",
      "'SLCA'\n",
      "'SLG'\n",
      "'SLP'\n",
      "'SMCI'\n",
      "'SMFG'\n",
      "'SMMF'\n"
     ]
    },
    {
     "name": "stderr",
     "output_type": "stream",
     "text": [
      "sleep 3 seconds and retrying https://data.alpaca.markets/v1/bars/day 3 more time(s)...\n"
     ]
    },
    {
     "name": "stdout",
     "output_type": "stream",
     "text": [
      "'SMP'\n",
      "'SNCR'\n",
      "'SNEX'\n",
      "'SNPO'\n",
      "'SNRHU'\n",
      "'SNX'\n",
      "'SOHOO'\n",
      "'SOJE'\n",
      "'SONN'\n",
      "'SOTK'\n",
      "'SJIV'\n",
      "'SKT'\n",
      "'SKYU'\n",
      "'SLAM'\n"
     ]
    },
    {
     "name": "stderr",
     "output_type": "stream",
     "text": [
      "sleep 3 seconds and retrying https://data.alpaca.markets/v1/bars/day 3 more time(s)...\n"
     ]
    },
    {
     "name": "stdout",
     "output_type": "stream",
     "text": [
      "'SLCT'\n",
      "'SLGL'\n",
      "'SLN'\n",
      "'SLRX'\n",
      "'SLVRU'\n",
      "'SMH'\n",
      "'SMIHU'\n",
      "'SMSI'\n",
      "'SNAP'\n",
      "'SNDR'\n",
      "'SNII'\n",
      "'SNOA'\n",
      "'SNPX'\n",
      "'SNTG'\n",
      "'SOHO'\n",
      "'SOJB'\n",
      "'SOLO'\n",
      "'SOPH'\n",
      "'SOXX'\n",
      "'SPAQ.U'\n",
      "'SPCE'\n"
     ]
    },
    {
     "name": "stderr",
     "output_type": "stream",
     "text": [
      "sleep 3 seconds and retrying https://data.alpaca.markets/v1/bars/day 3 more time(s)...\n"
     ]
    },
    {
     "name": "stdout",
     "output_type": "stream",
     "text": [
      "'SPKAR'\n",
      "'SPLP'\n",
      "'SPNE'\n",
      "'SPRX'\n",
      "'SPTK'\n",
      "'SPWR'\n",
      "'SKYW'\n",
      "'SLAMU'\n",
      "'SLDB'\n",
      "'SLGN'\n",
      "'SLNG'\n",
      "'SLS'\n",
      "'SMBC'\n"
     ]
    },
    {
     "name": "stderr",
     "output_type": "stream",
     "text": [
      "sleep 3 seconds and retrying https://data.alpaca.markets/v1/bars/day 3 more time(s)...\n"
     ]
    },
    {
     "name": "stdout",
     "output_type": "stream",
     "text": [
      "'SMM'\n",
      "'SMTC'\n",
      "'SNAX'\n",
      "'SNDX'\n",
      "'SNII.U'\n",
      "'SNP'\n",
      "'SNR'\n",
      "'SNUG'\n",
      "'SOCL'\n",
      "'SOHOB'\n",
      "'SOJC'\n",
      "'SOLY'\n",
      "'SOR'\n",
      "'SPKAU'\n",
      "'SPNS'\n"
     ]
    },
    {
     "name": "stderr",
     "output_type": "stream",
     "text": [
      "sleep 3 seconds and retrying https://data.alpaca.markets/v1/bars/day 3 more time(s)...\n"
     ]
    },
    {
     "name": "stdout",
     "output_type": "stream",
     "text": [
      "'SPQQ'\n",
      "'SPSC'\n",
      "'SPTKU'\n",
      "'SQFTP'\n",
      "'SRAX'\n",
      "'SLGG'\n",
      "'SLMBP'\n",
      "'SLQT'\n",
      "'SMAR'\n",
      "'SMG'\n",
      "'SMIH'\n"
     ]
    },
    {
     "name": "stderr",
     "output_type": "stream",
     "text": [
      "sleep 3 seconds and retrying https://data.alpaca.markets/v1/bars/day 3 more time(s)...\n"
     ]
    },
    {
     "name": "stdout",
     "output_type": "stream",
     "text": [
      "'SMLP'\n",
      "'SMRT'\n",
      "'SNA'\n",
      "'SNCY'\n",
      "'SNGX'\n",
      "'SNPS'\n",
      "'SNSR'\n",
      "'SO'\n",
      "'SOI'\n",
      "'SOLN'\n",
      "'SONY'\n",
      "'SPAQ'\n",
      "'SPCB'\n",
      "'SPE'\n",
      "'SPK'\n",
      "'SPLK'\n"
     ]
    },
    {
     "name": "stderr",
     "output_type": "stream",
     "text": [
      "sleep 3 seconds and retrying https://data.alpaca.markets/v1/bars/day 3 more time(s)...\n"
     ]
    },
    {
     "name": "stdout",
     "output_type": "stream",
     "text": [
      "'SPPI'\n",
      "'SPRO'\n",
      "'SPWH'\n",
      "'SQSP'\n",
      "'SRDX'\n",
      "'SRI'\n",
      "'SRRA'\n",
      "'SLQD'\n",
      "'SLVO'\n",
      "'SMCP'\n",
      "'SMFR'\n",
      "'SMMT'\n",
      "'SMPL'\n",
      "'SMWB'\n",
      "'SNCRL'\n",
      "'SNFCA'\n",
      "'SNN'\n",
      "'AAOI'\n",
      "'SNSE'\n"
     ]
    },
    {
     "name": "stderr",
     "output_type": "stream",
     "text": [
      "sleep 3 seconds and retrying https://data.alpaca.markets/v1/bars/day 3 more time(s)...\n"
     ]
    },
    {
     "name": "stdout",
     "output_type": "stream",
     "text": [
      "'SNY'\n",
      "'SOGO'\n",
      "'SOHU'\n",
      "'SOL'\n",
      "'SONO'\n",
      "'SPG'\n",
      "'SPIR'\n",
      "'SPOT'\n",
      "'SPT'\n",
      "'SPTN'\n",
      "'SQ'\n",
      "'SQQQ'\n",
      "'SRCL'\n",
      "'SRGA'\n"
     ]
    },
    {
     "name": "stderr",
     "output_type": "stream",
     "text": [
      "sleep 3 seconds and retrying https://data.alpaca.markets/v1/bars/day 3 more time(s)...\n"
     ]
    },
    {
     "name": "stdout",
     "output_type": "stream",
     "text": [
      "'SRPT'\n",
      "'SRT'\n",
      "'SSAA'\n",
      "'SMBK'\n",
      "'SMED'\n",
      "'SMHI'\n",
      "'SMIT'\n",
      "'SMTI'\n",
      "'SNBR'\n",
      "'SNES'\n",
      "'SNLN'\n",
      "'SNRH'\n",
      "'SNV'\n",
      "'SOFI'\n",
      "'SOHON'\n"
     ]
    },
    {
     "name": "stderr",
     "output_type": "stream",
     "text": [
      "sleep 3 seconds and retrying https://data.alpaca.markets/v1/bars/day 3 more time(s)...\n"
     ]
    },
    {
     "name": "stdout",
     "output_type": "stream",
     "text": [
      "'SOJD'\n",
      "'SON'\n",
      "'SOS'\n",
      "'SP'\n",
      "'SPB'\n",
      "'SPFI'\n",
      "'SPGS'\n",
      "'SPKB'\n",
      "'SPNT'\n",
      "'SPR'\n",
      "'SPXX'\n"
     ]
    },
    {
     "name": "stderr",
     "output_type": "stream",
     "text": [
      "sleep 3 seconds and retrying https://data.alpaca.markets/v1/bars/day 3 more time(s)...\n"
     ]
    },
    {
     "name": "stdout",
     "output_type": "stream",
     "text": [
      "'SQL'\n",
      "'SRC'\n",
      "'SREV'\n",
      "'SRLP'\n",
      "'SRSA'\n",
      "'SSD'\n",
      "'SSTI'\n",
      "'SPBC'\n",
      "'SPFR'\n",
      "'SPGS.U'\n",
      "'SPI'\n",
      "'SPKBU'\n",
      "'SPOK'\n",
      "'SPRB'\n",
      "'SQLV'\n",
      "'SRCE'\n",
      "'SRG'\n",
      "'SRNE'\n",
      "'SRSAU'\n",
      "'SRZN'\n",
      "'SSKN'\n",
      "'SSP'\n",
      "'SSTK'\n",
      "'STAB'\n"
     ]
    },
    {
     "name": "stderr",
     "output_type": "stream",
     "text": [
      "sleep 3 seconds and retrying https://data.alpaca.markets/v1/bars/day 3 more time(s)...\n"
     ]
    },
    {
     "name": "stdout",
     "output_type": "stream",
     "text": [
      "'STC'\n",
      "'STGW'\n",
      "'STN'\n",
      "'STOR'\n",
      "'STRE'\n",
      "'STRRP'\n",
      "'STVN'\n",
      "'STZ.B'\n",
      "'SUM'\n",
      "'SUSB'\n",
      "'SVBI'\n",
      "'SVFD'\n"
     ]
    },
    {
     "name": "stderr",
     "output_type": "stream",
     "text": [
      "sleep 3 seconds and retrying https://data.alpaca.markets/v1/bars/day 3 more time(s)...\n"
     ]
    },
    {
     "name": "stdout",
     "output_type": "stream",
     "text": [
      "'SVSVU'\n",
      "'SWAV'\n",
      "'SWETU'\n",
      "'SQFT'\n",
      "'SREA'\n",
      "'SRL'\n",
      "'SRRK'\n",
      "'SSB'\n",
      "'SSNC'\n",
      "'SSRM'\n",
      "'SSYS'\n",
      "'STAR'\n",
      "'STEP'\n"
     ]
    },
    {
     "name": "stderr",
     "output_type": "stream",
     "text": [
      "sleep 3 seconds and retrying https://data.alpaca.markets/v1/bars/day 3 more time(s)...\n"
     ]
    },
    {
     "name": "stdout",
     "output_type": "stream",
     "text": [
      "'STK'\n",
      "'STNG'\n",
      "'STPC.U'\n",
      "'STRM'\n",
      "'STSA'\n",
      "'STWOU'\n",
      "'SUNL'\n",
      "'SUPV'\n",
      "'SUZ'\n",
      "'SVFAU'\n",
      "'SVOKU'\n",
      "'SWBK.U'\n",
      "'SWIM'\n",
      "'SWN'\n",
      "'SXC'\n"
     ]
    },
    {
     "name": "stderr",
     "output_type": "stream",
     "text": [
      "sleep 3 seconds and retrying https://data.alpaca.markets/v1/bars/day 3 more time(s)...\n"
     ]
    },
    {
     "name": "stdout",
     "output_type": "stream",
     "text": [
      "'SYBT'\n",
      "'SYNA'\n",
      "'SYTA'\n",
      "'T'\n",
      "'TALS'\n",
      "'TAOP'\n",
      "'TASK'\n",
      "'TBBK'\n",
      "'TBNK'\n",
      "'SRET'\n",
      "'SRV'\n",
      "'SSBK'\n",
      "'SSNT'\n",
      "'SSSS'\n",
      "'ST'\n",
      "'STBA'\n",
      "'STFC'\n"
     ]
    },
    {
     "name": "stderr",
     "output_type": "stream",
     "text": [
      "sleep 3 seconds and retrying https://data.alpaca.markets/v1/bars/day 3 more time(s)...\n"
     ]
    },
    {
     "name": "stdout",
     "output_type": "stream",
     "text": [
      "'STKL'\n",
      "'STM'\n",
      "'STOK'\n",
      "'STRO'\n",
      "'STT'\n",
      "'STX'\n",
      "'SUI'\n",
      "'SUNS'\n",
      "'SURF'\n",
      "'SV'\n",
      "'SVFB'\n",
      "'SWAGU'\n",
      "'SWCH'\n"
     ]
    },
    {
     "name": "stderr",
     "output_type": "stream",
     "text": [
      "sleep 3 seconds and retrying https://data.alpaca.markets/v1/bars/day 3 more time(s)...\n"
     ]
    },
    {
     "name": "stdout",
     "output_type": "stream",
     "text": [
      "'SWIR'\n",
      "'SWSSU'\n",
      "'SXI'\n",
      "'SYBX'\n",
      "'TACO'\n",
      "'TAIT'\n",
      "'TAP'\n",
      "'TAST'\n",
      "'TBC'\n",
      "'TBK'\n",
      "'TBPH'\n",
      "'TCAC'\n",
      "'TCBS'\n",
      "'TCMD'\n"
     ]
    },
    {
     "name": "stderr",
     "output_type": "stream",
     "text": [
      "sleep 3 seconds and retrying https://data.alpaca.markets/v1/bars/day 3 more time(s)...\n"
     ]
    },
    {
     "name": "stdout",
     "output_type": "stream",
     "text": [
      "'SRTS'\n",
      "'SSAAU'\n",
      "'STAG'\n",
      "'STEM'\n",
      "'STNE'\n",
      "'STPC'\n",
      "'STRL'\n",
      "'STRT'\n",
      "'STWO'\n",
      "'SUMR'\n",
      "'SUPN'\n"
     ]
    },
    {
     "name": "stderr",
     "output_type": "stream",
     "text": [
      "sleep 3 seconds and retrying https://data.alpaca.markets/v1/bars/day 3 more time(s)...\n"
     ]
    },
    {
     "name": "stdout",
     "output_type": "stream",
     "text": [
      "'SUSL'\n",
      "'SVFA'\n",
      "'SVOK'\n",
      "'SVVC'\n",
      "'SWBK'\n",
      "'SWI'\n",
      "'SWM'\n",
      "'SWZ'\n",
      "'SY'\n",
      "'SYRS'\n",
      "'TACA.U'\n",
      "'TALO'\n",
      "'TANNZ'\n",
      "'TARS'\n"
     ]
    },
    {
     "name": "stderr",
     "output_type": "stream",
     "text": [
      "sleep 3 seconds and retrying https://data.alpaca.markets/v1/bars/day 3 more time(s)...\n"
     ]
    },
    {
     "name": "stdout",
     "output_type": "stream",
     "text": [
      "'TBB'\n",
      "'TBI'\n",
      "'TBLT'\n",
      "'TCBIO'\n",
      "'TCRR'\n",
      "'TD'\n",
      "'TDG'\n",
      "'SSL'\n",
      "'STAF'\n",
      "'STCN'\n",
      "'STIM'\n",
      "'STLD'\n",
      "'STRE.U'\n",
      "'STRS'\n",
      "'STWD'\n",
      "'SU'\n",
      "'SUMO'\n",
      "'SUP'\n",
      "'SUSC'\n",
      "'SVC'\n",
      "'SWBI'\n",
      "'BFK'\n",
      "'SWKS'\n",
      "'SWX'\n"
     ]
    },
    {
     "name": "stderr",
     "output_type": "stream",
     "text": [
      "sleep 3 seconds and retrying https://data.alpaca.markets/v1/bars/day 3 more time(s)...\n"
     ]
    },
    {
     "name": "stdout",
     "output_type": "stream",
     "text": [
      "'SYPR'\n",
      "'TACA'\n",
      "'TALK'\n",
      "'TANNL'\n",
      "'TARO'\n",
      "'TAYD'\n",
      "'TBLD'\n",
      "'TCBI'\n",
      "'TCFC'\n",
      "'TCPC'\n",
      "'TCX'\n",
      "'TDF'\n",
      "'STAA'\n",
      "'STG'\n"
     ]
    },
    {
     "name": "stderr",
     "output_type": "stream",
     "text": [
      "sleep 3 seconds and retrying https://data.alpaca.markets/v1/bars/day 3 more time(s)...\n"
     ]
    },
    {
     "name": "stdout",
     "output_type": "stream",
     "text": [
      "'STKS'\n",
      "'STMP'\n",
      "'STON'\n",
      "'STRA'\n",
      "'STRR'\n",
      "'STTK'\n",
      "'STXB'\n",
      "'SUNW'\n",
      "'SVFC'\n",
      "'SVRA'\n",
      "'SWET'\n",
      "'SWK'\n",
      "'SWT'\n",
      "'SYF'\n"
     ]
    },
    {
     "name": "stderr",
     "output_type": "stream",
     "text": [
      "sleep 3 seconds and retrying https://data.alpaca.markets/v1/bars/day 3 more time(s)...\n"
     ]
    },
    {
     "name": "stdout",
     "output_type": "stream",
     "text": [
      "'SYNH'\n",
      "'SZC'\n",
      "'TACT'\n",
      "'TAK'\n",
      "'TANH'\n",
      "'TAP.A'\n",
      "'TATT'\n",
      "'TBCP'\n",
      "'TBKCP'\n",
      "'TBSA'\n",
      "'TCACU'\n"
     ]
    },
    {
     "name": "stderr",
     "output_type": "stream",
     "text": [
      "sleep 3 seconds and retrying https://data.alpaca.markets/v1/bars/day 3 more time(s)...\n"
     ]
    },
    {
     "name": "stdout",
     "output_type": "stream",
     "text": [
      "'TCOM'\n",
      "'TDACU'\n",
      "'TDS'\n",
      "'TEAM'\n",
      "'SWKH'\n",
      "'SWTX'\n",
      "'SXTC'\n",
      "'SYK'\n",
      "'SYNL'\n",
      "'TAC'\n",
      "'TAL'\n",
      "'TANNI'\n",
      "'TARA'\n",
      "'TBCPU'\n",
      "'TBLA'\n",
      "'TBSAU'\n",
      "'TCBC'\n"
     ]
    },
    {
     "name": "stderr",
     "output_type": "stream",
     "text": [
      "sleep 3 seconds and retrying https://data.alpaca.markets/v1/bars/day 3 more time(s)...\n"
     ]
    },
    {
     "name": "stdout",
     "output_type": "stream",
     "text": [
      "'TCDA'\n",
      "'TCON'\n",
      "'TCVA'\n",
      "'TDC'\n",
      "'TEDU'\n",
      "'TEL'\n",
      "'TENX'\n",
      "'TESS'\n",
      "'TFSA'\n",
      "'TGLS'\n",
      "'TGT'\n",
      "'THCP'\n"
     ]
    },
    {
     "name": "stderr",
     "output_type": "stream",
     "text": [
      "sleep 3 seconds and retrying https://data.alpaca.markets/v1/bars/day 3 more time(s)...\n"
     ]
    },
    {
     "name": "stdout",
     "output_type": "stream",
     "text": [
      "'THMA'\n",
      "'THR'\n",
      "'TIOA'\n",
      "'TISI'\n",
      "'TKR'\n",
      "'TLIS'\n",
      "'TMCI'\n",
      "'TC'\n",
      "'TCBK'\n",
      "'TCI'\n",
      "'TCRX'\n",
      "'TDA'\n",
      "'TDIV'\n",
      "'TDW'\n",
      "'TEI'\n",
      "'TEN'\n"
     ]
    },
    {
     "name": "stderr",
     "output_type": "stream",
     "text": [
      "sleep 3 seconds and retrying https://data.alpaca.markets/v1/bars/day 3 more time(s)...\n"
     ]
    },
    {
     "name": "stdout",
     "output_type": "stream",
     "text": [
      "'TER'\n",
      "'TG'\n",
      "'THC'\n",
      "'THS'\n",
      "'TIG'\n",
      "'TLGA.U'\n",
      "'TLSA'\n",
      "'TMAC.U'\n",
      "'TME'\n",
      "'TMPM'\n",
      "'TNET'\n",
      "'TOMZ'\n",
      "'TPGS'\n"
     ]
    },
    {
     "name": "stderr",
     "output_type": "stream",
     "text": [
      "sleep 3 seconds and retrying https://data.alpaca.markets/v1/bars/day 3 more time(s)...\n"
     ]
    },
    {
     "name": "stdout",
     "output_type": "stream",
     "text": [
      "'TPIC'\n",
      "'TR'\n",
      "'TRGP'\n",
      "'TRMB'\n",
      "'TROX'\n",
      "'TRTL.U'\n",
      "'TCS'\n",
      "'TDAC'\n",
      "'TDOC'\n",
      "'TEAF'\n",
      "'TEKK'\n",
      "'TENB'"
     ]
    },
    {
     "name": "stderr",
     "output_type": "stream",
     "text": [
      "sleep 3 seconds and retrying https://data.alpaca.markets/v1/bars/day 3 more time(s)...\n"
     ]
    },
    {
     "name": "stdout",
     "output_type": "stream",
     "text": [
      "\n",
      "'TEVA'\n",
      "'TGA'\n",
      "'TGI'\n",
      "'THCA'\n",
      "'THFF'\n",
      "'THO'\n",
      "'THTX'\n",
      "'TIGO'\n",
      "'TIMB'\n",
      "'TKC'\n",
      "'TLGT'\n",
      "'TLT'\n",
      "'TMPMU'\n",
      "'TNGX'\n",
      "'TNYA'\n",
      "'TOPS'\n",
      "'TPGY'\n",
      "'TPTA'\n",
      "'TRCA'\n",
      "'TRI'\n",
      "'TRMD'\n",
      "'TRNO'\n",
      "'TRP'\n",
      "'TRTN'\n",
      "'TRV'\n"
     ]
    },
    {
     "name": "stderr",
     "output_type": "stream",
     "text": [
      "sleep 3 seconds and retrying https://data.alpaca.markets/v1/bars/day 3 more time(s)...\n"
     ]
    },
    {
     "name": "stdout",
     "output_type": "stream",
     "text": [
      "'TSBK'\n",
      "'TSEM'\n",
      "'TSLA'\n",
      "'TECK'\n",
      "'TELL'\n",
      "'TETCU'\n",
      "'TFX'\n",
      "'TGP'\n",
      "'TH'\n",
      "'THMO'\n",
      "'THRY'\n",
      "'TILE'\n"
     ]
    },
    {
     "name": "stderr",
     "output_type": "stream",
     "text": [
      "sleep 3 seconds and retrying https://data.alpaca.markets/v1/bars/day 3 more time(s)...\n"
     ]
    },
    {
     "name": "stdout",
     "output_type": "stream",
     "text": [
      "'TIPT'\n",
      "'TJX'\n",
      "'TLGA'\n",
      "'TLS'\n",
      "'TMAC'\n",
      "'TMDX'\n",
      "'TMX'\n",
      "'TNT'\n",
      "'TPBAU'\n",
      "'TPR'\n",
      "'TQQQ'\n",
      "'TREE'\n"
     ]
    },
    {
     "name": "stderr",
     "output_type": "stream",
     "text": [
      "sleep 3 seconds and retrying https://data.alpaca.markets/v1/bars/day 3 more time(s)...\n"
     ]
    },
    {
     "name": "stdout",
     "output_type": "stream",
     "text": [
      "'TRIT'\n",
      "'TRN'\n",
      "'TROW'\n",
      "'TRTL'\n",
      "'TRUE'\n",
      "'TSCO'\n",
      "'TSIBU'\n",
      "'TSP'\n",
      "'TTEK'\n",
      "'TECH'\n",
      "'TEF'\n",
      "'TELA'\n",
      "'TEO'\n",
      "'TETC'\n"
     ]
    },
    {
     "name": "stderr",
     "output_type": "stream",
     "text": [
      "sleep 3 seconds and retrying https://data.alpaca.markets/v1/bars/day 3 more time(s)...\n"
     ]
    },
    {
     "name": "stdout",
     "output_type": "stream",
     "text": [
      "'TFII'\n",
      "'TFSL'\n",
      "'TGH'\n",
      "'TGNA'\n",
      "'TGTX'\n",
      "'THCPU'\n",
      "'THMAU'\n",
      "'THRM'\n",
      "'TIL'\n",
      "'TITN'\n",
      "'TLC'\n",
      "'TLK'\n",
      "'TLYS'\n",
      "'TMDI'\n",
      "'TMO'\n",
      "'TNP'\n",
      "'TOL'\n",
      "'TPB'\n"
     ]
    },
    {
     "name": "stderr",
     "output_type": "stream",
     "text": [
      "sleep 3 seconds and retrying https://data.alpaca.markets/v1/bars/day 3 more time(s)...\n"
     ]
    },
    {
     "name": "stdout",
     "output_type": "stream",
     "text": [
      "'TPX'\n",
      "'TREC'\n",
      "'TRIN'\n",
      "'TRMT'\n",
      "'TRONU'\n",
      "'TRU'\n",
      "'TRVN'\n",
      "'TSCBP'\n",
      "'TSIB'\n",
      "'TT'\n",
      "'TTEC'\n",
      "'TTP'\n",
      "'TUR'\n",
      "'TW'\n",
      "'TECTP'\n",
      "'TEKKU'\n"
     ]
    },
    {
     "name": "stderr",
     "output_type": "stream",
     "text": [
      "sleep 3 seconds and retrying https://data.alpaca.markets/v1/bars/day 3 more time(s)...\n"
     ]
    },
    {
     "name": "stdout",
     "output_type": "stream",
     "text": [
      "'TERN'\n",
      "'TFC'\n",
      "'TGS'\n",
      "'THCAU'\n",
      "'THG'\n",
      "'THQ'\n",
      "'THW'\n",
      "'TIGR'\n",
      "'TINV.U'\n",
      "'TIRX'\n",
      "'TKNO'\n",
      "'TMC'\n",
      "'TMHC'\n",
      "'TNK'\n",
      "'TPGY.U'\n"
     ]
    },
    {
     "name": "stderr",
     "output_type": "stream",
     "text": [
      "sleep 3 seconds and retrying https://data.alpaca.markets/v1/bars/day 3 more time(s)...\n"
     ]
    },
    {
     "name": "stdout",
     "output_type": "stream",
     "text": [
      "'TPL'\n",
      "'TPTX'\n",
      "'TRCA.U'\n",
      "'TRIB'\n",
      "'TRMK'\n",
      "'TRTX'\n",
      "'TRVG'\n",
      "'TSC'\n",
      "'TSHA'\n",
      "'TSLX'\n"
     ]
    },
    {
     "name": "stderr",
     "output_type": "stream",
     "text": [
      "sleep 3 seconds and retrying https://data.alpaca.markets/v1/bars/day 3 more time(s)...\n"
     ]
    },
    {
     "name": "stdout",
     "output_type": "stream",
     "text": [
      "'TSPQ.U'\n",
      "'TTCF'\n",
      "'TTM'\n",
      "'TMKRU'\n",
      "'TMST'\n",
      "'TNL'\n",
      "'TOWN'\n",
      "'TPH'\n",
      "'TPVG'\n",
      "'TREB.U'\n",
      "'TRIL'\n",
      "'TRMR'\n",
      "'TRON'\n",
      "'TRS'\n"
     ]
    },
    {
     "name": "stderr",
     "output_type": "stream",
     "text": [
      "sleep 3 seconds and retrying https://data.alpaca.markets/v1/bars/day 3 more time(s)...\n"
     ]
    },
    {
     "name": "stdout",
     "output_type": "stream",
     "text": [
      "'TRVI'\n",
      "'TSCAP'\n",
      "'TSI'\n",
      "'TSM'\n",
      "'TSQ'\n",
      "'TTD'\n",
      "'TTMI'\n",
      "'TUP'\n",
      "'TVTX'\n",
      "'TWN'\n",
      "'TWOA'\n",
      "'UCTT'\n",
      "'UFCS'\n",
      "'ULH'\n",
      "'UMC'\n",
      "'UNF'\n",
      "'UNMA'\n",
      "'UPC'\n",
      "'UPWK'\n",
      "'URI'\n",
      "'USAC'\n",
      "'USIG'\n",
      "'USM'\n"
     ]
    },
    {
     "name": "stderr",
     "output_type": "stream",
     "text": [
      "sleep 3 seconds and retrying https://data.alpaca.markets/v1/bars/day 3 more time(s)...\n"
     ]
    },
    {
     "name": "stdout",
     "output_type": "stream",
     "text": [
      "'TRUP'\n",
      "'TSE'\n",
      "'TTGT'\n",
      "'TTWO'\n",
      "'TUYA'\n",
      "'TWKS'\n",
      "'TWNI.U'\n",
      "'TXG'\n",
      "'TZPS'\n",
      "'UBX'\n",
      "'UE'\n",
      "'UFPT'\n",
      "'UI'\n",
      "'UL'\n"
     ]
    },
    {
     "name": "stderr",
     "output_type": "stream",
     "text": [
      "sleep 3 seconds and retrying https://data.alpaca.markets/v1/bars/day 3 more time(s)...\n"
     ]
    },
    {
     "name": "stdout",
     "output_type": "stream",
     "text": [
      "'UMPQ'\n",
      "'UNH'\n",
      "'UPS'\n",
      "'USAP'\n",
      "'USDP'\n",
      "'USLB'\n",
      "'USX'\n",
      "'UTL'\n",
      "'UVSP'\n",
      "'UZD'\n",
      "'VACC'\n",
      "'VCLT'\n",
      "'VCYT'\n",
      "'VEON'\n"
     ]
    },
    {
     "name": "stderr",
     "output_type": "stream",
     "text": [
      "sleep 3 seconds and retrying https://data.alpaca.markets/v1/bars/day 3 more time(s)...\n"
     ]
    },
    {
     "name": "stdout",
     "output_type": "stream",
     "text": [
      "'VET'\n",
      "'TSPQ'\n",
      "'TTC'\n",
      "'TTI'\n",
      "'TU'\n",
      "'TVAC'\n",
      "'TWLO'\n",
      "'TWNT'\n",
      "'TXMD'\n",
      "'UA'\n",
      "'UIHC'\n",
      "'ULCC'\n"
     ]
    },
    {
     "name": "stderr",
     "output_type": "stream",
     "text": [
      "sleep 3 seconds and retrying https://data.alpaca.markets/v1/bars/day 3 more time(s)...\n"
     ]
    },
    {
     "name": "stdout",
     "output_type": "stream",
     "text": [
      "'UNB'\n",
      "'UNIT'\n",
      "'UPTD'\n",
      "'USLM'\n",
      "'USXF'\n",
      "'UZF'\n",
      "'VALN'\n",
      "'VAPO'\n",
      "'VBLT'\n",
      "'VCEL'\n",
      "'VCNX'\n",
      "'VERA'\n",
      "'VGR'\n",
      "'TUGC'\n",
      "'TVACU'\n",
      "'TWLV'\n",
      "'TWNT.U'\n",
      "'TXRH'\n",
      "'UAN'\n",
      "'UCL'\n",
      "'UEPS'\n"
     ]
    },
    {
     "name": "stderr",
     "output_type": "stream",
     "text": [
      "sleep 3 seconds and retrying https://data.alpaca.markets/v1/bars/day 3 more time(s)...\n"
     ]
    },
    {
     "name": "stdout",
     "output_type": "stream",
     "text": [
      "'UIS'\n",
      "'UMBF'\n",
      "'UNCY'\n",
      "'UONE'\n",
      "'URGN'\n",
      "'USA'\n",
      "'USB'\n",
      "'USEG'\n",
      "'USNA'\n",
      "'UWMC'\n",
      "'V'\n",
      "'SM'\n",
      "'VCRA'\n",
      "'VEC'\n",
      "'VEL'\n"
     ]
    },
    {
     "name": "stderr",
     "output_type": "stream",
     "text": [
      "sleep 3 seconds and retrying https://data.alpaca.markets/v1/bars/day 3 more time(s)...\n"
     ]
    },
    {
     "name": "stdout",
     "output_type": "stream",
     "text": [
      "'VERB'\n",
      "'VFF'\n",
      "'VG'\n",
      "'VGSH'\n",
      "'VIACA'\n",
      "'VIEW'\n",
      "'VINC'\n",
      "'VIR'\n",
      "'VISL'\n",
      "'TURN'\n",
      "'TWNI'\n"
     ]
    },
    {
     "name": "stderr",
     "output_type": "stream",
     "text": [
      "sleep 3 seconds and retrying https://data.alpaca.markets/v1/bars/day 3 more time(s)...\n"
     ]
    },
    {
     "name": "stdout",
     "output_type": "stream",
     "text": [
      "'TWTR'\n",
      "'TYRA'\n",
      "'UCYB'\n",
      "'UFPI'\n",
      "'UGRO'\n",
      "'UNTY'\n",
      "'URBN'\n",
      "'UROY'\n",
      "'USAK'\n",
      "'USFD'\n",
      "'USPH'\n",
      "'USWS'\n",
      "'UTI'\n",
      "'UVE'\n"
     ]
    },
    {
     "name": "stderr",
     "output_type": "stream",
     "text": [
      "sleep 3 seconds and retrying https://data.alpaca.markets/v1/bars/day 3 more time(s)...\n"
     ]
    },
    {
     "name": "stdout",
     "output_type": "stream",
     "text": [
      "'VAC'\n",
      "'VALU'\n",
      "'VBIV'\n",
      "'VCXAU'\n",
      "'VEEV'\n",
      "'VENAR'\n",
      "'VERX'\n",
      "'VHC'\n",
      "'VIAV'\n",
      "'VII'\n",
      "'VIV'\n",
      "'VKQ'\n",
      "'TWND.U'\n"
     ]
    },
    {
     "name": "stderr",
     "output_type": "stream",
     "text": [
      "sleep 3 seconds and retrying https://data.alpaca.markets/v1/bars/day 3 more time(s)...\n"
     ]
    },
    {
     "name": "stdout",
     "output_type": "stream",
     "text": [
      "'TWST'\n",
      "'UFI'\n",
      "'UGP'\n",
      "'UMH'\n",
      "'UNFI'\n",
      "'UPLD'\n",
      "'USCB'\n",
      "'USIO'\n",
      "'USMC'\n",
      "'USOI'\n",
      "'UTHR'\n",
      "'UXIN'\n",
      "'VBFC'\n",
      "'VC'\n",
      "'VCKAU'\n",
      "'VCV'\n",
      "'VEEE'\n",
      "'VENA'\n",
      "'VERV'\n",
      "'VGII.U'\n",
      "'VIASP'\n",
      "'VIHAU'\n",
      "'VIRI'\n",
      "'VITL'\n"
     ]
    },
    {
     "name": "stderr",
     "output_type": "stream",
     "text": [
      "sleep 3 seconds and retrying https://data.alpaca.markets/v1/bars/day 3 more time(s)...\n"
     ]
    },
    {
     "name": "stdout",
     "output_type": "stream",
     "text": [
      "'UTF'\n",
      "'UTZ'\n",
      "'VABK'\n",
      "'VBTX'\n",
      "'VCIT'\n",
      "'VCSH'\n",
      "'VECT'\n",
      "'VELO'\n",
      "'VERO'\n",
      "'VGI'\n",
      "'VIACP'\n"
     ]
    },
    {
     "name": "stderr",
     "output_type": "stream",
     "text": [
      "sleep 3 seconds and retrying https://data.alpaca.markets/v1/bars/day 3 more time(s)...\n"
     ]
    },
    {
     "name": "stdout",
     "output_type": "stream",
     "text": [
      "'VIGI'\n",
      "'VINP'\n",
      "'VIRC'\n",
      "'VIST'\n",
      "'VJET'\n",
      "'VLGEA'\n",
      "'VMACU'\n",
      "'VMI'\n",
      "'VNDA'\n",
      "'VOD'\n",
      "'VPCBU'\n",
      "'VPV'\n",
      "'VRDN'\n",
      "'VRNS'\n"
     ]
    },
    {
     "name": "stderr",
     "output_type": "stream",
     "text": [
      "sleep 3 seconds and retrying https://data.alpaca.markets/v1/bars/day 3 more time(s)...\n"
     ]
    },
    {
     "name": "stdout",
     "output_type": "stream",
     "text": [
      "'VRS'\n",
      "'VS'\n",
      "'VSH'\n",
      "'VSTA'\n",
      "'VTAQR'\n",
      "'VTHR'\n",
      "'VGM'\n",
      "'VHI'\n",
      "'VICI'\n",
      "'VIIAU'\n",
      "'VIOT'\n",
      "'VIRT'\n"
     ]
    },
    {
     "name": "stderr",
     "output_type": "stream",
     "text": [
      "sleep 3 seconds and retrying https://data.alpaca.markets/v1/bars/day 3 more time(s)...\n"
     ]
    },
    {
     "name": "stdout",
     "output_type": "stream",
     "text": [
      "'VIVE'\n",
      "'VKTX'\n",
      "'VLRS'\n",
      "'VLYPO'\n",
      "'VMC'\n",
      "'VNET'\n",
      "'VNOM'\n",
      "'VNTR'\n",
      "'VONE'\n",
      "'VOSO'\n",
      "'VOYA'\n",
      "'VPG'\n",
      "'VRAR'\n",
      "'VRM'\n",
      "'VRPX'\n",
      "'VRTS'\n",
      "'VSDA'\n",
      "'VTEX'\n",
      "'VTIQ'\n",
      "'VTRN'\n",
      "'VTWG'\n",
      "'VWE'\n",
      "'VXUS'\n"
     ]
    },
    {
     "name": "stderr",
     "output_type": "stream",
     "text": [
      "sleep 3 seconds and retrying https://data.alpaca.markets/v1/bars/day 3 more time(s)...\n"
     ]
    },
    {
     "name": "stdout",
     "output_type": "stream",
     "text": [
      "'WABC'\n",
      "'WALD'\n",
      "'WAT'\n",
      "'WBK'\n",
      "'WDI'\n",
      "'WEBR'\n",
      "'WERN'\n",
      "'VIPS'\n",
      "'VLATU'\n",
      "'VLT'\n",
      "'VLYPP'\n",
      "'VMD'\n",
      "'VMW'\n",
      "'VONG'\n"
     ]
    },
    {
     "name": "stderr",
     "output_type": "stream",
     "text": [
      "sleep 3 seconds and retrying https://data.alpaca.markets/v1/bars/day 3 more time(s)...\n"
     ]
    },
    {
     "name": "stdout",
     "output_type": "stream",
     "text": [
      "'VOSOU'\n",
      "'VRAY'\n",
      "'VRME'\n",
      "'VRRM'\n",
      "'VRTV'\n",
      "'VSEC'\n",
      "'VTA'\n",
      "'VTGN'\n",
      "'VTIQU'\n",
      "'VTRS'\n",
      "'VTWO'\n",
      "'VVNT'\n",
      "'VYMI'\n",
      "'WAFD'\n"
     ]
    },
    {
     "name": "stderr",
     "output_type": "stream",
     "text": [
      "sleep 3 seconds and retrying https://data.alpaca.markets/v1/bars/day 3 more time(s)...\n"
     ]
    },
    {
     "name": "stdout",
     "output_type": "stream",
     "text": [
      "'WALDU'\n",
      "'WATT'\n",
      "'WBND'\n",
      "'WCLD'\n",
      "'WES'\n",
      "'VLDR'\n",
      "'VLTA'\n",
      "'VMAC'\n",
      "'VMEO'\n",
      "'VNCE'\n",
      "'VNQI'\n",
      "'VOC'\n",
      "'VONV'\n"
     ]
    },
    {
     "name": "stderr",
     "output_type": "stream",
     "text": [
      "sleep 3 seconds and retrying https://data.alpaca.markets/v1/bars/day 3 more time(s)...\n"
     ]
    },
    {
     "name": "stdout",
     "output_type": "stream",
     "text": [
      "'VPCB'\n",
      "'VRCA'\n",
      "'VRNA'\n",
      "'VRTX'\n",
      "'VST'\n",
      "'VTAQ'\n",
      "'VTN'\n",
      "'VTRU'\n",
      "'VTWV'\n",
      "'VVOS'\n",
      "'VWOB'\n",
      "'VYNE'\n",
      "'WAFDP'\n",
      "'WAVC.U'\n",
      "'WBS'\n",
      "'WCN'\n",
      "'WEC'\n",
      "'WETF'\n",
      "'WHD'\n",
      "'WHLRD'\n"
     ]
    },
    {
     "name": "stderr",
     "output_type": "stream",
     "text": [
      "sleep 3 seconds and retrying https://data.alpaca.markets/v1/bars/day 3 more time(s)...\n"
     ]
    },
    {
     "name": "stdout",
     "output_type": "stream",
     "text": [
      "'WILC'\n",
      "'WINT'\n",
      "'VLO'\n",
      "'VMAR'\n",
      "'VNE'\n",
      "'VNO'\n",
      "'VPCC'\n",
      "'VQS'\n",
      "'VREX'\n",
      "'VRNT'\n",
      "'VRSK'\n",
      "'VSAT'\n",
      "'VSTM'\n",
      "'VTAQU'\n"
     ]
    },
    {
     "name": "stderr",
     "output_type": "stream",
     "text": [
      "sleep 3 seconds and retrying https://data.alpaca.markets/v1/bars/day 3 more time(s)...\n"
     ]
    },
    {
     "name": "stdout",
     "output_type": "stream",
     "text": [
      "'VTOL'\n",
      "'VVR'\n",
      "'VYGG.U'\n",
      "'VZ'\n",
      "'WAL'\n",
      "'WARR.U'\n",
      "'WB'\n",
      "'WCBR'\n",
      "'WDFC'\n",
      "'WELL'\n",
      "'WF'\n"
     ]
    },
    {
     "name": "stderr",
     "output_type": "stream",
     "text": [
      "sleep 3 seconds and retrying https://data.alpaca.markets/v1/bars/day 3 more time(s)...\n"
     ]
    },
    {
     "name": "stdout",
     "output_type": "stream",
     "text": [
      "'WFCF'\n",
      "'WHFBZ'\n",
      "'WHLRP'\n",
      "'WINA'\n",
      "'WIX'\n",
      "'VLON'\n",
      "'VLY'\n",
      "'VMBS'\n",
      "'VMO'\n",
      "'VNT'\n",
      "'VOR'\n",
      "'VOXX'\n",
      "'VPCC.U'\n",
      "'VRA'\n"
     ]
    },
    {
     "name": "stderr",
     "output_type": "stream",
     "text": [
      "sleep 3 seconds and retrying https://data.alpaca.markets/v1/bars/day 3 more time(s)...\n"
     ]
    },
    {
     "name": "stdout",
     "output_type": "stream",
     "text": [
      "'VRIG'\n",
      "'VRSN'\n",
      "'VSCO'\n",
      "'VSMV'\n",
      "'VSTO'\n",
      "'VTIP'\n",
      "'VTR'\n",
      "'VTVT'\n",
      "'VUZI'\n",
      "'VVV'\n",
      "'VXRT'\n",
      "'VYGR'\n",
      "'VZIO'\n",
      "'WALA'\n",
      "'WASH'\n"
     ]
    },
    {
     "name": "stderr",
     "output_type": "stream",
     "text": [
      "sleep 3 seconds and retrying https://data.alpaca.markets/v1/bars/day 3 more time(s)...\n"
     ]
    },
    {
     "name": "stdout",
     "output_type": "stream",
     "text": [
      "'WBA'\n",
      "'WCC'\n",
      "'WDH'\n",
      "'WEN'\n",
      "'WFC'\n",
      "'WFG'\n",
      "'WGO'\n",
      "'WHG'\n",
      "'WHR'\n",
      "'WINC'\n",
      "'WIRE'\n",
      "'VTNR'\n",
      "'VTSI'\n",
      "'VVPR'\n",
      "'VWTR'\n",
      "'VYGG'\n",
      "'VYNT'\n",
      "'WAFU'\n",
      "'WARR'\n",
      "'WAVE'\n",
      "'WBT'\n",
      "'WD'\n"
     ]
    },
    {
     "name": "stderr",
     "output_type": "stream",
     "text": [
      "sleep 3 seconds and retrying https://data.alpaca.markets/v1/bars/day 3 more time(s)...\n"
     ]
    },
    {
     "name": "stdout",
     "output_type": "stream",
     "text": [
      "'WEA'\n",
      "'WEI'\n",
      "'WEYS'\n",
      "'WFRD'\n",
      "'WHF'\n",
      "'WHLRL'\n",
      "'WIMI'\n",
      "'WINVU'\n",
      "'WIW'\n",
      "'WKME'\n",
      "'WLK'\n"
     ]
    },
    {
     "name": "stderr",
     "output_type": "stream",
     "text": [
      "sleep 3 seconds and retrying https://data.alpaca.markets/v1/bars/day 3 more time(s)...\n"
     ]
    },
    {
     "name": "stdout",
     "output_type": "stream",
     "text": [
      "'WMB'\n",
      "'WNDY'\n",
      "'WOOF'\n",
      "'WPCA.U'\n",
      "'WPM'\n",
      "'WRAP'\n",
      "'WSBC'\n",
      "'WSO.B'\n",
      "'WTER'\n",
      "'WTRH'\n",
      "'WWD'\n",
      "'WY'\n",
      "'XENT'\n"
     ]
    },
    {
     "name": "stderr",
     "output_type": "stream",
     "text": [
      "sleep 3 seconds and retrying https://data.alpaca.markets/v1/bars/day 3 more time(s)...\n"
     ]
    },
    {
     "name": "stdout",
     "output_type": "stream",
     "text": [
      "'XGN'\n",
      "'WGRO'\n",
      "'WHLM'\n",
      "'WIA'\n",
      "'WING'\n",
      "'WISA'\n",
      "'WKEY'\n",
      "'WLDN'\n",
      "'WMK'\n",
      "'WNW'\n",
      "'WOW'\n",
      "'WPG'\n",
      "'WRK'\n",
      "'WSC'\n",
      "'WSTG'\n"
     ]
    },
    {
     "name": "stderr",
     "output_type": "stream",
     "text": [
      "sleep 3 seconds and retrying https://data.alpaca.markets/v1/bars/day 3 more time(s)...\n"
     ]
    },
    {
     "name": "stdout",
     "output_type": "stream",
     "text": [
      "'WTI'\n",
      "'WVVI'\n",
      "'X'\n",
      "'XELA'\n",
      "'XFLT'\n",
      "'XHR'\n",
      "'XLRN'\n",
      "'XOMA'\n",
      "'XPER'\n",
      "'XPOF'\n",
      "'XSPA'\n",
      "'XTLB'\n",
      "'XYL'\n",
      "'YELP'\n",
      "'WH'\n",
      "'WHLR'\n",
      "'WISH'\n",
      "'WKHS'\n",
      "'WLTW'\n",
      "'WMPN'\n",
      "'WPC'\n",
      "'WQGA.U'\n",
      "'WRLD'\n"
     ]
    },
    {
     "name": "stderr",
     "output_type": "stream",
     "text": [
      "sleep 3 seconds and retrying https://data.alpaca.markets/v1/bars/day 3 more time(s)...\n"
     ]
    },
    {
     "name": "stdout",
     "output_type": "stream",
     "text": [
      "'WSFS'\n",
      "'WTM'\n",
      "'WTTR'\n",
      "'WVVIP'\n",
      "'XAIR'\n",
      "'XELB'\n",
      "'XL'\n",
      "'XNCR'\n",
      "'XOMAO'\n",
      "'XP'\n",
      "'YGMZ'\n",
      "'WIT'\n",
      "'WLFC'\n",
      "'WM'\n",
      "'WOOD'\n"
     ]
    },
    {
     "name": "stderr",
     "output_type": "stream",
     "text": [
      "sleep 3 seconds and retrying https://data.alpaca.markets/v1/bars/day 3 more time(s)...\n"
     ]
    },
    {
     "name": "stdout",
     "output_type": "stream",
     "text": [
      "'WPCA'\n",
      "'WRAC.U'\n",
      "'WSO'\n",
      "'WTBA'\n",
      "'WTRG'\n",
      "'WU'\n",
      "'WW'\n",
      "'WWW'\n",
      "'XENE'\n",
      "'XFOR'\n",
      "'XIN'\n",
      "'XNET'\n",
      "'XOMAP'\n",
      "'XPAXU'\n"
     ]
    },
    {
     "name": "stderr",
     "output_type": "stream",
     "text": [
      "sleep 3 seconds and retrying https://data.alpaca.markets/v1/bars/day 3 more time(s)...\n"
     ]
    },
    {
     "name": "stdout",
     "output_type": "stream",
     "text": [
      "'YSACU'\n",
      "'ZBH'\n",
      "'ZEST'\n",
      "'WKSP'\n",
      "'WLKP'\n",
      "'WMC'\n",
      "'WNEB'\n",
      "'WOR'\n",
      "'WPCB'\n",
      "'WPP'\n",
      "'WRB'\n"
     ]
    },
    {
     "name": "stderr",
     "output_type": "stream",
     "text": [
      "sleep 3 seconds and retrying https://data.alpaca.markets/v1/bars/day 3 more time(s)...\n"
     ]
    },
    {
     "name": "stdout",
     "output_type": "stream",
     "text": [
      "'WSBCP'\n",
      "'WSR'\n",
      "'WTFCM'\n",
      "'WTRU'\n",
      "'WVE'\n",
      "'WWE'\n",
      "'WYNN'\n",
      "'XBIO'\n",
      "'XCUR'\n",
      "'XERS'\n",
      "'XOG'\n",
      "'XPDIU'\n",
      "'XPOA'\n",
      "'XXII'\n",
      "'YAC'\n",
      "'YI'\n",
      "'YPF'\n",
      "'YTEN'\n",
      "'ZEAL'\n"
     ]
    },
    {
     "name": "stderr",
     "output_type": "stream",
     "text": [
      "sleep 3 seconds and retrying https://data.alpaca.markets/v1/bars/day 3 more time(s)...\n"
     ]
    },
    {
     "name": "stdout",
     "output_type": "stream",
     "text": [
      "'ZEUS'\n",
      "'ZH'\n",
      "'WMG'\n",
      "'WNS'\n",
      "'WORX'\n",
      "'WPCB.U'\n",
      "'WPRT'\n",
      "'WRE'\n",
      "'WSBF'\n",
      "'WST'\n",
      "'WTFCP'\n",
      "'WTS'\n",
      "'WVFC'\n",
      "'XBIT'\n"
     ]
    },
    {
     "name": "stderr",
     "output_type": "stream",
     "text": [
      "sleep 3 seconds and retrying https://data.alpaca.markets/v1/bars/day 3 more time(s)...\n"
     ]
    },
    {
     "name": "stdout",
     "output_type": "stream",
     "text": [
      "'XEL'\n",
      "'XM'\n",
      "'XMTR'\n",
      "'XOM'\n",
      "'XOS'\n",
      "'XPEL'\n",
      "'XPOA.U'\n",
      "'XRX'\n",
      "'XYF'\n",
      "'YALA'\n",
      "'YELL'\n",
      "'YMM'\n",
      "'YTPG'\n"
     ]
    },
    {
     "name": "stderr",
     "output_type": "stream",
     "text": [
      "sleep 3 seconds and retrying https://data.alpaca.markets/v1/bars/day 3 more time(s)...\n"
     ]
    },
    {
     "name": "stdout",
     "output_type": "stream",
     "text": [
      "'YY'\n",
      "'XLNX'\n",
      "'XONE'\n",
      "'XPDI'\n",
      "'XPO'\n",
      "'XT'\n",
      "'Y'\n",
      "'YLDE'\n",
      "'YORW'\n",
      "'YSG'\n",
      "'YVR'\n",
      "'ZCMD'\n",
      "'ZETA'\n",
      "'ZGYHU'\n",
      "'ZIONL'\n"
     ]
    },
    {
     "name": "stderr",
     "output_type": "stream",
     "text": [
      "sleep 3 seconds and retrying https://data.alpaca.markets/v1/bars/day 3 more time(s)...\n"
     ]
    },
    {
     "name": "stdout",
     "output_type": "stream",
     "text": [
      "'ZKIN'\n",
      "'ZNTEU'\n",
      "'ZT'\n",
      "'ZUO'\n",
      "'ZYME'\n",
      "'YJ'\n",
      "'YMTX'\n",
      "'YRD'\n",
      "'YTRA'\n",
      "'ZEN'\n",
      "'ZG'\n",
      "'ZI'\n"
     ]
    },
    {
     "name": "stderr",
     "output_type": "stream",
     "text": [
      "sleep 3 seconds and retrying https://data.alpaca.markets/v1/bars/day 3 more time(s)...\n"
     ]
    },
    {
     "name": "stdout",
     "output_type": "stream",
     "text": [
      "'ZIP'\n",
      "'ZNGA'\n",
      "'ZS'\n",
      "'ZTR'\n",
      "'ZWRK'\n",
      "'YNDX'\n",
      "'YUM'\n",
      "'Z'\n",
      "'ZEPP'\n",
      "'ZGYH'\n",
      "'ZIM'\n",
      "'ZIVO'\n",
      "'ZSAN'\n",
      "'ZTS'\n",
      "'ZWRKU'\n",
      "'VVI'\n",
      "'ZEV'\n",
      "'ZIONP'\n",
      "'ZME'\n",
      "'ZTO'\n",
      "'ZVO'\n",
      "'WAB'\n",
      "'ZGYHR'\n"
     ]
    },
    {
     "name": "stderr",
     "output_type": "stream",
     "text": [
      "sleep 3 seconds and retrying https://data.alpaca.markets/v1/bars/day 3 more time(s)...\n"
     ]
    },
    {
     "name": "stdout",
     "output_type": "stream",
     "text": [
      "'ZION'\n",
      "'ZNTE'\n",
      "'ZUMZ'\n",
      "'ZY'\n",
      "'UTME'\n",
      "'ZIONO'\n",
      "'ZM'\n",
      "'ZTAQU'\n",
      "'ZVIA'\n",
      "'ZYXI'\n",
      "'WK'\n"
     ]
    },
    {
     "name": "stderr",
     "output_type": "stream",
     "text": [
      "sleep 3 seconds and retrying https://data.alpaca.markets/v1/bars/day 3 more time(s)...\n"
     ]
    },
    {
     "name": "stdout",
     "output_type": "stream",
     "text": [
      "'SVA'\n",
      "'XRAY'\n",
      "'XPEV'\n",
      "'IMRN'\n",
      "'YEXT'\n",
      "'ZIXI'\n",
      "'MRC'\n",
      "'BFLY'\n",
      "'PFTA'\n",
      "'SLVM.WI'\n",
      "'BFS'\n",
      "'OTLY'\n",
      "'SRE'\n",
      "'AACG'\n"
     ]
    },
    {
     "name": "stderr",
     "output_type": "stream",
     "text": [
      "sleep 3 seconds and retrying https://data.alpaca.markets/v1/bars/day 3 more time(s)...\n"
     ]
    },
    {
     "name": "stdout",
     "output_type": "stream",
     "text": [
      "'JXN'\n",
      "'AAIN'\n",
      "'ACBAU'\n",
      "'ACGLN'\n",
      "'ACII'\n",
      "'ACN'\n",
      "'ACRX'\n",
      "'ADC'\n",
      "'ADMA'\n",
      "'ADT'\n",
      "'ADV'\n",
      "'AEPPL'\n",
      "'AATC'\n",
      "'ACBI'\n"
     ]
    },
    {
     "name": "stderr",
     "output_type": "stream",
     "text": [
      "sleep 3 seconds and retrying https://data.alpaca.markets/v1/bars/day 3 more time(s)...\n"
     ]
    },
    {
     "name": "stdout",
     "output_type": "stream",
     "text": [
      "'ACGLO'\n",
      "'ACIU'\n",
      "'ACNB'\n",
      "'ACST'\n",
      "'ADES'\n",
      "'ADMP'\n",
      "'ADRE'\n",
      "'ADVM'\n",
      "'AEAC'\n",
      "'AEHL'\n",
      "'AEPPZ'\n",
      "'AEVA'\n",
      "'AFCG'\n",
      "'ABCB'\n",
      "'ACC'\n",
      "'ACGLP'\n",
      "'ACIW'\n",
      "'ACP'\n",
      "'ACTDU'\n",
      "'ACER'\n",
      "'ACHC'\n",
      "'ACKIT'\n"
     ]
    },
    {
     "name": "stderr",
     "output_type": "stream",
     "text": [
      "sleep 3 seconds and retrying https://data.alpaca.markets/v1/bars/day 3 more time(s)...\n"
     ]
    },
    {
     "name": "stdout",
     "output_type": "stream",
     "text": [
      "'ACET'\n",
      "'ACHV'\n",
      "'ACKIU'\n",
      "'ACQRU'\n",
      "'ABUS'\n",
      "'ACEV'\n",
      "'ACI'\n",
      "'ACAHU'\n",
      "'ACEVU'\n",
      "'ACRO'\n",
      "'ACVA'\n",
      "'AFBI'\n"
     ]
    },
    {
     "name": "stderr",
     "output_type": "stream",
     "text": [
      "sleep 3 seconds and retrying https://data.alpaca.markets/v1/bars/day 3 more time(s)...\n"
     ]
    },
    {
     "name": "stdout",
     "output_type": "stream",
     "text": [
      "'AACIU'\n",
      "'ALPN'\n",
      "'ALXO'\n",
      "'AMAOU'\n",
      "'ALX'\n",
      "'AMAO'\n",
      "'AMC'\n",
      "'ALZN'\n",
      "'AMBA'\n",
      "'ATEN'\n",
      "'AMAT'\n",
      "'APOG'\n",
      "'APR'\n",
      "'APTMU'\n",
      "'ARNC'\n",
      "'ARRWU'\n"
     ]
    },
    {
     "name": "stderr",
     "output_type": "stream",
     "text": [
      "sleep 3 seconds and retrying https://data.alpaca.markets/v1/bars/day 3 more time(s)...\n"
     ]
    },
    {
     "name": "stdout",
     "output_type": "stream",
     "text": [
      "'ARVN'\n",
      "'ATH'\n",
      "'ATI'\n",
      "'AVLR'\n",
      "'ATHN.U'\n",
      "'ATLO'\n",
      "'ATNX'\n",
      "'ATSG'\n",
      "'ATVI'\n",
      "'AUBN'\n"
     ]
    },
    {
     "name": "stderr",
     "output_type": "stream",
     "text": [
      "sleep 3 seconds and retrying https://data.alpaca.markets/v1/bars/day 3 more time(s)...\n"
     ]
    },
    {
     "name": "stdout",
     "output_type": "stream",
     "text": [
      "'AUPH'\n",
      "'ATHX'\n",
      "'ATO'\n",
      "'ATSPT'\n",
      "'ATXI'\n",
      "'AUD'\n",
      "'AURC'\n",
      "'AUUD'\n",
      "'ATNF'\n",
      "'ATRI'\n",
      "'ATUS'\n",
      "'AU'\n",
      "'ATRC'\n",
      "'ATTO'\n"
     ]
    },
    {
     "name": "stderr",
     "output_type": "stream",
     "text": [
      "sleep 3 seconds and retrying https://data.alpaca.markets/v1/bars/day 3 more time(s)...\n"
     ]
    },
    {
     "name": "stdout",
     "output_type": "stream",
     "text": [
      "'ATY'\n",
      "'AUS'\n",
      "'AUVIP'\n",
      "'AVAV'\n",
      "'AXSM'\n",
      "'AYRO'\n",
      "'AZPN'\n",
      "'B'\n",
      "'BANC'\n",
      "'BAP'\n",
      "'BATRK'\n",
      "'BBH'\n",
      "'BDXB'\n",
      "'BEEM'\n",
      "'BENEU'\n",
      "'BFIN'\n",
      "'BELFA'\n",
      "'BEPC'\n",
      "'BFIT'\n",
      "'BHC'\n",
      "'MDVA'\n"
     ]
    },
    {
     "name": "stderr",
     "output_type": "stream",
     "text": [
      "sleep 3 seconds and retrying https://data.alpaca.markets/v1/bars/day 3 more time(s)...\n"
     ]
    },
    {
     "name": "stdout",
     "output_type": "stream",
     "text": [
      "'AADI'\n",
      "'SWAG'\n",
      "'BKCH'\n",
      "'BMEA'\n",
      "'RBOT'\n",
      "'VATE'\n",
      "'BSBE'\n",
      "'BSCP'\n",
      "'MTAL'\n",
      "'XPAX'\n",
      "'BSJM'\n"
     ]
    },
    {
     "name": "stderr",
     "output_type": "stream",
     "text": [
      "sleep 3 seconds and retrying https://data.alpaca.markets/v1/bars/day 3 more time(s)...\n"
     ]
    },
    {
     "name": "stdout",
     "output_type": "stream",
     "text": [
      "'BSKY'\n",
      "'BSTZ'\n",
      "'BSKYU'\n",
      "'BSMP'\n",
      "'BSN'\n",
      "'BTAQ'\n",
      "'BXP'\n",
      "'BYM'\n",
      "'BZH'\n",
      "'CACC'\n",
      "'CATY'\n",
      "'CBAY'\n",
      "'CBRL'\n",
      "'CBZ'\n",
      "'CCBG'\n"
     ]
    },
    {
     "name": "stderr",
     "output_type": "stream",
     "text": [
      "sleep 3 seconds and retrying https://data.alpaca.markets/v1/bars/day 3 more time(s)...\n"
     ]
    },
    {
     "name": "stdout",
     "output_type": "stream",
     "text": [
      "'CBSH'\n",
      "'CDAK'\n",
      "'CDAY'\n",
      "'CDTX'\n",
      "'CEA'\n",
      "'CEM'\n",
      "'CENTA'\n",
      "'CFFE'\n",
      "'CFIVU'\n",
      "'CFVIU'\n",
      "'CGBD'\n",
      "'CGO'\n",
      "'CHB'\n",
      "'CHEF'\n"
     ]
    },
    {
     "name": "stderr",
     "output_type": "stream",
     "text": [
      "sleep 3 seconds and retrying https://data.alpaca.markets/v1/bars/day 3 more time(s)...\n"
     ]
    },
    {
     "name": "stdout",
     "output_type": "stream",
     "text": [
      "'CERE'\n",
      "'CETXP'\n",
      "'CFB'\n",
      "'CFFVU'\n",
      "'CFR'\n",
      "'CGA'\n",
      "'CHD'\n",
      "'CHH'\n",
      "'CHK'\n",
      "'CHNA'\n",
      "'CHRA'\n",
      "'CHSCN'\n",
      "'CHWAU'\n",
      "'CEPU'\n",
      "'CF'\n",
      "'CFFI'\n",
      "'CFMS'\n",
      "'CFXA'\n",
      "'CGEM'\n"
     ]
    },
    {
     "name": "stderr",
     "output_type": "stream",
     "text": [
      "sleep 3 seconds and retrying https://data.alpaca.markets/v1/bars/day 3 more time(s)...\n"
     ]
    },
    {
     "name": "stdout",
     "output_type": "stream",
     "text": [
      "'CHCO'\n",
      "'CHGG'\n",
      "'CHMI'\n",
      "'CHPMU'\n",
      "'CHSCL'\n",
      "'CHUY'\n",
      "'CIA'\n",
      "'CIFR'\n",
      "'CIL'\n",
      "'CEQP'\n",
      "'CETX'\n",
      "'CFA'\n",
      "'CFFN'\n"
     ]
    },
    {
     "name": "stderr",
     "output_type": "stream",
     "text": [
      "sleep 3 seconds and retrying https://data.alpaca.markets/v1/bars/day 3 more time(s)...\n"
     ]
    },
    {
     "name": "stdout",
     "output_type": "stream",
     "text": [
      "'CFO'\n",
      "'CG'\n",
      "'CGEN'\n",
      "'CHAA'\n",
      "'CHCT'\n",
      "'CHN'\n",
      "'CHPT'\n",
      "'CHSCM'\n",
      "'CHW'\n",
      "'CIB'\n",
      "'CIG'\n",
      "'CIM'\n",
      "'CERT'\n"
     ]
    },
    {
     "name": "stderr",
     "output_type": "stream",
     "text": [
      "sleep 3 seconds and retrying https://data.alpaca.markets/v1/bars/day 3 more time(s)...\n"
     ]
    },
    {
     "name": "stdout",
     "output_type": "stream",
     "text": [
      "'CEY'\n",
      "'CFFEU'\n",
      "'CFLT'\n",
      "'CFX'\n",
      "'CGC'\n",
      "'CGRN'\n",
      "'CHCI'\n",
      "'CHEK'\n",
      "'CHMG'\n",
      "'CHPM'\n",
      "'CHS'\n",
      "'CHTR'\n",
      "'CI'\n",
      "'CIF'\n",
      "'CIT'\n",
      "'AADR'\n"
     ]
    },
    {
     "name": "stderr",
     "output_type": "stream",
     "text": [
      "sleep 3 seconds and retrying https://data.alpaca.markets/v1/bars/day 3 more time(s)...\n"
     ]
    },
    {
     "name": "stdout",
     "output_type": "stream",
     "text": [
      "'CHKP'\n",
      "'CHNG'\n",
      "'CHRB'\n",
      "'CHSCO'\n",
      "'CHWY'\n",
      "'CID'\n",
      "'CIGI'\n",
      "'CINR'\n",
      "'CIZ'\n",
      "'CLAQ'\n",
      "'CLAYU'\n",
      "'CLDB'\n"
     ]
    },
    {
     "name": "stderr",
     "output_type": "stream",
     "text": [
      "sleep 3 seconds and retrying https://data.alpaca.markets/v1/bars/day 3 more time(s)...\n"
     ]
    },
    {
     "name": "stdout",
     "output_type": "stream",
     "text": [
      "'CLFD'\n",
      "'CLPT'\n",
      "'CLS'\n",
      "'CLXT'\n",
      "'CMRE'\n",
      "'CLAQU'\n",
      "'CLBK'\n",
      "'CLH'\n",
      "'CLOEU'\n",
      "'CLRB'\n",
      "'CLVS'\n",
      "'CMA'\n",
      "'CMCO'\n",
      "'CMG'\n",
      "'CMP'\n",
      "'CMSA'\n",
      "'CNA'\n",
      "'CND.U'\n"
     ]
    },
    {
     "name": "stderr",
     "output_type": "stream",
     "text": [
      "sleep 3 seconds and retrying https://data.alpaca.markets/v1/bars/day 3 more time(s)...\n"
     ]
    },
    {
     "name": "stdout",
     "output_type": "stream",
     "text": [
      "'CNFRL'\n",
      "'CNHI'\n",
      "'CNTQ'\n",
      "'CLB'\n",
      "'CLDR'\n",
      "'CLGN'\n",
      "'CLLS'\n",
      "'CLOER'\n",
      "'CLR'\n",
      "'CLVR'\n",
      "'CM'\n",
      "'CMCM'\n",
      "'CMO'\n",
      "'CMRX'\n",
      "'CND'\n",
      "'CNFR'\n"
     ]
    },
    {
     "name": "stderr",
     "output_type": "stream",
     "text": [
      "sleep 3 seconds and retrying https://data.alpaca.markets/v1/bars/day 3 more time(s)...\n"
     ]
    },
    {
     "name": "stdout",
     "output_type": "stream",
     "text": [
      "'CNNE'\n",
      "'CNR'\n",
      "'CNTG'\n",
      "'CNXC'\n",
      "'COMP'\n",
      "'CLF'\n",
      "'CLIR'\n",
      "'CLNN'\n",
      "'CLPS'\n",
      "'CLRO'\n",
      "'CLX'\n",
      "'CMC'\n"
     ]
    },
    {
     "name": "stderr",
     "output_type": "stream",
     "text": [
      "sleep 3 seconds and retrying https://data.alpaca.markets/v1/bars/day 3 more time(s)...\n"
     ]
    },
    {
     "name": "stdout",
     "output_type": "stream",
     "text": [
      "'CMLTU'\n",
      "'CMTL'\n",
      "'CNCE'\n",
      "'CNEY'\n",
      "'CNMD'\n",
      "'CNP'\n",
      "'CNTA'\n",
      "'CNVY'\n",
      "'COCP'\n",
      "'COG'\n",
      "'CLIM.U'\n",
      "'CLNE'\n",
      "'CLPR'\n",
      "'CLRMU'\n"
     ]
    },
    {
     "name": "stderr",
     "output_type": "stream",
     "text": [
      "sleep 3 seconds and retrying https://data.alpaca.markets/v1/bars/day 3 more time(s)...\n"
     ]
    },
    {
     "name": "stdout",
     "output_type": "stream",
     "text": [
      "'CLSN'\n",
      "'CLWT'\n",
      "'CMCTP'\n",
      "'CMLT'\n",
      "'CMPS'\n",
      "'CNC'\n",
      "'CNET'\n",
      "'CNM'\n",
      "'CNOBP'\n",
      "'CNSP'\n",
      "'CNTY'\n",
      "'CLMT'\n",
      "'CLOV'\n",
      "'CLRM'\n",
      "'CLW'\n",
      "'CMBM'\n",
      "'CMCT'\n",
      "'CMLS'\n",
      "'CMPR'\n",
      "'CMSD'\n",
      "'CNDT'\n",
      "'CNK'\n",
      "'CNOB'\n",
      "'CNSL'\n"
     ]
    },
    {
     "name": "stderr",
     "output_type": "stream",
     "text": [
      "sleep 3 seconds and retrying https://data.alpaca.markets/v1/bars/day 3 more time(s)...\n"
     ]
    },
    {
     "name": "stdout",
     "output_type": "stream",
     "text": [
      "'COF'\n",
      "'COIN'\n",
      "'COLL'\n",
      "'CONE'\n",
      "'CLOU'\n",
      "'CLRG'\n",
      "'CLSK'\n",
      "'CLVT'\n",
      "'CMAX'\n",
      "'CMCSA'\n",
      "'CMPI'\n",
      "'CMSC'\n",
      "'CNBKA'\n"
     ]
    },
    {
     "name": "stderr",
     "output_type": "stream",
     "text": [
      "sleep 3 seconds and retrying https://data.alpaca.markets/v1/bars/day 3 more time(s)...\n"
     ]
    },
    {
     "name": "stdout",
     "output_type": "stream",
     "text": [
      "'CNDA.U'\n",
      "'CNI'\n",
      "'CNO'\n",
      "'CNS'\n",
      "'CNTQU'\n",
      "'COE'\n",
      "'COHU'\n",
      "'COLIU'\n",
      "'CMU'\n",
      "'CNCR'\n",
      "'CNF'\n",
      "'CNNB'\n",
      "'CNQ'\n"
     ]
    },
    {
     "name": "stderr",
     "output_type": "stream",
     "text": [
      "sleep 3 seconds and retrying https://data.alpaca.markets/v1/bars/day 3 more time(s)...\n"
     ]
    },
    {
     "name": "stdout",
     "output_type": "stream",
     "text": [
      "'CNX'\n",
      "'CODA'\n",
      "'COGT'\n",
      "'COLD'\n",
      "'COMM'\n",
      "'CONXU'\n",
      "'COWNL'\n",
      "'CPARU'\n",
      "'COMS'\n",
      "'COOK'\n",
      "'CORR'\n",
      "'COUR'\n",
      "'CP'\n"
     ]
    },
    {
     "name": "stderr",
     "output_type": "stream",
     "text": [
      "sleep 3 seconds and retrying https://data.alpaca.markets/v1/bars/day 3 more time(s)...\n"
     ]
    },
    {
     "name": "stdout",
     "output_type": "stream",
     "text": [
      "'CPE'\n",
      "'CPIX'\n",
      "'CPRX'\n",
      "'CPT'\n",
      "'CPZ'\n",
      "'CRBU'\n",
      "'CREE'\n",
      "'CRHC.U'\n",
      "'CRMD'\n",
      "'CROX'\n",
      "'CRTX'\n",
      "'CRWD'\n",
      "'COUP'\n",
      "'CPB'\n",
      "'CPRT'\n",
      "'CPSS'\n"
     ]
    },
    {
     "name": "stderr",
     "output_type": "stream",
     "text": [
      "sleep 3 seconds and retrying https://data.alpaca.markets/v1/bars/day 3 more time(s)...\n"
     ]
    },
    {
     "name": "stdout",
     "output_type": "stream",
     "text": [
      "'CPUH.U'\n",
      "'CRBP'\n",
      "'CRDL'\n",
      "'CRHC'\n",
      "'CRM'\n",
      "'CRON'\n",
      "'CRTO'\n",
      "'CRVS'\n",
      "'CSA'\n",
      "'CSGP'\n",
      "'CSML'\n",
      "'CSSEN'\n",
      "'CSTR'\n",
      "'AAIC'\n",
      "'CORS.U'\n",
      "'COVAU'\n",
      "'CPAAU'\n"
     ]
    },
    {
     "name": "stderr",
     "output_type": "stream",
     "text": [
      "sleep 3 seconds and retrying https://data.alpaca.markets/v1/bars/day 3 more time(s)...\n"
     ]
    },
    {
     "name": "stdout",
     "output_type": "stream",
     "text": [
      "'CPF'\n",
      "'CPLG'\n",
      "'CPSH'\n",
      "'CPTAL'\n",
      "'CRCT'\n",
      "'CRIS'\n",
      "'CRNC'\n",
      "'CRSP'\n",
      "'CRU.U'\n",
      "'CRXT'\n",
      "'CSBR'\n",
      "'CSIQ'\n"
     ]
    },
    {
     "name": "stderr",
     "output_type": "stream",
     "text": [
      "sleep 3 seconds and retrying https://data.alpaca.markets/v1/bars/day 3 more time(s)...\n"
     ]
    },
    {
     "name": "stdout",
     "output_type": "stream",
     "text": [
      "'CSPR'\n",
      "'CTBB'\n",
      "'COST'\n",
      "'COWN'\n",
      "'CPAR'\n",
      "'CPHC'\n",
      "'CPOP'\n",
      "'CPSR'\n",
      "'CPTK.U'\n",
      "'CRD.B'\n",
      "'CRKN'\n",
      "'CRNX'\n",
      "'CRT'\n",
      "'CRZNU'\n",
      "'CSLT'\n",
      "'CSR'\n",
      "'CSTL'\n"
     ]
    },
    {
     "name": "stderr",
     "output_type": "stream",
     "text": [
      "sleep 3 seconds and retrying https://data.alpaca.markets/v1/bars/day 3 more time(s)...\n"
     ]
    },
    {
     "name": "stdout",
     "output_type": "stream",
     "text": [
      "'CSX'\n",
      "'CPAC'\n",
      "'CPG'\n",
      "'CPLP'\n",
      "'CPSI'\n",
      "'CPTK'\n",
      "'CRAI'\n",
      "'CRD.A'\n",
      "'CREX'\n",
      "'CRK'\n",
      "'CRNT'\n",
      "'CRSR'\n"
     ]
    },
    {
     "name": "stderr",
     "output_type": "stream",
     "text": [
      "sleep 3 seconds and retrying https://data.alpaca.markets/v1/bars/day 3 more time(s)...\n"
     ]
    },
    {
     "name": "stdout",
     "output_type": "stream",
     "text": [
      "'CRUS'\n",
      "'CRZN'\n",
      "'CSCO'\n",
      "'CSL'\n",
      "'CSQ'\n",
      "'CSTE'\n",
      "'CSWI'\n",
      "'CPA'\n",
      "'CPK'\n",
      "'CPS'\n",
      "'CPTAG'\n",
      "'CRC'\n",
      "'CRESY'\n",
      "'CRI'\n",
      "'CRMT'\n",
      "'CRS'\n",
      "'CRU'\n",
      "'CRWS'\n",
      "'CSB'\n",
      "'CSII'\n",
      "'CSPI'\n",
      "'CSTA'\n",
      "'CSV'\n"
     ]
    },
    {
     "name": "stderr",
     "output_type": "stream",
     "text": [
      "sleep 3 seconds and retrying https://data.alpaca.markets/v1/bars/day 3 more time(s)...\n"
     ]
    },
    {
     "name": "stdout",
     "output_type": "stream",
     "text": [
      "'CTAS'\n",
      "'CTIB'\n",
      "'CRVL'\n",
      "'CS'\n",
      "'CSF'\n",
      "'CSSE'\n",
      "'CSTM'\n",
      "'CTAC'\n",
      "'CTEC'\n",
      "'CTLP'\n"
     ]
    },
    {
     "name": "stderr",
     "output_type": "stream",
     "text": [
      "sleep 3 seconds and retrying https://data.alpaca.markets/v1/bars/day 3 more time(s)...\n"
     ]
    },
    {
     "name": "stdout",
     "output_type": "stream",
     "text": [
      "'CTRM'\n",
      "'CTXS'\n",
      "'CUEN'\n",
      "'CURV'\n",
      "'CVCO'\n",
      "'CVI'\n",
      "'CVX'\n",
      "'CTG'\n",
      "'CTLT'\n",
      "'CTRN'\n",
      "'CUBA'\n",
      "'CUK'\n",
      "'CVCY'\n",
      "'CVII'\n",
      "'CVNA'\n",
      "'CWEN'\n"
     ]
    },
    {
     "name": "stderr",
     "output_type": "stream",
     "text": [
      "sleep 3 seconds and retrying https://data.alpaca.markets/v1/bars/day 3 more time(s)...\n"
     ]
    },
    {
     "name": "stdout",
     "output_type": "stream",
     "text": [
      "'CWT'\n",
      "'CXP'\n",
      "'CYRN'\n",
      "'CYXT'\n",
      "'DAC'\n",
      "'DALN'\n",
      "'DARE'\n",
      "'DB'\n",
      "'CTSH'\n",
      "'CUBB'\n",
      "'CULL'\n"
     ]
    },
    {
     "name": "stderr",
     "output_type": "stream",
     "text": [
      "sleep 3 seconds and retrying https://data.alpaca.markets/v1/bars/day 3 more time(s)...\n"
     ]
    },
    {
     "name": "stdout",
     "output_type": "stream",
     "text": [
      "'CUTR'\n",
      "'CVE'\n",
      "'CW'\n",
      "'CWEN.A'\n",
      "'CX'\n",
      "'CXSE'\n",
      "'CYBR'\n",
      "'CYRX'\n",
      "'DADA'\n",
      "'DALS'\n",
      "'DASH'\n",
      "'DDS'\n",
      "'CTXR'\n",
      "'CUE'\n",
      "'CURO'\n",
      "'CVBF'\n",
      "'CVGW'\n",
      "'CVLY'\n",
      "'CVV'\n",
      "'CWCO'\n",
      "'CXH'\n"
     ]
    },
    {
     "name": "stderr",
     "output_type": "stream",
     "text": [
      "sleep 3 seconds and retrying https://data.alpaca.markets/v1/bars/day 3 more time(s)...\n"
     ]
    },
    {
     "name": "stdout",
     "output_type": "stream",
     "text": [
      "'CYD'\n",
      "'CYTO'\n",
      "'CZWI'\n",
      "'DAL'\n",
      "'DAWN'\n",
      "'DBD'\n",
      "'CUBI'\n",
      "'CVA'\n",
      "'CVET'\n",
      "'CVLG'\n",
      "'CVS'\n",
      "'CWBC'\n",
      "'CXDO'\n",
      "'CYAD'\n",
      "'CYCCP'\n"
     ]
    },
    {
     "name": "stderr",
     "output_type": "stream",
     "text": [
      "sleep 3 seconds and retrying https://data.alpaca.markets/v1/bars/day 3 more time(s)...\n"
     ]
    },
    {
     "name": "stdout",
     "output_type": "stream",
     "text": [
      "'CYTH'\n",
      "'CZOO'\n",
      "'DAIO'\n",
      "'DAO'\n",
      "'DCI'\n",
      "'CURI'\n",
      "'CVAC'\n",
      "'CVGI'\n",
      "'CVLT'\n",
      "'CWBR'\n"
     ]
    },
    {
     "name": "stderr",
     "output_type": "stream",
     "text": [
      "sleep 3 seconds and retrying https://data.alpaca.markets/v1/bars/day 3 more time(s)...\n"
     ]
    },
    {
     "name": "stdout",
     "output_type": "stream",
     "text": [
      "'CWK'\n",
      "'CXE'\n",
      "'CYAN'\n",
      "'CYCN'\n",
      "'CYTK'\n",
      "'CZR'\n",
      "'DAKT'\n",
      "'DAN'\n",
      "'DAPP'\n",
      "'DAVA'\n",
      "'CVII.U'\n",
      "'CVRX'\n",
      "'CWH'\n",
      "'CXDC'\n",
      "'CXW'\n"
     ]
    },
    {
     "name": "stderr",
     "output_type": "stream",
     "text": [
      "sleep 3 seconds and retrying https://data.alpaca.markets/v1/bars/day 3 more time(s)...\n"
     ]
    },
    {
     "name": "stdout",
     "output_type": "stream",
     "text": [
      "'CYCC'\n",
      "'CYT'\n",
      "'CZNC'\n",
      "'DATS'\n",
      "'DBI'\n",
      "'DAR'\n",
      "'DAX'\n",
      "'DBDR'\n",
      "'DBTX'\n",
      "'DCPH'\n",
      "'DCTH'\n",
      "'DDI'\n",
      "'DDOG'\n",
      "'DECK'\n",
      "'DEN'\n"
     ]
    },
    {
     "name": "stderr",
     "output_type": "stream",
     "text": [
      "sleep 3 seconds and retrying https://data.alpaca.markets/v1/bars/day 3 more time(s)...\n"
     ]
    },
    {
     "name": "stdout",
     "output_type": "stream",
     "text": [
      "'DFIN'\n",
      "'DFPH'\n",
      "'DGII'\n",
      "'DGRE'\n",
      "'DHCNL'\n",
      "'DCF'\n",
      "'DCRDU'\n",
      "'DDD'\n",
      "'DDT'\n",
      "'DEI'\n",
      "'DGLY'\n",
      "'DGRW'\n",
      "'DHC'\n",
      "'DHHCU'\n",
      "'DCRC'\n",
      "'DCUE'\n",
      "'DDIV'\n",
      "'DENN'\n"
     ]
    },
    {
     "name": "stderr",
     "output_type": "stream",
     "text": [
      "sleep 3 seconds and retrying https://data.alpaca.markets/v1/bars/day 3 more time(s)...\n"
     ]
    },
    {
     "name": "stdout",
     "output_type": "stream",
     "text": [
      "'DEX'\n",
      "'DFPHU'\n",
      "'DHBC'\n",
      "'DHF'\n",
      "'DHT'\n",
      "'DIDI'\n",
      "'DIOD'\n",
      "'DISH'\n",
      "'DELL'\n",
      "'DESP'\n",
      "'DFFN'\n",
      "'DG'\n",
      "'DGNS'\n",
      "'DHCA'\n",
      "'DHI'\n"
     ]
    },
    {
     "name": "stderr",
     "output_type": "stream",
     "text": [
      "sleep 3 seconds and retrying https://data.alpaca.markets/v1/bars/day 3 more time(s)...\n"
     ]
    },
    {
     "name": "stdout",
     "output_type": "stream",
     "text": [
      "'AON'\n",
      "'DEO'\n",
      "'DFS'\n",
      "'DGRS'\n",
      "'DHBCU'\n",
      "'DHHC'\n",
      "'DHX'\n",
      "'DEMZ'\n",
      "'DFP'\n",
      "'DRE'\n",
      "'DFH'\n",
      "'DRIO'\n"
     ]
    },
    {
     "name": "stderr",
     "output_type": "stream",
     "text": [
      "sleep 3 seconds and retrying https://data.alpaca.markets/v1/bars/day 3 more time(s)...\n"
     ]
    },
    {
     "name": "stdout",
     "output_type": "stream",
     "text": [
      "'DRRX'\n",
      "'AAL'\n",
      "'EDI'\n",
      "'EME'\n",
      "'ELVT'\n",
      "'EMB'\n",
      "'ETG'\n",
      "'EWCZ'\n",
      "'EWTX'\n",
      "'EWZS'\n",
      "'EXK'\n",
      "'EXPO'\n",
      "'EYEN'\n",
      "'FACA'\n",
      "'FAMI'\n"
     ]
    },
    {
     "name": "stderr",
     "output_type": "stream",
     "text": [
      "sleep 3 seconds and retrying https://data.alpaca.markets/v1/bars/day 3 more time(s)...\n"
     ]
    },
    {
     "name": "stdout",
     "output_type": "stream",
     "text": [
      "'FBRX'\n",
      "'FCAX'\n",
      "'EXR'\n",
      "'FACT'\n",
      "'FANG'\n",
      "'FAT'\n",
      "'FBIOP'\n",
      "'FBZ'\n",
      "'FCBC'\n",
      "'FBK'\n",
      "'FCA'\n",
      "'FCCY'\n",
      "'FCRX'\n",
      "'FICO'\n",
      "'FDUS'\n",
      "'FEMB'\n",
      "'FFBW'\n",
      "'FFIN'\n",
      "'FGEN'\n",
      "'FHN'\n",
      "'FINX'\n"
     ]
    },
    {
     "name": "stderr",
     "output_type": "stream",
     "text": [
      "sleep 3 seconds and retrying https://data.alpaca.markets/v1/bars/day 3 more time(s)...\n"
     ]
    },
    {
     "name": "stdout",
     "output_type": "stream",
     "text": [
      "'FITBI'\n",
      "'FIVN'\n",
      "'FLME.U'\n",
      "'FLME'\n",
      "'FLO'\n",
      "'FLNG'\n",
      "'FLXS'\n",
      "'FMBI'\n",
      "'AAME'\n",
      "'FMHI'\n",
      "'FMO'\n",
      "'FNX'\n",
      "'FNHC'\n"
     ]
    },
    {
     "name": "stderr",
     "output_type": "stream",
     "text": [
      "sleep 3 seconds and retrying https://data.alpaca.markets/v1/bars/day 3 more time(s)...\n"
     ]
    },
    {
     "name": "stdout",
     "output_type": "stream",
     "text": [
      "'FNWB'\n",
      "'FOF'\n",
      "'FORE'\n",
      "'FOUR'\n",
      "'FPA'\n",
      "'FPXE'\n",
      "'FRC'\n",
      "'FRGAP'\n",
      "'FRO'\n",
      "'FRSGU'\n",
      "'FRWAU'\n"
     ]
    },
    {
     "name": "stderr",
     "output_type": "stream",
     "text": [
      "sleep 3 seconds and retrying https://data.alpaca.markets/v1/bars/day 3 more time(s)...\n"
     ]
    },
    {
     "name": "stdout",
     "output_type": "stream",
     "text": [
      "'FSM'\n",
      "'FSRXU'\n",
      "'FTAA'\n",
      "'FTCV'\n",
      "'FTI'\n",
      "'AAN'\n",
      "'FSTX'\n",
      "'FTAI'\n",
      "'FTFT'\n",
      "'FTLB'\n",
      "'FTS'\n",
      "'FTXD'\n",
      "'FUBO'\n",
      "'FUSE'\n",
      "'FV'\n"
     ]
    },
    {
     "name": "stderr",
     "output_type": "stream",
     "text": [
      "sleep 3 seconds and retrying https://data.alpaca.markets/v1/bars/day 3 more time(s)...\n"
     ]
    },
    {
     "name": "stdout",
     "output_type": "stream",
     "text": [
      "'FVIV'\n",
      "'FWONA'\n",
      "'FZT.U'\n",
      "'FTA'\n",
      "'FTCS'\n",
      "'FTEV'\n",
      "'FTHY'\n",
      "'FTPAU'\n",
      "'FTV'\n",
      "'FTXN'\n",
      "'FULT'\n",
      "'FTEK'\n",
      "'FTHM'\n",
      "'FTPA'\n",
      "'FTSL'\n",
      "'FTXL'"
     ]
    },
    {
     "name": "stderr",
     "output_type": "stream",
     "text": [
      "sleep 3 seconds and retrying https://data.alpaca.markets/v1/bars/day 3 more time(s)...\n"
     ]
    },
    {
     "name": "stdout",
     "output_type": "stream",
     "text": [
      "\n",
      "'FULC'\n",
      "'FUND'\n",
      "'FVC'\n",
      "'FVT'\n",
      "'FWRD'\n",
      "'GCO'\n",
      "'FTGC'\n",
      "'FTXG'\n",
      "'FUN'\n",
      "'FUSE.U'\n",
      "'FVIV.U'\n",
      "'FWONK'\n",
      "'FXNC'\n",
      "'FYBR'\n",
      "'GAINN'\n",
      "'GAMCU'\n"
     ]
    },
    {
     "name": "stderr",
     "output_type": "stream",
     "text": [
      "sleep 3 seconds and retrying https://data.alpaca.markets/v1/bars/day 3 more time(s)...\n"
     ]
    },
    {
     "name": "stdout",
     "output_type": "stream",
     "text": [
      "'GASS'\n",
      "'FTHI'\n",
      "'FTNT'\n",
      "'FTXH'\n",
      "'FTXO'\n",
      "'FUL'\n",
      "'FUNC'\n",
      "'FUSN'\n",
      "'FVAM'\n",
      "'FVRR'\n",
      "'FWP'\n",
      "'FYC'\n"
     ]
    },
    {
     "name": "stderr",
     "output_type": "stream",
     "text": [
      "sleep 3 seconds and retrying https://data.alpaca.markets/v1/bars/day 3 more time(s)...\n"
     ]
    },
    {
     "name": "stdout",
     "output_type": "stream",
     "text": [
      "'GAB'\n",
      "'FTAAU'\n",
      "'FWAC'\n",
      "'FYX'\n",
      "'GACQU'\n",
      "'GAM'\n",
      "'GANX'\n",
      "'GB'\n",
      "'GBL'\n",
      "'GBRG'\n",
      "'GCACU'\n",
      "'GDO'\n",
      "'GECC'\n",
      "'GENY'\n",
      "'GFI'\n"
     ]
    },
    {
     "name": "stderr",
     "output_type": "stream",
     "text": [
      "sleep 3 seconds and retrying https://data.alpaca.markets/v1/bars/day 3 more time(s)...\n"
     ]
    },
    {
     "name": "stdout",
     "output_type": "stream",
     "text": [
      "'GGG'\n",
      "'FZT'\n",
      "'GAIA'\n",
      "'GAMB'\n",
      "'GAPA'\n",
      "'GBAB'\n",
      "'GBLI'\n",
      "'GBRGR'\n",
      "'GCBC'\n",
      "'GCP'\n",
      "'GDRX'\n",
      "'GEF'\n",
      "'GEO'\n"
     ]
    },
    {
     "name": "stderr",
     "output_type": "stream",
     "text": [
      "sleep 3 seconds and retrying https://data.alpaca.markets/v1/bars/day 3 more time(s)...\n"
     ]
    },
    {
     "name": "stdout",
     "output_type": "stream",
     "text": [
      "'GFL'\n",
      "'GGGV'\n",
      "'GGT'\n",
      "'GHM'\n",
      "'GIPRU'\n",
      "'GAINZ'\n",
      "'GAME'\n",
      "'GATO'\n",
      "'GBNH'\n",
      "'GBT'\n",
      "'GCI'\n",
      "'GDEV'\n",
      "'GEL'\n",
      "'GEVO'\n",
      "'GFX'\n",
      "'GGMCU'\n",
      "'GHAC'\n",
      "'GHY'\n"
     ]
    },
    {
     "name": "stderr",
     "output_type": "stream",
     "text": [
      "sleep 3 seconds and retrying https://data.alpaca.markets/v1/bars/day 3 more time(s)...\n"
     ]
    },
    {
     "name": "stdout",
     "output_type": "stream",
     "text": [
      "'GIIX'\n",
      "'GJP'\n",
      "'GLBLU'\n",
      "'GLEO'\n",
      "'GLPI'\n",
      "'GMAB'\n",
      "'GCV'\n",
      "'GDS'\n",
      "'GEF.B'\n",
      "'GERN'\n",
      "'GFLU'\n",
      "'GGGVU'\n",
      "'GGZ'\n",
      "'GHRS'\n",
      "'GIGE'\n",
      "'GIS'\n"
     ]
    },
    {
     "name": "stderr",
     "output_type": "stream",
     "text": [
      "sleep 3 seconds and retrying https://data.alpaca.markets/v1/bars/day 3 more time(s)...\n"
     ]
    },
    {
     "name": "stdout",
     "output_type": "stream",
     "text": [
      "'GLADL'\n",
      "'GLOP'\n",
      "'GMII'\n",
      "'GNACU'\n",
      "'GNMA'\n",
      "'GNW'\n",
      "'GES'\n",
      "'GFOR'\n",
      "'GGMC'\n",
      "'GH'\n",
      "'GHSI'\n",
      "'GNLN'\n",
      "'HOPE'\n",
      "'KBR'\n",
      "'LMT'\n"
     ]
    },
    {
     "name": "stderr",
     "output_type": "stream",
     "text": [
      "sleep 3 seconds and retrying https://data.alpaca.markets/v1/bars/day 3 more time(s)...\n"
     ]
    },
    {
     "name": "stdout",
     "output_type": "stream",
     "text": [
      "'LUB'\n",
      "'ABG'\n",
      "'MCBS'\n",
      "'MCHP'\n",
      "'MCRB'\n",
      "'MDC'\n",
      "'MDLA'\n",
      "'MDRRP'\n",
      "'MED'\n",
      "'MEOAU'\n",
      "'METCL'\n",
      "'MFM'\n"
     ]
    },
    {
     "name": "stderr",
     "output_type": "stream",
     "text": [
      "sleep 3 seconds and retrying https://data.alpaca.markets/v1/bars/day 3 more time(s)...\n"
     ]
    },
    {
     "name": "stdout",
     "output_type": "stream",
     "text": [
      "'MGEE'\n",
      "'MGRC'\n",
      "'MHLA'\n",
      "'MILN'\n",
      "'GFF'\n",
      "'MDRX'\n",
      "'MEDP'\n",
      "'MEOH'\n",
      "'MGF'\n",
      "'MGNI'\n",
      "'MGRD'\n",
      "'MGYR'\n",
      "'MHLD'\n"
     ]
    },
    {
     "name": "stderr",
     "output_type": "stream",
     "text": [
      "sleep 3 seconds and retrying https://data.alpaca.markets/v1/bars/day 3 more time(s)...\n"
     ]
    },
    {
     "name": "stdout",
     "output_type": "stream",
     "text": [
      "'MIDD'\n",
      "'MIME'\n",
      "'MIT.U'\n",
      "'MITT'\n",
      "'MDLZ'\n",
      "'MDWD'\n",
      "'MEACU'\n",
      "'MEI'\n",
      "'MESO'\n",
      "'MF'\n",
      "'MFH'\n",
      "'MG'\n",
      "'MGPI'\n",
      "'MGU'\n",
      "'MHO'\n",
      "'MIRM'\n",
      "'MITC'\n",
      "'MDXG'\n",
      "'MEC'\n",
      "'MELI'\n"
     ]
    },
    {
     "name": "stderr",
     "output_type": "stream",
     "text": [
      "sleep 3 seconds and retrying https://data.alpaca.markets/v1/bars/day 3 more time(s)...\n"
     ]
    },
    {
     "name": "stdout",
     "output_type": "stream",
     "text": [
      "'MFD'\n",
      "'MFL'\n",
      "'MGM'\n",
      "'MGRB'\n",
      "'MGY'\n",
      "'MHK'\n",
      "'MILE'\n",
      "'MINDP'\n",
      "'MIST'\n",
      "'MGTA'\n",
      "'MHD'\n",
      "'MHN'\n",
      "'MITA'\n"
     ]
    },
    {
     "name": "stderr",
     "output_type": "stream",
     "text": [
      "sleep 3 seconds and retrying https://data.alpaca.markets/v1/bars/day 3 more time(s)...\n"
     ]
    },
    {
     "name": "stdout",
     "output_type": "stream",
     "text": [
      "'MIXT'\n",
      "'MKC'\n",
      "'MKTX'\n",
      "'MLHR'\n",
      "'MMC'\n",
      "'MMMB'\n",
      "'MNSB'\n",
      "'MNTX'\n",
      "'MOG.A'\n",
      "'MONCU'\n",
      "'MITO'\n",
      "'MKL'\n",
      "'MLAC'\n",
      "'MLNK'\n",
      "'MMT'\n",
      "'MNDO'\n",
      "'MNPR'\n",
      "'MNTK'\n",
      "'MODN'\n"
     ]
    },
    {
     "name": "stderr",
     "output_type": "stream",
     "text": [
      "sleep 3 seconds and retrying https://data.alpaca.markets/v1/bars/day 3 more time(s)...\n"
     ]
    },
    {
     "name": "stdout",
     "output_type": "stream",
     "text": [
      "'MOLN'\n",
      "'MORN'\n",
      "'MP'\n",
      "'MPLN'\n",
      "'MPX'\n",
      "'MRAM'\n",
      "'NGL'\n",
      "'NJR'\n",
      "'NTST'\n",
      "'OVV'\n"
     ]
    },
    {
     "name": "stderr",
     "output_type": "stream",
     "text": [
      "sleep 3 seconds and retrying https://data.alpaca.markets/v1/bars/day 3 more time(s)...\n"
     ]
    },
    {
     "name": "stdout",
     "output_type": "stream",
     "text": [
      "'OTECU'\n",
      "'ABR'\n",
      "'PLBY'\n",
      "'PRVB'\n",
      "'PZC'\n",
      "'QD'\n",
      "'QGEN'\n",
      "'QQD'\n",
      "'QQQN'\n",
      "'RAD'\n",
      "'RLGY'\n",
      "'RL'\n",
      "'RKT'\n",
      "'SB'\n",
      "'SBR'\n",
      "'AC'\n",
      "'ACAD'\n",
      "'ACM'\n",
      "'ACAH'\n",
      "'TDUP'\n",
      "'TDY'\n",
      "'TEX'\n",
      "'TIOAU'\n",
      "'TIXT'\n",
      "'TLMD'\n"
     ]
    },
    {
     "name": "stderr",
     "output_type": "stream",
     "text": [
      "sleep 3 seconds and retrying https://data.alpaca.markets/v1/bars/day 3 more time(s)...\n"
     ]
    },
    {
     "name": "stdout",
     "output_type": "stream",
     "text": [
      "'TNXP'\n",
      "'TREX'\n",
      "'TRKA'\n",
      "'TRNS'\n",
      "'TRQ'\n",
      "'UTSI'\n",
      "'UVV'\n",
      "'VALE'\n",
      "'VAQC'\n",
      "'VCIF'\n"
     ]
    },
    {
     "name": "stderr",
     "output_type": "stream",
     "text": [
      "sleep 3 seconds and retrying https://data.alpaca.markets/v1/bars/day 3 more time(s)...\n"
     ]
    },
    {
     "name": "stdout",
     "output_type": "stream",
     "text": [
      "'VEI'\n",
      "'VER'\n",
      "'VERY'\n",
      "'VGII'\n",
      "'VIAC'\n",
      "'VICR'\n",
      "'UTMD'\n",
      "'VCTR'\n",
      "'VEDL'\n",
      "'VELOU'\n",
      "'VERI'\n",
      "'VEV'\n",
      "'VGLT'\n",
      "'VIAO'\n"
     ]
    },
    {
     "name": "stderr",
     "output_type": "stream",
     "text": [
      "sleep 3 seconds and retrying https://data.alpaca.markets/v1/bars/day 3 more time(s)...\n"
     ]
    },
    {
     "name": "stdout",
     "output_type": "stream",
     "text": [
      "'VINO'\n",
      "'VIRX'\n",
      "'VIVO'\n",
      "'VLAT'\n",
      "'FXLV'\n",
      "'GRNQ'\n",
      "'ACXP'\n",
      "'ADERU'\n",
      "'BCS'\n",
      "'YAC.U'\n",
      "'YETI'\n",
      "'YMAB'\n",
      "'YOU'\n"
     ]
    },
    {
     "name": "stderr",
     "output_type": "stream",
     "text": [
      "sleep 3 seconds and retrying https://data.alpaca.markets/v1/bars/day 3 more time(s)...\n"
     ]
    },
    {
     "name": "stdout",
     "output_type": "stream",
     "text": [
      "'YQ'\n",
      "'YSAC'\n",
      "'YUMC'\n",
      "'ZBRA'\n",
      "'ZENV'\n",
      "'ZGNX'\n",
      "'MTSI'\n",
      "'ZIOP'\n",
      "'ZLAB'\n",
      "'ZNTL'\n",
      "'BLNG'\n",
      "'ADCT'\n",
      "'ADF.U'\n",
      "'AGNC'\n",
      "'DCP'\n",
      "'SATS'\n",
      "'AMPY'\n",
      "'CLSD'\n",
      "'SQM'\n",
      "'SQNS'\n"
     ]
    },
    {
     "name": "stderr",
     "output_type": "stream",
     "text": [
      "sleep 3 seconds and retrying https://data.alpaca.markets/v1/bars/day 3 more time(s)...\n"
     ]
    },
    {
     "name": "stdout",
     "output_type": "stream",
     "text": [
      "'SQZ'\n",
      "'STLA'\n",
      "'TFFP'\n",
      "'BILL'\n",
      "'PWR'\n",
      "'TMTS'\n",
      "'TMTSU'\n",
      "'TOUR'\n",
      "'TPST'\n",
      "'UDR'\n",
      "'BSCV'\n",
      "'ONON'\n",
      "'RLJ'\n",
      "'TMKR'\n"
     ]
    },
    {
     "name": "stderr",
     "output_type": "stream",
     "text": [
      "sleep 3 seconds and retrying https://data.alpaca.markets/v1/bars/day 3 more time(s)...\n"
     ]
    },
    {
     "name": "stdout",
     "output_type": "stream",
     "text": [
      "'TNC'\n",
      "'TPC'\n",
      "'TPZ'\n",
      "'TRST'\n",
      "'BSMV'\n",
      "'DICE'\n",
      "'HIVE'\n",
      "'KTTA'\n",
      "'STZ'\n",
      "'TMUS'\n",
      "'TRHC'\n",
      "'TVC'\n",
      "'TWCB'\n",
      "'TWCBU'\n"
     ]
    },
    {
     "name": "stderr",
     "output_type": "stream",
     "text": [
      "sleep 3 seconds and retrying https://data.alpaca.markets/v1/bars/day 3 more time(s)...\n"
     ]
    },
    {
     "name": "stdout",
     "output_type": "stream",
     "text": [
      "'TY'\n",
      "'UBCP'\n",
      "'BSJT'\n",
      "'CIIGU'\n",
      "'DH'\n",
      "'SNDL'\n",
      "'TNDM'\n",
      "'TRIP'\n",
      "'TWI'\n",
      "'TWIN'\n",
      "'STL'\n",
      "'TX'\n",
      "'UAE'\n",
      "'UEIC'\n",
      "'UFO'\n"
     ]
    },
    {
     "name": "stderr",
     "output_type": "stream",
     "text": [
      "sleep 3 seconds and retrying https://data.alpaca.markets/v1/bars/day 3 more time(s)...\n"
     ]
    },
    {
     "name": "stdout",
     "output_type": "stream",
     "text": [
      "'UHAL'\n",
      "'UHS'\n",
      "'UK'\n",
      "'UNAM'\n",
      "'UNM'\n",
      "'UNP'\n",
      "'UP'\n",
      "'UPH'\n",
      "'USAU'\n",
      "'CMS'\n",
      "'EZFL'\n",
      "'SIERU'\n"
     ]
    },
    {
     "name": "stderr",
     "output_type": "stream",
     "text": [
      "sleep 3 seconds and retrying https://data.alpaca.markets/v1/bars/day 3 more time(s)...\n"
     ]
    },
    {
     "name": "stdout",
     "output_type": "stream",
     "text": [
      "'UGI'\n",
      "'ULBI'\n",
      "'ULTA'\n",
      "'UPST'\n",
      "'UPTDU'\n",
      "'VPN'\n",
      "'WTFC'\n",
      "'UZE'\n",
      "'VAL'\n",
      "'WEX'\n",
      "'WLL'\n",
      "'LFG'\n",
      "'SONM'\n",
      "'GCMG'\n",
      "'GDEN'\n",
      "'FORG'\n",
      "'GBX'\n",
      "'GEOS'\n",
      "'GER'\n",
      "'GIGGU'\n",
      "'GJO'\n"
     ]
    },
    {
     "name": "stderr",
     "output_type": "stream",
     "text": [
      "sleep 3 seconds and retrying https://data.alpaca.markets/v1/bars/day 3 more time(s)...\n"
     ]
    },
    {
     "name": "stdout",
     "output_type": "stream",
     "text": [
      "'FINS.RTWI'\n",
      "'GDOT'\n",
      "'GGGVR'\n",
      "'GGPI'\n",
      "'GHLD'\n",
      "'GILT'\n",
      "'GLDD'\n",
      "'WRAC'\n",
      "'ALPA'\n",
      "'FLYA.U'\n",
      "'GECCO'\n",
      "'GIB'\n"
     ]
    },
    {
     "name": "stderr",
     "output_type": "stream",
     "text": [
      "sleep 3 seconds and retrying https://data.alpaca.markets/v1/bars/day 3 more time(s)...\n"
     ]
    },
    {
     "name": "stdout",
     "output_type": "stream",
     "text": [
      "'GJH'\n",
      "'GLEO.U'\n",
      "'GLHA'\n",
      "'GNAC'\n",
      "'JUPW'\n",
      "'NICE'\n",
      "'NRG'\n",
      "'NTB'\n",
      "'NUWE'\n",
      "'OC'\n",
      "'OSPN'\n",
      "'GECCM'\n",
      "'GECCN'\n"
     ]
    },
    {
     "name": "stderr",
     "output_type": "stream",
     "text": [
      "sleep 3 seconds and retrying https://data.alpaca.markets/v1/bars/day 3 more time(s)...\n"
     ]
    },
    {
     "name": "stdout",
     "output_type": "stream",
     "text": [
      "'GENE'\n",
      "'GHG'\n",
      "'GKOS'\n",
      "'GLNG'\n",
      "'GLOB'\n",
      "'GLTO'\n",
      "'GNL'\n",
      "'GENC'\n",
      "'GIM'\n",
      "'GLBE'\n",
      "'GLRE'\n",
      "'GLSI'\n",
      "'GLW'\n",
      "'GM'\n"
     ]
    },
    {
     "name": "stderr",
     "output_type": "stream",
     "text": [
      "sleep 3 seconds and retrying https://data.alpaca.markets/v1/bars/day 3 more time(s)...\n"
     ]
    },
    {
     "name": "stdout",
     "output_type": "stream",
     "text": [
      "'GDDY'\n",
      "'GFOR.U'\n",
      "'GGM'\n",
      "'GIWWU'\n",
      "'GLAQU'\n",
      "'GLBL'\n",
      "'GME'\n",
      "'ABM'\n",
      "'GFX.U'\n",
      "'GILD'\n",
      "'GL'\n",
      "'GLP'\n",
      "'OXSQL'\n",
      "'PANA'\n",
      "'DNA'\n",
      "'MEAC'\n",
      "'APTM'\n",
      "'ACHR'\n",
      "'BLUA'\n",
      "'QRHC'\n",
      "'QSI'\n"
     ]
    },
    {
     "name": "stderr",
     "output_type": "stream",
     "text": [
      "sleep 3 seconds and retrying https://data.alpaca.markets/v1/bars/day 3 more time(s)...\n"
     ]
    },
    {
     "name": "stdout",
     "output_type": "stream",
     "text": [
      "'QTR'\n",
      "'QUIK'\n",
      "'RDUS'\n",
      "'REAL'\n",
      "'RENN'\n",
      "'REVG'\n",
      "'RFP'\n",
      "'SPFR.U'\n",
      "'SPH'\n",
      "'TINV'\n",
      "'TLRY'\n",
      "'TM'\n"
     ]
    },
    {
     "name": "stderr",
     "output_type": "stream",
     "text": [
      "sleep 3 seconds and retrying https://data.alpaca.markets/v1/bars/day 3 more time(s)...\n"
     ]
    },
    {
     "name": "stdout",
     "output_type": "stream",
     "text": [
      "'TSN'\n",
      "'TSRI'\n",
      "'TTE'\n",
      "'TTOO'\n",
      "'TUFN'\n",
      "'TUSK'\n",
      "'UBS'\n",
      "'UCBI'\n",
      "'TTNP'\n",
      "'TUEM'\n",
      "'TTSH'\n",
      "'TUGCU'\n"
     ]
    },
    {
     "name": "stderr",
     "output_type": "stream",
     "text": [
      "sleep 3 seconds and retrying https://data.alpaca.markets/v1/bars/day 3 more time(s)...\n"
     ]
    },
    {
     "name": "stdout",
     "output_type": "stream",
     "text": [
      "'TV'\n",
      "'TVTY'\n",
      "'TWND'\n",
      "'TZPSU'\n",
      "'TUSA'\n",
      "'TVE'\n",
      "'TWLVU'\n",
      "'TWNK'\n",
      "'TWO'\n",
      "'TWOU'\n",
      "'TXN'\n",
      "'TXT'\n",
      "'TZOO'\n",
      "'TYHT'\n",
      "'TYME'\n",
      "'UAL'\n",
      "'UBER'\n"
     ]
    },
    {
     "name": "stderr",
     "output_type": "stream",
     "text": [
      "sleep 3 seconds and retrying https://data.alpaca.markets/v1/bars/day 3 more time(s)...\n"
     ]
    },
    {
     "name": "stdout",
     "output_type": "stream",
     "text": [
      "'TYG'\n",
      "'TYL'\n",
      "'U'\n",
      "'UBOH'\n",
      "'UBSI'\n",
      "'UCBIO'\n",
      "'UFS'\n",
      "'UGIC'\n",
      "'UHT'\n",
      "'UAA'\n",
      "'UBA'\n"
     ]
    },
    {
     "name": "stderr",
     "output_type": "stream",
     "text": [
      "sleep 3 seconds and retrying https://data.alpaca.markets/v1/bars/day 3 more time(s)...\n"
     ]
    },
    {
     "name": "stdout",
     "output_type": "stream",
     "text": [
      "'UBFO'\n",
      "'UBP'\n",
      "'UG'\n",
      "'VCKA'\n",
      "'VECO'\n",
      "'VENAU'\n",
      "'VERU'\n",
      "'VFC'\n",
      "'VGIT'\n",
      "'VIA'\n",
      "'VIH'\n",
      "'OGE'\n",
      "'W'\n",
      "'ZNH'\n",
      "'APAC'\n",
      "'NI'\n",
      "'SMID'\n",
      "'SNOW'\n",
      "'HBI'\n",
      "'ZYNE'\n",
      "'SIRI'\n",
      "'SLRC'\n",
      "'SYY'\n"
     ]
    },
    {
     "name": "stderr",
     "output_type": "stream",
     "text": [
      "sleep 3 seconds and retrying https://data.alpaca.markets/v1/bars/day 3 more time(s)...\n"
     ]
    },
    {
     "name": "stdout",
     "output_type": "stream",
     "text": [
      "'ABCL'\n",
      "'ABIO'\n",
      "'ACRO.U'\n",
      "'AEIS'\n",
      "'BNIXU'\n",
      "'SOXQ'\n",
      "'AAC.U'\n",
      "'AAWW'\n",
      "'ABNB'\n",
      "'ABCM'\n",
      "'ACRS'\n",
      "'AEL'\n",
      "'ASIX'\n",
      "'DCO'\n"
     ]
    },
    {
     "name": "stderr",
     "output_type": "stream",
     "text": [
      "sleep 3 seconds and retrying https://data.alpaca.markets/v1/bars/day 3 more time(s)...\n"
     ]
    },
    {
     "name": "stdout",
     "output_type": "stream",
     "text": [
      "'ABMD'\n",
      "'AEM'\n",
      "'ALL'\n",
      "'ALTM'\n",
      "'EBF'\n",
      "'SRAD'\n",
      "'IP.WI'\n",
      "'BTCS'\n",
      "'GIFI'\n",
      "'GOAC.U'\n",
      "'IBTA'\n",
      "'JPM'\n"
     ]
    },
    {
     "name": "stderr",
     "output_type": "stream",
     "text": [
      "sleep 3 seconds and retrying https://data.alpaca.markets/v1/bars/day 3 more time(s)...\n"
     ]
    },
    {
     "name": "stdout",
     "output_type": "stream",
     "text": [
      "'LFTRU'\n",
      "'MBWM'\n",
      "'MDT'\n",
      "'MICT'\n",
      "'MNRO'\n",
      "'MSA'\n",
      "'NCR'\n",
      "'NDP'\n",
      "'NRBO'\n",
      "'NUS'\n",
      "'OUT'\n",
      "'PD'\n",
      "'PKX'\n",
      "'QCLN'\n"
     ]
    },
    {
     "name": "stderr",
     "output_type": "stream",
     "text": [
      "sleep 3 seconds and retrying https://data.alpaca.markets/v1/bars/day 3 more time(s)...\n"
     ]
    },
    {
     "name": "stdout",
     "output_type": "stream",
     "text": [
      "'QYLG'\n",
      "'SFB'\n",
      "'SHG'\n",
      "'SND'\n",
      "'SSBI'\n",
      "'TA'\n",
      "'TRC'\n",
      "'TREB'\n",
      "'TS'\n",
      "'VTC'\n",
      "'WDAY'\n",
      "'WDC'\n",
      "'WMS'\n",
      "'WNC'\n",
      "'WSM'\n",
      "'CREG'\n",
      "'CSCW'\n",
      "'DXYN'\n",
      "'BFRA'\n",
      "'BLRX'\n",
      "'CCNC'\n",
      "'CNTB'\n"
     ]
    },
    {
     "name": "stderr",
     "output_type": "stream",
     "text": [
      "sleep 3 seconds and retrying https://data.alpaca.markets/v1/bars/day 3 more time(s)...\n"
     ]
    },
    {
     "name": "stdout",
     "output_type": "stream",
     "text": [
      "'DSEY'\n",
      "'EQS'\n",
      "'EVAX'\n",
      "'MCADR'\n",
      "'UONEK'\n",
      "'BRPM'\n",
      "'FSRX'\n",
      "'ARTAU'\n",
      "'CFVI'\n",
      "'ABB'\n",
      "'ACCO'\n",
      "'AN'\n",
      "'EVR'\n",
      "'FCN'\n",
      "'GPRK'\n",
      "'HFRO'\n"
     ]
    },
    {
     "name": "stderr",
     "output_type": "stream",
     "text": [
      "sleep 3 seconds and retrying https://data.alpaca.markets/v1/bars/day 3 more time(s)...\n"
     ]
    },
    {
     "name": "stdout",
     "output_type": "stream",
     "text": [
      "'IVZ'\n",
      "'KT'\n",
      "'KZR'\n",
      "'MCK'\n",
      "'PRFT'\n",
      "'QTWO'\n",
      "'QUAD'\n",
      "'SAFT'\n",
      "'STE'\n",
      "'TK'\n",
      "'VBF'\n"
     ]
    },
    {
     "name": "stderr",
     "output_type": "stream",
     "text": [
      "sleep 3 seconds and retrying https://data.alpaca.markets/v1/bars/day 3 more time(s)...\n"
     ]
    },
    {
     "name": "stdout",
     "output_type": "stream",
     "text": [
      "'XEC'\n",
      "'AEY'\n",
      "'ATKR'\n",
      "'AWI'\n",
      "'BKU'\n",
      "'BMO'\n",
      "'BRC'\n",
      "'BRT'\n",
      "'CBIO'\n",
      "'CIZN'\n",
      "'CTAQ'\n",
      "'ESNT'\n",
      "'EVT'\n",
      "'FGBI'\n",
      "'G'\n"
     ]
    },
    {
     "name": "stderr",
     "output_type": "stream",
     "text": [
      "sleep 3 seconds and retrying https://data.alpaca.markets/v1/bars/day 3 more time(s)...\n"
     ]
    },
    {
     "name": "stdout",
     "output_type": "stream",
     "text": [
      "'GPC'\n",
      "'GWB'\n",
      "'ICLR'\n",
      "'ITT'\n",
      "'KB'\n",
      "'LBTYB'\n",
      "'LEJU'\n",
      "'MOR'\n",
      "'OLK'\n",
      "'PCGU'\n",
      "'PGRW'\n",
      "'RGCO'\n",
      "'ROST'\n",
      "'SHAK'\n",
      "'SXT'\n",
      "'VRT'\n"
     ]
    },
    {
     "name": "stderr",
     "output_type": "stream",
     "text": [
      "sleep 3 seconds and retrying https://data.alpaca.markets/v1/bars/day 3 more time(s)...\n"
     ]
    },
    {
     "name": "stdout",
     "output_type": "stream",
     "text": [
      "'A'\n",
      "'AA'\n",
      "'ALTA'\n",
      "'ALTG'\n",
      "'BCDA'\n",
      "'BMA'\n",
      "'CAAS'\n",
      "'DRD'\n",
      "'FTSM'\n",
      "'GATX'\n",
      "'JNJ'\n",
      "'MBIN'\n",
      "'MDIA'\n"
     ]
    },
    {
     "name": "stderr",
     "output_type": "stream",
     "text": [
      "sleep 3 seconds and retrying https://data.alpaca.markets/v1/bars/day 3 more time(s)...\n"
     ]
    },
    {
     "name": "stdout",
     "output_type": "stream",
     "text": [
      "'METC'\n",
      "'MFA'\n",
      "'NYMX'\n",
      "'OFG'\n",
      "'PBF'\n",
      "'PEBK'\n",
      "'RLI'\n",
      "'SPGI'\n",
      "'SPXC'\n",
      "'WMT'\n"
     ]
    }
   ],
   "source": [
    "price_info= []\n",
    "count = 0\n",
    "d = 0\n",
    "for i in tckr:\n",
    "    try:\n",
    "        \n",
    "        barset = api.get_barset(f'{i}', 'day', limit=400)\n",
    "        d=0\n",
    "#         pprint(barset['AMRC'][0].v)\n",
    "#         break\n",
    "        for f in range(len(barset[i])):         \n",
    "            try:\n",
    "                tckr_infoopening = barset[i][d].o\n",
    "                tckr_infoClosing = barset[i][d].c\n",
    "                tckr_infoHigh = barset[i][d].h\n",
    "                tckr_infoLow = barset[i][d].l \n",
    "                tckr_infoVol = barset[i][d].v \n",
    "                d+=1\n",
    "                tckr_infoNHigh = barset[i][d].h\n",
    "\n",
    "\n",
    "                info = {'Ticker':f'{i}',\n",
    "                                'opening':tckr_infoopening,\n",
    "                                'closing':tckr_infoClosing,\n",
    "                                'NextHigh':tckr_infoNHigh,\n",
    "                                'high':tckr_infoHigh,\n",
    "                                'low':tckr_infoLow,\n",
    "                                'vol':tckr_infoVol}\n",
    "                price_info.append(info)\n",
    "            except:\n",
    "                pass\n",
    "\n",
    "        pprint(i)\n",
    "\n",
    "        count+=1\n",
    "    except:\n",
    "        count+=1\n",
    "        \n",
    "        print(f'result error{i}')\n",
    "        pass"
   ]
  },
  {
   "cell_type": "code",
   "execution_count": 29,
   "id": "4af2833a",
   "metadata": {},
   "outputs": [
    {
     "data": {
      "text/html": [
       "<div>\n",
       "<style scoped>\n",
       "    .dataframe tbody tr th:only-of-type {\n",
       "        vertical-align: middle;\n",
       "    }\n",
       "\n",
       "    .dataframe tbody tr th {\n",
       "        vertical-align: top;\n",
       "    }\n",
       "\n",
       "    .dataframe thead th {\n",
       "        text-align: right;\n",
       "    }\n",
       "</style>\n",
       "<table border=\"1\" class=\"dataframe\">\n",
       "  <thead>\n",
       "    <tr style=\"text-align: right;\">\n",
       "      <th></th>\n",
       "      <th>Ticker</th>\n",
       "      <th>opening</th>\n",
       "      <th>closing</th>\n",
       "      <th>NextHigh</th>\n",
       "      <th>high</th>\n",
       "      <th>low</th>\n",
       "      <th>vol</th>\n",
       "    </tr>\n",
       "  </thead>\n",
       "  <tbody>\n",
       "    <tr>\n",
       "      <th>0</th>\n",
       "      <td>AMRC</td>\n",
       "      <td>16.36</td>\n",
       "      <td>16.550</td>\n",
       "      <td>17.810</td>\n",
       "      <td>17.490</td>\n",
       "      <td>15.9700</td>\n",
       "      <td>179797</td>\n",
       "    </tr>\n",
       "    <tr>\n",
       "      <th>1</th>\n",
       "      <td>AMRC</td>\n",
       "      <td>16.76</td>\n",
       "      <td>17.420</td>\n",
       "      <td>16.840</td>\n",
       "      <td>17.810</td>\n",
       "      <td>16.4400</td>\n",
       "      <td>152424</td>\n",
       "    </tr>\n",
       "    <tr>\n",
       "      <th>2</th>\n",
       "      <td>AMRC</td>\n",
       "      <td>16.84</td>\n",
       "      <td>14.800</td>\n",
       "      <td>17.320</td>\n",
       "      <td>16.840</td>\n",
       "      <td>14.7800</td>\n",
       "      <td>207826</td>\n",
       "    </tr>\n",
       "    <tr>\n",
       "      <th>3</th>\n",
       "      <td>AMRC</td>\n",
       "      <td>15.00</td>\n",
       "      <td>16.905</td>\n",
       "      <td>17.500</td>\n",
       "      <td>17.320</td>\n",
       "      <td>14.8882</td>\n",
       "      <td>224161</td>\n",
       "    </tr>\n",
       "    <tr>\n",
       "      <th>4</th>\n",
       "      <td>AMRC</td>\n",
       "      <td>16.59</td>\n",
       "      <td>16.970</td>\n",
       "      <td>16.900</td>\n",
       "      <td>17.500</td>\n",
       "      <td>15.9400</td>\n",
       "      <td>181536</td>\n",
       "    </tr>\n",
       "    <tr>\n",
       "      <th>...</th>\n",
       "      <td>...</td>\n",
       "      <td>...</td>\n",
       "      <td>...</td>\n",
       "      <td>...</td>\n",
       "      <td>...</td>\n",
       "      <td>...</td>\n",
       "      <td>...</td>\n",
       "    </tr>\n",
       "    <tr>\n",
       "      <th>2420685</th>\n",
       "      <td>WMT</td>\n",
       "      <td>140.62</td>\n",
       "      <td>140.530</td>\n",
       "      <td>142.005</td>\n",
       "      <td>141.095</td>\n",
       "      <td>139.9600</td>\n",
       "      <td>4402389</td>\n",
       "    </tr>\n",
       "    <tr>\n",
       "      <th>2420686</th>\n",
       "      <td>WMT</td>\n",
       "      <td>139.92</td>\n",
       "      <td>141.680</td>\n",
       "      <td>145.610</td>\n",
       "      <td>142.005</td>\n",
       "      <td>139.8300</td>\n",
       "      <td>4983112</td>\n",
       "    </tr>\n",
       "    <tr>\n",
       "      <th>2420687</th>\n",
       "      <td>WMT</td>\n",
       "      <td>144.63</td>\n",
       "      <td>144.700</td>\n",
       "      <td>146.490</td>\n",
       "      <td>145.610</td>\n",
       "      <td>143.6600</td>\n",
       "      <td>9813002</td>\n",
       "    </tr>\n",
       "    <tr>\n",
       "      <th>2420688</th>\n",
       "      <td>WMT</td>\n",
       "      <td>144.80</td>\n",
       "      <td>146.030</td>\n",
       "      <td>146.915</td>\n",
       "      <td>146.490</td>\n",
       "      <td>144.8900</td>\n",
       "      <td>4963405</td>\n",
       "    </tr>\n",
       "    <tr>\n",
       "      <th>2420689</th>\n",
       "      <td>WMT</td>\n",
       "      <td>146.58</td>\n",
       "      <td>146.810</td>\n",
       "      <td>149.690</td>\n",
       "      <td>146.915</td>\n",
       "      <td>145.8100</td>\n",
       "      <td>3848287</td>\n",
       "    </tr>\n",
       "  </tbody>\n",
       "</table>\n",
       "<p>2420690 rows × 7 columns</p>\n",
       "</div>"
      ],
      "text/plain": [
       "        Ticker  opening  closing  NextHigh     high       low      vol\n",
       "0         AMRC    16.36   16.550    17.810   17.490   15.9700   179797\n",
       "1         AMRC    16.76   17.420    16.840   17.810   16.4400   152424\n",
       "2         AMRC    16.84   14.800    17.320   16.840   14.7800   207826\n",
       "3         AMRC    15.00   16.905    17.500   17.320   14.8882   224161\n",
       "4         AMRC    16.59   16.970    16.900   17.500   15.9400   181536\n",
       "...        ...      ...      ...       ...      ...       ...      ...\n",
       "2420685    WMT   140.62  140.530   142.005  141.095  139.9600  4402389\n",
       "2420686    WMT   139.92  141.680   145.610  142.005  139.8300  4983112\n",
       "2420687    WMT   144.63  144.700   146.490  145.610  143.6600  9813002\n",
       "2420688    WMT   144.80  146.030   146.915  146.490  144.8900  4963405\n",
       "2420689    WMT   146.58  146.810   149.690  146.915  145.8100  3848287\n",
       "\n",
       "[2420690 rows x 7 columns]"
      ]
     },
     "execution_count": 29,
     "metadata": {},
     "output_type": "execute_result"
    }
   ],
   "source": [
    "df = pd.DataFrame(price_info)\n",
    "df"
   ]
  },
  {
   "cell_type": "code",
   "execution_count": 30,
   "id": "36fe9f55",
   "metadata": {},
   "outputs": [],
   "source": [
    "df.to_csv(r'../Machine_learning/total_us_stock_data400_daysccV.csv', index = False)"
   ]
  },
  {
   "cell_type": "code",
   "execution_count": null,
   "id": "a0f38385",
   "metadata": {},
   "outputs": [],
   "source": []
  }
 ],
 "metadata": {
  "kernelspec": {
   "display_name": "Python 3",
   "language": "python",
   "name": "python3"
  },
  "language_info": {
   "codemirror_mode": {
    "name": "ipython",
    "version": 3
   },
   "file_extension": ".py",
   "mimetype": "text/x-python",
   "name": "python",
   "nbconvert_exporter": "python",
   "pygments_lexer": "ipython3",
   "version": "3.8.11"
  }
 },
 "nbformat": 4,
 "nbformat_minor": 5
}
