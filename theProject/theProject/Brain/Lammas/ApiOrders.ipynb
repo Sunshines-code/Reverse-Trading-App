{
 "cells": [
  {
   "cell_type": "code",
   "execution_count": 2,
   "id": "bd2b7c1f",
   "metadata": {},
   "outputs": [],
   "source": [
    "import alpaca_trade_api as tradeapi"
   ]
  },
  {
   "cell_type": "code",
   "execution_count": 3,
   "id": "9c415ed4",
   "metadata": {},
   "outputs": [],
   "source": [
    "api_key = 'AKHME2093RBNAQYHPUAV'\n",
    "base_url = 'https://api.alpaca.markets'\n",
    "secret_key = 'bEWXQSpd8FHvzZgH5LFZGv0s1iPYJjOYHF5nX3LI'"
   ]
  },
  {
   "cell_type": "code",
   "execution_count": 4,
   "id": "e5bf5e92",
   "metadata": {},
   "outputs": [
    {
     "ename": "SyntaxError",
     "evalue": "invalid syntax (<ipython-input-4-fb47e27cefc4>, line 1)",
     "output_type": "error",
     "traceback": [
      "\u001b[0;36m  File \u001b[0;32m\"<ipython-input-4-fb47e27cefc4>\"\u001b[0;36m, line \u001b[0;32m1\u001b[0m\n\u001b[0;31m    def buy(self, str(symbol, int(allocation)):\u001b[0m\n\u001b[0m                     ^\u001b[0m\n\u001b[0;31mSyntaxError\u001b[0m\u001b[0;31m:\u001b[0m invalid syntax\n"
     ]
    }
   ],
   "source": [
    "def buy(self, str(symbol, int(allocation)):\n",
    "        "
   ]
  },
  {
   "cell_type": "code",
   "execution_count": 5,
   "id": "521b8590",
   "metadata": {},
   "outputs": [],
   "source": [
    "api = tradeapi.REST(api_key, secret_key)\n"
   ]
  },
  {
   "cell_type": "code",
   "execution_count": 6,
   "id": "2f87d122",
   "metadata": {},
   "outputs": [],
   "source": [
    "account = api.get_account()"
   ]
  },
  {
   "cell_type": "code",
   "execution_count": 38,
   "id": "c26c4473",
   "metadata": {},
   "outputs": [
    {
     "data": {
      "text/plain": [
       "'14500'"
      ]
     },
     "execution_count": 38,
     "metadata": {},
     "output_type": "execute_result"
    }
   ],
   "source": [
    "account.buying_power"
   ]
  },
  {
   "cell_type": "code",
   "execution_count": 30,
   "id": "0913e487",
   "metadata": {},
   "outputs": [],
   "source": [
    "\n"
   ]
  },
  {
   "cell_type": "code",
   "execution_count": null,
   "id": "46c8f1ca",
   "metadata": {},
   "outputs": [],
   "source": []
  },
  {
   "cell_type": "code",
   "execution_count": null,
   "id": "1129b908",
   "metadata": {},
   "outputs": [],
   "source": []
  },
  {
   "cell_type": "code",
   "execution_count": null,
   "id": "b6dce334",
   "metadata": {},
   "outputs": [],
   "source": []
  }
 ],
 "metadata": {
  "kernelspec": {
   "display_name": "Python 3",
   "language": "python",
   "name": "python3"
  },
  "language_info": {
   "codemirror_mode": {
    "name": "ipython",
    "version": 3
   },
   "file_extension": ".py",
   "mimetype": "text/x-python",
   "name": "python",
   "nbconvert_exporter": "python",
   "pygments_lexer": "ipython3",
   "version": "3.8.11"
  }
 },
 "nbformat": 4,
 "nbformat_minor": 5
}
