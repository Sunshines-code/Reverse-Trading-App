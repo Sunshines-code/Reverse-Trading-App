{
 "cells": [
  {
   "cell_type": "code",
   "execution_count": 41,
   "metadata": {},
   "outputs": [
    {
     "ename": "FileNotFoundError",
     "evalue": "[Errno 2] No such file or directory: 'oneDayHighModel.joblib'",
     "output_type": "error",
     "traceback": [
      "\u001b[0;31m---------------------------------------------------------------------------\u001b[0m",
      "\u001b[0;31mFileNotFoundError\u001b[0m                         Traceback (most recent call last)",
      "\u001b[0;32m<ipython-input-41-d2595cbe1970>\u001b[0m in \u001b[0;36m<module>\u001b[0;34m\u001b[0m\n\u001b[1;32m      8\u001b[0m \u001b[0;32mimport\u001b[0m \u001b[0mpandas\u001b[0m \u001b[0;32mas\u001b[0m \u001b[0mpd\u001b[0m\u001b[0;34m\u001b[0m\u001b[0;34m\u001b[0m\u001b[0m\n\u001b[1;32m      9\u001b[0m \u001b[0;32mfrom\u001b[0m \u001b[0mjoblib\u001b[0m \u001b[0;32mimport\u001b[0m \u001b[0mdump\u001b[0m\u001b[0;34m,\u001b[0m \u001b[0mload\u001b[0m\u001b[0;34m\u001b[0m\u001b[0;34m\u001b[0m\u001b[0m\n\u001b[0;32m---> 10\u001b[0;31m \u001b[0mmodel\u001b[0m \u001b[0;34m=\u001b[0m \u001b[0mload\u001b[0m\u001b[0;34m(\u001b[0m\u001b[0;34m'oneDayHighModel.joblib'\u001b[0m\u001b[0;34m)\u001b[0m\u001b[0;34m\u001b[0m\u001b[0;34m\u001b[0m\u001b[0m\n\u001b[0m\u001b[1;32m     11\u001b[0m \u001b[0mX_scaler\u001b[0m \u001b[0;34m=\u001b[0m \u001b[0mload\u001b[0m\u001b[0;34m(\u001b[0m\u001b[0;34m'oneDayHighModelX_scaler.joblib'\u001b[0m\u001b[0;34m)\u001b[0m\u001b[0;34m\u001b[0m\u001b[0;34m\u001b[0m\u001b[0m\n\u001b[1;32m     12\u001b[0m \u001b[0my_scaler\u001b[0m \u001b[0;34m=\u001b[0m \u001b[0mload\u001b[0m\u001b[0;34m(\u001b[0m\u001b[0;34m'oneDayHighModely_scaler.joblib'\u001b[0m\u001b[0;34m)\u001b[0m\u001b[0;34m\u001b[0m\u001b[0;34m\u001b[0m\u001b[0m\n",
      "\u001b[0;32m~/opt/anaconda3/lib/python3.8/site-packages/joblib/numpy_pickle.py\u001b[0m in \u001b[0;36mload\u001b[0;34m(filename, mmap_mode)\u001b[0m\n\u001b[1;32m    575\u001b[0m             \u001b[0mobj\u001b[0m \u001b[0;34m=\u001b[0m \u001b[0m_unpickle\u001b[0m\u001b[0;34m(\u001b[0m\u001b[0mfobj\u001b[0m\u001b[0;34m)\u001b[0m\u001b[0;34m\u001b[0m\u001b[0;34m\u001b[0m\u001b[0m\n\u001b[1;32m    576\u001b[0m     \u001b[0;32melse\u001b[0m\u001b[0;34m:\u001b[0m\u001b[0;34m\u001b[0m\u001b[0;34m\u001b[0m\u001b[0m\n\u001b[0;32m--> 577\u001b[0;31m         \u001b[0;32mwith\u001b[0m \u001b[0mopen\u001b[0m\u001b[0;34m(\u001b[0m\u001b[0mfilename\u001b[0m\u001b[0;34m,\u001b[0m \u001b[0;34m'rb'\u001b[0m\u001b[0;34m)\u001b[0m \u001b[0;32mas\u001b[0m \u001b[0mf\u001b[0m\u001b[0;34m:\u001b[0m\u001b[0;34m\u001b[0m\u001b[0;34m\u001b[0m\u001b[0m\n\u001b[0m\u001b[1;32m    578\u001b[0m             \u001b[0;32mwith\u001b[0m \u001b[0m_read_fileobject\u001b[0m\u001b[0;34m(\u001b[0m\u001b[0mf\u001b[0m\u001b[0;34m,\u001b[0m \u001b[0mfilename\u001b[0m\u001b[0;34m,\u001b[0m \u001b[0mmmap_mode\u001b[0m\u001b[0;34m)\u001b[0m \u001b[0;32mas\u001b[0m \u001b[0mfobj\u001b[0m\u001b[0;34m:\u001b[0m\u001b[0;34m\u001b[0m\u001b[0;34m\u001b[0m\u001b[0m\n\u001b[1;32m    579\u001b[0m                 \u001b[0;32mif\u001b[0m \u001b[0misinstance\u001b[0m\u001b[0;34m(\u001b[0m\u001b[0mfobj\u001b[0m\u001b[0;34m,\u001b[0m \u001b[0mstr\u001b[0m\u001b[0;34m)\u001b[0m\u001b[0;34m:\u001b[0m\u001b[0;34m\u001b[0m\u001b[0;34m\u001b[0m\u001b[0m\n",
      "\u001b[0;31mFileNotFoundError\u001b[0m: [Errno 2] No such file or directory: 'oneDayHighModel.joblib'"
     ]
    }
   ],
   "source": [
    "from sklearn.datasets import make_regression\n",
    "from sklearn.linear_model import LinearRegression\n",
    "from sklearn.model_selection import train_test_split\n",
    "from sklearn.preprocessing import StandardScaler\n",
    "from sklearn.metrics import mean_squared_error\n",
    "import json\n",
    "import pprint as pprint\n",
    "import pandas as pd\n",
    "from joblib import dump, load\n",
    "model = load('oneDayHighModel.joblib')\n",
    "X_scaler = load('oneDayHighModelX_scaler.joblib')\n",
    "y_scaler = load('oneDayHighModely_scaler.joblib')\n",
    "import alpaca_trade_api as tradeapi\n",
    "import pandas as pd\n",
    "api_key = 'AKHME2093RBNAQYHPUAV'\n",
    "base_url = 'https://api.alpaca.markets'\n",
    "secret_key = 'bEWXQSpd8FHvzZgH5LFZGv0s1iPYJjOYHF5nX3LI'\n",
    "api = tradeapi.REST(api_key, secret_key)\n",
    "account = api.get_account()\n",
    "pp = account.cash\n",
    "pp"
   ]
  },
  {
   "cell_type": "code",
   "execution_count": null,
   "metadata": {},
   "outputs": [],
   "source": [
    "fdf = pd.read_csv('./dayInfo.csv')\n",
    "fdf = pd.DataFrame(fdf)\n",
    "fX = fdf[['opening', 'closing', 'high', 'low']]\n",
    "sc_new_in = X_scaler.transform(fX)\n",
    "new_out = model.predict(sc_new_in)\n",
    "new_out = y_scaler.inverse_transform(new_out)\n",
    "fdf[\"next_high\"]= new_out\n",
    "fdf[\"change\"]= fdf['next_high']/fdf[\"closing\"]*100-100\n",
    "rdf = fdf.sort_values(by=['change'], axis=0, ignore_index=True, inplace=False, ascending = False)\n",
    "purchase_list = rdf.head(3)\n",
    "purchaseCsv =pd.DataFrame({ 'Ticker':purchase_list['Ticker'], 'low': purchase_list['low']})\n",
    "purchaseCsv.to_csv(r'../Machine_learning/purchaseCsv.csv', index = False)"
   ]
  },
  {
   "cell_type": "code",
   "execution_count": 40,
   "metadata": {},
   "outputs": [
    {
     "ename": "NameError",
     "evalue": "name 'purchaseCsv' is not defined",
     "output_type": "error",
     "traceback": [
      "\u001b[0;31m---------------------------------------------------------------------------\u001b[0m",
      "\u001b[0;31mNameError\u001b[0m                                 Traceback (most recent call last)",
      "\u001b[0;32m<ipython-input-40-ac9a7a366e20>\u001b[0m in \u001b[0;36m<module>\u001b[0;34m\u001b[0m\n\u001b[0;32m----> 1\u001b[0;31m \u001b[0mbuy_list\u001b[0m \u001b[0;34m=\u001b[0m \u001b[0mpurchaseCsv\u001b[0m\u001b[0;34m\u001b[0m\u001b[0;34m\u001b[0m\u001b[0m\n\u001b[0m\u001b[1;32m      2\u001b[0m \u001b[0mt\u001b[0m \u001b[0;34m=\u001b[0m \u001b[0mint\u001b[0m\u001b[0;34m(\u001b[0m\u001b[0mpp\u001b[0m\u001b[0;34m)\u001b[0m\u001b[0;34m/\u001b[0m\u001b[0;36m3\u001b[0m\u001b[0;34m/\u001b[0m\u001b[0mbuy_list\u001b[0m\u001b[0;34m.\u001b[0m\u001b[0mlow\u001b[0m\u001b[0;34m[\u001b[0m\u001b[0;36m2\u001b[0m\u001b[0;34m]\u001b[0m\u001b[0;34m\u001b[0m\u001b[0;34m\u001b[0m\u001b[0m\n\u001b[1;32m      3\u001b[0m \u001b[0mt\u001b[0m\u001b[0;34m\u001b[0m\u001b[0;34m\u001b[0m\u001b[0m\n",
      "\u001b[0;31mNameError\u001b[0m: name 'purchaseCsv' is not defined"
     ]
    }
   ],
   "source": [
    "buy_list = purchaseCsv\n",
    "t = int(pp)/3/buy_list.low[2]\n",
    "t"
   ]
  },
  {
   "cell_type": "code",
   "execution_count": 34,
   "metadata": {},
   "outputs": [
    {
     "name": "stdout",
     "output_type": "stream",
     "text": [
      "JNPR\n",
      "VTRS\n",
      "NI\n"
     ]
    }
   ],
   "source": [
    "for i in buy_list.Ticker:\n",
    "    print(i)"
   ]
  },
  {
   "cell_type": "code",
   "execution_count": 38,
   "metadata": {},
   "outputs": [],
   "source": [
    "c = 0\n",
    "\n",
    "for i in buy_list.Ticker:\n",
    "    api.submit_order(\n",
    "        symbol=i,\n",
    "        qty=int(pp)/3/buy_list.low[c],\n",
    "        side='buy',\n",
    "        type='market',\n",
    "        time_in_force='day'\n",
    "    )\n",
    "    api.submit_order(\n",
    "        symbol=i,\n",
    "        qty=1,\n",
    "        side='sell',\n",
    "        type='trailing_stop',\n",
    "        trail_percent=0.3,  \n",
    "        time_in_force='gtc',\n",
    "    )\n",
    "    c+=1"
   ]
  },
  {
   "cell_type": "code",
   "execution_count": 39,
   "metadata": {},
   "outputs": [
    {
     "data": {
      "text/plain": [
       "Account({   'account_blocked': False,\n",
       "    'account_number': '943642778',\n",
       "    'buying_power': '29000',\n",
       "    'cash': '14500',\n",
       "    'created_at': '2021-08-09T21:09:51.193272Z',\n",
       "    'currency': 'USD',\n",
       "    'daytrade_count': 0,\n",
       "    'daytrading_buying_power': '0',\n",
       "    'equity': '14500',\n",
       "    'id': '699636ae-dd76-4aa7-89a0-011655a8521a',\n",
       "    'initial_margin': '0',\n",
       "    'last_equity': '14500',\n",
       "    'last_maintenance_margin': '0',\n",
       "    'long_market_value': '0',\n",
       "    'maintenance_margin': '0',\n",
       "    'multiplier': '2',\n",
       "    'non_marginable_buying_power': '14500',\n",
       "    'pattern_day_trader': False,\n",
       "    'pending_transfer_in': '14500',\n",
       "    'portfolio_value': '14500',\n",
       "    'regt_buying_power': '29000',\n",
       "    'short_market_value': '0',\n",
       "    'shorting_enabled': True,\n",
       "    'sma': '14500',\n",
       "    'status': 'ACTIVE',\n",
       "    'trade_suspended_by_user': False,\n",
       "    'trading_blocked': False,\n",
       "    'transfers_blocked': False})"
      ]
     },
     "execution_count": 39,
     "metadata": {},
     "output_type": "execute_result"
    }
   ],
   "source": [
    "account\n"
   ]
  },
  {
   "cell_type": "code",
   "execution_count": null,
   "metadata": {},
   "outputs": [],
   "source": []
  },
  {
   "cell_type": "code",
   "execution_count": null,
   "metadata": {},
   "outputs": [],
   "source": [
    "# prevPrice = []\n",
    "\n",
    "# def trader(self, holding_list):\n",
    "#     accountCheck() \n",
    "# #     accountCheck will need to return holdingList, and ac\n",
    "#     if any in holding_list:\n",
    "#         for i in holding_list:\n",
    "#             newPrice = getPrice(i)\n",
    "#             if newPrice *1.006 < prePrice or if datetime.now => turnOverTime-10min:\n",
    "                \n",
    "#                 sell(i)\n",
    "#                 message(f\"Sold {i} at {datetime.now}.\")\n",
    "#             else:\n",
    "#                 pass\n",
    "        \n",
    "#     elif any in buy_list:\n",
    "#         for i in buy_list:\n",
    "#             buy(i)\n",
    "#             message(f\"Purchased {i} at {datetime.now}.\")\n",
    "#             holding_list.append(i)\n",
    "#             buy_list.remove(i)\n",
    "#     else:\n",
    "#         pass"
   ]
  }
 ],
 "metadata": {
  "kernelspec": {
   "display_name": "Python 3",
   "language": "python",
   "name": "python3"
  },
  "language_info": {
   "codemirror_mode": {
    "name": "ipython",
    "version": 3
   },
   "file_extension": ".py",
   "mimetype": "text/x-python",
   "name": "python",
   "nbconvert_exporter": "python",
   "pygments_lexer": "ipython3",
   "version": "3.8.11"
  }
 },
 "nbformat": 4,
 "nbformat_minor": 4
}
