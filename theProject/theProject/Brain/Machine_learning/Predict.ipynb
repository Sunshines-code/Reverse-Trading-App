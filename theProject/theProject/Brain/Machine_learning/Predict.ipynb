{
 "cells": [
  {
   "cell_type": "code",
   "execution_count": 2,
   "id": "126022c0",
   "metadata": {},
   "outputs": [],
   "source": [
    "from sklearn.datasets import make_regression\n",
    "from sklearn.linear_model import LinearRegression\n",
    "from sklearn.model_selection import train_test_split\n",
    "from sklearn.preprocessing import StandardScaler\n",
    "from sklearn.metrics import mean_squared_error\n",
    "import json\n",
    "import pprint as pprint\n",
    "import pandas as pd\n",
    "from joblib import dump, load\n",
    "model = load('oneDayHighModel.joblib')\n",
    "X_scaler = load('oneDayHighModelX_scaler.joblib')\n",
    "y_scaler = load('oneDayHighModely_scaler.joblib')\n"
   ]
  },
  {
   "cell_type": "code",
   "execution_count": 13,
   "id": "da09bade",
   "metadata": {},
   "outputs": [],
   "source": [
    "fdf = pd.read_csv('./dayInfo.csv')\n",
    "fdf = pd.DataFrame(fdf)\n",
    "fX = fdf[['opening', 'closing', 'high', 'low']]\n",
    "sc_new_in = X_scaler.transform(fX)\n",
    "new_out = model.predict(sc_new_in)\n",
    "new_out = y_scaler.inverse_transform(new_out)\n",
    "fdf[\"next_high\"]= new_out\n",
    "fdf[\"change\"]= fdf['next_high']/fdf[\"closing\"]*100-100\n",
    "rdf = fdf.sort_values(by=['change'], axis=0, ignore_index=True, inplace=False, ascending = False)\n",
    "purchase_list = rdf.head(3)\n",
    "purchaseCsv =pd.DataFrame({ 'Ticker':purchase_list['Ticker'], 'low': purchase_list['low']})\n",
    "purchaseCsv.to_csv(r'../Machine_learning/purchaseCsv.csv', index = False)\n"
   ]
  },
  {
   "cell_type": "code",
   "execution_count": null,
   "id": "38eca62a",
   "metadata": {},
   "outputs": [],
   "source": []
  },
  {
   "cell_type": "code",
   "execution_count": null,
   "id": "d6c2ce42",
   "metadata": {},
   "outputs": [],
   "source": []
  }
 ],
 "metadata": {
  "kernelspec": {
   "display_name": "Python 3",
   "language": "python",
   "name": "python3"
  },
  "language_info": {
   "codemirror_mode": {
    "name": "ipython",
    "version": 3
   },
   "file_extension": ".py",
   "mimetype": "text/x-python",
   "name": "python",
   "nbconvert_exporter": "python",
   "pygments_lexer": "ipython3",
   "version": "3.8.11"
  }
 },
 "nbformat": 4,
 "nbformat_minor": 5
}
