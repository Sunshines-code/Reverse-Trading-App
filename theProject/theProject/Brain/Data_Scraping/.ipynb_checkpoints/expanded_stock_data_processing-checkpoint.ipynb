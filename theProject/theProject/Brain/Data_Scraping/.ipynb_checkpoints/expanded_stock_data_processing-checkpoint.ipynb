{
 "cells": [
  {
   "cell_type": "code",
   "execution_count": 25,
   "id": "5b559119",
   "metadata": {},
   "outputs": [
    {
     "data": {
      "text/html": [
       "<div>\n",
       "<style scoped>\n",
       "    .dataframe tbody tr th:only-of-type {\n",
       "        vertical-align: middle;\n",
       "    }\n",
       "\n",
       "    .dataframe tbody tr th {\n",
       "        vertical-align: top;\n",
       "    }\n",
       "\n",
       "    .dataframe thead th {\n",
       "        text-align: right;\n",
       "    }\n",
       "</style>\n",
       "<table border=\"1\" class=\"dataframe\">\n",
       "  <thead>\n",
       "    <tr style=\"text-align: right;\">\n",
       "      <th></th>\n",
       "      <th>Ticker</th>\n",
       "      <th>name</th>\n",
       "      <th>opening</th>\n",
       "      <th>closing</th>\n",
       "      <th>volume</th>\n",
       "      <th>high</th>\n",
       "      <th>low</th>\n",
       "    </tr>\n",
       "  </thead>\n",
       "  <tbody>\n",
       "    <tr>\n",
       "      <th>0</th>\n",
       "      <td>AACG</td>\n",
       "      <td>Ata Creativity Global ADR</td>\n",
       "      <td>2.7100</td>\n",
       "      <td>2.7000</td>\n",
       "      <td>43214</td>\n",
       "      <td>2.74</td>\n",
       "      <td>2.640</td>\n",
       "    </tr>\n",
       "    <tr>\n",
       "      <th>1</th>\n",
       "      <td>AACIU</td>\n",
       "      <td>Armada Acquisition Corp. I</td>\n",
       "      <td>9.9200</td>\n",
       "      <td>9.9200</td>\n",
       "      <td>200</td>\n",
       "      <td>9.92</td>\n",
       "      <td>9.920</td>\n",
       "    </tr>\n",
       "    <tr>\n",
       "      <th>2</th>\n",
       "      <td>AADI</td>\n",
       "      <td>Aadi Biosciences Inc</td>\n",
       "      <td>25.5600</td>\n",
       "      <td>25.3700</td>\n",
       "      <td>103573</td>\n",
       "      <td>25.85</td>\n",
       "      <td>24.440</td>\n",
       "    </tr>\n",
       "    <tr>\n",
       "      <th>3</th>\n",
       "      <td>AADR</td>\n",
       "      <td>Advisorshares Dorsey Wright ETF</td>\n",
       "      <td>68.7800</td>\n",
       "      <td>68.6946</td>\n",
       "      <td>762</td>\n",
       "      <td>68.80</td>\n",
       "      <td>68.480</td>\n",
       "    </tr>\n",
       "    <tr>\n",
       "      <th>4</th>\n",
       "      <td>AAL</td>\n",
       "      <td>American Airlines Gp</td>\n",
       "      <td>20.2900</td>\n",
       "      <td>19.5100</td>\n",
       "      <td>22894762</td>\n",
       "      <td>20.30</td>\n",
       "      <td>19.470</td>\n",
       "    </tr>\n",
       "    <tr>\n",
       "      <th>...</th>\n",
       "      <td>...</td>\n",
       "      <td>...</td>\n",
       "      <td>...</td>\n",
       "      <td>...</td>\n",
       "      <td>...</td>\n",
       "      <td>...</td>\n",
       "      <td>...</td>\n",
       "    </tr>\n",
       "    <tr>\n",
       "      <th>4992</th>\n",
       "      <td>ZWRKU</td>\n",
       "      <td>Z-Work Acquisition Corp Units</td>\n",
       "      <td>9.8500</td>\n",
       "      <td>9.8450</td>\n",
       "      <td>948</td>\n",
       "      <td>9.85</td>\n",
       "      <td>9.845</td>\n",
       "    </tr>\n",
       "    <tr>\n",
       "      <th>4993</th>\n",
       "      <td>ZWRKW</td>\n",
       "      <td>Z-Work Acquisition Corp WT</td>\n",
       "      <td>0.7000</td>\n",
       "      <td>0.6500</td>\n",
       "      <td>235</td>\n",
       "      <td>0.65</td>\n",
       "      <td>0.650</td>\n",
       "    </tr>\n",
       "    <tr>\n",
       "      <th>4994</th>\n",
       "      <td>ZY</td>\n",
       "      <td>Zymergen Inc</td>\n",
       "      <td>13.4500</td>\n",
       "      <td>13.0200</td>\n",
       "      <td>567391</td>\n",
       "      <td>13.49</td>\n",
       "      <td>12.910</td>\n",
       "    </tr>\n",
       "    <tr>\n",
       "      <th>4995</th>\n",
       "      <td>ZYNE</td>\n",
       "      <td>Zynerba Pharma CS</td>\n",
       "      <td>4.1583</td>\n",
       "      <td>4.1200</td>\n",
       "      <td>2678603</td>\n",
       "      <td>4.20</td>\n",
       "      <td>4.050</td>\n",
       "    </tr>\n",
       "    <tr>\n",
       "      <th>4996</th>\n",
       "      <td>ZYXI</td>\n",
       "      <td>Zynex Inc</td>\n",
       "      <td>13.4000</td>\n",
       "      <td>13.3800</td>\n",
       "      <td>146046</td>\n",
       "      <td>13.59</td>\n",
       "      <td>13.250</td>\n",
       "    </tr>\n",
       "  </tbody>\n",
       "</table>\n",
       "<p>4997 rows × 7 columns</p>\n",
       "</div>"
      ],
      "text/plain": [
       "     Ticker                             name  opening  closing    volume  \\\n",
       "0      AACG        Ata Creativity Global ADR   2.7100   2.7000     43214   \n",
       "1     AACIU       Armada Acquisition Corp. I   9.9200   9.9200       200   \n",
       "2      AADI             Aadi Biosciences Inc  25.5600  25.3700    103573   \n",
       "3      AADR  Advisorshares Dorsey Wright ETF  68.7800  68.6946       762   \n",
       "4       AAL             American Airlines Gp  20.2900  19.5100  22894762   \n",
       "...     ...                              ...      ...      ...       ...   \n",
       "4992  ZWRKU    Z-Work Acquisition Corp Units   9.8500   9.8450       948   \n",
       "4993  ZWRKW       Z-Work Acquisition Corp WT   0.7000   0.6500       235   \n",
       "4994     ZY                     Zymergen Inc  13.4500  13.0200    567391   \n",
       "4995   ZYNE                Zynerba Pharma CS   4.1583   4.1200   2678603   \n",
       "4996   ZYXI                        Zynex Inc  13.4000  13.3800    146046   \n",
       "\n",
       "       high     low  \n",
       "0      2.74   2.640  \n",
       "1      9.92   9.920  \n",
       "2     25.85  24.440  \n",
       "3     68.80  68.480  \n",
       "4     20.30  19.470  \n",
       "...     ...     ...  \n",
       "4992   9.85   9.845  \n",
       "4993   0.65   0.650  \n",
       "4994  13.49  12.910  \n",
       "4995   4.20   4.050  \n",
       "4996  13.59  13.250  \n",
       "\n",
       "[4997 rows x 7 columns]"
      ]
     },
     "execution_count": 25,
     "metadata": {},
     "output_type": "execute_result"
    }
   ],
   "source": [
    "import pandas as pd\n",
    "import json\n",
    "import requests\n",
    "from pprint import pprint\n",
    "import alpaca_trade_api as tradeapi\n",
    "from time import sleep\n",
    "\n",
    "api_key = 'PKU2SKNAWU76OBUNS88G'\n",
    "APCA_API_BASE_URL = 'https://paper-api.alpaca.markets'\n",
    "secret_key = 'RUjuIk7HvPQ9Kt6FVzBaF6RiAM3KdrtLxVg5w0VH'\n",
    "api = tradeapi.REST(api_key, secret_key)\n",
    "\n",
    "df = pd.read_csv('./newStockList.csv')\n",
    "bdf = pd.DataFrame(df)\n",
    "bdf"
   ]
  },
  {
   "cell_type": "code",
   "execution_count": 26,
   "id": "eddc4e43",
   "metadata": {},
   "outputs": [
    {
     "data": {
      "text/html": [
       "<div>\n",
       "<style scoped>\n",
       "    .dataframe tbody tr th:only-of-type {\n",
       "        vertical-align: middle;\n",
       "    }\n",
       "\n",
       "    .dataframe tbody tr th {\n",
       "        vertical-align: top;\n",
       "    }\n",
       "\n",
       "    .dataframe thead th {\n",
       "        text-align: right;\n",
       "    }\n",
       "</style>\n",
       "<table border=\"1\" class=\"dataframe\">\n",
       "  <thead>\n",
       "    <tr style=\"text-align: right;\">\n",
       "      <th></th>\n",
       "      <th>Ticker</th>\n",
       "      <th>name</th>\n",
       "      <th>opening</th>\n",
       "      <th>closing</th>\n",
       "      <th>volume</th>\n",
       "      <th>high</th>\n",
       "      <th>low</th>\n",
       "    </tr>\n",
       "  </thead>\n",
       "  <tbody>\n",
       "    <tr>\n",
       "      <th>486</th>\n",
       "      <td>BBIG</td>\n",
       "      <td>Vinco Ventures Inc</td>\n",
       "      <td>9.100</td>\n",
       "      <td>7.0300</td>\n",
       "      <td>271444047</td>\n",
       "      <td>10.00</td>\n",
       "      <td>6.48</td>\n",
       "    </tr>\n",
       "    <tr>\n",
       "      <th>282</th>\n",
       "      <td>ANY</td>\n",
       "      <td>Sphere 3D Corp</td>\n",
       "      <td>5.205</td>\n",
       "      <td>6.3798</td>\n",
       "      <td>91782559</td>\n",
       "      <td>7.68</td>\n",
       "      <td>5.20</td>\n",
       "    </tr>\n",
       "    <tr>\n",
       "      <th>8</th>\n",
       "      <td>AAPL</td>\n",
       "      <td>Apple Inc</td>\n",
       "      <td>149.000</td>\n",
       "      <td>153.1000</td>\n",
       "      <td>83927668</td>\n",
       "      <td>153.49</td>\n",
       "      <td>148.61</td>\n",
       "    </tr>\n",
       "    <tr>\n",
       "      <th>4237</th>\n",
       "      <td>SQQQ</td>\n",
       "      <td>Ultrapro Short QQQ ETF</td>\n",
       "      <td>7.520</td>\n",
       "      <td>7.3017</td>\n",
       "      <td>76024217</td>\n",
       "      <td>7.52</td>\n",
       "      <td>7.28</td>\n",
       "    </tr>\n",
       "    <tr>\n",
       "      <th>2979</th>\n",
       "      <td>MMAT</td>\n",
       "      <td>Meta Materials Inc</td>\n",
       "      <td>4.940</td>\n",
       "      <td>4.4360</td>\n",
       "      <td>75677779</td>\n",
       "      <td>5.79</td>\n",
       "      <td>4.27</td>\n",
       "    </tr>\n",
       "    <tr>\n",
       "      <th>...</th>\n",
       "      <td>...</td>\n",
       "      <td>...</td>\n",
       "      <td>...</td>\n",
       "      <td>...</td>\n",
       "      <td>...</td>\n",
       "      <td>...</td>\n",
       "      <td>...</td>\n",
       "    </tr>\n",
       "    <tr>\n",
       "      <th>3963</th>\n",
       "      <td>SAIIU</td>\n",
       "      <td>Software Acquisition Group Inc II</td>\n",
       "      <td>10.160</td>\n",
       "      <td>10.1600</td>\n",
       "      <td>100</td>\n",
       "      <td>10.16</td>\n",
       "      <td>10.16</td>\n",
       "    </tr>\n",
       "    <tr>\n",
       "      <th>648</th>\n",
       "      <td>BRID</td>\n",
       "      <td>Bridgford Foods Cp</td>\n",
       "      <td>13.200</td>\n",
       "      <td>13.2000</td>\n",
       "      <td>100</td>\n",
       "      <td>13.20</td>\n",
       "      <td>13.20</td>\n",
       "    </tr>\n",
       "    <tr>\n",
       "      <th>4390</th>\n",
       "      <td>TCACU</td>\n",
       "      <td>Tuatara Capital Acquisition Corp</td>\n",
       "      <td>9.920</td>\n",
       "      <td>9.9200</td>\n",
       "      <td>100</td>\n",
       "      <td>9.92</td>\n",
       "      <td>9.92</td>\n",
       "    </tr>\n",
       "    <tr>\n",
       "      <th>3575</th>\n",
       "      <td>PMGMU</td>\n",
       "      <td>Priveterra Acquisition Corp Units</td>\n",
       "      <td>9.900</td>\n",
       "      <td>9.9000</td>\n",
       "      <td>100</td>\n",
       "      <td>9.90</td>\n",
       "      <td>9.90</td>\n",
       "    </tr>\n",
       "    <tr>\n",
       "      <th>2457</th>\n",
       "      <td>ITQRU</td>\n",
       "      <td>Itiquira Acquisition Corp</td>\n",
       "      <td>9.900</td>\n",
       "      <td>9.9000</td>\n",
       "      <td>100</td>\n",
       "      <td>9.90</td>\n",
       "      <td>9.90</td>\n",
       "    </tr>\n",
       "  </tbody>\n",
       "</table>\n",
       "<p>4997 rows × 7 columns</p>\n",
       "</div>"
      ],
      "text/plain": [
       "     Ticker                               name  opening   closing     volume  \\\n",
       "486    BBIG                 Vinco Ventures Inc    9.100    7.0300  271444047   \n",
       "282     ANY                     Sphere 3D Corp    5.205    6.3798   91782559   \n",
       "8      AAPL                          Apple Inc  149.000  153.1000   83927668   \n",
       "4237   SQQQ             Ultrapro Short QQQ ETF    7.520    7.3017   76024217   \n",
       "2979   MMAT                 Meta Materials Inc    4.940    4.4360   75677779   \n",
       "...     ...                                ...      ...       ...        ...   \n",
       "3963  SAIIU  Software Acquisition Group Inc II   10.160   10.1600        100   \n",
       "648    BRID                 Bridgford Foods Cp   13.200   13.2000        100   \n",
       "4390  TCACU   Tuatara Capital Acquisition Corp    9.920    9.9200        100   \n",
       "3575  PMGMU  Priveterra Acquisition Corp Units    9.900    9.9000        100   \n",
       "2457  ITQRU          Itiquira Acquisition Corp    9.900    9.9000        100   \n",
       "\n",
       "        high     low  \n",
       "486    10.00    6.48  \n",
       "282     7.68    5.20  \n",
       "8     153.49  148.61  \n",
       "4237    7.52    7.28  \n",
       "2979    5.79    4.27  \n",
       "...      ...     ...  \n",
       "3963   10.16   10.16  \n",
       "648    13.20   13.20  \n",
       "4390    9.92    9.92  \n",
       "3575    9.90    9.90  \n",
       "2457    9.90    9.90  \n",
       "\n",
       "[4997 rows x 7 columns]"
      ]
     },
     "execution_count": 26,
     "metadata": {},
     "output_type": "execute_result"
    }
   ],
   "source": [
    "bdf = bdf.sort_values(by=['volume'],ascending=False)\n",
    "bdf"
   ]
  },
  {
   "cell_type": "code",
   "execution_count": 27,
   "id": "260867f3",
   "metadata": {},
   "outputs": [
    {
     "data": {
      "text/html": [
       "<div>\n",
       "<style scoped>\n",
       "    .dataframe tbody tr th:only-of-type {\n",
       "        vertical-align: middle;\n",
       "    }\n",
       "\n",
       "    .dataframe tbody tr th {\n",
       "        vertical-align: top;\n",
       "    }\n",
       "\n",
       "    .dataframe thead th {\n",
       "        text-align: right;\n",
       "    }\n",
       "</style>\n",
       "<table border=\"1\" class=\"dataframe\">\n",
       "  <thead>\n",
       "    <tr style=\"text-align: right;\">\n",
       "      <th></th>\n",
       "      <th>Ticker</th>\n",
       "      <th>name</th>\n",
       "      <th>opening</th>\n",
       "      <th>closing</th>\n",
       "      <th>volume</th>\n",
       "      <th>high</th>\n",
       "      <th>low</th>\n",
       "    </tr>\n",
       "  </thead>\n",
       "  <tbody>\n",
       "    <tr>\n",
       "      <th>486</th>\n",
       "      <td>BBIG</td>\n",
       "      <td>Vinco Ventures Inc</td>\n",
       "      <td>9.100</td>\n",
       "      <td>7.0300</td>\n",
       "      <td>271444047</td>\n",
       "      <td>10.000</td>\n",
       "      <td>6.480</td>\n",
       "    </tr>\n",
       "    <tr>\n",
       "      <th>282</th>\n",
       "      <td>ANY</td>\n",
       "      <td>Sphere 3D Corp</td>\n",
       "      <td>5.205</td>\n",
       "      <td>6.3798</td>\n",
       "      <td>91782559</td>\n",
       "      <td>7.680</td>\n",
       "      <td>5.200</td>\n",
       "    </tr>\n",
       "    <tr>\n",
       "      <th>8</th>\n",
       "      <td>AAPL</td>\n",
       "      <td>Apple Inc</td>\n",
       "      <td>149.000</td>\n",
       "      <td>153.1000</td>\n",
       "      <td>83927668</td>\n",
       "      <td>153.490</td>\n",
       "      <td>148.610</td>\n",
       "    </tr>\n",
       "    <tr>\n",
       "      <th>4237</th>\n",
       "      <td>SQQQ</td>\n",
       "      <td>Ultrapro Short QQQ ETF</td>\n",
       "      <td>7.520</td>\n",
       "      <td>7.3017</td>\n",
       "      <td>76024217</td>\n",
       "      <td>7.520</td>\n",
       "      <td>7.280</td>\n",
       "    </tr>\n",
       "    <tr>\n",
       "      <th>2979</th>\n",
       "      <td>MMAT</td>\n",
       "      <td>Meta Materials Inc</td>\n",
       "      <td>4.940</td>\n",
       "      <td>4.4360</td>\n",
       "      <td>75677779</td>\n",
       "      <td>5.790</td>\n",
       "      <td>4.270</td>\n",
       "    </tr>\n",
       "    <tr>\n",
       "      <th>...</th>\n",
       "      <td>...</td>\n",
       "      <td>...</td>\n",
       "      <td>...</td>\n",
       "      <td>...</td>\n",
       "      <td>...</td>\n",
       "      <td>...</td>\n",
       "      <td>...</td>\n",
       "    </tr>\n",
       "    <tr>\n",
       "      <th>1435</th>\n",
       "      <td>EMXC</td>\n",
       "      <td>Emrg Mkts Ex China Ishares MSCI ETF</td>\n",
       "      <td>62.310</td>\n",
       "      <td>62.1600</td>\n",
       "      <td>131598</td>\n",
       "      <td>62.363</td>\n",
       "      <td>62.080</td>\n",
       "    </tr>\n",
       "    <tr>\n",
       "      <th>3159</th>\n",
       "      <td>NISN</td>\n",
       "      <td>Nisun Int Ent Dev Grp Ltd</td>\n",
       "      <td>10.100</td>\n",
       "      <td>9.6000</td>\n",
       "      <td>131430</td>\n",
       "      <td>10.160</td>\n",
       "      <td>9.600</td>\n",
       "    </tr>\n",
       "    <tr>\n",
       "      <th>998</th>\n",
       "      <td>CNFR</td>\n",
       "      <td>Conifer Holdings</td>\n",
       "      <td>4.050</td>\n",
       "      <td>4.1800</td>\n",
       "      <td>131410</td>\n",
       "      <td>4.330</td>\n",
       "      <td>3.950</td>\n",
       "    </tr>\n",
       "    <tr>\n",
       "      <th>3157</th>\n",
       "      <td>NICE</td>\n",
       "      <td>Nice Ltd ADR</td>\n",
       "      <td>292.800</td>\n",
       "      <td>296.1500</td>\n",
       "      <td>131406</td>\n",
       "      <td>296.170</td>\n",
       "      <td>292.285</td>\n",
       "    </tr>\n",
       "    <tr>\n",
       "      <th>4310</th>\n",
       "      <td>SUSB</td>\n",
       "      <td>1-5 Year USD Corp Bond Ishares ESG ETF</td>\n",
       "      <td>26.040</td>\n",
       "      <td>26.0600</td>\n",
       "      <td>131165</td>\n",
       "      <td>26.060</td>\n",
       "      <td>26.031</td>\n",
       "    </tr>\n",
       "  </tbody>\n",
       "</table>\n",
       "<p>2000 rows × 7 columns</p>\n",
       "</div>"
      ],
      "text/plain": [
       "     Ticker                                    name  opening   closing  \\\n",
       "486    BBIG                      Vinco Ventures Inc    9.100    7.0300   \n",
       "282     ANY                          Sphere 3D Corp    5.205    6.3798   \n",
       "8      AAPL                               Apple Inc  149.000  153.1000   \n",
       "4237   SQQQ                  Ultrapro Short QQQ ETF    7.520    7.3017   \n",
       "2979   MMAT                      Meta Materials Inc    4.940    4.4360   \n",
       "...     ...                                     ...      ...       ...   \n",
       "1435   EMXC     Emrg Mkts Ex China Ishares MSCI ETF   62.310   62.1600   \n",
       "3159   NISN               Nisun Int Ent Dev Grp Ltd   10.100    9.6000   \n",
       "998    CNFR                        Conifer Holdings    4.050    4.1800   \n",
       "3157   NICE                            Nice Ltd ADR  292.800  296.1500   \n",
       "4310   SUSB  1-5 Year USD Corp Bond Ishares ESG ETF   26.040   26.0600   \n",
       "\n",
       "         volume     high      low  \n",
       "486   271444047   10.000    6.480  \n",
       "282    91782559    7.680    5.200  \n",
       "8      83927668  153.490  148.610  \n",
       "4237   76024217    7.520    7.280  \n",
       "2979   75677779    5.790    4.270  \n",
       "...         ...      ...      ...  \n",
       "1435     131598   62.363   62.080  \n",
       "3159     131430   10.160    9.600  \n",
       "998      131410    4.330    3.950  \n",
       "3157     131406  296.170  292.285  \n",
       "4310     131165   26.060   26.031  \n",
       "\n",
       "[2000 rows x 7 columns]"
      ]
     },
     "execution_count": 27,
     "metadata": {},
     "output_type": "execute_result"
    }
   ],
   "source": [
    "bdf = bdf.head(2000)\n",
    "bdf"
   ]
  },
  {
   "cell_type": "code",
   "execution_count": 28,
   "id": "057ccd67",
   "metadata": {},
   "outputs": [],
   "source": [
    "tckr = bdf['Ticker'].tolist()"
   ]
  },
  {
   "cell_type": "code",
   "execution_count": 31,
   "id": "16d62a55",
   "metadata": {},
   "outputs": [
    {
     "name": "stdout",
     "output_type": "stream",
     "text": [
      "'BBIG'\n",
      "'ANY'\n",
      "'AAPL'\n",
      "'SQQQ'\n",
      "'MMAT'\n",
      "'KPLT'\n",
      "'NAKD'\n",
      "'SPRT'\n",
      "'SNDL'\n",
      "'AMD'\n",
      "'ROOT'\n",
      "'AFRM'\n",
      "'WISH'\n",
      "'ATER'\n",
      "'VEON'\n",
      "'SDC'\n",
      "'ATIF'\n",
      "'XELA'\n",
      "'QQQ'\n",
      "'NVDA'\n",
      "'AAL'\n",
      "'RNXT'\n",
      "'TQQQ'\n",
      "'IDEX'\n",
      "'PLUG'\n",
      "'MXIM'\n",
      "'TSLA'\n",
      "'SESN'\n",
      "'PROG'\n",
      "'MRNA'\n",
      "'SOFI'\n",
      "'SAVA'\n",
      "'ZNGA'\n",
      "'LCID'\n",
      "'CLOV'\n",
      "'PYPL'\n",
      "'BTBT'\n",
      "'FCEL'\n",
      "'CIDM'\n",
      "'MSFT'\n",
      "'TLRY'\n",
      "'FB'\n",
      "'INTC'\n",
      "'TIGR'\n",
      "'HBAN'\n",
      "'HOOD'\n",
      "'MU'\n",
      "'GNUS'\n",
      "'BLIN'\n",
      "'ASTR'\n",
      "'DKNG'\n",
      "'PTON'\n",
      "'SIRI'\n",
      "'UAL'\n",
      "'ACST'\n",
      "'CSCO'\n",
      "'TLT'\n",
      "'MARA'\n",
      "'HST'\n",
      "'GEVO'\n",
      "'LI'\n",
      "'SHIP'\n",
      "'VIAC'\n",
      "'DVAX'\n",
      "'WTRH'\n",
      "'RIDE'\n",
      "'NKLA'\n",
      "'WKEY'\n",
      "'TLGT'\n",
      "'BNGO'\n",
      "'RIOT'\n",
      "'TNXP'\n",
      "'CMCSA'\n",
      "'JD'\n",
      "'HUT'\n",
      "'PDD'\n",
      "'HEXO'\n",
      "'SQL'\n",
      "'NNDM'\n",
      "'IQ'\n",
      "'ATVI'\n",
      "'GRNQ'\n",
      "'AGEN'\n",
      "'TELL'\n",
      "'PIRS'\n",
      "'JBLU'\n",
      "'CAN'\n",
      "'LWAC'\n",
      "'NURO'\n",
      "'FAMI'\n",
      "'FUTU'\n",
      "'BIOL'\n",
      "'GOCO'\n",
      "'BILI'\n",
      "'HIMX'\n",
      "'ATOS'\n",
      "'WKHS'\n",
      "'MRVL'\n",
      "'SABR'\n",
      "'LXRX'\n",
      "'IEF'\n",
      "'SONN'\n",
      "'PXLW'\n",
      "'NTES'\n",
      "'ZM'\n",
      "'OCGN'\n",
      "'ENDP'\n",
      "'LWACW'\n",
      "'APA'\n",
      "'BGFV'\n",
      "'NAOV'\n",
      "'XXII'\n",
      "'MRIN'\n",
      "'CTXR'\n",
      "'CDEV'\n",
      "'OPEN'\n",
      "'DOYU'\n",
      "'BITF'\n",
      "'DSPG'\n",
      "'GRNVR'\n",
      "'AGNC'\n",
      "'TTD'\n",
      "'HLMN'\n",
      "'SONM'\n",
      "'TXMD'\n",
      "'EBAY'\n",
      "'CEMI'\n",
      "'QCOM'\n",
      "'HOFV'\n",
      "'GRNVW'\n",
      "'GSM'\n",
      "'CSX'\n",
      "'CRWD'\n",
      "'OGI'\n",
      "'ITRM'\n",
      "'CRSR'\n",
      "'RCON'\n",
      "'BIDU'\n",
      "'ZI'\n",
      "'GRNV'\n",
      "'AMAT'\n",
      "'DLTR'\n",
      "'RUN'\n",
      "'ASTS'\n",
      "'ADXS'\n",
      "'CLNE'\n",
      "'SRNE'\n",
      "'MCHI'\n",
      "'AUPH'\n",
      "'CHMA'\n",
      "'KHC'\n",
      "'ABNB'\n",
      "'LKCO'\n",
      "'MQ'\n",
      "'MDLZ'\n",
      "'STNE'\n",
      "'BND'\n",
      "'PAGP'\n",
      "'PFF'\n",
      "'AMRS'\n",
      "'SBET'\n",
      "'METX'\n",
      "'FITB'\n",
      "'VLDR'\n",
      "'UPST'\n",
      "'MILE'\n",
      "'ADTX'\n",
      "'BLDP'\n",
      "'DARE'\n",
      "'GSMG'\n",
      "'VBIV'\n",
      "'APOP'\n",
      "'INFN'\n",
      "'VIRT'\n",
      "'TCOM'\n",
      "'DBX'\n",
      "'SRGA'\n",
      "'VTRS'\n",
      "'GILD'\n",
      "'LYFT'\n",
      "'MNMD'\n",
      "'CFMS'\n",
      "'XSPA'\n",
      "'ADI'\n",
      "'INO'\n",
      "'GDS'\n",
      "'LAZR'\n",
      "'NRXP'\n",
      "'DFFN'\n",
      "'DATS'\n",
      "'CLVS'\n",
      "'COCP'\n",
      "'AMRN'\n",
      "'MTTR'\n",
      "'ORPH'\n",
      "'TRIL'\n",
      "'GAMB'\n",
      "'ALZN'\n",
      "'WEN'\n",
      "'TMUS'\n",
      "'ALTO'\n",
      "'PENN'\n",
      "'ACB'\n",
      "'AMZN'\n",
      "'KXIN'\n",
      "'FISV'\n",
      "'BNTX'\n",
      "'VCIT'\n",
      "'DISCA'\n",
      "'PAA'\n",
      "'VTIP'\n",
      "'HVBT'\n",
      "'SPPI'\n",
      "'WDC'\n",
      "'ERIC'\n",
      "'ARVL'\n",
      "'CXDC'\n",
      "'ON'\n",
      "'SCZ'\n",
      "'GT'\n",
      "'Z'\n",
      "'SGOC'\n",
      "'IGSB'\n",
      "'GLG'\n",
      "'VCSH'\n",
      "'MLCO'\n",
      "'ZYNE'\n",
      "'KDMN'\n",
      "'DRMA'\n",
      "'CTRM'\n",
      "'SBUX'\n",
      "'COIN'\n",
      "'REKR'\n",
      "'QFIN'\n",
      "'ADTN'\n",
      "'MCRB'\n",
      "'NVAX'\n",
      "'VXRT'\n",
      "'INPX'\n",
      "'AEI'\n",
      "'MDIA'\n",
      "'GGAL'\n",
      "'SMH'\n",
      "'TBLT'\n",
      "'WYNN'\n",
      "'MVIS'\n",
      "'EXC'\n",
      "'KC'\n",
      "'GPRO'\n",
      "'APPS'\n",
      "'VIEW'\n",
      "'NCTY'\n",
      "'BOXL'\n",
      "'MOMO'\n",
      "'SOLO'\n",
      "'KDP'\n",
      "'NXTD'\n",
      "'AHPI'\n",
      "'RXT'\n",
      "'RKLB'\n",
      "'CGC'\n",
      "'YQ'\n",
      "'JAGX'\n",
      "'MNKD'\n",
      "'IRDM'\n",
      "'PDBC'\n",
      "'KALA'\n"
     ]
    },
    {
     "name": "stderr",
     "output_type": "stream",
     "text": [
      "sleep 3 seconds and retrying https://data.alpaca.markets/v1/bars/day 3 more time(s)...\n"
     ]
    },
    {
     "name": "stdout",
     "output_type": "stream",
     "text": [
      "'OLLI'\n",
      "'BLU'\n",
      "'EMB'\n",
      "'QRTEA'\n",
      "'SPWR'\n",
      "'NFLX'\n",
      "'BRQS'\n",
      "'CWBR'\n",
      "'WBA'\n",
      "'AZN'\n",
      "'EVFM'\n",
      "'PEP'\n",
      "'AQST'\n",
      "'SRNG'\n",
      "'TSP'\n",
      "'FIVN'\n"
     ]
    },
    {
     "name": "stderr",
     "output_type": "stream",
     "text": [
      "sleep 3 seconds and retrying https://data.alpaca.markets/v1/bars/day 3 more time(s)...\n"
     ]
    },
    {
     "name": "stdout",
     "output_type": "stream",
     "text": [
      "'LX'\n",
      "'IBB'\n",
      "'DLO'\n",
      "'VGLT'\n",
      "'FEYE'\n",
      "'EDIT'\n",
      "'VTNR'\n",
      "'SONO'\n",
      "'URBN'\n",
      "'GOEV'\n",
      "'OPK'\n",
      "'BNDX'\n",
      "'PSEC'\n",
      "'TTCF'\n",
      "'MTCH'\n"
     ]
    },
    {
     "name": "stderr",
     "output_type": "stream",
     "text": [
      "sleep 3 seconds and retrying https://data.alpaca.markets/v1/bars/day 3 more time(s)...\n"
     ]
    },
    {
     "name": "stdout",
     "output_type": "stream",
     "text": [
      "'MKD'\n",
      "'PFPT'\n",
      "'SPLK'\n",
      "'MGNI'\n",
      "'ICLN'\n",
      "'ROKU'\n",
      "'ARDX'\n",
      "'SBLK'\n",
      "'USWS'\n",
      "'RKDA'\n",
      "'PMCB'\n",
      "'TRIP'\n",
      "'GLBE'\n"
     ]
    },
    {
     "name": "stderr",
     "output_type": "stream",
     "text": [
      "sleep 3 seconds and retrying https://data.alpaca.markets/v1/bars/day 3 more time(s)...\n"
     ]
    },
    {
     "name": "stdout",
     "output_type": "stream",
     "text": [
      "'CG'\n",
      "'VERB'\n",
      "'VXUS'\n",
      "'ABUS'\n",
      "'YVR'\n",
      "'SYPR'\n",
      "'CZR'\n",
      "'IMGN'\n",
      "'TXN'\n",
      "'CHEK'\n",
      "'ARCC'\n",
      "'AKBA'\n"
     ]
    },
    {
     "name": "stderr",
     "output_type": "stream",
     "text": [
      "sleep 3 seconds and retrying https://data.alpaca.markets/v1/bars/day 3 more time(s)...\n"
     ]
    },
    {
     "name": "stdout",
     "output_type": "stream",
     "text": [
      "'LOTZ'\n",
      "'WDAY'\n",
      "'OEG'\n",
      "'NUAN'\n",
      "'ETSY'\n",
      "'VNET'\n",
      "'DGLY'\n",
      "'ZIOP'\n",
      "'EA'\n",
      "'AVGO'\n",
      "'OPCH'\n",
      "'INFI'\n",
      "'WPRT'\n",
      "'CSOD'\n"
     ]
    },
    {
     "name": "stderr",
     "output_type": "stream",
     "text": [
      "sleep 3 seconds and retrying https://data.alpaca.markets/v1/bars/day 3 more time(s)...\n"
     ]
    },
    {
     "name": "stdout",
     "output_type": "stream",
     "text": [
      "'FALN'\n",
      "'OTRK'\n",
      "'WIMI'\n",
      "'BGCP'\n",
      "'CARA'\n",
      "'APPH'\n",
      "'NYMT'\n",
      "'LMRK'\n",
      "'PBCT'\n",
      "'KPLTW'\n",
      "'QYLD'\n",
      "'NLOK'\n",
      "'VOD'\n",
      "'AZRX'\n",
      "'ADAP'\n",
      "'GERN'\n",
      "'VIAV'\n",
      "'ZION'\n",
      "'FLEX'\n",
      "'SKIN'\n",
      "'GRUB'\n",
      "'HTHT'\n"
     ]
    },
    {
     "name": "stderr",
     "output_type": "stream",
     "text": [
      "sleep 3 seconds and retrying https://data.alpaca.markets/v1/bars/day 3 more time(s)...\n"
     ]
    },
    {
     "name": "stdout",
     "output_type": "stream",
     "text": [
      "'COMM'\n",
      "'ARRY'\n",
      "'FOLD'\n",
      "'KOPN'\n",
      "'BSQR'\n",
      "'AEP'\n",
      "'ASO'\n",
      "'UXIN'\n",
      "'PAYA'\n",
      "'LIZI'\n",
      "'XERS'\n",
      "'PAYO'\n"
     ]
    },
    {
     "name": "stderr",
     "output_type": "stream",
     "text": [
      "sleep 3 seconds and retrying https://data.alpaca.markets/v1/bars/day 3 more time(s)...\n"
     ]
    },
    {
     "name": "stdout",
     "output_type": "stream",
     "text": [
      "'FLXN'\n",
      "'GNLN'\n",
      "'SNY'\n",
      "'AKTS'\n",
      "'EYEG'\n",
      "'PTRA'\n",
      "'POWW'\n",
      "'AMGN'\n",
      "'VERU'\n",
      "'NTNX'\n",
      "'REAL'\n",
      "'VRPX'\n",
      "'RPRX'\n",
      "'CTIC'\n",
      "'DDOG'\n"
     ]
    },
    {
     "name": "stderr",
     "output_type": "stream",
     "text": [
      "sleep 3 seconds and retrying https://data.alpaca.markets/v1/bars/day 3 more time(s)...\n"
     ]
    },
    {
     "name": "stdout",
     "output_type": "stream",
     "text": [
      "'ORGN'\n",
      "'ADMP'\n",
      "'VIH'\n",
      "'RDHL'\n",
      "'WB'\n",
      "'ISEE'\n",
      "'MRSN'\n",
      "'PLAY'\n",
      "'FTFT'\n",
      "'FANG'\n",
      "'EBON'\n",
      "'CTSH'\n",
      "'GOGL'\n"
     ]
    },
    {
     "name": "stderr",
     "output_type": "stream",
     "text": [
      "sleep 3 seconds and retrying https://data.alpaca.markets/v1/bars/day 3 more time(s)...\n"
     ]
    },
    {
     "name": "stdout",
     "output_type": "stream",
     "text": [
      "'MVST'\n",
      "'STX'\n",
      "'BMRN'\n",
      "'BLMN'\n",
      "'XEL'\n",
      "'OTLY'\n",
      "'ACGL'\n",
      "'EJH'\n",
      "'RSLS'\n",
      "'ZS'\n",
      "'UNIT'\n",
      "'EXEL'\n",
      "'SLM'\n"
     ]
    },
    {
     "name": "stderr",
     "output_type": "stream",
     "text": [
      "sleep 3 seconds and retrying https://data.alpaca.markets/v1/bars/day 3 more time(s)...\n"
     ]
    },
    {
     "name": "stdout",
     "output_type": "stream",
     "text": [
      "'KPTI'\n",
      "'SLAB'\n",
      "'DRNA'\n",
      "'LBTYK'\n",
      "'SMFR'\n",
      "'NWSA'\n",
      "'NWL'\n",
      "'WORX'\n",
      "'CRIS'\n",
      "'PAAS'\n",
      "'MAR'\n",
      "'NEPT'\n",
      "'BCRX'\n",
      "'APTO'\n",
      "'NAVI'\n"
     ]
    },
    {
     "name": "stderr",
     "output_type": "stream",
     "text": [
      "sleep 3 seconds and retrying https://data.alpaca.markets/v1/bars/day 3 more time(s)...\n"
     ]
    },
    {
     "name": "stdout",
     "output_type": "stream",
     "text": [
      "'ALNA'\n",
      "'VUZI'\n",
      "'PBTS'\n",
      "'ALF'\n",
      "'VRM'\n",
      "'OTLK'\n",
      "'VKTX'\n",
      "'NTAP'\n",
      "'SFM'\n",
      "'SFIX'\n",
      "'AGC'\n",
      "'EVGO'\n",
      "'VTGN'\n",
      "'AEHL'\n",
      "'ENPH'\n"
     ]
    },
    {
     "name": "stderr",
     "output_type": "stream",
     "text": [
      "sleep 3 seconds and retrying https://data.alpaca.markets/v1/bars/day 3 more time(s)...\n"
     ]
    },
    {
     "name": "stdout",
     "output_type": "stream",
     "text": [
      "'SWKS'\n",
      "'ADSK'\n",
      "'BCTX'\n",
      "'MAT'\n",
      "'TBPH'\n",
      "'CARG'\n",
      "'OKTA'\n",
      "'SWBI'\n",
      "'OPGN'\n",
      "'DOCU'\n",
      "'VACQ'\n",
      "'SHY'\n"
     ]
    },
    {
     "name": "stderr",
     "output_type": "stream",
     "text": [
      "sleep 3 seconds and retrying https://data.alpaca.markets/v1/bars/day 3 more time(s)...\n"
     ]
    },
    {
     "name": "stdout",
     "output_type": "stream",
     "text": [
      "'CSGP'\n",
      "'TGTX'\n",
      "'MCHP'\n",
      "'HA'\n",
      "'AVIR'\n",
      "'HOLX'\n",
      "'VRNS'\n",
      "'MGI'\n",
      "'BBBY'\n",
      "'IXUS'\n",
      "'COHU'\n",
      "'GH'\n",
      "'IRWD'\n",
      "'CREE'\n"
     ]
    },
    {
     "name": "stderr",
     "output_type": "stream",
     "text": [
      "sleep 3 seconds and retrying https://data.alpaca.markets/v1/bars/day 3 more time(s)...\n"
     ]
    },
    {
     "name": "stdout",
     "output_type": "stream",
     "text": [
      "'XM'\n",
      "'CRON'\n",
      "'OCSL'\n",
      "'SBRA'\n",
      "'STLD'\n",
      "'YNDX'\n",
      "'ADBE'\n",
      "'TALK'\n",
      "'GILT'\n",
      "'AFMD'\n",
      "'BXRX'\n",
      "'XOS'\n",
      "'DNUT'\n",
      "'ANGL'\n",
      "'EXPE'\n"
     ]
    },
    {
     "name": "stderr",
     "output_type": "stream",
     "text": [
      "sleep 3 seconds and retrying https://data.alpaca.markets/v1/bars/day 3 more time(s)...\n"
     ]
    },
    {
     "name": "stdout",
     "output_type": "stream",
     "text": [
      "'ROST'\n",
      "'ILMN'\n",
      "'HAIN'\n",
      "'CAR'\n",
      "'PACB'\n",
      "'BZUN'\n",
      "'BLI'\n",
      "'XLNX'\n",
      "'FAST'\n",
      "'CVET'\n",
      "'PHUN'\n",
      "'GTHX'\n",
      "'HYZN'\n"
     ]
    },
    {
     "name": "stderr",
     "output_type": "stream",
     "text": [
      "sleep 3 seconds and retrying https://data.alpaca.markets/v1/bars/day 3 more time(s)...\n"
     ]
    },
    {
     "name": "stdout",
     "output_type": "stream",
     "text": [
      "'BMBL'\n",
      "'SRPT'\n",
      "'CLSK'\n",
      "'AVPT'\n",
      "'FFIE'\n",
      "'GRWG'\n",
      "'POAI'\n",
      "'FOXA'\n",
      "'ONEM'\n",
      "'CAKE'\n",
      "'MBIO'\n",
      "'ME'\n",
      "'QELL'\n",
      "'AKAM'\n"
     ]
    },
    {
     "name": "stderr",
     "output_type": "stream",
     "text": [
      "sleep 3 seconds and retrying https://data.alpaca.markets/v1/bars/day 3 more time(s)...\n"
     ]
    },
    {
     "name": "stdout",
     "output_type": "stream",
     "text": [
      "'CD'\n",
      "'BYSI'\n",
      "'DISH'\n",
      "'NEGG'\n",
      "'NCMI'\n",
      "'GMVD'\n",
      "'ANIX'\n",
      "'MUDS'\n",
      "'VGSH'\n",
      "'WSC'\n",
      "'LFST'\n",
      "'FLGC'\n",
      "'COST'\n",
      "'RDFN'\n"
     ]
    },
    {
     "name": "stderr",
     "output_type": "stream",
     "text": [
      "sleep 3 seconds and retrying https://data.alpaca.markets/v1/bars/day 3 more time(s)...\n"
     ]
    },
    {
     "name": "stdout",
     "output_type": "stream",
     "text": [
      "'DISCK'\n",
      "'CELH'\n",
      "'AEZS'\n",
      "'TTWO'\n",
      "'ISBC'\n",
      "'ATHX'\n",
      "'TTOO'\n",
      "'RCKT'\n",
      "'SEEL'\n",
      "'TAOP'\n",
      "'PLTK'\n",
      "'HON'\n",
      "'CENX'\n"
     ]
    },
    {
     "name": "stderr",
     "output_type": "stream",
     "text": [
      "sleep 3 seconds and retrying https://data.alpaca.markets/v1/bars/day 3 more time(s)...\n"
     ]
    },
    {
     "name": "stdout",
     "output_type": "stream",
     "text": [
      "'PCAR'\n",
      "'BIGC'\n",
      "'GOOGL'\n",
      "'NMTR'\n",
      "'MDVL'\n",
      "'PTEN'\n",
      "'GDRX'\n",
      "'VLY'\n",
      "'MARK'\n",
      "'OXLC'\n",
      "'VRAR'\n",
      "'SSNC'\n",
      "'AEHR'\n",
      "'PGEN'\n",
      "'UMPQ'\n",
      "'ABCL'\n",
      "'CYTK'\n",
      "'NKTR'\n",
      "'VRTX'\n",
      "'NTEC'\n",
      "'BYND'\n",
      "'KBWB'\n"
     ]
    },
    {
     "name": "stderr",
     "output_type": "stream",
     "text": [
      "sleep 3 seconds and retrying https://data.alpaca.markets/v1/bars/day 3 more time(s)...\n"
     ]
    },
    {
     "name": "stdout",
     "output_type": "stream",
     "text": [
      "'HEPA'\n",
      "'VSTM'\n",
      "'ASTC'\n",
      "'CKPT'\n",
      "'ADVM'\n",
      "'ARKO'\n",
      "'GWAC'\n",
      "'SELB'\n",
      "'VMEO'\n",
      "'APLS'\n",
      "'POLA'\n",
      "'RAIL'\n",
      "'PTE'\n"
     ]
    },
    {
     "name": "stderr",
     "output_type": "stream",
     "text": [
      "sleep 3 seconds and retrying https://data.alpaca.markets/v1/bars/day 3 more time(s)...\n"
     ]
    },
    {
     "name": "stdout",
     "output_type": "stream",
     "text": [
      "'APP'\n",
      "'TBIO'\n",
      "'NXPI'\n",
      "'ESPR'\n",
      "'HLIT'\n",
      "'BSCL'\n",
      "'ONB'\n",
      "'EXAS'\n",
      "'KLIC'\n",
      "'REG'\n",
      "'SFT'\n",
      "'MIME'\n",
      "'CRBU'\n",
      "'WTER'\n"
     ]
    },
    {
     "name": "stderr",
     "output_type": "stream",
     "text": [
      "sleep 3 seconds and retrying https://data.alpaca.markets/v1/bars/day 3 more time(s)...\n"
     ]
    },
    {
     "name": "stdout",
     "output_type": "stream",
     "text": [
      "'POSH'\n",
      "'CRDF'\n",
      "'FCVT'\n",
      "'BLUW'\n",
      "'SUNW'\n",
      "'SQBG'\n",
      "'LESL'\n",
      "'TXG'\n",
      "'SHCR'\n",
      "'MDRX'\n",
      "'DSKE'\n",
      "'ACWI'\n",
      "'VISL'\n"
     ]
    },
    {
     "name": "stderr",
     "output_type": "stream",
     "text": [
      "sleep 3 seconds and retrying https://data.alpaca.markets/v1/bars/day 3 more time(s)...\n"
     ]
    },
    {
     "name": "stdout",
     "output_type": "stream",
     "text": [
      "'QTT'\n",
      "'VMBS'\n",
      "'HIBB'\n",
      "'HUIZ'\n",
      "'ADIL'\n",
      "'STKL'\n",
      "'BLUE'\n",
      "'TASK'\n",
      "'PPTA'\n",
      "'TWNK'\n",
      "'IGIB'\n",
      "'EPZM'\n"
     ]
    },
    {
     "name": "stderr",
     "output_type": "stream",
     "text": [
      "sleep 3 seconds and retrying https://data.alpaca.markets/v1/bars/day 3 more time(s)...\n"
     ]
    },
    {
     "name": "stdout",
     "output_type": "stream",
     "text": [
      "'SHLS'\n",
      "'IMVT'\n",
      "'FUV'\n",
      "'LRCX'\n",
      "'VTWO'\n",
      "'SGMO'\n",
      "'NTLA'\n",
      "'CERS'\n",
      "'PLIN'\n",
      "'RCM'\n",
      "'MOSY'\n",
      "'TER'\n",
      "'ANGI'\n",
      "'YY'\n",
      "'INVA'\n",
      "'CPRT'\n"
     ]
    },
    {
     "name": "stderr",
     "output_type": "stream",
     "text": [
      "sleep 3 seconds and retrying https://data.alpaca.markets/v1/bars/day 3 more time(s)...\n"
     ]
    },
    {
     "name": "stdout",
     "output_type": "stream",
     "text": [
      "'IIVI'\n",
      "'PAVM'\n",
      "'CHX'\n",
      "'RGLS'\n",
      "'DSEY'\n",
      "'PALI'\n",
      "'MXCT'\n",
      "'QSI'\n",
      "'SOXX'\n",
      "'LPRO'\n",
      "'ALGM'\n",
      "'AGFY'\n",
      "'COUP'\n"
     ]
    },
    {
     "name": "stderr",
     "output_type": "stream",
     "text": [
      "sleep 3 seconds and retrying https://data.alpaca.markets/v1/bars/day 3 more time(s)...\n"
     ]
    },
    {
     "name": "stdout",
     "output_type": "stream",
     "text": [
      "'PLBY'\n",
      "'FSLR'\n",
      "'INOV'\n",
      "'AXSM'\n",
      "'AXAS'\n",
      "'WOOF'\n",
      "'TYME'\n",
      "'LULU'\n",
      "'EWCZ'\n",
      "'DLPN'\n",
      "'SANA'\n",
      "'CLOU'\n",
      "'CERN'\n",
      "'XRAY'\n",
      "'GLPI'\n"
     ]
    },
    {
     "name": "stderr",
     "output_type": "stream",
     "text": [
      "sleep 3 seconds and retrying https://data.alpaca.markets/v1/bars/day 3 more time(s)...\n"
     ]
    },
    {
     "name": "stdout",
     "output_type": "stream",
     "text": [
      "'VYNE'\n",
      "'TPIC'\n",
      "'REGN'\n",
      "'VBLT'\n",
      "'WLTW'\n",
      "'BASE'\n",
      "'ENOB'\n",
      "'GNOG'\n",
      "'BLNK'\n",
      "'PIXY'\n",
      "'CLSD'\n",
      "'INMB'\n",
      "'GROM'\n"
     ]
    },
    {
     "name": "stderr",
     "output_type": "stream",
     "text": [
      "sleep 3 seconds and retrying https://data.alpaca.markets/v1/bars/day 3 more time(s)...\n"
     ]
    },
    {
     "name": "stdout",
     "output_type": "stream",
     "text": [
      "'INTU'\n",
      "'DBGI'\n",
      "'XBIO'\n",
      "'MKTW'\n",
      "'ARPO'\n",
      "'ALLO'\n",
      "'MOXC'\n",
      "'ELYS'\n",
      "'GRPN'\n",
      "'ACRX'\n",
      "'TEDU'\n",
      "'LOGI'\n",
      "'FIVE'\n",
      "'CIBR'\n",
      "'INSG'\n",
      "'INVZ'\n",
      "'CMRX'\n",
      "'TTMI'\n",
      "'AFIN'\n",
      "'MOHO'\n",
      "'ECOR'\n"
     ]
    },
    {
     "name": "stderr",
     "output_type": "stream",
     "text": [
      "sleep 3 seconds and retrying https://data.alpaca.markets/v1/bars/day 3 more time(s)...\n"
     ]
    },
    {
     "name": "stdout",
     "output_type": "stream",
     "text": [
      "'ZSAN'\n",
      "'BUG'\n",
      "'ALKS'\n",
      "'MBB'\n",
      "'FGEN'\n",
      "'LKQ'\n",
      "'ALT'\n",
      "'TEAM'\n",
      "'ICPT'\n",
      "'WW'\n",
      "'SYKE'\n"
     ]
    },
    {
     "name": "stderr",
     "output_type": "stream",
     "text": [
      "sleep 3 seconds and retrying https://data.alpaca.markets/v1/bars/day 3 more time(s)...\n"
     ]
    },
    {
     "name": "stdout",
     "output_type": "stream",
     "text": [
      "'CLOVW'\n",
      "'VIR'\n",
      "'LILAK'\n",
      "'CONE'\n",
      "'VG'\n",
      "'PUBM'\n",
      "'OSAT'\n",
      "'AAXJ'\n",
      "'KNBE'\n",
      "'LEDS'\n",
      "'ULTA'\n",
      "'TENB'\n",
      "'ATSG'\n",
      "'ATRA'\n",
      "'CDK'\n"
     ]
    },
    {
     "name": "stderr",
     "output_type": "stream",
     "text": [
      "sleep 3 seconds and retrying https://data.alpaca.markets/v1/bars/day 3 more time(s)...\n"
     ]
    },
    {
     "name": "stdout",
     "output_type": "stream",
     "text": [
      "'LPTX'\n",
      "'LCIDW'\n",
      "'CCXI'\n",
      "'CFLT'\n",
      "'PCT'\n",
      "'MF'\n",
      "'ADP'\n",
      "'SLRX'\n",
      "'VRAY'\n",
      "'AMKR'\n",
      "'ORTX'\n",
      "'OSTK'\n",
      "'CSIQ'\n"
     ]
    },
    {
     "name": "stderr",
     "output_type": "stream",
     "text": [
      "sleep 3 seconds and retrying https://data.alpaca.markets/v1/bars/day 3 more time(s)...\n"
     ]
    },
    {
     "name": "stdout",
     "output_type": "stream",
     "text": [
      "'OCUL'\n",
      "'AREC'\n",
      "'BSCM'\n",
      "'GOOG'\n",
      "'PRCH'\n",
      "'HGEN'\n",
      "'TRUE'\n",
      "'AUTL'\n",
      "'TBLA'\n",
      "'SSRM'\n",
      "'TLS'\n",
      "'LPTH'\n",
      "'REED'\n"
     ]
    },
    {
     "name": "stderr",
     "output_type": "stream",
     "text": [
      "sleep 3 seconds and retrying https://data.alpaca.markets/v1/bars/day 3 more time(s)...\n"
     ]
    },
    {
     "name": "stdout",
     "output_type": "stream",
     "text": [
      "'INMD'\n",
      "'TXRH'\n",
      "'KTOS'\n",
      "'MICT'\n",
      "'PRPL'\n",
      "'GPRE'\n",
      "'ZGNX'\n",
      "'CGEN'\n",
      "'NARI'\n",
      "'ADMA'\n",
      "'OBSV'\n",
      "'CNDT'\n",
      "'CDNS'\n",
      "'ROIC'\n",
      "'RTLR'\n",
      "'ACVA'\n",
      "'FLYW'\n",
      "'LLNW'\n",
      "'HEPS'\n"
     ]
    },
    {
     "name": "stderr",
     "output_type": "stream",
     "text": [
      "sleep 3 seconds and retrying https://data.alpaca.markets/v1/bars/day 3 more time(s)...\n"
     ]
    },
    {
     "name": "stdout",
     "output_type": "stream",
     "text": [
      "'YELL'\n",
      "'SMED'\n",
      "'LTCH'\n",
      "'ATNX'\n",
      "'AVXL'\n",
      "'ENVX'\n",
      "'IOVA'\n",
      "'PDSB'\n",
      "'UONE'\n",
      "'TRVN'\n",
      "'TWOU'\n",
      "'GOVX'\n",
      "'AQMS'\n"
     ]
    },
    {
     "name": "stderr",
     "output_type": "stream",
     "text": [
      "sleep 3 seconds and retrying https://data.alpaca.markets/v1/bars/day 3 more time(s)...\n"
     ]
    },
    {
     "name": "stdout",
     "output_type": "stream",
     "text": [
      "'FYBR'\n",
      "'IART'\n",
      "'BDSI'\n",
      "'NBRV'\n",
      "'GMDA'\n",
      "'MNST'\n",
      "'RRR'\n",
      "'RDVY'\n",
      "'NERV'\n",
      "'PAE'\n",
      "'SHV'\n",
      "'AGRX'\n",
      "'ZKIN'\n"
     ]
    },
    {
     "name": "stderr",
     "output_type": "stream",
     "text": [
      "sleep 3 seconds and retrying https://data.alpaca.markets/v1/bars/day 3 more time(s)...\n"
     ]
    },
    {
     "name": "stdout",
     "output_type": "stream",
     "text": [
      "'SNCR'\n",
      "'FATE'\n",
      "'SIEN'\n",
      "'SVFA'\n",
      "'EXTR'\n",
      "'ESGE'\n",
      "'NTRA'\n",
      "'CRDL'\n",
      "'NBEV'\n",
      "'ENVB'\n",
      "'NVIV'\n",
      "'BSJN'\n",
      "'ARCT'\n"
     ]
    },
    {
     "name": "stderr",
     "output_type": "stream",
     "text": [
      "sleep 3 seconds and retrying https://data.alpaca.markets/v1/bars/day 3 more time(s)...\n"
     ]
    },
    {
     "name": "stdout",
     "output_type": "stream",
     "text": [
      "'UPWK'\n",
      "'FTNT'\n",
      "'CRBP'\n",
      "'ESGU'\n",
      "'BLDE'\n",
      "'RESN'\n",
      "'GOGO'\n",
      "'VVOS'\n",
      "'CHRW'\n",
      "'HZNP'\n",
      "'BLFY'\n",
      "'PDCO'\n",
      "'AVRO'\n",
      "'SY'\n",
      "'KNDI'\n",
      "'GNTX'\n",
      "'VCYT'\n",
      "'REGI'\n"
     ]
    },
    {
     "name": "stderr",
     "output_type": "stream",
     "text": [
      "sleep 3 seconds and retrying https://data.alpaca.markets/v1/bars/day 3 more time(s)...\n"
     ]
    },
    {
     "name": "stdout",
     "output_type": "stream",
     "text": [
      "'BEAM'\n",
      "'IMV'\n",
      "'JBHT'\n",
      "'BTB'\n",
      "'XPDI'\n",
      "'CLSN'\n",
      "'GO'\n",
      "'KBSF'\n",
      "'OCX'\n",
      "'AIKI'\n",
      "'CHTR'\n",
      "'PERI'\n"
     ]
    },
    {
     "name": "stderr",
     "output_type": "stream",
     "text": [
      "sleep 3 seconds and retrying https://data.alpaca.markets/v1/bars/day 3 more time(s)...\n"
     ]
    },
    {
     "name": "stdout",
     "output_type": "stream",
     "text": [
      "'LSCC'\n",
      "'ASLN'\n",
      "'CME'\n",
      "'GGPI'\n",
      "'DYAI'\n",
      "'FTCV'\n",
      "'CRSP'\n",
      "'CROX'\n",
      "'WETF'\n",
      "'LPCN'\n",
      "'AESE'\n",
      "'XAIR'\n",
      "'EXPD'\n"
     ]
    },
    {
     "name": "stderr",
     "output_type": "stream",
     "text": [
      "sleep 3 seconds and retrying https://data.alpaca.markets/v1/bars/day 3 more time(s)...\n"
     ]
    },
    {
     "name": "stdout",
     "output_type": "stream",
     "text": [
      "'STIM'\n",
      "'SINT'\n",
      "'IBRX'\n",
      "'ENG'\n",
      "'ZY'\n",
      "'PAYX'\n",
      "'DHC'\n",
      "'CDW'\n",
      "'BSJM'\n",
      "'USLB'\n",
      "'SRAC'\n",
      "'CASI'\n"
     ]
    },
    {
     "name": "stderr",
     "output_type": "stream",
     "text": [
      "sleep 3 seconds and retrying https://data.alpaca.markets/v1/bars/day 3 more time(s)...\n"
     ]
    },
    {
     "name": "stdout",
     "output_type": "stream",
     "text": [
      "'NEO'\n",
      "'FRSX'\n",
      "'IBKR'\n",
      "'AVGR'\n",
      "'ACAD'\n",
      "'KVSB'\n",
      "'USWSW'\n",
      "'KURA'\n",
      "'PDCE'\n",
      "'STRR'\n",
      "'BLFS'\n",
      "'ONCT'\n",
      "'INSM'\n",
      "'NNOX'\n",
      "'CRCT'\n",
      "'EYES'\n"
     ]
    },
    {
     "name": "stderr",
     "output_type": "stream",
     "text": [
      "sleep 3 seconds and retrying https://data.alpaca.markets/v1/bars/day 3 more time(s)...\n"
     ]
    },
    {
     "name": "stdout",
     "output_type": "stream",
     "text": [
      "'WATT'\n",
      "'ALRN'\n",
      "'MTC'\n",
      "'RIGL'\n",
      "'TMTS'\n",
      "'QUBT'\n",
      "'IUSB'\n",
      "'TRVG'\n",
      "'NLTX'\n",
      "'IEI'\n",
      "'HEAR'\n",
      "'JFU'\n",
      "'PLAB'\n",
      "'STAF'\n",
      "'CTXS'\n",
      "'XP'\n",
      "'ORMP'\n",
      "'MRVI'\n",
      "'LBTYA'\n",
      "'RMBS'\n",
      "'HNDL'\n",
      "'GSKY'\n"
     ]
    },
    {
     "name": "stderr",
     "output_type": "stream",
     "text": [
      "sleep 3 seconds and retrying https://data.alpaca.markets/v1/bars/day 3 more time(s)...\n"
     ]
    },
    {
     "name": "stdout",
     "output_type": "stream",
     "text": [
      "'BYFC'\n",
      "'BTRS'\n",
      "'ENNV'\n",
      "'IONS'\n",
      "'FA'\n",
      "'PRFX'\n",
      "'HALO'\n",
      "'HRTX'\n",
      "'SVC'\n",
      "'DSKEW'\n",
      "'TLMD'\n",
      "'RPD'\n",
      "'BHAT'\n"
     ]
    },
    {
     "name": "stderr",
     "output_type": "stream",
     "text": [
      "sleep 3 seconds and retrying https://data.alpaca.markets/v1/bars/day 3 more time(s)...\n"
     ]
    },
    {
     "name": "stdout",
     "output_type": "stream",
     "text": [
      "'PPSI'\n",
      "'LIVX'\n",
      "'CHNG'\n",
      "'UGRO'\n",
      "'SGBX'\n",
      "'GBT'\n",
      "'ZG'\n",
      "'SEDG'\n",
      "'RLAY'\n",
      "'MSTR'\n",
      "'VERO'\n",
      "'GLYC'\n",
      "'DADA'\n",
      "'UCTT'\n"
     ]
    },
    {
     "name": "stderr",
     "output_type": "stream",
     "text": [
      "sleep 3 seconds and retrying https://data.alpaca.markets/v1/bars/day 3 more time(s)...\n"
     ]
    },
    {
     "name": "stdout",
     "output_type": "stream",
     "text": [
      "'ITCI'\n",
      "'LNT'\n",
      "'SKYT'\n",
      "'ATNF'\n",
      "'KLTR'\n",
      "'NIU'\n",
      "'CPRX'\n",
      "'VFF'\n",
      "'EXPI'\n",
      "'BLCT'\n",
      "'CLEU'\n",
      "'USIG'\n",
      "'CYRN'\n"
     ]
    },
    {
     "name": "stderr",
     "output_type": "stream",
     "text": [
      "sleep 3 seconds and retrying https://data.alpaca.markets/v1/bars/day 3 more time(s)...\n"
     ]
    },
    {
     "name": "stdout",
     "output_type": "stream",
     "text": [
      "'ATEC'\n",
      "'LSXMK'\n",
      "'PGNY'\n",
      "'SDGR'\n",
      "'AQB'\n",
      "'ARCE'\n",
      "'ELMS'\n",
      "'QRVO'\n",
      "'FTCI'\n",
      "'TRMB'\n",
      "'SIOX'\n",
      "'FROG'\n",
      "'USEG'\n"
     ]
    },
    {
     "name": "stderr",
     "output_type": "stream",
     "text": [
      "sleep 3 seconds and retrying https://data.alpaca.markets/v1/bars/day 3 more time(s)...\n"
     ]
    },
    {
     "name": "stdout",
     "output_type": "stream",
     "text": [
      "'CBAT'\n",
      "'FLWS'\n",
      "'JAZZ'\n",
      "'PLCE'\n",
      "'FLGT'\n",
      "'VALN'\n",
      "'FULT'\n",
      "'RPHM'\n",
      "'SAGE'\n",
      "'SINO'\n",
      "'INDI'\n",
      "'MREO'\n",
      "'JG'\n",
      "'TWCT'\n",
      "'DTST'\n"
     ]
    },
    {
     "name": "stderr",
     "output_type": "stream",
     "text": [
      "sleep 3 seconds and retrying https://data.alpaca.markets/v1/bars/day 3 more time(s)...\n"
     ]
    },
    {
     "name": "stdout",
     "output_type": "stream",
     "text": [
      "'AY'\n",
      "'ACIW'\n",
      "'VGIT'\n",
      "'CRTD'\n",
      "'PFG'\n",
      "'GCMG'\n",
      "'WERN'\n",
      "'ZLAB'\n",
      "'PANL'\n",
      "'WMG'\n",
      "'CHK'\n",
      "'SIBN'\n",
      "'RRGB'\n",
      "'AIRTW'\n"
     ]
    },
    {
     "name": "stderr",
     "output_type": "stream",
     "text": [
      "sleep 3 seconds and retrying https://data.alpaca.markets/v1/bars/day 3 more time(s)...\n"
     ]
    },
    {
     "name": "stdout",
     "output_type": "stream",
     "text": [
      "'ADVWW'\n",
      "'BTCY'\n",
      "'SQLLW'\n",
      "'GLNG'\n",
      "'TVTX'\n",
      "'BIIB'\n",
      "'CPOP'\n",
      "'ARWR'\n",
      "'JZXN'\n",
      "'DYNS'\n",
      "'ACTG'\n",
      "'ERAS'\n",
      "'DCT'\n",
      "'INCY'\n"
     ]
    },
    {
     "name": "stderr",
     "output_type": "stream",
     "text": [
      "sleep 3 seconds and retrying https://data.alpaca.markets/v1/bars/day 3 more time(s)...\n"
     ]
    },
    {
     "name": "stdout",
     "output_type": "stream",
     "text": [
      "'MAPS'\n",
      "'SHC'\n",
      "'OZON'\n",
      "'FLDM'\n",
      "'NTRS'\n",
      "'PPC'\n",
      "'TRKA'\n",
      "'GRMN'\n",
      "'MDB'\n",
      "'HUMA'\n",
      "'FULC'\n",
      "'IRCP'\n",
      "'JFIN'\n"
     ]
    },
    {
     "name": "stderr",
     "output_type": "stream",
     "text": [
      "sleep 3 seconds and retrying https://data.alpaca.markets/v1/bars/day 3 more time(s)...\n"
     ]
    },
    {
     "name": "stdout",
     "output_type": "stream",
     "text": [
      "'MDXG'\n",
      "'ONDS'\n",
      "'IZEA'\n",
      "'ADNWW'\n",
      "'SLVO'\n",
      "'FWONK'\n",
      "'SYNA'\n",
      "'LTRPA'\n",
      "'MOGO'\n",
      "'CODX'\n",
      "'TNDM'\n",
      "'MESA'\n",
      "'ASMB'\n",
      "'CONN'\n",
      "'DXCM'\n"
     ]
    },
    {
     "name": "stderr",
     "output_type": "stream",
     "text": [
      "sleep 3 seconds and retrying https://data.alpaca.markets/v1/bars/day 3 more time(s)...\n"
     ]
    },
    {
     "name": "stdout",
     "output_type": "stream",
     "text": [
      "'HNST'\n",
      "'NCNA'\n",
      "'SGEN'\n",
      "'ASML'\n",
      "'SCOR'\n",
      "'DYNT'\n",
      "'FNKO'\n",
      "'HSTO'\n",
      "'BZ'\n",
      "'MYGN'\n",
      "'VYGR'\n",
      "'MCFE'\n",
      "'BYRN'\n",
      "'IMMR'\n",
      "'AEMD'\n"
     ]
    },
    {
     "name": "stderr",
     "output_type": "stream",
     "text": [
      "sleep 3 seconds and retrying https://data.alpaca.markets/v1/bars/day 3 more time(s)...\n"
     ]
    },
    {
     "name": "stdout",
     "output_type": "stream",
     "text": [
      "'CDTX'\n",
      "'APRE'\n",
      "'WIX'\n",
      "'XCUR'\n",
      "'IMAB'\n",
      "'MKTY'\n",
      "'FRHC'\n",
      "'BPMC'\n",
      "'BBIO'\n",
      "'SKYW'\n",
      "'SUPN'\n",
      "'GAN'\n"
     ]
    },
    {
     "name": "stderr",
     "output_type": "stream",
     "text": [
      "sleep 3 seconds and retrying https://data.alpaca.markets/v1/bars/day 3 more time(s)...\n"
     ]
    },
    {
     "name": "stdout",
     "output_type": "stream",
     "text": [
      "'ASTRW'\n",
      "'CORT'\n",
      "'CERE'\n",
      "'EGLX'\n",
      "'FOX'\n",
      "'TSCO'\n",
      "'HDSN'\n",
      "'USOI'\n",
      "'ADV'\n",
      "'TRMK'\n",
      "'IHRT'\n"
     ]
    },
    {
     "name": "stderr",
     "output_type": "stream",
     "text": [
      "sleep 3 seconds and retrying https://data.alpaca.markets/v1/bars/day 3 more time(s)...\n"
     ]
    },
    {
     "name": "stdout",
     "output_type": "stream",
     "text": [
      "'LGHL'\n",
      "'SYTA'\n",
      "'ISTB'\n",
      "'FLNT'\n",
      "'BGNE'\n",
      "'VIVE'\n",
      "'KLAC'\n",
      "'CERT'\n",
      "'MASS'\n",
      "'SJ'\n",
      "'DRVN'\n",
      "'PRIM'\n",
      "'PFMT'\n",
      "'LZ'\n",
      "'GDYN'\n"
     ]
    },
    {
     "name": "stderr",
     "output_type": "stream",
     "text": [
      "sleep 3 seconds and retrying https://data.alpaca.markets/v1/bars/day 3 more time(s)...\n"
     ]
    },
    {
     "name": "stdout",
     "output_type": "stream",
     "text": [
      "'VRRM'\n",
      "'PETS'\n",
      "'MBII'\n",
      "'KDNY'\n",
      "'ABSI'\n",
      "'DENN'\n",
      "'RANI'\n",
      "'KMPH'\n",
      "'VREX'\n",
      "'HYRE'\n",
      "'VCLT'\n",
      "'RNWK'\n",
      "'AMBA'\n",
      "'EH'\n",
      "'QQQM'\n",
      "'SSYS'\n",
      "'SYRS'\n",
      "'NETE'\n",
      "'SBBP'\n",
      "'AYRO'\n",
      "'LTRX'\n",
      "'COMT'\n",
      "'BSY'\n"
     ]
    },
    {
     "name": "stderr",
     "output_type": "stream",
     "text": [
      "sleep 3 seconds and retrying https://data.alpaca.markets/v1/bars/day 3 more time(s)...\n"
     ]
    },
    {
     "name": "stdout",
     "output_type": "stream",
     "text": [
      "'BOTZ'\n",
      "'ALNY'\n",
      "'NDRA'\n",
      "'SCR'\n",
      "'XENT'\n",
      "'EPIX'\n",
      "'SPWH'\n",
      "'FPAY'\n",
      "'CALA'\n",
      "'AUUD'\n",
      "'TROW'\n",
      "'ULCC'\n"
     ]
    },
    {
     "name": "stderr",
     "output_type": "stream",
     "text": [
      "sleep 3 seconds and retrying https://data.alpaca.markets/v1/bars/day 3 more time(s)...\n"
     ]
    },
    {
     "name": "stdout",
     "output_type": "stream",
     "text": [
      "'RARE'\n",
      "'LMNL'\n",
      "'HMHC'\n",
      "'IGF'\n",
      "'FBRX'\n",
      "'DTIL'\n",
      "'AXON'\n",
      "'HOMB'\n",
      "'ICLR'\n",
      "'ODFL'\n",
      "'CMAX'\n",
      "'NCNO'\n",
      "'SURF'\n",
      "'TOPS'\n"
     ]
    },
    {
     "name": "stderr",
     "output_type": "stream",
     "text": [
      "sleep 3 seconds and retrying https://data.alpaca.markets/v1/bars/day 3 more time(s)...\n"
     ]
    },
    {
     "name": "stdout",
     "output_type": "stream",
     "text": [
      "'ATRS'\n",
      "'GRTS'\n",
      "'OLB'\n",
      "'QDEL'\n",
      "'SGRY'\n",
      "'PPD'\n",
      "'EFTR'\n",
      "'ATOM'\n",
      "'CHKP'\n",
      "'ALEC'\n",
      "'EYE'\n",
      "'BSCN'\n",
      "'CREG'\n"
     ]
    },
    {
     "name": "stderr",
     "output_type": "stream",
     "text": [
      "sleep 3 seconds and retrying https://data.alpaca.markets/v1/bars/day 3 more time(s)...\n"
     ]
    },
    {
     "name": "stdout",
     "output_type": "stream",
     "text": [
      "'HYFM'\n",
      "'LMBS'\n",
      "'MRTX'\n",
      "'NOVN'\n",
      "'EBC'\n",
      "'OM'\n",
      "'CRNT'\n",
      "'ASTSW'\n",
      "'DOMO'\n",
      "'API'\n",
      "'KNSA'\n",
      "'MDGS'\n"
     ]
    },
    {
     "name": "stderr",
     "output_type": "stream",
     "text": [
      "sleep 3 seconds and retrying https://data.alpaca.markets/v1/bars/day 3 more time(s)...\n"
     ]
    },
    {
     "name": "stdout",
     "output_type": "stream",
     "text": [
      "'QURE'\n",
      "'SATS'\n",
      "'WGRO'\n",
      "'SMTC'\n",
      "'RIBT'\n",
      "'BBI'\n",
      "'SNPS'\n",
      "'IDXX'\n",
      "'NMRK'\n",
      "'BNR'\n",
      "'HOPE'\n",
      "'FTXN'\n",
      "'AMTX'\n",
      "'JNCE'\n",
      "'ATHE'\n",
      "'CTKB'\n",
      "'SNTG'\n"
     ]
    },
    {
     "name": "stderr",
     "output_type": "stream",
     "text": [
      "sleep 3 seconds and retrying https://data.alpaca.markets/v1/bars/day 3 more time(s)...\n"
     ]
    },
    {
     "name": "stdout",
     "output_type": "stream",
     "text": [
      "'CDNA'\n",
      "'LBRDK'\n",
      "'MOTS'\n",
      "'ZENV'\n",
      "'JOAN'\n",
      "'ABEO'\n",
      "'TWST'\n",
      "'RVMD'\n",
      "'USCR'\n",
      "'SVFAU'\n",
      "'ADGI'\n",
      "'DISAU'\n",
      "'PRFT'\n",
      "'TCBI'\n"
     ]
    },
    {
     "name": "stderr",
     "output_type": "stream",
     "text": [
      "sleep 3 seconds and retrying https://data.alpaca.markets/v1/bars/day 3 more time(s)...\n"
     ]
    },
    {
     "name": "stdout",
     "output_type": "stream",
     "text": [
      "'CVAC'\n",
      "'HQY'\n",
      "'PLYA'\n",
      "'PTCT'\n",
      "'QUMU'\n",
      "'SRCL'\n",
      "'ORBC'\n",
      "'ABVC'\n",
      "'GRFS'\n",
      "'STEP'\n",
      "'FTGC'\n",
      "'MRAM'\n",
      "'CBAY'\n"
     ]
    },
    {
     "name": "stderr",
     "output_type": "stream",
     "text": [
      "sleep 3 seconds and retrying https://data.alpaca.markets/v1/bars/day 3 more time(s)...\n"
     ]
    },
    {
     "name": "stdout",
     "output_type": "stream",
     "text": [
      "'ARNA'\n",
      "'CHRS'\n",
      "'LAUR'\n",
      "'SEER'\n",
      "'PRTS'\n",
      "'ACCD'\n",
      "'EAST'\n",
      "'SVRA'\n",
      "'BHF'\n",
      "'AXNX'\n",
      "'VWTR'\n",
      "'SUMO'\n",
      "'NDAQ'\n"
     ]
    },
    {
     "name": "stderr",
     "output_type": "stream",
     "text": [
      "sleep 3 seconds and retrying https://data.alpaca.markets/v1/bars/day 3 more time(s)...\n"
     ]
    },
    {
     "name": "stdout",
     "output_type": "stream",
     "text": [
      "'ORGO'\n",
      "'EVOP'\n",
      "'VACQW'\n",
      "'TAST'\n",
      "'EOSE'\n",
      "'ARVN'\n",
      "'GTBP'\n",
      "'RWLK'\n",
      "'VRSK'\n",
      "'APPN'\n",
      "'IRBT'\n",
      "'GALT'\n",
      "'PLL'\n",
      "'VCEL'\n",
      "'PSCE'\n",
      "'SPT'\n",
      "'FTSL'\n"
     ]
    },
    {
     "name": "stderr",
     "output_type": "stream",
     "text": [
      "sleep 3 seconds and retrying https://data.alpaca.markets/v1/bars/day 3 more time(s)...\n"
     ]
    },
    {
     "name": "stdout",
     "output_type": "stream",
     "text": [
      "'COOP'\n",
      "'PRTA'\n",
      "'NFE'\n",
      "'RCII'\n",
      "'UONEK'\n",
      "'SCPL'\n",
      "'BGRY'\n",
      "'EFTRW'\n",
      "'SBAC'\n",
      "'MNTS'\n",
      "'ATHA'\n"
     ]
    },
    {
     "name": "stderr",
     "output_type": "stream",
     "text": [
      "sleep 3 seconds and retrying https://data.alpaca.markets/v1/bars/day 3 more time(s)...\n"
     ]
    },
    {
     "name": "stdout",
     "output_type": "stream",
     "text": [
      "'GBDC'\n",
      "'KVSC'\n",
      "'HUGE'\n",
      "'BRP'\n",
      "'AHCO'\n",
      "'ASRT'\n",
      "'YI'\n",
      "'CLAY'\n",
      "'LPLA'\n",
      "'ENTG'\n",
      "'PRVA'\n",
      "'BRKS'\n",
      "'MITO'\n",
      "'TDUP'\n",
      "'AGIO'\n",
      "'YJ'\n"
     ]
    },
    {
     "name": "stderr",
     "output_type": "stream",
     "text": [
      "sleep 3 seconds and retrying https://data.alpaca.markets/v1/bars/day 3 more time(s)...\n"
     ]
    },
    {
     "name": "stdout",
     "output_type": "stream",
     "text": [
      "'MNTV'\n",
      "'SRET'\n",
      "'ONCR'\n",
      "'RSVR'\n",
      "'NVCR'\n",
      "'VIACP'\n",
      "'QELLW'\n",
      "'SILK'\n",
      "'FTDR'\n",
      "'NWS'\n",
      "'HSIC'\n",
      "'HOTH'\n"
     ]
    },
    {
     "name": "stderr",
     "output_type": "stream",
     "text": [
      "sleep 3 seconds and retrying https://data.alpaca.markets/v1/bars/day 3 more time(s)...\n"
     ]
    },
    {
     "name": "stdout",
     "output_type": "stream",
     "text": [
      "'VSAT'\n",
      "'MNDY'\n",
      "'ILPT'\n",
      "'NVFY'\n",
      "'ADPT'\n",
      "'GIII'\n",
      "'GAME'\n",
      "'SGHT'\n",
      "'CGNT'\n",
      "'ARKOW'\n",
      "'DSP'\n",
      "'DPRO'\n",
      "'VTVT'\n"
     ]
    },
    {
     "name": "stderr",
     "output_type": "stream",
     "text": [
      "sleep 3 seconds and retrying https://data.alpaca.markets/v1/bars/day 3 more time(s)...\n"
     ]
    },
    {
     "name": "stdout",
     "output_type": "stream",
     "text": [
      "'CSCW'\n",
      "'RGC'\n",
      "'EVLV'\n",
      "'NUWE'\n",
      "'BECN'\n",
      "'MAXN'\n",
      "'AAOI'\n",
      "'ALDX'\n",
      "'XPER'\n",
      "'OVID'\n",
      "'QLGN'\n",
      "'XNCR'\n",
      "'CVBF'\n",
      "'DCPH'\n",
      "'CTMX'\n",
      "'CDLX'\n",
      "'UROY'\n",
      "'RXRX'\n",
      "'EUFN'\n",
      "'PSET'\n",
      "'NSTG'\n",
      "'GTX'\n",
      "'FOSL'\n"
     ]
    },
    {
     "name": "stderr",
     "output_type": "stream",
     "text": [
      "sleep 3 seconds and retrying https://data.alpaca.markets/v1/bars/day 3 more time(s)...\n"
     ]
    },
    {
     "name": "stdout",
     "output_type": "stream",
     "text": [
      "'FORM'\n",
      "'GRSV'\n",
      "'ALGN'\n",
      "'PHO'\n",
      "'III'\n",
      "'OLK'\n",
      "'TMTSW'\n",
      "'SGMS'\n",
      "'ELOX'\n",
      "'ESGD'\n",
      "'NBIX'\n"
     ]
    },
    {
     "name": "stderr",
     "output_type": "stream",
     "text": [
      "sleep 3 seconds and retrying https://data.alpaca.markets/v1/bars/day 3 more time(s)...\n"
     ]
    },
    {
     "name": "stdout",
     "output_type": "stream",
     "text": [
      "'CVGI'\n",
      "'CABA'\n",
      "'NSIT'\n",
      "'BLRX'\n",
      "'EHTH'\n",
      "'EVBG'\n",
      "'KOSS'\n",
      "'NDSN'\n",
      "'EVCM'\n",
      "'VNDA'\n",
      "'IPA'\n",
      "'EZPW'\n",
      "'HTBX'\n",
      "'GNPX'\n",
      "'AMEH'\n"
     ]
    },
    {
     "name": "stderr",
     "output_type": "stream",
     "text": [
      "sleep 3 seconds and retrying https://data.alpaca.markets/v1/bars/day 3 more time(s)...\n"
     ]
    },
    {
     "name": "stdout",
     "output_type": "stream",
     "text": [
      "'VRNT'\n",
      "'BSJL'\n",
      "'LPSN'\n",
      "'BOLT'\n",
      "'PSNL'\n",
      "'GMTX'\n",
      "'QQQJ'\n",
      "'KIRK'\n",
      "'BIOC'\n",
      "'PRVB'\n",
      "'PINC'\n",
      "'DOX'\n"
     ]
    },
    {
     "name": "stderr",
     "output_type": "stream",
     "text": [
      "sleep 3 seconds and retrying https://data.alpaca.markets/v1/bars/day 3 more time(s)...\n"
     ]
    },
    {
     "name": "stdout",
     "output_type": "stream",
     "text": [
      "'VIOT'\n",
      "'CMPS'\n",
      "'OMER'\n",
      "'RBBN'\n",
      "'CFRX'\n",
      "'GBOX'\n",
      "'RAVE'\n",
      "'AYTU'\n",
      "'UK'\n",
      "'SLAM'\n",
      "'JUPW'\n",
      "'SMPL'\n",
      "'CENH'\n",
      "'ORLY'\n"
     ]
    },
    {
     "name": "stderr",
     "output_type": "stream",
     "text": [
      "sleep 3 seconds and retrying https://data.alpaca.markets/v1/bars/day 3 more time(s)...\n"
     ]
    },
    {
     "name": "stdout",
     "output_type": "stream",
     "text": [
      "'APDN'\n",
      "'PSTX'\n",
      "'CJJD'\n",
      "'BCEL'\n",
      "'AHAC'\n",
      "'IMTX'\n",
      "'PTC'\n",
      "'EAR'\n",
      "'IMAQ'\n",
      "'ANSS'\n",
      "'FIXX'\n",
      "'KERN'\n",
      "'COWN'\n",
      "'EOLS'\n",
      "'CGNX'\n"
     ]
    },
    {
     "name": "stderr",
     "output_type": "stream",
     "text": [
      "sleep 3 seconds and retrying https://data.alpaca.markets/v1/bars/day 3 more time(s)...\n"
     ]
    },
    {
     "name": "stdout",
     "output_type": "stream",
     "text": [
      "'CHKEZ'\n",
      "'NUVA'\n",
      "'RPAY'\n",
      "'NESRW'\n",
      "'MVSTW'\n",
      "'ISLE'\n",
      "'ENLV'\n",
      "'DFH'\n",
      "'FTSM'\n",
      "'LITE'\n",
      "'QIWI'\n",
      "'IAS'\n",
      "'DMTK'\n",
      "'DOGZ'\n",
      "'XPEL'\n"
     ]
    },
    {
     "name": "stderr",
     "output_type": "stream",
     "text": [
      "sleep 3 seconds and retrying https://data.alpaca.markets/v1/bars/day 3 more time(s)...\n"
     ]
    },
    {
     "name": "stdout",
     "output_type": "stream",
     "text": [
      "'TRIT'\n",
      "'FIXD'\n",
      "'BPOP'\n",
      "'CAPR'\n",
      "'ICHR'\n",
      "'PRQR'\n",
      "'INTA'\n",
      "'OSUR'\n",
      "'MANH'\n",
      "'TPTX'\n",
      "'XONE'\n",
      "'SKINW'\n",
      "'PMVP'\n"
     ]
    },
    {
     "name": "stderr",
     "output_type": "stream",
     "text": [
      "sleep 3 seconds and retrying https://data.alpaca.markets/v1/bars/day 3 more time(s)...\n"
     ]
    },
    {
     "name": "stdout",
     "output_type": "stream",
     "text": [
      "'UBX'\n",
      "'TCRR'\n",
      "'EWBC'\n",
      "'MEOH'\n",
      "'WAFD'\n",
      "'DVY'\n",
      "'JACK'\n",
      "'SBTX'\n",
      "'EQIX'\n",
      "'AWH'\n",
      "'IMAC'\n",
      "'EQOS'\n",
      "'GDEN'\n"
     ]
    },
    {
     "name": "stderr",
     "output_type": "stream",
     "text": [
      "sleep 3 seconds and retrying https://data.alpaca.markets/v1/bars/day 3 more time(s)...\n"
     ]
    },
    {
     "name": "stdout",
     "output_type": "stream",
     "text": [
      "'CSQ'\n",
      "'LSTR'\n",
      "'CUEN'\n",
      "'AGTC'\n",
      "'SAIA'\n",
      "'CTRE'\n",
      "'SNDX'\n",
      "'ACLS'\n",
      "'LSXMA'\n",
      "'IMAQW'\n",
      "'CVLG'\n",
      "'GRIN'\n",
      "'SBNY'\n",
      "'OLMA'\n"
     ]
    },
    {
     "name": "stderr",
     "output_type": "stream",
     "text": [
      "sleep 3 seconds and retrying https://data.alpaca.markets/v1/bars/day 3 more time(s)...\n"
     ]
    },
    {
     "name": "stdout",
     "output_type": "stream",
     "text": [
      "'ASND'\n",
      "'EMKR'\n",
      "'OB'\n",
      "'KZR'\n",
      "'SLGG'\n",
      "'TWCTW'\n",
      "'BRKR'\n",
      "'VNQI'\n",
      "'STWO'\n",
      "'FFIEW'\n",
      "'NGCA'\n",
      "'AVID'\n",
      "'DATSW'\n"
     ]
    },
    {
     "name": "stderr",
     "output_type": "stream",
     "text": [
      "sleep 3 seconds and retrying https://data.alpaca.markets/v1/bars/day 3 more time(s)...\n"
     ]
    },
    {
     "name": "stdout",
     "output_type": "stream",
     "text": [
      "'GMAB'\n",
      "'PRPO'\n",
      "'RMR'\n",
      "'OLED'\n",
      "'AVTX'\n",
      "'CRTO'\n",
      "'FLMN'\n",
      "'BJRI'\n",
      "'PXS'\n",
      "'POWI'\n",
      "'CYTO'\n",
      "'CLDX'\n",
      "'CCCC'\n",
      "'AVT'\n",
      "'MELI'\n"
     ]
    },
    {
     "name": "stderr",
     "output_type": "stream",
     "text": [
      "sleep 3 seconds and retrying https://data.alpaca.markets/v1/bars/day 3 more time(s)...\n"
     ]
    },
    {
     "name": "stdout",
     "output_type": "stream",
     "text": [
      "'MDWD'\n",
      "'CLPT'\n",
      "'FFBC'\n",
      "'DRIV'\n",
      "'PETV'\n",
      "'TLSA'\n",
      "'TECH'\n",
      "'RUTH'\n",
      "'EDTK'\n",
      "'PTIX'\n",
      "'CETX'\n",
      "'NMIH'\n",
      "'BOWX'\n"
     ]
    },
    {
     "name": "stderr",
     "output_type": "stream",
     "text": [
      "sleep 3 seconds and retrying https://data.alpaca.markets/v1/bars/day 3 more time(s)...\n"
     ]
    },
    {
     "name": "stdout",
     "output_type": "stream",
     "text": [
      "'LOB'\n",
      "'HCAT'\n",
      "'PVAC'\n",
      "'AAWW'\n",
      "'RCAT'\n",
      "'FHB'\n",
      "'OZK'\n",
      "'LAMR'\n",
      "'VONG'\n",
      "'KYMR'\n",
      "'MEIP'\n",
      "'SEAC'\n",
      "'HRMY'\n"
     ]
    },
    {
     "name": "stderr",
     "output_type": "stream",
     "text": [
      "sleep 3 seconds and retrying https://data.alpaca.markets/v1/bars/day 3 more time(s)...\n"
     ]
    },
    {
     "name": "stdout",
     "output_type": "stream",
     "text": [
      "'LEGN'\n",
      "'CMMB'\n",
      "'CERC'\n",
      "'BTWN'\n",
      "'IUSV'\n",
      "'SHOO'\n",
      "'OCG'\n",
      "'EEFT'\n",
      "'SNOA'\n",
      "'LWACU'\n",
      "'DIBS'\n",
      "'PCRX'\n",
      "'VERI'\n",
      "'CYRX'\n",
      "'IINN'\n",
      "'HCSG'\n",
      "'XMTR'\n",
      "'ELYM'\n",
      "'NWBI'\n",
      "'RNW'\n"
     ]
    },
    {
     "name": "stderr",
     "output_type": "stream",
     "text": [
      "sleep 3 seconds and retrying https://data.alpaca.markets/v1/bars/day 3 more time(s)...\n"
     ]
    },
    {
     "name": "stdout",
     "output_type": "stream",
     "text": [
      "'MFH'\n",
      "'RMGCU'\n",
      "'NEWT'\n",
      "'OCDX'\n",
      "'HAS'\n",
      "'CURI'\n",
      "'GSAQ'\n",
      "'GMBL'\n",
      "'GTIM'\n",
      "'SRAX'\n",
      "'NESR'\n",
      "'OCUP'\n",
      "'LBAI'\n"
     ]
    },
    {
     "name": "stderr",
     "output_type": "stream",
     "text": [
      "sleep 3 seconds and retrying https://data.alpaca.markets/v1/bars/day 3 more time(s)...\n"
     ]
    },
    {
     "name": "stdout",
     "output_type": "stream",
     "text": [
      "'GLBS'\n",
      "'ICVX'\n",
      "'OPTN'\n",
      "'CBRL'\n",
      "'SNPX'\n",
      "'CFAC'\n",
      "'SLDB'\n",
      "'SIMO'\n",
      "'HARP'\n",
      "'OMCL'\n",
      "'CSTL'\n",
      "'CRESY'\n"
     ]
    },
    {
     "name": "stderr",
     "output_type": "stream",
     "text": [
      "sleep 3 seconds and retrying https://data.alpaca.markets/v1/bars/day 3 more time(s)...\n"
     ]
    },
    {
     "name": "stdout",
     "output_type": "stream",
     "text": [
      "'RMTI'\n",
      "'MYMD'\n",
      "'CELU'\n",
      "'PPBI'\n",
      "'AINV'\n",
      "'CCOI'\n",
      "'AERI'\n",
      "'FMBI'\n",
      "'LIVKW'\n",
      "'SGH'\n",
      "'CDMO'\n",
      "'PAIC'\n",
      "'ACWX'\n",
      "'FTEK'\n"
     ]
    },
    {
     "name": "stderr",
     "output_type": "stream",
     "text": [
      "sleep 3 seconds and retrying https://data.alpaca.markets/v1/bars/day 3 more time(s)...\n"
     ]
    },
    {
     "name": "stdout",
     "output_type": "stream",
     "text": [
      "'EIGR'\n",
      "'SSB'\n",
      "'EVGN'\n",
      "'HTLD'\n",
      "'NATI'\n",
      "'SOHU'\n",
      "'ALHC'\n",
      "'ONEQ'\n",
      "'PACW'\n",
      "'CLXT'\n",
      "'VRSN'\n",
      "'CTSO'\n",
      "'SMCI'\n"
     ]
    },
    {
     "name": "stderr",
     "output_type": "stream",
     "text": [
      "sleep 3 seconds and retrying https://data.alpaca.markets/v1/bars/day 3 more time(s)...\n"
     ]
    },
    {
     "name": "stdout",
     "output_type": "stream",
     "text": [
      "'SRNGW'\n",
      "'PLXP'\n",
      "'LFMD'\n",
      "'VERV'\n",
      "'ISRG'\n",
      "'PNFP'\n",
      "'PYCR'\n",
      "'RADI'\n",
      "'TVACW'\n",
      "'SWAV'\n",
      "'RPID'\n",
      "'RGLD'\n",
      "'SIEB'\n",
      "'HMPT'\n",
      "'ASPS'\n",
      "'DNLI'\n",
      "'JAMF'\n",
      "'DNAB'\n"
     ]
    },
    {
     "name": "stderr",
     "output_type": "stream",
     "text": [
      "sleep 3 seconds and retrying https://data.alpaca.markets/v1/bars/day 3 more time(s)...\n"
     ]
    },
    {
     "name": "stdout",
     "output_type": "stream",
     "text": [
      "'CORE'\n",
      "'AVEO'\n",
      "'CVLT'\n",
      "'SNBR'\n",
      "'SBGI'\n",
      "'FV'\n",
      "'SKYY'\n",
      "'STRO'\n",
      "'RAPT'\n",
      "'PETQ'\n",
      "'CHEF'\n",
      "'AIHS'\n",
      "'ARAY'\n",
      "'SNGX'\n"
     ]
    },
    {
     "name": "stderr",
     "output_type": "stream",
     "text": [
      "sleep 3 seconds and retrying https://data.alpaca.markets/v1/bars/day 3 more time(s)...\n"
     ]
    },
    {
     "name": "stdout",
     "output_type": "stream",
     "text": [
      "'MTSI'\n",
      "'RMNI'\n",
      "'CATY'\n",
      "'RVNC'\n",
      "'TRHC'\n",
      "'SYNH'\n",
      "'CNSL'\n",
      "'DUOL'\n",
      "'ERYP'\n",
      "'RUBY'\n",
      "'MRAC'\n",
      "'KOD'\n",
      "'GLMD'\n",
      "'EVER'\n"
     ]
    },
    {
     "name": "stderr",
     "output_type": "stream",
     "text": [
      "sleep 3 seconds and retrying https://data.alpaca.markets/v1/bars/day 3 more time(s)...\n"
     ]
    },
    {
     "name": "stdout",
     "output_type": "stream",
     "text": [
      "'BKNG'\n",
      "'PCYO'\n",
      "'BTAI'\n",
      "'PRTK'\n",
      "'PNNT'\n",
      "'ETTX'\n",
      "'NAUT'\n",
      "'KE'\n",
      "'QTNT'\n",
      "'INSE'\n",
      "'SSSS'\n",
      "'SIFY'\n",
      "'QADA'\n"
     ]
    },
    {
     "name": "stderr",
     "output_type": "stream",
     "text": [
      "sleep 3 seconds and retrying https://data.alpaca.markets/v1/bars/day 3 more time(s)...\n"
     ]
    },
    {
     "name": "stdout",
     "output_type": "stream",
     "text": [
      "'TGA'\n",
      "'ATCX'\n",
      "'STMP'\n",
      "'FBIO'\n",
      "'CFFN'\n",
      "'CYBR'\n",
      "'MCHX'\n",
      "'ACHC'\n",
      "'JCOM'\n",
      "'RGNX'\n",
      "'BPTH'\n",
      "'NVCN'\n",
      "'REE'\n",
      "'IEA'\n",
      "'QLYS'\n",
      "'LYEL'\n",
      "'COLL'\n"
     ]
    },
    {
     "name": "stderr",
     "output_type": "stream",
     "text": [
      "sleep 3 seconds and retrying https://data.alpaca.markets/v1/bars/day 3 more time(s)...\n"
     ]
    },
    {
     "name": "stdout",
     "output_type": "stream",
     "text": [
      "'RGEN'\n",
      "'MAGS'\n",
      "'PHICW'\n",
      "'NGM'\n",
      "'BRY'\n",
      "'GBIO'\n",
      "'SWTX'\n",
      "'RILYZ'\n",
      "'TLIS'\n",
      "'HYMC'\n",
      "'SPRO'\n",
      "'PRDO'\n"
     ]
    },
    {
     "name": "stderr",
     "output_type": "stream",
     "text": [
      "sleep 3 seconds and retrying https://data.alpaca.markets/v1/bars/day 3 more time(s)...\n"
     ]
    },
    {
     "name": "stdout",
     "output_type": "stream",
     "text": [
      "'PT'\n",
      "'ARLP'\n",
      "'IUSG'\n",
      "'MTLS'\n",
      "'SREV'\n",
      "'AZPN'\n",
      "'TNYA'\n",
      "'PCH'\n",
      "'CRUS'\n",
      "'TSEM'\n",
      "'GRVI'\n",
      "'CGEM'\n",
      "'NTGR'\n",
      "'GBCI'\n"
     ]
    },
    {
     "name": "stderr",
     "output_type": "stream",
     "text": [
      "sleep 3 seconds and retrying https://data.alpaca.markets/v1/bars/day 3 more time(s)...\n"
     ]
    },
    {
     "name": "stdout",
     "output_type": "stream",
     "text": [
      "'BKCC'\n",
      "'SRNGU'\n",
      "'EXLS'\n",
      "'MTEM'\n",
      "'ELSE'\n",
      "'DRRX'\n",
      "'PSTV'\n",
      "'SGRP'\n",
      "'SCVL'\n",
      "'BDTX'\n",
      "'SFET'\n",
      "'VWE'\n",
      "'FTCS'\n"
     ]
    },
    {
     "name": "stderr",
     "output_type": "stream",
     "text": [
      "sleep 3 seconds and retrying https://data.alpaca.markets/v1/bars/day 3 more time(s)...\n"
     ]
    },
    {
     "name": "stdout",
     "output_type": "stream",
     "text": [
      "'DIOD'\n",
      "'ARTL'\n",
      "'WKME'\n",
      "'CCMP'\n",
      "'HOOK'\n",
      "'GTH'\n",
      "'SMSI'\n",
      "'IAC'\n",
      "'MMYT'\n",
      "'SFNC'\n",
      "'PWP'\n",
      "'PZZA'\n",
      "'ADN'\n"
     ]
    },
    {
     "name": "stderr",
     "output_type": "stream",
     "text": [
      "sleep 3 seconds and retrying https://data.alpaca.markets/v1/bars/day 3 more time(s)...\n"
     ]
    },
    {
     "name": "stdout",
     "output_type": "stream",
     "text": [
      "'MAAC'\n",
      "'CINF'\n",
      "'THRM'\n",
      "'VERX'\n",
      "'IEP'\n",
      "'RTH'\n",
      "'XTLB'\n",
      "'CYXT'\n",
      "'WISA'\n",
      "'GOSS'\n",
      "'KRNY'\n",
      "'PTGX'\n",
      "'AMTB'\n",
      "'TW'\n",
      "'SPI'\n",
      "'UTHR'\n",
      "'AGMH'\n",
      "'RDUS'\n",
      "'CTLP'\n",
      "'BSCO'\n"
     ]
    },
    {
     "name": "stderr",
     "output_type": "stream",
     "text": [
      "sleep 3 seconds and retrying https://data.alpaca.markets/v1/bars/day 3 more time(s)...\n"
     ]
    },
    {
     "name": "stdout",
     "output_type": "stream",
     "text": [
      "'GLUE'\n",
      "'MITK'\n",
      "'CRNC'\n",
      "'LEGOW'\n",
      "'SEIC'\n",
      "'BRKL'\n",
      "'PSTI'\n",
      "'IDRA'\n",
      "'MGLN'\n",
      "'FRPT'\n",
      "'FRLN'\n",
      "'AIH'\n"
     ]
    },
    {
     "name": "stderr",
     "output_type": "stream",
     "text": [
      "sleep 3 seconds and retrying https://data.alpaca.markets/v1/bars/day 3 more time(s)...\n"
     ]
    },
    {
     "name": "stdout",
     "output_type": "stream",
     "text": [
      "'CBSH'\n",
      "'TITN'\n",
      "'RADA'\n",
      "'GRPH'\n",
      "'MPWR'\n",
      "'PHAS'\n",
      "'CELUW'\n",
      "'UCBI'\n",
      "'GRAY'\n",
      "'EEIQ'\n",
      "'ONCY'\n",
      "'TCDA'\n",
      "'TMDI'\n",
      "'MGNX'\n"
     ]
    },
    {
     "name": "stderr",
     "output_type": "stream",
     "text": [
      "sleep 3 seconds and retrying https://data.alpaca.markets/v1/bars/day 3 more time(s)...\n"
     ]
    },
    {
     "name": "stdout",
     "output_type": "stream",
     "text": [
      "'CRTX'\n",
      "'HITI'\n",
      "'INDP'\n",
      "'DCOM'\n",
      "'TILE'\n",
      "'ROVR'\n",
      "'STAA'\n",
      "'DNAY'\n",
      "'FWONA'\n",
      "'ANGN'\n",
      "'KIII'\n",
      "'NRIX'\n",
      "'AMED'\n"
     ]
    },
    {
     "name": "stderr",
     "output_type": "stream",
     "text": [
      "sleep 3 seconds and retrying https://data.alpaca.markets/v1/bars/day 3 more time(s)...\n"
     ]
    },
    {
     "name": "stdout",
     "output_type": "stream",
     "text": [
      "'MGTA'\n",
      "'AUID'\n",
      "'NXGN'\n",
      "'RNLX'\n",
      "'GGPIW'\n",
      "'ITRI'\n",
      "'LOVE'\n",
      "'AGRI'\n",
      "'BL'\n",
      "'PAICW'\n",
      "'METC'\n",
      "'PULM'\n",
      "'NBSE'\n"
     ]
    },
    {
     "name": "stderr",
     "output_type": "stream",
     "text": [
      "sleep 3 seconds and retrying https://data.alpaca.markets/v1/bars/day 3 more time(s)...\n"
     ]
    },
    {
     "name": "stdout",
     "output_type": "stream",
     "text": [
      "'SNPO'\n",
      "'XOSWW'\n",
      "'DGRW'\n",
      "'GNCA'\n",
      "'RING'\n",
      "'CLAQW'\n",
      "'MINM'\n",
      "'AKTX'\n",
      "'STTK'\n",
      "'MUDSW'\n",
      "'PME'\n",
      "'ATAI'\n",
      "'CXSE'\n",
      "'BAND'\n",
      "'HOLI'\n",
      "'SITM'\n",
      "'LIVN'\n",
      "'ETAC'\n",
      "'ACRS'\n"
     ]
    },
    {
     "name": "stderr",
     "output_type": "stream",
     "text": [
      "sleep 3 seconds and retrying https://data.alpaca.markets/v1/bars/day 3 more time(s)...\n"
     ]
    },
    {
     "name": "stdout",
     "output_type": "stream",
     "text": [
      "'VNOM'\n",
      "'AVAH'\n",
      "'MYPS'\n",
      "'CLRB'\n",
      "'TBBK'\n",
      "'IMAQU'\n",
      "'FFIN'\n",
      "'CHW'\n",
      "'PRAA'\n",
      "'CBIO'\n",
      "'XLRN'\n",
      "'RYAAY'\n",
      "'ENSC'\n",
      "'FOCS'\n"
     ]
    },
    {
     "name": "stderr",
     "output_type": "stream",
     "text": [
      "sleep 3 seconds and retrying https://data.alpaca.markets/v1/bars/day 3 more time(s)...\n"
     ]
    },
    {
     "name": "stdout",
     "output_type": "stream",
     "text": [
      "'MKSI'\n",
      "'VTSI'\n",
      "'VYMI'\n",
      "'VBTX'\n",
      "'FWAA'\n",
      "'ALVR'\n",
      "'ROCR'\n",
      "'URGN'\n",
      "'KTRA'\n",
      "'WSBC'\n",
      "'GSHD'\n",
      "'FIZZ'\n",
      "'ICAD'\n"
     ]
    },
    {
     "name": "stderr",
     "output_type": "stream",
     "text": [
      "sleep 3 seconds and retrying https://data.alpaca.markets/v1/bars/day 3 more time(s)...\n"
     ]
    },
    {
     "name": "stdout",
     "output_type": "stream",
     "text": [
      "'CDXS'\n",
      "'SSP'\n",
      "'TYHT'\n",
      "'LGND'\n",
      "'SNCY'\n",
      "'TRUP'\n",
      "'PKW'\n",
      "'LHCG'\n",
      "'STGW'\n",
      "'CFV'\n",
      "'CSII'\n"
     ]
    },
    {
     "name": "stderr",
     "output_type": "stream",
     "text": [
      "sleep 3 seconds and retrying https://data.alpaca.markets/v1/bars/day 3 more time(s)...\n"
     ]
    },
    {
     "name": "stdout",
     "output_type": "stream",
     "text": [
      "'CHDN'\n",
      "'CTAS'\n",
      "'CWST'\n",
      "'IPSC'\n",
      "'MLHR'\n",
      "'CDXC'\n",
      "'JYNT'\n",
      "'CYCN'\n",
      "'MKTWW'\n",
      "'REYN'\n",
      "'RXST'\n",
      "'SIVB'\n",
      "'CCRN'\n",
      "'FREE'\n",
      "'SLNO'\n",
      "'MRKR'\n",
      "'LHDX'\n"
     ]
    },
    {
     "name": "stderr",
     "output_type": "stream",
     "text": [
      "sleep 3 seconds and retrying https://data.alpaca.markets/v1/bars/day 3 more time(s)...\n"
     ]
    },
    {
     "name": "stdout",
     "output_type": "stream",
     "text": [
      "'RCMT'\n",
      "'ZIXI'\n",
      "'EUSG'\n",
      "'RNA'\n",
      "'TANH'\n",
      "'LEXX'\n",
      "'PBYI'\n",
      "'ELTK'\n",
      "'PODD'\n",
      "'UBSI'\n",
      "'HROW'\n",
      "'OXBR'\n",
      "'TMDX'\n",
      "'GLTO'\n"
     ]
    },
    {
     "name": "stderr",
     "output_type": "stream",
     "text": [
      "sleep 3 seconds and retrying https://data.alpaca.markets/v1/bars/day 3 more time(s)...\n"
     ]
    },
    {
     "name": "stdout",
     "output_type": "stream",
     "text": [
      "'LIND'\n",
      "'SSAA'\n",
      "'QTRX'\n",
      "'SANM'\n",
      "'GHSI'\n",
      "'PRLD'\n",
      "'ODT'\n",
      "'NXTP'\n",
      "'INTZ'\n",
      "'DORM'\n",
      "'RMGB'\n",
      "'LNTH'\n",
      "'EPAY'\n"
     ]
    },
    {
     "name": "stderr",
     "output_type": "stream",
     "text": [
      "sleep 3 seconds and retrying https://data.alpaca.markets/v1/bars/day 3 more time(s)...\n"
     ]
    },
    {
     "name": "stdout",
     "output_type": "stream",
     "text": [
      "'NKTX'\n",
      "'BVS'\n",
      "'FFIV'\n",
      "'ZNTL'\n",
      "'GBS'\n",
      "'SAFM'\n",
      "'MRCY'\n",
      "'XNET'\n",
      "'VRA'\n",
      "'CAMT'\n",
      "'DUO'\n",
      "'FREEW'\n",
      "'MIDD'\n"
     ]
    },
    {
     "name": "stderr",
     "output_type": "stream",
     "text": [
      "sleep 3 seconds and retrying https://data.alpaca.markets/v1/bars/day 3 more time(s)...\n"
     ]
    },
    {
     "name": "stdout",
     "output_type": "stream",
     "text": [
      "'SLGN'\n",
      "'IKT'\n",
      "'OMP'\n",
      "'IDYA'\n",
      "'NGMS'\n",
      "'BCAB'\n",
      "'CMCT'\n",
      "'ACOR'\n",
      "'TDAC'\n",
      "'KSMTW'\n",
      "'MASI'\n",
      "'LVOX'\n",
      "'GWACW'\n"
     ]
    },
    {
     "name": "stderr",
     "output_type": "stream",
     "text": [
      "sleep 3 seconds and retrying https://data.alpaca.markets/v1/bars/day 3 more time(s)...\n"
     ]
    },
    {
     "name": "stdout",
     "output_type": "stream",
     "text": [
      "'BCTG'\n",
      "'VECO'\n",
      "'EDSA'\n",
      "'MNTK'\n",
      "'PPBT'\n",
      "'FSSI'\n",
      "'PRAX'\n",
      "'BCYC'\n",
      "'AVNW'\n",
      "'PECO'\n",
      "'BAOS'\n",
      "'ATRC'\n",
      "'KVHI'\n",
      "'ATY'\n",
      "'TDACW'\n",
      "'UNCY'\n",
      "'AOSL'\n"
     ]
    },
    {
     "name": "stderr",
     "output_type": "stream",
     "text": [
      "sleep 3 seconds and retrying https://data.alpaca.markets/v1/bars/day 3 more time(s)...\n"
     ]
    },
    {
     "name": "stdout",
     "output_type": "stream",
     "text": [
      "'LTBR'\n",
      "'WNW'\n",
      "'INNV'\n",
      "'RDNT'\n",
      "'HCM'\n",
      "'FLL'\n",
      "'LOPE'\n",
      "'TCPC'\n",
      "'BLBD'\n",
      "'ODP'\n",
      "'BHTG'\n",
      "'OCFC'\n",
      "'UTME'\n",
      "'STRA'\n"
     ]
    },
    {
     "name": "stderr",
     "output_type": "stream",
     "text": [
      "sleep 3 seconds and retrying https://data.alpaca.markets/v1/bars/day 3 more time(s)...\n"
     ]
    },
    {
     "name": "stdout",
     "output_type": "stream",
     "text": [
      "'IMUX'\n",
      "'ZYXI'\n",
      "'NUVL'\n",
      "'NXST'\n",
      "'CTRN'\n",
      "'PI'\n",
      "'PPHPU'\n",
      "'EFOI'\n",
      "'IMBI'\n",
      "'ACMR'\n",
      "'COOLW'\n"
     ]
    },
    {
     "name": "stderr",
     "output_type": "stream",
     "text": [
      "sleep 3 seconds and retrying https://data.alpaca.markets/v1/bars/day 3 more time(s)...\n"
     ]
    },
    {
     "name": "stdout",
     "output_type": "stream",
     "text": [
      "'HUMAW'\n",
      "'VIVO'\n",
      "'SALM'\n",
      "'GLAD'\n",
      "'VIHAW'\n",
      "'PBIP'\n",
      "'REDU'\n",
      "'QCLN'\n",
      "'KRNT'\n",
      "'WING'\n",
      "'MKTX'\n",
      "'BWEN'\n",
      "'ALLK'\n",
      "'TRMR'\n"
     ]
    },
    {
     "name": "stderr",
     "output_type": "stream",
     "text": [
      "sleep 3 seconds and retrying https://data.alpaca.markets/v1/bars/day 3 more time(s)...\n"
     ]
    },
    {
     "name": "stdout",
     "output_type": "stream",
     "text": [
      "'IPW'\n",
      "'MTCR'\n",
      "'SCHN'\n",
      "'CASA'\n",
      "'CEVA'\n",
      "'PFLT'\n",
      "'ZBRA'\n",
      "'SCKT'\n",
      "'CENHW'\n",
      "'NMFC'\n",
      "'HWC'\n",
      "'LIFE'\n",
      "'VINP'\n",
      "'ITHX'\n",
      "'ABCB'\n"
     ]
    },
    {
     "name": "stderr",
     "output_type": "stream",
     "text": [
      "sleep 3 seconds and retrying https://data.alpaca.markets/v1/bars/day 3 more time(s)...\n"
     ]
    },
    {
     "name": "stdout",
     "output_type": "stream",
     "text": [
      "'ETON'\n",
      "'APLT'\n",
      "'NNBR'\n",
      "'FTCVW'\n",
      "'LUNG'\n",
      "'IMPL'\n",
      "'MDCA'\n",
      "'AMST'\n",
      "'WCLD'\n",
      "'LIDR'\n",
      "'SYBX'\n",
      "'USIO'\n",
      "'ORIC'\n",
      "'OTEX'\n",
      "'SWIR'\n",
      "'THRY'\n",
      "'LQDT'\n",
      "'MBUU'\n",
      "'HLNE'\n"
     ]
    },
    {
     "name": "stderr",
     "output_type": "stream",
     "text": [
      "sleep 3 seconds and retrying https://data.alpaca.markets/v1/bars/day 3 more time(s)...\n"
     ]
    },
    {
     "name": "stdout",
     "output_type": "stream",
     "text": [
      "'NEXI'\n",
      "'CNET'\n",
      "'COMS'\n",
      "'YTEN'\n",
      "'APTX'\n",
      "'CUE'\n",
      "'AVDL'\n",
      "'HERO'\n",
      "'HBIO'\n",
      "'FWP'\n",
      "'MRTN'\n",
      "'AKRO'\n",
      "'DGII'\n",
      "'PCTY'\n",
      "'BNTC'\n"
     ]
    },
    {
     "name": "stderr",
     "output_type": "stream",
     "text": [
      "sleep 3 seconds and retrying https://data.alpaca.markets/v1/bars/day 3 more time(s)...\n"
     ]
    },
    {
     "name": "stdout",
     "output_type": "stream",
     "text": [
      "'KIN'\n",
      "'DMAC'\n",
      "'TUEM'\n",
      "'JKHY'\n",
      "'OTIC'\n",
      "'NLSP'\n",
      "'SHEN'\n",
      "'JAN'\n",
      "'TUR'\n",
      "'LKFN'\n",
      "'DTSS'\n",
      "'AUB'\n"
     ]
    },
    {
     "name": "stderr",
     "output_type": "stream",
     "text": [
      "sleep 3 seconds and retrying https://data.alpaca.markets/v1/bars/day 3 more time(s)...\n"
     ]
    },
    {
     "name": "stdout",
     "output_type": "stream",
     "text": [
      "'TVTY'\n",
      "'TOUR'\n",
      "'CTHR'\n",
      "'SPSC'\n",
      "'FINX'\n",
      "'SQFT'\n",
      "'ALKT'\n",
      "'CDZI'\n",
      "'GDEVW'\n",
      "'GRBK'\n",
      "'APR'\n",
      "'EMXC'\n",
      "'NISN'\n",
      "'CNFR'\n",
      "'NICE'\n",
      "'SUSB'\n"
     ]
    }
   ],
   "source": [
    "price_info= []\n",
    "count = 0\n",
    "\n",
    "for i in tckr:\n",
    "    try:\n",
    "        barset = api.get_barset(f'{i}', 'day', limit=100)\n",
    "    #         for f in range(len(barset[i])):\n",
    "    #             pprint(barset[i][f])\n",
    "    #         break\n",
    "        for f in range(len(barset[i])):\n",
    "            tckr_infoopening = barset[i][f].o\n",
    "            tckr_infoClosing = barset[i][f].c\n",
    "            tckr_infoHigh = barset[i][f].h\n",
    "            tckr_infoLow = barset[i][f].l \n",
    "            tckr_infoVol = barset[i][f].v\n",
    "            info = {'Ticker':f'{i}',\n",
    "                    'opening':tckr_infoopening,\n",
    "                    'closing':tckr_infoClosing,\n",
    "                    'volume':tckr_infoVol,\n",
    "                    'high':tckr_infoHigh,\n",
    "                    'low':tckr_infoLow}\n",
    "\n",
    "            price_info.append(info)\n",
    "\n",
    "        count+=1\n",
    "        pprint(i)\n",
    "    except:\n",
    "        count+=1\n",
    "        \n",
    "        print(f'result error{i}')\n",
    "        pass"
   ]
  },
  {
   "cell_type": "code",
   "execution_count": 32,
   "id": "70c19550",
   "metadata": {},
   "outputs": [
    {
     "data": {
      "text/html": [
       "<div>\n",
       "<style scoped>\n",
       "    .dataframe tbody tr th:only-of-type {\n",
       "        vertical-align: middle;\n",
       "    }\n",
       "\n",
       "    .dataframe tbody tr th {\n",
       "        vertical-align: top;\n",
       "    }\n",
       "\n",
       "    .dataframe thead th {\n",
       "        text-align: right;\n",
       "    }\n",
       "</style>\n",
       "<table border=\"1\" class=\"dataframe\">\n",
       "  <thead>\n",
       "    <tr style=\"text-align: right;\">\n",
       "      <th></th>\n",
       "      <th>Ticker</th>\n",
       "      <th>opening</th>\n",
       "      <th>closing</th>\n",
       "      <th>volume</th>\n",
       "      <th>high</th>\n",
       "      <th>low</th>\n",
       "    </tr>\n",
       "  </thead>\n",
       "  <tbody>\n",
       "    <tr>\n",
       "      <th>0</th>\n",
       "      <td>BBIG</td>\n",
       "      <td>2.5400</td>\n",
       "      <td>2.630</td>\n",
       "      <td>2261988</td>\n",
       "      <td>2.84</td>\n",
       "      <td>2.4300</td>\n",
       "    </tr>\n",
       "    <tr>\n",
       "      <th>1</th>\n",
       "      <td>BBIG</td>\n",
       "      <td>2.6500</td>\n",
       "      <td>2.540</td>\n",
       "      <td>1265074</td>\n",
       "      <td>2.80</td>\n",
       "      <td>2.5100</td>\n",
       "    </tr>\n",
       "    <tr>\n",
       "      <th>2</th>\n",
       "      <td>BBIG</td>\n",
       "      <td>2.5000</td>\n",
       "      <td>2.325</td>\n",
       "      <td>1678490</td>\n",
       "      <td>2.53</td>\n",
       "      <td>2.2500</td>\n",
       "    </tr>\n",
       "    <tr>\n",
       "      <th>3</th>\n",
       "      <td>BBIG</td>\n",
       "      <td>2.2755</td>\n",
       "      <td>2.205</td>\n",
       "      <td>1085376</td>\n",
       "      <td>2.34</td>\n",
       "      <td>2.1700</td>\n",
       "    </tr>\n",
       "    <tr>\n",
       "      <th>4</th>\n",
       "      <td>BBIG</td>\n",
       "      <td>2.1900</td>\n",
       "      <td>2.150</td>\n",
       "      <td>581072</td>\n",
       "      <td>2.23</td>\n",
       "      <td>2.1100</td>\n",
       "    </tr>\n",
       "    <tr>\n",
       "      <th>...</th>\n",
       "      <td>...</td>\n",
       "      <td>...</td>\n",
       "      <td>...</td>\n",
       "      <td>...</td>\n",
       "      <td>...</td>\n",
       "      <td>...</td>\n",
       "    </tr>\n",
       "    <tr>\n",
       "      <th>188429</th>\n",
       "      <td>SUSB</td>\n",
       "      <td>26.0100</td>\n",
       "      <td>26.015</td>\n",
       "      <td>153330</td>\n",
       "      <td>26.03</td>\n",
       "      <td>26.0000</td>\n",
       "    </tr>\n",
       "    <tr>\n",
       "      <th>188430</th>\n",
       "      <td>SUSB</td>\n",
       "      <td>26.0200</td>\n",
       "      <td>26.015</td>\n",
       "      <td>231938</td>\n",
       "      <td>26.02</td>\n",
       "      <td>26.0063</td>\n",
       "    </tr>\n",
       "    <tr>\n",
       "      <th>188431</th>\n",
       "      <td>SUSB</td>\n",
       "      <td>26.0300</td>\n",
       "      <td>26.010</td>\n",
       "      <td>111733</td>\n",
       "      <td>26.03</td>\n",
       "      <td>26.0000</td>\n",
       "    </tr>\n",
       "    <tr>\n",
       "      <th>188432</th>\n",
       "      <td>SUSB</td>\n",
       "      <td>26.0000</td>\n",
       "      <td>26.030</td>\n",
       "      <td>101122</td>\n",
       "      <td>26.04</td>\n",
       "      <td>25.9916</td>\n",
       "    </tr>\n",
       "    <tr>\n",
       "      <th>188433</th>\n",
       "      <td>SUSB</td>\n",
       "      <td>26.0400</td>\n",
       "      <td>26.060</td>\n",
       "      <td>131165</td>\n",
       "      <td>26.06</td>\n",
       "      <td>26.0310</td>\n",
       "    </tr>\n",
       "  </tbody>\n",
       "</table>\n",
       "<p>188434 rows × 6 columns</p>\n",
       "</div>"
      ],
      "text/plain": [
       "       Ticker  opening  closing   volume   high      low\n",
       "0        BBIG   2.5400    2.630  2261988   2.84   2.4300\n",
       "1        BBIG   2.6500    2.540  1265074   2.80   2.5100\n",
       "2        BBIG   2.5000    2.325  1678490   2.53   2.2500\n",
       "3        BBIG   2.2755    2.205  1085376   2.34   2.1700\n",
       "4        BBIG   2.1900    2.150   581072   2.23   2.1100\n",
       "...       ...      ...      ...      ...    ...      ...\n",
       "188429   SUSB  26.0100   26.015   153330  26.03  26.0000\n",
       "188430   SUSB  26.0200   26.015   231938  26.02  26.0063\n",
       "188431   SUSB  26.0300   26.010   111733  26.03  26.0000\n",
       "188432   SUSB  26.0000   26.030   101122  26.04  25.9916\n",
       "188433   SUSB  26.0400   26.060   131165  26.06  26.0310\n",
       "\n",
       "[188434 rows x 6 columns]"
      ]
     },
     "execution_count": 32,
     "metadata": {},
     "output_type": "execute_result"
    }
   ],
   "source": [
    "df = pd.DataFrame(price_info)\n",
    "df"
   ]
  },
  {
   "cell_type": "code",
   "execution_count": 33,
   "id": "bf6a2fd2",
   "metadata": {},
   "outputs": [],
   "source": [
    "df.to_csv(r'./newMlList.csv', index = False)"
   ]
  },
  {
   "cell_type": "code",
   "execution_count": null,
   "id": "111e5f51",
   "metadata": {},
   "outputs": [],
   "source": []
  }
 ],
 "metadata": {
  "kernelspec": {
   "display_name": "Python 3",
   "language": "python",
   "name": "python3"
  },
  "language_info": {
   "codemirror_mode": {
    "name": "ipython",
    "version": 3
   },
   "file_extension": ".py",
   "mimetype": "text/x-python",
   "name": "python",
   "nbconvert_exporter": "python",
   "pygments_lexer": "ipython3",
   "version": "3.8.11"
  }
 },
 "nbformat": 4,
 "nbformat_minor": 5
}
