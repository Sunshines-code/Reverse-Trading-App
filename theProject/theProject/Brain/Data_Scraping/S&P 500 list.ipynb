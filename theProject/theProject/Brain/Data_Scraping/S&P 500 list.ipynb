{
 "cells": [
  {
   "cell_type": "code",
   "execution_count": null,
   "metadata": {},
   "outputs": [],
   "source": [
    "import pandas as pd"
   ]
  },
  {
   "cell_type": "code",
   "execution_count": null,
   "metadata": {},
   "outputs": [],
   "source": [
    "url = 'https://en.wikipedia.org/wiki/List_of_S%26P_500_companies'"
   ]
  },
  {
   "cell_type": "code",
   "execution_count": null,
   "metadata": {},
   "outputs": [],
   "source": [
    "tables = pd.read_html(url)\n",
    "tables"
   ]
  },
  {
   "cell_type": "code",
   "execution_count": null,
   "metadata": {},
   "outputs": [],
   "source": [
    "df =tables[0]\n",
    "df = df[['Symbol','Security','GICS Sector']]\n",
    "df"
   ]
  },
  {
   "cell_type": "code",
   "execution_count": null,
   "metadata": {},
   "outputs": [],
   "source": []
  },
  {
   "cell_type": "code",
   "execution_count": null,
   "metadata": {},
   "outputs": [],
   "source": [
    "df.to_csv(r'./sp500list1.csv', index = False)\n"
   ]
  },
  {
   "cell_type": "code",
   "execution_count": 3,
   "metadata": {},
   "outputs": [
    {
     "data": {
      "text/html": [
       "<div>\n",
       "<style scoped>\n",
       "    .dataframe tbody tr th:only-of-type {\n",
       "        vertical-align: middle;\n",
       "    }\n",
       "\n",
       "    .dataframe tbody tr th {\n",
       "        vertical-align: top;\n",
       "    }\n",
       "\n",
       "    .dataframe thead th {\n",
       "        text-align: right;\n",
       "    }\n",
       "</style>\n",
       "<table border=\"1\" class=\"dataframe\">\n",
       "  <thead>\n",
       "    <tr style=\"text-align: right;\">\n",
       "      <th></th>\n",
       "      <th>Symbol</th>\n",
       "      <th>Description</th>\n",
       "    </tr>\n",
       "  </thead>\n",
       "  <tbody>\n",
       "    <tr>\n",
       "      <th>0</th>\n",
       "      <td>AACG</td>\n",
       "      <td>Ata Creativity Global ADR</td>\n",
       "    </tr>\n",
       "    <tr>\n",
       "      <th>1</th>\n",
       "      <td>AACIU</td>\n",
       "      <td>Armada Acquisition Corp. I</td>\n",
       "    </tr>\n",
       "    <tr>\n",
       "      <th>2</th>\n",
       "      <td>AADI</td>\n",
       "      <td>Aadi Biosciences Inc</td>\n",
       "    </tr>\n",
       "    <tr>\n",
       "      <th>3</th>\n",
       "      <td>AADR</td>\n",
       "      <td>Advisorshares Dorsey Wright ETF</td>\n",
       "    </tr>\n",
       "    <tr>\n",
       "      <th>4</th>\n",
       "      <td>AAL</td>\n",
       "      <td>American Airlines Gp</td>\n",
       "    </tr>\n",
       "    <tr>\n",
       "      <th>...</th>\n",
       "      <td>...</td>\n",
       "      <td>...</td>\n",
       "    </tr>\n",
       "    <tr>\n",
       "      <th>4992</th>\n",
       "      <td>ZWRKU</td>\n",
       "      <td>Z-Work Acquisition Corp Units</td>\n",
       "    </tr>\n",
       "    <tr>\n",
       "      <th>4993</th>\n",
       "      <td>ZWRKW</td>\n",
       "      <td>Z-Work Acquisition Corp WT</td>\n",
       "    </tr>\n",
       "    <tr>\n",
       "      <th>4994</th>\n",
       "      <td>ZY</td>\n",
       "      <td>Zymergen Inc</td>\n",
       "    </tr>\n",
       "    <tr>\n",
       "      <th>4995</th>\n",
       "      <td>ZYNE</td>\n",
       "      <td>Zynerba Pharma CS</td>\n",
       "    </tr>\n",
       "    <tr>\n",
       "      <th>4996</th>\n",
       "      <td>ZYXI</td>\n",
       "      <td>Zynex Inc</td>\n",
       "    </tr>\n",
       "  </tbody>\n",
       "</table>\n",
       "<p>4997 rows × 2 columns</p>\n",
       "</div>"
      ],
      "text/plain": [
       "     Symbol                      Description\n",
       "0      AACG        Ata Creativity Global ADR\n",
       "1     AACIU       Armada Acquisition Corp. I\n",
       "2      AADI             Aadi Biosciences Inc\n",
       "3      AADR  Advisorshares Dorsey Wright ETF\n",
       "4       AAL             American Airlines Gp\n",
       "...     ...                              ...\n",
       "4992  ZWRKU    Z-Work Acquisition Corp Units\n",
       "4993  ZWRKW       Z-Work Acquisition Corp WT\n",
       "4994     ZY                     Zymergen Inc\n",
       "4995   ZYNE                Zynerba Pharma CS\n",
       "4996   ZYXI                        Zynex Inc\n",
       "\n",
       "[4997 rows x 2 columns]"
      ]
     },
     "execution_count": 3,
     "metadata": {},
     "output_type": "execute_result"
    }
   ],
   "source": [
    "import pandas as pd\n",
    "df = pd.read_csv('./NASDAQ.txt', delimiter = \"\\t\")\n",
    "df"
   ]
  },
  {
   "cell_type": "code",
   "execution_count": 4,
   "metadata": {},
   "outputs": [],
   "source": [
    "df1 = pd.read_csv('./NYSE.txt', delimiter = \"\\t\")\n",
    "dfs = [df,df1]"
   ]
  },
  {
   "cell_type": "code",
   "execution_count": 5,
   "metadata": {},
   "outputs": [
    {
     "data": {
      "text/html": [
       "<div>\n",
       "<style scoped>\n",
       "    .dataframe tbody tr th:only-of-type {\n",
       "        vertical-align: middle;\n",
       "    }\n",
       "\n",
       "    .dataframe tbody tr th {\n",
       "        vertical-align: top;\n",
       "    }\n",
       "\n",
       "    .dataframe thead th {\n",
       "        text-align: right;\n",
       "    }\n",
       "</style>\n",
       "<table border=\"1\" class=\"dataframe\">\n",
       "  <thead>\n",
       "    <tr style=\"text-align: right;\">\n",
       "      <th></th>\n",
       "      <th>Symbol</th>\n",
       "      <th>Description</th>\n",
       "    </tr>\n",
       "  </thead>\n",
       "  <tbody>\n",
       "    <tr>\n",
       "      <th>0</th>\n",
       "      <td>AACG</td>\n",
       "      <td>Ata Creativity Global ADR</td>\n",
       "    </tr>\n",
       "    <tr>\n",
       "      <th>1</th>\n",
       "      <td>AACIU</td>\n",
       "      <td>Armada Acquisition Corp. I</td>\n",
       "    </tr>\n",
       "    <tr>\n",
       "      <th>2</th>\n",
       "      <td>AADI</td>\n",
       "      <td>Aadi Biosciences Inc</td>\n",
       "    </tr>\n",
       "    <tr>\n",
       "      <th>3</th>\n",
       "      <td>AADR</td>\n",
       "      <td>Advisorshares Dorsey Wright ETF</td>\n",
       "    </tr>\n",
       "    <tr>\n",
       "      <th>4</th>\n",
       "      <td>AAL</td>\n",
       "      <td>American Airlines Gp</td>\n",
       "    </tr>\n",
       "    <tr>\n",
       "      <th>...</th>\n",
       "      <td>...</td>\n",
       "      <td>...</td>\n",
       "    </tr>\n",
       "    <tr>\n",
       "      <th>8624</th>\n",
       "      <td>ZTR</td>\n",
       "      <td>Virtus Global Divd &amp; Income Fund</td>\n",
       "    </tr>\n",
       "    <tr>\n",
       "      <th>8625</th>\n",
       "      <td>ZTS</td>\n",
       "      <td>Zoetis Inc Cl A</td>\n",
       "    </tr>\n",
       "    <tr>\n",
       "      <th>8626</th>\n",
       "      <td>ZUO</td>\n",
       "      <td>Zuora Inc</td>\n",
       "    </tr>\n",
       "    <tr>\n",
       "      <th>8627</th>\n",
       "      <td>ZVIA</td>\n",
       "      <td>Zevia Pbc Cl A</td>\n",
       "    </tr>\n",
       "    <tr>\n",
       "      <th>8628</th>\n",
       "      <td>ZYME</td>\n",
       "      <td>Zymeworks Inc</td>\n",
       "    </tr>\n",
       "  </tbody>\n",
       "</table>\n",
       "<p>8629 rows × 2 columns</p>\n",
       "</div>"
      ],
      "text/plain": [
       "     Symbol                       Description\n",
       "0      AACG         Ata Creativity Global ADR\n",
       "1     AACIU        Armada Acquisition Corp. I\n",
       "2      AADI              Aadi Biosciences Inc\n",
       "3      AADR   Advisorshares Dorsey Wright ETF\n",
       "4       AAL              American Airlines Gp\n",
       "...     ...                               ...\n",
       "8624    ZTR  Virtus Global Divd & Income Fund\n",
       "8625    ZTS                   Zoetis Inc Cl A\n",
       "8626    ZUO                         Zuora Inc\n",
       "8627   ZVIA                    Zevia Pbc Cl A\n",
       "8628   ZYME                     Zymeworks Inc\n",
       "\n",
       "[8629 rows x 2 columns]"
      ]
     },
     "execution_count": 5,
     "metadata": {},
     "output_type": "execute_result"
    }
   ],
   "source": [
    "pd.concat(\n",
    "    dfs,\n",
    "    axis=0,\n",
    "    join=\"outer\",\n",
    "    ignore_index=True,\n",
    "    keys=None,\n",
    "    levels=None,\n",
    "    names=None,\n",
    "    verify_integrity=False,\n",
    "    copy=True,\n",
    ")"
   ]
  },
  {
   "cell_type": "code",
   "execution_count": 6,
   "metadata": {},
   "outputs": [],
   "source": [
    "import pandas as pd\n",
    "import json\n",
    "import requests\n",
    "from pprint import pprint\n",
    "import alpaca_trade_api as tradeapi\n",
    "from time import sleep\n",
    "\n",
    "api_key = 'PKU2SKNAWU76OBUNS88G'\n",
    "APCA_API_BASE_URL = 'https://paper-api.alpaca.markets'\n",
    "secret_key = 'RUjuIk7HvPQ9Kt6FVzBaF6RiAM3KdrtLxVg5w0VH'\n",
    "api = tradeapi.REST(api_key, secret_key)\n",
    "tckr = df['Symbol'].tolist()\n",
    "name = df['Description'].tolist()"
   ]
  },
  {
   "cell_type": "code",
   "execution_count": 7,
   "metadata": {},
   "outputs": [
    {
     "name": "stdout",
     "output_type": "stream",
     "text": [
      "'AACG'\n",
      "'AACIU'\n",
      "'AADI'\n",
      "'AADR'\n",
      "'AAL'\n",
      "'AAME'\n",
      "'AAOI'\n",
      "'AAON'\n",
      "'AAPL'\n",
      "'AATC'\n",
      "'AAWW'\n",
      "'AAXJ'\n",
      "'ABCB'\n",
      "'ABCL'\n",
      "'ABCM'\n",
      "'ABEO'\n",
      "'ABGI'\n",
      "'ABIO'\n",
      "'ABMD'\n",
      "'ABNB'\n",
      "'ABOS'\n",
      "'ABSI'\n",
      "'ABST'\n",
      "'ABTX'\n",
      "'ABUS'\n",
      "'ABVC'\n",
      "'ACAD'\n",
      "'ACAH'\n",
      "'ACAHU'\n",
      "'ACAHW'\n",
      "'ACB'\n",
      "'ACBA'\n",
      "'ACBAU'\n",
      "'ACBAW'\n",
      "'ACBI'\n",
      "'ACCD'\n",
      "'ACER'\n",
      "'ACET'\n",
      "'ACEV'\n",
      "'ACEVU'\n",
      "'ACEVW'\n",
      "'ACGL'\n",
      "'ACGLN'\n",
      "'ACGLO'\n",
      "'ACGLP'\n",
      "'ACHC'\n",
      "'ACHL'\n",
      "'ACHV'\n",
      "'ACIU'\n",
      "'ACIW'\n",
      "'ACKIU'\n",
      "'ACKIW'\n",
      "'ACLS'\n",
      "'ACMR'\n",
      "'ACNB'\n",
      "'ACOR'\n",
      "'ACQR'\n",
      "'ACQRU'\n",
      "'ACQRW'\n",
      "'ACRS'\n",
      "'ACRX'\n",
      "'ACST'\n",
      "'ACTD'\n",
      "'ACTDU'\n",
      "'ACTDW'\n",
      "'ACTG'\n",
      "'ACVA'\n",
      "'ACWI'\n",
      "'ACWX'\n",
      "'ACXP'\n",
      "'ADAG'\n",
      "'ADAP'\n",
      "'ADBE'\n",
      "'ADER'\n",
      "'ADERU'\n",
      "'ADERW'\n",
      "'ADES'\n",
      "'ADGI'\n",
      "'ADI'\n",
      "'ADIL'\n",
      "'ADILW'\n",
      "'ADMA'\n",
      "'ADMP'\n",
      "'ADMS'\n",
      "'ADN'\n",
      "'ADNWW'\n",
      "'ADOC'\n",
      "'ADOCR'\n",
      "'ADOCW'\n",
      "'ADP'\n",
      "'ADPT'\n",
      "'ADRE'\n",
      "'ADSK'\n",
      "'ADTN'\n",
      "'ADTX'\n",
      "'ADUS'\n",
      "'ADV'\n",
      "'ADVM'\n",
      "'ADVWW'\n",
      "'ADXN'\n",
      "'ADXS'\n",
      "'AEAC'\n",
      "'AEACU'\n",
      "'AEACW'\n",
      "'AEHL'\n",
      "'AEHR'\n",
      "'AEI'\n",
      "'AEIS'\n",
      "'AEMD'\n",
      "'AEP'\n",
      "'AEPPL'\n",
      "'AEPPZ'\n",
      "'AERI'\n",
      "'AESE'\n",
      "'AEY'\n",
      "'AEYE'\n",
      "'AEZS'\n",
      "'AFAQ'\n",
      "'AFAQU'\n",
      "'AFAQW'\n",
      "'AFBI'\n",
      "'AFCG'\n",
      "'AFIB'\n",
      "'AFIN'\n",
      "'AFINO'\n",
      "'AFINP'\n",
      "'AFMD'\n",
      "'AFRM'\n",
      "'AFYA'\n",
      "'AGBA'\n",
      "'AGBAR'\n",
      "'AGBAU'\n",
      "'AGBAW'\n",
      "'AGC'\n",
      "'AGCUU'\n",
      "'AGCWW'\n",
      "'AGEN'\n",
      "'AGFS'\n",
      "'AGFY'\n",
      "'AGGR'\n",
      "'AGGRU'\n",
      "'AGGRW'\n",
      "'AGIL'\n",
      "'AGILW'\n",
      "'AGIO'\n",
      "'AGLE'\n",
      "'AGMH'\n",
      "'AGNC'\n",
      "'AGNCM'\n",
      "'AGNCN'\n",
      "'AGNCO'\n",
      "'AGNCP'\n",
      "'AGNG'\n",
      "'AGRI'\n",
      "'AGRIW'\n",
      "'AGRX'\n",
      "'AGTC'\n",
      "'AGYS'\n",
      "'AGZD'\n",
      "'AHAC'\n",
      "'AHACU'\n",
      "'AHACW'\n",
      "'AHCO'\n",
      "'AHPAU'\n",
      "'AHPI'\n",
      "'AIA'\n",
      "'AIH'\n",
      "'AIHS'\n",
      "'AIKI'\n",
      "'AIMC'\n",
      "'AINV'\n",
      "'AIQ'\n",
      "'AIRG'\n",
      "'AIRR'\n",
      "'AIRT'\n",
      "'AIRTP'\n",
      "'AIRTW'\n",
      "'AKAM'\n",
      "'AKBA'\n",
      "'AKIC'\n",
      "'AKICU'\n",
      "'AKICW'\n",
      "'AKRO'\n",
      "'AKTS'\n",
      "'AKTX'\n",
      "'AKU'\n",
      "'AKUS'\n",
      "'AKYA'\n",
      "'ALAC'\n",
      "'ALACR'\n",
      "'ALACW'\n",
      "'ALBO'\n",
      "'ALCO'\n",
      "'ALDX'\n",
      "'ALEC'\n",
      "'ALF'\n",
      "'ALFIW'\n",
      "'ALGM'\n",
      "'ALGN'\n",
      "'ALGS'\n",
      "'ALGT'\n",
      "'ALHC'\n",
      "'ALIM'\n",
      "'ALJJ'\n",
      "'ALKS'\n",
      "'ALKT'\n",
      "'ALLK'\n",
      "'ALLO'\n",
      "'ALLT'\n",
      "'ALNA'\n",
      "'ALNY'\n",
      "'ALOT'\n",
      "'ALPAU'\n",
      "'ALPN'\n",
      "'ALRM'\n",
      "'ALRN'\n",
      "'ALRS'\n",
      "'ALT'\n",
      "'ALTA'\n",
      "'ALTM'\n",
      "'ALTO'\n",
      "'ALTR'\n",
      "'ALTU'\n",
      "'ALTUU'\n",
      "'ALTUW'\n",
      "'ALTY'\n",
      "'ALVR'\n",
      "'ALXO'\n",
      "'ALYA'\n",
      "'ALZN'\n",
      "'AMAL'\n",
      "'AMAO'\n",
      "'AMAOU'\n",
      "'AMAOW'\n",
      "'AMAT'\n",
      "'AMBA'\n",
      "'AMCA'\n",
      "'AMCIU'\n",
      "'AMCX'\n",
      "'AMD'\n",
      "'AMED'\n",
      "'AMEH'\n",
      "'AMGN'\n",
      "'AMHC'\n",
      "'AMHCU'\n",
      "'AMHCW'\n",
      "'AMKR'\n",
      "'AMNB'\n",
      "'AMOT'\n",
      "'AMPG'\n",
      "'AMPGW'\n",
      "'AMPH'\n",
      "'AMRB'\n",
      "'AMRK'\n",
      "'AMRN'\n",
      "'AMRS'\n",
      "'AMSC'\n"
     ]
    },
    {
     "name": "stderr",
     "output_type": "stream",
     "text": [
      "sleep 3 seconds and retrying https://data.alpaca.markets/v1/bars/day 3 more time(s)...\n"
     ]
    },
    {
     "name": "stdout",
     "output_type": "stream",
     "text": [
      "'AMSF'\n",
      "'AMST'\n",
      "'AMSWA'\n",
      "'AMTB'\n",
      "'AMTBB'\n",
      "'AMTI'\n",
      "'AMTX'\n",
      "'AMWD'\n",
      "'AMYT'\n",
      "'AMZN'\n",
      "'ANAB'\n",
      "'ANAT'\n",
      "'ANDE'\n",
      "'ANEB'\n",
      "'ANGI'\n",
      "'ANGL'\n"
     ]
    },
    {
     "name": "stderr",
     "output_type": "stream",
     "text": [
      "sleep 3 seconds and retrying https://data.alpaca.markets/v1/bars/day 3 more time(s)...\n"
     ]
    },
    {
     "name": "stdout",
     "output_type": "stream",
     "text": [
      "'ANGN'\n",
      "'ANGO'\n",
      "'ANIK'\n",
      "'ANIP'\n",
      "'ANIX'\n",
      "'ANNX'\n",
      "'ANPC'\n",
      "'ANSS'\n",
      "'ANTE'\n",
      "'ANY'\n",
      "'ANZU'\n",
      "'ANZUU'\n",
      "'ANZUW'\n"
     ]
    },
    {
     "name": "stderr",
     "output_type": "stream",
     "text": [
      "sleep 3 seconds and retrying https://data.alpaca.markets/v1/bars/day 3 more time(s)...\n"
     ]
    },
    {
     "name": "stdout",
     "output_type": "stream",
     "text": [
      "'AOSL'\n",
      "'AOUT'\n",
      "'APA'\n",
      "'APACU'\n",
      "'APDN'\n",
      "'APEI'\n",
      "'APEN'\n",
      "'API'\n",
      "'APLS'\n",
      "'APLT'\n",
      "'APM'\n"
     ]
    },
    {
     "name": "stderr",
     "output_type": "stream",
     "text": [
      "sleep 3 seconds and retrying https://data.alpaca.markets/v1/bars/day 3 more time(s)...\n"
     ]
    },
    {
     "name": "stdout",
     "output_type": "stream",
     "text": [
      "'APMIU'\n",
      "'APOG'\n",
      "'APOP'\n",
      "'APOPW'\n",
      "'APP'\n",
      "'APPF'\n",
      "'APPH'\n",
      "'APPHW'\n",
      "'APPN'\n",
      "'APPS'\n",
      "'APR'\n",
      "'APRE'\n",
      "'APTMU'\n",
      "'APTO'\n",
      "'APTX'\n"
     ]
    },
    {
     "name": "stderr",
     "output_type": "stream",
     "text": [
      "sleep 3 seconds and retrying https://data.alpaca.markets/v1/bars/day 3 more time(s)...\n"
     ]
    },
    {
     "name": "stdout",
     "output_type": "stream",
     "text": [
      "'APVO'\n",
      "'APWC'\n",
      "'APYX'\n",
      "'AQB'\n",
      "'AQMS'\n",
      "'AQST'\n",
      "'AQWA'\n",
      "'ARAV'\n",
      "'ARAY'\n",
      "'ARBG'\n",
      "'ARBGU'\n",
      "'ARBGW'\n",
      "'ARCB'\n",
      "'ARCC'\n",
      "'ARCE'\n",
      "'ARCT'\n"
     ]
    },
    {
     "name": "stderr",
     "output_type": "stream",
     "text": [
      "sleep 3 seconds and retrying https://data.alpaca.markets/v1/bars/day 3 more time(s)...\n"
     ]
    },
    {
     "name": "stdout",
     "output_type": "stream",
     "text": [
      "'ARDS'\n",
      "'ARDX'\n",
      "'AREC'\n",
      "'ARGX'\n",
      "'ARKO'\n",
      "'ARKOW'\n",
      "'ARKR'\n",
      "'ARLP'\n",
      "'ARNA'\n",
      "'AROW'\n",
      "'ARPO'\n",
      "'ARQT'\n"
     ]
    },
    {
     "name": "stderr",
     "output_type": "stream",
     "text": [
      "sleep 3 seconds and retrying https://data.alpaca.markets/v1/bars/day 3 more time(s)...\n"
     ]
    },
    {
     "name": "stdout",
     "output_type": "stream",
     "text": [
      "'ARRW'\n",
      "'ARRWU'\n",
      "'ARRWW'\n",
      "'ARRY'\n",
      "'ARTA'\n",
      "'ARTAU'\n",
      "'ARTAW'\n",
      "'ARTL'\n",
      "'ARTLW'\n",
      "'ARTNA'\n",
      "'ARTW'\n",
      "'ARVL'\n",
      "'ARVN'\n",
      "'ARWR'\n"
     ]
    },
    {
     "name": "stderr",
     "output_type": "stream",
     "text": [
      "sleep 3 seconds and retrying https://data.alpaca.markets/v1/bars/day 3 more time(s)...\n"
     ]
    },
    {
     "name": "stdout",
     "output_type": "stream",
     "text": [
      "'ARYD'\n",
      "'ARYE'\n",
      "'ASAX'\n",
      "'ASAXU'\n",
      "'ASAXW'\n",
      "'ASET'\n",
      "'ASLE'\n",
      "'ASLEW'\n",
      "'ASLN'\n",
      "'ASMB'\n",
      "'ASML'\n",
      "'ASND'\n",
      "'ASO'\n"
     ]
    },
    {
     "name": "stderr",
     "output_type": "stream",
     "text": [
      "sleep 3 seconds and retrying https://data.alpaca.markets/v1/bars/day 3 more time(s)...\n"
     ]
    },
    {
     "name": "stdout",
     "output_type": "stream",
     "text": [
      "'ASPAU'\n",
      "'ASPC'\n",
      "'ASPCU'\n",
      "'ASPCW'\n",
      "'ASPS'\n",
      "'ASPU'\n",
      "'ASRT'\n",
      "'ASRV'\n",
      "'ASRVP'\n",
      "'ASTC'\n",
      "'ASTE'\n",
      "'ASTR'\n",
      "'ASTRW'\n"
     ]
    },
    {
     "name": "stderr",
     "output_type": "stream",
     "text": [
      "sleep 3 seconds and retrying https://data.alpaca.markets/v1/bars/day 3 more time(s)...\n"
     ]
    },
    {
     "name": "stdout",
     "output_type": "stream",
     "text": [
      "'ASTS'\n",
      "'ASTSW'\n",
      "'ASUR'\n",
      "'ASYS'\n",
      "'ATAI'\n",
      "'ATAX'\n",
      "'ATCOL'\n",
      "'ATCX'\n",
      "'ATEC'\n",
      "'ATER'\n",
      "'ATEX'\n",
      "'ATHA'\n",
      "'ATHE'\n",
      "'ATHX'\n",
      "'ATIF'\n",
      "'ATLC'\n",
      "'ATLCP'\n"
     ]
    },
    {
     "name": "stderr",
     "output_type": "stream",
     "text": [
      "sleep 3 seconds and retrying https://data.alpaca.markets/v1/bars/day 3 more time(s)...\n"
     ]
    },
    {
     "name": "stdout",
     "output_type": "stream",
     "text": [
      "'ATLO'\n",
      "'ATNF'\n",
      "'ATNFW'\n",
      "'ATNI'\n",
      "'ATNX'\n",
      "'ATOM'\n",
      "'ATOS'\n",
      "'ATRA'\n",
      "'ATRC'\n",
      "'ATRI'\n",
      "'ATRO'\n",
      "'ATRS'\n"
     ]
    },
    {
     "name": "stderr",
     "output_type": "stream",
     "text": [
      "sleep 3 seconds and retrying https://data.alpaca.markets/v1/bars/day 3 more time(s)...\n"
     ]
    },
    {
     "name": "stdout",
     "output_type": "stream",
     "text": [
      "'ATSG'\n",
      "'ATSPU'\n",
      "'ATSPW'\n",
      "'ATVC'\n",
      "'ATVCU'\n",
      "'ATVCW'\n",
      "'ATVI'\n",
      "'ATXI'\n",
      "'ATY'\n",
      "'AUB'\n",
      "'AUBAP'\n",
      "'AUBN'\n",
      "'AUDC'\n"
     ]
    },
    {
     "name": "stderr",
     "output_type": "stream",
     "text": [
      "sleep 3 seconds and retrying https://data.alpaca.markets/v1/bars/day 3 more time(s)...\n"
     ]
    },
    {
     "name": "stdout",
     "output_type": "stream",
     "text": [
      "'AUID'\n",
      "'AUPH'\n",
      "'AURC'\n",
      "'AURCU'\n",
      "'AURCW'\n",
      "'AUTL'\n",
      "'AUTO'\n",
      "'AUUD'\n",
      "'AUUDW'\n",
      "'AUVI'\n",
      "'AUVIP'\n",
      "'AVAH'\n",
      "'AVAV'\n"
     ]
    },
    {
     "name": "stderr",
     "output_type": "stream",
     "text": [
      "sleep 3 seconds and retrying https://data.alpaca.markets/v1/bars/day 3 more time(s)...\n"
     ]
    },
    {
     "name": "stdout",
     "output_type": "stream",
     "text": [
      "'AVCO'\n",
      "'AVCT'\n",
      "'AVCTW'\n",
      "'AVDL'\n",
      "'AVEO'\n",
      "'AVGO'\n",
      "'AVGOP'\n",
      "'AVGR'\n",
      "'AVID'\n",
      "'AVIR'\n",
      "'AVNW'\n",
      "'AVO'\n",
      "'AVPT'\n"
     ]
    },
    {
     "name": "stderr",
     "output_type": "stream",
     "text": [
      "sleep 3 seconds and retrying https://data.alpaca.markets/v1/bars/day 3 more time(s)...\n"
     ]
    },
    {
     "name": "stdout",
     "output_type": "stream",
     "text": [
      "'AVPTW'\n",
      "'AVRO'\n",
      "'AVT'\n",
      "'AVTE'\n",
      "'AVTX'\n",
      "'AVXL'\n",
      "'AWH'\n",
      "'AWRE'\n",
      "'AXAS'\n",
      "'AXDX'\n",
      "'AXGN'\n",
      "'AXLA'\n",
      "'AXNX'\n",
      "'AXON'\n",
      "'AXSM'\n",
      "'AXTI'\n",
      "'AY'\n",
      "'AYLA'\n",
      "'AYRO'\n"
     ]
    },
    {
     "name": "stderr",
     "output_type": "stream",
     "text": [
      "sleep 3 seconds and retrying https://data.alpaca.markets/v1/bars/day 3 more time(s)...\n"
     ]
    },
    {
     "name": "stdout",
     "output_type": "stream",
     "text": [
      "'AYTU'\n",
      "'AZN'\n",
      "'AZPN'\n",
      "'AZRX'\n",
      "'AZYO'\n",
      "'BAND'\n",
      "'BANF'\n",
      "'BANFP'\n",
      "'BANR'\n",
      "'BANX'\n",
      "'BAOS'\n",
      "'BASE'\n",
      "'BATRA'\n"
     ]
    },
    {
     "name": "stderr",
     "output_type": "stream",
     "text": [
      "sleep 3 seconds and retrying https://data.alpaca.markets/v1/bars/day 3 more time(s)...\n"
     ]
    },
    {
     "name": "stdout",
     "output_type": "stream",
     "text": [
      "'BATRK'\n",
      "'BBBY'\n",
      "'BBCP'\n",
      "'BBGI'\n",
      "'BBH'\n",
      "'BBI'\n",
      "'BBIG'\n",
      "'BBIO'\n",
      "'BBQ'\n",
      "'BBSI'\n",
      "'BCAB'\n",
      "'BCAC'\n"
     ]
    },
    {
     "name": "stderr",
     "output_type": "stream",
     "text": [
      "sleep 3 seconds and retrying https://data.alpaca.markets/v1/bars/day 3 more time(s)...\n"
     ]
    },
    {
     "name": "stdout",
     "output_type": "stream",
     "text": [
      "'BCACU'\n",
      "'BCACW'\n",
      "'BCBP'\n",
      "'BCDA'\n",
      "'BCDAW'\n",
      "'BCEL'\n",
      "'BCLI'\n",
      "'BCML'\n",
      "'BCOR'\n",
      "'BCOV'\n",
      "'BCOW'\n",
      "'BCPC'\n",
      "'BCRX'\n",
      "'BCTG'\n",
      "'BCTX'\n"
     ]
    },
    {
     "name": "stderr",
     "output_type": "stream",
     "text": [
      "sleep 3 seconds and retrying https://data.alpaca.markets/v1/bars/day 3 more time(s)...\n"
     ]
    },
    {
     "name": "stdout",
     "output_type": "stream",
     "text": [
      "'BCTXW'\n",
      "'BCYC'\n",
      "'BCYP'\n",
      "'BCYPU'\n",
      "'BCYPW'\n",
      "'BDSI'\n",
      "'BDSX'\n",
      "'BDTX'\n",
      "'BEAM'\n",
      "'BECN'\n",
      "'BEEM'\n",
      "'BEEMW'\n",
      "'BELFA'\n"
     ]
    },
    {
     "name": "stderr",
     "output_type": "stream",
     "text": [
      "sleep 3 seconds and retrying https://data.alpaca.markets/v1/bars/day 3 more time(s)...\n"
     ]
    },
    {
     "name": "stdout",
     "output_type": "stream",
     "text": [
      "'BELFB'\n",
      "'BENE'\n",
      "'BENER'\n",
      "'BENEU'\n",
      "'BENEW'\n",
      "'BFC'\n",
      "'BFI'\n",
      "'BFIIW'\n",
      "'BFIN'\n",
      "'BFIT'\n",
      "'BFRA'\n",
      "'BFST'\n",
      "'BGCP'\n",
      "'BGFV'\n",
      "'BGNE'\n",
      "'BGRN'\n",
      "'BGRY'\n"
     ]
    },
    {
     "name": "stderr",
     "output_type": "stream",
     "text": [
      "sleep 3 seconds and retrying https://data.alpaca.markets/v1/bars/day 3 more time(s)...\n"
     ]
    },
    {
     "name": "stdout",
     "output_type": "stream",
     "text": [
      "'BGRYW'\n",
      "'BHAT'\n",
      "'BHF'\n",
      "'BHFAL'\n",
      "'BHFAN'\n",
      "'BHFAO'\n",
      "'BHFAP'\n",
      "'BHSE'\n",
      "'BHSEU'\n",
      "'BHSEW'\n",
      "'BHTG'\n",
      "'BIB'\n",
      "'BICK'\n",
      "'BIDU'\n",
      "'BIGC'\n"
     ]
    },
    {
     "name": "stderr",
     "output_type": "stream",
     "text": [
      "sleep 3 seconds and retrying https://data.alpaca.markets/v1/bars/day 3 more time(s)...\n"
     ]
    },
    {
     "name": "stdout",
     "output_type": "stream",
     "text": [
      "'BIIB'\n",
      "'BILI'\n",
      "'BIMI'\n",
      "'BIOC'\n",
      "'BIOL'\n",
      "'BIOT'\n",
      "'BIOTU'\n",
      "'BIOTW'\n",
      "'BIOX'\n",
      "'BIS'\n",
      "'BITF'\n",
      "'BIVI'\n",
      "'BJK'\n"
     ]
    },
    {
     "name": "stderr",
     "output_type": "stream",
     "text": [
      "sleep 3 seconds and retrying https://data.alpaca.markets/v1/bars/day 3 more time(s)...\n"
     ]
    },
    {
     "name": "stdout",
     "output_type": "stream",
     "text": [
      "'BJRI'\n",
      "'BKCC'\n",
      "'BKCH'\n",
      "'BKEP'\n",
      "'BKEPP'\n",
      "'BKNG'\n",
      "'BKSC'\n",
      "'BKYI'\n",
      "'BL'\n",
      "'BLBD'\n",
      "'BLCM'\n",
      "'BLCN'\n"
     ]
    },
    {
     "name": "stderr",
     "output_type": "stream",
     "text": [
      "sleep 3 seconds and retrying https://data.alpaca.markets/v1/bars/day 3 more time(s)...\n"
     ]
    },
    {
     "name": "stdout",
     "output_type": "stream",
     "text": [
      "'BLCT'\n",
      "'BLDE'\n",
      "'BLDEW'\n",
      "'BLDP'\n",
      "'BLFS'\n",
      "'BLFY'\n",
      "'BLI'\n",
      "'BLIN'\n",
      "'BLKB'\n",
      "'BLMN'\n",
      "'BLNGU'\n",
      "'BLNK'\n",
      "'BLNKW'\n",
      "'BLPH'\n"
     ]
    },
    {
     "name": "stderr",
     "output_type": "stream",
     "text": [
      "sleep 3 seconds and retrying https://data.alpaca.markets/v1/bars/day 3 more time(s)...\n"
     ]
    },
    {
     "name": "stdout",
     "output_type": "stream",
     "text": [
      "'BLRX'\n",
      "'BLSA'\n",
      "'BLTS'\n",
      "'BLTSU'\n",
      "'BLTSW'\n",
      "'BLU'\n",
      "'BLUE'\n",
      "'BLUW'\n",
      "'BLUWU'\n",
      "'BLUWW'\n",
      "'BMBL'\n",
      "'BMEA'\n",
      "'BMRA'\n",
      "'BMRC'\n",
      "'BMRN'\n"
     ]
    },
    {
     "name": "stderr",
     "output_type": "stream",
     "text": [
      "sleep 3 seconds and retrying https://data.alpaca.markets/v1/bars/day 3 more time(s)...\n"
     ]
    },
    {
     "name": "stdout",
     "output_type": "stream",
     "text": [
      "'BMTC'\n",
      "'BND'\n",
      "'BNDW'\n",
      "'BNDX'\n",
      "'BNFT'\n",
      "'BNGO'\n",
      "'BNGOW'\n",
      "'BNR'\n",
      "'BNSO'\n",
      "'BNTC'\n",
      "'BNTX'\n",
      "'BOCH'\n",
      "'BOKF'\n",
      "'BOKFL'\n"
     ]
    },
    {
     "name": "stderr",
     "output_type": "stream",
     "text": [
      "sleep 3 seconds and retrying https://data.alpaca.markets/v1/bars/day 3 more time(s)...\n"
     ]
    },
    {
     "name": "stdout",
     "output_type": "stream",
     "text": [
      "'BOLT'\n",
      "'BOMN'\n",
      "'BON'\n",
      "'BOOM'\n",
      "'BOSC'\n",
      "'BOTJ'\n",
      "'BOTZ'\n",
      "'BOWX'\n",
      "'BOWXU'\n",
      "'BOWXW'\n",
      "'BOXL'\n",
      "'BPMC'\n",
      "'BPOP'\n"
     ]
    },
    {
     "name": "stderr",
     "output_type": "stream",
     "text": [
      "sleep 3 seconds and retrying https://data.alpaca.markets/v1/bars/day 3 more time(s)...\n"
     ]
    },
    {
     "name": "stdout",
     "output_type": "stream",
     "text": [
      "'BPOPM'\n",
      "'BPOPN'\n",
      "'BPRN'\n",
      "'BPTH'\n",
      "'BPTS'\n",
      "'BPYPM'\n",
      "'BPYPN'\n",
      "'BPYPO'\n",
      "'BPYPP'\n",
      "'BPYUP'\n",
      "'BRAG'\n",
      "'BRCN'\n"
     ]
    },
    {
     "name": "stderr",
     "output_type": "stream",
     "text": [
      "sleep 3 seconds and retrying https://data.alpaca.markets/v1/bars/day 3 more time(s)...\n"
     ]
    },
    {
     "name": "stdout",
     "output_type": "stream",
     "text": [
      "'BREZ'\n",
      "'BREZR'\n",
      "'BREZW'\n",
      "'BRID'\n",
      "'BRIV'\n",
      "'BRIVU'\n",
      "'BRIVW'\n",
      "'BRKL'\n",
      "'BRKR'\n",
      "'BRKS'\n",
      "'BRLI'\n",
      "'BRLIR'\n",
      "'BRLIU'\n",
      "'BRLIW'\n",
      "'BROG'\n",
      "'BROGW'\n"
     ]
    },
    {
     "name": "stderr",
     "output_type": "stream",
     "text": [
      "sleep 3 seconds and retrying https://data.alpaca.markets/v1/bars/day 3 more time(s)...\n"
     ]
    },
    {
     "name": "stdout",
     "output_type": "stream",
     "text": [
      "'BRP'\n",
      "'BRPM'\n",
      "'BRPMU'\n",
      "'BRPMW'\n",
      "'BRQS'\n",
      "'BRY'\n",
      "'BSAE'\n",
      "'BSBE'\n",
      "'BSBK'\n",
      "'BSCE'\n",
      "'BSCL'\n",
      "'BSCM'\n",
      "'BSCN'\n",
      "'BSCO'\n"
     ]
    },
    {
     "name": "stderr",
     "output_type": "stream",
     "text": [
      "sleep 3 seconds and retrying https://data.alpaca.markets/v1/bars/day 3 more time(s)...\n"
     ]
    },
    {
     "name": "stdout",
     "output_type": "stream",
     "text": [
      "'BSCP'\n",
      "'BSCQ'\n",
      "'BSCR'\n",
      "'BSCS'\n",
      "'BSCT'\n",
      "'BSCU'\n",
      "'BSDE'\n",
      "'BSET'\n",
      "'BSGA'\n",
      "'BSGAR'\n",
      "'BSGAU'\n",
      "'BSGM'\n",
      "'BSJL'\n"
     ]
    },
    {
     "name": "stderr",
     "output_type": "stream",
     "text": [
      "sleep 3 seconds and retrying https://data.alpaca.markets/v1/bars/day 3 more time(s)...\n"
     ]
    },
    {
     "name": "stdout",
     "output_type": "stream",
     "text": [
      "'BSJM'\n",
      "'BSJN'\n",
      "'BSJO'\n",
      "'BSJP'\n",
      "'BSJQ'\n",
      "'BSJR'\n",
      "'BSJS'\n",
      "'BSKY'\n",
      "'BSKYU'\n",
      "'BSKYW'\n",
      "'BSML'\n",
      "'BSMM'\n"
     ]
    },
    {
     "name": "stderr",
     "output_type": "stream",
     "text": [
      "sleep 3 seconds and retrying https://data.alpaca.markets/v1/bars/day 3 more time(s)...\n"
     ]
    },
    {
     "name": "stdout",
     "output_type": "stream",
     "text": [
      "'BSMN'\n",
      "'BSMO'\n",
      "'BSMP'\n",
      "'BSMQ'\n",
      "'BSMR'\n",
      "'BSMS'\n",
      "'BSMT'\n",
      "'BSMU'\n",
      "'BSQR'\n",
      "'BSRR'\n",
      "'BSVN'\n",
      "'BSY'\n",
      "'BTAI'\n"
     ]
    },
    {
     "name": "stderr",
     "output_type": "stream",
     "text": [
      "sleep 3 seconds and retrying https://data.alpaca.markets/v1/bars/day 3 more time(s)...\n"
     ]
    },
    {
     "name": "stdout",
     "output_type": "stream",
     "text": [
      "'BTAQ'\n",
      "'BTAQU'\n",
      "'BTAQW'\n",
      "'BTB'\n",
      "'BTBT'\n",
      "'BTCY'\n",
      "'BTEC'\n",
      "'BTNB'\n",
      "'BTRS'\n",
      "'BTRSW'\n",
      "'BTWN'\n",
      "'BTWNU'\n",
      "'BTWNW'\n",
      "'BUG'\n",
      "'BUSE'\n",
      "'BVS'\n"
     ]
    },
    {
     "name": "stderr",
     "output_type": "stream",
     "text": [
      "sleep 3 seconds and retrying https://data.alpaca.markets/v1/bars/day 3 more time(s)...\n"
     ]
    },
    {
     "name": "stdout",
     "output_type": "stream",
     "text": [
      "'BVXV'\n",
      "'BWAC'\n",
      "'BWACU'\n",
      "'BWACW'\n",
      "'BWAY'\n",
      "'BWB'\n",
      "'BWBBP'\n",
      "'BWCAU'\n",
      "'BWEN'\n",
      "'BWFG'\n",
      "'BWMN'\n",
      "'BWMX'\n",
      "'BXRX'\n"
     ]
    },
    {
     "name": "stderr",
     "output_type": "stream",
     "text": [
      "sleep 3 seconds and retrying https://data.alpaca.markets/v1/bars/day 3 more time(s)...\n"
     ]
    },
    {
     "name": "stdout",
     "output_type": "stream",
     "text": [
      "'BYFC'\n",
      "'BYND'\n",
      "'BYRN'\n",
      "'BYSI'\n",
      "'BYTS'\n",
      "'BYTSU'\n",
      "'BYTSW'\n",
      "'BZ'\n",
      "'BZUN'\n",
      "'CAAS'\n",
      "'CABA'\n",
      "'CAC'\n",
      "'CACC'\n",
      "'CACG'\n"
     ]
    },
    {
     "name": "stderr",
     "output_type": "stream",
     "text": [
      "sleep 3 seconds and retrying https://data.alpaca.markets/v1/bars/day 3 more time(s)...\n"
     ]
    },
    {
     "name": "stdout",
     "output_type": "stream",
     "text": [
      "'CADL'\n",
      "'CAHC'\n",
      "'CAHCU'\n",
      "'CAHCW'\n",
      "'CAKE'\n",
      "'CALA'\n",
      "'CALB'\n",
      "'CALM'\n",
      "'CALT'\n",
      "'CAMP'\n",
      "'CAMT'\n"
     ]
    },
    {
     "name": "stderr",
     "output_type": "stream",
     "text": [
      "sleep 3 seconds and retrying https://data.alpaca.markets/v1/bars/day 3 more time(s)...\n"
     ]
    },
    {
     "name": "stdout",
     "output_type": "stream",
     "text": [
      "'CAN'\n",
      "'CAPR'\n",
      "'CAR'\n",
      "'CARA'\n",
      "'CARE'\n",
      "'CARG'\n",
      "'CARV'\n",
      "'CARZ'\n",
      "'CASA'\n",
      "'CASH'\n",
      "'CASI'\n",
      "'CASS'\n",
      "'CASY'\n",
      "'CATB'\n",
      "'CATC'\n"
     ]
    },
    {
     "name": "stderr",
     "output_type": "stream",
     "text": [
      "sleep 3 seconds and retrying https://data.alpaca.markets/v1/bars/day 3 more time(s)...\n"
     ]
    },
    {
     "name": "stdout",
     "output_type": "stream",
     "text": [
      "'CATH'\n",
      "'CATY'\n",
      "'CBAN'\n",
      "'CBAT'\n",
      "'CBAY'\n",
      "'CBFV'\n",
      "'CBIO'\n",
      "'CBLI'\n",
      "'CBMB'\n",
      "'CBNK'\n",
      "'CBRL'\n",
      "'CBSH'\n",
      "'CBTX'\n",
      "'CCAIU'\n",
      "'CCAP'\n",
      "'CCB'\n",
      "'CCBG'\n",
      "'CCCC'\n",
      "'CCD'\n",
      "'CCLP'\n",
      "'CCMP'\n",
      "'CCNC'\n"
     ]
    },
    {
     "name": "stderr",
     "output_type": "stream",
     "text": [
      "sleep 3 seconds and retrying https://data.alpaca.markets/v1/bars/day 3 more time(s)...\n"
     ]
    },
    {
     "name": "stdout",
     "output_type": "stream",
     "text": [
      "'CCNE'\n",
      "'CCNEP'\n",
      "'CCOI'\n",
      "'CCRN'\n",
      "'CCXI'\n",
      "'CD'\n",
      "'CDAK'\n",
      "'CDC'\n",
      "'CDEV'\n",
      "'CDK'\n",
      "'CDL'\n",
      "'CDLX'\n"
     ]
    },
    {
     "name": "stderr",
     "output_type": "stream",
     "text": [
      "sleep 3 seconds and retrying https://data.alpaca.markets/v1/bars/day 3 more time(s)...\n"
     ]
    },
    {
     "name": "stdout",
     "output_type": "stream",
     "text": [
      "'CDMO'\n",
      "'CDNA'\n",
      "'CDNS'\n",
      "'CDTX'\n",
      "'CDW'\n",
      "'CDXC'\n",
      "'CDXS'\n",
      "'CDZI'\n",
      "'CDZIP'\n",
      "'CECE'\n",
      "'CEFA'\n",
      "'CELC'\n",
      "'CELH'\n",
      "'CELU'\n"
     ]
    },
    {
     "name": "stderr",
     "output_type": "stream",
     "text": [
      "sleep 3 seconds and retrying https://data.alpaca.markets/v1/bars/day 3 more time(s)...\n"
     ]
    },
    {
     "name": "stdout",
     "output_type": "stream",
     "text": [
      "'CELUW'\n",
      "'CEMI'\n",
      "'CENH'\n",
      "'CENHU'\n",
      "'CENHW'\n",
      "'CENQU'\n",
      "'CENT'\n",
      "'CENTA'\n",
      "'CENX'\n",
      "'CERC'\n",
      "'CERE'\n",
      "'CEREW'\n",
      "'CERN'\n"
     ]
    },
    {
     "name": "stderr",
     "output_type": "stream",
     "text": [
      "sleep 3 seconds and retrying https://data.alpaca.markets/v1/bars/day 3 more time(s)...\n"
     ]
    },
    {
     "name": "stdout",
     "output_type": "stream",
     "text": [
      "'CERS'\n",
      "'CERT'\n",
      "'CETX'\n",
      "'CETXP'\n",
      "'CETXW'\n",
      "'CEVA'\n",
      "'CEY'\n",
      "'CFA'\n",
      "'CFAC'\n",
      "'CFACU'\n",
      "'CFACW'\n",
      "'CFB'\n",
      "'CFBK'\n"
     ]
    },
    {
     "name": "stderr",
     "output_type": "stream",
     "text": [
      "sleep 3 seconds and retrying https://data.alpaca.markets/v1/bars/day 3 more time(s)...\n"
     ]
    },
    {
     "name": "stdout",
     "output_type": "stream",
     "text": [
      "'CFFE'\n",
      "'CFFEU'\n",
      "'CFFEW'\n",
      "'CFFI'\n",
      "'CFFN'\n",
      "'CFFVU'\n",
      "'CFFVW'\n",
      "'CFIV'\n",
      "'CFIVU'\n",
      "'CFIVW'\n",
      "'CFLT'\n",
      "'CFMS'\n",
      "'CFO'\n",
      "'CFRX'\n",
      "'CFV'\n",
      "'CFVI'\n",
      "'CFVIU'\n",
      "'CFVIW'\n"
     ]
    },
    {
     "name": "stderr",
     "output_type": "stream",
     "text": [
      "sleep 3 seconds and retrying https://data.alpaca.markets/v1/bars/day 3 more time(s)...\n"
     ]
    },
    {
     "name": "stdout",
     "output_type": "stream",
     "text": [
      "'CG'\n",
      "'CGABL'\n",
      "'CGBD'\n",
      "'CGC'\n",
      "'CGEM'\n",
      "'CGEN'\n",
      "'CGNT'\n",
      "'CGNX'\n",
      "'CGO'\n",
      "'CGRN'\n",
      "'CHB'\n",
      "'CHCI'\n"
     ]
    },
    {
     "name": "stderr",
     "output_type": "stream",
     "text": [
      "sleep 3 seconds and retrying https://data.alpaca.markets/v1/bars/day 3 more time(s)...\n"
     ]
    },
    {
     "name": "stdout",
     "output_type": "stream",
     "text": [
      "'CHCO'\n",
      "'CHDN'\n",
      "'CHEF'\n",
      "'CHEK'\n",
      "'CHEKZ'\n",
      "'CHI'\n",
      "'CHK'\n",
      "'CHKEL'\n",
      "'CHKEW'\n",
      "'CHKEZ'\n",
      "'CHKP'\n",
      "'CHMA'\n",
      "'CHMG'\n",
      "'CHNA'\n"
     ]
    },
    {
     "name": "stderr",
     "output_type": "stream",
     "text": [
      "sleep 3 seconds and retrying https://data.alpaca.markets/v1/bars/day 3 more time(s)...\n"
     ]
    },
    {
     "name": "stdout",
     "output_type": "stream",
     "text": [
      "'CHNG'\n",
      "'CHNGU'\n",
      "'CHNR'\n",
      "'CHPM'\n",
      "'CHPMU'\n",
      "'CHPMW'\n",
      "'CHRS'\n",
      "'CHRW'\n",
      "'CHSCL'\n",
      "'CHSCM'\n",
      "'CHSCN'\n",
      "'CHSCO'\n"
     ]
    },
    {
     "name": "stderr",
     "output_type": "stream",
     "text": [
      "sleep 3 seconds and retrying https://data.alpaca.markets/v1/bars/day 3 more time(s)...\n"
     ]
    },
    {
     "name": "stdout",
     "output_type": "stream",
     "text": [
      "'CHSCP'\n",
      "'CHTR'\n",
      "'CHUY'\n",
      "'CHW'\n",
      "'CHX'\n",
      "'CHY'\n",
      "'CIBR'\n",
      "'CID'\n",
      "'CIDM'\n",
      "'CIGI'\n",
      "'CIH'\n",
      "'CIL'\n",
      "'CINF'\n",
      "'CIVB'\n",
      "'CIZ'\n"
     ]
    },
    {
     "name": "stderr",
     "output_type": "stream",
     "text": [
      "sleep 3 seconds and retrying https://data.alpaca.markets/v1/bars/day 3 more time(s)...\n"
     ]
    },
    {
     "name": "stdout",
     "output_type": "stream",
     "text": [
      "'CIZN'\n",
      "'CJJD'\n",
      "'CKPT'\n",
      "'CLAQ'\n",
      "'CLAQR'\n",
      "'CLAQU'\n",
      "'CLAQW'\n",
      "'CLAR'\n",
      "'CLAY'\n",
      "'CLAYU'\n",
      "'CLAYW'\n",
      "'CLBK'\n",
      "'CLBS'\n"
     ]
    },
    {
     "name": "stderr",
     "output_type": "stream",
     "text": [
      "sleep 3 seconds and retrying https://data.alpaca.markets/v1/bars/day 3 more time(s)...\n"
     ]
    },
    {
     "name": "stdout",
     "output_type": "stream",
     "text": [
      "'CLDB'\n",
      "'CLDX'\n",
      "'CLEU'\n",
      "'CLFD'\n",
      "'CLGN'\n",
      "'CLIR'\n",
      "'CLLS'\n",
      "'CLMT'\n",
      "'CLNE'\n",
      "'CLNN'\n",
      "'CLNNW'\n",
      "'CLOEU'\n",
      "'CLOU'\n",
      "'CLOV'\n"
     ]
    },
    {
     "name": "stderr",
     "output_type": "stream",
     "text": [
      "sleep 3 seconds and retrying https://data.alpaca.markets/v1/bars/day 3 more time(s)...\n"
     ]
    },
    {
     "name": "stdout",
     "output_type": "stream",
     "text": [
      "'CLOVW'\n",
      "'CLPS'\n",
      "'CLPT'\n",
      "'CLRB'\n",
      "'CLRG'\n",
      "'CLRM'\n",
      "'CLRMU'\n",
      "'CLRMW'\n",
      "'CLRO'\n",
      "'CLSD'\n",
      "'CLSK'\n",
      "'CLSN'\n",
      "'CLVR'\n"
     ]
    },
    {
     "name": "stderr",
     "output_type": "stream",
     "text": [
      "sleep 3 seconds and retrying https://data.alpaca.markets/v1/bars/day 3 more time(s)...\n"
     ]
    },
    {
     "name": "stdout",
     "output_type": "stream",
     "text": [
      "'CLVRW'\n",
      "'CLVS'\n",
      "'CLWT'\n",
      "'CLXT'\n",
      "'CMAX'\n",
      "'CMAXW'\n",
      "'CMBM'\n",
      "'CMCO'\n",
      "'CMCSA'\n",
      "'CMCT'\n",
      "'CMCTP'\n",
      "'CME'\n",
      "'CMII'\n"
     ]
    },
    {
     "name": "stderr",
     "output_type": "stream",
     "text": [
      "sleep 3 seconds and retrying https://data.alpaca.markets/v1/bars/day 3 more time(s)...\n"
     ]
    },
    {
     "name": "stdout",
     "output_type": "stream",
     "text": [
      "'CMIIU'\n",
      "'CMIIW'\n",
      "'CMLS'\n",
      "'CMLT'\n",
      "'CMLTU'\n",
      "'CMLTW'\n",
      "'CMMB'\n",
      "'CMPI'\n",
      "'CMPR'\n",
      "'CMPS'\n",
      "'CMRX'\n",
      "'CMTL'\n",
      "'CNBKA'\n",
      "'CNCE'\n",
      "'CNCR'\n",
      "'CNDT'\n"
     ]
    },
    {
     "name": "stderr",
     "output_type": "stream",
     "text": [
      "sleep 3 seconds and retrying https://data.alpaca.markets/v1/bars/day 3 more time(s)...\n"
     ]
    },
    {
     "name": "stdout",
     "output_type": "stream",
     "text": [
      "'CNET'\n",
      "'CNEY'\n",
      "'CNFR'\n",
      "'CNFRL'\n",
      "'CNNB'\n",
      "'CNOB'\n",
      "'CNSL'\n",
      "'CNSP'\n",
      "'CNTA'\n",
      "'CNTB'\n",
      "'CNTG'\n",
      "'CNTQ'\n"
     ]
    },
    {
     "name": "stderr",
     "output_type": "stream",
     "text": [
      "sleep 3 seconds and retrying https://data.alpaca.markets/v1/bars/day 3 more time(s)...\n"
     ]
    },
    {
     "name": "stdout",
     "output_type": "stream",
     "text": [
      "'CNTQU'\n",
      "'CNTQW'\n",
      "'CNTY'\n",
      "'CNXC'\n",
      "'CNXN'\n",
      "'COCP'\n",
      "'CODA'\n",
      "'CODX'\n",
      "'COFS'\n",
      "'COGT'\n",
      "'COHR'\n",
      "'COHU'\n",
      "'COIN'\n",
      "'COKE'\n",
      "'COLB'\n"
     ]
    },
    {
     "name": "stderr",
     "output_type": "stream",
     "text": [
      "sleep 3 seconds and retrying https://data.alpaca.markets/v1/bars/day 3 more time(s)...\n"
     ]
    },
    {
     "name": "stdout",
     "output_type": "stream",
     "text": [
      "'COLI'\n",
      "'COLIU'\n",
      "'COLIW'\n",
      "'COLL'\n",
      "'COLM'\n",
      "'COMM'\n",
      "'COMS'\n",
      "'COMSW'\n",
      "'COMT'\n",
      "'CONE'\n",
      "'CONN'\n",
      "'CONX'\n",
      "'CONXU'\n"
     ]
    },
    {
     "name": "stderr",
     "output_type": "stream",
     "text": [
      "sleep 3 seconds and retrying https://data.alpaca.markets/v1/bars/day 3 more time(s)...\n"
     ]
    },
    {
     "name": "stdout",
     "output_type": "stream",
     "text": [
      "'CONXW'\n",
      "'COOL'\n",
      "'COOLU'\n",
      "'COOLW'\n",
      "'COOP'\n",
      "'CORE'\n",
      "'CORT'\n",
      "'COST'\n",
      "'COUP'\n",
      "'COVA'\n",
      "'COVAU'\n"
     ]
    },
    {
     "name": "stderr",
     "output_type": "stream",
     "text": [
      "sleep 3 seconds and retrying https://data.alpaca.markets/v1/bars/day 3 more time(s)...\n"
     ]
    },
    {
     "name": "stdout",
     "output_type": "stream",
     "text": [
      "'COVAW'\n",
      "'COWN'\n",
      "'COWNL'\n",
      "'CPAAU'\n",
      "'CPAR'\n",
      "'CPARU'\n",
      "'CPARW'\n",
      "'CPHC'\n",
      "'CPIX'\n",
      "'CPLP'\n",
      "'CPOP'\n",
      "'CPRT'\n",
      "'CPRX'\n",
      "'CPSH'\n",
      "'CPSI'\n",
      "'CPSS'\n",
      "'CPTAG'\n",
      "'CPTAL'\n",
      "'CPZ'\n",
      "'CRAI'\n",
      "'CRBP'\n",
      "'CRBU'\n",
      "'CRCT'\n"
     ]
    },
    {
     "name": "stderr",
     "output_type": "stream",
     "text": [
      "sleep 3 seconds and retrying https://data.alpaca.markets/v1/bars/day 3 more time(s)...\n"
     ]
    },
    {
     "name": "stdout",
     "output_type": "stream",
     "text": [
      "'CRDF'\n",
      "'CRDL'\n",
      "'CREE'\n",
      "'CREG'\n",
      "'CRESW'\n",
      "'CRESY'\n",
      "'CREX'\n",
      "'CREXW'\n",
      "'CRIS'\n",
      "'CRKN'\n",
      "'CRMD'\n",
      "'CRMT'\n",
      "'CRNC'\n"
     ]
    },
    {
     "name": "stderr",
     "output_type": "stream",
     "text": [
      "sleep 3 seconds and retrying https://data.alpaca.markets/v1/bars/day 3 more time(s)...\n"
     ]
    },
    {
     "name": "stdout",
     "output_type": "stream",
     "text": [
      "'CRNT'\n",
      "'CRNX'\n",
      "'CRON'\n",
      "'CROX'\n",
      "'CRSP'\n",
      "'CRSR'\n",
      "'CRTD'\n",
      "'CRTDW'\n",
      "'CRTO'\n",
      "'CRTX'\n",
      "'CRUS'\n",
      "'CRVL'\n",
      "'CRVS'\n",
      "'CRWD'\n"
     ]
    },
    {
     "name": "stderr",
     "output_type": "stream",
     "text": [
      "sleep 3 seconds and retrying https://data.alpaca.markets/v1/bars/day 3 more time(s)...\n"
     ]
    },
    {
     "name": "stdout",
     "output_type": "stream",
     "text": [
      "'CRWS'\n",
      "'CRZN'\n",
      "'CRZNU'\n",
      "'CRZNW'\n",
      "'CSA'\n",
      "'CSB'\n",
      "'CSBR'\n",
      "'CSCO'\n",
      "'CSCW'\n",
      "'CSF'\n",
      "'CSGP'\n",
      "'CSGS'\n"
     ]
    },
    {
     "name": "stderr",
     "output_type": "stream",
     "text": [
      "sleep 3 seconds and retrying https://data.alpaca.markets/v1/bars/day 3 more time(s)...\n"
     ]
    },
    {
     "name": "stdout",
     "output_type": "stream",
     "text": [
      "'CSII'\n",
      "'CSIQ'\n",
      "'CSML'\n",
      "'CSOD'\n",
      "'CSPI'\n",
      "'CSQ'\n",
      "'CSSE'\n",
      "'CSSEN'\n",
      "'CSSEP'\n",
      "'CSTE'\n",
      "'CSTL'\n",
      "'CSTR'\n",
      "'CSWC'\n"
     ]
    },
    {
     "name": "stderr",
     "output_type": "stream",
     "text": [
      "sleep 3 seconds and retrying https://data.alpaca.markets/v1/bars/day 3 more time(s)...\n"
     ]
    },
    {
     "name": "stdout",
     "output_type": "stream",
     "text": [
      "'CSWI'\n",
      "'CSX'\n",
      "'CTAQ'\n",
      "'CTAQU'\n",
      "'CTAQW'\n",
      "'CTAS'\n",
      "'CTBI'\n",
      "'CTEC'\n",
      "'CTG'\n",
      "'CTHR'\n",
      "'CTIB'\n",
      "'CTIC'\n",
      "'CTKB'\n",
      "'CTLP'\n",
      "'CTMX'\n",
      "'CTRE'\n",
      "'CTRM'\n",
      "'CTRN'\n",
      "'CTSH'\n"
     ]
    },
    {
     "name": "stderr",
     "output_type": "stream",
     "text": [
      "sleep 3 seconds and retrying https://data.alpaca.markets/v1/bars/day 3 more time(s)...\n"
     ]
    },
    {
     "name": "stdout",
     "output_type": "stream",
     "text": [
      "'CTSO'\n",
      "'CTXR'\n",
      "'CTXRW'\n",
      "'CTXS'\n",
      "'CUBA'\n",
      "'CUE'\n",
      "'CUEN'\n",
      "'CUENW'\n",
      "'CULL'\n",
      "'CURI'\n",
      "'CURIW'\n",
      "'CUTR'\n"
     ]
    },
    {
     "name": "stderr",
     "output_type": "stream",
     "text": [
      "sleep 3 seconds and retrying https://data.alpaca.markets/v1/bars/day 3 more time(s)...\n"
     ]
    },
    {
     "name": "stdout",
     "output_type": "stream",
     "text": [
      "'CVAC'\n",
      "'CVBF'\n",
      "'CVCO'\n",
      "'CVCY'\n",
      "'CVET'\n",
      "'CVGI'\n",
      "'CVGW'\n",
      "'CVLG'\n",
      "'CVLT'\n",
      "'CVLY'\n",
      "'CVRX'\n",
      "'CVV'\n"
     ]
    },
    {
     "name": "stderr",
     "output_type": "stream",
     "text": [
      "sleep 3 seconds and retrying https://data.alpaca.markets/v1/bars/day 3 more time(s)...\n"
     ]
    },
    {
     "name": "stdout",
     "output_type": "stream",
     "text": [
      "'CWBC'\n",
      "'CWBR'\n",
      "'CWCO'\n",
      "'CWST'\n",
      "'CXDC'\n",
      "'CXDO'\n",
      "'CXSE'\n",
      "'CYAD'\n",
      "'CYAN'\n",
      "'CYBE'\n",
      "'CYBR'\n",
      "'CYCC'\n",
      "'CYCCP'\n",
      "'CYCN'\n"
     ]
    },
    {
     "name": "stderr",
     "output_type": "stream",
     "text": [
      "sleep 3 seconds and retrying https://data.alpaca.markets/v1/bars/day 3 more time(s)...\n"
     ]
    },
    {
     "name": "stdout",
     "output_type": "stream",
     "text": [
      "'CYRN'\n",
      "'CYRX'\n",
      "'CYT'\n",
      "'CYTH'\n",
      "'CYTHW'\n",
      "'CYTK'\n",
      "'CYTO'\n",
      "'CYXT'\n",
      "'CYXTW'\n",
      "'CZNC'\n",
      "'CZR'\n",
      "'CZWI'\n",
      "'DADA'\n",
      "'DAIO'\n"
     ]
    },
    {
     "name": "stderr",
     "output_type": "stream",
     "text": [
      "sleep 3 seconds and retrying https://data.alpaca.markets/v1/bars/day 3 more time(s)...\n"
     ]
    },
    {
     "name": "stdout",
     "output_type": "stream",
     "text": [
      "'DAKT'\n",
      "'DALI'\n",
      "'DALN'\n",
      "'DALS'\n",
      "'DAPP'\n",
      "'DARE'\n",
      "'DATS'\n",
      "'DATSW'\n",
      "'DAWN'\n",
      "'DAX'\n",
      "'DBDR'\n",
      "'DBDRU'\n",
      "'DBDRW'\n",
      "'DBGI'\n"
     ]
    },
    {
     "name": "stderr",
     "output_type": "stream",
     "text": [
      "sleep 3 seconds and retrying https://data.alpaca.markets/v1/bars/day 3 more time(s)...\n"
     ]
    },
    {
     "name": "stdout",
     "output_type": "stream",
     "text": [
      "'DBGIW'\n",
      "'DBTX'\n",
      "'DBVT'\n",
      "'DBX'\n",
      "'DCBO'\n",
      "'DCOM'\n",
      "'DCOMP'\n",
      "'DCPH'\n",
      "'DCRC'\n",
      "'DCRCU'\n",
      "'DCRCW'\n",
      "'DCRDU'\n",
      "'DCRN'\n"
     ]
    },
    {
     "name": "stderr",
     "output_type": "stream",
     "text": [
      "sleep 3 seconds and retrying https://data.alpaca.markets/v1/bars/day 3 more time(s)...\n"
     ]
    },
    {
     "name": "stdout",
     "output_type": "stream",
     "text": [
      "'DCRNU'\n",
      "'DCRNW'\n",
      "'DCT'\n",
      "'DCTH'\n",
      "'DDIV'\n",
      "'DDMX'\n",
      "'DDMXU'\n",
      "'DDMXW'\n",
      "'DDOG'\n",
      "'DEMZ'\n",
      "'DENN'\n",
      "'DFFN'\n",
      "'DFH'\n",
      "'DFPH'\n"
     ]
    },
    {
     "name": "stderr",
     "output_type": "stream",
     "text": [
      "sleep 3 seconds and retrying https://data.alpaca.markets/v1/bars/day 3 more time(s)...\n"
     ]
    },
    {
     "name": "stdout",
     "output_type": "stream",
     "text": [
      "'DFPHU'\n",
      "'DFPHW'\n",
      "'DGICA'\n",
      "'DGICB'\n",
      "'DGII'\n",
      "'DGLY'\n",
      "'DGNS'\n",
      "'DGNU'\n",
      "'DGRE'\n",
      "'DGRS'\n",
      "'DGRW'\n",
      "'DHBC'\n"
     ]
    },
    {
     "name": "stderr",
     "output_type": "stream",
     "text": [
      "sleep 3 seconds and retrying https://data.alpaca.markets/v1/bars/day 3 more time(s)...\n"
     ]
    },
    {
     "name": "stdout",
     "output_type": "stream",
     "text": [
      "'DHBCU'\n",
      "'DHBCW'\n",
      "'DHC'\n",
      "'DHCA'\n",
      "'DHCAU'\n",
      "'DHCAW'\n",
      "'DHCNI'\n",
      "'DHCNL'\n",
      "'DHHC'\n",
      "'DHHCU'\n",
      "'DHHCW'\n",
      "'DHIL'\n",
      "'DIBS'\n",
      "'DILA'\n",
      "'DILAU'\n",
      "'DILAW'\n"
     ]
    },
    {
     "name": "stderr",
     "output_type": "stream",
     "text": [
      "sleep 3 seconds and retrying https://data.alpaca.markets/v1/bars/day 3 more time(s)...\n"
     ]
    },
    {
     "name": "stdout",
     "output_type": "stream",
     "text": [
      "'DIOD'\n",
      "'DISA'\n",
      "'DISAU'\n",
      "'DISAW'\n",
      "'DISCA'\n",
      "'DISCB'\n",
      "'DISCK'\n",
      "'DISH'\n",
      "'DJCO'\n",
      "'DKDCA'\n",
      "'DKDCU'\n",
      "'DKDCW'\n",
      "'DKNG'\n"
     ]
    },
    {
     "name": "stderr",
     "output_type": "stream",
     "text": [
      "sleep 3 seconds and retrying https://data.alpaca.markets/v1/bars/day 3 more time(s)...\n"
     ]
    },
    {
     "name": "stdout",
     "output_type": "stream",
     "text": [
      "'DLCA'\n",
      "'DLCAU'\n",
      "'DLCAW'\n",
      "'DLHC'\n",
      "'DLO'\n",
      "'DLPN'\n",
      "'DLTH'\n",
      "'DLTR'\n",
      "'DMAC'\n",
      "'DMLP'\n",
      "'DMRC'\n",
      "'DMTK'\n",
      "'DMXF'\n",
      "'DNAA'\n"
     ]
    },
    {
     "name": "stderr",
     "output_type": "stream",
     "text": [
      "sleep 3 seconds and retrying https://data.alpaca.markets/v1/bars/day 3 more time(s)...\n"
     ]
    },
    {
     "name": "stdout",
     "output_type": "stream",
     "text": [
      "'DNAB'\n",
      "'DNAC'\n",
      "'DNAD'\n",
      "'DNAY'\n",
      "'DNLI'\n",
      "'DNUT'\n",
      "'DOCU'\n",
      "'DOGZ'\n",
      "'DOMO'\n",
      "'DOOO'\n",
      "'DORM'\n",
      "'DOX'\n",
      "'DOYU'\n"
     ]
    },
    {
     "name": "stderr",
     "output_type": "stream",
     "text": [
      "sleep 3 seconds and retrying https://data.alpaca.markets/v1/bars/day 3 more time(s)...\n"
     ]
    },
    {
     "name": "stdout",
     "output_type": "stream",
     "text": [
      "'DPRO'\n",
      "'DRAY'\n",
      "'DRAYU'\n",
      "'DRAYW'\n",
      "'DRIO'\n",
      "'DRIV'\n",
      "'DRMA'\n",
      "'DRMAW'\n",
      "'DRNA'\n",
      "'DRRX'\n",
      "'DRTT'\n",
      "'DRVN'\n",
      "'DSAC'\n"
     ]
    },
    {
     "name": "stderr",
     "output_type": "stream",
     "text": [
      "sleep 3 seconds and retrying https://data.alpaca.markets/v1/bars/day 3 more time(s)...\n"
     ]
    },
    {
     "name": "stdout",
     "output_type": "stream",
     "text": [
      "'DSACU'\n",
      "'DSACW'\n",
      "'DSEY'\n",
      "'DSGN'\n",
      "'DSGX'\n",
      "'DSKE'\n",
      "'DSKEW'\n",
      "'DSP'\n",
      "'DSPG'\n",
      "'DSWL'\n",
      "'DTEA'\n",
      "'DTIL'\n",
      "'DTOC'\n",
      "'DTOCU'\n",
      "'DTOCW'\n",
      "'DTSS'\n",
      "'DTST'\n",
      "'DTSTW'\n",
      "'DUNE'\n",
      "'DUNEU'\n",
      "'DUNEW'\n",
      "'DUO'\n"
     ]
    },
    {
     "name": "stderr",
     "output_type": "stream",
     "text": [
      "sleep 3 seconds and retrying https://data.alpaca.markets/v1/bars/day 3 more time(s)...\n"
     ]
    },
    {
     "name": "stdout",
     "output_type": "stream",
     "text": [
      "'DUOL'\n",
      "'DUOT'\n",
      "'DVAX'\n",
      "'DVLU'\n",
      "'DVOL'\n",
      "'DVY'\n",
      "'DWAS'\n",
      "'DWAT'\n",
      "'DWAW'\n",
      "'DWCR'\n",
      "'DWEQ'\n",
      "'DWMC'\n",
      "'DWPP'\n",
      "'DWSH'\n"
     ]
    },
    {
     "name": "stderr",
     "output_type": "stream",
     "text": [
      "sleep 3 seconds and retrying https://data.alpaca.markets/v1/bars/day 3 more time(s)...\n"
     ]
    },
    {
     "name": "stdout",
     "output_type": "stream",
     "text": [
      "'DWSN'\n",
      "'DWUS'\n",
      "'DXCM'\n",
      "'DXGE'\n",
      "'DXJS'\n",
      "'DXPE'\n",
      "'DXYN'\n",
      "'DYAI'\n",
      "'DYN'\n",
      "'DYNS'\n",
      "'DYNT'\n",
      "'DZSI'\n"
     ]
    },
    {
     "name": "stderr",
     "output_type": "stream",
     "text": [
      "sleep 3 seconds and retrying https://data.alpaca.markets/v1/bars/day 3 more time(s)...\n"
     ]
    },
    {
     "name": "stdout",
     "output_type": "stream",
     "text": [
      "'EA'\n",
      "'EAC'\n",
      "'EACPU'\n",
      "'EACPW'\n",
      "'EAR'\n",
      "'EAST'\n",
      "'EBAC'\n",
      "'EBACU'\n",
      "'EBACW'\n",
      "'EBAY'\n",
      "'EBC'\n",
      "'EBET'\n",
      "'EBIX'\n"
     ]
    },
    {
     "name": "stderr",
     "output_type": "stream",
     "text": [
      "sleep 3 seconds and retrying https://data.alpaca.markets/v1/bars/day 3 more time(s)...\n"
     ]
    },
    {
     "name": "stdout",
     "output_type": "stream",
     "text": [
      "'EBIZ'\n",
      "'EBMT'\n",
      "'EBON'\n",
      "'EBSB'\n",
      "'EBTC'\n",
      "'ECHO'\n",
      "'ECOL'\n",
      "'ECOLW'\n",
      "'ECOR'\n",
      "'ECOW'\n",
      "'ECPG'\n",
      "'EDAP'\n",
      "'EDIT'\n"
     ]
    },
    {
     "name": "stderr",
     "output_type": "stream",
     "text": [
      "sleep 3 seconds and retrying https://data.alpaca.markets/v1/bars/day 3 more time(s)...\n"
     ]
    },
    {
     "name": "stdout",
     "output_type": "stream",
     "text": [
      "'EDOC'\n",
      "'EDRY'\n",
      "'EDSA'\n",
      "'EDTK'\n",
      "'EDTX'\n",
      "'EDTXU'\n",
      "'EDTXW'\n",
      "'EDUC'\n",
      "'EDUT'\n",
      "'EEFT'\n",
      "'EEIQ'\n",
      "'EEMA'\n",
      "'EFAS'\n",
      "'EFOI'\n",
      "'EFSC'\n",
      "'EFTR'\n"
     ]
    },
    {
     "name": "stderr",
     "output_type": "stream",
     "text": [
      "sleep 3 seconds and retrying https://data.alpaca.markets/v1/bars/day 3 more time(s)...\n"
     ]
    },
    {
     "name": "stdout",
     "output_type": "stream",
     "text": [
      "'EFTRW'\n",
      "'EGAN'\n",
      "'EGBN'\n",
      "'EGLE'\n",
      "'EGLX'\n",
      "'EGRX'\n",
      "'EH'\n",
      "'EHTH'\n",
      "'EIGR'\n",
      "'EJFA'\n",
      "'EJFAU'\n",
      "'EJFAW'\n",
      "'EJH'\n",
      "'EKSO'\n",
      "'ELDN'\n",
      "'ELEV'\n"
     ]
    },
    {
     "name": "stderr",
     "output_type": "stream",
     "text": [
      "sleep 3 seconds and retrying https://data.alpaca.markets/v1/bars/day 3 more time(s)...\n"
     ]
    },
    {
     "name": "stdout",
     "output_type": "stream",
     "text": [
      "'ELMS'\n",
      "'ELMSW'\n",
      "'ELOX'\n",
      "'ELSE'\n",
      "'ELTK'\n",
      "'ELYM'\n",
      "'ELYS'\n",
      "'EM'\n",
      "'EMB'\n",
      "'EMCB'\n",
      "'EMCF'\n",
      "'EMIF'\n"
     ]
    },
    {
     "name": "stderr",
     "output_type": "stream",
     "text": [
      "sleep 3 seconds and retrying https://data.alpaca.markets/v1/bars/day 3 more time(s)...\n"
     ]
    },
    {
     "name": "stdout",
     "output_type": "stream",
     "text": [
      "'EMKR'\n",
      "'EML'\n",
      "'EMXC'\n",
      "'EMXF'\n",
      "'ENDP'\n",
      "'ENFA'\n",
      "'ENFAU'\n",
      "'ENFAW'\n",
      "'ENG'\n",
      "'ENLV'\n",
      "'ENNV'\n",
      "'ENNVU'\n"
     ]
    },
    {
     "name": "stderr",
     "output_type": "stream",
     "text": [
      "sleep 3 seconds and retrying https://data.alpaca.markets/v1/bars/day 3 more time(s)...\n"
     ]
    },
    {
     "name": "stdout",
     "output_type": "stream",
     "text": [
      "'ENNVW'\n",
      "'ENOB'\n",
      "'ENPH'\n",
      "'ENSC'\n",
      "'ENSG'\n",
      "'ENTA'\n",
      "'ENTG'\n",
      "'ENTX'\n",
      "'ENTXW'\n",
      "'ENVB'\n",
      "'ENVI'\n",
      "'ENVIU'\n",
      "'ENVIW'\n",
      "'ENVX'\n",
      "'ENVXW'\n"
     ]
    },
    {
     "name": "stderr",
     "output_type": "stream",
     "text": [
      "sleep 3 seconds and retrying https://data.alpaca.markets/v1/bars/day 3 more time(s)...\n"
     ]
    },
    {
     "name": "stdout",
     "output_type": "stream",
     "text": [
      "'ENZL'\n",
      "'EOLS'\n",
      "'EOSE'\n",
      "'EOSEW'\n",
      "'EPAY'\n",
      "'EPHY'\n",
      "'EPHYU'\n",
      "'EPHYW'\n",
      "'EPIX'\n",
      "'EPSN'\n",
      "'EPZM'\n",
      "'EQ'\n",
      "'EQBK'\n"
     ]
    },
    {
     "name": "stderr",
     "output_type": "stream",
     "text": [
      "sleep 3 seconds and retrying https://data.alpaca.markets/v1/bars/day 3 more time(s)...\n"
     ]
    },
    {
     "name": "stdout",
     "output_type": "stream",
     "text": [
      "'EQIX'\n",
      "'EQOS'\n",
      "'EQRR'\n",
      "'ERAS'\n",
      "'ERES'\n",
      "'ERESU'\n",
      "'ERESW'\n",
      "'ERIC'\n",
      "'ERIE'\n",
      "'ERII'\n",
      "'ERYP'\n",
      "'ESBK'\n",
      "'ESCA'\n",
      "'ESEA'\n"
     ]
    },
    {
     "name": "stderr",
     "output_type": "stream",
     "text": [
      "sleep 3 seconds and retrying https://data.alpaca.markets/v1/bars/day 3 more time(s)...\n"
     ]
    },
    {
     "name": "stdout",
     "output_type": "stream",
     "text": [
      "'ESGD'\n",
      "'ESGE'\n",
      "'ESGR'\n",
      "'ESGRO'\n",
      "'ESGRP'\n",
      "'ESGU'\n",
      "'ESLT'\n",
      "'ESPO'\n",
      "'ESPR'\n",
      "'ESQ'\n",
      "'ESSA'\n",
      "'ESSC'\n",
      "'ESSCR'\n"
     ]
    },
    {
     "name": "stderr",
     "output_type": "stream",
     "text": [
      "sleep 3 seconds and retrying https://data.alpaca.markets/v1/bars/day 3 more time(s)...\n"
     ]
    },
    {
     "name": "stdout",
     "output_type": "stream",
     "text": [
      "'ESSCU'\n",
      "'ESSCW'\n",
      "'ESTA'\n",
      "'ESXB'\n",
      "'ETAC'\n",
      "'ETACU'\n",
      "'ETACW'\n",
      "'ETNB'\n",
      "'ETON'\n",
      "'ETSY'\n",
      "'ETTX'\n",
      "'EUCR'\n",
      "'EUCRU'\n",
      "'EUCRW'\n"
     ]
    },
    {
     "name": "stderr",
     "output_type": "stream",
     "text": [
      "sleep 3 seconds and retrying https://data.alpaca.markets/v1/bars/day 3 more time(s)...\n"
     ]
    },
    {
     "name": "stdout",
     "output_type": "stream",
     "text": [
      "'EUFN'\n",
      "'EUSG'\n",
      "'EUSGU'\n",
      "'EUSGW'\n",
      "'EVAX'\n",
      "'EVBG'\n",
      "'EVCM'\n",
      "'EVER'\n",
      "'EVFM'\n",
      "'EVGN'\n",
      "'EVGO'\n",
      "'EVGOW'\n",
      "'EVK'\n",
      "'EVLMC'\n",
      "'EVLO'\n"
     ]
    },
    {
     "name": "stderr",
     "output_type": "stream",
     "text": [
      "sleep 3 seconds and retrying https://data.alpaca.markets/v1/bars/day 3 more time(s)...\n"
     ]
    },
    {
     "name": "stdout",
     "output_type": "stream",
     "text": [
      "'EVLV'\n",
      "'EVLVU'\n",
      "'EVLVW'\n",
      "'EVOJ'\n",
      "'EVOJU'\n",
      "'EVOJW'\n",
      "'EVOK'\n",
      "'EVOL'\n",
      "'EVOP'\n",
      "'EWBC'\n",
      "'EWCZ'\n",
      "'EWEB'\n"
     ]
    },
    {
     "name": "stderr",
     "output_type": "stream",
     "text": [
      "sleep 3 seconds and retrying https://data.alpaca.markets/v1/bars/day 3 more time(s)...\n"
     ]
    },
    {
     "name": "stdout",
     "output_type": "stream",
     "text": [
      "'EWJE'\n",
      "'EWJV'\n",
      "'EWTX'\n",
      "'EWZS'\n",
      "'EXAS'\n",
      "'EXC'\n",
      "'EXEL'\n",
      "'EXFO'\n",
      "'EXLS'\n",
      "'EXPD'\n",
      "'EXPE'\n",
      "'EXPI'\n",
      "'EXPO'\n",
      "'EXTR'\n"
     ]
    },
    {
     "name": "stderr",
     "output_type": "stream",
     "text": [
      "sleep 3 seconds and retrying https://data.alpaca.markets/v1/bars/day 3 more time(s)...\n"
     ]
    },
    {
     "name": "stdout",
     "output_type": "stream",
     "text": [
      "'EYE'\n",
      "'EYEG'\n",
      "'EYEN'\n",
      "'EYES'\n",
      "'EYESW'\n",
      "'EYPT'\n",
      "'EZGO'\n",
      "'EZPW'\n",
      "'FA'\n",
      "'FAAR'\n",
      "'FAB'\n",
      "'FAD'\n",
      "'FALN'\n"
     ]
    },
    {
     "name": "stderr",
     "output_type": "stream",
     "text": [
      "sleep 3 seconds and retrying https://data.alpaca.markets/v1/bars/day 3 more time(s)...\n"
     ]
    },
    {
     "name": "stdout",
     "output_type": "stream",
     "text": [
      "'FAMI'\n",
      "'FANG'\n",
      "'FANH'\n",
      "'FARM'\n",
      "'FARO'\n",
      "'FAST'\n",
      "'FAT'\n",
      "'FATBB'\n",
      "'FATBP'\n",
      "'FATBW'\n",
      "'FATE'\n",
      "'FB'\n",
      "'FBIO'\n"
     ]
    },
    {
     "name": "stderr",
     "output_type": "stream",
     "text": [
      "sleep 3 seconds and retrying https://data.alpaca.markets/v1/bars/day 3 more time(s)...\n"
     ]
    },
    {
     "name": "stdout",
     "output_type": "stream",
     "text": [
      "'FBIOP'\n",
      "'FBIZ'\n",
      "'FBMS'\n",
      "'FBNC'\n",
      "'FBRX'\n",
      "'FBZ'\n",
      "'FCA'\n",
      "'FCAL'\n",
      "'FCAP'\n",
      "'FCBC'\n",
      "'FCCO'\n",
      "'FCCY'\n",
      "'FCEF'\n",
      "'FCEL'\n",
      "'FCFS'\n",
      "'FCNCA'\n",
      "'FCNCP'\n",
      "'FCRD'\n",
      "'FCVT'\n",
      "'FDBC'\n",
      "'FDIV'\n"
     ]
    },
    {
     "name": "stderr",
     "output_type": "stream",
     "text": [
      "sleep 3 seconds and retrying https://data.alpaca.markets/v1/bars/day 3 more time(s)...\n"
     ]
    },
    {
     "name": "stdout",
     "output_type": "stream",
     "text": [
      "'FDMT'\n",
      "'FDNI'\n",
      "'FDT'\n",
      "'FDTS'\n",
      "'FDUS'\n",
      "'FDUSG'\n",
      "'FDUSZ'\n",
      "'FEIM'\n",
      "'FELE'\n",
      "'FEM'\n",
      "'FEMB'\n",
      "'FEMS'\n",
      "'FEMY'\n"
     ]
    },
    {
     "name": "stderr",
     "output_type": "stream",
     "text": [
      "sleep 3 seconds and retrying https://data.alpaca.markets/v1/bars/day 3 more time(s)...\n"
     ]
    },
    {
     "name": "stdout",
     "output_type": "stream",
     "text": [
      "'FENC'\n",
      "'FEP'\n",
      "'FEUZ'\n",
      "'FEX'\n",
      "'FEYE'\n",
      "'FFBC'\n",
      "'FFBW'\n",
      "'FFHL'\n",
      "'FFIC'\n",
      "'FFIE'\n",
      "'FFIEW'\n",
      "'FFIN'\n",
      "'FFIV'\n",
      "'FFNW'\n"
     ]
    },
    {
     "name": "stderr",
     "output_type": "stream",
     "text": [
      "sleep 3 seconds and retrying https://data.alpaca.markets/v1/bars/day 3 more time(s)...\n"
     ]
    },
    {
     "name": "stdout",
     "output_type": "stream",
     "text": [
      "'FFWM'\n",
      "'FGBI'\n",
      "'FGBIP'\n",
      "'FGEN'\n",
      "'FGF'\n",
      "'FGFPP'\n",
      "'FGM'\n",
      "'FHB'\n",
      "'FHTX'\n",
      "'FIBK'\n",
      "'FICS'\n",
      "'FICVU'\n",
      "'FID'\n"
     ]
    },
    {
     "name": "stderr",
     "output_type": "stream",
     "text": [
      "sleep 3 seconds and retrying https://data.alpaca.markets/v1/bars/day 3 more time(s)...\n"
     ]
    },
    {
     "name": "stdout",
     "output_type": "stream",
     "text": [
      "'FINM'\n",
      "'FINMU'\n",
      "'FINMW'\n",
      "'FINX'\n",
      "'FISI'\n",
      "'FISV'\n",
      "'FITB'\n",
      "'FITBI'\n",
      "'FITBO'\n",
      "'FITBP'\n",
      "'FIVE'\n",
      "'FIVN'\n",
      "'FIXD'\n"
     ]
    },
    {
     "name": "stderr",
     "output_type": "stream",
     "text": [
      "sleep 3 seconds and retrying https://data.alpaca.markets/v1/bars/day 3 more time(s)...\n"
     ]
    },
    {
     "name": "stdout",
     "output_type": "stream",
     "text": [
      "'FIXX'\n",
      "'FIZZ'\n",
      "'FJP'\n",
      "'FKU'\n",
      "'FKWL'\n",
      "'FLAC'\n",
      "'FLACU'\n",
      "'FLACW'\n",
      "'FLDM'\n",
      "'FLEX'\n",
      "'FLGC'\n",
      "'FLGT'\n",
      "'FLIC'\n",
      "'FLL'\n",
      "'FLMN'\n",
      "'FLMNW'\n"
     ]
    },
    {
     "name": "stderr",
     "output_type": "stream",
     "text": [
      "sleep 3 seconds and retrying https://data.alpaca.markets/v1/bars/day 3 more time(s)...\n"
     ]
    },
    {
     "name": "stdout",
     "output_type": "stream",
     "text": [
      "'FLN'\n",
      "'FLNT'\n",
      "'FLUX'\n",
      "'FLWS'\n",
      "'FLXN'\n",
      "'FLXS'\n",
      "'FLYW'\n",
      "'FMAO'\n",
      "'FMB'\n",
      "'FMBH'\n",
      "'FMBI'\n",
      "'FMBIO'\n",
      "'FMBIP'\n",
      "'FMHI'\n"
     ]
    },
    {
     "name": "stderr",
     "output_type": "stream",
     "text": [
      "sleep 3 seconds and retrying https://data.alpaca.markets/v1/bars/day 3 more time(s)...\n"
     ]
    },
    {
     "name": "stdout",
     "output_type": "stream",
     "text": [
      "'FMIV'\n",
      "'FMIVU'\n",
      "'FMIVW'\n",
      "'FMNB'\n",
      "'FMTX'\n",
      "'FNCB'\n",
      "'FNCH'\n",
      "'FNHC'\n",
      "'FNK'\n",
      "'FNKO'\n",
      "'FNLC'\n",
      "'FNWB'\n"
     ]
    },
    {
     "name": "stderr",
     "output_type": "stream",
     "text": [
      "sleep 3 seconds and retrying https://data.alpaca.markets/v1/bars/day 3 more time(s)...\n"
     ]
    },
    {
     "name": "stdout",
     "output_type": "stream",
     "text": [
      "'FNX'\n",
      "'FNY'\n",
      "'FOCS'\n",
      "'FOLD'\n",
      "'FONR'\n",
      "'FORA'\n",
      "'FORD'\n",
      "'FORE'\n",
      "'FOREU'\n",
      "'FOREW'\n",
      "'FORM'\n",
      "'FORR'\n",
      "'FORTY'\n",
      "'FOSL'\n",
      "'FOX'\n"
     ]
    },
    {
     "name": "stderr",
     "output_type": "stream",
     "text": [
      "sleep 3 seconds and retrying https://data.alpaca.markets/v1/bars/day 3 more time(s)...\n"
     ]
    },
    {
     "name": "stdout",
     "output_type": "stream",
     "text": [
      "'FOXA'\n",
      "'FOXF'\n",
      "'FOXW'\n",
      "'FOXWU'\n",
      "'FOXWW'\n",
      "'FPA'\n",
      "'FPAY'\n",
      "'FPXE'\n",
      "'FPXI'\n",
      "'FRAF'\n",
      "'FRBA'\n",
      "'FRBK'\n",
      "'FREE'\n",
      "'FREEW'\n",
      "'FREQ'\n",
      "'FRG'\n",
      "'FRGAP'\n"
     ]
    },
    {
     "name": "stderr",
     "output_type": "stream",
     "text": [
      "sleep 3 seconds and retrying https://data.alpaca.markets/v1/bars/day 3 more time(s)...\n"
     ]
    },
    {
     "name": "stdout",
     "output_type": "stream",
     "text": [
      "'FRGI'\n",
      "'FRHC'\n",
      "'FRLN'\n",
      "'FRME'\n",
      "'FROG'\n",
      "'FRON'\n",
      "'FRONU'\n",
      "'FRONW'\n",
      "'FRPH'\n",
      "'FRPT'\n",
      "'FRSG'\n",
      "'FRSGU'\n"
     ]
    },
    {
     "name": "stderr",
     "output_type": "stream",
     "text": [
      "sleep 3 seconds and retrying https://data.alpaca.markets/v1/bars/day 3 more time(s)...\n"
     ]
    },
    {
     "name": "stdout",
     "output_type": "stream",
     "text": [
      "'FRSGW'\n",
      "'FRST'\n",
      "'FRSX'\n",
      "'FRTA'\n",
      "'FRW'\n",
      "'FRWAU'\n",
      "'FRWAW'\n",
      "'FSBC'\n",
      "'FSBW'\n",
      "'FSEA'\n",
      "'FSFG'\n",
      "'FSII'\n",
      "'FSLR'\n"
     ]
    },
    {
     "name": "stderr",
     "output_type": "stream",
     "text": [
      "sleep 3 seconds and retrying https://data.alpaca.markets/v1/bars/day 3 more time(s)...\n"
     ]
    },
    {
     "name": "stdout",
     "output_type": "stream",
     "text": [
      "'FSRX'\n",
      "'FSRXU'\n",
      "'FSRXW'\n",
      "'FSSI'\n",
      "'FSSIU'\n",
      "'FSSIW'\n",
      "'FSTR'\n",
      "'FSTX'\n",
      "'FSV'\n",
      "'FSZ'\n",
      "'FTA'\n",
      "'FTAA'\n",
      "'FTAAU'\n"
     ]
    },
    {
     "name": "stderr",
     "output_type": "stream",
     "text": [
      "sleep 3 seconds and retrying https://data.alpaca.markets/v1/bars/day 3 more time(s)...\n"
     ]
    },
    {
     "name": "stdout",
     "output_type": "stream",
     "text": [
      "'FTAAW'\n",
      "'FTAG'\n",
      "'FTC'\n",
      "'FTCI'\n",
      "'FTCS'\n",
      "'FTCV'\n",
      "'FTCVU'\n",
      "'FTCVW'\n",
      "'FTDR'\n",
      "'FTEK'\n",
      "'FTFT'\n",
      "'FTGC'\n",
      "'FTHI'\n"
     ]
    },
    {
     "name": "stderr",
     "output_type": "stream",
     "text": [
      "sleep 3 seconds and retrying https://data.alpaca.markets/v1/bars/day 3 more time(s)...\n"
     ]
    },
    {
     "name": "stdout",
     "output_type": "stream",
     "text": [
      "'FTHM'\n",
      "'FTLB'\n",
      "'FTNT'\n",
      "'FTPA'\n",
      "'FTPAU'\n",
      "'FTPAW'\n",
      "'FTRI'\n",
      "'FTRP'\n",
      "'FTSL'\n",
      "'FTSM'\n",
      "'FTVI'\n",
      "'FTVIU'\n",
      "'FTVIW'\n",
      "'FTXD'\n",
      "'FTXG'\n",
      "'FTXH'\n",
      "'FTXL'\n",
      "'FTXN'\n",
      "'FTXO'\n",
      "'FTXR'\n",
      "'FULC'\n",
      "'FULT'\n"
     ]
    },
    {
     "name": "stderr",
     "output_type": "stream",
     "text": [
      "sleep 3 seconds and retrying https://data.alpaca.markets/v1/bars/day 3 more time(s)...\n"
     ]
    },
    {
     "name": "stdout",
     "output_type": "stream",
     "text": [
      "'FULTP'\n",
      "'FUNC'\n",
      "'FUND'\n",
      "'FUSB'\n",
      "'FUSN'\n",
      "'FUTU'\n",
      "'FUV'\n",
      "'FV'\n",
      "'FVAM'\n",
      "'FVC'\n",
      "'FVCB'\n",
      "'FVE'\n",
      "'FWAA'\n"
     ]
    },
    {
     "name": "stderr",
     "output_type": "stream",
     "text": [
      "sleep 3 seconds and retrying https://data.alpaca.markets/v1/bars/day 3 more time(s)...\n"
     ]
    },
    {
     "name": "stdout",
     "output_type": "stream",
     "text": [
      "'FWAC'\n",
      "'FWONA'\n",
      "'FWONK'\n",
      "'FWP'\n",
      "'FWRD'\n",
      "'FXNC'\n",
      "'FYBR'\n",
      "'FYC'\n",
      "'FYT'\n",
      "'FYX'\n",
      "'GABC'\n",
      "'GACQ'\n",
      "'GACQU'\n",
      "'GACQW'\n"
     ]
    },
    {
     "name": "stderr",
     "output_type": "stream",
     "text": [
      "sleep 3 seconds and retrying https://data.alpaca.markets/v1/bars/day 3 more time(s)...\n"
     ]
    },
    {
     "name": "stdout",
     "output_type": "stream",
     "text": [
      "'GAIA'\n",
      "'GAIN'\n",
      "'GAINL'\n",
      "'GAINN'\n",
      "'GAINZ'\n",
      "'GALT'\n",
      "'GAMB'\n",
      "'GAMC'\n",
      "'GAMCU'\n",
      "'GAMCW'\n",
      "'GAME'\n",
      "'GAN'\n",
      "'GANX'\n"
     ]
    },
    {
     "name": "stderr",
     "output_type": "stream",
     "text": [
      "sleep 3 seconds and retrying https://data.alpaca.markets/v1/bars/day 3 more time(s)...\n"
     ]
    },
    {
     "name": "stdout",
     "output_type": "stream",
     "text": [
      "'GASS'\n",
      "'GBCI'\n",
      "'GBDC'\n",
      "'GBIO'\n",
      "'GBLI'\n",
      "'GBLIL'\n",
      "'GBNH'\n",
      "'GBNY'\n",
      "'GBOX'\n",
      "'GBRG'\n",
      "'GBRGR'\n",
      "'GBRGU'\n"
     ]
    },
    {
     "name": "stderr",
     "output_type": "stream",
     "text": [
      "sleep 3 seconds and retrying https://data.alpaca.markets/v1/bars/day 3 more time(s)...\n"
     ]
    },
    {
     "name": "stdout",
     "output_type": "stream",
     "text": [
      "'GBRGW'\n",
      "'GBS'\n",
      "'GBT'\n",
      "'GCAC'\n",
      "'GCACU'\n",
      "'GCACW'\n",
      "'GCBC'\n",
      "'GCMG'\n",
      "'GCMGW'\n",
      "'GDEN'\n",
      "'GDEV'\n",
      "'GDEVW'\n",
      "'GDRX'\n",
      "'GDS'\n",
      "'GDYN'\n",
      "'GDYNW'\n",
      "'GECC'\n",
      "'GECCM'\n",
      "'GECCN'\n"
     ]
    },
    {
     "name": "stderr",
     "output_type": "stream",
     "text": [
      "sleep 3 seconds and retrying https://data.alpaca.markets/v1/bars/day 3 more time(s)...\n"
     ]
    },
    {
     "name": "stdout",
     "output_type": "stream",
     "text": [
      "'GECCO'\n",
      "'GEG'\n",
      "'GENC'\n",
      "'GENE'\n",
      "'GENY'\n",
      "'GEOS'\n",
      "'GERN'\n",
      "'GEVO'\n",
      "'GFED'\n",
      "'GGAL'\n",
      "'GGGV'\n",
      "'GGGVR'\n",
      "'GGGVU'\n",
      "'GGMC'\n"
     ]
    },
    {
     "name": "stderr",
     "output_type": "stream",
     "text": [
      "sleep 3 seconds and retrying https://data.alpaca.markets/v1/bars/day 3 more time(s)...\n"
     ]
    },
    {
     "name": "stdout",
     "output_type": "stream",
     "text": [
      "'GGMCU'\n",
      "'GGMCW'\n",
      "'GGPI'\n",
      "'GGPIU'\n",
      "'GGPIW'\n",
      "'GH'\n",
      "'GHAC'\n",
      "'GHACU'\n",
      "'GHACW'\n",
      "'GHRS'\n",
      "'GHSI'\n",
      "'GIFI'\n"
     ]
    },
    {
     "name": "stderr",
     "output_type": "stream",
     "text": [
      "sleep 3 seconds and retrying https://data.alpaca.markets/v1/bars/day 3 more time(s)...\n"
     ]
    },
    {
     "name": "stdout",
     "output_type": "stream",
     "text": [
      "'GIG'\n",
      "'GIGE'\n",
      "'GIGGU'\n",
      "'GIGGW'\n",
      "'GIGM'\n",
      "'GIII'\n",
      "'GIIX'\n",
      "'GIIXU'\n",
      "'GIIXW'\n",
      "'GILD'\n",
      "'GILT'\n",
      "'GIW'\n"
     ]
    },
    {
     "name": "stderr",
     "output_type": "stream",
     "text": [
      "sleep 3 seconds and retrying https://data.alpaca.markets/v1/bars/day 3 more time(s)...\n"
     ]
    },
    {
     "name": "stdout",
     "output_type": "stream",
     "text": [
      "'GIWWU'\n",
      "'GIWWW'\n",
      "'GLAD'\n",
      "'GLADL'\n",
      "'GLAQ'\n",
      "'GLAQU'\n",
      "'GLAQW'\n",
      "'GLBE'\n",
      "'GLBL'\n",
      "'GLBLU'\n",
      "'GLBLW'\n",
      "'GLBS'\n",
      "'GLBZ'\n",
      "'GLDD'\n",
      "'GLDI'\n"
     ]
    },
    {
     "name": "stderr",
     "output_type": "stream",
     "text": [
      "sleep 3 seconds and retrying https://data.alpaca.markets/v1/bars/day 3 more time(s)...\n"
     ]
    },
    {
     "name": "stdout",
     "output_type": "stream",
     "text": [
      "'GLEEU'\n",
      "'GLG'\n",
      "'GLHA'\n",
      "'GLHAU'\n",
      "'GLHAW'\n",
      "'GLMD'\n",
      "'GLNG'\n",
      "'GLPG'\n",
      "'GLPI'\n",
      "'GLRE'\n",
      "'GLSI'\n",
      "'GLSPT'\n",
      "'GLSPU'\n"
     ]
    },
    {
     "name": "stderr",
     "output_type": "stream",
     "text": [
      "sleep 3 seconds and retrying https://data.alpaca.markets/v1/bars/day 3 more time(s)...\n"
     ]
    },
    {
     "name": "stdout",
     "output_type": "stream",
     "text": [
      "'GLSPW'\n",
      "'GLTO'\n",
      "'GLUE'\n",
      "'GLYC'\n",
      "'GMAB'\n",
      "'GMBL'\n",
      "'GMBLW'\n",
      "'GMBT'\n",
      "'GMBTU'\n",
      "'GMBTW'\n",
      "'GMDA'\n",
      "'GMII'\n",
      "'GMIIU'\n"
     ]
    },
    {
     "name": "stderr",
     "output_type": "stream",
     "text": [
      "sleep 3 seconds and retrying https://data.alpaca.markets/v1/bars/day 3 more time(s)...\n"
     ]
    },
    {
     "name": "stdout",
     "output_type": "stream",
     "text": [
      "'GMIIW'\n",
      "'GMTX'\n",
      "'GMVD'\n",
      "'GMVDW'\n",
      "'GNAC'\n",
      "'GNACU'\n",
      "'GNACW'\n",
      "'GNCA'\n",
      "'GNFT'\n",
      "'GNLN'\n",
      "'GNMA'\n",
      "'GNOG'\n",
      "'GNOM'\n"
     ]
    },
    {
     "name": "stderr",
     "output_type": "stream",
     "text": [
      "sleep 3 seconds and retrying https://data.alpaca.markets/v1/bars/day 3 more time(s)...\n"
     ]
    },
    {
     "name": "stdout",
     "output_type": "stream",
     "text": [
      "'GNPX'\n",
      "'GNSS'\n",
      "'GNTX'\n",
      "'GNTY'\n",
      "'GNUS'\n",
      "'GO'\n",
      "'GOBI'\n",
      "'GOCO'\n",
      "'GOEV'\n",
      "'GOEVW'\n",
      "'GOGL'\n",
      "'GOGO'\n"
     ]
    },
    {
     "name": "stderr",
     "output_type": "stream",
     "text": [
      "sleep 3 seconds and retrying https://data.alpaca.markets/v1/bars/day 3 more time(s)...\n"
     ]
    },
    {
     "name": "stdout",
     "output_type": "stream",
     "text": [
      "'GOOD'\n",
      "'GOODN'\n",
      "'GOODO'\n",
      "'GOOG'\n",
      "'GOOGL'\n",
      "'GOSS'\n",
      "'GOVX'\n",
      "'GOVXW'\n",
      "'GP'\n",
      "'GPAC'\n",
      "'GPACU'\n",
      "'GPACW'\n",
      "'GPCO'\n",
      "'GPCOR'\n",
      "'GPCOU'\n",
      "'GPCOW'\n",
      "'GPP'\n"
     ]
    },
    {
     "name": "stderr",
     "output_type": "stream",
     "text": [
      "sleep 3 seconds and retrying https://data.alpaca.markets/v1/bars/day 3 more time(s)...\n"
     ]
    },
    {
     "name": "stdout",
     "output_type": "stream",
     "text": [
      "'GPRE'\n",
      "'GPRO'\n",
      "'GRAY'\n",
      "'GRBK'\n",
      "'GRCL'\n",
      "'GRCY'\n",
      "'GRCYU'\n",
      "'GRCYW'\n",
      "'GRFS'\n",
      "'GRID'\n",
      "'GRIL'\n",
      "'GRIN'\n",
      "'GRMN'\n"
     ]
    },
    {
     "name": "stderr",
     "output_type": "stream",
     "text": [
      "sleep 3 seconds and retrying https://data.alpaca.markets/v1/bars/day 3 more time(s)...\n"
     ]
    },
    {
     "name": "stdout",
     "output_type": "stream",
     "text": [
      "'GRNQ'\n",
      "'GRNV'\n",
      "'GRNVR'\n",
      "'GRNVU'\n",
      "'GRNVW'\n",
      "'GROM'\n",
      "'GROMW'\n",
      "'GROW'\n",
      "'GRPH'\n",
      "'GRPN'\n",
      "'GRSV'\n",
      "'GRSVU'\n",
      "'GRSVW'\n"
     ]
    },
    {
     "name": "stderr",
     "output_type": "stream",
     "text": [
      "sleep 3 seconds and retrying https://data.alpaca.markets/v1/bars/day 3 more time(s)...\n"
     ]
    },
    {
     "name": "stdout",
     "output_type": "stream",
     "text": [
      "'GRTS'\n",
      "'GRTX'\n",
      "'GRUB'\n",
      "'GRVI'\n",
      "'GRVY'\n",
      "'GRWG'\n",
      "'GSAQ'\n",
      "'GSAQU'\n",
      "'GSAQW'\n",
      "'GSBC'\n",
      "'GSEV'\n",
      "'GSEVU'\n",
      "'GSEVW'\n"
     ]
    },
    {
     "name": "stderr",
     "output_type": "stream",
     "text": [
      "sleep 3 seconds and retrying https://data.alpaca.markets/v1/bars/day 3 more time(s)...\n"
     ]
    },
    {
     "name": "stdout",
     "output_type": "stream",
     "text": [
      "'GSHD'\n",
      "'GSIT'\n",
      "'GSKY'\n",
      "'GSM'\n",
      "'GSMG'\n",
      "'GSMGW'\n",
      "'GT'\n",
      "'GTBP'\n",
      "'GTEC'\n",
      "'GTH'\n",
      "'GTHX'\n",
      "'GTIM'\n",
      "'GTPA'\n"
     ]
    },
    {
     "name": "stderr",
     "output_type": "stream",
     "text": [
      "sleep 3 seconds and retrying https://data.alpaca.markets/v1/bars/day 3 more time(s)...\n"
     ]
    },
    {
     "name": "stdout",
     "output_type": "stream",
     "text": [
      "'GTPAU'\n",
      "'GTPAW'\n",
      "'GTPB'\n",
      "'GTPBU'\n",
      "'GTPBW'\n",
      "'GTX'\n",
      "'GTYH'\n",
      "'GURE'\n",
      "'GVP'\n",
      "'GWAC'\n",
      "'GWACW'\n",
      "'GWGH'\n",
      "'GWII'\n",
      "'GWIIU'\n",
      "'GWIIW'\n",
      "'GWRS'\n",
      "'GXII'\n",
      "'GXIIU'\n",
      "'GXIIW'\n"
     ]
    },
    {
     "name": "stderr",
     "output_type": "stream",
     "text": [
      "sleep 3 seconds and retrying https://data.alpaca.markets/v1/bars/day 3 more time(s)...\n"
     ]
    },
    {
     "name": "stdout",
     "output_type": "stream",
     "text": [
      "'GXTG'\n",
      "'GYRO'\n",
      "'HA'\n",
      "'HAAC'\n",
      "'HAACU'\n",
      "'HAACW'\n",
      "'HAFC'\n",
      "'HAIN'\n",
      "'HALL'\n",
      "'HALO'\n",
      "'HAPP'\n",
      "'HARP'\n",
      "'HAS'\n",
      "'HAYN'\n"
     ]
    },
    {
     "name": "stderr",
     "output_type": "stream",
     "text": [
      "sleep 3 seconds and retrying https://data.alpaca.markets/v1/bars/day 3 more time(s)...\n"
     ]
    },
    {
     "name": "stdout",
     "output_type": "stream",
     "text": [
      "'HBAN'\n",
      "'HBANM'\n",
      "'HBANN'\n",
      "'HBANP'\n",
      "'HBCP'\n",
      "'HBIO'\n",
      "'HBMD'\n",
      "'HBNC'\n",
      "'HBP'\n",
      "'HBT'\n",
      "'HCAQ'\n",
      "'HCAR'\n"
     ]
    },
    {
     "name": "stderr",
     "output_type": "stream",
     "text": [
      "sleep 3 seconds and retrying https://data.alpaca.markets/v1/bars/day 3 more time(s)...\n"
     ]
    },
    {
     "name": "stdout",
     "output_type": "stream",
     "text": [
      "'HCARU'\n",
      "'HCARW'\n",
      "'HCAT'\n",
      "'HCCC'\n",
      "'HCCCU'\n",
      "'HCCCW'\n",
      "'HCCI'\n",
      "'HCDI'\n",
      "'HCDIP'\n",
      "'HCDIW'\n",
      "'HCIC'\n",
      "'HCICU'\n",
      "'HCICW'\n"
     ]
    },
    {
     "name": "stderr",
     "output_type": "stream",
     "text": [
      "sleep 3 seconds and retrying https://data.alpaca.markets/v1/bars/day 3 more time(s)...\n"
     ]
    },
    {
     "name": "stdout",
     "output_type": "stream",
     "text": [
      "'HCII'\n",
      "'HCIIU'\n",
      "'HCIIW'\n",
      "'HCKT'\n",
      "'HCM'\n",
      "'HCNE'\n",
      "'HCNEU'\n",
      "'HCNEW'\n",
      "'HCSG'\n",
      "'HCWB'\n",
      "'HDSN'\n",
      "'HEAR'\n",
      "'HEES'\n"
     ]
    },
    {
     "name": "stderr",
     "output_type": "stream",
     "text": [
      "sleep 3 seconds and retrying https://data.alpaca.markets/v1/bars/day 3 more time(s)...\n"
     ]
    },
    {
     "name": "stdout",
     "output_type": "stream",
     "text": [
      "'HELE'\n",
      "'HEPA'\n",
      "'HEPS'\n",
      "'HERA'\n",
      "'HERAU'\n",
      "'HERAW'\n",
      "'HERD'\n",
      "'HERO'\n",
      "'HEWG'\n",
      "'HEXO'\n",
      "'HFBL'\n",
      "'HFFG'\n",
      "'HFWA'\n",
      "'HGBL'\n",
      "'HGEN'\n",
      "'HGSH'\n",
      "'HHR'\n",
      "'HIBB'\n",
      "'HIFS'\n",
      "'HIHO'\n",
      "'HIII'\n"
     ]
    },
    {
     "name": "stderr",
     "output_type": "stream",
     "text": [
      "sleep 3 seconds and retrying https://data.alpaca.markets/v1/bars/day 3 more time(s)...\n"
     ]
    },
    {
     "name": "stdout",
     "output_type": "stream",
     "text": [
      "'HIIIU'\n",
      "'HIIIW'\n",
      "'HIMX'\n",
      "'HITI'\n",
      "'HJLI'\n",
      "'HJLIW'\n",
      "'HLAH'\n",
      "'HLAHU'\n",
      "'HLAHW'\n",
      "'HLAL'\n",
      "'HLBZ'\n",
      "'HLBZW'\n",
      "'HLG'\n"
     ]
    },
    {
     "name": "stderr",
     "output_type": "stream",
     "text": [
      "sleep 3 seconds and retrying https://data.alpaca.markets/v1/bars/day 3 more time(s)...\n"
     ]
    },
    {
     "name": "stdout",
     "output_type": "stream",
     "text": [
      "'HLIO'\n",
      "'HLIT'\n",
      "'HLMN'\n",
      "'HLMNW'\n",
      "'HLNE'\n",
      "'HLXA'\n",
      "'HMCO'\n",
      "'HMCOU'\n",
      "'HMCOW'\n",
      "'HMHC'\n",
      "'HMNF'\n",
      "'HMPT'\n",
      "'HMST'\n",
      "'HMTV'\n"
     ]
    },
    {
     "name": "stderr",
     "output_type": "stream",
     "text": [
      "sleep 3 seconds and retrying https://data.alpaca.markets/v1/bars/day 3 more time(s)...\n"
     ]
    },
    {
     "name": "stdout",
     "output_type": "stream",
     "text": [
      "'HNDL'\n",
      "'HNNA'\n",
      "'HNRG'\n",
      "'HNST'\n",
      "'HOFT'\n",
      "'HOFV'\n",
      "'HOFVW'\n",
      "'HOLI'\n",
      "'HOLX'\n",
      "'HOMB'\n",
      "'HON'\n",
      "'HONE'\n"
     ]
    },
    {
     "name": "stderr",
     "output_type": "stream",
     "text": [
      "sleep 3 seconds and retrying https://data.alpaca.markets/v1/bars/day 3 more time(s)...\n"
     ]
    },
    {
     "name": "stdout",
     "output_type": "stream",
     "text": [
      "'HOOD'\n",
      "'HOOK'\n",
      "'HOPE'\n",
      "'HOTH'\n",
      "'HOVNP'\n",
      "'HOWL'\n",
      "'HPK'\n",
      "'HPKEW'\n",
      "'HQI'\n",
      "'HQY'\n",
      "'HRMY'\n"
     ]
    },
    {
     "name": "stderr",
     "output_type": "stream",
     "text": [
      "sleep 3 seconds and retrying https://data.alpaca.markets/v1/bars/day 3 more time(s)...\n"
     ]
    },
    {
     "name": "stdout",
     "output_type": "stream",
     "text": [
      "'HROW'\n",
      "'HROWL'\n",
      "'HRTX'\n",
      "'HRZN'\n",
      "'HSAQ'\n",
      "'HSDT'\n",
      "'HSIC'\n",
      "'HSII'\n",
      "'HSKA'\n",
      "'HSON'\n",
      "'HST'\n",
      "'HSTM'\n",
      "'HSTO'\n",
      "'HTBI'\n",
      "'HTBK'\n",
      "'HTBX'\n"
     ]
    },
    {
     "name": "stderr",
     "output_type": "stream",
     "text": [
      "sleep 3 seconds and retrying https://data.alpaca.markets/v1/bars/day 3 more time(s)...\n"
     ]
    },
    {
     "name": "stdout",
     "output_type": "stream",
     "text": [
      "'HTGM'\n",
      "'HTHT'\n",
      "'HTIA'\n",
      "'HTLD'\n",
      "'HTLF'\n",
      "'HTLFP'\n",
      "'HTOO'\n",
      "'HTOOW'\n",
      "'HUBG'\n",
      "'HUDI'\n",
      "'HUGE'\n",
      "'HUIZ'\n",
      "'HUMA'\n",
      "'HUMAW'\n"
     ]
    },
    {
     "name": "stderr",
     "output_type": "stream",
     "text": [
      "sleep 3 seconds and retrying https://data.alpaca.markets/v1/bars/day 3 more time(s)...\n"
     ]
    },
    {
     "name": "stdout",
     "output_type": "stream",
     "text": [
      "'HURC'\n",
      "'HURN'\n",
      "'HUSN'\n",
      "'HUT'\n",
      "'HVBC'\n",
      "'HVBT'\n",
      "'HWBK'\n",
      "'HWC'\n",
      "'HWCPZ'\n",
      "'HWELU'\n",
      "'HWKN'\n",
      "'HX'\n",
      "'HYAC'\n"
     ]
    },
    {
     "name": "stderr",
     "output_type": "stream",
     "text": [
      "sleep 3 seconds and retrying https://data.alpaca.markets/v1/bars/day 3 more time(s)...\n"
     ]
    },
    {
     "name": "stdout",
     "output_type": "stream",
     "text": [
      "'HYACU'\n",
      "'HYACW'\n",
      "'HYDR'\n",
      "'HYFM'\n",
      "'HYLS'\n",
      "'HYMC'\n",
      "'HYMCL'\n",
      "'HYMCW'\n",
      "'HYMCZ'\n",
      "'HYRE'\n",
      "'HYW'\n",
      "'HYXF'\n",
      "'HYZD'\n"
     ]
    },
    {
     "name": "stderr",
     "output_type": "stream",
     "text": [
      "sleep 3 seconds and retrying https://data.alpaca.markets/v1/bars/day 3 more time(s)...\n"
     ]
    },
    {
     "name": "stdout",
     "output_type": "stream",
     "text": [
      "'HYZN'\n",
      "'HYZNW'\n",
      "'HZNP'\n",
      "'IAC'\n",
      "'IART'\n",
      "'IAS'\n",
      "'IBB'\n",
      "'IBBJ'\n",
      "'IBBQ'\n",
      "'IBCP'\n",
      "'IBEX'\n",
      "'IBKR'\n",
      "'IBOC'\n",
      "'IBRX'\n",
      "'IBTA'\n",
      "'IBTB'\n",
      "'IBTD'\n"
     ]
    },
    {
     "name": "stderr",
     "output_type": "stream",
     "text": [
      "sleep 3 seconds and retrying https://data.alpaca.markets/v1/bars/day 3 more time(s)...\n"
     ]
    },
    {
     "name": "stdout",
     "output_type": "stream",
     "text": [
      "'IBTE'\n",
      "'IBTF'\n",
      "'IBTG'\n",
      "'IBTH'\n",
      "'IBTI'\n",
      "'IBTJ'\n",
      "'IBTK'\n",
      "'IBTX'\n",
      "'ICAD'\n",
      "'ICBK'\n",
      "'ICCC'\n",
      "'ICCH'\n"
     ]
    },
    {
     "name": "stderr",
     "output_type": "stream",
     "text": [
      "sleep 3 seconds and retrying https://data.alpaca.markets/v1/bars/day 3 more time(s)...\n"
     ]
    },
    {
     "name": "stdout",
     "output_type": "stream",
     "text": [
      "'ICCM'\n",
      "'ICFI'\n",
      "'ICHR'\n",
      "'ICLK'\n",
      "'ICLN'\n",
      "'ICLR'\n",
      "'ICMB'\n",
      "'ICON'\n",
      "'ICPT'\n",
      "'ICUI'\n",
      "'ICVX'\n",
      "'IDBA'\n"
     ]
    },
    {
     "name": "stderr",
     "output_type": "stream",
     "text": [
      "sleep 3 seconds and retrying https://data.alpaca.markets/v1/bars/day 3 more time(s)...\n"
     ]
    },
    {
     "name": "stdout",
     "output_type": "stream",
     "text": [
      "'IDCC'\n",
      "'IDEX'\n",
      "'IDLB'\n",
      "'IDN'\n",
      "'IDRA'\n",
      "'IDXX'\n",
      "'IDYA'\n",
      "'IEA'\n",
      "'IEAWW'\n",
      "'IEC'\n",
      "'IEF'\n",
      "'IEI'\n",
      "'IEP'\n",
      "'IESC'\n"
     ]
    },
    {
     "name": "stderr",
     "output_type": "stream",
     "text": [
      "sleep 3 seconds and retrying https://data.alpaca.markets/v1/bars/day 3 more time(s)...\n"
     ]
    },
    {
     "name": "stdout",
     "output_type": "stream",
     "text": [
      "'IEUS'\n",
      "'IFBD'\n",
      "'IFGL'\n",
      "'IFMK'\n",
      "'IFRX'\n",
      "'IFV'\n",
      "'IGAC'\n",
      "'IGACU'\n",
      "'IGACW'\n",
      "'IGF'\n",
      "'IGIB'\n",
      "'IGIC'\n",
      "'IGICW'\n"
     ]
    },
    {
     "name": "stderr",
     "output_type": "stream",
     "text": [
      "sleep 3 seconds and retrying https://data.alpaca.markets/v1/bars/day 3 more time(s)...\n"
     ]
    },
    {
     "name": "stdout",
     "output_type": "stream",
     "text": [
      "'IGMS'\n",
      "'IGNY'\n",
      "'IGNYU'\n",
      "'IGNYW'\n",
      "'IGOV'\n",
      "'IGSB'\n",
      "'IHRT'\n",
      "'IHYF'\n",
      "'III'\n",
      "'IIII'\n",
      "'IIIIU'\n",
      "'IIIIW'\n",
      "'IIIV'\n",
      "'IIN'\n",
      "'IINN'\n",
      "'IINNW'\n"
     ]
    },
    {
     "name": "stderr",
     "output_type": "stream",
     "text": [
      "sleep 3 seconds and retrying https://data.alpaca.markets/v1/bars/day 3 more time(s)...\n"
     ]
    },
    {
     "name": "stdout",
     "output_type": "stream",
     "text": [
      "'IIVI'\n",
      "'IIVIP'\n",
      "'IJT'\n",
      "'IKNA'\n",
      "'IKNX'\n",
      "'IKT'\n",
      "'ILMN'\n",
      "'ILPT'\n",
      "'IMAB'\n",
      "'IMAC'\n",
      "'IMACW'\n",
      "'IMAQ'\n"
     ]
    },
    {
     "name": "stderr",
     "output_type": "stream",
     "text": [
      "sleep 3 seconds and retrying https://data.alpaca.markets/v1/bars/day 3 more time(s)...\n"
     ]
    },
    {
     "name": "stdout",
     "output_type": "stream",
     "text": [
      "'IMAQR'\n",
      "'IMAQU'\n",
      "'IMAQW'\n",
      "'IMBI'\n",
      "'IMCC'\n",
      "'IMCR'\n",
      "'IMCV'\n",
      "'IMGN'\n",
      "'IMGO'\n",
      "'IMKTA'\n",
      "'IMMP'\n",
      "'IMMR'\n",
      "'IMNM'\n",
      "'IMOS'\n"
     ]
    },
    {
     "name": "stderr",
     "output_type": "stream",
     "text": [
      "sleep 3 seconds and retrying https://data.alpaca.markets/v1/bars/day 3 more time(s)...\n"
     ]
    },
    {
     "name": "stdout",
     "output_type": "stream",
     "text": [
      "'IMPL'\n",
      "'IMRA'\n",
      "'IMRX'\n",
      "'IMTE'\n",
      "'IMTX'\n",
      "'IMTXW'\n",
      "'IMUX'\n",
      "'IMV'\n",
      "'IMVT'\n",
      "'IMXI'\n",
      "'INAB'\n",
      "'INBK'\n"
     ]
    },
    {
     "name": "stderr",
     "output_type": "stream",
     "text": [
      "sleep 3 seconds and retrying https://data.alpaca.markets/v1/bars/day 3 more time(s)...\n"
     ]
    },
    {
     "name": "stdout",
     "output_type": "stream",
     "text": [
      "'INBKL'\n",
      "'INBKZ'\n",
      "'INBX'\n",
      "'INCY'\n",
      "'INDB'\n",
      "'INDI'\n",
      "'INDIW'\n",
      "'INDP'\n",
      "'INDT'\n",
      "'INDY'\n",
      "'INFI'\n",
      "'INFN'\n",
      "'INFR'\n",
      "'INGN'\n"
     ]
    },
    {
     "name": "stderr",
     "output_type": "stream",
     "text": [
      "sleep 3 seconds and retrying https://data.alpaca.markets/v1/bars/day 3 more time(s)...\n"
     ]
    },
    {
     "name": "stdout",
     "output_type": "stream",
     "text": [
      "'INKA'\n",
      "'INKAU'\n",
      "'INKAW'\n",
      "'INM'\n",
      "'INMB'\n",
      "'INMD'\n",
      "'INNV'\n",
      "'INO'\n",
      "'INOD'\n",
      "'INOV'\n",
      "'INPX'\n",
      "'INSE'\n",
      "'INSG'\n",
      "'INSM'\n",
      "'INTA'\n",
      "'INTC'\n",
      "'INTG'\n",
      "'INTU'\n",
      "'INTZ'\n",
      "'INVA'\n",
      "'INVE'\n",
      "'INVO'\n",
      "'INVZ'\n"
     ]
    },
    {
     "name": "stderr",
     "output_type": "stream",
     "text": [
      "sleep 3 seconds and retrying https://data.alpaca.markets/v1/bars/day 3 more time(s)...\n"
     ]
    },
    {
     "name": "stdout",
     "output_type": "stream",
     "text": [
      "'INVZW'\n",
      "'INZY'\n",
      "'IONS'\n",
      "'IOSP'\n",
      "'IOVA'\n",
      "'IPA'\n",
      "'IPAR'\n",
      "'IPDN'\n",
      "'IPGP'\n",
      "'IPHA'\n",
      "'IPKW'\n",
      "'IPLDP'\n"
     ]
    },
    {
     "name": "stderr",
     "output_type": "stream",
     "text": [
      "sleep 3 seconds and retrying https://data.alpaca.markets/v1/bars/day 3 more time(s)...\n"
     ]
    },
    {
     "name": "stdout",
     "output_type": "stream",
     "text": [
      "'IPSC'\n",
      "'IPVI'\n",
      "'IPVIU'\n",
      "'IPVIW'\n",
      "'IPW'\n",
      "'IPWR'\n",
      "'IQ'\n",
      "'IRBT'\n",
      "'IRCP'\n",
      "'IRDM'\n",
      "'IRIX'\n",
      "'IRMD'\n",
      "'IROQ'\n",
      "'IRTC'\n"
     ]
    },
    {
     "name": "stderr",
     "output_type": "stream",
     "text": [
      "sleep 3 seconds and retrying https://data.alpaca.markets/v1/bars/day 3 more time(s)...\n"
     ]
    },
    {
     "name": "stdout",
     "output_type": "stream",
     "text": [
      "'IRWD'\n",
      "'ISAA'\n",
      "'ISBC'\n",
      "'ISDX'\n",
      "'ISEE'\n",
      "'ISEM'\n",
      "'ISHG'\n",
      "'ISIG'\n",
      "'ISLE'\n",
      "'ISLEW'\n",
      "'ISPC'\n",
      "'ISRG'\n"
     ]
    },
    {
     "name": "stderr",
     "output_type": "stream",
     "text": [
      "sleep 3 seconds and retrying https://data.alpaca.markets/v1/bars/day 3 more time(s)...\n"
     ]
    },
    {
     "name": "stdout",
     "output_type": "stream",
     "text": [
      "'ISSC'\n",
      "'ISTB'\n",
      "'ISTR'\n",
      "'ISUN'\n",
      "'ITAC'\n",
      "'ITACU'\n",
      "'ITACW'\n",
      "'ITCI'\n",
      "'ITHX'\n",
      "'ITHXU'\n",
      "'ITHXW'\n",
      "'ITI'\n",
      "'ITIC'\n",
      "'ITMR'\n",
      "'ITOS'\n"
     ]
    },
    {
     "name": "stderr",
     "output_type": "stream",
     "text": [
      "sleep 3 seconds and retrying https://data.alpaca.markets/v1/bars/day 3 more time(s)...\n"
     ]
    },
    {
     "name": "stdout",
     "output_type": "stream",
     "text": [
      "'ITQ'\n",
      "'ITQRU'\n",
      "'ITQRW'\n",
      "'ITRI'\n",
      "'ITRM'\n",
      "'ITRN'\n",
      "'IUS'\n",
      "'IUSB'\n",
      "'IUSG'\n",
      "'IUSS'\n",
      "'IUSV'\n",
      "'IVA'\n",
      "'IVAC'\n",
      "'IXUS'\n",
      "'IZEA'\n",
      "'JACK'\n"
     ]
    },
    {
     "name": "stderr",
     "output_type": "stream",
     "text": [
      "sleep 3 seconds and retrying https://data.alpaca.markets/v1/bars/day 3 more time(s)...\n"
     ]
    },
    {
     "name": "stdout",
     "output_type": "stream",
     "text": [
      "'JAGX'\n",
      "'JAKK'\n",
      "'JAMF'\n",
      "'JAN'\n",
      "'JANX'\n",
      "'JAQCU'\n",
      "'JAZZ'\n",
      "'JBHT'\n",
      "'JBLU'\n",
      "'JBSS'\n",
      "'JCIC'\n",
      "'JCICU'\n",
      "'JCICW'\n"
     ]
    },
    {
     "name": "stderr",
     "output_type": "stream",
     "text": [
      "sleep 3 seconds and retrying https://data.alpaca.markets/v1/bars/day 3 more time(s)...\n"
     ]
    },
    {
     "name": "stdout",
     "output_type": "stream",
     "text": [
      "'JCOM'\n",
      "'JCS'\n",
      "'JCTCF'\n",
      "'JD'\n",
      "'JFIN'\n",
      "'JFU'\n",
      "'JG'\n",
      "'JJSF'\n",
      "'JKHY'\n",
      "'JMPNL'\n",
      "'JMPNZ'\n",
      "'JNCE'\n",
      "'JOAN'\n"
     ]
    },
    {
     "name": "stderr",
     "output_type": "stream",
     "text": [
      "sleep 3 seconds and retrying https://data.alpaca.markets/v1/bars/day 3 more time(s)...\n"
     ]
    },
    {
     "name": "stdout",
     "output_type": "stream",
     "text": [
      "'JOBS'\n",
      "'JOET'\n",
      "'JOFF'\n",
      "'JOFFU'\n",
      "'JOFFW'\n",
      "'JOUT'\n",
      "'JRJC'\n",
      "'JRSH'\n",
      "'JRVR'\n",
      "'JSM'\n",
      "'JSMD'\n",
      "'JSML'\n"
     ]
    },
    {
     "name": "stderr",
     "output_type": "stream",
     "text": [
      "sleep 3 seconds and retrying https://data.alpaca.markets/v1/bars/day 3 more time(s)...\n"
     ]
    },
    {
     "name": "stdout",
     "output_type": "stream",
     "text": [
      "'JUGG'\n",
      "'JUGGU'\n",
      "'JUGGW'\n",
      "'JUPW'\n",
      "'JUPWW'\n",
      "'JVA'\n",
      "'JWEL'\n",
      "'JYAC'\n",
      "'JYNT'\n",
      "'JZXN'\n",
      "'KAII'\n",
      "'KAIIU'\n",
      "'KAIIW'\n"
     ]
    },
    {
     "name": "stderr",
     "output_type": "stream",
     "text": [
      "sleep 3 seconds and retrying https://data.alpaca.markets/v1/bars/day 3 more time(s)...\n"
     ]
    },
    {
     "name": "stdout",
     "output_type": "stream",
     "text": [
      "'KAIR'\n",
      "'KAIRU'\n",
      "'KAIRW'\n",
      "'KALA'\n",
      "'KALU'\n",
      "'KALV'\n",
      "'KARO'\n",
      "'KAVL'\n",
      "'KBAL'\n",
      "'KBNT'\n",
      "'KBNTW'\n",
      "'KBSF'\n",
      "'KBWB'\n",
      "'KBWD'\n",
      "'KBWP'\n",
      "'KBWR'\n",
      "'KBWY'\n",
      "'KC'\n"
     ]
    },
    {
     "name": "stderr",
     "output_type": "stream",
     "text": [
      "sleep 3 seconds and retrying https://data.alpaca.markets/v1/bars/day 3 more time(s)...\n"
     ]
    },
    {
     "name": "stdout",
     "output_type": "stream",
     "text": [
      "'KDMN'\n",
      "'KDNY'\n",
      "'KDP'\n",
      "'KE'\n",
      "'KEJI'\n",
      "'KELYA'\n",
      "'KELYB'\n",
      "'KEQU'\n",
      "'KERN'\n",
      "'KERNW'\n",
      "'KFFB'\n",
      "'KFRC'\n"
     ]
    },
    {
     "name": "stderr",
     "output_type": "stream",
     "text": [
      "sleep 3 seconds and retrying https://data.alpaca.markets/v1/bars/day 3 more time(s)...\n"
     ]
    },
    {
     "name": "stdout",
     "output_type": "stream",
     "text": [
      "'KHC'\n",
      "'KIDS'\n",
      "'KIII'\n",
      "'KIIIU'\n",
      "'KIIIW'\n",
      "'KIN'\n",
      "'KINS'\n",
      "'KINZ'\n",
      "'KINZU'\n",
      "'KINZW'\n",
      "'KIRK'\n",
      "'KLAC'\n",
      "'KLAQ'\n"
     ]
    },
    {
     "name": "stderr",
     "output_type": "stream",
     "text": [
      "sleep 3 seconds and retrying https://data.alpaca.markets/v1/bars/day 3 more time(s)...\n"
     ]
    },
    {
     "name": "stdout",
     "output_type": "stream",
     "text": [
      "'KLAQU'\n",
      "'KLAQW'\n",
      "'KLDO'\n",
      "'KLIC'\n",
      "'KLTR'\n",
      "'KLXE'\n",
      "'KMDA'\n",
      "'KMPH'\n",
      "'KNBE'\n",
      "'KNDI'\n",
      "'KNSA'\n",
      "'KNSL'\n",
      "'KNTE'\n"
     ]
    },
    {
     "name": "stderr",
     "output_type": "stream",
     "text": [
      "sleep 3 seconds and retrying https://data.alpaca.markets/v1/bars/day 3 more time(s)...\n"
     ]
    },
    {
     "name": "stdout",
     "output_type": "stream",
     "text": [
      "'KOD'\n",
      "'KOPN'\n",
      "'KOR'\n",
      "'KOSS'\n",
      "'KPLT'\n",
      "'KPLTW'\n",
      "'KPTI'\n",
      "'KRBP'\n",
      "'KRKR'\n",
      "'KRMA'\n",
      "'KRMD'\n",
      "'KRNL'\n",
      "'KRNLU'\n",
      "'KRNLW'\n",
      "'KRNT'\n",
      "'KRNY'\n",
      "'KRON'\n",
      "'KROP'\n"
     ]
    },
    {
     "name": "stderr",
     "output_type": "stream",
     "text": [
      "sleep 3 seconds and retrying https://data.alpaca.markets/v1/bars/day 3 more time(s)...\n"
     ]
    },
    {
     "name": "stdout",
     "output_type": "stream",
     "text": [
      "'KROS'\n",
      "'KRT'\n",
      "'KRTX'\n",
      "'KRUS'\n",
      "'KRYS'\n",
      "'KSI'\n",
      "'KSICU'\n",
      "'KSICW'\n",
      "'KSMT'\n",
      "'KSMTU'\n",
      "'KSMTW'\n",
      "'KSPN'\n"
     ]
    },
    {
     "name": "stderr",
     "output_type": "stream",
     "text": [
      "sleep 3 seconds and retrying https://data.alpaca.markets/v1/bars/day 3 more time(s)...\n"
     ]
    },
    {
     "name": "stdout",
     "output_type": "stream",
     "text": [
      "'KTCC'\n",
      "'KTOS'\n",
      "'KTRA'\n",
      "'KURA'\n",
      "'KURI'\n",
      "'KURIU'\n",
      "'KURIW'\n",
      "'KVHI'\n",
      "'KVSA'\n",
      "'KVSB'\n",
      "'KVSC'\n",
      "'KXIN'\n",
      "'KYMR'\n",
      "'KZIA'\n"
     ]
    },
    {
     "name": "stderr",
     "output_type": "stream",
     "text": [
      "sleep 3 seconds and retrying https://data.alpaca.markets/v1/bars/day 3 more time(s)...\n"
     ]
    },
    {
     "name": "stdout",
     "output_type": "stream",
     "text": [
      "'KZR'\n",
      "'LAAA'\n",
      "'LAAAU'\n",
      "'LAAAW'\n",
      "'LABP'\n",
      "'LAKE'\n",
      "'LAMR'\n",
      "'LANC'\n",
      "'LAND'\n",
      "'LANDM'\n",
      "'LANDO'\n"
     ]
    },
    {
     "name": "stderr",
     "output_type": "stream",
     "text": [
      "sleep 3 seconds and retrying https://data.alpaca.markets/v1/bars/day 3 more time(s)...\n"
     ]
    },
    {
     "name": "stdout",
     "output_type": "stream",
     "text": [
      "'LARK'\n",
      "'LASR'\n",
      "'LATN'\n",
      "'LATNU'\n",
      "'LATNW'\n",
      "'LAUR'\n",
      "'LAWS'\n",
      "'LAZR'\n",
      "'LAZY'\n",
      "'LBAI'\n",
      "'LBC'\n",
      "'LBPH'\n",
      "'LBPS'\n",
      "'LBPSW'\n",
      "'LBRDA'\n"
     ]
    },
    {
     "name": "stderr",
     "output_type": "stream",
     "text": [
      "sleep 3 seconds and retrying https://data.alpaca.markets/v1/bars/day 3 more time(s)...\n"
     ]
    },
    {
     "name": "stdout",
     "output_type": "stream",
     "text": [
      "'LBRDK'\n",
      "'LBRDP'\n",
      "'LBTYA'\n",
      "'LBTYB'\n",
      "'LBTYK'\n",
      "'LCA'\n",
      "'LCAA'\n",
      "'LCAAU'\n",
      "'LCAAW'\n",
      "'LCAHU'\n",
      "'LCAHW'\n",
      "'LCAP'\n",
      "'LCAPU'\n",
      "'LCAPW'\n",
      "'LCID'\n",
      "'LCIDW'\n",
      "'LCNB'\n",
      "'LCUT'\n",
      "'LDEM'\n",
      "'LDHA'\n",
      "'LDHAU'\n"
     ]
    },
    {
     "name": "stderr",
     "output_type": "stream",
     "text": [
      "sleep 3 seconds and retrying https://data.alpaca.markets/v1/bars/day 3 more time(s)...\n"
     ]
    },
    {
     "name": "stdout",
     "output_type": "stream",
     "text": [
      "'LDHAW'\n",
      "'LDSF'\n",
      "'LE'\n",
      "'LECO'\n",
      "'LEDS'\n",
      "'LEE'\n",
      "'LEGA'\n",
      "'LEGAU'\n",
      "'LEGAW'\n",
      "'LEGH'\n",
      "'LEGN'\n",
      "'LEGO'\n",
      "'LEGOU'\n"
     ]
    },
    {
     "name": "stderr",
     "output_type": "stream",
     "text": [
      "sleep 3 seconds and retrying https://data.alpaca.markets/v1/bars/day 3 more time(s)...\n"
     ]
    },
    {
     "name": "stdout",
     "output_type": "stream",
     "text": [
      "'LEGOW'\n",
      "'LEGR'\n",
      "'LESL'\n",
      "'LEVL'\n",
      "'LEVLP'\n",
      "'LEXX'\n",
      "'LEXXW'\n",
      "'LFMD'\n",
      "'LFST'\n",
      "'LFTR'\n",
      "'LFTRU'\n",
      "'LFTRW'\n",
      "'LFUS'\n"
     ]
    },
    {
     "name": "stderr",
     "output_type": "stream",
     "text": [
      "sleep 3 seconds and retrying https://data.alpaca.markets/v1/bars/day 3 more time(s)...\n"
     ]
    },
    {
     "name": "stdout",
     "output_type": "stream",
     "text": [
      "'LFVN'\n",
      "'LGAC'\n",
      "'LGACU'\n",
      "'LGACW'\n",
      "'LGBT'\n",
      "'LGHL'\n",
      "'LGHLW'\n",
      "'LGIH'\n",
      "'LGND'\n",
      "'LGO'\n",
      "'LGVN'\n",
      "'LHAA'\n",
      "'LHCG'\n"
     ]
    },
    {
     "name": "stderr",
     "output_type": "stream",
     "text": [
      "sleep 3 seconds and retrying https://data.alpaca.markets/v1/bars/day 3 more time(s)...\n"
     ]
    },
    {
     "name": "stdout",
     "output_type": "stream",
     "text": [
      "'LHDX'\n",
      "'LI'\n",
      "'LIDR'\n",
      "'LIDRW'\n",
      "'LIFE'\n",
      "'LILA'\n",
      "'LILAK'\n",
      "'LINC'\n",
      "'LIND'\n",
      "'LINK'\n",
      "'LIQT'\n",
      "'LITE'\n",
      "'LITT'\n"
     ]
    },
    {
     "name": "stderr",
     "output_type": "stream",
     "text": [
      "sleep 3 seconds and retrying https://data.alpaca.markets/v1/bars/day 3 more time(s)...\n"
     ]
    },
    {
     "name": "stdout",
     "output_type": "stream",
     "text": [
      "'LITTU'\n",
      "'LITTW'\n",
      "'LIVE'\n",
      "'LIVK'\n",
      "'LIVKU'\n",
      "'LIVKW'\n",
      "'LIVN'\n",
      "'LIVX'\n",
      "'LIXT'\n",
      "'LIXTW'\n",
      "'LIZI'\n",
      "'LJAQ'\n",
      "'LJAQU'\n",
      "'LJAQW'\n",
      "'LJPC'\n",
      "'LKCO'\n",
      "'LKFN'\n"
     ]
    },
    {
     "name": "stderr",
     "output_type": "stream",
     "text": [
      "sleep 3 seconds and retrying https://data.alpaca.markets/v1/bars/day 3 more time(s)...\n"
     ]
    },
    {
     "name": "stdout",
     "output_type": "stream",
     "text": [
      "'LKQ'\n",
      "'LLNW'\n",
      "'LMACA'\n",
      "'LMACU'\n",
      "'LMACW'\n",
      "'LMAO'\n",
      "'LMAOU'\n",
      "'LMAOW'\n",
      "'LMAT'\n",
      "'LMB'\n",
      "'LMBS'\n",
      "'LMFA'\n",
      "'LMNL'\n"
     ]
    },
    {
     "name": "stderr",
     "output_type": "stream",
     "text": [
      "sleep 3 seconds and retrying https://data.alpaca.markets/v1/bars/day 3 more time(s)...\n"
     ]
    },
    {
     "name": "stdout",
     "output_type": "stream",
     "text": [
      "'LMNR'\n",
      "'LMPX'\n",
      "'LMRK'\n",
      "'LMRKN'\n",
      "'LMRKO'\n",
      "'LMRKP'\n",
      "'LMST'\n",
      "'LNDC'\n",
      "'LNSR'\n",
      "'LNT'\n",
      "'LNTH'\n",
      "'LOAN'\n"
     ]
    },
    {
     "name": "stderr",
     "output_type": "stream",
     "text": [
      "sleep 3 seconds and retrying https://data.alpaca.markets/v1/bars/day 3 more time(s)...\n"
     ]
    },
    {
     "name": "stdout",
     "output_type": "stream",
     "text": [
      "'LOB'\n",
      "'LOCO'\n",
      "'LOGC'\n",
      "'LOGI'\n",
      "'LOOP'\n",
      "'LOPE'\n",
      "'LORL'\n",
      "'LOTZ'\n",
      "'LOTZW'\n",
      "'LOVE'\n",
      "'LPCN'\n",
      "'LPLA'\n"
     ]
    },
    {
     "name": "stderr",
     "output_type": "stream",
     "text": [
      "sleep 3 seconds and retrying https://data.alpaca.markets/v1/bars/day 3 more time(s)...\n"
     ]
    },
    {
     "name": "stdout",
     "output_type": "stream",
     "text": [
      "'LPRO'\n",
      "'LPSN'\n",
      "'LPTH'\n",
      "'LPTX'\n",
      "'LQDA'\n",
      "'LQDT'\n",
      "'LRCX'\n",
      "'LRFC'\n",
      "'LRGE'\n",
      "'LRMR'\n",
      "'LSAQ'\n",
      "'LSBK'\n",
      "'LSCC'\n",
      "'LSEA'\n",
      "'LSEAW'\n"
     ]
    },
    {
     "name": "stderr",
     "output_type": "stream",
     "text": [
      "sleep 3 seconds and retrying https://data.alpaca.markets/v1/bars/day 3 more time(s)...\n"
     ]
    },
    {
     "name": "stdout",
     "output_type": "stream",
     "text": [
      "'LSTR'\n",
      "'LSXMA'\n",
      "'LSXMB'\n",
      "'LSXMK'\n",
      "'LTBR'\n",
      "'LTCH'\n",
      "'LTCHW'\n",
      "'LTRN'\n",
      "'LTRPA'\n",
      "'LTRPB'\n",
      "'LTRX'\n",
      "'LULU'\n",
      "'LUMO'\n",
      "'LUNA'\n",
      "'LUNG'\n"
     ]
    },
    {
     "name": "stderr",
     "output_type": "stream",
     "text": [
      "sleep 3 seconds and retrying https://data.alpaca.markets/v1/bars/day 3 more time(s)...\n"
     ]
    },
    {
     "name": "stdout",
     "output_type": "stream",
     "text": [
      "'LUXA'\n",
      "'LUXAU'\n",
      "'LUXAW'\n",
      "'LVHD'\n",
      "'LVOX'\n",
      "'LVOXW'\n",
      "'LVRA'\n",
      "'LVRAU'\n",
      "'LVRAW'\n",
      "'LVTX'\n",
      "'LWAC'\n"
     ]
    },
    {
     "name": "stderr",
     "output_type": "stream",
     "text": [
      "sleep 3 seconds and retrying https://data.alpaca.markets/v1/bars/day 3 more time(s)...\n"
     ]
    },
    {
     "name": "stdout",
     "output_type": "stream",
     "text": [
      "'LWACU'\n",
      "'LWACW'\n",
      "'LWAY'\n",
      "'LX'\n",
      "'LXEH'\n",
      "'LXRX'\n",
      "'LYEL'\n",
      "'LYFT'\n",
      "'LYL'\n",
      "'LYRA'\n",
      "'LYTS'\n",
      "'LZ'\n",
      "'MAAC'\n",
      "'MAACU'\n",
      "'MAACW'\n"
     ]
    },
    {
     "name": "stderr",
     "output_type": "stream",
     "text": [
      "sleep 3 seconds and retrying https://data.alpaca.markets/v1/bars/day 3 more time(s)...\n"
     ]
    },
    {
     "name": "stdout",
     "output_type": "stream",
     "text": [
      "'MACA'\n",
      "'MACAU'\n",
      "'MACAW'\n",
      "'MACK'\n",
      "'MACQ'\n",
      "'MACQU'\n",
      "'MACQW'\n",
      "'MACU'\n",
      "'MACUU'\n",
      "'MACUW'\n",
      "'MAGS'\n",
      "'MANH'\n",
      "'MANT'\n"
     ]
    },
    {
     "name": "stderr",
     "output_type": "stream",
     "text": [
      "sleep 3 seconds and retrying https://data.alpaca.markets/v1/bars/day 3 more time(s)...\n"
     ]
    },
    {
     "name": "stdout",
     "output_type": "stream",
     "text": [
      "'MAPS'\n",
      "'MAPSW'\n",
      "'MAQC'\n",
      "'MAQCU'\n",
      "'MAQCW'\n",
      "'MAR'\n",
      "'MARA'\n",
      "'MARK'\n",
      "'MARPS'\n",
      "'MASI'\n",
      "'MASS'\n",
      "'MAT'\n",
      "'MATW'\n",
      "'MAXN'\n",
      "'MAYS'\n",
      "'MBB'\n",
      "'MBCN'\n"
     ]
    },
    {
     "name": "stderr",
     "output_type": "stream",
     "text": [
      "sleep 3 seconds and retrying https://data.alpaca.markets/v1/bars/day 3 more time(s)...\n"
     ]
    },
    {
     "name": "stdout",
     "output_type": "stream",
     "text": [
      "'MBII'\n",
      "'MBIN'\n",
      "'MBINN'\n",
      "'MBINO'\n",
      "'MBINP'\n",
      "'MBIO'\n",
      "'MBNKP'\n",
      "'MBOT'\n",
      "'MBRX'\n",
      "'MBTC'\n",
      "'MBTCR'\n",
      "'MBTCU'\n"
     ]
    },
    {
     "name": "stderr",
     "output_type": "stream",
     "text": [
      "sleep 3 seconds and retrying https://data.alpaca.markets/v1/bars/day 3 more time(s)...\n"
     ]
    },
    {
     "name": "stdout",
     "output_type": "stream",
     "text": [
      "'MBUU'\n",
      "'MBWM'\n",
      "'MCAD'\n",
      "'MCADR'\n",
      "'MCADU'\n",
      "'MCAE'\n",
      "'MCAER'\n",
      "'MCAEU'\n",
      "'MCAF'\n",
      "'MCAFR'\n",
      "'MCAFU'\n",
      "'MCBC'\n",
      "'MCBS'\n"
     ]
    },
    {
     "name": "stderr",
     "output_type": "stream",
     "text": [
      "sleep 3 seconds and retrying https://data.alpaca.markets/v1/bars/day 3 more time(s)...\n"
     ]
    },
    {
     "name": "stdout",
     "output_type": "stream",
     "text": [
      "'MCEF'\n",
      "'MCFE'\n",
      "'MCFT'\n",
      "'MCHI'\n",
      "'MCHP'\n",
      "'MCHX'\n",
      "'MCMJ'\n",
      "'MCMJW'\n",
      "'MCRB'\n",
      "'MCRI'\n",
      "'MDB'\n",
      "'MDCA'\n",
      "'MDGL'\n",
      "'MDGS'\n"
     ]
    },
    {
     "name": "stderr",
     "output_type": "stream",
     "text": [
      "sleep 3 seconds and retrying https://data.alpaca.markets/v1/bars/day 3 more time(s)...\n"
     ]
    },
    {
     "name": "stdout",
     "output_type": "stream",
     "text": [
      "'MDGSW'\n",
      "'MDIA'\n",
      "'MDIV'\n",
      "'MDJH'\n",
      "'MDLZ'\n",
      "'MDNA'\n",
      "'MDRR'\n",
      "'MDRRP'\n",
      "'MDRX'\n",
      "'MDVL'\n",
      "'MDWD'\n",
      "'MDWT'\n",
      "'MDXG'\n",
      "'ME'\n"
     ]
    },
    {
     "name": "stderr",
     "output_type": "stream",
     "text": [
      "sleep 3 seconds and retrying https://data.alpaca.markets/v1/bars/day 3 more time(s)...\n"
     ]
    },
    {
     "name": "stdout",
     "output_type": "stream",
     "text": [
      "'MEACU'\n",
      "'MEDP'\n",
      "'MEDS'\n",
      "'MEIP'\n",
      "'MELI'\n",
      "'MEOAU'\n",
      "'MEOH'\n",
      "'MERC'\n",
      "'MESA'\n",
      "'MESO'\n",
      "'METC'\n",
      "'METCL'\n",
      "'METX'\n",
      "'METXW'\n",
      "'MEUSW'\n",
      "'MF'\n",
      "'MFH'\n",
      "'MFIN'\n",
      "'MFNC'\n",
      "'MGEE'\n",
      "'MGI'\n",
      "'MGIC'\n"
     ]
    },
    {
     "name": "stderr",
     "output_type": "stream",
     "text": [
      "sleep 3 seconds and retrying https://data.alpaca.markets/v1/bars/day 3 more time(s)...\n"
     ]
    },
    {
     "name": "stdout",
     "output_type": "stream",
     "text": [
      "'MGLN'\n",
      "'MGNI'\n",
      "'MGNX'\n",
      "'MGPI'\n",
      "'MGRC'\n",
      "'MGTA'\n",
      "'MGTX'\n",
      "'MGYR'\n",
      "'MHLD'\n",
      "'MICT'\n",
      "'MIDD'\n",
      "'MILE'\n"
     ]
    },
    {
     "name": "stderr",
     "output_type": "stream",
     "text": [
      "sleep 3 seconds and retrying https://data.alpaca.markets/v1/bars/day 3 more time(s)...\n"
     ]
    },
    {
     "name": "stdout",
     "output_type": "stream",
     "text": [
      "'MILEW'\n",
      "'MILN'\n",
      "'MIME'\n",
      "'MIND'\n",
      "'MINDP'\n",
      "'MINM'\n",
      "'MIRM'\n",
      "'MIRO'\n",
      "'MIST'\n",
      "'MITA'\n",
      "'MITAU'\n",
      "'MITAW'\n",
      "'MITC'\n"
     ]
    },
    {
     "name": "stderr",
     "output_type": "stream",
     "text": [
      "sleep 3 seconds and retrying https://data.alpaca.markets/v1/bars/day 3 more time(s)...\n"
     ]
    },
    {
     "name": "stdout",
     "output_type": "stream",
     "text": [
      "'MITK'\n",
      "'MITO'\n",
      "'MKD'\n",
      "'MKSI'\n",
      "'MKTW'\n",
      "'MKTWW'\n",
      "'MKTX'\n",
      "'MKTY'\n",
      "'MKTYP'\n",
      "'MLAB'\n",
      "'MLAC'\n",
      "'MLACU'\n",
      "'MLACW'\n"
     ]
    },
    {
     "name": "stderr",
     "output_type": "stream",
     "text": [
      "sleep 3 seconds and retrying https://data.alpaca.markets/v1/bars/day 3 more time(s)...\n"
     ]
    },
    {
     "name": "stdout",
     "output_type": "stream",
     "text": [
      "'MLCO'\n",
      "'MLHR'\n",
      "'MLVF'\n",
      "'MMAC'\n",
      "'MMAT'\n",
      "'MMLP'\n",
      "'MMMB'\n",
      "'MMSI'\n",
      "'MMYT'\n",
      "'MNDO'\n",
      "'MNDY'\n",
      "'MNKD'\n",
      "'MNMD'\n"
     ]
    },
    {
     "name": "stderr",
     "output_type": "stream",
     "text": [
      "sleep 3 seconds and retrying https://data.alpaca.markets/v1/bars/day 3 more time(s)...\n"
     ]
    },
    {
     "name": "stdout",
     "output_type": "stream",
     "text": [
      "'MNOV'\n",
      "'MNPR'\n",
      "'MNRO'\n",
      "'MNSB'\n",
      "'MNSBP'\n",
      "'MNST'\n",
      "'MNTK'\n",
      "'MNTS'\n",
      "'MNTSW'\n",
      "'MNTV'\n",
      "'MNTX'\n",
      "'MODV'\n",
      "'MOFG'\n",
      "'MOGO'\n",
      "'MOHO'\n",
      "'MOLN'\n"
     ]
    },
    {
     "name": "stderr",
     "output_type": "stream",
     "text": [
      "sleep 3 seconds and retrying https://data.alpaca.markets/v1/bars/day 3 more time(s)...\n"
     ]
    },
    {
     "name": "stdout",
     "output_type": "stream",
     "text": [
      "'MOMO'\n",
      "'MON'\n",
      "'MONCU'\n",
      "'MONCW'\n",
      "'MOR'\n",
      "'MORF'\n",
      "'MORN'\n",
      "'MOSY'\n",
      "'MOTN'\n",
      "'MOTNU'\n",
      "'MOTNW'\n",
      "'MOTS'\n",
      "'MOVE'\n",
      "'MOXC'\n",
      "'MPAA'\n"
     ]
    },
    {
     "name": "stderr",
     "output_type": "stream",
     "text": [
      "sleep 3 seconds and retrying https://data.alpaca.markets/v1/bars/day 3 more time(s)...\n"
     ]
    },
    {
     "name": "stdout",
     "output_type": "stream",
     "text": [
      "'MPAC'\n",
      "'MPACR'\n",
      "'MPACU'\n",
      "'MPACW'\n",
      "'MPB'\n",
      "'MPWR'\n",
      "'MQ'\n",
      "'MRAC'\n",
      "'MRACU'\n",
      "'MRACW'\n",
      "'MRAM'\n",
      "'MRBK'\n"
     ]
    },
    {
     "name": "stderr",
     "output_type": "stream",
     "text": [
      "sleep 3 seconds and retrying https://data.alpaca.markets/v1/bars/day 3 more time(s)...\n"
     ]
    },
    {
     "name": "stdout",
     "output_type": "stream",
     "text": [
      "'MRCC'\n",
      "'MRCY'\n",
      "'MREO'\n",
      "'MRIN'\n",
      "'MRKR'\n",
      "'MRLN'\n",
      "'MRM'\n",
      "'MRNA'\n",
      "'MRNS'\n",
      "'MRSN'\n",
      "'MRTN'\n",
      "'MRTX'\n",
      "'MRUS'\n"
     ]
    },
    {
     "name": "stderr",
     "output_type": "stream",
     "text": [
      "sleep 3 seconds and retrying https://data.alpaca.markets/v1/bars/day 3 more time(s)...\n"
     ]
    },
    {
     "name": "stdout",
     "output_type": "stream",
     "text": [
      "'MRVI'\n",
      "'MRVL'\n",
      "'MSAC'\n",
      "'MSACW'\n",
      "'MSBI'\n",
      "'MSDA'\n",
      "'MSDAU'\n",
      "'MSDAW'\n",
      "'MSEX'\n",
      "'MSFT'\n",
      "'MSGM'\n",
      "'MSON'\n",
      "'MSTR'\n",
      "'MSVB'\n",
      "'MTAC'\n",
      "'MTACU'\n"
     ]
    },
    {
     "name": "stderr",
     "output_type": "stream",
     "text": [
      "sleep 3 seconds and retrying https://data.alpaca.markets/v1/bars/day 3 more time(s)...\n"
     ]
    },
    {
     "name": "stdout",
     "output_type": "stream",
     "text": [
      "'MTACW'\n",
      "'MTBC'\n",
      "'MTBCP'\n",
      "'MTC'\n",
      "'MTCH'\n",
      "'MTCR'\n",
      "'MTEM'\n",
      "'MTEX'\n",
      "'MTLS'\n",
      "'MTP'\n",
      "'MTRX'\n",
      "'MTSI'\n"
     ]
    },
    {
     "name": "stderr",
     "output_type": "stream",
     "text": [
      "sleep 3 seconds and retrying https://data.alpaca.markets/v1/bars/day 3 more time(s)...\n"
     ]
    },
    {
     "name": "stdout",
     "output_type": "stream",
     "text": [
      "'MTTR'\n",
      "'MTTRW'\n",
      "'MU'\n",
      "'MUDS'\n",
      "'MUDSU'\n",
      "'MUDSW'\n",
      "'MVBF'\n",
      "'MVIS'\n",
      "'MVST'\n",
      "'MVSTW'\n",
      "'MXCT'\n",
      "'MXIM'\n",
      "'MYFW'\n",
      "'MYGN'\n"
     ]
    },
    {
     "name": "stderr",
     "output_type": "stream",
     "text": [
      "sleep 3 seconds and retrying https://data.alpaca.markets/v1/bars/day 3 more time(s)...\n"
     ]
    },
    {
     "name": "stdout",
     "output_type": "stream",
     "text": [
      "'MYMD'\n",
      "'MYPS'\n",
      "'MYPSW'\n",
      "'MYRG'\n",
      "'MYSZ'\n",
      "'NAAC'\n",
      "'NAACU'\n",
      "'NAACW'\n",
      "'NAII'\n",
      "'NAKD'\n",
      "'NAOV'\n"
     ]
    },
    {
     "name": "stderr",
     "output_type": "stream",
     "text": [
      "sleep 3 seconds and retrying https://data.alpaca.markets/v1/bars/day 3 more time(s)...\n"
     ]
    },
    {
     "name": "stdout",
     "output_type": "stream",
     "text": [
      "'NARI'\n",
      "'NATH'\n",
      "'NATI'\n",
      "'NATR'\n",
      "'NAUT'\n",
      "'NAVI'\n",
      "'NBEV'\n",
      "'NBIX'\n",
      "'NBN'\n",
      "'NBRV'\n",
      "'NBSE'\n",
      "'NBST'\n",
      "'NBSTU'\n",
      "'NBSTW'\n",
      "'NBTB'\n"
     ]
    },
    {
     "name": "stderr",
     "output_type": "stream",
     "text": [
      "sleep 3 seconds and retrying https://data.alpaca.markets/v1/bars/day 3 more time(s)...\n"
     ]
    },
    {
     "name": "stdout",
     "output_type": "stream",
     "text": [
      "'NBTX'\n",
      "'NCBS'\n",
      "'NCMI'\n",
      "'NCNA'\n",
      "'NCNO'\n",
      "'NCSM'\n",
      "'NCTY'\n",
      "'NDAC'\n",
      "'NDACU'\n",
      "'NDACW'\n",
      "'NDAQ'\n",
      "'NDLS'\n",
      "'NDRA'\n",
      "'NDRAW'\n",
      "'NDSN'\n",
      "'NECB'\n",
      "'NEGG'\n",
      "'NEO'\n",
      "'NEOG'\n"
     ]
    },
    {
     "name": "stderr",
     "output_type": "stream",
     "text": [
      "sleep 3 seconds and retrying https://data.alpaca.markets/v1/bars/day 3 more time(s)...\n"
     ]
    },
    {
     "name": "stdout",
     "output_type": "stream",
     "text": [
      "'NEON'\n",
      "'NEPH'\n",
      "'NEPT'\n",
      "'NERV'\n",
      "'NESR'\n",
      "'NESRW'\n",
      "'NETE'\n",
      "'NEWT'\n",
      "'NEWTL'\n",
      "'NEWTZ'\n",
      "'NEXI'\n",
      "'NEXT'\n"
     ]
    },
    {
     "name": "stderr",
     "output_type": "stream",
     "text": [
      "sleep 3 seconds and retrying https://data.alpaca.markets/v1/bars/day 3 more time(s)...\n"
     ]
    },
    {
     "name": "stdout",
     "output_type": "stream",
     "text": [
      "'NFBK'\n",
      "'NFE'\n",
      "'NFLX'\n",
      "'NFTY'\n",
      "'NGAC'\n",
      "'NGACU'\n",
      "'NGACW'\n",
      "'NGCA'\n",
      "'NGCAU'\n",
      "'NGCAW'\n",
      "'NGM'\n",
      "'NGMS'\n",
      "'NH'\n",
      "'NHTC'\n"
     ]
    },
    {
     "name": "stderr",
     "output_type": "stream",
     "text": [
      "sleep 3 seconds and retrying https://data.alpaca.markets/v1/bars/day 3 more time(s)...\n"
     ]
    },
    {
     "name": "stdout",
     "output_type": "stream",
     "text": [
      "'NICE'\n",
      "'NICK'\n",
      "'NISN'\n",
      "'NIU'\n",
      "'NKLA'\n",
      "'NKSH'\n",
      "'NKTR'\n",
      "'NKTX'\n",
      "'NLIT'\n",
      "'NLITU'\n",
      "'NLITW'\n",
      "'NLOK'\n",
      "'NLSP'\n"
     ]
    },
    {
     "name": "stderr",
     "output_type": "stream",
     "text": [
      "sleep 3 seconds and retrying https://data.alpaca.markets/v1/bars/day 3 more time(s)...\n"
     ]
    },
    {
     "name": "stdout",
     "output_type": "stream",
     "text": [
      "'NLSPW'\n",
      "'NLTX'\n",
      "'NMFC'\n",
      "'NMIH'\n",
      "'NMMC'\n",
      "'NMMCU'\n",
      "'NMMCW'\n",
      "'NMRD'\n",
      "'NMRK'\n",
      "'NMTC'\n",
      "'NMTR'\n",
      "'NNBR'\n"
     ]
    },
    {
     "name": "stderr",
     "output_type": "stream",
     "text": [
      "sleep 3 seconds and retrying https://data.alpaca.markets/v1/bars/day 3 more time(s)...\n"
     ]
    },
    {
     "name": "stdout",
     "output_type": "stream",
     "text": [
      "'NNDM'\n",
      "'NNOX'\n",
      "'NOAC'\n",
      "'NOACU'\n",
      "'NOACW'\n",
      "'NODK'\n",
      "'NOTV'\n",
      "'NOVN'\n",
      "'NOVT'\n",
      "'NOVVU'\n",
      "'NPCE'\n",
      "'NRAC'\n",
      "'NRACU'\n",
      "'NRACW'\n",
      "'NRBO'\n",
      "'NRC'\n",
      "'NRIM'\n",
      "'NRIX'\n",
      "'NRXP'\n",
      "'NRXPW'\n"
     ]
    },
    {
     "name": "stderr",
     "output_type": "stream",
     "text": [
      "sleep 3 seconds and retrying https://data.alpaca.markets/v1/bars/day 3 more time(s)...\n"
     ]
    },
    {
     "name": "stdout",
     "output_type": "stream",
     "text": [
      "'NSEC'\n",
      "'NSIT'\n",
      "'NSPR'\n",
      "'NSPRZ'\n",
      "'NSSC'\n",
      "'NSTG'\n",
      "'NSYS'\n",
      "'NTAP'\n",
      "'NTCT'\n",
      "'NTEC'\n",
      "'NTES'\n",
      "'NTGR'\n",
      "'NTIC'\n",
      "'NTLA'\n",
      "'NTNX'\n"
     ]
    },
    {
     "name": "stderr",
     "output_type": "stream",
     "text": [
      "sleep 3 seconds and retrying https://data.alpaca.markets/v1/bars/day 3 more time(s)...\n"
     ]
    },
    {
     "name": "stdout",
     "output_type": "stream",
     "text": [
      "'NTRA'\n",
      "'NTRS'\n",
      "'NTRSO'\n",
      "'NTUS'\n",
      "'NTWK'\n",
      "'NUAN'\n",
      "'NURO'\n",
      "'NUVA'\n",
      "'NUVL'\n",
      "'NUWE'\n",
      "'NUZE'\n",
      "'NVAX'\n",
      "'NVCN'\n"
     ]
    },
    {
     "name": "stderr",
     "output_type": "stream",
     "text": [
      "sleep 3 seconds and retrying https://data.alpaca.markets/v1/bars/day 3 more time(s)...\n"
     ]
    },
    {
     "name": "stdout",
     "output_type": "stream",
     "text": [
      "'NVCR'\n",
      "'NVDA'\n",
      "'NVEC'\n",
      "'NVEE'\n",
      "'NVFY'\n",
      "'NVIV'\n",
      "'NVMI'\n",
      "'NVOS'\n",
      "'NVSA'\n",
      "'NVSAU'\n",
      "'NVSAW'\n",
      "'NVVE'\n",
      "'NVVEW'\n"
     ]
    },
    {
     "name": "stderr",
     "output_type": "stream",
     "text": [
      "sleep 3 seconds and retrying https://data.alpaca.markets/v1/bars/day 3 more time(s)...\n"
     ]
    },
    {
     "name": "stdout",
     "output_type": "stream",
     "text": [
      "'NWBI'\n",
      "'NWE'\n",
      "'NWFL'\n",
      "'NWL'\n",
      "'NWLI'\n",
      "'NWPX'\n",
      "'NWS'\n",
      "'NWSA'\n",
      "'NXGN'\n",
      "'NXPI'\n",
      "'NXST'\n",
      "'NXTC'\n",
      "'NXTD'\n"
     ]
    },
    {
     "name": "stderr",
     "output_type": "stream",
     "text": [
      "sleep 3 seconds and retrying https://data.alpaca.markets/v1/bars/day 3 more time(s)...\n"
     ]
    },
    {
     "name": "stdout",
     "output_type": "stream",
     "text": [
      "'NXTG'\n",
      "'NXTP'\n",
      "'NYMT'\n",
      "'NYMTL'\n",
      "'NYMTM'\n",
      "'NYMTN'\n",
      "'NYMTP'\n",
      "'NYMX'\n",
      "'NYXH'\n",
      "'OAS'\n",
      "'OB'\n",
      "'OBAS'\n",
      "'OBCI'\n",
      "'OBLG'\n",
      "'OBNK'\n"
     ]
    },
    {
     "name": "stderr",
     "output_type": "stream",
     "text": [
      "sleep 3 seconds and retrying https://data.alpaca.markets/v1/bars/day 3 more time(s)...\n"
     ]
    },
    {
     "name": "stdout",
     "output_type": "stream",
     "text": [
      "'OBSV'\n",
      "'OBT'\n",
      "'OCAX'\n",
      "'OCAXU'\n",
      "'OCAXW'\n",
      "'OCC'\n",
      "'OCCI'\n",
      "'OCCIO'\n",
      "'OCCIP'\n",
      "'OCDX'\n",
      "'OCFC'\n",
      "'OCFCP'\n",
      "'OCG'\n"
     ]
    },
    {
     "name": "stderr",
     "output_type": "stream",
     "text": [
      "sleep 3 seconds and retrying https://data.alpaca.markets/v1/bars/day 3 more time(s)...\n"
     ]
    },
    {
     "name": "stdout",
     "output_type": "stream",
     "text": [
      "'OCGN'\n",
      "'OCSL'\n",
      "'OCUL'\n",
      "'OCUP'\n",
      "'OCX'\n",
      "'ODFL'\n",
      "'ODP'\n",
      "'ODT'\n",
      "'OEG'\n",
      "'OEPW'\n",
      "'OEPWU'\n",
      "'OEPWW'\n",
      "'OESX'\n",
      "'OFED'\n"
     ]
    },
    {
     "name": "stderr",
     "output_type": "stream",
     "text": [
      "sleep 3 seconds and retrying https://data.alpaca.markets/v1/bars/day 3 more time(s)...\n"
     ]
    },
    {
     "name": "stdout",
     "output_type": "stream",
     "text": [
      "'OFIX'\n",
      "'OFLX'\n",
      "'OFS'\n",
      "'OFSSG'\n",
      "'OFSSI'\n",
      "'OGI'\n",
      "'OHPA'\n",
      "'OHPAU'\n",
      "'OHPAW'\n",
      "'OIIM'\n",
      "'OKTA'\n",
      "'OLB'\n",
      "'OLD'\n"
     ]
    },
    {
     "name": "stderr",
     "output_type": "stream",
     "text": [
      "sleep 3 seconds and retrying https://data.alpaca.markets/v1/bars/day 3 more time(s)...\n"
     ]
    },
    {
     "name": "stdout",
     "output_type": "stream",
     "text": [
      "'OLED'\n",
      "'OLK'\n",
      "'OLLI'\n",
      "'OLMA'\n",
      "'OM'\n",
      "'OMAB'\n",
      "'OMCL'\n",
      "'OMEG'\n",
      "'OMER'\n",
      "'OMEX'\n",
      "'OMGA'\n",
      "'OMIC'\n",
      "'OMP'\n",
      "'ON'\n",
      "'ONB'\n",
      "'ONCR'\n",
      "'ONCS'\n",
      "'ONCT'\n"
     ]
    },
    {
     "name": "stderr",
     "output_type": "stream",
     "text": [
      "sleep 3 seconds and retrying https://data.alpaca.markets/v1/bars/day 3 more time(s)...\n"
     ]
    },
    {
     "name": "stdout",
     "output_type": "stream",
     "text": [
      "'ONCY'\n",
      "'ONDS'\n",
      "'ONEM'\n",
      "'ONEQ'\n",
      "'ONEW'\n",
      "'ONTX'\n",
      "'ONVO'\n",
      "'OPBK'\n",
      "'OPCH'\n",
      "'OPEN'\n",
      "'OPGN'\n",
      "'OPHC'\n"
     ]
    },
    {
     "name": "stderr",
     "output_type": "stream",
     "text": [
      "sleep 3 seconds and retrying https://data.alpaca.markets/v1/bars/day 3 more time(s)...\n"
     ]
    },
    {
     "name": "stdout",
     "output_type": "stream",
     "text": [
      "'OPI'\n",
      "'OPINL'\n",
      "'OPK'\n",
      "'OPNT'\n",
      "'OPOF'\n",
      "'OPRA'\n",
      "'OPRT'\n",
      "'OPRX'\n",
      "'OPT'\n",
      "'OPTN'\n",
      "'ORBC'\n",
      "'ORGN'\n",
      "'ORGNW'\n"
     ]
    },
    {
     "name": "stderr",
     "output_type": "stream",
     "text": [
      "sleep 3 seconds and retrying https://data.alpaca.markets/v1/bars/day 3 more time(s)...\n"
     ]
    },
    {
     "name": "stdout",
     "output_type": "stream",
     "text": [
      "'ORGO'\n",
      "'ORGS'\n",
      "'ORIA'\n",
      "'ORIAU'\n",
      "'ORIAW'\n",
      "'ORIC'\n",
      "'ORLY'\n",
      "'ORMP'\n",
      "'ORPH'\n",
      "'ORRF'\n",
      "'ORTX'\n",
      "'OSAT'\n",
      "'OSATW'\n"
     ]
    },
    {
     "name": "stderr",
     "output_type": "stream",
     "text": [
      "sleep 3 seconds and retrying https://data.alpaca.markets/v1/bars/day 3 more time(s)...\n"
     ]
    },
    {
     "name": "stdout",
     "output_type": "stream",
     "text": [
      "'OSBC'\n",
      "'OSIS'\n",
      "'OSMT'\n",
      "'OSN'\n",
      "'OSPN'\n",
      "'OSS'\n",
      "'OSTK'\n",
      "'OSTR'\n",
      "'OSTRU'\n",
      "'OSTRW'\n",
      "'OSUR'\n"
     ]
    },
    {
     "name": "stderr",
     "output_type": "stream",
     "text": [
      "sleep 3 seconds and retrying https://data.alpaca.markets/v1/bars/day 3 more time(s)...\n"
     ]
    },
    {
     "name": "stdout",
     "output_type": "stream",
     "text": [
      "'OSW'\n",
      "'OTEC'\n",
      "'OTECU'\n",
      "'OTECW'\n",
      "'OTEX'\n",
      "'OTIC'\n",
      "'OTLK'\n",
      "'OTLKW'\n",
      "'OTLY'\n",
      "'OTMO'\n",
      "'OTMOW'\n",
      "'OTRA'\n",
      "'OTRAU'\n",
      "'OTRAW'\n",
      "'OTRK'\n",
      "'OTRKP'\n",
      "'OTTR'\n",
      "'OVBC'\n",
      "'OVID'\n",
      "'OVLY'\n",
      "'OXACU'\n",
      "'OXBR'\n",
      "'OXBRW'\n",
      "'OXLC'\n",
      "'OXLCL'\n"
     ]
    },
    {
     "name": "stderr",
     "output_type": "stream",
     "text": [
      "sleep 3 seconds and retrying https://data.alpaca.markets/v1/bars/day 3 more time(s)...\n"
     ]
    },
    {
     "name": "stdout",
     "output_type": "stream",
     "text": [
      "'OXLCM'\n",
      "'OXLCO'\n",
      "'OXLCP'\n",
      "'OXSQ'\n",
      "'OXSQG'\n",
      "'OXSQL'\n",
      "'OXSQZ'\n",
      "'OYST'\n",
      "'OZK'\n",
      "'OZON'\n",
      "'PAA'\n",
      "'PAAS'\n",
      "'PACB'\n"
     ]
    },
    {
     "name": "stderr",
     "output_type": "stream",
     "text": [
      "sleep 3 seconds and retrying https://data.alpaca.markets/v1/bars/day 3 more time(s)...\n"
     ]
    },
    {
     "name": "stdout",
     "output_type": "stream",
     "text": [
      "'PACW'\n",
      "'PACX'\n",
      "'PACXU'\n",
      "'PACXW'\n",
      "'PAE'\n",
      "'PAEWW'\n",
      "'PAGP'\n",
      "'PAHC'\n",
      "'PAIC'\n",
      "'PAICU'\n",
      "'PAICW'\n",
      "'PALI'\n",
      "'PALT'\n"
     ]
    },
    {
     "name": "stderr",
     "output_type": "stream",
     "text": [
      "sleep 3 seconds and retrying https://data.alpaca.markets/v1/bars/day 3 more time(s)...\n"
     ]
    },
    {
     "name": "stdout",
     "output_type": "stream",
     "text": [
      "'PANA'\n",
      "'PANL'\n",
      "'PAQC'\n",
      "'PAQCU'\n",
      "'PAQCW'\n",
      "'PASG'\n",
      "'PATI'\n",
      "'PATK'\n",
      "'PAVM'\n",
      "'PAVMW'\n",
      "'PAVMZ'\n",
      "'PAX'\n"
     ]
    },
    {
     "name": "stderr",
     "output_type": "stream",
     "text": [
      "sleep 3 seconds and retrying https://data.alpaca.markets/v1/bars/day 3 more time(s)...\n"
     ]
    },
    {
     "name": "stdout",
     "output_type": "stream",
     "text": [
      "'PAYA'\n",
      "'PAYAW'\n",
      "'PAYO'\n",
      "'PAYOW'\n",
      "'PAYS'\n",
      "'PAYX'\n",
      "'PBBK'\n",
      "'PBCT'\n",
      "'PBCTP'\n",
      "'PBFS'\n",
      "'PBHC'\n",
      "'PBIP'\n",
      "'PBLA'\n"
     ]
    },
    {
     "name": "stderr",
     "output_type": "stream",
     "text": [
      "sleep 3 seconds and retrying https://data.alpaca.markets/v1/bars/day 3 more time(s)...\n"
     ]
    },
    {
     "name": "stdout",
     "output_type": "stream",
     "text": [
      "'PBPB'\n",
      "'PBTS'\n",
      "'PBYI'\n",
      "'PCAR'\n",
      "'PCB'\n",
      "'PCH'\n",
      "'PCOM'\n",
      "'PCRX'\n",
      "'PCSA'\n",
      "'PCSB'\n",
      "'PCT'\n",
      "'PCTI'\n",
      "'PCTTU'\n",
      "'PCTTW'\n",
      "'PCTY'\n",
      "'PCVX'\n",
      "'PCYG'\n"
     ]
    },
    {
     "name": "stderr",
     "output_type": "stream",
     "text": [
      "sleep 3 seconds and retrying https://data.alpaca.markets/v1/bars/day 3 more time(s)...\n"
     ]
    },
    {
     "name": "stdout",
     "output_type": "stream",
     "text": [
      "'PCYO'\n",
      "'PDBC'\n",
      "'PDCE'\n",
      "'PDCO'\n",
      "'PDD'\n",
      "'PDEV'\n",
      "'PDEX'\n",
      "'PDFS'\n",
      "'PDLB'\n",
      "'PDP'\n",
      "'PDSB'\n",
      "'PEBK'\n",
      "'PEBO'\n"
     ]
    },
    {
     "name": "stderr",
     "output_type": "stream",
     "text": [
      "sleep 3 seconds and retrying https://data.alpaca.markets/v1/bars/day 3 more time(s)...\n"
     ]
    },
    {
     "name": "stdout",
     "output_type": "stream",
     "text": [
      "'PECO'\n",
      "'PEGA'\n",
      "'PENN'\n",
      "'PEP'\n",
      "'PERI'\n",
      "'PESI'\n",
      "'PETQ'\n",
      "'PETS'\n",
      "'PETV'\n",
      "'PETVW'\n",
      "'PETZ'\n",
      "'PEY'\n",
      "'PEZ'\n"
     ]
    },
    {
     "name": "stderr",
     "output_type": "stream",
     "text": [
      "sleep 3 seconds and retrying https://data.alpaca.markets/v1/bars/day 3 more time(s)...\n"
     ]
    },
    {
     "name": "stdout",
     "output_type": "stream",
     "text": [
      "'PFBC'\n",
      "'PFBI'\n",
      "'PFC'\n",
      "'PFDR'\n",
      "'PFDRU'\n",
      "'PFDRW'\n",
      "'PFF'\n",
      "'PFG'\n",
      "'PFHD'\n",
      "'PFI'\n",
      "'PFIE'\n",
      "'PFIN'\n",
      "'PFIS'\n"
     ]
    },
    {
     "name": "stderr",
     "output_type": "stream",
     "text": [
      "sleep 3 seconds and retrying https://data.alpaca.markets/v1/bars/day 3 more time(s)...\n"
     ]
    },
    {
     "name": "stdout",
     "output_type": "stream",
     "text": [
      "'PFLT'\n",
      "'PFM'\n",
      "'PFMT'\n",
      "'PFPT'\n",
      "'PFSW'\n",
      "'PFTAU'\n",
      "'PFX'\n",
      "'PFXNL'\n",
      "'PGC'\n",
      "'PGEN'\n",
      "'PGJ'\n",
      "'PGNY'\n",
      "'PGRW'\n",
      "'PGRWU'\n",
      "'PGRWW'\n"
     ]
    },
    {
     "name": "stderr",
     "output_type": "stream",
     "text": [
      "sleep 3 seconds and retrying https://data.alpaca.markets/v1/bars/day 3 more time(s)...\n"
     ]
    },
    {
     "name": "stdout",
     "output_type": "stream",
     "text": [
      "'PHAR'\n",
      "'PHAS'\n",
      "'PHAT'\n",
      "'PHCF'\n",
      "'PHIC'\n",
      "'PHICU'\n",
      "'PHICW'\n",
      "'PHIO'\n",
      "'PHIOW'\n",
      "'PHO'\n",
      "'PHUN'\n",
      "'PHUNW'\n"
     ]
    },
    {
     "name": "stderr",
     "output_type": "stream",
     "text": [
      "sleep 3 seconds and retrying https://data.alpaca.markets/v1/bars/day 3 more time(s)...\n"
     ]
    },
    {
     "name": "stdout",
     "output_type": "stream",
     "text": [
      "'PHVS'\n",
      "'PI'\n",
      "'PID'\n",
      "'PIE'\n",
      "'PINC'\n",
      "'PIO'\n",
      "'PIRS'\n",
      "'PIXY'\n",
      "'PIZ'\n",
      "'PKBK'\n",
      "'PKOH'\n",
      "'PKW'\n",
      "'PLAB'\n",
      "'PLAY'\n"
     ]
    },
    {
     "name": "stderr",
     "output_type": "stream",
     "text": [
      "sleep 3 seconds and retrying https://data.alpaca.markets/v1/bars/day 3 more time(s)...\n"
     ]
    },
    {
     "name": "stdout",
     "output_type": "stream",
     "text": [
      "'PLBC'\n",
      "'PLBY'\n",
      "'PLCE'\n",
      "'PLIN'\n",
      "'PLL'\n",
      "'PLMI'\n",
      "'PLMIU'\n",
      "'PLMIW'\n",
      "'PLMR'\n",
      "'PLPC'\n",
      "'PLRX'\n",
      "'PLSE'\n",
      "'PLTK'\n"
     ]
    },
    {
     "name": "stderr",
     "output_type": "stream",
     "text": [
      "sleep 3 seconds and retrying https://data.alpaca.markets/v1/bars/day 3 more time(s)...\n"
     ]
    },
    {
     "name": "stdout",
     "output_type": "stream",
     "text": [
      "'PLUG'\n",
      "'PLUS'\n",
      "'PLW'\n",
      "'PLXP'\n",
      "'PLXS'\n",
      "'PLYA'\n",
      "'PMBC'\n",
      "'PMCB'\n",
      "'PMD'\n",
      "'PME'\n",
      "'PMGM'\n",
      "'PMGMU'\n",
      "'PMGMW'\n",
      "'PMTS'\n"
     ]
    },
    {
     "name": "stderr",
     "output_type": "stream",
     "text": [
      "sleep 3 seconds and retrying https://data.alpaca.markets/v1/bars/day 3 more time(s)...\n"
     ]
    },
    {
     "name": "stdout",
     "output_type": "stream",
     "text": [
      "'PMVP'\n",
      "'PNBK'\n",
      "'PNFP'\n",
      "'PNFPP'\n",
      "'PNNT'\n",
      "'PNNTG'\n",
      "'PNQI'\n",
      "'PNRG'\n",
      "'PNT'\n",
      "'PNTG'\n",
      "'POAI'\n",
      "'PODD'\n",
      "'POLA'\n",
      "'PONOU'\n",
      "'POOL'\n",
      "'POSH'\n",
      "'POTX'\n"
     ]
    },
    {
     "name": "stderr",
     "output_type": "stream",
     "text": [
      "sleep 3 seconds and retrying https://data.alpaca.markets/v1/bars/day 3 more time(s)...\n"
     ]
    },
    {
     "name": "stdout",
     "output_type": "stream",
     "text": [
      "'POW'\n",
      "'POWI'\n",
      "'POWL'\n",
      "'POWRU'\n",
      "'POWRW'\n",
      "'POWW'\n",
      "'POWWP'\n",
      "'PPBI'\n",
      "'PPBT'\n",
      "'PPC'\n",
      "'PPD'\n",
      "'PPGH'\n"
     ]
    },
    {
     "name": "stderr",
     "output_type": "stream",
     "text": [
      "sleep 3 seconds and retrying https://data.alpaca.markets/v1/bars/day 3 more time(s)...\n"
     ]
    },
    {
     "name": "stdout",
     "output_type": "stream",
     "text": [
      "'PPGHU'\n",
      "'PPGHW'\n",
      "'PPH'\n",
      "'PPHPU'\n",
      "'PPIH'\n",
      "'PPSI'\n",
      "'PPTA'\n",
      "'PRAA'\n",
      "'PRAX'\n",
      "'PRCH'\n",
      "'PRDO'\n",
      "'PRFT'\n",
      "'PRFX'\n",
      "'PRFZ'\n"
     ]
    },
    {
     "name": "stderr",
     "output_type": "stream",
     "text": [
      "sleep 3 seconds and retrying https://data.alpaca.markets/v1/bars/day 3 more time(s)...\n"
     ]
    },
    {
     "name": "stdout",
     "output_type": "stream",
     "text": [
      "'PRGS'\n",
      "'PRIM'\n",
      "'PRLD'\n",
      "'PRN'\n",
      "'PROF'\n",
      "'PROG'\n",
      "'PROV'\n",
      "'PRPH'\n",
      "'PRPL'\n",
      "'PRPO'\n",
      "'PRQR'\n",
      "'PRSR'\n",
      "'PRSRU'\n"
     ]
    },
    {
     "name": "stderr",
     "output_type": "stream",
     "text": [
      "sleep 3 seconds and retrying https://data.alpaca.markets/v1/bars/day 3 more time(s)...\n"
     ]
    },
    {
     "name": "stdout",
     "output_type": "stream",
     "text": [
      "'PRSRW'\n",
      "'PRTA'\n",
      "'PRTC'\n",
      "'PRTG'\n",
      "'PRTH'\n",
      "'PRTK'\n",
      "'PRTS'\n",
      "'PRVA'\n",
      "'PRVB'\n",
      "'PSAG'\n",
      "'PSAGU'\n",
      "'PSAGW'\n"
     ]
    },
    {
     "name": "stderr",
     "output_type": "stream",
     "text": [
      "sleep 3 seconds and retrying https://data.alpaca.markets/v1/bars/day 3 more time(s)...\n"
     ]
    },
    {
     "name": "stdout",
     "output_type": "stream",
     "text": [
      "'PSC'\n",
      "'PSCC'\n",
      "'PSCD'\n",
      "'PSCE'\n",
      "'PSCF'\n",
      "'PSCH'\n",
      "'PSCI'\n",
      "'PSCM'\n",
      "'PSCT'\n",
      "'PSCU'\n",
      "'PSEC'\n",
      "'PSET'\n",
      "'PSHG'\n",
      "'PSL'\n",
      "'PSMT'\n",
      "'PSNL'\n",
      "'PSTI'\n",
      "'PSTV'\n",
      "'PSTX'\n",
      "'PT'\n",
      "'PTC'\n",
      "'PTCT'\n",
      "'PTE'\n"
     ]
    },
    {
     "name": "stderr",
     "output_type": "stream",
     "text": [
      "sleep 3 seconds and retrying https://data.alpaca.markets/v1/bars/day 3 more time(s)...\n"
     ]
    },
    {
     "name": "stdout",
     "output_type": "stream",
     "text": [
      "'PTEN'\n",
      "'PTF'\n",
      "'PTGX'\n",
      "'PTH'\n",
      "'PTIC'\n",
      "'PTICU'\n",
      "'PTICW'\n",
      "'PTIX'\n",
      "'PTIXW'\n",
      "'PTMN'\n",
      "'PTNR'\n",
      "'PTOC'\n",
      "'PTOCU'\n",
      "'PTOCW'\n"
     ]
    },
    {
     "name": "stderr",
     "output_type": "stream",
     "text": [
      "sleep 3 seconds and retrying https://data.alpaca.markets/v1/bars/day 3 more time(s)...\n"
     ]
    },
    {
     "name": "stdout",
     "output_type": "stream",
     "text": [
      "'PTON'\n",
      "'PTPI'\n",
      "'PTRA'\n",
      "'PTRAW'\n",
      "'PTRS'\n",
      "'PTSI'\n",
      "'PTVE'\n",
      "'PUBM'\n",
      "'PUCK'\n",
      "'PUCKU'\n",
      "'PUCKW'\n",
      "'PUI'\n"
     ]
    },
    {
     "name": "stderr",
     "output_type": "stream",
     "text": [
      "sleep 3 seconds and retrying https://data.alpaca.markets/v1/bars/day 3 more time(s)...\n"
     ]
    },
    {
     "name": "stdout",
     "output_type": "stream",
     "text": [
      "'PULM'\n",
      "'PUYI'\n",
      "'PVAC'\n",
      "'PVBC'\n",
      "'PWFL'\n",
      "'PWOD'\n",
      "'PWP'\n",
      "'PWPPW'\n",
      "'PXI'\n",
      "'PXLW'\n",
      "'PXS'\n",
      "'PXSAP'\n"
     ]
    },
    {
     "name": "stderr",
     "output_type": "stream",
     "text": [
      "sleep 3 seconds and retrying https://data.alpaca.markets/v1/bars/day 3 more time(s)...\n"
     ]
    },
    {
     "name": "stdout",
     "output_type": "stream",
     "text": [
      "'PXSAW'\n",
      "'PY'\n",
      "'PYCR'\n",
      "'PYPD'\n",
      "'PYPL'\n",
      "'PYR'\n",
      "'PYZ'\n",
      "'PZZA'\n",
      "'QABA'\n",
      "'QADA'\n",
      "'QADB'\n",
      "'QAT'\n",
      "'QCLN'\n",
      "'QCLR'\n"
     ]
    },
    {
     "name": "stderr",
     "output_type": "stream",
     "text": [
      "sleep 3 seconds and retrying https://data.alpaca.markets/v1/bars/day 3 more time(s)...\n"
     ]
    },
    {
     "name": "stdout",
     "output_type": "stream",
     "text": [
      "'QCOM'\n",
      "'QCRH'\n",
      "'QDEL'\n",
      "'QELL'\n",
      "'QELLU'\n",
      "'QELLW'\n",
      "'QFIN'\n",
      "'QH'\n",
      "'QIPT'\n",
      "'QIWI'\n",
      "'QK'\n",
      "'QLGN'\n",
      "'QLI'\n",
      "'QLYS'\n",
      "'QMCO'\n"
     ]
    },
    {
     "name": "stderr",
     "output_type": "stream",
     "text": [
      "sleep 3 seconds and retrying https://data.alpaca.markets/v1/bars/day 3 more time(s)...\n"
     ]
    },
    {
     "name": "stdout",
     "output_type": "stream",
     "text": [
      "'QNST'\n",
      "'QQC'\n",
      "'QQD'\n",
      "'QQEW'\n",
      "'QQQ'\n",
      "'QQQA'\n",
      "'QQQJ'\n",
      "'QQQM'\n",
      "'QQQN'\n",
      "'QQQX'\n",
      "'QQXT'\n",
      "'QRHC'\n",
      "'QRMI'\n",
      "'QRTEA'\n",
      "'QRTEB'\n"
     ]
    },
    {
     "name": "stderr",
     "output_type": "stream",
     "text": [
      "sleep 3 seconds and retrying https://data.alpaca.markets/v1/bars/day 3 more time(s)...\n"
     ]
    },
    {
     "name": "stdout",
     "output_type": "stream",
     "text": [
      "'QRTEP'\n",
      "'QRVO'\n",
      "'QSI'\n",
      "'QSIAW'\n",
      "'QTEC'\n",
      "'QTNT'\n",
      "'QTRX'\n",
      "'QTT'\n",
      "'QUBT'\n",
      "'QUIK'\n",
      "'QUMU'\n",
      "'QURE'\n",
      "'QYLD'\n"
     ]
    },
    {
     "name": "stderr",
     "output_type": "stream",
     "text": [
      "sleep 3 seconds and retrying https://data.alpaca.markets/v1/bars/day 3 more time(s)...\n"
     ]
    },
    {
     "name": "stdout",
     "output_type": "stream",
     "text": [
      "'QYLG'\n",
      "'RACB'\n",
      "'RADA'\n",
      "'RADI'\n",
      "'RAIL'\n",
      "'RAIN'\n",
      "'RAM'\n",
      "'RAMMU'\n",
      "'RAMMW'\n",
      "'RAND'\n",
      "'RANI'\n",
      "'RAPT'\n",
      "'RARE'\n"
     ]
    },
    {
     "name": "stderr",
     "output_type": "stream",
     "text": [
      "sleep 3 seconds and retrying https://data.alpaca.markets/v1/bars/day 3 more time(s)...\n"
     ]
    },
    {
     "name": "stdout",
     "output_type": "stream",
     "text": [
      "'RAVE'\n",
      "'RAVN'\n",
      "'RBB'\n",
      "'RBBN'\n",
      "'RBCAA'\n",
      "'RBCN'\n",
      "'RBKB'\n",
      "'RBNC'\n",
      "'RCAT'\n",
      "'RCEL'\n",
      "'RCHG'\n",
      "'RCHGU'\n",
      "'RCHGW'\n",
      "'RCII'\n"
     ]
    },
    {
     "name": "stderr",
     "output_type": "stream",
     "text": [
      "sleep 3 seconds and retrying https://data.alpaca.markets/v1/bars/day 3 more time(s)...\n"
     ]
    },
    {
     "name": "stdout",
     "output_type": "stream",
     "text": [
      "'RCKT'\n",
      "'RCKY'\n",
      "'RCLF'\n",
      "'RCLFU'\n",
      "'RCLFW'\n",
      "'RCM'\n",
      "'RCMT'\n",
      "'RCON'\n",
      "'RCRT'\n",
      "'RCRTW'\n",
      "'RDCM'\n",
      "'RDFN'\n",
      "'RDHL'\n",
      "'RDI'\n"
     ]
    },
    {
     "name": "stderr",
     "output_type": "stream",
     "text": [
      "sleep 3 seconds and retrying https://data.alpaca.markets/v1/bars/day 3 more time(s)...\n"
     ]
    },
    {
     "name": "stdout",
     "output_type": "stream",
     "text": [
      "'RDIB'\n",
      "'RDNT'\n",
      "'RDUS'\n",
      "'RDVT'\n",
      "'RDVY'\n",
      "'RDWR'\n",
      "'REAL'\n",
      "'REAX'\n",
      "'REDU'\n",
      "'REE'\n",
      "'REEAW'\n",
      "'REED'\n",
      "'REFR'\n"
     ]
    },
    {
     "name": "stderr",
     "output_type": "stream",
     "text": [
      "sleep 3 seconds and retrying https://data.alpaca.markets/v1/bars/day 3 more time(s)...\n"
     ]
    },
    {
     "name": "stdout",
     "output_type": "stream",
     "text": [
      "'REG'\n",
      "'REGI'\n",
      "'REGN'\n",
      "'REIT'\n",
      "'REKR'\n",
      "'RELI'\n",
      "'RELIW'\n",
      "'RELL'\n",
      "'REPH'\n",
      "'REPL'\n",
      "'RESN'\n",
      "'RETA'\n",
      "'RETO'\n"
     ]
    },
    {
     "name": "stderr",
     "output_type": "stream",
     "text": [
      "sleep 3 seconds and retrying https://data.alpaca.markets/v1/bars/day 3 more time(s)...\n"
     ]
    },
    {
     "name": "stdout",
     "output_type": "stream",
     "text": [
      "'REVH'\n",
      "'REVHU'\n",
      "'REVHW'\n",
      "'REYN'\n",
      "'RFAP'\n",
      "'RFDI'\n",
      "'RFEM'\n",
      "'RFEU'\n",
      "'RFIL'\n",
      "'RGC'\n",
      "'RGCO'\n",
      "'RGEN'\n",
      "'RGLD'\n"
     ]
    },
    {
     "name": "stderr",
     "output_type": "stream",
     "text": [
      "sleep 3 seconds and retrying https://data.alpaca.markets/v1/bars/day 3 more time(s)...\n"
     ]
    },
    {
     "name": "stdout",
     "output_type": "stream",
     "text": [
      "'RGLS'\n",
      "'RGNX'\n",
      "'RGP'\n",
      "'RIBT'\n",
      "'RICK'\n",
      "'RICOU'\n",
      "'RIDE'\n",
      "'RIGL'\n",
      "'RILY'\n",
      "'RILYH'\n",
      "'RILYI'\n",
      "'RILYK'\n",
      "'RILYL'\n",
      "'RILYM'\n",
      "'RILYN'\n",
      "'RILYO'\n",
      "'RILYP'\n"
     ]
    },
    {
     "name": "stderr",
     "output_type": "stream",
     "text": [
      "sleep 3 seconds and retrying https://data.alpaca.markets/v1/bars/day 3 more time(s)...\n"
     ]
    },
    {
     "name": "stdout",
     "output_type": "stream",
     "text": [
      "'RILYT'\n",
      "'RILYZ'\n",
      "'RING'\n",
      "'RIOT'\n",
      "'RIVE'\n",
      "'RKDA'\n",
      "'RKLB'\n",
      "'RKLBW'\n",
      "'RLAY'\n",
      "'RLMD'\n",
      "'RLYB'\n",
      "'RMBI'\n",
      "'RMBL'\n"
     ]
    },
    {
     "name": "stderr",
     "output_type": "stream",
     "text": [
      "sleep 3 seconds and retrying https://data.alpaca.markets/v1/bars/day 3 more time(s)...\n"
     ]
    },
    {
     "name": "stdout",
     "output_type": "stream",
     "text": [
      "'RMBS'\n",
      "'RMCF'\n",
      "'RMGB'\n",
      "'RMGBU'\n",
      "'RMGBW'\n",
      "'RMGC'\n",
      "'RMGCU'\n",
      "'RMGCW'\n",
      "'RMNI'\n",
      "'RMR'\n",
      "'RMRM'\n",
      "'RMTI'\n"
     ]
    },
    {
     "name": "stderr",
     "output_type": "stream",
     "text": [
      "sleep 3 seconds and retrying https://data.alpaca.markets/v1/bars/day 3 more time(s)...\n"
     ]
    },
    {
     "name": "stdout",
     "output_type": "stream",
     "text": [
      "'RNA'\n",
      "'RNAZ'\n",
      "'RNDB'\n",
      "'RNDM'\n",
      "'RNDV'\n",
      "'RNEM'\n",
      "'RNLC'\n",
      "'RNLX'\n",
      "'RNMC'\n",
      "'RNRG'\n",
      "'RNSC'\n",
      "'RNST'\n",
      "'RNW'\n",
      "'RNWK'\n",
      "'RNWWW'\n"
     ]
    },
    {
     "name": "stderr",
     "output_type": "stream",
     "text": [
      "sleep 3 seconds and retrying https://data.alpaca.markets/v1/bars/day 3 more time(s)...\n"
     ]
    },
    {
     "name": "stdout",
     "output_type": "stream",
     "text": [
      "'RNXT'\n",
      "'ROAD'\n",
      "'ROBT'\n",
      "'ROCGU'\n",
      "'ROCK'\n",
      "'ROCR'\n",
      "'ROCRU'\n",
      "'ROCRW'\n",
      "'ROIC'\n",
      "'ROKU'\n",
      "'ROLL'\n",
      "'ROOT'\n"
     ]
    },
    {
     "name": "stderr",
     "output_type": "stream",
     "text": [
      "sleep 3 seconds and retrying https://data.alpaca.markets/v1/bars/day 3 more time(s)...\n"
     ]
    },
    {
     "name": "stdout",
     "output_type": "stream",
     "text": [
      "'ROST'\n",
      "'ROVR'\n",
      "'ROVRW'\n",
      "'RPAY'\n",
      "'RPD'\n",
      "'RPHM'\n",
      "'RPID'\n",
      "'RPRX'\n",
      "'RPTX'\n",
      "'RRBI'\n",
      "'RRGB'\n",
      "'RRR'\n",
      "'RSLS'\n",
      "'RSSS'\n",
      "'RSVR'\n",
      "'RSVRW'\n",
      "'RTH'\n",
      "'RTLR'\n",
      "'RTPY'\n",
      "'RTPYU'\n",
      "'RTPYW'\n",
      "'RUBY'\n",
      "'RUN'\n"
     ]
    },
    {
     "name": "stderr",
     "output_type": "stream",
     "text": [
      "sleep 3 seconds and retrying https://data.alpaca.markets/v1/bars/day 3 more time(s)...\n"
     ]
    },
    {
     "name": "stdout",
     "output_type": "stream",
     "text": [
      "'RUSHA'\n",
      "'RUSHB'\n",
      "'RUTH'\n",
      "'RVACU'\n",
      "'RVMD'\n",
      "'RVNC'\n",
      "'RVPH'\n",
      "'RVPHW'\n",
      "'RVSB'\n",
      "'RWLK'\n",
      "'RXDX'\n",
      "'RXRA'\n",
      "'RXRAU'\n"
     ]
    },
    {
     "name": "stderr",
     "output_type": "stream",
     "text": [
      "sleep 3 seconds and retrying https://data.alpaca.markets/v1/bars/day 3 more time(s)...\n"
     ]
    },
    {
     "name": "stdout",
     "output_type": "stream",
     "text": [
      "'RXRAW'\n",
      "'RXRX'\n",
      "'RXST'\n",
      "'RXT'\n",
      "'RYAAY'\n",
      "'RYTM'\n",
      "'RZLT'\n",
      "'SABR'\n",
      "'SABRP'\n",
      "'SAFM'\n",
      "'SAFT'\n",
      "'SAGE'\n",
      "'SAIA'\n"
     ]
    },
    {
     "name": "stderr",
     "output_type": "stream",
     "text": [
      "sleep 3 seconds and retrying https://data.alpaca.markets/v1/bars/day 3 more time(s)...\n"
     ]
    },
    {
     "name": "stdout",
     "output_type": "stream",
     "text": [
      "'SAII'\n",
      "'SAIIU'\n",
      "'SAIIW'\n",
      "'SAL'\n",
      "'SALM'\n",
      "'SAMG'\n",
      "'SANA'\n",
      "'SANM'\n",
      "'SANW'\n",
      "'SASR'\n",
      "'SATS'\n",
      "'SAVA'\n",
      "'SBAC'\n"
     ]
    },
    {
     "name": "stderr",
     "output_type": "stream",
     "text": [
      "sleep 3 seconds and retrying https://data.alpaca.markets/v1/bars/day 3 more time(s)...\n"
     ]
    },
    {
     "name": "stdout",
     "output_type": "stream",
     "text": [
      "'SBBP'\n",
      "'SBCF'\n",
      "'SBEA'\n",
      "'SBEAU'\n",
      "'SBEAW'\n",
      "'SBET'\n",
      "'SBFG'\n",
      "'SBGI'\n",
      "'SBLK'\n",
      "'SBNY'\n",
      "'SBNYP'\n",
      "'SBRA'\n",
      "'SBSI'\n"
     ]
    },
    {
     "name": "stderr",
     "output_type": "stream",
     "text": [
      "sleep 3 seconds and retrying https://data.alpaca.markets/v1/bars/day 3 more time(s)...\n"
     ]
    },
    {
     "name": "stdout",
     "output_type": "stream",
     "text": [
      "'SBT'\n",
      "'SBTX'\n",
      "'SBUX'\n",
      "'SCAQ'\n",
      "'SCAQU'\n",
      "'SCAQW'\n",
      "'SCHL'\n",
      "'SCHN'\n",
      "'SCKT'\n",
      "'SCLE'\n",
      "'SCLEU'\n",
      "'SCLEW'\n",
      "'SCOA'\n",
      "'SCOAU'\n",
      "'SCOAW'\n",
      "'SCOB'\n",
      "'SCOBU'\n"
     ]
    },
    {
     "name": "stderr",
     "output_type": "stream",
     "text": [
      "sleep 3 seconds and retrying https://data.alpaca.markets/v1/bars/day 3 more time(s)...\n"
     ]
    },
    {
     "name": "stdout",
     "output_type": "stream",
     "text": [
      "'SCOBW'\n",
      "'SCOR'\n",
      "'SCPH'\n",
      "'SCPL'\n",
      "'SCPS'\n",
      "'SCR'\n",
      "'SCSC'\n",
      "'SCVL'\n",
      "'SCWX'\n",
      "'SCYX'\n",
      "'SCZ'\n",
      "'SDAC'\n"
     ]
    },
    {
     "name": "stderr",
     "output_type": "stream",
     "text": [
      "sleep 3 seconds and retrying https://data.alpaca.markets/v1/bars/day 3 more time(s)...\n"
     ]
    },
    {
     "name": "stdout",
     "output_type": "stream",
     "text": [
      "'SDACU'\n",
      "'SDACW'\n",
      "'SDC'\n",
      "'SDG'\n",
      "'SDGR'\n",
      "'SDH'\n",
      "'SDVY'\n",
      "'SEAC'\n",
      "'SECO'\n",
      "'SEDG'\n",
      "'SEED'\n",
      "'SEEL'\n",
      "'SEER'\n",
      "'SEIC'\n",
      "'SELB'\n"
     ]
    },
    {
     "name": "stderr",
     "output_type": "stream",
     "text": [
      "sleep 3 seconds and retrying https://data.alpaca.markets/v1/bars/day 3 more time(s)...\n"
     ]
    },
    {
     "name": "stdout",
     "output_type": "stream",
     "text": [
      "'SELF'\n",
      "'SENEA'\n",
      "'SENEB'\n",
      "'SERA'\n",
      "'SESN'\n",
      "'SFBC'\n",
      "'SFET'\n",
      "'SFIX'\n",
      "'SFM'\n",
      "'SFNC'\n",
      "'SFST'\n",
      "'SFT'\n"
     ]
    },
    {
     "name": "stderr",
     "output_type": "stream",
     "text": [
      "sleep 3 seconds and retrying https://data.alpaca.markets/v1/bars/day 3 more time(s)...\n"
     ]
    },
    {
     "name": "stdout",
     "output_type": "stream",
     "text": [
      "'SGA'\n",
      "'SGAM'\n",
      "'SGAMU'\n",
      "'SGAMW'\n",
      "'SGBX'\n",
      "'SGC'\n",
      "'SGEN'\n",
      "'SGH'\n",
      "'SGHT'\n",
      "'SGLB'\n",
      "'SGLBW'\n",
      "'SGMA'\n",
      "'SGMO'\n",
      "'SGMS'\n",
      "'SGOC'\n",
      "'SGRP'\n"
     ]
    },
    {
     "name": "stderr",
     "output_type": "stream",
     "text": [
      "sleep 3 seconds and retrying https://data.alpaca.markets/v1/bars/day 3 more time(s)...\n"
     ]
    },
    {
     "name": "stdout",
     "output_type": "stream",
     "text": [
      "'SGRY'\n",
      "'SGTX'\n",
      "'SHAC'\n",
      "'SHACU'\n",
      "'SHACW'\n",
      "'SHBI'\n",
      "'SHC'\n",
      "'SHCR'\n",
      "'SHCRW'\n",
      "'SHEN'\n",
      "'SHIP'\n",
      "'SHIPW'\n"
     ]
    },
    {
     "name": "stderr",
     "output_type": "stream",
     "text": [
      "sleep 3 seconds and retrying https://data.alpaca.markets/v1/bars/day 3 more time(s)...\n"
     ]
    },
    {
     "name": "stdout",
     "output_type": "stream",
     "text": [
      "'SHIPZ'\n",
      "'SHLD'\n",
      "'SHLS'\n",
      "'SHOO'\n",
      "'SHQA'\n",
      "'SHQAU'\n",
      "'SHQAW'\n",
      "'SHSP'\n",
      "'SHV'\n",
      "'SHY'\n",
      "'SHYF'\n",
      "'SIBN'\n",
      "'SIC'\n",
      "'SIEB'\n"
     ]
    },
    {
     "name": "stderr",
     "output_type": "stream",
     "text": [
      "sleep 3 seconds and retrying https://data.alpaca.markets/v1/bars/day 3 more time(s)...\n"
     ]
    },
    {
     "name": "stdout",
     "output_type": "stream",
     "text": [
      "'SIEN'\n",
      "'SIFY'\n",
      "'SIGA'\n",
      "'SIGI'\n",
      "'SIGIP'\n",
      "'SILC'\n",
      "'SILK'\n",
      "'SIMO'\n",
      "'SINO'\n",
      "'SINT'\n",
      "'SIOX'\n",
      "'SIRI'\n"
     ]
    },
    {
     "name": "stderr",
     "output_type": "stream",
     "text": [
      "sleep 3 seconds and retrying https://data.alpaca.markets/v1/bars/day 3 more time(s)...\n"
     ]
    },
    {
     "name": "stdout",
     "output_type": "stream",
     "text": [
      "'SITM'\n",
      "'SIVB'\n",
      "'SIVBP'\n",
      "'SJ'\n",
      "'SKIN'\n",
      "'SKINW'\n",
      "'SKOR'\n",
      "'SKYA'\n",
      "'SKYAU'\n",
      "'SKYAW'\n",
      "'SKYT'\n",
      "'SKYU'\n",
      "'SKYW'\n"
     ]
    },
    {
     "name": "stderr",
     "output_type": "stream",
     "text": [
      "sleep 3 seconds and retrying https://data.alpaca.markets/v1/bars/day 3 more time(s)...\n"
     ]
    },
    {
     "name": "stdout",
     "output_type": "stream",
     "text": [
      "'SKYY'\n",
      "'SLAB'\n",
      "'SLAM'\n",
      "'SLAMU'\n",
      "'SLAMW'\n",
      "'SLCR'\n",
      "'SLCRU'\n",
      "'SLCRW'\n",
      "'SLCT'\n",
      "'SLDB'\n",
      "'SLGG'\n",
      "'SLGL'\n",
      "'SLGN'\n",
      "'SLHG'\n",
      "'SLM'\n",
      "'SLMBP'\n",
      "'SLN'\n",
      "'SLNG'\n",
      "'SLNO'\n",
      "'SLP'\n",
      "'SLQD'\n",
      "'SLRC'\n",
      "'SLRX'\n"
     ]
    },
    {
     "name": "stderr",
     "output_type": "stream",
     "text": [
      "sleep 3 seconds and retrying https://data.alpaca.markets/v1/bars/day 3 more time(s)...\n"
     ]
    },
    {
     "name": "stdout",
     "output_type": "stream",
     "text": [
      "'SLS'\n",
      "'SLVO'\n",
      "'SMBC'\n",
      "'SMBK'\n",
      "'SMCI'\n",
      "'SMCP'\n",
      "'SMED'\n",
      "'SMFR'\n",
      "'SMFRW'\n",
      "'SMH'\n",
      "'SMID'\n",
      "'SMIH'\n",
      "'SMIHU'\n"
     ]
    },
    {
     "name": "stderr",
     "output_type": "stream",
     "text": [
      "sleep 3 seconds and retrying https://data.alpaca.markets/v1/bars/day 3 more time(s)...\n"
     ]
    },
    {
     "name": "stdout",
     "output_type": "stream",
     "text": [
      "'SMIHW'\n",
      "'SMIT'\n",
      "'SMMF'\n",
      "'SMMT'\n",
      "'SMPL'\n",
      "'SMSI'\n",
      "'SMTC'\n",
      "'SMTI'\n",
      "'SNAX'\n",
      "'SNAXW'\n",
      "'SNBR'\n",
      "'SNCR'\n",
      "'SNCRL'\n"
     ]
    },
    {
     "name": "stderr",
     "output_type": "stream",
     "text": [
      "sleep 3 seconds and retrying https://data.alpaca.markets/v1/bars/day 3 more time(s)...\n"
     ]
    },
    {
     "name": "stdout",
     "output_type": "stream",
     "text": [
      "'SNCY'\n",
      "'SND'\n",
      "'SNDL'\n",
      "'SNDX'\n",
      "'SNES'\n",
      "'SNEX'\n",
      "'SNFCA'\n",
      "'SNGX'\n",
      "'SNGXW'\n",
      "'SNLN'\n",
      "'SNOA'\n",
      "'SNPO'\n",
      "'SNPS'\n"
     ]
    },
    {
     "name": "stderr",
     "output_type": "stream",
     "text": [
      "sleep 3 seconds and retrying https://data.alpaca.markets/v1/bars/day 3 more time(s)...\n"
     ]
    },
    {
     "name": "stdout",
     "output_type": "stream",
     "text": [
      "'SNPX'\n",
      "'SNRH'\n",
      "'SNRHU'\n",
      "'SNRHW'\n",
      "'SNSE'\n",
      "'SNSR'\n",
      "'SNTG'\n",
      "'SNUG'\n",
      "'SNY'\n",
      "'SOCL'\n",
      "'SOFI'\n",
      "'SOFIW'\n",
      "'SOHO'\n"
     ]
    },
    {
     "name": "stderr",
     "output_type": "stream",
     "text": [
      "sleep 3 seconds and retrying https://data.alpaca.markets/v1/bars/day 3 more time(s)...\n"
     ]
    },
    {
     "name": "stdout",
     "output_type": "stream",
     "text": [
      "'SOHOB'\n",
      "'SOHON'\n",
      "'SOHOO'\n",
      "'SOHU'\n",
      "'SOLO'\n",
      "'SOLOW'\n",
      "'SOLY'\n",
      "'SONM'\n",
      "'SONN'\n",
      "'SONO'\n",
      "'SOPH'\n",
      "'SOTK'\n",
      "'SOXQ'\n",
      "'SOXX'\n",
      "'SP'\n",
      "'SPBC'\n"
     ]
    },
    {
     "name": "stderr",
     "output_type": "stream",
     "text": [
      "sleep 3 seconds and retrying https://data.alpaca.markets/v1/bars/day 3 more time(s)...\n"
     ]
    },
    {
     "name": "stdout",
     "output_type": "stream",
     "text": [
      "'SPCB'\n",
      "'SPFI'\n",
      "'SPI'\n",
      "'SPK'\n",
      "'SPKAR'\n",
      "'SPKAU'\n",
      "'SPKB'\n",
      "'SPKBU'\n",
      "'SPKBW'\n",
      "'SPKE'\n",
      "'SPKEP'\n",
      "'SPLK'\n",
      "'SPNE'\n",
      "'SPNS'\n",
      "'SPOK'\n"
     ]
    },
    {
     "name": "stderr",
     "output_type": "stream",
     "text": [
      "sleep 3 seconds and retrying https://data.alpaca.markets/v1/bars/day 3 more time(s)...\n"
     ]
    },
    {
     "name": "stdout",
     "output_type": "stream",
     "text": [
      "'SPPI'\n",
      "'SPQQ'\n",
      "'SPRB'\n",
      "'SPRO'\n",
      "'SPRT'\n",
      "'SPRX'\n",
      "'SPSC'\n",
      "'SPT'\n",
      "'SPTK'\n",
      "'SPTKU'\n",
      "'SPTKW'\n",
      "'SPTN'\n",
      "'SPWH'\n"
     ]
    },
    {
     "name": "stderr",
     "output_type": "stream",
     "text": [
      "sleep 3 seconds and retrying https://data.alpaca.markets/v1/bars/day 3 more time(s)...\n"
     ]
    },
    {
     "name": "stdout",
     "output_type": "stream",
     "text": [
      "'SPWR'\n",
      "'SQBG'\n",
      "'SQFT'\n",
      "'SQFTP'\n",
      "'SQL'\n",
      "'SQLLW'\n",
      "'SQLV'\n",
      "'SQQQ'\n",
      "'SRAC'\n",
      "'SRACU'\n",
      "'SRACW'\n",
      "'SRAX'\n",
      "'SRCE'\n"
     ]
    },
    {
     "name": "stderr",
     "output_type": "stream",
     "text": [
      "sleep 3 seconds and retrying https://data.alpaca.markets/v1/bars/day 3 more time(s)...\n"
     ]
    },
    {
     "name": "stdout",
     "output_type": "stream",
     "text": [
      "'SRCL'\n",
      "'SRDX'\n",
      "'SRET'\n",
      "'SREV'\n",
      "'SRGA'\n",
      "'SRNE'\n",
      "'SRNG'\n",
      "'SRNGU'\n",
      "'SRNGW'\n",
      "'SRPT'\n",
      "'SRRA'\n",
      "'SRRK'\n",
      "'SRSA'\n",
      "'SRSAU'\n"
     ]
    },
    {
     "name": "stderr",
     "output_type": "stream",
     "text": [
      "sleep 3 seconds and retrying https://data.alpaca.markets/v1/bars/day 3 more time(s)...\n"
     ]
    },
    {
     "name": "stdout",
     "output_type": "stream",
     "text": [
      "'SRSAW'\n",
      "'SRTS'\n",
      "'SRZN'\n",
      "'SRZNW'\n",
      "'SSAA'\n",
      "'SSAAU'\n",
      "'SSAAW'\n",
      "'SSB'\n",
      "'SSBI'\n",
      "'SSBK'\n",
      "'SSKN'\n",
      "'SSNC'\n",
      "'SSNT'\n",
      "'SSP'\n"
     ]
    },
    {
     "name": "stderr",
     "output_type": "stream",
     "text": [
      "sleep 3 seconds and retrying https://data.alpaca.markets/v1/bars/day 3 more time(s)...\n"
     ]
    },
    {
     "name": "stdout",
     "output_type": "stream",
     "text": [
      "'SSRM'\n",
      "'SSSS'\n",
      "'SSTI'\n",
      "'SSYS'\n",
      "'STAA'\n",
      "'STAF'\n",
      "'STBA'\n",
      "'STCN'\n",
      "'STEP'\n",
      "'STFC'\n",
      "'STGW'\n",
      "'STIM'\n",
      "'STKL'\n"
     ]
    },
    {
     "name": "stderr",
     "output_type": "stream",
     "text": [
      "sleep 3 seconds and retrying https://data.alpaca.markets/v1/bars/day 3 more time(s)...\n"
     ]
    },
    {
     "name": "stdout",
     "output_type": "stream",
     "text": [
      "'STKS'\n",
      "'STLD'\n",
      "'STMP'\n",
      "'STNE'\n",
      "'STOK'\n",
      "'STRA'\n",
      "'STRL'\n",
      "'STRM'\n",
      "'STRO'\n",
      "'STRR'\n",
      "'STRRP'\n",
      "'STRS'\n",
      "'STRT'\n"
     ]
    },
    {
     "name": "stderr",
     "output_type": "stream",
     "text": [
      "sleep 3 seconds and retrying https://data.alpaca.markets/v1/bars/day 3 more time(s)...\n"
     ]
    },
    {
     "name": "stdout",
     "output_type": "stream",
     "text": [
      "'STSA'\n",
      "'STTK'\n",
      "'STWO'\n",
      "'STWOU'\n",
      "'STWOW'\n",
      "'STX'\n",
      "'STXB'\n",
      "'SUMO'\n",
      "'SUMR'\n",
      "'SUNS'\n",
      "'SUNW'\n",
      "'SUPN'\n"
     ]
    },
    {
     "name": "stderr",
     "output_type": "stream",
     "text": [
      "sleep 3 seconds and retrying https://data.alpaca.markets/v1/bars/day 3 more time(s)...\n"
     ]
    },
    {
     "name": "stdout",
     "output_type": "stream",
     "text": [
      "'SURF'\n",
      "'SUSB'\n",
      "'SUSC'\n",
      "'SUSL'\n",
      "'SV'\n",
      "'SVBI'\n",
      "'SVC'\n",
      "'SVFA'\n",
      "'SVFAU'\n",
      "'SVFAW'\n",
      "'SVFB'\n",
      "'SVFC'\n",
      "'SVFD'\n",
      "'SVOK'\n",
      "'SVOKU'\n",
      "'SVOKW'\n",
      "'SVRA'\n"
     ]
    },
    {
     "name": "stderr",
     "output_type": "stream",
     "text": [
      "sleep 3 seconds and retrying https://data.alpaca.markets/v1/bars/day 3 more time(s)...\n"
     ]
    },
    {
     "name": "stdout",
     "output_type": "stream",
     "text": [
      "'SVSVU'\n",
      "'SVSVW'\n",
      "'SVVC'\n",
      "'SWAGU'\n",
      "'SWAV'\n",
      "'SWBI'\n",
      "'SWET'\n",
      "'SWETU'\n",
      "'SWETW'\n",
      "'SWIM'\n",
      "'SWIR'\n",
      "'SWKH'\n"
     ]
    },
    {
     "name": "stderr",
     "output_type": "stream",
     "text": [
      "sleep 3 seconds and retrying https://data.alpaca.markets/v1/bars/day 3 more time(s)...\n"
     ]
    },
    {
     "name": "stdout",
     "output_type": "stream",
     "text": [
      "'SWKS'\n",
      "'SWSSU'\n",
      "'SWTX'\n",
      "'SXTC'\n",
      "'SY'\n",
      "'SYBT'\n",
      "'SYBX'\n",
      "'SYKE'\n",
      "'SYNA'\n",
      "'SYNH'\n",
      "'SYNL'\n",
      "'SYPR'\n",
      "'SYRS'\n"
     ]
    },
    {
     "name": "stderr",
     "output_type": "stream",
     "text": [
      "sleep 3 seconds and retrying https://data.alpaca.markets/v1/bars/day 3 more time(s)...\n"
     ]
    },
    {
     "name": "stdout",
     "output_type": "stream",
     "text": [
      "'SYTA'\n",
      "'SYTAW'\n",
      "'TA'\n",
      "'TACO'\n",
      "'TACT'\n",
      "'TAIT'\n",
      "'TALK'\n",
      "'TALKW'\n",
      "'TALS'\n",
      "'TANH'\n",
      "'TANNI'\n",
      "'TANNL'\n",
      "'TANNZ'\n"
     ]
    },
    {
     "name": "stderr",
     "output_type": "stream",
     "text": [
      "sleep 3 seconds and retrying https://data.alpaca.markets/v1/bars/day 3 more time(s)...\n"
     ]
    },
    {
     "name": "stdout",
     "output_type": "stream",
     "text": [
      "'TAOP'\n",
      "'TARA'\n",
      "'TARS'\n",
      "'TASK'\n",
      "'TAST'\n",
      "'TATT'\n",
      "'TAYD'\n",
      "'TBBK'\n",
      "'TBCP'\n",
      "'TBCPU'\n",
      "'TBCPW'\n",
      "'TBIO'\n",
      "'TBK'\n"
     ]
    },
    {
     "name": "stderr",
     "output_type": "stream",
     "text": [
      "sleep 3 seconds and retrying https://data.alpaca.markets/v1/bars/day 3 more time(s)...\n"
     ]
    },
    {
     "name": "stdout",
     "output_type": "stream",
     "text": [
      "'TBKCP'\n",
      "'TBLA'\n",
      "'TBLAW'\n",
      "'TBLD'\n",
      "'TBLT'\n",
      "'TBLTW'\n",
      "'TBNK'\n",
      "'TBPH'\n",
      "'TBSA'\n",
      "'TBSAU'\n",
      "'TBSAW'\n",
      "'TC'\n",
      "'TCAC'\n",
      "'TCACU'\n"
     ]
    },
    {
     "name": "stderr",
     "output_type": "stream",
     "text": [
      "sleep 3 seconds and retrying https://data.alpaca.markets/v1/bars/day 3 more time(s)...\n"
     ]
    },
    {
     "name": "stdout",
     "output_type": "stream",
     "text": [
      "'TCACW'\n",
      "'TCBC'\n",
      "'TCBI'\n",
      "'TCBIO'\n",
      "'TCBK'\n",
      "'TCBS'\n",
      "'TCDA'\n",
      "'TCFC'\n",
      "'TCMD'\n",
      "'TCOM'\n",
      "'TCON'\n",
      "'TCPC'\n",
      "'TCRR'\n"
     ]
    },
    {
     "name": "stderr",
     "output_type": "stream",
     "text": [
      "sleep 3 seconds and retrying https://data.alpaca.markets/v1/bars/day 3 more time(s)...\n"
     ]
    },
    {
     "name": "stdout",
     "output_type": "stream",
     "text": [
      "'TCRX'\n",
      "'TCVA'\n",
      "'TCX'\n",
      "'TDAC'\n",
      "'TDACU'\n",
      "'TDACW'\n",
      "'TDIV'\n",
      "'TDUP'\n",
      "'TEAM'\n",
      "'TECH'\n",
      "'TECTP'\n",
      "'TEDU'\n",
      "'TEKK'\n",
      "'TEKKU'\n",
      "'TEKKW'\n"
     ]
    },
    {
     "name": "stderr",
     "output_type": "stream",
     "text": [
      "sleep 3 seconds and retrying https://data.alpaca.markets/v1/bars/day 3 more time(s)...\n"
     ]
    },
    {
     "name": "stdout",
     "output_type": "stream",
     "text": [
      "'TELA'\n",
      "'TELL'\n",
      "'TENB'\n",
      "'TENX'\n",
      "'TER'\n",
      "'TERN'\n",
      "'TESS'\n",
      "'TETC'\n",
      "'TETCU'\n",
      "'TETCW'\n",
      "'TFFP'\n",
      "'TFSL'\n",
      "'TGA'\n"
     ]
    },
    {
     "name": "stderr",
     "output_type": "stream",
     "text": [
      "sleep 3 seconds and retrying https://data.alpaca.markets/v1/bars/day 3 more time(s)...\n"
     ]
    },
    {
     "name": "stdout",
     "output_type": "stream",
     "text": [
      "'TGLS'\n",
      "'TGTX'\n",
      "'TH'\n",
      "'THCA'\n",
      "'THCAU'\n",
      "'THCAW'\n",
      "'THCPU'\n",
      "'THFF'\n",
      "'THMA'\n",
      "'THMAU'\n",
      "'THMAW'\n",
      "'THMO'\n",
      "'THRM'\n"
     ]
    },
    {
     "name": "stderr",
     "output_type": "stream",
     "text": [
      "sleep 3 seconds and retrying https://data.alpaca.markets/v1/bars/day 3 more time(s)...\n"
     ]
    },
    {
     "name": "stdout",
     "output_type": "stream",
     "text": [
      "'THRY'\n",
      "'THTX'\n",
      "'THWWW'\n",
      "'TIG'\n",
      "'TIGO'\n",
      "'TIGR'\n",
      "'TIL'\n",
      "'TILE'\n",
      "'TIOA'\n",
      "'TIOAU'\n",
      "'TIOAW'\n",
      "'TIPT'\n",
      "'TIRX'\n",
      "'TITN'\n",
      "'TKNO'\n",
      "'TLC'\n",
      "'TLGT'\n",
      "'TLIS'\n"
     ]
    },
    {
     "name": "stderr",
     "output_type": "stream",
     "text": [
      "sleep 3 seconds and retrying https://data.alpaca.markets/v1/bars/day 3 more time(s)...\n"
     ]
    },
    {
     "name": "stdout",
     "output_type": "stream",
     "text": [
      "'TLMD'\n",
      "'TLMDW'\n",
      "'TLRY'\n",
      "'TLS'\n",
      "'TLSA'\n",
      "'TLT'\n",
      "'TMCI'\n",
      "'TMDI'\n",
      "'TMDX'\n",
      "'TMKR'\n",
      "'TMKRU'\n",
      "'TMKRW'\n"
     ]
    },
    {
     "name": "stderr",
     "output_type": "stream",
     "text": [
      "sleep 3 seconds and retrying https://data.alpaca.markets/v1/bars/day 3 more time(s)...\n"
     ]
    },
    {
     "name": "stdout",
     "output_type": "stream",
     "text": [
      "'TMPM'\n",
      "'TMPMU'\n",
      "'TMPMW'\n",
      "'TMTS'\n",
      "'TMTSU'\n",
      "'TMTSW'\n",
      "'TMUS'\n",
      "'TNDM'\n",
      "'TNGX'\n",
      "'TNXP'\n",
      "'TNYA'\n",
      "'TOMZ'\n",
      "'TOPS'\n"
     ]
    },
    {
     "name": "stderr",
     "output_type": "stream",
     "text": [
      "sleep 3 seconds and retrying https://data.alpaca.markets/v1/bars/day 3 more time(s)...\n"
     ]
    },
    {
     "name": "stdout",
     "output_type": "stream",
     "text": [
      "'TOUR'\n",
      "'TOWN'\n",
      "'TPBAU'\n",
      "'TPIC'\n",
      "'TPST'\n",
      "'TPTX'\n",
      "'TQQQ'\n",
      "'TREE'\n",
      "'TRHC'\n",
      "'TRIB'\n",
      "'TRIL'\n",
      "'TRIN'\n",
      "'TRIP'\n"
     ]
    },
    {
     "name": "stderr",
     "output_type": "stream",
     "text": [
      "sleep 3 seconds and retrying https://data.alpaca.markets/v1/bars/day 3 more time(s)...\n"
     ]
    },
    {
     "name": "stdout",
     "output_type": "stream",
     "text": [
      "'TRIT'\n",
      "'TRITW'\n",
      "'TRKA'\n",
      "'TRKAW'\n",
      "'TRMB'\n",
      "'TRMD'\n",
      "'TRMK'\n",
      "'TRMR'\n",
      "'TRMT'\n",
      "'TRNS'\n",
      "'TRON'\n",
      "'TRONU'\n",
      "'TRONW'\n",
      "'TROW'\n"
     ]
    },
    {
     "name": "stderr",
     "output_type": "stream",
     "text": [
      "sleep 3 seconds and retrying https://data.alpaca.markets/v1/bars/day 3 more time(s)...\n"
     ]
    },
    {
     "name": "stdout",
     "output_type": "stream",
     "text": [
      "'TRS'\n",
      "'TRST'\n",
      "'TRUE'\n",
      "'TRUP'\n",
      "'TRVG'\n",
      "'TRVI'\n",
      "'TRVN'\n",
      "'TSBK'\n",
      "'TSC'\n",
      "'TSCAP'\n",
      "'TSCBP'\n",
      "'TSCO'\n",
      "'TSEM'\n",
      "'TSHA'\n",
      "'TSIB'\n",
      "'TSIBU'\n",
      "'TSIBW'\n",
      "'TSLA'\n",
      "'TSP'\n"
     ]
    },
    {
     "name": "stderr",
     "output_type": "stream",
     "text": [
      "sleep 3 seconds and retrying https://data.alpaca.markets/v1/bars/day 3 more time(s)...\n"
     ]
    },
    {
     "name": "stdout",
     "output_type": "stream",
     "text": [
      "'TSRI'\n",
      "'TTCF'\n",
      "'TTD'\n",
      "'TTEC'\n",
      "'TTEK'\n",
      "'TTGT'\n",
      "'TTMI'\n",
      "'TTNP'\n",
      "'TTOO'\n",
      "'TTSH'\n",
      "'TTWO'\n",
      "'TUEM'\n",
      "'TUGC'\n",
      "'TUGCU'\n"
     ]
    },
    {
     "name": "stderr",
     "output_type": "stream",
     "text": [
      "sleep 3 seconds and retrying https://data.alpaca.markets/v1/bars/day 3 more time(s)...\n"
     ]
    },
    {
     "name": "stdout",
     "output_type": "stream",
     "text": [
      "'TUGCW'\n",
      "'TUR'\n",
      "'TURN'\n",
      "'TUSA'\n",
      "'TUSK'\n",
      "'TVAC'\n",
      "'TVACU'\n",
      "'TVACW'\n",
      "'TVTX'\n",
      "'TVTY'\n",
      "'TW'\n",
      "'TWCBU'\n",
      "'TWCT'\n"
     ]
    },
    {
     "name": "stderr",
     "output_type": "stream",
     "text": [
      "sleep 3 seconds and retrying https://data.alpaca.markets/v1/bars/day 3 more time(s)...\n"
     ]
    },
    {
     "name": "stdout",
     "output_type": "stream",
     "text": [
      "'TWCTU'\n",
      "'TWCTW'\n",
      "'TWIN'\n",
      "'TWLV'\n",
      "'TWLVU'\n",
      "'TWLVW'\n",
      "'TWNK'\n",
      "'TWNKW'\n",
      "'TWOU'\n"
     ]
    },
    {
     "name": "stderr",
     "output_type": "stream",
     "text": [
      "sleep 3 seconds and retrying https://data.alpaca.markets/v1/bars/day 3 more time(s)...\n"
     ]
    },
    {
     "name": "stdout",
     "output_type": "stream",
     "text": [
      "'TWST'\n",
      "'TXG'\n",
      "'TXMD'\n",
      "'TXN'\n",
      "'TXRH'\n",
      "'TYHT'\n",
      "'TYME'\n",
      "'TZOO'\n",
      "'TZPS'\n",
      "'TZPSU'\n",
      "'TZPSW'\n",
      "'UAE'\n",
      "'UAL'\n",
      "'UBCP'\n",
      "'UBFO'\n"
     ]
    },
    {
     "name": "stderr",
     "output_type": "stream",
     "text": [
      "sleep 3 seconds and retrying https://data.alpaca.markets/v1/bars/day 3 more time(s)...\n"
     ]
    },
    {
     "name": "stdout",
     "output_type": "stream",
     "text": [
      "'UBOH'\n",
      "'UBSI'\n",
      "'UBX'\n",
      "'UCBI'\n",
      "'UCBIO'\n",
      "'UCL'\n",
      "'UCTT'\n",
      "'UCYB'\n",
      "'UEIC'\n",
      "'UEPS'\n",
      "'UFCS'\n",
      "'UFO'\n",
      "'UFPI'\n",
      "'UFPT'\n",
      "'UG'\n",
      "'UGRO'\n",
      "'UHAL'\n"
     ]
    },
    {
     "name": "stderr",
     "output_type": "stream",
     "text": [
      "sleep 3 seconds and retrying https://data.alpaca.markets/v1/bars/day 3 more time(s)...\n"
     ]
    },
    {
     "name": "stdout",
     "output_type": "stream",
     "text": [
      "'UIHC'\n",
      "'UK'\n",
      "'UKOMW'\n",
      "'ULBI'\n",
      "'ULCC'\n",
      "'ULH'\n",
      "'ULTA'\n",
      "'UMBF'\n",
      "'UMPQ'\n",
      "'UNAM'\n",
      "'UNB'\n",
      "'UNCY'\n",
      "'UNIT'\n"
     ]
    },
    {
     "name": "stderr",
     "output_type": "stream",
     "text": [
      "sleep 3 seconds and retrying https://data.alpaca.markets/v1/bars/day 3 more time(s)...\n"
     ]
    },
    {
     "name": "stdout",
     "output_type": "stream",
     "text": [
      "'UNTY'\n",
      "'UONE'\n",
      "'UONEK'\n",
      "'UPC'\n",
      "'UPLD'\n",
      "'UPST'\n",
      "'UPTDU'\n",
      "'UPWK'\n",
      "'URBN'\n"
     ]
    },
    {
     "name": "stderr",
     "output_type": "stream",
     "text": [
      "sleep 3 seconds and retrying https://data.alpaca.markets/v1/bars/day 3 more time(s)...\n"
     ]
    },
    {
     "name": "stdout",
     "output_type": "stream",
     "text": [
      "'URGN'\n",
      "'UROY'\n",
      "'USAK'\n",
      "'USAP'\n",
      "'USAU'\n",
      "'USCB'\n",
      "'USCR'\n",
      "'USEG'\n",
      "'USIG'\n",
      "'USIO'\n",
      "'USLB'\n",
      "'USLM'\n",
      "'USMC'\n",
      "'USOI'\n",
      "'USWS'\n"
     ]
    },
    {
     "name": "stderr",
     "output_type": "stream",
     "text": [
      "sleep 3 seconds and retrying https://data.alpaca.markets/v1/bars/day 3 more time(s)...\n"
     ]
    },
    {
     "name": "stdout",
     "output_type": "stream",
     "text": [
      "'USWSW'\n",
      "'USXF'\n",
      "'UTHR'\n",
      "'UTMD'\n",
      "'UTME'\n",
      "'UTSI'\n",
      "'UVSP'\n",
      "'UXIN'\n",
      "'VABK'\n",
      "'VACC'\n",
      "'VACQ'\n",
      "'VACQU'\n",
      "'VACQW'\n",
      "'VALN'\n"
     ]
    },
    {
     "name": "stderr",
     "output_type": "stream",
     "text": [
      "sleep 3 seconds and retrying https://data.alpaca.markets/v1/bars/day 3 more time(s)...\n"
     ]
    },
    {
     "name": "stdout",
     "output_type": "stream",
     "text": [
      "'VALU'\n",
      "'VAQC'\n",
      "'VBFC'\n",
      "'VBIV'\n",
      "'VBLT'\n",
      "'VBTX'\n",
      "'VC'\n",
      "'VCEL'\n",
      "'VCIT'\n",
      "'VCKA'\n",
      "'VCKAU'\n",
      "'VCKAW'\n",
      "'VCLT'\n",
      "'VCNX'\n",
      "'VCSH'\n",
      "'VCTR'\n"
     ]
    },
    {
     "name": "stderr",
     "output_type": "stream",
     "text": [
      "sleep 3 seconds and retrying https://data.alpaca.markets/v1/bars/day 3 more time(s)...\n"
     ]
    },
    {
     "name": "stdout",
     "output_type": "stream",
     "text": [
      "'VCXAU'\n",
      "'VCYT'\n",
      "'VECO'\n",
      "'VECT'\n",
      "'VEEE'\n",
      "'VELO'\n",
      "'VELOU'\n",
      "'VELOW'\n",
      "'VENA'\n",
      "'VENAR'\n",
      "'VENAU'\n",
      "'VENAW'\n"
     ]
    },
    {
     "name": "stderr",
     "output_type": "stream",
     "text": [
      "sleep 3 seconds and retrying https://data.alpaca.markets/v1/bars/day 3 more time(s)...\n"
     ]
    },
    {
     "name": "stdout",
     "output_type": "stream",
     "text": [
      "'VEON'\n",
      "'VERA'\n",
      "'VERB'\n",
      "'VERBW'\n",
      "'VERI'\n",
      "'VERO'\n",
      "'VERU'\n",
      "'VERV'\n",
      "'VERX'\n",
      "'VERY'\n",
      "'VEV'\n",
      "'VFF'\n",
      "'VG'\n",
      "'VGIT'\n"
     ]
    },
    {
     "name": "stderr",
     "output_type": "stream",
     "text": [
      "sleep 3 seconds and retrying https://data.alpaca.markets/v1/bars/day 3 more time(s)...\n"
     ]
    },
    {
     "name": "stdout",
     "output_type": "stream",
     "text": [
      "'VGLT'\n",
      "'VGSH'\n",
      "'VIA'\n",
      "'VIAC'\n",
      "'VIACA'\n",
      "'VIACP'\n",
      "'VIASP'\n",
      "'VIAV'\n",
      "'VICR'\n",
      "'VIEW'\n",
      "'VIEWW'\n",
      "'VIGI'\n"
     ]
    },
    {
     "name": "stderr",
     "output_type": "stream",
     "text": [
      "sleep 3 seconds and retrying https://data.alpaca.markets/v1/bars/day 3 more time(s)...\n"
     ]
    },
    {
     "name": "stdout",
     "output_type": "stream",
     "text": [
      "'VIH'\n",
      "'VIHAU'\n",
      "'VIHAW'\n",
      "'VII'\n",
      "'VIIAU'\n",
      "'VIIAW'\n",
      "'VINC'\n",
      "'VINO'\n",
      "'VINP'\n",
      "'VIOT'\n",
      "'VIR'\n",
      "'VIRC'\n",
      "'VIRI'\n",
      "'VIRT'\n",
      "'VIRX'\n"
     ]
    },
    {
     "name": "stderr",
     "output_type": "stream",
     "text": [
      "sleep 3 seconds and retrying https://data.alpaca.markets/v1/bars/day 3 more time(s)...\n"
     ]
    },
    {
     "name": "stdout",
     "output_type": "stream",
     "text": [
      "'VISL'\n",
      "'VITL'\n",
      "'VIVE'\n",
      "'VIVO'\n",
      "'VJET'\n",
      "'VKTX'\n",
      "'VLAT'\n",
      "'VLATU'\n",
      "'VLATW'\n",
      "'VLDR'\n",
      "'VLDRW'\n",
      "'VLGEA'\n",
      "'VLON'\n"
     ]
    },
    {
     "name": "stderr",
     "output_type": "stream",
     "text": [
      "sleep 3 seconds and retrying https://data.alpaca.markets/v1/bars/day 3 more time(s)...\n"
     ]
    },
    {
     "name": "stdout",
     "output_type": "stream",
     "text": [
      "'VLY'\n",
      "'VLYPO'\n",
      "'VLYPP'\n",
      "'VMAC'\n",
      "'VMACU'\n",
      "'VMACW'\n",
      "'VMAR'\n",
      "'VMBS'\n",
      "'VMD'\n",
      "'VMEO'\n",
      "'VNDA'\n",
      "'VNET'\n",
      "'VNOM'\n"
     ]
    },
    {
     "name": "stderr",
     "output_type": "stream",
     "text": [
      "sleep 3 seconds and retrying https://data.alpaca.markets/v1/bars/day 3 more time(s)...\n"
     ]
    },
    {
     "name": "stdout",
     "output_type": "stream",
     "text": [
      "'VNQI'\n",
      "'VOD'\n",
      "'VONE'\n",
      "'VONG'\n",
      "'VONV'\n",
      "'VOR'\n",
      "'VOSO'\n",
      "'VOSOU'\n",
      "'VOSOW'\n",
      "'VOXX'\n",
      "'VPCB'\n",
      "'VPCBU'\n",
      "'VPCBW'\n"
     ]
    },
    {
     "name": "stderr",
     "output_type": "stream",
     "text": [
      "sleep 3 seconds and retrying https://data.alpaca.markets/v1/bars/day 3 more time(s)...\n"
     ]
    },
    {
     "name": "stdout",
     "output_type": "stream",
     "text": [
      "'VPN'\n",
      "'VQS'\n",
      "'VRA'\n",
      "'VRAR'\n",
      "'VRAY'\n",
      "'VRCA'\n",
      "'VRDN'\n",
      "'VREX'\n",
      "'VRIG'\n",
      "'VRM'\n",
      "'VRME'\n",
      "'VRMEW'\n",
      "'VRNA'\n"
     ]
    },
    {
     "name": "stderr",
     "output_type": "stream",
     "text": [
      "sleep 3 seconds and retrying https://data.alpaca.markets/v1/bars/day 3 more time(s)...\n"
     ]
    },
    {
     "name": "stdout",
     "output_type": "stream",
     "text": [
      "'VRNS'\n",
      "'VRNT'\n",
      "'VRPX'\n",
      "'VRRM'\n",
      "'VRSK'\n",
      "'VRSN'\n",
      "'VRTS'\n",
      "'VRTX'\n",
      "'VS'\n",
      "'VSAT'\n",
      "'VSDA'\n",
      "'VSEC'\n",
      "'VSMV'\n",
      "'VSSYW'\n",
      "'VSTA'\n",
      "'VSTM'\n",
      "'VTAQ'\n",
      "'VTAQR'\n"
     ]
    },
    {
     "name": "stderr",
     "output_type": "stream",
     "text": [
      "sleep 3 seconds and retrying https://data.alpaca.markets/v1/bars/day 3 more time(s)...\n"
     ]
    },
    {
     "name": "stdout",
     "output_type": "stream",
     "text": [
      "'VTAQU'\n",
      "'VTAQW'\n",
      "'VTC'\n",
      "'VTGN'\n",
      "'VTHR'\n",
      "'VTIP'\n",
      "'VTIQ'\n",
      "'VTIQU'\n",
      "'VTIQW'\n",
      "'VTNR'\n",
      "'VTRS'\n",
      "'VTRU'\n"
     ]
    },
    {
     "name": "stderr",
     "output_type": "stream",
     "text": [
      "sleep 3 seconds and retrying https://data.alpaca.markets/v1/bars/day 3 more time(s)...\n"
     ]
    },
    {
     "name": "stdout",
     "output_type": "stream",
     "text": [
      "'VTSI'\n",
      "'VTVT'\n",
      "'VTWG'\n",
      "'VTWO'\n",
      "'VTWV'\n",
      "'VUZI'\n",
      "'VVOS'\n",
      "'VVPR'\n",
      "'VWE'\n",
      "'VWOB'\n",
      "'VWTR'\n",
      "'VXRT'\n",
      "'VXUS'\n",
      "'VYGR'\n",
      "'VYMI'\n"
     ]
    },
    {
     "name": "stderr",
     "output_type": "stream",
     "text": [
      "sleep 3 seconds and retrying https://data.alpaca.markets/v1/bars/day 3 more time(s)...\n"
     ]
    },
    {
     "name": "stdout",
     "output_type": "stream",
     "text": [
      "'VYNE'\n",
      "'VYNT'\n",
      "'WABC'\n",
      "'WAFD'\n",
      "'WAFDP'\n",
      "'WAFU'\n",
      "'WALD'\n",
      "'WALDU'\n",
      "'WALDW'\n",
      "'WASH'\n",
      "'WATT'\n",
      "'WAVE'\n"
     ]
    },
    {
     "name": "stderr",
     "output_type": "stream",
     "text": [
      "sleep 3 seconds and retrying https://data.alpaca.markets/v1/bars/day 3 more time(s)...\n"
     ]
    },
    {
     "name": "stdout",
     "output_type": "stream",
     "text": [
      "'WB'\n",
      "'WBA'\n",
      "'WBND'\n",
      "'WCBR'\n",
      "'WCLD'\n",
      "'WDAY'\n",
      "'WDC'\n",
      "'WDFC'\n",
      "'WEN'\n",
      "'WERN'\n",
      "'WETF'\n",
      "'WEYS'\n",
      "'WFCF'\n"
     ]
    },
    {
     "name": "stderr",
     "output_type": "stream",
     "text": [
      "sleep 3 seconds and retrying https://data.alpaca.markets/v1/bars/day 3 more time(s)...\n"
     ]
    },
    {
     "name": "stdout",
     "output_type": "stream",
     "text": [
      "'WFRD'\n",
      "'WGRO'\n",
      "'WHF'\n",
      "'WHFBZ'\n",
      "'WHLM'\n",
      "'WHLR'\n",
      "'WHLRD'\n",
      "'WHLRP'\n",
      "'WILC'\n",
      "'WIMI'\n",
      "'WINA'\n",
      "'WINC'\n",
      "'WING'\n",
      "'WINT'\n",
      "'WIRE'\n",
      "'WISA'\n",
      "'WISH'\n",
      "'WIX'\n",
      "'WKEY'\n",
      "'WKHS'\n",
      "'WKME'\n"
     ]
    },
    {
     "name": "stderr",
     "output_type": "stream",
     "text": [
      "sleep 3 seconds and retrying https://data.alpaca.markets/v1/bars/day 3 more time(s)...\n"
     ]
    },
    {
     "name": "stdout",
     "output_type": "stream",
     "text": [
      "'WKSP'\n",
      "'WKSPW'\n",
      "'WLDN'\n",
      "'WLFC'\n",
      "'WLTW'\n",
      "'WMG'\n",
      "'WMPN'\n",
      "'WNEB'\n",
      "'WNW'\n",
      "'WOOD'\n",
      "'WOOF'\n",
      "'WORX'\n",
      "'WPRT'\n"
     ]
    },
    {
     "name": "stderr",
     "output_type": "stream",
     "text": [
      "sleep 3 seconds and retrying https://data.alpaca.markets/v1/bars/day 3 more time(s)...\n"
     ]
    },
    {
     "name": "stdout",
     "output_type": "stream",
     "text": [
      "'WRAP'\n",
      "'WRLD'\n",
      "'WSBC'\n",
      "'WSBCP'\n",
      "'WSBF'\n",
      "'WSC'\n",
      "'WSFS'\n",
      "'WSTG'\n",
      "'WTBA'\n",
      "'WTER'\n",
      "'WTFC'\n",
      "'WTFCM'\n"
     ]
    },
    {
     "name": "stderr",
     "output_type": "stream",
     "text": [
      "sleep 3 seconds and retrying https://data.alpaca.markets/v1/bars/day 3 more time(s)...\n"
     ]
    },
    {
     "name": "stdout",
     "output_type": "stream",
     "text": [
      "'WTFCP'\n",
      "'WTRH'\n",
      "'WVE'\n",
      "'WVFC'\n",
      "'WVVI'\n",
      "'WVVIP'\n",
      "'WW'\n",
      "'WWD'\n",
      "'WYNN'\n",
      "'XAIR'\n",
      "'XBIO'\n",
      "'XBIOW'\n"
     ]
    },
    {
     "name": "stderr",
     "output_type": "stream",
     "text": [
      "sleep 3 seconds and retrying https://data.alpaca.markets/v1/bars/day 3 more time(s)...\n"
     ]
    },
    {
     "name": "stdout",
     "output_type": "stream",
     "text": [
      "'XBIT'\n",
      "'XCUR'\n",
      "'XEL'\n",
      "'XELA'\n",
      "'XELB'\n",
      "'XENE'\n",
      "'XENT'\n",
      "'XERS'\n",
      "'XFOR'\n",
      "'XGN'\n",
      "'XLNX'\n",
      "'XLRN'\n"
     ]
    },
    {
     "name": "stderr",
     "output_type": "stream",
     "text": [
      "sleep 3 seconds and retrying https://data.alpaca.markets/v1/bars/day 3 more time(s)...\n"
     ]
    },
    {
     "name": "stdout",
     "output_type": "stream",
     "text": [
      "'XM'\n",
      "'XMTR'\n",
      "'XNCR'\n",
      "'XNET'\n",
      "'XOG'\n",
      "'XOMA'\n",
      "'XOMAO'\n",
      "'XOMAP'\n",
      "'XONE'\n",
      "'XOS'\n",
      "'XOSWW'\n",
      "'XP'\n",
      "'XPAXU'\n",
      "'XPDI'\n",
      "'XPDIU'\n"
     ]
    },
    {
     "name": "stderr",
     "output_type": "stream",
     "text": [
      "sleep 3 seconds and retrying https://data.alpaca.markets/v1/bars/day 3 more time(s)...\n"
     ]
    },
    {
     "name": "stdout",
     "output_type": "stream",
     "text": [
      "'XPDIW'\n",
      "'XPEL'\n",
      "'XPER'\n",
      "'XRAY'\n",
      "'XSPA'\n",
      "'XT'\n",
      "'XTLB'\n",
      "'XXII'\n",
      "'YELL'\n",
      "'YGMZ'\n",
      "'YI'\n",
      "'YJ'\n",
      "'YLDE'\n",
      "'YMAB'\n",
      "'YMTX'\n"
     ]
    },
    {
     "name": "stderr",
     "output_type": "stream",
     "text": [
      "sleep 3 seconds and retrying https://data.alpaca.markets/v1/bars/day 3 more time(s)...\n"
     ]
    },
    {
     "name": "stdout",
     "output_type": "stream",
     "text": [
      "'YNDX'\n",
      "'YORW'\n",
      "'YQ'\n",
      "'YSAC'\n",
      "'YSACU'\n",
      "'YSACW'\n",
      "'YTEN'\n",
      "'YTRA'\n",
      "'YVR'\n",
      "'YY'\n",
      "'Z'\n",
      "'ZBRA'\n",
      "'ZCMD'\n"
     ]
    },
    {
     "name": "stderr",
     "output_type": "stream",
     "text": [
      "sleep 3 seconds and retrying https://data.alpaca.markets/v1/bars/day 3 more time(s)...\n"
     ]
    },
    {
     "name": "stdout",
     "output_type": "stream",
     "text": [
      "'ZEAL'\n",
      "'ZENV'\n",
      "'ZEST'\n",
      "'ZEUS'\n",
      "'ZG'\n",
      "'ZGNX'\n",
      "'ZGYH'\n",
      "'ZGYHR'\n",
      "'ZGYHU'\n",
      "'ZGYHW'\n",
      "'ZI'\n"
     ]
    },
    {
     "name": "stderr",
     "output_type": "stream",
     "text": [
      "sleep 3 seconds and retrying https://data.alpaca.markets/v1/bars/day 3 more time(s)...\n"
     ]
    },
    {
     "name": "stdout",
     "output_type": "stream",
     "text": [
      "'ZION'\n",
      "'ZIONL'\n",
      "'ZIONO'\n",
      "'ZIONP'\n",
      "'ZIOP'\n",
      "'ZIVO'\n",
      "'ZIVOW'\n",
      "'ZIXI'\n",
      "'ZKIN'\n",
      "'ZLAB'\n",
      "'ZM'\n",
      "'ZNGA'\n",
      "'ZNTE'\n",
      "'ZNTEU'\n",
      "'ZNTEW'\n",
      "'ZNTL'\n",
      "'ZS'\n",
      "'ZSAN'\n"
     ]
    },
    {
     "name": "stderr",
     "output_type": "stream",
     "text": [
      "sleep 3 seconds and retrying https://data.alpaca.markets/v1/bars/day 3 more time(s)...\n"
     ]
    },
    {
     "name": "stdout",
     "output_type": "stream",
     "text": [
      "'ZT'\n",
      "'ZTAQU'\n",
      "'ZTAQW'\n",
      "'ZUMZ'\n",
      "'ZVO'\n",
      "'ZWRK'\n",
      "'ZWRKU'\n",
      "'ZWRKW'\n",
      "'ZY'\n",
      "'ZYNE'\n",
      "'ZYXI'\n"
     ]
    }
   ],
   "source": [
    "price_info= []\n",
    "count = 0\n",
    "for i in tckr:\n",
    "    try:\n",
    "        barset = api.get_barset(f'{i}', 'day', limit=1)\n",
    "        tckr_infoopening = barset[i][0].o\n",
    "        tckr_infoClosing = barset[i][0].c\n",
    "        tckr_infoHigh = barset[i][0].h\n",
    "        tckr_infoLow = barset[i][0].l \n",
    "        tckr_infoVol = barset[i][0].v\n",
    "        info = {'Ticker':f'{i}',\n",
    "                'name':name[count],\n",
    "                'opening':tckr_infoopening,\n",
    "                'closing':tckr_infoClosing,\n",
    "                'volume':tckr_infoVol,\n",
    "                'high':tckr_infoHigh,\n",
    "                'low':tckr_infoLow}\n",
    "        pprint(i)\n",
    "        count+=1\n",
    "        price_info.append(info)\n",
    "#         pprint(price_info)\n",
    "    except:\n",
    "        count+=1\n",
    "        \n",
    "        print(f'result error{i}')\n",
    "        pass\n",
    "  "
   ]
  },
  {
   "cell_type": "code",
   "execution_count": 8,
   "metadata": {},
   "outputs": [
    {
     "data": {
      "text/html": [
       "<div>\n",
       "<style scoped>\n",
       "    .dataframe tbody tr th:only-of-type {\n",
       "        vertical-align: middle;\n",
       "    }\n",
       "\n",
       "    .dataframe tbody tr th {\n",
       "        vertical-align: top;\n",
       "    }\n",
       "\n",
       "    .dataframe thead th {\n",
       "        text-align: right;\n",
       "    }\n",
       "</style>\n",
       "<table border=\"1\" class=\"dataframe\">\n",
       "  <thead>\n",
       "    <tr style=\"text-align: right;\">\n",
       "      <th></th>\n",
       "      <th>Ticker</th>\n",
       "      <th>name</th>\n",
       "      <th>opening</th>\n",
       "      <th>closing</th>\n",
       "      <th>volume</th>\n",
       "      <th>high</th>\n",
       "      <th>low</th>\n",
       "    </tr>\n",
       "  </thead>\n",
       "  <tbody>\n",
       "    <tr>\n",
       "      <th>0</th>\n",
       "      <td>AACG</td>\n",
       "      <td>Ata Creativity Global ADR</td>\n",
       "      <td>2.7100</td>\n",
       "      <td>2.7000</td>\n",
       "      <td>43214</td>\n",
       "      <td>2.74</td>\n",
       "      <td>2.640</td>\n",
       "    </tr>\n",
       "    <tr>\n",
       "      <th>1</th>\n",
       "      <td>AACIU</td>\n",
       "      <td>Armada Acquisition Corp. I</td>\n",
       "      <td>9.9200</td>\n",
       "      <td>9.9200</td>\n",
       "      <td>200</td>\n",
       "      <td>9.92</td>\n",
       "      <td>9.920</td>\n",
       "    </tr>\n",
       "    <tr>\n",
       "      <th>2</th>\n",
       "      <td>AADI</td>\n",
       "      <td>Aadi Biosciences Inc</td>\n",
       "      <td>25.5600</td>\n",
       "      <td>25.3700</td>\n",
       "      <td>103573</td>\n",
       "      <td>25.85</td>\n",
       "      <td>24.440</td>\n",
       "    </tr>\n",
       "    <tr>\n",
       "      <th>3</th>\n",
       "      <td>AADR</td>\n",
       "      <td>Advisorshares Dorsey Wright ETF</td>\n",
       "      <td>68.7800</td>\n",
       "      <td>68.6946</td>\n",
       "      <td>762</td>\n",
       "      <td>68.80</td>\n",
       "      <td>68.480</td>\n",
       "    </tr>\n",
       "    <tr>\n",
       "      <th>4</th>\n",
       "      <td>AAL</td>\n",
       "      <td>American Airlines Gp</td>\n",
       "      <td>20.2900</td>\n",
       "      <td>19.5100</td>\n",
       "      <td>22894762</td>\n",
       "      <td>20.30</td>\n",
       "      <td>19.470</td>\n",
       "    </tr>\n",
       "    <tr>\n",
       "      <th>...</th>\n",
       "      <td>...</td>\n",
       "      <td>...</td>\n",
       "      <td>...</td>\n",
       "      <td>...</td>\n",
       "      <td>...</td>\n",
       "      <td>...</td>\n",
       "      <td>...</td>\n",
       "    </tr>\n",
       "    <tr>\n",
       "      <th>4992</th>\n",
       "      <td>ZWRKU</td>\n",
       "      <td>Z-Work Acquisition Corp Units</td>\n",
       "      <td>9.8500</td>\n",
       "      <td>9.8450</td>\n",
       "      <td>948</td>\n",
       "      <td>9.85</td>\n",
       "      <td>9.845</td>\n",
       "    </tr>\n",
       "    <tr>\n",
       "      <th>4993</th>\n",
       "      <td>ZWRKW</td>\n",
       "      <td>Z-Work Acquisition Corp WT</td>\n",
       "      <td>0.7000</td>\n",
       "      <td>0.6500</td>\n",
       "      <td>235</td>\n",
       "      <td>0.65</td>\n",
       "      <td>0.650</td>\n",
       "    </tr>\n",
       "    <tr>\n",
       "      <th>4994</th>\n",
       "      <td>ZY</td>\n",
       "      <td>Zymergen Inc</td>\n",
       "      <td>13.4500</td>\n",
       "      <td>13.0200</td>\n",
       "      <td>567391</td>\n",
       "      <td>13.49</td>\n",
       "      <td>12.910</td>\n",
       "    </tr>\n",
       "    <tr>\n",
       "      <th>4995</th>\n",
       "      <td>ZYNE</td>\n",
       "      <td>Zynerba Pharma CS</td>\n",
       "      <td>4.1583</td>\n",
       "      <td>4.1200</td>\n",
       "      <td>2678603</td>\n",
       "      <td>4.20</td>\n",
       "      <td>4.050</td>\n",
       "    </tr>\n",
       "    <tr>\n",
       "      <th>4996</th>\n",
       "      <td>ZYXI</td>\n",
       "      <td>Zynex Inc</td>\n",
       "      <td>13.4000</td>\n",
       "      <td>13.3800</td>\n",
       "      <td>146046</td>\n",
       "      <td>13.59</td>\n",
       "      <td>13.250</td>\n",
       "    </tr>\n",
       "  </tbody>\n",
       "</table>\n",
       "<p>4997 rows × 7 columns</p>\n",
       "</div>"
      ],
      "text/plain": [
       "     Ticker                             name  opening  closing    volume  \\\n",
       "0      AACG        Ata Creativity Global ADR   2.7100   2.7000     43214   \n",
       "1     AACIU       Armada Acquisition Corp. I   9.9200   9.9200       200   \n",
       "2      AADI             Aadi Biosciences Inc  25.5600  25.3700    103573   \n",
       "3      AADR  Advisorshares Dorsey Wright ETF  68.7800  68.6946       762   \n",
       "4       AAL             American Airlines Gp  20.2900  19.5100  22894762   \n",
       "...     ...                              ...      ...      ...       ...   \n",
       "4992  ZWRKU    Z-Work Acquisition Corp Units   9.8500   9.8450       948   \n",
       "4993  ZWRKW       Z-Work Acquisition Corp WT   0.7000   0.6500       235   \n",
       "4994     ZY                     Zymergen Inc  13.4500  13.0200    567391   \n",
       "4995   ZYNE                Zynerba Pharma CS   4.1583   4.1200   2678603   \n",
       "4996   ZYXI                        Zynex Inc  13.4000  13.3800    146046   \n",
       "\n",
       "       high     low  \n",
       "0      2.74   2.640  \n",
       "1      9.92   9.920  \n",
       "2     25.85  24.440  \n",
       "3     68.80  68.480  \n",
       "4     20.30  19.470  \n",
       "...     ...     ...  \n",
       "4992   9.85   9.845  \n",
       "4993   0.65   0.650  \n",
       "4994  13.49  12.910  \n",
       "4995   4.20   4.050  \n",
       "4996  13.59  13.250  \n",
       "\n",
       "[4997 rows x 7 columns]"
      ]
     },
     "execution_count": 8,
     "metadata": {},
     "output_type": "execute_result"
    }
   ],
   "source": [
    "bdf = pd.DataFrame(price_info)\n",
    "bdf"
   ]
  },
  {
   "cell_type": "code",
   "execution_count": 10,
   "metadata": {},
   "outputs": [],
   "source": [
    "bdf.to_csv(r'./newStockList.csv', index = False)"
   ]
  },
  {
   "cell_type": "code",
   "execution_count": null,
   "metadata": {},
   "outputs": [],
   "source": [
    "bdf = bdf.sort_values(by=['volume'],ascending=False)\n",
    "bdf"
   ]
  },
  {
   "cell_type": "code",
   "execution_count": null,
   "metadata": {},
   "outputs": [],
   "source": [
    "bdf = bdf.head(2000)\n",
    "bdf"
   ]
  },
  {
   "cell_type": "code",
   "execution_count": null,
   "metadata": {},
   "outputs": [],
   "source": [
    "tckr = bdf['Ticker'].tolist()"
   ]
  },
  {
   "cell_type": "code",
   "execution_count": 2,
   "metadata": {},
   "outputs": [
    {
     "ename": "NameError",
     "evalue": "name 'tckr' is not defined",
     "output_type": "error",
     "traceback": [
      "\u001b[0;31m---------------------------------------------------------------------------\u001b[0m",
      "\u001b[0;31mNameError\u001b[0m                                 Traceback (most recent call last)",
      "\u001b[0;32m<ipython-input-2-f12008054afd>\u001b[0m in \u001b[0;36m<module>\u001b[0;34m\u001b[0m\n\u001b[1;32m      1\u001b[0m \u001b[0mprice_info\u001b[0m\u001b[0;34m=\u001b[0m \u001b[0;34m[\u001b[0m\u001b[0;34m]\u001b[0m\u001b[0;34m\u001b[0m\u001b[0;34m\u001b[0m\u001b[0m\n\u001b[1;32m      2\u001b[0m \u001b[0mcount\u001b[0m \u001b[0;34m=\u001b[0m \u001b[0;36m0\u001b[0m\u001b[0;34m\u001b[0m\u001b[0;34m\u001b[0m\u001b[0m\n\u001b[0;32m----> 3\u001b[0;31m \u001b[0;32mfor\u001b[0m \u001b[0mi\u001b[0m \u001b[0;32min\u001b[0m \u001b[0mtckr\u001b[0m\u001b[0;34m:\u001b[0m\u001b[0;34m\u001b[0m\u001b[0;34m\u001b[0m\u001b[0m\n\u001b[0m\u001b[1;32m      4\u001b[0m     \u001b[0;32mtry\u001b[0m\u001b[0;34m:\u001b[0m\u001b[0;34m\u001b[0m\u001b[0;34m\u001b[0m\u001b[0m\n\u001b[1;32m      5\u001b[0m         \u001b[0mbarset\u001b[0m \u001b[0;34m=\u001b[0m \u001b[0mapi\u001b[0m\u001b[0;34m.\u001b[0m\u001b[0mget_barset\u001b[0m\u001b[0;34m(\u001b[0m\u001b[0;34mf'{i}'\u001b[0m\u001b[0;34m,\u001b[0m \u001b[0;34m'day'\u001b[0m\u001b[0;34m,\u001b[0m \u001b[0mlimit\u001b[0m\u001b[0;34m=\u001b[0m\u001b[0;36m10\u001b[0m\u001b[0;34m)\u001b[0m\u001b[0;34m\u001b[0m\u001b[0;34m\u001b[0m\u001b[0m\n",
      "\u001b[0;31mNameError\u001b[0m: name 'tckr' is not defined"
     ]
    }
   ],
   "source": [
    "price_info= []\n",
    "count = 0\n",
    "for i in tckr:\n",
    "    try:\n",
    "        barset = api.get_barset(f'{i}', 'day', limit=10)\n",
    "        pprint(barset)\n",
    "        for f in range(0-9):\n",
    "            tckr_infoopening = barset[i][f].o\n",
    "            tckr_infoClosing = barset[i][f].c\n",
    "            tckr_infoHigh = barset[i][f].h\n",
    "            tckr_infoLow = barset[i][f].l \n",
    "            tckr_infoVol = barset[i][f].v\n",
    "            info = {'Ticker':f'{i}',\n",
    "                    'name':name[count],\n",
    "                    'opening':tckr_infoopening,\n",
    "                    'closing':tckr_infoClosing,\n",
    "                    'volume':tckr_infoVol,\n",
    "                    'high':tckr_infoHigh,\n",
    "                    'low':tckr_infoLow}\n",
    "            \n",
    "            price_info.append(info)\n",
    "            pprint(price_info)\n",
    "        break\n",
    "        count+=1\n",
    "        price_info.append(info)\n",
    "#         pprint(price_info)\n",
    "    except:\n",
    "        count+=1\n",
    "        \n",
    "        print(f'result error{i}')\n",
    "        pass\n",
    "  "
   ]
  },
  {
   "cell_type": "code",
   "execution_count": null,
   "metadata": {},
   "outputs": [],
   "source": []
  }
 ],
 "metadata": {
  "kernelspec": {
   "display_name": "Python 3",
   "language": "python",
   "name": "python3"
  },
  "language_info": {
   "codemirror_mode": {
    "name": "ipython",
    "version": 3
   },
   "file_extension": ".py",
   "mimetype": "text/x-python",
   "name": "python",
   "nbconvert_exporter": "python",
   "pygments_lexer": "ipython3",
   "version": "3.8.11"
  }
 },
 "nbformat": 4,
 "nbformat_minor": 4
}
