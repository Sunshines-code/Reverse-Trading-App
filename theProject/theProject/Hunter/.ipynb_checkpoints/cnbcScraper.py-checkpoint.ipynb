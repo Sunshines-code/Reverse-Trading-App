{
 "cells": [
  {
   "cell_type": "code",
   "execution_count": 5,
   "metadata": {},
   "outputs": [],
   "source": [
    "\n",
    "from splinter import Browser\n",
    "from bs4 import BeautifulSoup\n",
    "from webdriver_manager.chrome import ChromeDriverManager\n",
    "from pprint import pprint\n",
    "import pandas as pd\n",
    "import pymongo\n",
    "import csv\n",
    "import json\n",
    "url = f\"https://www.cnbc.com/2019/05/18/apple-ceo-tim-cook-tells-the-class-of-2019-my-generation-has-failed-you.html\"\n",
    "stock = \"APPL\"\n",
    " "
   ]
  },
  {
   "cell_type": "code",
   "execution_count": 29,
   "metadata": {},
   "outputs": [
    {
     "name": "stderr",
     "output_type": "stream",
     "text": [
      "[WDM] - ====== WebDriver manager ======\n",
      "[WDM] - Current google-chrome version is 90.0.4430\n",
      "[WDM] - Get LATEST driver version for 90.0.4430\n"
     ]
    },
    {
     "name": "stdout",
     "output_type": "stream",
     "text": [
      "\n",
      "\n"
     ]
    },
    {
     "name": "stderr",
     "output_type": "stream",
     "text": [
      "[WDM] - Driver [/Users/tourtoiseshell/.wdm/drivers/chromedriver/mac64/90.0.4430.24/chromedriver] found in cache\n"
     ]
    },
    {
     "name": "stdout",
     "output_type": "stream",
     "text": [
      "https://www.cnbc.com/2019/05/18/apple-ceo-tim-cook-tells-the-class-of-2019-my-generation-has-failed-you.html\n"
     ]
    }
   ],
   "source": [
    "\n",
    "executable_path = {'executable_path': ChromeDriverManager().install()}\n",
    "browser = Browser('chrome', **executable_path, headless=False)\n",
    "article = {}\n",
    "text= []\n",
    "print(url)\n",
    "browser.visit(url)\n",
    "\n",
    "try:\n",
    "    html = browser.html\n",
    "    soup = BeautifulSoup(html, \"html.parser\")\n",
    "    title = soup.find('h1', class_='ArticleHeader-styles-makeit-headline--1DSjp').get_text()\n",
    "    body = soup.find_all(\"p\")\n",
    "    for para in body:\n",
    "        text.append(para.get_text())\n",
    "    tckr = stock\n",
    "    date = soup.time.attrs['datetime']\n",
    "\n",
    "except:\n",
    "    pass\n",
    "article = {\"title\": title,\n",
    "              'body': text,\n",
    "                 'tckr': tckr,\n",
    "          'date': date}\n",
    "\n",
    "# Quit the browser\n",
    "browser.quit()"
   ]
  },
  {
   "cell_type": "code",
   "execution_count": 30,
   "metadata": {},
   "outputs": [
    {
     "name": "stdout",
     "output_type": "stream",
     "text": [
      "{'body': ['',\n",
      "          'Apple CEO Tim Cook challenged Gen Z to clean up the messes Baby '\n",
      "          'Boomers have left behind.',\n",
      "          '“In some important ways, my generation has failed you,” Cook said '\n",
      "          'Saturday in his commencement speech at Tulane University in New '\n",
      "          'Orleans, La., at the Mercedes-Benz Superdome.',\n",
      "          '“We have spent too much time debating, we have been too focused on '\n",
      "          'the fight, and not focused enough on progress,” Cook, 58 and a '\n",
      "          'member of the Boomer generation, said. Generally, college graduates '\n",
      "          'are part of Generation Z.',\n",
      "          '“You don’t need to look far to find an example of that failure,” '\n",
      "          'Cook said, referring to New Orleans, where he was speaking, which '\n",
      "          'was devastated by Hurricane Katrina in 2005.',\n",
      "          'Cook bore down hard on climate change.',\n",
      "          '“Here today, in this very place, where thousands once found '\n",
      "          'desperate shelter from a hundred-year disaster — the kind that seem '\n",
      "          'to be happening more and more frequently — I don’t think we can '\n",
      "          'talk about who we are as people and what we owe to one another '\n",
      "          'without talking about climate change,” Cook said.',\n",
      "          'Fixing climate change should not be a matter for political debate, '\n",
      "          'Cook said.',\n",
      "          '“This problem doesn’t get any easier based on whose side wins or '\n",
      "          'loses an election. It’s about who has won life’s lottery and has '\n",
      "          'the luxury of ignoring this issue and who stands to lose '\n",
      "          'everything,” Cook said. “The coastal communities, including some '\n",
      "          'right here in Louisiana, that are also making plans to leave behind '\n",
      "          'the places they have called home for generations and head for '\n",
      "          'higher ground. The fisherman who nets come up empty. The wildlife '\n",
      "          'preserves with less wildlife to preserve, the marginalized, for '\n",
      "          'whom a natural disaster can mean enduring poverty.”',\n",
      "          'TWEET: Tim Cook quote Tulane',\n",
      "          'More broadly, Cook called on the class of 2019 to focus on helping '\n",
      "          'others, starting with those who need the most.',\n",
      "          '“When we talk about climate change or any issue with human cost — '\n",
      "          'and there are many — I challenge you to look for those who have the '\n",
      "          'most to lose, and find the real, true empathy that comes from '\n",
      "          'something shared. That is really what we owe one another,” Cook '\n",
      "          'said.',\n",
      "          'From the Big Easy, the tech executive seemed to be taking a shot at '\n",
      "          'the divisiveness taking root in Washington D.C. and corrupting the '\n",
      "          'fabric of the country.',\n",
      "          '“When you do [find empathy], the political noise dies down and you '\n",
      "          'can feel your feet firmly planted on solid ground. After all, we '\n",
      "          'don’t build monuments to trolls and we are not going to start now,” '\n",
      "          'Cook said.',\n",
      "          'To reduce that divisiveness, Cook pleaded with the young graduates '\n",
      "          'to resist entrenched thinking and adopting points of view blindly.',\n",
      "          '“There are some who would like you to believe that the only way you '\n",
      "          'can be strong is by bulldozing those who disagree or never giving '\n",
      "          'them a chance to say their piece in the first place, that the only '\n",
      "          'way you can build your own accomplishments is by tearing down the '\n",
      "          'other side,” he said.\\xa0',\n",
      "          '“We forget sometimes that our preexisting beliefs have their own '\n",
      "          'force of gravity. Today, certain algorithms pull towards you the '\n",
      "          'things you already know, believe or like and they push away '\n",
      "          'everything else. Push back. It shouldn’t be this way,” Cook said. '\n",
      "          '“But in 2019, opening your eyes and seeing things in a new way can '\n",
      "          'be a revolutionary act.”',\n",
      "          'Work to understand the perspectives of those who see an issue '\n",
      "          'differently than you do, Cook said.',\n",
      "          '“Summon the courage not just to hear but to listen. Not just to act '\n",
      "          'but to act together. It can sometimes feel like the odds are '\n",
      "          'stacked against you, that it isn’t worth it. That the critics are '\n",
      "          'too persistent and the problems are too great. But the solution to '\n",
      "          'our problems begin on a human scale by building a shared '\n",
      "          'understanding of the work ahead, and with undertaking it together. '\n",
      "          'at the very least we owe it to teach other to try.”',\n",
      "          'Above all, Cook called upon the graduating class to take action to '\n",
      "          'improve the world they live in.',\n",
      "          '“Whatever you do, don’t make the mistake of being too cautious,” '\n",
      "          'said Cook. “Don’t assume that by staying put, the ground won’t move '\n",
      "          'beneath your feet. The status quo simply won’t last. So get to work '\n",
      "          'on building something better.”',\n",
      "          'See also:',\n",
      "          'Apple CEO Tim Cook: ‘Don’t work for money ... you will never be '\n",
      "          'happy’',\n",
      "          'This start-up turns pollution from factories into fuel that powers '\n",
      "          'cars — and one day planes',\n",
      "          'Apple CEO Tim Cook: ‘The world is full of cynics and you have to '\n",
      "          'tune them out’',\n",
      "          'Like this story? Subscribe to CNBC Make It on YouTube!',\n",
      "          'Get Make It newsletters delivered to your inbox',\n",
      "          'Learn more about the world of CNBC Make It',\n",
      "          '© 2021 CNBC LLC. All Rights Reserved. A Division of NBC Universal'],\n",
      " 'date': '2019-05-18T16:20:36+0000',\n",
      " 'tckr': 'APPL',\n",
      " 'title': 'Apple CEO Tim Cook to the class of 2019: ‘My generation has failed '\n",
      "          'you’'}\n"
     ]
    }
   ],
   "source": [
    "pprint(article)"
   ]
  },
  {
   "cell_type": "code",
   "execution_count": null,
   "metadata": {},
   "outputs": [],
   "source": []
  }
 ],
 "metadata": {
  "kernelspec": {
   "display_name": "Python 3",
   "language": "python",
   "name": "python3"
  },
  "language_info": {
   "codemirror_mode": {
    "name": "ipython",
    "version": 3
   },
   "file_extension": ".py",
   "mimetype": "text/x-python",
   "name": "python",
   "nbconvert_exporter": "python",
   "pygments_lexer": "ipython3",
   "version": "3.8.5"
  }
 },
 "nbformat": 4,
 "nbformat_minor": 4
}
